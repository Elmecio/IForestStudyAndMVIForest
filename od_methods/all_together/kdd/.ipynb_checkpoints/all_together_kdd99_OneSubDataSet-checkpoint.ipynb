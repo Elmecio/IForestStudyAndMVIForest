{
 "cells": [
  {
   "cell_type": "markdown",
   "metadata": {},
   "source": [
    "# Comparaison de LOF, OC-SVM et Isolation Forest"
   ]
  },
  {
   "cell_type": "markdown",
   "metadata": {},
   "source": [
    "## Jeu de données"
   ]
  },
  {
   "cell_type": "markdown",
   "metadata": {},
   "source": [
    "Nous utilisons le jeu de données KDD99CUP"
   ]
  },
  {
   "cell_type": "markdown",
   "metadata": {},
   "source": [
    "## Métriques de comparaison"
   ]
  },
  {
   "cell_type": "code",
   "execution_count": 1,
   "metadata": {},
   "outputs": [],
   "source": [
    "import numpy as np\n",
    "import pandas as pd\n",
    "import matplotlib.pyplot as plt\n",
    "from time import time\n",
    "from sklearn.ensemble import IsolationForest\n",
    "from sklearn.svm import OneClassSVM\n",
    "from sklearn.neighbors import LocalOutlierFactor\n",
    "from sklearn.metrics import confusion_matrix\n",
    "from sklearn.metrics import roc_auc_score\n",
    "from matplotlib.mlab import frange\n",
    "import statistics\n",
    "from sklearn.metrics import confusion_matrix\n",
    "from sklearn.metrics import precision_score, recall_score\n",
    "from sklearn.metrics import f1_score\n",
    "from sklearn.metrics import roc_curve\n"
   ]
  },
  {
   "cell_type": "markdown",
   "metadata": {},
   "source": [
    "## Chargement du jeu de données KDD99-Cup HTTP"
   ]
  },
  {
   "cell_type": "markdown",
   "metadata": {},
   "source": [
    "KDD99-Cup HTTP contient 30 attributs dont le dernier est la classe à expliquer.\n",
    "Il y a 620098 observations dont 1052 anormales.\n",
    "Avec le dernier attribut, nous avons les classes \"o\" pour les anomalies et \"n\" pour les observations normales."
   ]
  },
  {
   "cell_type": "code",
   "execution_count": 2,
   "metadata": {},
   "outputs": [
    {
     "data": {
      "text/html": [
       "<div>\n",
       "<style scoped>\n",
       "    .dataframe tbody tr th:only-of-type {\n",
       "        vertical-align: middle;\n",
       "    }\n",
       "\n",
       "    .dataframe tbody tr th {\n",
       "        vertical-align: top;\n",
       "    }\n",
       "\n",
       "    .dataframe thead th {\n",
       "        text-align: right;\n",
       "    }\n",
       "</style>\n",
       "<table border=\"1\" class=\"dataframe\">\n",
       "  <thead>\n",
       "    <tr style=\"text-align: right;\">\n",
       "      <th></th>\n",
       "      <th>0</th>\n",
       "      <th>1</th>\n",
       "      <th>2</th>\n",
       "      <th>3</th>\n",
       "      <th>4</th>\n",
       "      <th>5</th>\n",
       "      <th>6</th>\n",
       "      <th>7</th>\n",
       "      <th>8</th>\n",
       "      <th>9</th>\n",
       "      <th>...</th>\n",
       "      <th>19</th>\n",
       "      <th>20</th>\n",
       "      <th>21</th>\n",
       "      <th>22</th>\n",
       "      <th>23</th>\n",
       "      <th>24</th>\n",
       "      <th>25</th>\n",
       "      <th>26</th>\n",
       "      <th>27</th>\n",
       "      <th>28</th>\n",
       "    </tr>\n",
       "  </thead>\n",
       "  <tbody>\n",
       "    <tr>\n",
       "      <th>count</th>\n",
       "      <td>620098.000000</td>\n",
       "      <td>620098.000000</td>\n",
       "      <td>6.200980e+05</td>\n",
       "      <td>620098.000000</td>\n",
       "      <td>620098.000000</td>\n",
       "      <td>620098.000000</td>\n",
       "      <td>620098.000000</td>\n",
       "      <td>620098.000000</td>\n",
       "      <td>620098.000000</td>\n",
       "      <td>620098.000000</td>\n",
       "      <td>...</td>\n",
       "      <td>620098.000000</td>\n",
       "      <td>620098.000000</td>\n",
       "      <td>620098.000000</td>\n",
       "      <td>620098.000000</td>\n",
       "      <td>620098.000000</td>\n",
       "      <td>620098.000000</td>\n",
       "      <td>620098.000000</td>\n",
       "      <td>620098.000000</td>\n",
       "      <td>620098.000000</td>\n",
       "      <td>620098.000000</td>\n",
       "    </tr>\n",
       "    <tr>\n",
       "      <th>mean</th>\n",
       "      <td>0.627670</td>\n",
       "      <td>280.374673</td>\n",
       "      <td>4.099298e+03</td>\n",
       "      <td>0.005012</td>\n",
       "      <td>0.912428</td>\n",
       "      <td>0.000947</td>\n",
       "      <td>0.000318</td>\n",
       "      <td>0.000013</td>\n",
       "      <td>0.000010</td>\n",
       "      <td>0.005409</td>\n",
       "      <td>...</td>\n",
       "      <td>127.698101</td>\n",
       "      <td>244.485422</td>\n",
       "      <td>0.996744</td>\n",
       "      <td>0.000796</td>\n",
       "      <td>0.074723</td>\n",
       "      <td>0.031820</td>\n",
       "      <td>0.001920</td>\n",
       "      <td>0.001473</td>\n",
       "      <td>0.087651</td>\n",
       "      <td>0.086732</td>\n",
       "    </tr>\n",
       "    <tr>\n",
       "      <th>std</th>\n",
       "      <td>53.972528</td>\n",
       "      <td>1509.901935</td>\n",
       "      <td>2.369388e+04</td>\n",
       "      <td>0.098271</td>\n",
       "      <td>0.282671</td>\n",
       "      <td>0.045654</td>\n",
       "      <td>0.017821</td>\n",
       "      <td>0.003592</td>\n",
       "      <td>0.003111</td>\n",
       "      <td>0.073346</td>\n",
       "      <td>...</td>\n",
       "      <td>105.897233</td>\n",
       "      <td>40.458619</td>\n",
       "      <td>0.033137</td>\n",
       "      <td>0.009522</td>\n",
       "      <td>0.185812</td>\n",
       "      <td>0.050689</td>\n",
       "      <td>0.030694</td>\n",
       "      <td>0.028037</td>\n",
       "      <td>0.274777</td>\n",
       "      <td>0.268543</td>\n",
       "    </tr>\n",
       "    <tr>\n",
       "      <th>min</th>\n",
       "      <td>0.000000</td>\n",
       "      <td>0.000000</td>\n",
       "      <td>0.000000e+00</td>\n",
       "      <td>0.000000</td>\n",
       "      <td>0.000000</td>\n",
       "      <td>0.000000</td>\n",
       "      <td>0.000000</td>\n",
       "      <td>0.000000</td>\n",
       "      <td>0.000000</td>\n",
       "      <td>0.000000</td>\n",
       "      <td>...</td>\n",
       "      <td>0.000000</td>\n",
       "      <td>0.000000</td>\n",
       "      <td>0.000000</td>\n",
       "      <td>0.000000</td>\n",
       "      <td>0.000000</td>\n",
       "      <td>0.000000</td>\n",
       "      <td>0.000000</td>\n",
       "      <td>0.000000</td>\n",
       "      <td>0.000000</td>\n",
       "      <td>0.000000</td>\n",
       "    </tr>\n",
       "    <tr>\n",
       "      <th>25%</th>\n",
       "      <td>0.000000</td>\n",
       "      <td>210.000000</td>\n",
       "      <td>4.580000e+02</td>\n",
       "      <td>0.000000</td>\n",
       "      <td>1.000000</td>\n",
       "      <td>0.000000</td>\n",
       "      <td>0.000000</td>\n",
       "      <td>0.000000</td>\n",
       "      <td>0.000000</td>\n",
       "      <td>0.000000</td>\n",
       "      <td>...</td>\n",
       "      <td>22.000000</td>\n",
       "      <td>255.000000</td>\n",
       "      <td>1.000000</td>\n",
       "      <td>0.000000</td>\n",
       "      <td>0.000000</td>\n",
       "      <td>0.000000</td>\n",
       "      <td>0.000000</td>\n",
       "      <td>0.000000</td>\n",
       "      <td>0.000000</td>\n",
       "      <td>0.000000</td>\n",
       "    </tr>\n",
       "    <tr>\n",
       "      <th>50%</th>\n",
       "      <td>0.000000</td>\n",
       "      <td>240.000000</td>\n",
       "      <td>1.425000e+03</td>\n",
       "      <td>0.000000</td>\n",
       "      <td>1.000000</td>\n",
       "      <td>0.000000</td>\n",
       "      <td>0.000000</td>\n",
       "      <td>0.000000</td>\n",
       "      <td>0.000000</td>\n",
       "      <td>0.000000</td>\n",
       "      <td>...</td>\n",
       "      <td>96.000000</td>\n",
       "      <td>255.000000</td>\n",
       "      <td>1.000000</td>\n",
       "      <td>0.000000</td>\n",
       "      <td>0.010000</td>\n",
       "      <td>0.020000</td>\n",
       "      <td>0.000000</td>\n",
       "      <td>0.000000</td>\n",
       "      <td>0.000000</td>\n",
       "      <td>0.000000</td>\n",
       "    </tr>\n",
       "    <tr>\n",
       "      <th>75%</th>\n",
       "      <td>0.000000</td>\n",
       "      <td>302.000000</td>\n",
       "      <td>3.731000e+03</td>\n",
       "      <td>0.000000</td>\n",
       "      <td>1.000000</td>\n",
       "      <td>0.000000</td>\n",
       "      <td>0.000000</td>\n",
       "      <td>0.000000</td>\n",
       "      <td>0.000000</td>\n",
       "      <td>0.000000</td>\n",
       "      <td>...</td>\n",
       "      <td>255.000000</td>\n",
       "      <td>255.000000</td>\n",
       "      <td>1.000000</td>\n",
       "      <td>0.000000</td>\n",
       "      <td>0.050000</td>\n",
       "      <td>0.040000</td>\n",
       "      <td>0.000000</td>\n",
       "      <td>0.000000</td>\n",
       "      <td>0.000000</td>\n",
       "      <td>0.000000</td>\n",
       "    </tr>\n",
       "    <tr>\n",
       "      <th>max</th>\n",
       "      <td>41065.000000</td>\n",
       "      <td>54540.000000</td>\n",
       "      <td>1.173059e+07</td>\n",
       "      <td>21.000000</td>\n",
       "      <td>1.000000</td>\n",
       "      <td>21.000000</td>\n",
       "      <td>1.000000</td>\n",
       "      <td>1.000000</td>\n",
       "      <td>1.000000</td>\n",
       "      <td>1.000000</td>\n",
       "      <td>...</td>\n",
       "      <td>255.000000</td>\n",
       "      <td>255.000000</td>\n",
       "      <td>1.000000</td>\n",
       "      <td>1.000000</td>\n",
       "      <td>1.000000</td>\n",
       "      <td>1.000000</td>\n",
       "      <td>1.000000</td>\n",
       "      <td>1.000000</td>\n",
       "      <td>1.000000</td>\n",
       "      <td>1.000000</td>\n",
       "    </tr>\n",
       "  </tbody>\n",
       "</table>\n",
       "<p>8 rows × 29 columns</p>\n",
       "</div>"
      ],
      "text/plain": [
       "                  0              1             2              3   \\\n",
       "count  620098.000000  620098.000000  6.200980e+05  620098.000000   \n",
       "mean        0.627670     280.374673  4.099298e+03       0.005012   \n",
       "std        53.972528    1509.901935  2.369388e+04       0.098271   \n",
       "min         0.000000       0.000000  0.000000e+00       0.000000   \n",
       "25%         0.000000     210.000000  4.580000e+02       0.000000   \n",
       "50%         0.000000     240.000000  1.425000e+03       0.000000   \n",
       "75%         0.000000     302.000000  3.731000e+03       0.000000   \n",
       "max     41065.000000   54540.000000  1.173059e+07      21.000000   \n",
       "\n",
       "                  4              5              6              7   \\\n",
       "count  620098.000000  620098.000000  620098.000000  620098.000000   \n",
       "mean        0.912428       0.000947       0.000318       0.000013   \n",
       "std         0.282671       0.045654       0.017821       0.003592   \n",
       "min         0.000000       0.000000       0.000000       0.000000   \n",
       "25%         1.000000       0.000000       0.000000       0.000000   \n",
       "50%         1.000000       0.000000       0.000000       0.000000   \n",
       "75%         1.000000       0.000000       0.000000       0.000000   \n",
       "max         1.000000      21.000000       1.000000       1.000000   \n",
       "\n",
       "                  8              9   ...             19             20  \\\n",
       "count  620098.000000  620098.000000  ...  620098.000000  620098.000000   \n",
       "mean        0.000010       0.005409  ...     127.698101     244.485422   \n",
       "std         0.003111       0.073346  ...     105.897233      40.458619   \n",
       "min         0.000000       0.000000  ...       0.000000       0.000000   \n",
       "25%         0.000000       0.000000  ...      22.000000     255.000000   \n",
       "50%         0.000000       0.000000  ...      96.000000     255.000000   \n",
       "75%         0.000000       0.000000  ...     255.000000     255.000000   \n",
       "max         1.000000       1.000000  ...     255.000000     255.000000   \n",
       "\n",
       "                  21             22             23             24  \\\n",
       "count  620098.000000  620098.000000  620098.000000  620098.000000   \n",
       "mean        0.996744       0.000796       0.074723       0.031820   \n",
       "std         0.033137       0.009522       0.185812       0.050689   \n",
       "min         0.000000       0.000000       0.000000       0.000000   \n",
       "25%         1.000000       0.000000       0.000000       0.000000   \n",
       "50%         1.000000       0.000000       0.010000       0.020000   \n",
       "75%         1.000000       0.000000       0.050000       0.040000   \n",
       "max         1.000000       1.000000       1.000000       1.000000   \n",
       "\n",
       "                  25             26             27             28  \n",
       "count  620098.000000  620098.000000  620098.000000  620098.000000  \n",
       "mean        0.001920       0.001473       0.087651       0.086732  \n",
       "std         0.030694       0.028037       0.274777       0.268543  \n",
       "min         0.000000       0.000000       0.000000       0.000000  \n",
       "25%         0.000000       0.000000       0.000000       0.000000  \n",
       "50%         0.000000       0.000000       0.000000       0.000000  \n",
       "75%         0.000000       0.000000       0.000000       0.000000  \n",
       "max         1.000000       1.000000       1.000000       1.000000  \n",
       "\n",
       "[8 rows x 29 columns]"
      ]
     },
     "execution_count": 2,
     "metadata": {},
     "output_type": "execute_result"
    }
   ],
   "source": [
    "data_brut_KDD99CUP = pd.read_csv('/Users/thesard/Doctorat/These2018/ISEP/Developpements/EspaceIntelliJ/LearningAllInPython/Learning_IHM_Features/datasets/imported_datasets/kdd99-unsupervised-ad_2019-06-24 16:08:29.815617.csv', header=None, index_col=None)\n",
    "X_KDD99CUP = data_brut_KDD99CUP[[0, 1, 2, 3, 4, 5, 6, 7, 8, 9, 10, 11, 12, 13 ,14, 15, 16, 17, 18, 19, 20, 21, 22, 23, 24, 25, 26, 27, 28]]\n",
    "y_brut_KDD99CUP = data_brut_KDD99CUP[[29]]\n",
    "data_brut_KDD99CUP.describe()"
   ]
  },
  {
   "cell_type": "code",
   "execution_count": 3,
   "metadata": {},
   "outputs": [
    {
     "data": {
      "text/plain": [
       "175.33333333333334"
      ]
     },
     "execution_count": 3,
     "metadata": {},
     "output_type": "execute_result"
    }
   ],
   "source": [
    "# Nombre d'anomalies\n",
    "n_outliers = data_brut_KDD99CUP[data_brut_KDD99CUP[29] == 'o']\n",
    "len(n_outliers)/6"
   ]
  },
  {
   "cell_type": "code",
   "execution_count": 4,
   "metadata": {},
   "outputs": [
    {
     "data": {
      "text/plain": [
       "0.0016965060361426743"
      ]
     },
     "execution_count": 4,
     "metadata": {},
     "output_type": "execute_result"
    }
   ],
   "source": [
    "#Pourcentage d'anomalies\n",
    "pourcentage_anomalies = len(n_outliers)/len(data_brut_KDD99CUP)\n",
    "pourcentage_anomalies"
   ]
  },
  {
   "cell_type": "code",
   "execution_count": 5,
   "metadata": {},
   "outputs": [
    {
     "data": {
      "text/plain": [
       "103174.33333333333"
      ]
     },
     "execution_count": 5,
     "metadata": {},
     "output_type": "execute_result"
    }
   ],
   "source": [
    "# Nombre de données normales\n",
    "n_normals = data_brut_KDD99CUP[data_brut_KDD99CUP[29] == 'n']\n",
    "len(n_normals)/6"
   ]
  },
  {
   "cell_type": "code",
   "execution_count": 6,
   "metadata": {},
   "outputs": [
    {
     "data": {
      "text/plain": [
       "0.9983034939638573"
      ]
     },
     "execution_count": 6,
     "metadata": {},
     "output_type": "execute_result"
    }
   ],
   "source": [
    "#Pourcentage de données normales\n",
    "pourcentage_normales = len(n_normals)/len(data_brut_KDD99CUP)\n",
    "pourcentage_normales"
   ]
  },
  {
   "cell_type": "markdown",
   "metadata": {},
   "source": [
    "## Spliter le jeu de donner pour réduire la taille\n",
    "Ceci sera fait en tenant compte du taux d'anomalies dans le jeu de données principale.\n",
    "On aura au final 6 sous jeux de données sur lesquels chaque méthode sera appliquée. \n",
    "La moyenne des résultats sera alors le résultat à retenir pour tout le jeu de données.\n",
    "NB: \n",
    "    - CPU Time = Somme\n",
    "    - Précion  = Moyenne ou Somme des différentes matrices de confusion\n",
    "    - Rappel   = Moyenne ou Somme des différentes matrices de confusion\n",
    "    - ROC AUC  = Moyenne\n",
    "    - f1-score = Moyenne\n",
    "    - TNBC     = Moyenne ou Somme des différentes matrices de confusion\n",
    "    - TPBC     = Moyenne ou Somme des différentes matrices de confusion"
   ]
  },
  {
   "cell_type": "code",
   "execution_count": 7,
   "metadata": {},
   "outputs": [],
   "source": [
    "# Spliter à l'aide Stratifield mais ça ne donne pas le résultat que je veux. ça donne 6 jeux d'entrainement et\n",
    "# et de test, tous de même taille dont la somme des jeux de test et d'entrainement donne la taille du jeu de \n",
    "# données original.\n",
    "#from sklearn.model_selection import StratifiedShuffleSplit\n",
    "#split = StratifiedShuffleSplit(n_splits=6, test_size=0.16965060361426743, random_state=42)\n",
    "#i = 0\n",
    "#for train_index, test_index in split.split(data_brut_KDD99CUP, data_brut_KDD99CUP[29]):\n",
    "#    i=i+1\n",
    "#    strat_train_set = data_brut_KDD99CUP.loc[train_index]\n",
    "#    print(\"train :\"+str(i))\n",
    "#    #print(strat_train_set)\n",
    "#    print(\"Taille =\"+str(len(strat_train_set)))\n",
    "#    strat_train_outliers = strat_train_set[strat_train_set[29] == 'o']\n",
    "#    strat_train_normals  = strat_train_set[strat_train_set[29] == 'n']\n",
    "#    print(\"n_outliers =\"+str(len(strat_train_outliers)/(len(strat_train_outliers) + len(strat_train_normals))))\n",
    "#    print(\"%_outliers =\"+str(len(strat_train_outliers)))\n",
    "#    print(\"n_normals  =\"+str(len(strat_train_normals)))\n",
    "#    print(\"%_normals  =\"+str(len(strat_train_normals)/(len(strat_train_outliers) + len(strat_train_normals))))\n",
    "#    strat_test_set = data_brut_KDD99CUP.loc[test_index]\n",
    "#    print(\"test :\"+str(i))\n",
    "#    #print(strat_test_set)\n",
    "#    print(\"Taille =\"+str(len(strat_test_set)))\n",
    "#    strat_test_outliers = strat_test_set[strat_test_set[29] == 'o']\n",
    "#    strat_test_normals  = strat_test_set[strat_test_set[29] == 'n']\n",
    "#    print(\"n_outliers =\"+str(len(strat_test_outliers)))\n",
    "#    print(\"%_outliers =\"+str(len(strat_test_outliers)/(len(strat_test_outliers) + len(strat_test_normals))))\n",
    "#    print(\"n_normals  =\"+str(len(strat_test_normals)))\n",
    "#    print(\"%_normals  =\"+str(len(strat_test_normals)/(len(strat_test_outliers) + len(strat_test_normals))))\n",
    "#    print(\"\\n\")"
   ]
  },
  {
   "cell_type": "code",
   "execution_count": 8,
   "metadata": {},
   "outputs": [
    {
     "name": "stdout",
     "output_type": "stream",
     "text": [
      "Length normals subset 1 = 103175\n",
      "Length outliers subset 1 = 176\n",
      "Length normals subset 2 = 103175\n",
      "Length outliers subset 2 = 176\n",
      "Length normals subset 3 = 103175\n",
      "Length outliers subset 3 = 176\n",
      "Length normals subset 4 = 103175\n",
      "Length outliers subset 4 = 176\n",
      "Length normals subset 5 = 103175\n",
      "Length outliers subset 5 = 176\n",
      "Length normals subset 6 = 103171\n",
      "Length outliers subset 6 = 172\n"
     ]
    }
   ],
   "source": [
    "# Subset the dataset by myself\n",
    "import math\n",
    "n_i_min = 0\n",
    "o_i_min = 0\n",
    "n_i_max = math.ceil(len(n_normals)/6)\n",
    "o_i_max = math.ceil(len(n_outliers)/6)\n",
    "n_sub_dataset_1 = n_normals[n_i_min:n_i_max]\n",
    "print(\"Length normals subset 1 = \"+str(len(n_sub_dataset_1)))\n",
    "o_sub_dataset_1 = n_outliers[o_i_min:o_i_max]\n",
    "print(\"Length outliers subset 1 = \"+str(len(o_sub_dataset_1)))\n",
    "\n",
    "n_i_min = n_i_max\n",
    "o_i_min = o_i_max\n",
    "n_i_max = n_i_max + math.ceil(len(n_normals)/6)\n",
    "o_i_max = o_i_max + math.ceil(len(n_outliers)/6)\n",
    "n_sub_dataset_2 = n_normals[n_i_min:n_i_max]\n",
    "print(\"Length normals subset 2 = \"+str(len(n_sub_dataset_2)))\n",
    "o_sub_dataset_2 = n_outliers[o_i_min:o_i_max]\n",
    "print(\"Length outliers subset 2 = \"+str(len(o_sub_dataset_2)))\n",
    "\n",
    "n_i_min = n_i_max\n",
    "o_i_min = o_i_max\n",
    "n_i_max = n_i_max + math.ceil(len(n_normals)/6)\n",
    "o_i_max = o_i_max + math.ceil(len(n_outliers)/6)\n",
    "n_sub_dataset_3 = n_normals[n_i_min:n_i_max]\n",
    "print(\"Length normals subset 3 = \"+str(len(n_sub_dataset_3)))\n",
    "o_sub_dataset_3 = n_outliers[o_i_min:o_i_max]\n",
    "print(\"Length outliers subset 3 = \"+str(len(o_sub_dataset_3)))\n",
    "\n",
    "n_i_min = n_i_max\n",
    "o_i_min = o_i_max\n",
    "n_i_max = n_i_max + math.ceil(len(n_normals)/6)\n",
    "o_i_max = o_i_max + math.ceil(len(n_outliers)/6)\n",
    "n_sub_dataset_4 = n_normals[n_i_min:n_i_max]\n",
    "print(\"Length normals subset 4 = \"+str(len(n_sub_dataset_4)))\n",
    "o_sub_dataset_4 = n_outliers[o_i_min:o_i_max]\n",
    "print(\"Length outliers subset 4 = \"+str(len(o_sub_dataset_4)))\n",
    "\n",
    "n_i_min = n_i_max\n",
    "o_i_min = o_i_max\n",
    "n_i_max = n_i_max + math.ceil(len(n_normals)/6)\n",
    "o_i_max = o_i_max + math.ceil(len(n_outliers)/6)\n",
    "n_sub_dataset_5 = n_normals[n_i_min:n_i_max]\n",
    "print(\"Length normals subset 5 = \"+str(len(n_sub_dataset_5)))\n",
    "o_sub_dataset_5 = n_outliers[o_i_min:o_i_max]\n",
    "print(\"Length outliers subset 5 = \"+str(len(o_sub_dataset_5)))\n",
    "\n",
    "n_i_min = n_i_max\n",
    "o_i_min = o_i_max\n",
    "n_i_max = n_i_max + math.ceil(len(n_normals)/6)\n",
    "o_i_max = o_i_max + math.ceil(len(n_outliers)/6)\n",
    "n_sub_dataset_6 = n_normals[n_i_min:n_i_max]\n",
    "print(\"Length normals subset 6 = \"+str(len(n_sub_dataset_6)))\n",
    "o_sub_dataset_6 = n_outliers[o_i_min:o_i_max]\n",
    "print(\"Length outliers subset 6 = \"+str(len(o_sub_dataset_6)))"
   ]
  },
  {
   "cell_type": "markdown",
   "metadata": {},
   "source": [
    "## Fusion des deux sub_datasets (normales + anomalies)"
   ]
  },
  {
   "cell_type": "code",
   "execution_count": 9,
   "metadata": {},
   "outputs": [],
   "source": [
    "# Fusion of the sub_datasets\n",
    "sub_dataset_1 = n_sub_dataset_1.append(o_sub_dataset_1, ignore_index=True, sort=False)\n",
    "sub_dataset_2 = n_sub_dataset_2.append(o_sub_dataset_2, ignore_index=True, sort=False)\n",
    "sub_dataset_3 = n_sub_dataset_3.append(o_sub_dataset_3, ignore_index=True, sort=False)\n",
    "sub_dataset_4 = n_sub_dataset_4.append(o_sub_dataset_4, ignore_index=True, sort=False)\n",
    "sub_dataset_5 = n_sub_dataset_5.append(o_sub_dataset_5, ignore_index=True, sort=False)\n",
    "sub_dataset_6 = n_sub_dataset_6.append(o_sub_dataset_6, ignore_index=True, sort=False)\n",
    "#Doubler le nombre d'outlier pour voir l'effet sur les méthodes\n",
    "sub_dataset_1 = sub_dataset_1.append(o_sub_dataset_2, ignore_index=True, sort=False)\n",
    "#sub_dataset_6.describe()\n",
    "# Détacher la classe à expliquer des autres classes\n",
    "X_sub_dataset_1 = sub_dataset_1[[0, 1, 2, 3, 4, 5, 6, 7, 8, 9, 10, 11, 12, 13 ,14, 15, 16, 17, 18, 19, 20, 21, 22, 23, 24, 25, 26, 27, 28]]\n",
    "y_sub_dataset_1 = sub_dataset_1[[29]]\n",
    "X_sub_dataset_2 = sub_dataset_2[[0, 1, 2, 3, 4, 5, 6, 7, 8, 9, 10, 11, 12, 13 ,14, 15, 16, 17, 18, 19, 20, 21, 22, 23, 24, 25, 26, 27, 28]]\n",
    "y_sub_dataset_2 = sub_dataset_2[[29]]\n",
    "X_sub_dataset_3 = sub_dataset_3[[0, 1, 2, 3, 4, 5, 6, 7, 8, 9, 10, 11, 12, 13 ,14, 15, 16, 17, 18, 19, 20, 21, 22, 23, 24, 25, 26, 27, 28]]\n",
    "y_sub_dataset_3 = sub_dataset_3[[29]]\n",
    "X_sub_dataset_4 = sub_dataset_4[[0, 1, 2, 3, 4, 5, 6, 7, 8, 9, 10, 11, 12, 13 ,14, 15, 16, 17, 18, 19, 20, 21, 22, 23, 24, 25, 26, 27, 28]]\n",
    "y_sub_dataset_4 = sub_dataset_4[[29]]\n",
    "X_sub_dataset_5 = sub_dataset_5[[0, 1, 2, 3, 4, 5, 6, 7, 8, 9, 10, 11, 12, 13 ,14, 15, 16, 17, 18, 19, 20, 21, 22, 23, 24, 25, 26, 27, 28]]\n",
    "y_sub_dataset_5 = sub_dataset_5[[29]]\n",
    "X_sub_dataset_6 = sub_dataset_6[[0, 1, 2, 3, 4, 5, 6, 7, 8, 9, 10, 11, 12, 13 ,14, 15, 16, 17, 18, 19, 20, 21, 22, 23, 24, 25, 26, 27, 28]]\n",
    "y_sub_dataset_6 = sub_dataset_6[[29]]\n"
   ]
  },
  {
   "cell_type": "markdown",
   "metadata": {},
   "source": [
    "## Transformation de la classe à expliquer"
   ]
  },
  {
   "cell_type": "markdown",
   "metadata": {},
   "source": [
    "L'objectif ici est de remplacer les \"o\" par -1 et les \"n\" par 1 afin de faire les matrices de confusion avec la fonction dédiée de scikit-learn."
   ]
  },
  {
   "cell_type": "code",
   "execution_count": 10,
   "metadata": {},
   "outputs": [],
   "source": [
    "y_transform_KDD99CUP      = y_brut_KDD99CUP\n",
    "y_transform_KDD99CUP      = np.where(y_transform_KDD99CUP =='o',-1,1)\n",
    "#y_transform_KDD99CUP\n",
    "\n",
    "y_transform_sub_dataset_6 = np.where(y_sub_dataset_6 =='o',-1,1)\n",
    "y_transform_sub_dataset_5 = np.where(y_sub_dataset_5 =='o',-1,1)\n",
    "y_transform_sub_dataset_4 = np.where(y_sub_dataset_4 =='o',-1,1)\n",
    "y_transform_sub_dataset_3 = np.where(y_sub_dataset_3 =='o',-1,1)\n",
    "y_transform_sub_dataset_2 = np.where(y_sub_dataset_2 =='o',-1,1)\n",
    "y_transform_sub_dataset_1 = np.where(y_sub_dataset_1 =='o',-1,1)"
   ]
  },
  {
   "cell_type": "markdown",
   "metadata": {},
   "source": [
    "## KDD99CUP"
   ]
  },
  {
   "cell_type": "markdown",
   "metadata": {},
   "source": [
    "### Exécution de Isolation Forest sur le jeux de données KDD99CUP."
   ]
  },
  {
   "cell_type": "code",
   "execution_count": 11,
   "metadata": {},
   "outputs": [
    {
     "name": "stderr",
     "output_type": "stream",
     "text": [
      "/Users/thesard/anaconda3/lib/python3.7/site-packages/sklearn/ensemble/iforest.py:213: FutureWarning: default contamination parameter 0.1 will change in version 0.22 to \"auto\". This will change the predict method behavior.\n",
      "  FutureWarning)\n",
      "/Users/thesard/anaconda3/lib/python3.7/site-packages/sklearn/ensemble/iforest.py:223: FutureWarning: behaviour=\"old\" is deprecated and will be removed in version 0.22. Please use behaviour=\"new\", which makes the decision_function change to match other anomaly detection algorithm API.\n",
      "  FutureWarning)\n",
      "/Users/thesard/anaconda3/lib/python3.7/site-packages/sklearn/ensemble/iforest.py:417: DeprecationWarning: threshold_ attribute is deprecated in 0.20 and will be removed in 0.22.\n",
      "  \" be removed in 0.22.\", DeprecationWarning)\n"
     ]
    },
    {
     "name": "stdout",
     "output_type": "stream",
     "text": [
      "Execution time of IsolationForest applied on KDD99CUP (in second)\n",
      "[1.005812168121338]\n",
      "ROC AUC for Isolation Forest applied on KDD99CUP\n",
      "[0.9507681124303369]\n"
     ]
    },
    {
     "name": "stderr",
     "output_type": "stream",
     "text": [
      "/Users/thesard/anaconda3/lib/python3.7/site-packages/sklearn/ensemble/iforest.py:213: FutureWarning: default contamination parameter 0.1 will change in version 0.22 to \"auto\". This will change the predict method behavior.\n",
      "  FutureWarning)\n",
      "/Users/thesard/anaconda3/lib/python3.7/site-packages/sklearn/ensemble/iforest.py:223: FutureWarning: behaviour=\"old\" is deprecated and will be removed in version 0.22. Please use behaviour=\"new\", which makes the decision_function change to match other anomaly detection algorithm API.\n",
      "  FutureWarning)\n",
      "/Users/thesard/anaconda3/lib/python3.7/site-packages/sklearn/ensemble/iforest.py:417: DeprecationWarning: threshold_ attribute is deprecated in 0.20 and will be removed in 0.22.\n",
      "  \" be removed in 0.22.\", DeprecationWarning)\n"
     ]
    },
    {
     "name": "stdout",
     "output_type": "stream",
     "text": [
      "Execution time of IsolationForest applied on KDD99CUP (in second)\n",
      "[1.8286850452423096]\n",
      "ROC AUC for Isolation Forest applied on KDD99CUP\n",
      "[0.9450766019781042]\n"
     ]
    },
    {
     "name": "stderr",
     "output_type": "stream",
     "text": [
      "/Users/thesard/anaconda3/lib/python3.7/site-packages/sklearn/ensemble/iforest.py:213: FutureWarning: default contamination parameter 0.1 will change in version 0.22 to \"auto\". This will change the predict method behavior.\n",
      "  FutureWarning)\n",
      "/Users/thesard/anaconda3/lib/python3.7/site-packages/sklearn/ensemble/iforest.py:223: FutureWarning: behaviour=\"old\" is deprecated and will be removed in version 0.22. Please use behaviour=\"new\", which makes the decision_function change to match other anomaly detection algorithm API.\n",
      "  FutureWarning)\n",
      "/Users/thesard/anaconda3/lib/python3.7/site-packages/sklearn/ensemble/iforest.py:417: DeprecationWarning: threshold_ attribute is deprecated in 0.20 and will be removed in 0.22.\n",
      "  \" be removed in 0.22.\", DeprecationWarning)\n"
     ]
    },
    {
     "name": "stdout",
     "output_type": "stream",
     "text": [
      "Execution time of IsolationForest applied on KDD99CUP (in second)\n",
      "[2.8137331008911133]\n",
      "ROC AUC for Isolation Forest applied on KDD99CUP\n",
      "[0.9507681124303369]\n"
     ]
    },
    {
     "name": "stderr",
     "output_type": "stream",
     "text": [
      "/Users/thesard/anaconda3/lib/python3.7/site-packages/sklearn/ensemble/iforest.py:213: FutureWarning: default contamination parameter 0.1 will change in version 0.22 to \"auto\". This will change the predict method behavior.\n",
      "  FutureWarning)\n",
      "/Users/thesard/anaconda3/lib/python3.7/site-packages/sklearn/ensemble/iforest.py:223: FutureWarning: behaviour=\"old\" is deprecated and will be removed in version 0.22. Please use behaviour=\"new\", which makes the decision_function change to match other anomaly detection algorithm API.\n",
      "  FutureWarning)\n",
      "/Users/thesard/anaconda3/lib/python3.7/site-packages/sklearn/ensemble/iforest.py:417: DeprecationWarning: threshold_ attribute is deprecated in 0.20 and will be removed in 0.22.\n",
      "  \" be removed in 0.22.\", DeprecationWarning)\n"
     ]
    },
    {
     "name": "stdout",
     "output_type": "stream",
     "text": [
      "Execution time of IsolationForest applied on KDD99CUP (in second)\n",
      "[3.6294209957122803]\n",
      "ROC AUC for Isolation Forest applied on KDD99CUP\n",
      "[0.9507681124303369]\n"
     ]
    },
    {
     "name": "stderr",
     "output_type": "stream",
     "text": [
      "/Users/thesard/anaconda3/lib/python3.7/site-packages/sklearn/ensemble/iforest.py:213: FutureWarning: default contamination parameter 0.1 will change in version 0.22 to \"auto\". This will change the predict method behavior.\n",
      "  FutureWarning)\n",
      "/Users/thesard/anaconda3/lib/python3.7/site-packages/sklearn/ensemble/iforest.py:223: FutureWarning: behaviour=\"old\" is deprecated and will be removed in version 0.22. Please use behaviour=\"new\", which makes the decision_function change to match other anomaly detection algorithm API.\n",
      "  FutureWarning)\n",
      "/Users/thesard/anaconda3/lib/python3.7/site-packages/sklearn/ensemble/iforest.py:417: DeprecationWarning: threshold_ attribute is deprecated in 0.20 and will be removed in 0.22.\n",
      "  \" be removed in 0.22.\", DeprecationWarning)\n"
     ]
    },
    {
     "name": "stdout",
     "output_type": "stream",
     "text": [
      "Execution time of IsolationForest applied on KDD99CUP (in second)\n",
      "[4.574329137802124]\n",
      "ROC AUC for Isolation Forest applied on KDD99CUP\n",
      "[0.942230846751988]\n"
     ]
    },
    {
     "name": "stderr",
     "output_type": "stream",
     "text": [
      "/Users/thesard/anaconda3/lib/python3.7/site-packages/sklearn/ensemble/iforest.py:213: FutureWarning: default contamination parameter 0.1 will change in version 0.22 to \"auto\". This will change the predict method behavior.\n",
      "  FutureWarning)\n",
      "/Users/thesard/anaconda3/lib/python3.7/site-packages/sklearn/ensemble/iforest.py:223: FutureWarning: behaviour=\"old\" is deprecated and will be removed in version 0.22. Please use behaviour=\"new\", which makes the decision_function change to match other anomaly detection algorithm API.\n",
      "  FutureWarning)\n",
      "/Users/thesard/anaconda3/lib/python3.7/site-packages/sklearn/ensemble/iforest.py:417: DeprecationWarning: threshold_ attribute is deprecated in 0.20 and will be removed in 0.22.\n",
      "  \" be removed in 0.22.\", DeprecationWarning)\n"
     ]
    },
    {
     "name": "stdout",
     "output_type": "stream",
     "text": [
      "Execution time of IsolationForest applied on KDD99CUP (in second)\n",
      "[5.406002044677734]\n",
      "ROC AUC for Isolation Forest applied on KDD99CUP\n",
      "[0.9507681124303369]\n"
     ]
    },
    {
     "name": "stderr",
     "output_type": "stream",
     "text": [
      "/Users/thesard/anaconda3/lib/python3.7/site-packages/sklearn/ensemble/iforest.py:213: FutureWarning: default contamination parameter 0.1 will change in version 0.22 to \"auto\". This will change the predict method behavior.\n",
      "  FutureWarning)\n",
      "/Users/thesard/anaconda3/lib/python3.7/site-packages/sklearn/ensemble/iforest.py:223: FutureWarning: behaviour=\"old\" is deprecated and will be removed in version 0.22. Please use behaviour=\"new\", which makes the decision_function change to match other anomaly detection algorithm API.\n",
      "  FutureWarning)\n",
      "/Users/thesard/anaconda3/lib/python3.7/site-packages/sklearn/ensemble/iforest.py:417: DeprecationWarning: threshold_ attribute is deprecated in 0.20 and will be removed in 0.22.\n",
      "  \" be removed in 0.22.\", DeprecationWarning)\n"
     ]
    },
    {
     "name": "stdout",
     "output_type": "stream",
     "text": [
      "Execution time of IsolationForest applied on KDD99CUP (in second)\n",
      "[6.241639137268066]\n",
      "ROC AUC for Isolation Forest applied on KDD99CUP\n",
      "[0.9507681124303369]\n"
     ]
    },
    {
     "name": "stderr",
     "output_type": "stream",
     "text": [
      "/Users/thesard/anaconda3/lib/python3.7/site-packages/sklearn/ensemble/iforest.py:213: FutureWarning: default contamination parameter 0.1 will change in version 0.22 to \"auto\". This will change the predict method behavior.\n",
      "  FutureWarning)\n",
      "/Users/thesard/anaconda3/lib/python3.7/site-packages/sklearn/ensemble/iforest.py:223: FutureWarning: behaviour=\"old\" is deprecated and will be removed in version 0.22. Please use behaviour=\"new\", which makes the decision_function change to match other anomaly detection algorithm API.\n",
      "  FutureWarning)\n",
      "/Users/thesard/anaconda3/lib/python3.7/site-packages/sklearn/ensemble/iforest.py:417: DeprecationWarning: threshold_ attribute is deprecated in 0.20 and will be removed in 0.22.\n",
      "  \" be removed in 0.22.\", DeprecationWarning)\n"
     ]
    },
    {
     "name": "stdout",
     "output_type": "stream",
     "text": [
      "Execution time of IsolationForest applied on KDD99CUP (in second)\n",
      "[8.099387884140015]\n",
      "ROC AUC for Isolation Forest applied on KDD99CUP\n",
      "[0.9450766019781042]\n"
     ]
    },
    {
     "name": "stderr",
     "output_type": "stream",
     "text": [
      "/Users/thesard/anaconda3/lib/python3.7/site-packages/sklearn/ensemble/iforest.py:213: FutureWarning: default contamination parameter 0.1 will change in version 0.22 to \"auto\". This will change the predict method behavior.\n",
      "  FutureWarning)\n",
      "/Users/thesard/anaconda3/lib/python3.7/site-packages/sklearn/ensemble/iforest.py:223: FutureWarning: behaviour=\"old\" is deprecated and will be removed in version 0.22. Please use behaviour=\"new\", which makes the decision_function change to match other anomaly detection algorithm API.\n",
      "  FutureWarning)\n",
      "/Users/thesard/anaconda3/lib/python3.7/site-packages/sklearn/ensemble/iforest.py:417: DeprecationWarning: threshold_ attribute is deprecated in 0.20 and will be removed in 0.22.\n",
      "  \" be removed in 0.22.\", DeprecationWarning)\n"
     ]
    },
    {
     "name": "stdout",
     "output_type": "stream",
     "text": [
      "Execution time of IsolationForest applied on KDD99CUP (in second)\n",
      "[10.536028146743774]\n",
      "ROC AUC for Isolation Forest applied on KDD99CUP\n",
      "[0.9507681124303369]\n"
     ]
    },
    {
     "name": "stderr",
     "output_type": "stream",
     "text": [
      "/Users/thesard/anaconda3/lib/python3.7/site-packages/sklearn/ensemble/iforest.py:213: FutureWarning: default contamination parameter 0.1 will change in version 0.22 to \"auto\". This will change the predict method behavior.\n",
      "  FutureWarning)\n",
      "/Users/thesard/anaconda3/lib/python3.7/site-packages/sklearn/ensemble/iforest.py:223: FutureWarning: behaviour=\"old\" is deprecated and will be removed in version 0.22. Please use behaviour=\"new\", which makes the decision_function change to match other anomaly detection algorithm API.\n",
      "  FutureWarning)\n",
      "/Users/thesard/anaconda3/lib/python3.7/site-packages/sklearn/ensemble/iforest.py:417: DeprecationWarning: threshold_ attribute is deprecated in 0.20 and will be removed in 0.22.\n",
      "  \" be removed in 0.22.\", DeprecationWarning)\n"
     ]
    },
    {
     "name": "stdout",
     "output_type": "stream",
     "text": [
      "Execution time of IsolationForest applied on KDD99CUP (in second)\n",
      "[9.836879968643188]\n",
      "ROC AUC for Isolation Forest applied on KDD99CUP\n",
      "[0.9507681124303369]\n"
     ]
    },
    {
     "name": "stderr",
     "output_type": "stream",
     "text": [
      "/Users/thesard/anaconda3/lib/python3.7/site-packages/sklearn/ensemble/iforest.py:213: FutureWarning: default contamination parameter 0.1 will change in version 0.22 to \"auto\". This will change the predict method behavior.\n",
      "  FutureWarning)\n",
      "/Users/thesard/anaconda3/lib/python3.7/site-packages/sklearn/ensemble/iforest.py:223: FutureWarning: behaviour=\"old\" is deprecated and will be removed in version 0.22. Please use behaviour=\"new\", which makes the decision_function change to match other anomaly detection algorithm API.\n",
      "  FutureWarning)\n",
      "/Users/thesard/anaconda3/lib/python3.7/site-packages/sklearn/ensemble/iforest.py:417: DeprecationWarning: threshold_ attribute is deprecated in 0.20 and will be removed in 0.22.\n",
      "  \" be removed in 0.22.\", DeprecationWarning)\n"
     ]
    },
    {
     "name": "stdout",
     "output_type": "stream",
     "text": [
      "Execution time of IsolationForest applied on KDD99CUP (in second)\n",
      "[12.066686153411865]\n",
      "ROC AUC for Isolation Forest applied on KDD99CUP\n",
      "[0.9479223572042205]\n"
     ]
    },
    {
     "name": "stderr",
     "output_type": "stream",
     "text": [
      "/Users/thesard/anaconda3/lib/python3.7/site-packages/sklearn/ensemble/iforest.py:213: FutureWarning: default contamination parameter 0.1 will change in version 0.22 to \"auto\". This will change the predict method behavior.\n",
      "  FutureWarning)\n",
      "/Users/thesard/anaconda3/lib/python3.7/site-packages/sklearn/ensemble/iforest.py:223: FutureWarning: behaviour=\"old\" is deprecated and will be removed in version 0.22. Please use behaviour=\"new\", which makes the decision_function change to match other anomaly detection algorithm API.\n",
      "  FutureWarning)\n",
      "/Users/thesard/anaconda3/lib/python3.7/site-packages/sklearn/ensemble/iforest.py:417: DeprecationWarning: threshold_ attribute is deprecated in 0.20 and will be removed in 0.22.\n",
      "  \" be removed in 0.22.\", DeprecationWarning)\n"
     ]
    },
    {
     "name": "stdout",
     "output_type": "stream",
     "text": [
      "Execution time of IsolationForest applied on KDD99CUP (in second)\n",
      "[12.566919088363647]\n",
      "ROC AUC for Isolation Forest applied on KDD99CUP\n",
      "[0.9507681124303369]\n"
     ]
    },
    {
     "name": "stderr",
     "output_type": "stream",
     "text": [
      "/Users/thesard/anaconda3/lib/python3.7/site-packages/sklearn/ensemble/iforest.py:213: FutureWarning: default contamination parameter 0.1 will change in version 0.22 to \"auto\". This will change the predict method behavior.\n",
      "  FutureWarning)\n",
      "/Users/thesard/anaconda3/lib/python3.7/site-packages/sklearn/ensemble/iforest.py:223: FutureWarning: behaviour=\"old\" is deprecated and will be removed in version 0.22. Please use behaviour=\"new\", which makes the decision_function change to match other anomaly detection algorithm API.\n",
      "  FutureWarning)\n",
      "/Users/thesard/anaconda3/lib/python3.7/site-packages/sklearn/ensemble/iforest.py:417: DeprecationWarning: threshold_ attribute is deprecated in 0.20 and will be removed in 0.22.\n",
      "  \" be removed in 0.22.\", DeprecationWarning)\n"
     ]
    },
    {
     "name": "stdout",
     "output_type": "stream",
     "text": [
      "Execution time of IsolationForest applied on KDD99CUP (in second)\n",
      "[11.864881038665771]\n",
      "ROC AUC for Isolation Forest applied on KDD99CUP\n",
      "[0.9393850915258719]\n"
     ]
    },
    {
     "name": "stderr",
     "output_type": "stream",
     "text": [
      "/Users/thesard/anaconda3/lib/python3.7/site-packages/sklearn/ensemble/iforest.py:213: FutureWarning: default contamination parameter 0.1 will change in version 0.22 to \"auto\". This will change the predict method behavior.\n",
      "  FutureWarning)\n",
      "/Users/thesard/anaconda3/lib/python3.7/site-packages/sklearn/ensemble/iforest.py:223: FutureWarning: behaviour=\"old\" is deprecated and will be removed in version 0.22. Please use behaviour=\"new\", which makes the decision_function change to match other anomaly detection algorithm API.\n",
      "  FutureWarning)\n",
      "/Users/thesard/anaconda3/lib/python3.7/site-packages/sklearn/ensemble/iforest.py:417: DeprecationWarning: threshold_ attribute is deprecated in 0.20 and will be removed in 0.22.\n",
      "  \" be removed in 0.22.\", DeprecationWarning)\n"
     ]
    },
    {
     "name": "stdout",
     "output_type": "stream",
     "text": [
      "Execution time of IsolationForest applied on KDD99CUP (in second)\n",
      "[13.087165832519531]\n",
      "ROC AUC for Isolation Forest applied on KDD99CUP\n",
      "[0.9507681124303369]\n"
     ]
    },
    {
     "name": "stderr",
     "output_type": "stream",
     "text": [
      "/Users/thesard/anaconda3/lib/python3.7/site-packages/sklearn/ensemble/iforest.py:213: FutureWarning: default contamination parameter 0.1 will change in version 0.22 to \"auto\". This will change the predict method behavior.\n",
      "  FutureWarning)\n",
      "/Users/thesard/anaconda3/lib/python3.7/site-packages/sklearn/ensemble/iforest.py:223: FutureWarning: behaviour=\"old\" is deprecated and will be removed in version 0.22. Please use behaviour=\"new\", which makes the decision_function change to match other anomaly detection algorithm API.\n",
      "  FutureWarning)\n",
      "/Users/thesard/anaconda3/lib/python3.7/site-packages/sklearn/ensemble/iforest.py:417: DeprecationWarning: threshold_ attribute is deprecated in 0.20 and will be removed in 0.22.\n",
      "  \" be removed in 0.22.\", DeprecationWarning)\n"
     ]
    },
    {
     "name": "stdout",
     "output_type": "stream",
     "text": [
      "Execution time of IsolationForest applied on KDD99CUP (in second)\n",
      "[14.374619960784912]\n",
      "ROC AUC for Isolation Forest applied on KDD99CUP\n",
      "[0.9507681124303369]\n"
     ]
    },
    {
     "name": "stderr",
     "output_type": "stream",
     "text": [
      "/Users/thesard/anaconda3/lib/python3.7/site-packages/sklearn/ensemble/iforest.py:213: FutureWarning: default contamination parameter 0.1 will change in version 0.22 to \"auto\". This will change the predict method behavior.\n",
      "  FutureWarning)\n",
      "/Users/thesard/anaconda3/lib/python3.7/site-packages/sklearn/ensemble/iforest.py:223: FutureWarning: behaviour=\"old\" is deprecated and will be removed in version 0.22. Please use behaviour=\"new\", which makes the decision_function change to match other anomaly detection algorithm API.\n",
      "  FutureWarning)\n",
      "/Users/thesard/anaconda3/lib/python3.7/site-packages/sklearn/ensemble/iforest.py:417: DeprecationWarning: threshold_ attribute is deprecated in 0.20 and will be removed in 0.22.\n",
      "  \" be removed in 0.22.\", DeprecationWarning)\n"
     ]
    },
    {
     "name": "stdout",
     "output_type": "stream",
     "text": [
      "Execution time of IsolationForest applied on KDD99CUP (in second)\n",
      "[15.394497871398926]\n",
      "ROC AUC for Isolation Forest applied on KDD99CUP\n",
      "[0.9507681124303369]\n"
     ]
    },
    {
     "name": "stderr",
     "output_type": "stream",
     "text": [
      "/Users/thesard/anaconda3/lib/python3.7/site-packages/sklearn/ensemble/iforest.py:213: FutureWarning: default contamination parameter 0.1 will change in version 0.22 to \"auto\". This will change the predict method behavior.\n",
      "  FutureWarning)\n",
      "/Users/thesard/anaconda3/lib/python3.7/site-packages/sklearn/ensemble/iforest.py:223: FutureWarning: behaviour=\"old\" is deprecated and will be removed in version 0.22. Please use behaviour=\"new\", which makes the decision_function change to match other anomaly detection algorithm API.\n",
      "  FutureWarning)\n",
      "/Users/thesard/anaconda3/lib/python3.7/site-packages/sklearn/ensemble/iforest.py:417: DeprecationWarning: threshold_ attribute is deprecated in 0.20 and will be removed in 0.22.\n",
      "  \" be removed in 0.22.\", DeprecationWarning)\n"
     ]
    },
    {
     "name": "stdout",
     "output_type": "stream",
     "text": [
      "Execution time of IsolationForest applied on KDD99CUP (in second)\n",
      "[16.392831087112427]\n",
      "ROC AUC for Isolation Forest applied on KDD99CUP\n",
      "[0.9507681124303369]\n"
     ]
    },
    {
     "name": "stderr",
     "output_type": "stream",
     "text": [
      "/Users/thesard/anaconda3/lib/python3.7/site-packages/sklearn/ensemble/iforest.py:213: FutureWarning: default contamination parameter 0.1 will change in version 0.22 to \"auto\". This will change the predict method behavior.\n",
      "  FutureWarning)\n",
      "/Users/thesard/anaconda3/lib/python3.7/site-packages/sklearn/ensemble/iforest.py:223: FutureWarning: behaviour=\"old\" is deprecated and will be removed in version 0.22. Please use behaviour=\"new\", which makes the decision_function change to match other anomaly detection algorithm API.\n",
      "  FutureWarning)\n",
      "/Users/thesard/anaconda3/lib/python3.7/site-packages/sklearn/ensemble/iforest.py:417: DeprecationWarning: threshold_ attribute is deprecated in 0.20 and will be removed in 0.22.\n",
      "  \" be removed in 0.22.\", DeprecationWarning)\n"
     ]
    },
    {
     "name": "stdout",
     "output_type": "stream",
     "text": [
      "Execution time of IsolationForest applied on KDD99CUP (in second)\n",
      "[15.989430665969849]\n",
      "ROC AUC for Isolation Forest applied on KDD99CUP\n",
      "[0.942230846751988]\n"
     ]
    },
    {
     "name": "stderr",
     "output_type": "stream",
     "text": [
      "/Users/thesard/anaconda3/lib/python3.7/site-packages/sklearn/ensemble/iforest.py:213: FutureWarning: default contamination parameter 0.1 will change in version 0.22 to \"auto\". This will change the predict method behavior.\n",
      "  FutureWarning)\n",
      "/Users/thesard/anaconda3/lib/python3.7/site-packages/sklearn/ensemble/iforest.py:223: FutureWarning: behaviour=\"old\" is deprecated and will be removed in version 0.22. Please use behaviour=\"new\", which makes the decision_function change to match other anomaly detection algorithm API.\n",
      "  FutureWarning)\n",
      "/Users/thesard/anaconda3/lib/python3.7/site-packages/sklearn/ensemble/iforest.py:417: DeprecationWarning: threshold_ attribute is deprecated in 0.20 and will be removed in 0.22.\n",
      "  \" be removed in 0.22.\", DeprecationWarning)\n"
     ]
    },
    {
     "name": "stdout",
     "output_type": "stream",
     "text": [
      "Execution time of IsolationForest applied on KDD99CUP (in second)\n",
      "[16.98485493659973]\n",
      "ROC AUC for Isolation Forest applied on KDD99CUP\n",
      "[0.9507681124303369]\n"
     ]
    },
    {
     "name": "stderr",
     "output_type": "stream",
     "text": [
      "/Users/thesard/anaconda3/lib/python3.7/site-packages/sklearn/ensemble/iforest.py:213: FutureWarning: default contamination parameter 0.1 will change in version 0.22 to \"auto\". This will change the predict method behavior.\n",
      "  FutureWarning)\n",
      "/Users/thesard/anaconda3/lib/python3.7/site-packages/sklearn/ensemble/iforest.py:223: FutureWarning: behaviour=\"old\" is deprecated and will be removed in version 0.22. Please use behaviour=\"new\", which makes the decision_function change to match other anomaly detection algorithm API.\n",
      "  FutureWarning)\n",
      "/Users/thesard/anaconda3/lib/python3.7/site-packages/sklearn/ensemble/iforest.py:417: DeprecationWarning: threshold_ attribute is deprecated in 0.20 and will be removed in 0.22.\n",
      "  \" be removed in 0.22.\", DeprecationWarning)\n"
     ]
    },
    {
     "name": "stdout",
     "output_type": "stream",
     "text": [
      "Execution time of IsolationForest applied on KDD99CUP (in second)\n",
      "[17.733527898788452]\n",
      "ROC AUC for Isolation Forest applied on KDD99CUP\n",
      "[0.9507681124303369]\n"
     ]
    },
    {
     "name": "stderr",
     "output_type": "stream",
     "text": [
      "/Users/thesard/anaconda3/lib/python3.7/site-packages/sklearn/ensemble/iforest.py:213: FutureWarning: default contamination parameter 0.1 will change in version 0.22 to \"auto\". This will change the predict method behavior.\n",
      "  FutureWarning)\n",
      "/Users/thesard/anaconda3/lib/python3.7/site-packages/sklearn/ensemble/iforest.py:223: FutureWarning: behaviour=\"old\" is deprecated and will be removed in version 0.22. Please use behaviour=\"new\", which makes the decision_function change to match other anomaly detection algorithm API.\n",
      "  FutureWarning)\n",
      "/Users/thesard/anaconda3/lib/python3.7/site-packages/sklearn/ensemble/iforest.py:417: DeprecationWarning: threshold_ attribute is deprecated in 0.20 and will be removed in 0.22.\n",
      "  \" be removed in 0.22.\", DeprecationWarning)\n"
     ]
    },
    {
     "name": "stdout",
     "output_type": "stream",
     "text": [
      "Execution time of IsolationForest applied on KDD99CUP (in second)\n",
      "[18.768343925476074]\n",
      "ROC AUC for Isolation Forest applied on KDD99CUP\n",
      "[0.9507681124303369]\n"
     ]
    },
    {
     "name": "stderr",
     "output_type": "stream",
     "text": [
      "/Users/thesard/anaconda3/lib/python3.7/site-packages/sklearn/ensemble/iforest.py:213: FutureWarning: default contamination parameter 0.1 will change in version 0.22 to \"auto\". This will change the predict method behavior.\n",
      "  FutureWarning)\n",
      "/Users/thesard/anaconda3/lib/python3.7/site-packages/sklearn/ensemble/iforest.py:223: FutureWarning: behaviour=\"old\" is deprecated and will be removed in version 0.22. Please use behaviour=\"new\", which makes the decision_function change to match other anomaly detection algorithm API.\n",
      "  FutureWarning)\n",
      "/Users/thesard/anaconda3/lib/python3.7/site-packages/sklearn/ensemble/iforest.py:417: DeprecationWarning: threshold_ attribute is deprecated in 0.20 and will be removed in 0.22.\n",
      "  \" be removed in 0.22.\", DeprecationWarning)\n"
     ]
    },
    {
     "name": "stdout",
     "output_type": "stream",
     "text": [
      "Execution time of IsolationForest applied on KDD99CUP (in second)\n",
      "[20.13857364654541]\n",
      "ROC AUC for Isolation Forest applied on KDD99CUP\n",
      "[0.9507681124303369]\n"
     ]
    },
    {
     "name": "stderr",
     "output_type": "stream",
     "text": [
      "/Users/thesard/anaconda3/lib/python3.7/site-packages/sklearn/ensemble/iforest.py:213: FutureWarning: default contamination parameter 0.1 will change in version 0.22 to \"auto\". This will change the predict method behavior.\n",
      "  FutureWarning)\n",
      "/Users/thesard/anaconda3/lib/python3.7/site-packages/sklearn/ensemble/iforest.py:223: FutureWarning: behaviour=\"old\" is deprecated and will be removed in version 0.22. Please use behaviour=\"new\", which makes the decision_function change to match other anomaly detection algorithm API.\n",
      "  FutureWarning)\n",
      "/Users/thesard/anaconda3/lib/python3.7/site-packages/sklearn/ensemble/iforest.py:417: DeprecationWarning: threshold_ attribute is deprecated in 0.20 and will be removed in 0.22.\n",
      "  \" be removed in 0.22.\", DeprecationWarning)\n"
     ]
    },
    {
     "name": "stdout",
     "output_type": "stream",
     "text": [
      "Execution time of IsolationForest applied on KDD99CUP (in second)\n",
      "[20.72728991508484]\n",
      "ROC AUC for Isolation Forest applied on KDD99CUP\n",
      "[0.9507681124303369]\n"
     ]
    },
    {
     "name": "stderr",
     "output_type": "stream",
     "text": [
      "/Users/thesard/anaconda3/lib/python3.7/site-packages/sklearn/ensemble/iforest.py:213: FutureWarning: default contamination parameter 0.1 will change in version 0.22 to \"auto\". This will change the predict method behavior.\n",
      "  FutureWarning)\n",
      "/Users/thesard/anaconda3/lib/python3.7/site-packages/sklearn/ensemble/iforest.py:223: FutureWarning: behaviour=\"old\" is deprecated and will be removed in version 0.22. Please use behaviour=\"new\", which makes the decision_function change to match other anomaly detection algorithm API.\n",
      "  FutureWarning)\n",
      "/Users/thesard/anaconda3/lib/python3.7/site-packages/sklearn/ensemble/iforest.py:417: DeprecationWarning: threshold_ attribute is deprecated in 0.20 and will be removed in 0.22.\n",
      "  \" be removed in 0.22.\", DeprecationWarning)\n"
     ]
    },
    {
     "name": "stdout",
     "output_type": "stream",
     "text": [
      "Execution time of IsolationForest applied on KDD99CUP (in second)\n",
      "[26.03485608100891]\n",
      "ROC AUC for Isolation Forest applied on KDD99CUP\n",
      "[0.9507681124303369]\n"
     ]
    },
    {
     "name": "stderr",
     "output_type": "stream",
     "text": [
      "/Users/thesard/anaconda3/lib/python3.7/site-packages/sklearn/ensemble/iforest.py:213: FutureWarning: default contamination parameter 0.1 will change in version 0.22 to \"auto\". This will change the predict method behavior.\n",
      "  FutureWarning)\n",
      "/Users/thesard/anaconda3/lib/python3.7/site-packages/sklearn/ensemble/iforest.py:223: FutureWarning: behaviour=\"old\" is deprecated and will be removed in version 0.22. Please use behaviour=\"new\", which makes the decision_function change to match other anomaly detection algorithm API.\n",
      "  FutureWarning)\n",
      "/Users/thesard/anaconda3/lib/python3.7/site-packages/sklearn/ensemble/iforest.py:417: DeprecationWarning: threshold_ attribute is deprecated in 0.20 and will be removed in 0.22.\n",
      "  \" be removed in 0.22.\", DeprecationWarning)\n"
     ]
    },
    {
     "name": "stdout",
     "output_type": "stream",
     "text": [
      "Execution time of IsolationForest applied on KDD99CUP (in second)\n",
      "[21.59841823577881]\n",
      "ROC AUC for Isolation Forest applied on KDD99CUP\n",
      "[0.950772958565544]\n"
     ]
    },
    {
     "name": "stderr",
     "output_type": "stream",
     "text": [
      "/Users/thesard/anaconda3/lib/python3.7/site-packages/sklearn/ensemble/iforest.py:213: FutureWarning: default contamination parameter 0.1 will change in version 0.22 to \"auto\". This will change the predict method behavior.\n",
      "  FutureWarning)\n",
      "/Users/thesard/anaconda3/lib/python3.7/site-packages/sklearn/ensemble/iforest.py:223: FutureWarning: behaviour=\"old\" is deprecated and will be removed in version 0.22. Please use behaviour=\"new\", which makes the decision_function change to match other anomaly detection algorithm API.\n",
      "  FutureWarning)\n",
      "/Users/thesard/anaconda3/lib/python3.7/site-packages/sklearn/ensemble/iforest.py:417: DeprecationWarning: threshold_ attribute is deprecated in 0.20 and will be removed in 0.22.\n",
      "  \" be removed in 0.22.\", DeprecationWarning)\n"
     ]
    },
    {
     "name": "stdout",
     "output_type": "stream",
     "text": [
      "Execution time of IsolationForest applied on KDD99CUP (in second)\n",
      "[22.76730990409851]\n",
      "ROC AUC for Isolation Forest applied on KDD99CUP\n",
      "[0.9507681124303369]\n"
     ]
    },
    {
     "name": "stderr",
     "output_type": "stream",
     "text": [
      "/Users/thesard/anaconda3/lib/python3.7/site-packages/sklearn/ensemble/iforest.py:213: FutureWarning: default contamination parameter 0.1 will change in version 0.22 to \"auto\". This will change the predict method behavior.\n",
      "  FutureWarning)\n",
      "/Users/thesard/anaconda3/lib/python3.7/site-packages/sklearn/ensemble/iforest.py:223: FutureWarning: behaviour=\"old\" is deprecated and will be removed in version 0.22. Please use behaviour=\"new\", which makes the decision_function change to match other anomaly detection algorithm API.\n",
      "  FutureWarning)\n",
      "/Users/thesard/anaconda3/lib/python3.7/site-packages/sklearn/ensemble/iforest.py:417: DeprecationWarning: threshold_ attribute is deprecated in 0.20 and will be removed in 0.22.\n",
      "  \" be removed in 0.22.\", DeprecationWarning)\n"
     ]
    },
    {
     "name": "stdout",
     "output_type": "stream",
     "text": [
      "Execution time of IsolationForest applied on KDD99CUP (in second)\n",
      "[23.674289226531982]\n",
      "ROC AUC for Isolation Forest applied on KDD99CUP\n",
      "[0.9507681124303369]\n"
     ]
    },
    {
     "name": "stderr",
     "output_type": "stream",
     "text": [
      "/Users/thesard/anaconda3/lib/python3.7/site-packages/sklearn/ensemble/iforest.py:213: FutureWarning: default contamination parameter 0.1 will change in version 0.22 to \"auto\". This will change the predict method behavior.\n",
      "  FutureWarning)\n",
      "/Users/thesard/anaconda3/lib/python3.7/site-packages/sklearn/ensemble/iforest.py:223: FutureWarning: behaviour=\"old\" is deprecated and will be removed in version 0.22. Please use behaviour=\"new\", which makes the decision_function change to match other anomaly detection algorithm API.\n",
      "  FutureWarning)\n",
      "/Users/thesard/anaconda3/lib/python3.7/site-packages/sklearn/ensemble/iforest.py:417: DeprecationWarning: threshold_ attribute is deprecated in 0.20 and will be removed in 0.22.\n",
      "  \" be removed in 0.22.\", DeprecationWarning)\n"
     ]
    },
    {
     "name": "stdout",
     "output_type": "stream",
     "text": [
      "Execution time of IsolationForest applied on KDD99CUP (in second)\n",
      "[26.112324953079224]\n",
      "ROC AUC for Isolation Forest applied on KDD99CUP\n",
      "[0.9508068815119941]\n"
     ]
    },
    {
     "name": "stderr",
     "output_type": "stream",
     "text": [
      "/Users/thesard/anaconda3/lib/python3.7/site-packages/sklearn/ensemble/iforest.py:213: FutureWarning: default contamination parameter 0.1 will change in version 0.22 to \"auto\". This will change the predict method behavior.\n",
      "  FutureWarning)\n",
      "/Users/thesard/anaconda3/lib/python3.7/site-packages/sklearn/ensemble/iforest.py:223: FutureWarning: behaviour=\"old\" is deprecated and will be removed in version 0.22. Please use behaviour=\"new\", which makes the decision_function change to match other anomaly detection algorithm API.\n",
      "  FutureWarning)\n",
      "/Users/thesard/anaconda3/lib/python3.7/site-packages/sklearn/ensemble/iforest.py:417: DeprecationWarning: threshold_ attribute is deprecated in 0.20 and will be removed in 0.22.\n",
      "  \" be removed in 0.22.\", DeprecationWarning)\n"
     ]
    },
    {
     "name": "stdout",
     "output_type": "stream",
     "text": [
      "Execution time of IsolationForest applied on KDD99CUP (in second)\n",
      "[26.287743091583252]\n",
      "ROC AUC for Isolation Forest applied on KDD99CUP\n",
      "[0.9507681124303369]\n"
     ]
    }
   ],
   "source": [
    "\n",
    "max_samples = 'auto'\n",
    "\n",
    "averages_executions_time_IF_KDD99CUP = []\n",
    "averages_roc_auc_IF_KDD99CUP = []\n",
    "\n",
    "for j in range(10, 300, 10):\n",
    "    n_estimators = j\n",
    "    executions_time_IF_KDD99CUP = []\n",
    "    roc_auc_IF_KDD99CUP = []\n",
    "    #for i in range(5):\n",
    "###########################\n",
    "    roc_auc_IF_Sub_Datasets = []\n",
    "    start_IF_KDD99CUP = time()\n",
    "\n",
    "    # Apply the function on the 6 sub_dataset\n",
    "    func_IF_KDD99CUP = IsolationForest(n_estimators=n_estimators, max_samples=max_samples)\n",
    "    #func_IF_KDD99CUP.fit(X_sub_dataset_1)\n",
    "    y_pred_IF_sub_dataset_1 = func_IF_KDD99CUP.predict(X_sub_dataset_1)\n",
    "\n",
    "    #func_IF_KDD99CUP = IsolationForest(n_estimators=n_estimators, max_samples=max_samples)\n",
    "    #func_IF_KDD99CUP.fit(X_sub_dataset_2)\n",
    "    #y_pred_IF_sub_dataset_2 = func_IF_KDD99CUP.predict(X_sub_dataset_2)\n",
    "\n",
    "    #func_IF_KDD99CUP = IsolationForest(n_estimators=n_estimators, max_samples=max_samples)\n",
    "    #func_IF_KDD99CUP.fit(X_sub_dataset_3)\n",
    "    #y_pred_IF_sub_dataset_3 = func_IF_KDD99CUP.predict(X_sub_dataset_3)\n",
    "\n",
    "    #func_IF_KDD99CUP = IsolationForest(n_estimators=n_estimators, max_samples=max_samples)\n",
    "    #func_IF_KDD99CUP.fit(X_sub_dataset_4)\n",
    "    #y_pred_IF_sub_dataset_4 = func_IF_KDD99CUP.predict(X_sub_dataset_4)\n",
    "\n",
    "    #func_IF_KDD99CUP = IsolationForest(n_estimators=n_estimators, max_samples=max_samples)\n",
    "    #func_IF_KDD99CUP.fit(X_sub_dataset_5)\n",
    "    #y_pred_IF_sub_dataset_5 = func_IF_KDD99CUP.predict(X_sub_dataset_5)\n",
    "\n",
    "    #func_IF_KDD99CUP = IsolationForest(n_estimators=n_estimators, max_samples=max_samples)\n",
    "    #func_IF_KDD99CUP.fit(X_sub_dataset_6)\n",
    "    #y_pred_IF_sub_dataset_6 = func_IF_KDD99CUP.predict(X_sub_dataset_6)\n",
    "\n",
    "    # Calcul du temps d'exécution\n",
    "    exec_time_IF_KDD99CUP = time() - start_IF_KDD99CUP\n",
    "    executions_time_IF_KDD99CUP.append(exec_time_IF_KDD99CUP)\n",
    "\n",
    "    # Calcul de l'aire sous la courbe ROC\n",
    "    # Apply the function on ROC AUC on the 6 sub_dataset\n",
    "    auc_IF_KDD99CUP = roc_auc_score(y_transform_sub_dataset_1, y_pred_IF_sub_dataset_1)\n",
    "    roc_auc_IF_Sub_Datasets.append(auc_IF_KDD99CUP)\n",
    "    #auc_IF_KDD99CUP = roc_auc_score(y_transform_sub_dataset_2, y_pred_IF_sub_dataset_2)\n",
    "    #roc_auc_IF_Sub_Datasets.append(auc_IF_KDD99CUP)\n",
    "    #auc_IF_KDD99CUP = roc_auc_score(y_transform_sub_dataset_3, y_pred_IF_sub_dataset_3)\n",
    "    #roc_auc_IF_Sub_Datasets.append(auc_IF_KDD99CUP)\n",
    "    #auc_IF_KDD99CUP = roc_auc_score(y_transform_sub_dataset_4, y_pred_IF_sub_dataset_4)\n",
    "    #roc_auc_IF_Sub_Datasets.append(auc_IF_KDD99CUP)\n",
    "    #auc_IF_KDD99CUP = roc_auc_score(y_transform_sub_dataset_5, y_pred_IF_sub_dataset_5)\n",
    "    #roc_auc_IF_Sub_Datasets.append(auc_IF_KDD99CUP)\n",
    "    #auc_IF_KDD99CUP = roc_auc_score(y_transform_sub_dataset_6, y_pred_IF_sub_dataset_6)\n",
    "    #roc_auc_IF_Sub_Datasets.append(auc_IF_KDD99CUP)\n",
    "\n",
    "    # Mean of the ROC AUC of the 6 sub_datasets\n",
    "    roc_auc_IF_KDD99CUP.append(statistics.mean(roc_auc_IF_Sub_Datasets))\n",
    "    #print(\"ROC AUC for Isolation Forest applied on KDD99CUP\")\n",
    "    #print(roc_auc_IF_KDD99CUP)\n",
    " #######################################       \n",
    "    print(\"Execution time of IsolationForest applied on KDD99CUP (in second)\")\n",
    "    print(executions_time_IF_KDD99CUP)\n",
    "    print(\"ROC AUC for Isolation Forest applied on KDD99CUP\")\n",
    "    print(roc_auc_IF_KDD99CUP)\n",
    "    averages_executions_time_IF_KDD99CUP.append(statistics.mean(executions_time_IF_KDD99CUP))\n",
    "    averages_roc_auc_IF_KDD99CUP.append(statistics.mean(roc_auc_IF_KDD99CUP))"
   ]
  },
  {
   "cell_type": "markdown",
   "metadata": {},
   "source": [
    "### Résultat de Isolation Forest sur KDD99CUP"
   ]
  },
  {
   "cell_type": "code",
   "execution_count": 12,
   "metadata": {},
   "outputs": [
    {
     "name": "stdout",
     "output_type": "stream",
     "text": [
      "Execution time of IsolationForest applied on KDD99CUP (in second)\n",
      "[1.005812168121338, 1.8286850452423096, 2.8137331008911133, 3.6294209957122803, 4.574329137802124, 5.406002044677734, 6.241639137268066, 8.099387884140015, 10.536028146743774, 9.836879968643188, 12.066686153411865, 12.566919088363647, 11.864881038665771, 13.087165832519531, 14.374619960784912, 15.394497871398926, 16.392831087112427, 15.989430665969849, 16.98485493659973, 17.733527898788452, 18.768343925476074, 20.13857364654541, 20.72728991508484, 26.03485608100891, 21.59841823577881, 22.76730990409851, 23.674289226531982, 26.112324953079224, 26.287743091583252]\n"
     ]
    },
    {
     "data": {
      "image/png": "[encoded data removed]",
      "text/plain": [
       "<Figure size 432x288 with 1 Axes>"
      ]
     },
     "metadata": {
      "needs_background": "light"
     },
     "output_type": "display_data"
    }
   ],
   "source": [
    "print(\"Execution time of IsolationForest applied on KDD99CUP (in second)\")\n",
    "print(averages_executions_time_IF_KDD99CUP)\n",
    "plt.plot(range(10, 300, 10), averages_executions_time_IF_KDD99CUP,  \"g-\", label=\"IForest on KDD99CUP\")\n",
    "#plt.axis([0, 1, 0, 1])\n",
    "plt.xlabel('n_estimators')\n",
    "plt.ylabel('Execution time')\n",
    "plt.legend(loc=\"best\")\n",
    "plt.show()"
   ]
  },
  {
   "cell_type": "code",
   "execution_count": 13,
   "metadata": {},
   "outputs": [
    {
     "name": "stdout",
     "output_type": "stream",
     "text": [
      "ROC AUC for Isolation Forest applied on KDD99CUP\n",
      "[0.9507681124303369, 0.9450766019781042, 0.9507681124303369, 0.9507681124303369, 0.942230846751988, 0.9507681124303369, 0.9507681124303369, 0.9450766019781042, 0.9507681124303369, 0.9507681124303369, 0.9479223572042205, 0.9507681124303369, 0.9393850915258719, 0.9507681124303369, 0.9507681124303369, 0.9507681124303369, 0.9507681124303369, 0.942230846751988, 0.9507681124303369, 0.9507681124303369, 0.9507681124303369, 0.9507681124303369, 0.9507681124303369, 0.9507681124303369, 0.950772958565544, 0.9507681124303369, 0.9507681124303369, 0.9508068815119941, 0.9507681124303369]\n",
      "La valeur max est 0.9508068815119941 à l'index 27\n"
     ]
    },
    {
     "data": {
      "image/png": "[encoded data removed]",
      "text/plain": [
       "<Figure size 432x288 with 1 Axes>"
      ]
     },
     "metadata": {
      "needs_background": "light"
     },
     "output_type": "display_data"
    }
   ],
   "source": [
    "print(\"ROC AUC for Isolation Forest applied on KDD99CUP\")\n",
    "print(averages_roc_auc_IF_KDD99CUP)\n",
    "print(\"La valeur max est \"+str(max(averages_roc_auc_IF_KDD99CUP))+\" à l'index \"+str(averages_roc_auc_IF_KDD99CUP.index(max(averages_roc_auc_IF_KDD99CUP))))\n",
    "plt.plot(range(10, 300, 10), averages_roc_auc_IF_KDD99CUP,  \"g-\", label=\"ROC AUC of IForest on KDD99CUP\")\n",
    "#plt.axis([0, 1, 0, 1])\n",
    "plt.xlabel('n_estimators')\n",
    "plt.ylabel('AUC')\n",
    "plt.legend(loc=\"best\")\n",
    "plt.show()"
   ]
  },
  {
   "cell_type": "markdown",
   "metadata": {},
   "source": [
    "### Interprétation du résultat de IsolationForest sur KDD99CUP"
   ]
  },
  {
   "cell_type": "markdown",
   "metadata": {},
   "source": [
    "Avec n_estimators entre 10 et 300, on remarque que le temps d'exécution augmente au fur et à mesure que le nombre d'estimateurs augmente. Concernant la performance, la meilleure estimation a été obtenu pour un taux de AUC = 0.0.9508068815119941 avec n_estimators = 280 ===> (10+27*10)\n",
    "A noter que quelque soit la valeur de n_estimators, la AUC est toujours supérieure à 0,94\n",
    "\n",
    "Peut-être qu'au delà de 300 estimateurs, la performance augmentera"
   ]
  },
  {
   "cell_type": "markdown",
   "metadata": {},
   "source": [
    "### Exécution de LOF sur KDD99CUP"
   ]
  },
  {
   "cell_type": "code",
   "execution_count": 14,
   "metadata": {},
   "outputs": [
    {
     "name": "stderr",
     "output_type": "stream",
     "text": [
      "/Users/thesard/anaconda3/lib/python3.7/site-packages/sklearn/neighbors/lof.py:236: FutureWarning: default contamination parameter 0.1 will change in version 0.22 to \"auto\". This will change the predict method behavior.\n",
      "  FutureWarning)\n"
     ]
    },
    {
     "name": "stdout",
     "output_type": "stream",
     "text": [
      "Execution time of LOF applied on KDD99CUP (in second)\n",
      "[18.902546882629395]\n",
      "ROC AUC for LOF applied on KDD99CUP\n",
      "[0.5477257307751613]\n"
     ]
    },
    {
     "name": "stderr",
     "output_type": "stream",
     "text": [
      "/Users/thesard/anaconda3/lib/python3.7/site-packages/sklearn/neighbors/lof.py:236: FutureWarning: default contamination parameter 0.1 will change in version 0.22 to \"auto\". This will change the predict method behavior.\n",
      "  FutureWarning)\n"
     ]
    },
    {
     "name": "stdout",
     "output_type": "stream",
     "text": [
      "Execution time of LOF applied on KDD99CUP (in second)\n",
      "[22.910732984542847]\n",
      "ROC AUC for LOF applied on KDD99CUP\n",
      "[0.5563825252770007]\n"
     ]
    },
    {
     "name": "stderr",
     "output_type": "stream",
     "text": [
      "/Users/thesard/anaconda3/lib/python3.7/site-packages/sklearn/neighbors/lof.py:236: FutureWarning: default contamination parameter 0.1 will change in version 0.22 to \"auto\". This will change the predict method behavior.\n",
      "  FutureWarning)\n"
     ]
    },
    {
     "name": "stdout",
     "output_type": "stream",
     "text": [
      "Execution time of LOF applied on KDD99CUP (in second)\n",
      "[25.524651050567627]\n",
      "ROC AUC for LOF applied on KDD99CUP\n",
      "[0.5417089785668656]\n"
     ]
    },
    {
     "name": "stderr",
     "output_type": "stream",
     "text": [
      "/Users/thesard/anaconda3/lib/python3.7/site-packages/sklearn/neighbors/lof.py:236: FutureWarning: default contamination parameter 0.1 will change in version 0.22 to \"auto\". This will change the predict method behavior.\n",
      "  FutureWarning)\n"
     ]
    },
    {
     "name": "stdout",
     "output_type": "stream",
     "text": [
      "Execution time of LOF applied on KDD99CUP (in second)\n",
      "[28.405873775482178]\n",
      "ROC AUC for LOF applied on KDD99CUP\n",
      "[0.5232678370817455]\n"
     ]
    },
    {
     "name": "stderr",
     "output_type": "stream",
     "text": [
      "/Users/thesard/anaconda3/lib/python3.7/site-packages/sklearn/neighbors/lof.py:236: FutureWarning: default contamination parameter 0.1 will change in version 0.22 to \"auto\". This will change the predict method behavior.\n",
      "  FutureWarning)\n"
     ]
    },
    {
     "name": "stdout",
     "output_type": "stream",
     "text": [
      "Execution time of LOF applied on KDD99CUP (in second)\n",
      "[24.597292184829712]\n",
      "ROC AUC for LOF applied on KDD99CUP\n",
      "[0.5024025541335331]\n"
     ]
    },
    {
     "name": "stderr",
     "output_type": "stream",
     "text": [
      "/Users/thesard/anaconda3/lib/python3.7/site-packages/sklearn/neighbors/lof.py:236: FutureWarning: default contamination parameter 0.1 will change in version 0.22 to \"auto\". This will change the predict method behavior.\n",
      "  FutureWarning)\n"
     ]
    },
    {
     "name": "stdout",
     "output_type": "stream",
     "text": [
      "Execution time of LOF applied on KDD99CUP (in second)\n",
      "[26.512227058410645]\n",
      "ROC AUC for LOF applied on KDD99CUP\n",
      "[0.49890257065444854]\n"
     ]
    },
    {
     "name": "stderr",
     "output_type": "stream",
     "text": [
      "/Users/thesard/anaconda3/lib/python3.7/site-packages/sklearn/neighbors/lof.py:236: FutureWarning: default contamination parameter 0.1 will change in version 0.22 to \"auto\". This will change the predict method behavior.\n",
      "  FutureWarning)\n"
     ]
    },
    {
     "name": "stdout",
     "output_type": "stream",
     "text": [
      "Execution time of LOF applied on KDD99CUP (in second)\n",
      "[30.136018991470337]\n",
      "ROC AUC for LOF applied on KDD99CUP\n",
      "[0.4986990329757473]\n"
     ]
    },
    {
     "name": "stderr",
     "output_type": "stream",
     "text": [
      "/Users/thesard/anaconda3/lib/python3.7/site-packages/sklearn/neighbors/lof.py:236: FutureWarning: default contamination parameter 0.1 will change in version 0.22 to \"auto\". This will change the predict method behavior.\n",
      "  FutureWarning)\n"
     ]
    },
    {
     "name": "stdout",
     "output_type": "stream",
     "text": [
      "Execution time of LOF applied on KDD99CUP (in second)\n",
      "[27.56598997116089]\n",
      "ROC AUC for LOF applied on KDD99CUP\n",
      "[0.4979818049650858]\n"
     ]
    },
    {
     "name": "stderr",
     "output_type": "stream",
     "text": [
      "/Users/thesard/anaconda3/lib/python3.7/site-packages/sklearn/neighbors/lof.py:236: FutureWarning: default contamination parameter 0.1 will change in version 0.22 to \"auto\". This will change the predict method behavior.\n",
      "  FutureWarning)\n"
     ]
    },
    {
     "name": "stdout",
     "output_type": "stream",
     "text": [
      "Execution time of LOF applied on KDD99CUP (in second)\n",
      "[29.637439966201782]\n",
      "ROC AUC for LOF applied on KDD99CUP\n",
      "[0.49795757428904996]\n"
     ]
    },
    {
     "name": "stderr",
     "output_type": "stream",
     "text": [
      "/Users/thesard/anaconda3/lib/python3.7/site-packages/sklearn/neighbors/lof.py:236: FutureWarning: default contamination parameter 0.1 will change in version 0.22 to \"auto\". This will change the predict method behavior.\n",
      "  FutureWarning)\n"
     ]
    },
    {
     "name": "stdout",
     "output_type": "stream",
     "text": [
      "Execution time of LOF applied on KDD99CUP (in second)\n",
      "[33.470175981521606]\n",
      "ROC AUC for LOF applied on KDD99CUP\n",
      "[0.4975844218780977]\n"
     ]
    },
    {
     "name": "stderr",
     "output_type": "stream",
     "text": [
      "/Users/thesard/anaconda3/lib/python3.7/site-packages/sklearn/neighbors/lof.py:236: FutureWarning: default contamination parameter 0.1 will change in version 0.22 to \"auto\". This will change the predict method behavior.\n",
      "  FutureWarning)\n"
     ]
    },
    {
     "name": "stdout",
     "output_type": "stream",
     "text": [
      "Execution time of LOF applied on KDD99CUP (in second)\n",
      "[33.769304037094116]\n",
      "ROC AUC for LOF applied on KDD99CUP\n",
      "[0.5256785139987223]\n"
     ]
    },
    {
     "name": "stderr",
     "output_type": "stream",
     "text": [
      "/Users/thesard/anaconda3/lib/python3.7/site-packages/sklearn/neighbors/lof.py:236: FutureWarning: default contamination parameter 0.1 will change in version 0.22 to \"auto\". This will change the predict method behavior.\n",
      "  FutureWarning)\n"
     ]
    },
    {
     "name": "stdout",
     "output_type": "stream",
     "text": [
      "Execution time of LOF applied on KDD99CUP (in second)\n",
      "[34.111266136169434]\n",
      "ROC AUC for LOF applied on KDD99CUP\n",
      "[0.5427433530850057]\n"
     ]
    },
    {
     "name": "stderr",
     "output_type": "stream",
     "text": [
      "/Users/thesard/anaconda3/lib/python3.7/site-packages/sklearn/neighbors/lof.py:236: FutureWarning: default contamination parameter 0.1 will change in version 0.22 to \"auto\". This will change the predict method behavior.\n",
      "  FutureWarning)\n"
     ]
    },
    {
     "name": "stdout",
     "output_type": "stream",
     "text": [
      "Execution time of LOF applied on KDD99CUP (in second)\n",
      "[30.4944269657135]\n",
      "ROC AUC for LOF applied on KDD99CUP\n",
      "[0.5940784082648634]\n"
     ]
    },
    {
     "name": "stderr",
     "output_type": "stream",
     "text": [
      "/Users/thesard/anaconda3/lib/python3.7/site-packages/sklearn/neighbors/lof.py:236: FutureWarning: default contamination parameter 0.1 will change in version 0.22 to \"auto\". This will change the predict method behavior.\n",
      "  FutureWarning)\n"
     ]
    },
    {
     "name": "stdout",
     "output_type": "stream",
     "text": [
      "Execution time of LOF applied on KDD99CUP (in second)\n",
      "[34.438093185424805]\n",
      "ROC AUC for LOF applied on KDD99CUP\n",
      "[0.6052530453554199]\n"
     ]
    },
    {
     "name": "stderr",
     "output_type": "stream",
     "text": [
      "/Users/thesard/anaconda3/lib/python3.7/site-packages/sklearn/neighbors/lof.py:236: FutureWarning: default contamination parameter 0.1 will change in version 0.22 to \"auto\". This will change the predict method behavior.\n",
      "  FutureWarning)\n"
     ]
    },
    {
     "name": "stdout",
     "output_type": "stream",
     "text": [
      "Execution time of LOF applied on KDD99CUP (in second)\n",
      "[38.32731628417969]\n",
      "ROC AUC for LOF applied on KDD99CUP\n",
      "[0.5965073958631628]\n"
     ]
    },
    {
     "name": "stderr",
     "output_type": "stream",
     "text": [
      "/Users/thesard/anaconda3/lib/python3.7/site-packages/sklearn/neighbors/lof.py:236: FutureWarning: default contamination parameter 0.1 will change in version 0.22 to \"auto\". This will change the predict method behavior.\n",
      "  FutureWarning)\n"
     ]
    },
    {
     "name": "stdout",
     "output_type": "stream",
     "text": [
      "Execution time of LOF applied on KDD99CUP (in second)\n",
      "[40.01055288314819]\n",
      "ROC AUC for LOF applied on KDD99CUP\n",
      "[0.6021455988281164]\n"
     ]
    },
    {
     "name": "stderr",
     "output_type": "stream",
     "text": [
      "/Users/thesard/anaconda3/lib/python3.7/site-packages/sklearn/neighbors/lof.py:236: FutureWarning: default contamination parameter 0.1 will change in version 0.22 to \"auto\". This will change the predict method behavior.\n",
      "  FutureWarning)\n"
     ]
    },
    {
     "name": "stdout",
     "output_type": "stream",
     "text": [
      "Execution time of LOF applied on KDD99CUP (in second)\n",
      "[34.12298798561096]\n",
      "ROC AUC for LOF applied on KDD99CUP\n",
      "[0.6047732779699098]\n"
     ]
    },
    {
     "name": "stderr",
     "output_type": "stream",
     "text": [
      "/Users/thesard/anaconda3/lib/python3.7/site-packages/sklearn/neighbors/lof.py:236: FutureWarning: default contamination parameter 0.1 will change in version 0.22 to \"auto\". This will change the predict method behavior.\n",
      "  FutureWarning)\n"
     ]
    },
    {
     "name": "stdout",
     "output_type": "stream",
     "text": [
      "Execution time of LOF applied on KDD99CUP (in second)\n",
      "[36.494633197784424]\n",
      "ROC AUC for LOF applied on KDD99CUP\n",
      "[0.5677929984360199]\n"
     ]
    },
    {
     "name": "stderr",
     "output_type": "stream",
     "text": [
      "/Users/thesard/anaconda3/lib/python3.7/site-packages/sklearn/neighbors/lof.py:236: FutureWarning: default contamination parameter 0.1 will change in version 0.22 to \"auto\". This will change the predict method behavior.\n",
      "  FutureWarning)\n"
     ]
    },
    {
     "name": "stdout",
     "output_type": "stream",
     "text": [
      "Execution time of LOF applied on KDD99CUP (in second)\n",
      "[39.581904888153076]\n",
      "ROC AUC for LOF applied on KDD99CUP\n",
      "[0.5506554673216292]\n"
     ]
    },
    {
     "name": "stderr",
     "output_type": "stream",
     "text": [
      "/Users/thesard/anaconda3/lib/python3.7/site-packages/sklearn/neighbors/lof.py:236: FutureWarning: default contamination parameter 0.1 will change in version 0.22 to \"auto\". This will change the predict method behavior.\n",
      "  FutureWarning)\n"
     ]
    },
    {
     "name": "stdout",
     "output_type": "stream",
     "text": [
      "Execution time of LOF applied on KDD99CUP (in second)\n",
      "[41.35542297363281]\n",
      "ROC AUC for LOF applied on KDD99CUP\n",
      "[0.5448524957596317]\n"
     ]
    },
    {
     "name": "stderr",
     "output_type": "stream",
     "text": [
      "/Users/thesard/anaconda3/lib/python3.7/site-packages/sklearn/neighbors/lof.py:236: FutureWarning: default contamination parameter 0.1 will change in version 0.22 to \"auto\". This will change the predict method behavior.\n",
      "  FutureWarning)\n"
     ]
    },
    {
     "name": "stdout",
     "output_type": "stream",
     "text": [
      "Execution time of LOF applied on KDD99CUP (in second)\n",
      "[40.207817792892456]\n",
      "ROC AUC for LOF applied on KDD99CUP\n",
      "[0.5391803698482278]\n"
     ]
    },
    {
     "name": "stderr",
     "output_type": "stream",
     "text": [
      "/Users/thesard/anaconda3/lib/python3.7/site-packages/sklearn/neighbors/lof.py:236: FutureWarning: default contamination parameter 0.1 will change in version 0.22 to \"auto\". This will change the predict method behavior.\n",
      "  FutureWarning)\n"
     ]
    },
    {
     "name": "stdout",
     "output_type": "stream",
     "text": [
      "Execution time of LOF applied on KDD99CUP (in second)\n",
      "[42.744410276412964]\n",
      "ROC AUC for LOF applied on KDD99CUP\n",
      "[0.5304686433024208]\n"
     ]
    },
    {
     "name": "stderr",
     "output_type": "stream",
     "text": [
      "/Users/thesard/anaconda3/lib/python3.7/site-packages/sklearn/neighbors/lof.py:236: FutureWarning: default contamination parameter 0.1 will change in version 0.22 to \"auto\". This will change the predict method behavior.\n",
      "  FutureWarning)\n"
     ]
    },
    {
     "name": "stdout",
     "output_type": "stream",
     "text": [
      "Execution time of LOF applied on KDD99CUP (in second)\n",
      "[43.08960795402527]\n",
      "ROC AUC for LOF applied on KDD99CUP\n",
      "[0.5304347203559707]\n"
     ]
    },
    {
     "name": "stderr",
     "output_type": "stream",
     "text": [
      "/Users/thesard/anaconda3/lib/python3.7/site-packages/sklearn/neighbors/lof.py:236: FutureWarning: default contamination parameter 0.1 will change in version 0.22 to \"auto\". This will change the predict method behavior.\n",
      "  FutureWarning)\n"
     ]
    },
    {
     "name": "stdout",
     "output_type": "stream",
     "text": [
      "Execution time of LOF applied on KDD99CUP (in second)\n",
      "[43.80181670188904]\n",
      "ROC AUC for LOF applied on KDD99CUP\n",
      "[0.5191437760204419]\n"
     ]
    },
    {
     "name": "stderr",
     "output_type": "stream",
     "text": [
      "/Users/thesard/anaconda3/lib/python3.7/site-packages/sklearn/neighbors/lof.py:236: FutureWarning: default contamination parameter 0.1 will change in version 0.22 to \"auto\". This will change the predict method behavior.\n",
      "  FutureWarning)\n"
     ]
    },
    {
     "name": "stdout",
     "output_type": "stream",
     "text": [
      "Execution time of LOF applied on KDD99CUP (in second)\n",
      "[39.523130893707275]\n",
      "ROC AUC for LOF applied on KDD99CUP\n",
      "[0.5132971892415799]\n"
     ]
    },
    {
     "name": "stderr",
     "output_type": "stream",
     "text": [
      "/Users/thesard/anaconda3/lib/python3.7/site-packages/sklearn/neighbors/lof.py:236: FutureWarning: default contamination parameter 0.1 will change in version 0.22 to \"auto\". This will change the predict method behavior.\n",
      "  FutureWarning)\n"
     ]
    },
    {
     "name": "stdout",
     "output_type": "stream",
     "text": [
      "Execution time of LOF applied on KDD99CUP (in second)\n",
      "[43.94402503967285]\n",
      "ROC AUC for LOF applied on KDD99CUP\n",
      "[0.5132584201599224]\n"
     ]
    },
    {
     "name": "stderr",
     "output_type": "stream",
     "text": [
      "/Users/thesard/anaconda3/lib/python3.7/site-packages/sklearn/neighbors/lof.py:236: FutureWarning: default contamination parameter 0.1 will change in version 0.22 to \"auto\". This will change the predict method behavior.\n",
      "  FutureWarning)\n"
     ]
    },
    {
     "name": "stdout",
     "output_type": "stream",
     "text": [
      "Execution time of LOF applied on KDD99CUP (in second)\n",
      "[43.29129695892334]\n",
      "ROC AUC for LOF applied on KDD99CUP\n",
      "[0.5075281406260326]\n"
     ]
    },
    {
     "name": "stderr",
     "output_type": "stream",
     "text": [
      "/Users/thesard/anaconda3/lib/python3.7/site-packages/sklearn/neighbors/lof.py:236: FutureWarning: default contamination parameter 0.1 will change in version 0.22 to \"auto\". This will change the predict method behavior.\n",
      "  FutureWarning)\n"
     ]
    },
    {
     "name": "stdout",
     "output_type": "stream",
     "text": [
      "Execution time of LOF applied on KDD99CUP (in second)\n",
      "[47.453534841537476]\n",
      "ROC AUC for LOF applied on KDD99CUP\n",
      "[0.4874673161222107]\n"
     ]
    },
    {
     "name": "stderr",
     "output_type": "stream",
     "text": [
      "/Users/thesard/anaconda3/lib/python3.7/site-packages/sklearn/neighbors/lof.py:236: FutureWarning: default contamination parameter 0.1 will change in version 0.22 to \"auto\". This will change the predict method behavior.\n",
      "  FutureWarning)\n"
     ]
    },
    {
     "name": "stdout",
     "output_type": "stream",
     "text": [
      "Execution time of LOF applied on KDD99CUP (in second)\n",
      "[46.82526993751526]\n",
      "ROC AUC for LOF applied on KDD99CUP\n",
      "[0.4874721622574179]\n"
     ]
    },
    {
     "name": "stderr",
     "output_type": "stream",
     "text": [
      "/Users/thesard/anaconda3/lib/python3.7/site-packages/sklearn/neighbors/lof.py:236: FutureWarning: default contamination parameter 0.1 will change in version 0.22 to \"auto\". This will change the predict method behavior.\n",
      "  FutureWarning)\n"
     ]
    },
    {
     "name": "stdout",
     "output_type": "stream",
     "text": [
      "Execution time of LOF applied on KDD99CUP (in second)\n",
      "[47.25864815711975]\n",
      "ROC AUC for LOF applied on KDD99CUP\n",
      "[0.48467486838337337]\n"
     ]
    },
    {
     "name": "stderr",
     "output_type": "stream",
     "text": [
      "/Users/thesard/anaconda3/lib/python3.7/site-packages/sklearn/neighbors/lof.py:236: FutureWarning: default contamination parameter 0.1 will change in version 0.22 to \"auto\". This will change the predict method behavior.\n",
      "  FutureWarning)\n"
     ]
    },
    {
     "name": "stdout",
     "output_type": "stream",
     "text": [
      "Execution time of LOF applied on KDD99CUP (in second)\n",
      "[46.17681694030762]\n",
      "ROC AUC for LOF applied on KDD99CUP\n",
      "[0.4846021763552658]\n"
     ]
    },
    {
     "name": "stderr",
     "output_type": "stream",
     "text": [
      "/Users/thesard/anaconda3/lib/python3.7/site-packages/sklearn/neighbors/lof.py:236: FutureWarning: default contamination parameter 0.1 will change in version 0.22 to \"auto\". This will change the predict method behavior.\n",
      "  FutureWarning)\n"
     ]
    },
    {
     "name": "stdout",
     "output_type": "stream",
     "text": [
      "Execution time of LOF applied on KDD99CUP (in second)\n",
      "[46.768396615982056]\n",
      "ROC AUC for LOF applied on KDD99CUP\n",
      "[0.484524638191951]\n"
     ]
    },
    {
     "name": "stderr",
     "output_type": "stream",
     "text": [
      "/Users/thesard/anaconda3/lib/python3.7/site-packages/sklearn/neighbors/lof.py:236: FutureWarning: default contamination parameter 0.1 will change in version 0.22 to \"auto\". This will change the predict method behavior.\n",
      "  FutureWarning)\n"
     ]
    },
    {
     "name": "stdout",
     "output_type": "stream",
     "text": [
      "Execution time of LOF applied on KDD99CUP (in second)\n",
      "[53.82866930961609]\n",
      "ROC AUC for LOF applied on KDD99CUP\n",
      "[0.48454402273277974]\n"
     ]
    },
    {
     "name": "stderr",
     "output_type": "stream",
     "text": [
      "/Users/thesard/anaconda3/lib/python3.7/site-packages/sklearn/neighbors/lof.py:236: FutureWarning: default contamination parameter 0.1 will change in version 0.22 to \"auto\". This will change the predict method behavior.\n",
      "  FutureWarning)\n"
     ]
    },
    {
     "name": "stdout",
     "output_type": "stream",
     "text": [
      "Execution time of LOF applied on KDD99CUP (in second)\n",
      "[57.695087909698486]\n",
      "ROC AUC for LOF applied on KDD99CUP\n",
      "[0.49309098068154283]\n"
     ]
    },
    {
     "name": "stderr",
     "output_type": "stream",
     "text": [
      "/Users/thesard/anaconda3/lib/python3.7/site-packages/sklearn/neighbors/lof.py:236: FutureWarning: default contamination parameter 0.1 will change in version 0.22 to \"auto\". This will change the predict method behavior.\n",
      "  FutureWarning)\n"
     ]
    },
    {
     "name": "stdout",
     "output_type": "stream",
     "text": [
      "Execution time of LOF applied on KDD99CUP (in second)\n",
      "[54.3389208316803]\n",
      "ROC AUC for LOF applied on KDD99CUP\n",
      "[0.49312490362799305]\n"
     ]
    },
    {
     "name": "stderr",
     "output_type": "stream",
     "text": [
      "/Users/thesard/anaconda3/lib/python3.7/site-packages/sklearn/neighbors/lof.py:236: FutureWarning: default contamination parameter 0.1 will change in version 0.22 to \"auto\". This will change the predict method behavior.\n",
      "  FutureWarning)\n"
     ]
    },
    {
     "name": "stdout",
     "output_type": "stream",
     "text": [
      "Execution time of LOF applied on KDD99CUP (in second)\n",
      "[52.49622702598572]\n",
      "ROC AUC for LOF applied on KDD99CUP\n",
      "[0.49592704363724477]\n"
     ]
    },
    {
     "name": "stderr",
     "output_type": "stream",
     "text": [
      "/Users/thesard/anaconda3/lib/python3.7/site-packages/sklearn/neighbors/lof.py:236: FutureWarning: default contamination parameter 0.1 will change in version 0.22 to \"auto\". This will change the predict method behavior.\n",
      "  FutureWarning)\n"
     ]
    },
    {
     "name": "stdout",
     "output_type": "stream",
     "text": [
      "Execution time of LOF applied on KDD99CUP (in second)\n",
      "[49.82447576522827]\n",
      "ROC AUC for LOF applied on KDD99CUP\n",
      "[0.49601912020618105]\n"
     ]
    },
    {
     "name": "stderr",
     "output_type": "stream",
     "text": [
      "/Users/thesard/anaconda3/lib/python3.7/site-packages/sklearn/neighbors/lof.py:236: FutureWarning: default contamination parameter 0.1 will change in version 0.22 to \"auto\". This will change the predict method behavior.\n",
      "  FutureWarning)\n"
     ]
    },
    {
     "name": "stdout",
     "output_type": "stream",
     "text": [
      "Execution time of LOF applied on KDD99CUP (in second)\n",
      "[50.597997188568115]\n",
      "ROC AUC for LOF applied on KDD99CUP\n",
      "[0.516026637222724]\n"
     ]
    },
    {
     "name": "stderr",
     "output_type": "stream",
     "text": [
      "/Users/thesard/anaconda3/lib/python3.7/site-packages/sklearn/neighbors/lof.py:236: FutureWarning: default contamination parameter 0.1 will change in version 0.22 to \"auto\". This will change the predict method behavior.\n",
      "  FutureWarning)\n"
     ]
    },
    {
     "name": "stdout",
     "output_type": "stream",
     "text": [
      "Execution time of LOF applied on KDD99CUP (in second)\n",
      "[51.21554613113403]\n",
      "ROC AUC for LOF applied on KDD99CUP\n",
      "[0.783396782827059]\n"
     ]
    }
   ],
   "source": [
    "averages_executions_time_LOF_KDD99CUP = []\n",
    "averages_roc_auc_LOF_KDD99CUP = []\n",
    "\n",
    "for j in range(5, 200, 5):\n",
    "    n_neighbors = j\n",
    "    executions_time_LOF_KDD99CUP = []\n",
    "    roc_auc_LOF_KDD99CUP = []\n",
    "        \n",
    "    #for i in range(5):\n",
    "###########################\n",
    "    roc_auc_LOF_Sub_Datasets = []\n",
    "    start_LOF_KDD99CUP = time()\n",
    "\n",
    "    # Apply the function on the 6 sub_dataset\n",
    "    func_LOF_KDD99CUP = LocalOutlierFactor(n_neighbors=n_neighbors,novelty=True)\n",
    "    func_LOF_KDD99CUP.fit(X_sub_dataset_1)\n",
    "    y_pred_LOF_sub_dataset_1 = func_LOF_KDD99CUP.predict(X_sub_dataset_1)\n",
    "\n",
    "    #func_LOF_KDD99CUP = LocalOutlierFactor(n_neighbors=n_neighbors,novelty=True)\n",
    "    #func_LOF_KDD99CUP.fit(X_sub_dataset_2)\n",
    "    #y_pred_LOF_sub_dataset_2 = func_LOF_KDD99CUP.predict(X_sub_dataset_2)\n",
    "\n",
    "    #func_LOF_KDD99CUP = LocalOutlierFactor(n_neighbors=n_neighbors,novelty=True)\n",
    "    #func_LOF_KDD99CUP.fit(X_sub_dataset_3)\n",
    "    #y_pred_LOF_sub_dataset_3 = func_LOF_KDD99CUP.predict(X_sub_dataset_3)\n",
    "\n",
    "    #func_LOF_KDD99CUP = LocalOutlierFactor(n_neighbors=n_neighbors,novelty=True)\n",
    "    #func_LOF_KDD99CUP.fit(X_sub_dataset_4)\n",
    "    #y_pred_LOF_sub_dataset_4 = func_LOF_KDD99CUP.predict(X_sub_dataset_4)\n",
    "\n",
    "    #func_LOF_KDD99CUP = LocalOutlierFactor(n_neighbors=n_neighbors,novelty=True)\n",
    "    #func_LOF_KDD99CUP.fit(X_sub_dataset_5)\n",
    "    #y_pred_LOF_sub_dataset_5 = func_LOF_KDD99CUP.predict(X_sub_dataset_5)\n",
    "\n",
    "    #func_LOF_KDD99CUP = LocalOutlierFactor(n_neighbors=n_neighbors,novelty=True)\n",
    "    #func_LOF_KDD99CUP.fit(X_sub_dataset_6)\n",
    "    #y_pred_LOF_sub_dataset_6 = func_LOF_KDD99CUP.predict(X_sub_dataset_6)\n",
    "\n",
    "    # Calcul du temps d'exécution\n",
    "    exec_time_LOF_KDD99CUP = time() - start_LOF_KDD99CUP\n",
    "    executions_time_LOF_KDD99CUP.append(exec_time_LOF_KDD99CUP)\n",
    "\n",
    "    # Calcul de l'aire sous la courbe ROC\n",
    "    # Apply the function on ROC AUC on the 6 sub_dataset\n",
    "    auc_LOF_KDD99CUP = roc_auc_score(y_transform_sub_dataset_1, y_pred_LOF_sub_dataset_1)\n",
    "    roc_auc_LOF_Sub_Datasets.append(auc_LOF_KDD99CUP)\n",
    "    #auc_LOF_KDD99CUP = roc_auc_score(y_transform_sub_dataset_2, y_pred_LOF_sub_dataset_2)\n",
    "    #roc_auc_LOF_Sub_Datasets.append(auc_LOF_KDD99CUP)\n",
    "    #auc_LOF_KDD99CUP = roc_auc_score(y_transform_sub_dataset_3, y_pred_LOF_sub_dataset_3)\n",
    "    #roc_auc_LOF_Sub_Datasets.append(auc_LOF_KDD99CUP)\n",
    "    #auc_LOF_KDD99CUP = roc_auc_score(y_transform_sub_dataset_4, y_pred_LOF_sub_dataset_4)\n",
    "    #roc_auc_LOF_Sub_Datasets.append(auc_LOF_KDD99CUP)\n",
    "    #auc_LOF_KDD99CUP = roc_auc_score(y_transform_sub_dataset_5, y_pred_LOF_sub_dataset_5)\n",
    "    #roc_auc_LOF_Sub_Datasets.append(auc_LOF_KDD99CUP)\n",
    "    #auc_LOF_KDD99CUP = roc_auc_score(y_transform_sub_dataset_6, y_pred_LOF_sub_dataset_6)\n",
    "    #roc_auc_LOF_Sub_Datasets.append(auc_LOF_KDD99CUP)\n",
    "\n",
    "    # Mean of the ROC AUC of the 6 sub_datasets\n",
    "    roc_auc_LOF_KDD99CUP.append(statistics.mean(roc_auc_LOF_Sub_Datasets))\n",
    " #######################################  \n",
    "        \n",
    "    print(\"Execution time of LOF applied on KDD99CUP (in second)\")\n",
    "    print(executions_time_LOF_KDD99CUP)\n",
    "    print(\"ROC AUC for LOF applied on KDD99CUP\")\n",
    "    print(roc_auc_LOF_KDD99CUP)\n",
    "    averages_executions_time_LOF_KDD99CUP.append(statistics.mean(executions_time_LOF_KDD99CUP))\n",
    "    averages_roc_auc_LOF_KDD99CUP.append(statistics.mean(roc_auc_LOF_KDD99CUP))\n"
   ]
  },
  {
   "cell_type": "markdown",
   "metadata": {},
   "source": [
    "### Résultat de LOF sur KDD99CUP"
   ]
  },
  {
   "cell_type": "code",
   "execution_count": 15,
   "metadata": {},
   "outputs": [
    {
     "name": "stdout",
     "output_type": "stream",
     "text": [
      "Execution time of LOF applied on KDD99CUP (in second)\n",
      "[18.902546882629395, 22.910732984542847, 25.524651050567627, 28.405873775482178, 24.597292184829712, 26.512227058410645, 30.136018991470337, 27.56598997116089, 29.637439966201782, 33.470175981521606, 33.769304037094116, 34.111266136169434, 30.4944269657135, 34.438093185424805, 38.32731628417969, 40.01055288314819, 34.12298798561096, 36.494633197784424, 39.581904888153076, 41.35542297363281, 40.207817792892456, 42.744410276412964, 43.08960795402527, 43.80181670188904, 39.523130893707275, 43.94402503967285, 43.29129695892334, 47.453534841537476, 46.82526993751526, 47.25864815711975, 46.17681694030762, 46.768396615982056, 53.82866930961609, 57.695087909698486, 54.3389208316803, 52.49622702598572, 49.82447576522827, 50.597997188568115, 51.21554613113403]\n"
     ]
    },
    {
     "data": {
      "image/png": "[encoded data removed]",
      "text/plain": [
       "<Figure size 432x288 with 1 Axes>"
      ]
     },
     "metadata": {
      "needs_background": "light"
     },
     "output_type": "display_data"
    }
   ],
   "source": [
    "print(\"Execution time of LOF applied on KDD99CUP (in second)\")\n",
    "print(averages_executions_time_LOF_KDD99CUP)\n",
    "plt.plot(range(5, 200, 5), averages_executions_time_LOF_KDD99CUP,  \"g-\", label=\"LOF on KDD99CUP\")\n",
    "#plt.axis([0, 200, 0, 200])\n",
    "plt.xlabel('k')\n",
    "plt.ylabel('Execution time')\n",
    "plt.legend(loc=\"best\")\n",
    "plt.show()"
   ]
  },
  {
   "cell_type": "code",
   "execution_count": 16,
   "metadata": {},
   "outputs": [
    {
     "name": "stdout",
     "output_type": "stream",
     "text": [
      "ROC AUC for LOF applied on KDD99CUP\n",
      "[0.5477257307751613, 0.5563825252770007, 0.5417089785668656, 0.5232678370817455, 0.5024025541335331, 0.49890257065444854, 0.4986990329757473, 0.4979818049650858, 0.49795757428904996, 0.4975844218780977, 0.5256785139987223, 0.5427433530850057, 0.5940784082648634, 0.6052530453554199, 0.5965073958631628, 0.6021455988281164, 0.6047732779699098, 0.5677929984360199, 0.5506554673216292, 0.5448524957596317, 0.5391803698482278, 0.5304686433024208, 0.5304347203559707, 0.5191437760204419, 0.5132971892415799, 0.5132584201599224, 0.5075281406260326, 0.4874673161222107, 0.4874721622574179, 0.48467486838337337, 0.4846021763552658, 0.484524638191951, 0.48454402273277974, 0.49309098068154283, 0.49312490362799305, 0.49592704363724477, 0.49601912020618105, 0.516026637222724, 0.783396782827059]\n",
      "La valeur max est 0.783396782827059 à l'index 38\n"
     ]
    },
    {
     "data": {
      "image/png": "[encoded data removed]",
      "text/plain": [
       "<Figure size 432x288 with 1 Axes>"
      ]
     },
     "metadata": {
      "needs_background": "light"
     },
     "output_type": "display_data"
    }
   ],
   "source": [
    "print(\"ROC AUC for LOF applied on KDD99CUP\")\n",
    "print(averages_roc_auc_LOF_KDD99CUP)\n",
    "print(\"La valeur max est \"+str(max(averages_roc_auc_LOF_KDD99CUP))+\" à l'index \"+str(averages_roc_auc_LOF_KDD99CUP.index(max(averages_roc_auc_LOF_KDD99CUP))))\n",
    "plt.plot(range(5, 200, 5), averages_roc_auc_LOF_KDD99CUP,  \"g-\", label=\"ROC AUC of LOF on KDD99CUP\")\n",
    "#plt.axis([0, 1, 0, 1])\n",
    "plt.xlabel('k')\n",
    "plt.ylabel('AUC')\n",
    "plt.legend(loc=\"best\")\n",
    "plt.show()"
   ]
  },
  {
   "cell_type": "code",
   "execution_count": 20,
   "metadata": {},
   "outputs": [
    {
     "name": "stderr",
     "output_type": "stream",
     "text": [
      "/Users/thesard/anaconda3/lib/python3.7/site-packages/sklearn/neighbors/lof.py:236: FutureWarning: default contamination parameter 0.1 will change in version 0.22 to \"auto\". This will change the predict method behavior.\n",
      "  FutureWarning)\n"
     ]
    },
    {
     "name": "stdout",
     "output_type": "stream",
     "text": [
      "Execution time of LOF applied on KDD99CUP (in second)\n",
      "[16.601251125335693]\n",
      "ROC AUC for LOF applied on KDD99CUP\n",
      "[0.5779741778091063]\n"
     ]
    },
    {
     "name": "stderr",
     "output_type": "stream",
     "text": [
      "/Users/thesard/anaconda3/lib/python3.7/site-packages/sklearn/neighbors/lof.py:236: FutureWarning: default contamination parameter 0.1 will change in version 0.22 to \"auto\". This will change the predict method behavior.\n",
      "  FutureWarning)\n"
     ]
    },
    {
     "name": "stdout",
     "output_type": "stream",
     "text": [
      "Execution time of LOF applied on KDD99CUP (in second)\n",
      "[17.093443155288696]\n",
      "ROC AUC for LOF applied on KDD99CUP\n",
      "[0.5608996464524088]\n"
     ]
    },
    {
     "name": "stderr",
     "output_type": "stream",
     "text": [
      "/Users/thesard/anaconda3/lib/python3.7/site-packages/sklearn/neighbors/lof.py:236: FutureWarning: default contamination parameter 0.1 will change in version 0.22 to \"auto\". This will change the predict method behavior.\n",
      "  FutureWarning)\n"
     ]
    },
    {
     "name": "stdout",
     "output_type": "stream",
     "text": [
      "Execution time of LOF applied on KDD99CUP (in second)\n",
      "[18.05699586868286]\n",
      "ROC AUC for LOF applied on KDD99CUP\n",
      "[0.5352878494173623]\n"
     ]
    },
    {
     "name": "stderr",
     "output_type": "stream",
     "text": [
      "/Users/thesard/anaconda3/lib/python3.7/site-packages/sklearn/neighbors/lof.py:236: FutureWarning: default contamination parameter 0.1 will change in version 0.22 to \"auto\". This will change the predict method behavior.\n",
      "  FutureWarning)\n"
     ]
    },
    {
     "name": "stdout",
     "output_type": "stream",
     "text": [
      "Execution time of LOF applied on KDD99CUP (in second)\n",
      "[18.527397871017456]\n",
      "ROC AUC for LOF applied on KDD99CUP\n",
      "[0.521059073286781]\n"
     ]
    },
    {
     "name": "stderr",
     "output_type": "stream",
     "text": [
      "/Users/thesard/anaconda3/lib/python3.7/site-packages/sklearn/neighbors/lof.py:236: FutureWarning: default contamination parameter 0.1 will change in version 0.22 to \"auto\". This will change the predict method behavior.\n",
      "  FutureWarning)\n"
     ]
    },
    {
     "name": "stdout",
     "output_type": "stream",
     "text": [
      "Execution time of LOF applied on KDD99CUP (in second)\n",
      "[19.360121965408325]\n",
      "ROC AUC for LOF applied on KDD99CUP\n",
      "[0.4982930314778509]\n"
     ]
    },
    {
     "name": "stderr",
     "output_type": "stream",
     "text": [
      "/Users/thesard/anaconda3/lib/python3.7/site-packages/sklearn/neighbors/lof.py:236: FutureWarning: default contamination parameter 0.1 will change in version 0.22 to \"auto\". This will change the predict method behavior.\n",
      "  FutureWarning)\n"
     ]
    },
    {
     "name": "stdout",
     "output_type": "stream",
     "text": [
      "Execution time of LOF applied on KDD99CUP (in second)\n",
      "[23.05241298675537]\n",
      "ROC AUC for LOF applied on KDD99CUP\n",
      "[0.49544727625173474]\n"
     ]
    },
    {
     "name": "stderr",
     "output_type": "stream",
     "text": [
      "/Users/thesard/anaconda3/lib/python3.7/site-packages/sklearn/neighbors/lof.py:236: FutureWarning: default contamination parameter 0.1 will change in version 0.22 to \"auto\". This will change the predict method behavior.\n",
      "  FutureWarning)\n"
     ]
    },
    {
     "name": "stdout",
     "output_type": "stream",
     "text": [
      "Execution time of LOF applied on KDD99CUP (in second)\n",
      "[24.409388065338135]\n",
      "ROC AUC for LOF applied on KDD99CUP\n",
      "[0.49544727625173474]\n"
     ]
    },
    {
     "name": "stderr",
     "output_type": "stream",
     "text": [
      "/Users/thesard/anaconda3/lib/python3.7/site-packages/sklearn/neighbors/lof.py:236: FutureWarning: default contamination parameter 0.1 will change in version 0.22 to \"auto\". This will change the predict method behavior.\n",
      "  FutureWarning)\n"
     ]
    },
    {
     "name": "stdout",
     "output_type": "stream",
     "text": [
      "Execution time of LOF applied on KDD99CUP (in second)\n",
      "[23.55992817878723]\n",
      "ROC AUC for LOF applied on KDD99CUP\n",
      "[0.49544727625173474]\n"
     ]
    },
    {
     "name": "stderr",
     "output_type": "stream",
     "text": [
      "/Users/thesard/anaconda3/lib/python3.7/site-packages/sklearn/neighbors/lof.py:236: FutureWarning: default contamination parameter 0.1 will change in version 0.22 to \"auto\". This will change the predict method behavior.\n",
      "  FutureWarning)\n"
     ]
    },
    {
     "name": "stdout",
     "output_type": "stream",
     "text": [
      "Execution time of LOF applied on KDD99CUP (in second)\n",
      "[22.666385889053345]\n",
      "ROC AUC for LOF applied on KDD99CUP\n",
      "[0.49544727625173474]\n"
     ]
    },
    {
     "name": "stderr",
     "output_type": "stream",
     "text": [
      "/Users/thesard/anaconda3/lib/python3.7/site-packages/sklearn/neighbors/lof.py:236: FutureWarning: default contamination parameter 0.1 will change in version 0.22 to \"auto\". This will change the predict method behavior.\n",
      "  FutureWarning)\n"
     ]
    },
    {
     "name": "stdout",
     "output_type": "stream",
     "text": [
      "Execution time of LOF applied on KDD99CUP (in second)\n",
      "[23.743576765060425]\n",
      "ROC AUC for LOF applied on KDD99CUP\n",
      "[0.49544727625173474]\n"
     ]
    },
    {
     "name": "stderr",
     "output_type": "stream",
     "text": [
      "/Users/thesard/anaconda3/lib/python3.7/site-packages/sklearn/neighbors/lof.py:236: FutureWarning: default contamination parameter 0.1 will change in version 0.22 to \"auto\". This will change the predict method behavior.\n",
      "  FutureWarning)\n"
     ]
    },
    {
     "name": "stdout",
     "output_type": "stream",
     "text": [
      "Execution time of LOF applied on KDD99CUP (in second)\n",
      "[24.932187795639038]\n",
      "ROC AUC for LOF applied on KDD99CUP\n",
      "[0.5239048285128973]\n"
     ]
    },
    {
     "name": "stderr",
     "output_type": "stream",
     "text": [
      "/Users/thesard/anaconda3/lib/python3.7/site-packages/sklearn/neighbors/lof.py:236: FutureWarning: default contamination parameter 0.1 will change in version 0.22 to \"auto\". This will change the predict method behavior.\n",
      "  FutureWarning)\n"
     ]
    },
    {
     "name": "stdout",
     "output_type": "stream",
     "text": [
      "Execution time of LOF applied on KDD99CUP (in second)\n",
      "[24.036752939224243]\n",
      "ROC AUC for LOF applied on KDD99CUP\n",
      "[0.5409793598695949]\n"
     ]
    },
    {
     "name": "stderr",
     "output_type": "stream",
     "text": [
      "/Users/thesard/anaconda3/lib/python3.7/site-packages/sklearn/neighbors/lof.py:236: FutureWarning: default contamination parameter 0.1 will change in version 0.22 to \"auto\". This will change the predict method behavior.\n",
      "  FutureWarning)\n"
     ]
    },
    {
     "name": "stdout",
     "output_type": "stream",
     "text": [
      "Execution time of LOF applied on KDD99CUP (in second)\n",
      "[24.62563681602478]\n",
      "ROC AUC for LOF applied on KDD99CUP\n",
      "[0.6035859748441527]\n"
     ]
    },
    {
     "name": "stderr",
     "output_type": "stream",
     "text": [
      "/Users/thesard/anaconda3/lib/python3.7/site-packages/sklearn/neighbors/lof.py:236: FutureWarning: default contamination parameter 0.1 will change in version 0.22 to \"auto\". This will change the predict method behavior.\n",
      "  FutureWarning)\n"
     ]
    },
    {
     "name": "stdout",
     "output_type": "stream",
     "text": [
      "Execution time of LOF applied on KDD99CUP (in second)\n",
      "[25.987552881240845]\n",
      "ROC AUC for LOF applied on KDD99CUP\n",
      "[0.6121232405225014]\n"
     ]
    },
    {
     "name": "stderr",
     "output_type": "stream",
     "text": [
      "/Users/thesard/anaconda3/lib/python3.7/site-packages/sklearn/neighbors/lof.py:236: FutureWarning: default contamination parameter 0.1 will change in version 0.22 to \"auto\". This will change the predict method behavior.\n",
      "  FutureWarning)\n"
     ]
    },
    {
     "name": "stdout",
     "output_type": "stream",
     "text": [
      "Execution time of LOF applied on KDD99CUP (in second)\n",
      "[25.4359290599823]\n",
      "ROC AUC for LOF applied on KDD99CUP\n",
      "[0.6035859748441527]\n"
     ]
    },
    {
     "name": "stderr",
     "output_type": "stream",
     "text": [
      "/Users/thesard/anaconda3/lib/python3.7/site-packages/sklearn/neighbors/lof.py:236: FutureWarning: default contamination parameter 0.1 will change in version 0.22 to \"auto\". This will change the predict method behavior.\n",
      "  FutureWarning)\n"
     ]
    },
    {
     "name": "stdout",
     "output_type": "stream",
     "text": [
      "Execution time of LOF applied on KDD99CUP (in second)\n",
      "[25.830070972442627]\n",
      "ROC AUC for LOF applied on KDD99CUP\n",
      "[0.606431730070269]\n"
     ]
    },
    {
     "name": "stderr",
     "output_type": "stream",
     "text": [
      "/Users/thesard/anaconda3/lib/python3.7/site-packages/sklearn/neighbors/lof.py:236: FutureWarning: default contamination parameter 0.1 will change in version 0.22 to \"auto\". This will change the predict method behavior.\n",
      "  FutureWarning)\n"
     ]
    },
    {
     "name": "stdout",
     "output_type": "stream",
     "text": [
      "Execution time of LOF applied on KDD99CUP (in second)\n",
      "[27.105626106262207]\n",
      "ROC AUC for LOF applied on KDD99CUP\n",
      "[0.606431730070269]\n"
     ]
    },
    {
     "name": "stderr",
     "output_type": "stream",
     "text": [
      "/Users/thesard/anaconda3/lib/python3.7/site-packages/sklearn/neighbors/lof.py:236: FutureWarning: default contamination parameter 0.1 will change in version 0.22 to \"auto\". This will change the predict method behavior.\n",
      "  FutureWarning)\n"
     ]
    },
    {
     "name": "stdout",
     "output_type": "stream",
     "text": [
      "Execution time of LOF applied on KDD99CUP (in second)\n",
      "[28.707056045532227]\n",
      "ROC AUC for LOF applied on KDD99CUP\n",
      "[0.6007402196180365]\n"
     ]
    },
    {
     "name": "stderr",
     "output_type": "stream",
     "text": [
      "/Users/thesard/anaconda3/lib/python3.7/site-packages/sklearn/neighbors/lof.py:236: FutureWarning: default contamination parameter 0.1 will change in version 0.22 to \"auto\". This will change the predict method behavior.\n",
      "  FutureWarning)\n"
     ]
    },
    {
     "name": "stdout",
     "output_type": "stream",
     "text": [
      "Execution time of LOF applied on KDD99CUP (in second)\n",
      "[27.07657289505005]\n",
      "ROC AUC for LOF applied on KDD99CUP\n",
      "[0.5580538912262925]\n"
     ]
    },
    {
     "name": "stderr",
     "output_type": "stream",
     "text": [
      "/Users/thesard/anaconda3/lib/python3.7/site-packages/sklearn/neighbors/lof.py:236: FutureWarning: default contamination parameter 0.1 will change in version 0.22 to \"auto\". This will change the predict method behavior.\n",
      "  FutureWarning)\n"
     ]
    },
    {
     "name": "stdout",
     "output_type": "stream",
     "text": [
      "Execution time of LOF applied on KDD99CUP (in second)\n",
      "[27.514561891555786]\n",
      "ROC AUC for LOF applied on KDD99CUP\n",
      "[0.5438251150957112]\n"
     ]
    },
    {
     "name": "stderr",
     "output_type": "stream",
     "text": [
      "/Users/thesard/anaconda3/lib/python3.7/site-packages/sklearn/neighbors/lof.py:236: FutureWarning: default contamination parameter 0.1 will change in version 0.22 to \"auto\". This will change the predict method behavior.\n",
      "  FutureWarning)\n"
     ]
    },
    {
     "name": "stdout",
     "output_type": "stream",
     "text": [
      "Execution time of LOF applied on KDD99CUP (in second)\n",
      "[27.310483932495117]\n",
      "ROC AUC for LOF applied on KDD99CUP\n",
      "[0.5381336046434786]\n"
     ]
    },
    {
     "name": "stderr",
     "output_type": "stream",
     "text": [
      "/Users/thesard/anaconda3/lib/python3.7/site-packages/sklearn/neighbors/lof.py:236: FutureWarning: default contamination parameter 0.1 will change in version 0.22 to \"auto\". This will change the predict method behavior.\n",
      "  FutureWarning)\n"
     ]
    },
    {
     "name": "stdout",
     "output_type": "stream",
     "text": [
      "Execution time of LOF applied on KDD99CUP (in second)\n",
      "[27.94042682647705]\n",
      "ROC AUC for LOF applied on KDD99CUP\n",
      "[0.5295963389651299]\n"
     ]
    },
    {
     "name": "stderr",
     "output_type": "stream",
     "text": [
      "/Users/thesard/anaconda3/lib/python3.7/site-packages/sklearn/neighbors/lof.py:236: FutureWarning: default contamination parameter 0.1 will change in version 0.22 to \"auto\". This will change the predict method behavior.\n",
      "  FutureWarning)\n"
     ]
    },
    {
     "name": "stdout",
     "output_type": "stream",
     "text": [
      "Execution time of LOF applied on KDD99CUP (in second)\n",
      "[28.835601806640625]\n",
      "ROC AUC for LOF applied on KDD99CUP\n",
      "[0.529601185100337]\n"
     ]
    },
    {
     "name": "stderr",
     "output_type": "stream",
     "text": [
      "/Users/thesard/anaconda3/lib/python3.7/site-packages/sklearn/neighbors/lof.py:236: FutureWarning: default contamination parameter 0.1 will change in version 0.22 to \"auto\". This will change the predict method behavior.\n",
      "  FutureWarning)\n"
     ]
    },
    {
     "name": "stdout",
     "output_type": "stream",
     "text": [
      "Execution time of LOF applied on KDD99CUP (in second)\n",
      "[28.472607851028442]\n",
      "ROC AUC for LOF applied on KDD99CUP\n",
      "[0.5182133180606647]\n"
     ]
    },
    {
     "name": "stderr",
     "output_type": "stream",
     "text": [
      "/Users/thesard/anaconda3/lib/python3.7/site-packages/sklearn/neighbors/lof.py:236: FutureWarning: default contamination parameter 0.1 will change in version 0.22 to \"auto\". This will change the predict method behavior.\n",
      "  FutureWarning)\n"
     ]
    },
    {
     "name": "stdout",
     "output_type": "stream",
     "text": [
      "Execution time of LOF applied on KDD99CUP (in second)\n",
      "[28.879562854766846]\n",
      "ROC AUC for LOF applied on KDD99CUP\n",
      "[0.5125218076084324]\n"
     ]
    },
    {
     "name": "stderr",
     "output_type": "stream",
     "text": [
      "/Users/thesard/anaconda3/lib/python3.7/site-packages/sklearn/neighbors/lof.py:236: FutureWarning: default contamination parameter 0.1 will change in version 0.22 to \"auto\". This will change the predict method behavior.\n",
      "  FutureWarning)\n"
     ]
    },
    {
     "name": "stdout",
     "output_type": "stream",
     "text": [
      "Execution time of LOF applied on KDD99CUP (in second)\n",
      "[29.87860131263733]\n",
      "ROC AUC for LOF applied on KDD99CUP\n",
      "[0.5125218076084324]\n"
     ]
    },
    {
     "name": "stderr",
     "output_type": "stream",
     "text": [
      "/Users/thesard/anaconda3/lib/python3.7/site-packages/sklearn/neighbors/lof.py:236: FutureWarning: default contamination parameter 0.1 will change in version 0.22 to \"auto\". This will change the predict method behavior.\n",
      "  FutureWarning)\n"
     ]
    },
    {
     "name": "stdout",
     "output_type": "stream",
     "text": [
      "Execution time of LOF applied on KDD99CUP (in second)\n",
      "[29.516635179519653]\n",
      "ROC AUC for LOF applied on KDD99CUP\n",
      "[0.5068302971561998]\n"
     ]
    },
    {
     "name": "stderr",
     "output_type": "stream",
     "text": [
      "/Users/thesard/anaconda3/lib/python3.7/site-packages/sklearn/neighbors/lof.py:236: FutureWarning: default contamination parameter 0.1 will change in version 0.22 to \"auto\". This will change the predict method behavior.\n",
      "  FutureWarning)\n"
     ]
    },
    {
     "name": "stdout",
     "output_type": "stream",
     "text": [
      "Execution time of LOF applied on KDD99CUP (in second)\n",
      "[32.980283975601196]\n",
      "ROC AUC for LOF applied on KDD99CUP\n",
      "[0.4869100105733859]\n"
     ]
    },
    {
     "name": "stderr",
     "output_type": "stream",
     "text": [
      "/Users/thesard/anaconda3/lib/python3.7/site-packages/sklearn/neighbors/lof.py:236: FutureWarning: default contamination parameter 0.1 will change in version 0.22 to \"auto\". This will change the predict method behavior.\n",
      "  FutureWarning)\n"
     ]
    },
    {
     "name": "stdout",
     "output_type": "stream",
     "text": [
      "Execution time of LOF applied on KDD99CUP (in second)\n",
      "[30.841774702072144]\n",
      "ROC AUC for LOF applied on KDD99CUP\n",
      "[0.4869100105733859]\n"
     ]
    },
    {
     "name": "stderr",
     "output_type": "stream",
     "text": [
      "/Users/thesard/anaconda3/lib/python3.7/site-packages/sklearn/neighbors/lof.py:236: FutureWarning: default contamination parameter 0.1 will change in version 0.22 to \"auto\". This will change the predict method behavior.\n",
      "  FutureWarning)\n"
     ]
    },
    {
     "name": "stdout",
     "output_type": "stream",
     "text": [
      "Execution time of LOF applied on KDD99CUP (in second)\n",
      "[30.897964000701904]\n",
      "ROC AUC for LOF applied on KDD99CUP\n",
      "[0.48406425534726966]\n"
     ]
    },
    {
     "name": "stderr",
     "output_type": "stream",
     "text": [
      "/Users/thesard/anaconda3/lib/python3.7/site-packages/sklearn/neighbors/lof.py:236: FutureWarning: default contamination parameter 0.1 will change in version 0.22 to \"auto\". This will change the predict method behavior.\n",
      "  FutureWarning)\n"
     ]
    },
    {
     "name": "stdout",
     "output_type": "stream",
     "text": [
      "Execution time of LOF applied on KDD99CUP (in second)\n",
      "[31.554543018341064]\n",
      "ROC AUC for LOF applied on KDD99CUP\n",
      "[0.48406425534726966]\n"
     ]
    },
    {
     "name": "stderr",
     "output_type": "stream",
     "text": [
      "/Users/thesard/anaconda3/lib/python3.7/site-packages/sklearn/neighbors/lof.py:236: FutureWarning: default contamination parameter 0.1 will change in version 0.22 to \"auto\". This will change the predict method behavior.\n",
      "  FutureWarning)\n"
     ]
    },
    {
     "name": "stdout",
     "output_type": "stream",
     "text": [
      "Execution time of LOF applied on KDD99CUP (in second)\n",
      "[32.44221019744873]\n",
      "ROC AUC for LOF applied on KDD99CUP\n",
      "[0.48406425534726966]\n"
     ]
    },
    {
     "name": "stderr",
     "output_type": "stream",
     "text": [
      "/Users/thesard/anaconda3/lib/python3.7/site-packages/sklearn/neighbors/lof.py:236: FutureWarning: default contamination parameter 0.1 will change in version 0.22 to \"auto\". This will change the predict method behavior.\n",
      "  FutureWarning)\n"
     ]
    },
    {
     "name": "stdout",
     "output_type": "stream",
     "text": [
      "Execution time of LOF applied on KDD99CUP (in second)\n",
      "[32.38812708854675]\n",
      "ROC AUC for LOF applied on KDD99CUP\n",
      "[0.48406425534726966]\n"
     ]
    },
    {
     "name": "stderr",
     "output_type": "stream",
     "text": [
      "/Users/thesard/anaconda3/lib/python3.7/site-packages/sklearn/neighbors/lof.py:236: FutureWarning: default contamination parameter 0.1 will change in version 0.22 to \"auto\". This will change the predict method behavior.\n",
      "  FutureWarning)\n"
     ]
    },
    {
     "name": "stdout",
     "output_type": "stream",
     "text": [
      "Execution time of LOF applied on KDD99CUP (in second)\n",
      "[33.433014154434204]\n",
      "ROC AUC for LOF applied on KDD99CUP\n",
      "[0.4926015210256185]\n"
     ]
    },
    {
     "name": "stderr",
     "output_type": "stream",
     "text": [
      "/Users/thesard/anaconda3/lib/python3.7/site-packages/sklearn/neighbors/lof.py:236: FutureWarning: default contamination parameter 0.1 will change in version 0.22 to \"auto\". This will change the predict method behavior.\n",
      "  FutureWarning)\n"
     ]
    },
    {
     "name": "stdout",
     "output_type": "stream",
     "text": [
      "Execution time of LOF applied on KDD99CUP (in second)\n",
      "[32.84754705429077]\n",
      "ROC AUC for LOF applied on KDD99CUP\n",
      "[0.4926015210256185]\n"
     ]
    },
    {
     "name": "stderr",
     "output_type": "stream",
     "text": [
      "/Users/thesard/anaconda3/lib/python3.7/site-packages/sklearn/neighbors/lof.py:236: FutureWarning: default contamination parameter 0.1 will change in version 0.22 to \"auto\". This will change the predict method behavior.\n",
      "  FutureWarning)\n"
     ]
    },
    {
     "name": "stdout",
     "output_type": "stream",
     "text": [
      "Execution time of LOF applied on KDD99CUP (in second)\n",
      "[32.687320709228516]\n",
      "ROC AUC for LOF applied on KDD99CUP\n",
      "[0.49544727625173474]\n"
     ]
    },
    {
     "name": "stderr",
     "output_type": "stream",
     "text": [
      "/Users/thesard/anaconda3/lib/python3.7/site-packages/sklearn/neighbors/lof.py:236: FutureWarning: default contamination parameter 0.1 will change in version 0.22 to \"auto\". This will change the predict method behavior.\n",
      "  FutureWarning)\n"
     ]
    },
    {
     "name": "stdout",
     "output_type": "stream",
     "text": [
      "Execution time of LOF applied on KDD99CUP (in second)\n",
      "[35.819053173065186]\n",
      "ROC AUC for LOF applied on KDD99CUP\n",
      "[0.49544727625173474]\n"
     ]
    },
    {
     "name": "stderr",
     "output_type": "stream",
     "text": [
      "/Users/thesard/anaconda3/lib/python3.7/site-packages/sklearn/neighbors/lof.py:236: FutureWarning: default contamination parameter 0.1 will change in version 0.22 to \"auto\". This will change the predict method behavior.\n",
      "  FutureWarning)\n"
     ]
    },
    {
     "name": "stdout",
     "output_type": "stream",
     "text": [
      "Execution time of LOF applied on KDD99CUP (in second)\n",
      "[33.037994146347046]\n",
      "ROC AUC for LOF applied on KDD99CUP\n",
      "[0.5779741778091063]\n"
     ]
    },
    {
     "name": "stderr",
     "output_type": "stream",
     "text": [
      "/Users/thesard/anaconda3/lib/python3.7/site-packages/sklearn/neighbors/lof.py:236: FutureWarning: default contamination parameter 0.1 will change in version 0.22 to \"auto\". This will change the predict method behavior.\n",
      "  FutureWarning)\n"
     ]
    },
    {
     "name": "stdout",
     "output_type": "stream",
     "text": [
      "Execution time of LOF applied on KDD99CUP (in second)\n",
      "[34.59910607337952]\n",
      "ROC AUC for LOF applied on KDD99CUP\n",
      "[0.7885600645417098]\n"
     ]
    }
   ],
   "source": [
    "averages_executions_time_LOF_KDD99CUP = []\n",
    "averages_roc_auc_LOF_KDD99CUP = []\n",
    "\n",
    "for j in range(5, 200, 5):\n",
    "    n_neighbors = j\n",
    "    executions_time_LOF_KDD99CUP = []\n",
    "    roc_auc_LOF_KDD99CUP = []\n",
    "        \n",
    "    #for i in range(5):\n",
    "###########################\n",
    "    roc_auc_LOF_Sub_Datasets = []\n",
    "    start_LOF_KDD99CUP = time()\n",
    "\n",
    "    # Apply the function on the 6 sub_dataset\n",
    "    func_LOF_KDD99CUP = LocalOutlierFactor(n_neighbors=n_neighbors)\n",
    "    #func_LOF_KDD99CUP.fit(X_sub_dataset_1)\n",
    "    y_pred_LOF_sub_dataset_1 = func_LOF_KDD99CUP.fit_predict(X_sub_dataset_1)\n",
    "\n",
    "    #func_LOF_KDD99CUP = LocalOutlierFactor(n_neighbors=n_neighbors,novelty=True)\n",
    "    #func_LOF_KDD99CUP.fit(X_sub_dataset_2)\n",
    "    #y_pred_LOF_sub_dataset_2 = func_LOF_KDD99CUP.predict(X_sub_dataset_2)\n",
    "\n",
    "    #func_LOF_KDD99CUP = LocalOutlierFactor(n_neighbors=n_neighbors,novelty=True)\n",
    "    #func_LOF_KDD99CUP.fit(X_sub_dataset_3)\n",
    "    #y_pred_LOF_sub_dataset_3 = func_LOF_KDD99CUP.predict(X_sub_dataset_3)\n",
    "\n",
    "    #func_LOF_KDD99CUP = LocalOutlierFactor(n_neighbors=n_neighbors,novelty=True)\n",
    "    #func_LOF_KDD99CUP.fit(X_sub_dataset_4)\n",
    "    #y_pred_LOF_sub_dataset_4 = func_LOF_KDD99CUP.predict(X_sub_dataset_4)\n",
    "\n",
    "    #func_LOF_KDD99CUP = LocalOutlierFactor(n_neighbors=n_neighbors,novelty=True)\n",
    "    #func_LOF_KDD99CUP.fit(X_sub_dataset_5)\n",
    "    #y_pred_LOF_sub_dataset_5 = func_LOF_KDD99CUP.predict(X_sub_dataset_5)\n",
    "\n",
    "    #func_LOF_KDD99CUP = LocalOutlierFactor(n_neighbors=n_neighbors,novelty=True)\n",
    "    #func_LOF_KDD99CUP.fit(X_sub_dataset_6)\n",
    "    #y_pred_LOF_sub_dataset_6 = func_LOF_KDD99CUP.predict(X_sub_dataset_6)\n",
    "\n",
    "    # Calcul du temps d'exécution\n",
    "    exec_time_LOF_KDD99CUP = time() - start_LOF_KDD99CUP\n",
    "    executions_time_LOF_KDD99CUP.append(exec_time_LOF_KDD99CUP)\n",
    "\n",
    "    # Calcul de l'aire sous la courbe ROC\n",
    "    # Apply the function on ROC AUC on the 6 sub_dataset\n",
    "    auc_LOF_KDD99CUP = roc_auc_score(y_transform_sub_dataset_1, y_pred_LOF_sub_dataset_1)\n",
    "    roc_auc_LOF_Sub_Datasets.append(auc_LOF_KDD99CUP)\n",
    "    #auc_LOF_KDD99CUP = roc_auc_score(y_transform_sub_dataset_2, y_pred_LOF_sub_dataset_2)\n",
    "    #roc_auc_LOF_Sub_Datasets.append(auc_LOF_KDD99CUP)\n",
    "    #auc_LOF_KDD99CUP = roc_auc_score(y_transform_sub_dataset_3, y_pred_LOF_sub_dataset_3)\n",
    "    #roc_auc_LOF_Sub_Datasets.append(auc_LOF_KDD99CUP)\n",
    "    #auc_LOF_KDD99CUP = roc_auc_score(y_transform_sub_dataset_4, y_pred_LOF_sub_dataset_4)\n",
    "    #roc_auc_LOF_Sub_Datasets.append(auc_LOF_KDD99CUP)\n",
    "    #auc_LOF_KDD99CUP = roc_auc_score(y_transform_sub_dataset_5, y_pred_LOF_sub_dataset_5)\n",
    "    #roc_auc_LOF_Sub_Datasets.append(auc_LOF_KDD99CUP)\n",
    "    #auc_LOF_KDD99CUP = roc_auc_score(y_transform_sub_dataset_6, y_pred_LOF_sub_dataset_6)\n",
    "    #roc_auc_LOF_Sub_Datasets.append(auc_LOF_KDD99CUP)\n",
    "\n",
    "    # Mean of the ROC AUC of the 6 sub_datasets\n",
    "    roc_auc_LOF_KDD99CUP.append(statistics.mean(roc_auc_LOF_Sub_Datasets))\n",
    " #######################################  \n",
    "        \n",
    "    print(\"Execution time of LOF applied on KDD99CUP (in second)\")\n",
    "    print(executions_time_LOF_KDD99CUP)\n",
    "    print(\"ROC AUC for LOF applied on KDD99CUP\")\n",
    "    print(roc_auc_LOF_KDD99CUP)\n",
    "    averages_executions_time_LOF_KDD99CUP.append(statistics.mean(executions_time_LOF_KDD99CUP))\n",
    "    averages_roc_auc_LOF_KDD99CUP.append(statistics.mean(roc_auc_LOF_KDD99CUP))\n"
   ]
  },
  {
   "cell_type": "markdown",
   "metadata": {},
   "source": [
    "### Résultat de LOF sur KDD99CUP"
   ]
  },
  {
   "cell_type": "code",
   "execution_count": 21,
   "metadata": {},
   "outputs": [
    {
     "name": "stdout",
     "output_type": "stream",
     "text": [
      "Execution time of LOF applied on KDD99CUP (in second)\n",
      "[16.601251125335693, 17.093443155288696, 18.05699586868286, 18.527397871017456, 19.360121965408325, 23.05241298675537, 24.409388065338135, 23.55992817878723, 22.666385889053345, 23.743576765060425, 24.932187795639038, 24.036752939224243, 24.62563681602478, 25.987552881240845, 25.4359290599823, 25.830070972442627, 27.105626106262207, 28.707056045532227, 27.07657289505005, 27.514561891555786, 27.310483932495117, 27.94042682647705, 28.835601806640625, 28.472607851028442, 28.879562854766846, 29.87860131263733, 29.516635179519653, 32.980283975601196, 30.841774702072144, 30.897964000701904, 31.554543018341064, 32.44221019744873, 32.38812708854675, 33.433014154434204, 32.84754705429077, 32.687320709228516, 35.819053173065186, 33.037994146347046, 34.59910607337952]\n"
     ]
    },
    {
     "data": {
      "image/png": "[encoded data removed]",
      "text/plain": [
       "<Figure size 432x288 with 1 Axes>"
      ]
     },
     "metadata": {
      "needs_background": "light"
     },
     "output_type": "display_data"
    }
   ],
   "source": [
    "print(\"Execution time of LOF applied on KDD99CUP (in second)\")\n",
    "print(averages_executions_time_LOF_KDD99CUP)\n",
    "plt.plot(range(5, 200, 5), averages_executions_time_LOF_KDD99CUP,  \"g-\", label=\"LOF on KDD99CUP\")\n",
    "#plt.axis([0, 200, 0, 200])\n",
    "plt.xlabel('k')\n",
    "plt.ylabel('Execution time')\n",
    "plt.legend(loc=\"best\")\n",
    "plt.show()"
   ]
  },
  {
   "cell_type": "code",
   "execution_count": 22,
   "metadata": {},
   "outputs": [
    {
     "name": "stdout",
     "output_type": "stream",
     "text": [
      "ROC AUC for LOF applied on KDD99CUP\n",
      "[0.5779741778091063, 0.5608996464524088, 0.5352878494173623, 0.521059073286781, 0.4982930314778509, 0.49544727625173474, 0.49544727625173474, 0.49544727625173474, 0.49544727625173474, 0.49544727625173474, 0.5239048285128973, 0.5409793598695949, 0.6035859748441527, 0.6121232405225014, 0.6035859748441527, 0.606431730070269, 0.606431730070269, 0.6007402196180365, 0.5580538912262925, 0.5438251150957112, 0.5381336046434786, 0.5295963389651299, 0.529601185100337, 0.5182133180606647, 0.5125218076084324, 0.5125218076084324, 0.5068302971561998, 0.4869100105733859, 0.4869100105733859, 0.48406425534726966, 0.48406425534726966, 0.48406425534726966, 0.48406425534726966, 0.4926015210256185, 0.4926015210256185, 0.49544727625173474, 0.49544727625173474, 0.5779741778091063, 0.7885600645417098]\n",
      "La valeur max est 0.7885600645417098 à l'index 38\n"
     ]
    },
    {
     "data": {
      "image/png": "[encoded data removed]",
      "text/plain": [
       "<Figure size 432x288 with 1 Axes>"
      ]
     },
     "metadata": {
      "needs_background": "light"
     },
     "output_type": "display_data"
    }
   ],
   "source": [
    "print(\"ROC AUC for LOF applied on KDD99CUP\")\n",
    "print(averages_roc_auc_LOF_KDD99CUP)\n",
    "print(\"La valeur max est \"+str(max(averages_roc_auc_LOF_KDD99CUP))+\" à l'index \"+str(averages_roc_auc_LOF_KDD99CUP.index(max(averages_roc_auc_LOF_KDD99CUP))))\n",
    "plt.plot(range(5, 200, 5), averages_roc_auc_LOF_KDD99CUP,  \"g-\", label=\"ROC AUC of LOF on KDD99CUP\")\n",
    "#plt.axis([0, 1, 0, 1])\n",
    "plt.xlabel('k')\n",
    "plt.ylabel('AUC')\n",
    "plt.legend(loc=\"best\")\n",
    "plt.show()"
   ]
  },
  {
   "cell_type": "markdown",
   "metadata": {},
   "source": [
    "### Interprétation du résultat de LOF sur KDD99CUP"
   ]
  },
  {
   "cell_type": "markdown",
   "metadata": {},
   "source": [
    "Plus le nombre de n_neighbors augmente, plus de temps d'éxécution est important. Ceci s'explique par le fait que plus le nombre de voisins à considérer est grand plus il faudra calculer les distances et les densité afin d'estimer le degré d'abberrance d'une observation.\n",
    "Concernant la performance de la méthode, elle atteint son plus fort (AUC = 0.7885600645417098) à taux à n_neighbors= 195 ((38+1)*5) pour un temps d'exécution de 405.32807874679565\n",
    "NB: Continuer l'expérience en prenant n_neighbors à partir de 200 jusqu'à 400 pour voir si ça continuera à mieux classer. "
   ]
  },
  {
   "cell_type": "markdown",
   "metadata": {},
   "source": [
    "### Exécution de OC-SVM sur KDD99CUP"
   ]
  },
  {
   "cell_type": "code",
   "execution_count": 17,
   "metadata": {},
   "outputs": [
    {
     "name": "stderr",
     "output_type": "stream",
     "text": [
      "/Users/thesard/anaconda3/lib/python3.7/site-packages/ipykernel_launcher.py:4: MatplotlibDeprecationWarning: numpy.arange\n",
      "  after removing the cwd from sys.path.\n",
      "/Users/thesard/anaconda3/lib/python3.7/site-packages/sklearn/svm/base.py:196: FutureWarning: The default value of gamma will change from 'auto' to 'scale' in version 0.22 to account better for unscaled features. Set gamma explicitly to 'auto' or 'scale' to avoid this warning.\n",
      "  \"avoid this warning.\", FutureWarning)\n"
     ]
    },
    {
     "name": "stdout",
     "output_type": "stream",
     "text": [
      "Execution time of OC-SVM applied on KDD99CUP (in second)\n",
      "[2986.6513409614563]\n",
      "ROC AUC for OC-SVM applied on KDD99CUP\n",
      "[0.542150334823887]\n"
     ]
    },
    {
     "name": "stderr",
     "output_type": "stream",
     "text": [
      "/Users/thesard/anaconda3/lib/python3.7/site-packages/sklearn/svm/base.py:196: FutureWarning: The default value of gamma will change from 'auto' to 'scale' in version 0.22 to account better for unscaled features. Set gamma explicitly to 'auto' or 'scale' to avoid this warning.\n",
      "  \"avoid this warning.\", FutureWarning)\n"
     ]
    },
    {
     "name": "stdout",
     "output_type": "stream",
     "text": [
      "Execution time of OC-SVM applied on KDD99CUP (in second)\n",
      "[3077.2336308956146]\n",
      "ROC AUC for OC-SVM applied on KDD99CUP\n",
      "[0.5011811077824525]\n"
     ]
    },
    {
     "name": "stderr",
     "output_type": "stream",
     "text": [
      "/Users/thesard/anaconda3/lib/python3.7/site-packages/sklearn/svm/base.py:196: FutureWarning: The default value of gamma will change from 'auto' to 'scale' in version 0.22 to account better for unscaled features. Set gamma explicitly to 'auto' or 'scale' to avoid this warning.\n",
      "  \"avoid this warning.\", FutureWarning)\n"
     ]
    },
    {
     "name": "stdout",
     "output_type": "stream",
     "text": [
      "Execution time of OC-SVM applied on KDD99CUP (in second)\n",
      "[5292.63653588295]\n",
      "ROC AUC for OC-SVM applied on KDD99CUP\n",
      "[0.5071569431900786]\n"
     ]
    },
    {
     "name": "stderr",
     "output_type": "stream",
     "text": [
      "/Users/thesard/anaconda3/lib/python3.7/site-packages/sklearn/svm/base.py:196: FutureWarning: The default value of gamma will change from 'auto' to 'scale' in version 0.22 to account better for unscaled features. Set gamma explicitly to 'auto' or 'scale' to avoid this warning.\n",
      "  \"avoid this warning.\", FutureWarning)\n"
     ]
    },
    {
     "name": "stdout",
     "output_type": "stream",
     "text": [
      "Execution time of OC-SVM applied on KDD99CUP (in second)\n",
      "[3780.579262971878]\n",
      "ROC AUC for OC-SVM applied on KDD99CUP\n",
      "[0.4655545795977708]\n"
     ]
    },
    {
     "name": "stderr",
     "output_type": "stream",
     "text": [
      "/Users/thesard/anaconda3/lib/python3.7/site-packages/sklearn/svm/base.py:196: FutureWarning: The default value of gamma will change from 'auto' to 'scale' in version 0.22 to account better for unscaled features. Set gamma explicitly to 'auto' or 'scale' to avoid this warning.\n",
      "  \"avoid this warning.\", FutureWarning)\n"
     ]
    },
    {
     "name": "stdout",
     "output_type": "stream",
     "text": [
      "Execution time of OC-SVM applied on KDD99CUP (in second)\n",
      "[3394.2336580753326]\n",
      "ROC AUC for OC-SVM applied on KDD99CUP\n",
      "[0.4916751932947111]\n"
     ]
    },
    {
     "name": "stderr",
     "output_type": "stream",
     "text": [
      "/Users/thesard/anaconda3/lib/python3.7/site-packages/sklearn/svm/base.py:196: FutureWarning: The default value of gamma will change from 'auto' to 'scale' in version 0.22 to account better for unscaled features. Set gamma explicitly to 'auto' or 'scale' to avoid this warning.\n",
      "  \"avoid this warning.\", FutureWarning)\n"
     ]
    },
    {
     "name": "stdout",
     "output_type": "stream",
     "text": [
      "Execution time of OC-SVM applied on KDD99CUP (in second)\n",
      "[3581.1361231803894]\n",
      "ROC AUC for OC-SVM applied on KDD99CUP\n",
      "[0.45291208670176447]\n"
     ]
    },
    {
     "name": "stderr",
     "output_type": "stream",
     "text": [
      "/Users/thesard/anaconda3/lib/python3.7/site-packages/sklearn/svm/base.py:196: FutureWarning: The default value of gamma will change from 'auto' to 'scale' in version 0.22 to account better for unscaled features. Set gamma explicitly to 'auto' or 'scale' to avoid this warning.\n",
      "  \"avoid this warning.\", FutureWarning)\n"
     ]
    },
    {
     "name": "stdout",
     "output_type": "stream",
     "text": [
      "Execution time of OC-SVM applied on KDD99CUP (in second)\n",
      "[3182.6861062049866]\n",
      "ROC AUC for OC-SVM applied on KDD99CUP\n",
      "[0.4703015067074917]\n"
     ]
    },
    {
     "name": "stderr",
     "output_type": "stream",
     "text": [
      "/Users/thesard/anaconda3/lib/python3.7/site-packages/sklearn/svm/base.py:196: FutureWarning: The default value of gamma will change from 'auto' to 'scale' in version 0.22 to account better for unscaled features. Set gamma explicitly to 'auto' or 'scale' to avoid this warning.\n",
      "  \"avoid this warning.\", FutureWarning)\n"
     ]
    },
    {
     "name": "stdout",
     "output_type": "stream",
     "text": [
      "Execution time of OC-SVM applied on KDD99CUP (in second)\n",
      "[2253.939885854721]\n",
      "ROC AUC for OC-SVM applied on KDD99CUP\n",
      "[0.5046190276890543]\n"
     ]
    },
    {
     "name": "stderr",
     "output_type": "stream",
     "text": [
      "/Users/thesard/anaconda3/lib/python3.7/site-packages/sklearn/svm/base.py:196: FutureWarning: The default value of gamma will change from 'auto' to 'scale' in version 0.22 to account better for unscaled features. Set gamma explicitly to 'auto' or 'scale' to avoid this warning.\n",
      "  \"avoid this warning.\", FutureWarning)\n"
     ]
    },
    {
     "name": "stdout",
     "output_type": "stream",
     "text": [
      "Execution time of OC-SVM applied on KDD99CUP (in second)\n",
      "[936.0182049274445]\n",
      "ROC AUC for OC-SVM applied on KDD99CUP\n",
      "[0.49016779743154837]\n"
     ]
    },
    {
     "name": "stderr",
     "output_type": "stream",
     "text": [
      "/Users/thesard/anaconda3/lib/python3.7/site-packages/sklearn/svm/base.py:196: FutureWarning: The default value of gamma will change from 'auto' to 'scale' in version 0.22 to account better for unscaled features. Set gamma explicitly to 'auto' or 'scale' to avoid this warning.\n",
      "  \"avoid this warning.\", FutureWarning)\n"
     ]
    },
    {
     "name": "stdout",
     "output_type": "stream",
     "text": [
      "Execution time of OC-SVM applied on KDD99CUP (in second)\n",
      "[746.6968650817871]\n",
      "ROC AUC for OC-SVM applied on KDD99CUP\n",
      "[0.5]\n"
     ]
    }
   ],
   "source": [
    "averages_executions_time_OCSVM_KDD99CUP = []\n",
    "averages_roc_auc_OCSVM_KDD99CUP = []\n",
    "\n",
    "for j in frange(0.1, 1., 0.1):\n",
    "    nu = j\n",
    "    executions_time_OCSVM_KDD99CUP = []\n",
    "    roc_auc_OCSVM_KDD99CUP = []\n",
    "    \n",
    "    #for i in range(5):\n",
    "###########################\n",
    "    roc_auc_OCSVM_Sub_Datasets = []\n",
    "    start_OCSVM_KDD99CUP = time()\n",
    "\n",
    "    # Apply the function on the 6 sub_dataset\n",
    "    func_OCSVM_KDD99CUP = OneClassSVM(nu=nu)\n",
    "    func_OCSVM_KDD99CUP.fit(X_sub_dataset_1)\n",
    "    y_pred_OCSVM_sub_dataset_1 = func_OCSVM_KDD99CUP.predict(X_sub_dataset_1)\n",
    "\n",
    "    # Calcul du temps d'exécution\n",
    "    exec_time_OCSVM_KDD99CUP = time() - start_OCSVM_KDD99CUP\n",
    "    executions_time_OCSVM_KDD99CUP.append(exec_time_OCSVM_KDD99CUP)\n",
    "\n",
    "    # Calcul de l'aire sous la courbe ROC\n",
    "    # Apply the function on ROC AUC on the 6 sub_dataset\n",
    "    auc_OCSVM_KDD99CUP = roc_auc_score(y_transform_sub_dataset_1, y_pred_OCSVM_sub_dataset_1)\n",
    "    roc_auc_OCSVM_Sub_Datasets.append(auc_OCSVM_KDD99CUP)\n",
    "\n",
    "    # Mean of the ROC AUC of the 6 sub_datasets\n",
    "    roc_auc_OCSVM_KDD99CUP.append(statistics.mean(roc_auc_OCSVM_Sub_Datasets))\n",
    " #######################################  \n",
    "        \n",
    "    print(\"Execution time of OC-SVM applied on KDD99CUP (in second)\")\n",
    "    print(executions_time_OCSVM_KDD99CUP)\n",
    "    print(\"ROC AUC for OC-SVM applied on KDD99CUP\")\n",
    "    print(roc_auc_OCSVM_KDD99CUP)\n",
    "    averages_executions_time_OCSVM_KDD99CUP.append(statistics.mean(executions_time_OCSVM_KDD99CUP))\n",
    "    averages_roc_auc_OCSVM_KDD99CUP.append(statistics.mean(roc_auc_OCSVM_KDD99CUP))"
   ]
  },
  {
   "cell_type": "markdown",
   "metadata": {},
   "source": [
    "### Résultat de OC-SVM sur KDD99CUP"
   ]
  },
  {
   "cell_type": "code",
   "execution_count": 18,
   "metadata": {},
   "outputs": [
    {
     "name": "stdout",
     "output_type": "stream",
     "text": [
      "Execution time of OC-SVM applied on KDD99CUP (in second)\n",
      "[2986.6513409614563, 3077.2336308956146, 5292.63653588295, 3780.579262971878, 3394.2336580753326, 3581.1361231803894, 3182.6861062049866, 2253.939885854721, 936.0182049274445, 746.6968650817871]\n"
     ]
    },
    {
     "name": "stderr",
     "output_type": "stream",
     "text": [
      "/Users/thesard/anaconda3/lib/python3.7/site-packages/ipykernel_launcher.py:3: MatplotlibDeprecationWarning: numpy.arange\n",
      "  This is separate from the ipykernel package so we can avoid doing imports until\n"
     ]
    },
    {
     "data": {
      "image/png": "[encoded data removed]",
      "text/plain": [
       "<Figure size 432x288 with 1 Axes>"
      ]
     },
     "metadata": {
      "needs_background": "light"
     },
     "output_type": "display_data"
    }
   ],
   "source": [
    "print(\"Execution time of OC-SVM applied on KDD99CUP (in second)\")\n",
    "print(averages_executions_time_OCSVM_KDD99CUP)\n",
    "plt.plot(frange(0.1, 1., 0.1), averages_executions_time_OCSVM_KDD99CUP,  \"g-\", label=\"OC-SVM on KDD99CUP\")\n",
    "#plt.axis([0, 1, 0, 1])\n",
    "plt.xlabel('nu')\n",
    "plt.ylabel('Execution time')\n",
    "plt.legend(loc=\"best\")\n",
    "plt.show()"
   ]
  },
  {
   "cell_type": "code",
   "execution_count": 19,
   "metadata": {},
   "outputs": [
    {
     "name": "stdout",
     "output_type": "stream",
     "text": [
      "ROC AUC for OC-SVM applied on KDD99CUP\n",
      "[0.542150334823887, 0.5011811077824525, 0.5071569431900786, 0.4655545795977708, 0.4916751932947111, 0.45291208670176447, 0.4703015067074917, 0.5046190276890543, 0.49016779743154837, 0.5]\n"
     ]
    },
    {
     "name": "stderr",
     "output_type": "stream",
     "text": [
      "/Users/thesard/anaconda3/lib/python3.7/site-packages/ipykernel_launcher.py:3: MatplotlibDeprecationWarning: numpy.arange\n",
      "  This is separate from the ipykernel package so we can avoid doing imports until\n"
     ]
    },
    {
     "data": {
      "image/png": "[encoded data removed]",
      "text/plain": [
       "<Figure size 432x288 with 1 Axes>"
      ]
     },
     "metadata": {
      "needs_background": "light"
     },
     "output_type": "display_data"
    }
   ],
   "source": [
    "print(\"ROC AUC for OC-SVM applied on KDD99CUP\")\n",
    "print(averages_roc_auc_OCSVM_KDD99CUP)\n",
    "plt.plot(frange(0.1, 1., 0.1), averages_roc_auc_OCSVM_KDD99CUP,  \"g-\", label=\"ROC AUC of OCSVM on KDD99CUP\")\n",
    "#plt.axis([0, 1, 0, 1])\n",
    "plt.xlabel('nu')\n",
    "plt.ylabel('AUC')\n",
    "plt.legend(loc=\"best\")\n",
    "plt.show()"
   ]
  },
  {
   "cell_type": "markdown",
   "metadata": {},
   "source": [
    "### Interprétation du résultat de OC-SVM sur KDD99CUP"
   ]
  },
  {
   "cell_type": "markdown",
   "metadata": {},
   "source": [
    "nu= 0.1"
   ]
  },
  {
   "cell_type": "markdown",
   "metadata": {},
   "source": [
    "## Exécution des méthodes avec les meilleurs paramètres trouvés sur KDD99CUP"
   ]
  },
  {
   "cell_type": "code",
   "execution_count": 24,
   "metadata": {},
   "outputs": [
    {
     "name": "stderr",
     "output_type": "stream",
     "text": [
      "/Users/thesard/anaconda3/lib/python3.7/site-packages/sklearn/ensemble/iforest.py:213: FutureWarning: default contamination parameter 0.1 will change in version 0.22 to \"auto\". This will change the predict method behavior.\n",
      "  FutureWarning)\n",
      "/Users/thesard/anaconda3/lib/python3.7/site-packages/sklearn/ensemble/iforest.py:223: FutureWarning: behaviour=\"old\" is deprecated and will be removed in version 0.22. Please use behaviour=\"new\", which makes the decision_function change to match other anomaly detection algorithm API.\n",
      "  FutureWarning)\n",
      "/Users/thesard/anaconda3/lib/python3.7/site-packages/sklearn/ensemble/iforest.py:417: DeprecationWarning: threshold_ attribute is deprecated in 0.20 and will be removed in 0.22.\n",
      "  \" be removed in 0.22.\", DeprecationWarning)\n",
      "/Users/thesard/anaconda3/lib/python3.7/site-packages/sklearn/neighbors/lof.py:236: FutureWarning: default contamination parameter 0.1 will change in version 0.22 to \"auto\". This will change the predict method behavior.\n",
      "  FutureWarning)\n",
      "/Users/thesard/anaconda3/lib/python3.7/site-packages/sklearn/svm/base.py:196: FutureWarning: The default value of gamma will change from 'auto' to 'scale' in version 0.22 to account better for unscaled features. Set gamma explicitly to 'auto' or 'scale' to avoid this warning.\n",
      "  \"avoid this warning.\", FutureWarning)\n"
     ]
    }
   ],
   "source": [
    "executions_time_KDD99CUP = []\n",
    "methods = []\n",
    "\n",
    "# Isolation Forest\n",
    "methods.append('IForest')\n",
    "start_time = time()\n",
    "n_estimators = 280\n",
    "func_IF_KDD99CUP = IsolationForest(n_estimators=n_estimators)\n",
    "func_IF_KDD99CUP.fit(X_sub_dataset_1)\n",
    "y_pred_IF_KDD99CUP = func_IF_KDD99CUP.predict(X_sub_dataset_1)\n",
    "# Calcul du temps d'exécution\n",
    "executions_time_KDD99CUP.append(time() - start_time)\n",
    "\n",
    "# LOF\n",
    "methods.append('LOF')\n",
    "start_time = time()\n",
    "n_neighbors = 195\n",
    "func_LOF_KDD99CUP = LocalOutlierFactor(n_neighbors=n_neighbors)\n",
    "#func_LOF_KDD99CUP.fit(X_sub_dataset_1)\n",
    "y_pred_LOF_KDD99CUP = func_LOF_KDD99CUP.fit_predict(X_sub_dataset_1)\n",
    "# Calcul du temps d'exécution\n",
    "executions_time_KDD99CUP.append(time() - start_time)\n",
    "\n",
    "# OC-SVM\n",
    "methods.append('OC-SVM')\n",
    "start_time = time()\n",
    "nu = 0.1\n",
    "func_OCSVM_KDD99CUP = OneClassSVM(nu=nu)\n",
    "func_OCSVM_KDD99CUP.fit(X_sub_dataset_1)\n",
    "y_pred_OCSVM_KDD99CUP = func_OCSVM_KDD99CUP.predict(X_sub_dataset_1)\n",
    "# Calcul du temps d'exécution\n",
    "executions_time_KDD99CUP.append(time() - start_time)"
   ]
  },
  {
   "cell_type": "code",
   "execution_count": 25,
   "metadata": {},
   "outputs": [
    {
     "name": "stdout",
     "output_type": "stream",
     "text": [
      "Confusion Matrice IForest\n",
      "[[  176     0]\n",
      " [10159 93016]]\n",
      "Confusion Matrice LOF\n",
      "[[  119    57]\n",
      " [10216 92959]]\n",
      "Confusion Matrice OC-SVM\n",
      "[[   89    87]\n",
      " [43476 59699]]\n"
     ]
    }
   ],
   "source": [
    "precisions_KDD99CUP = []\n",
    "recalls_KDD99CUP = []\n",
    "roc_aucs_KDD99CUP = []\n",
    "f1_scores_KDD99CUP = []\n",
    "\n",
    "# Isolation Forest\n",
    "# Precision\n",
    "precisions_KDD99CUP.append(precision_score(y_transform_sub_dataset_1, y_pred_IF_KDD99CUP))\n",
    "# Recall\n",
    "recalls_KDD99CUP.append(recall_score(y_transform_sub_dataset_1, y_pred_IF_KDD99CUP))\n",
    "# f1_score\n",
    "f1_scores_KDD99CUP.append(f1_score(y_transform_sub_dataset_1, y_pred_IF_KDD99CUP))\n",
    "# Calcul de l'aire sous la courbe ROC\n",
    "auc_IF_KDD99CUP = roc_auc_score(y_transform_sub_dataset_1, y_pred_IF_KDD99CUP)\n",
    "roc_aucs_KDD99CUP.append(auc_IF_KDD99CUP)\n",
    "print(\"Confusion Matrice IForest\")\n",
    "print(confusion_matrix(y_transform_sub_dataset_1, y_pred_IF_KDD99CUP))\n",
    "\n",
    "# LOF\n",
    "# Precision\n",
    "precisions_KDD99CUP.append(precision_score(y_transform_sub_dataset_1, y_pred_LOF_KDD99CUP))\n",
    "# Recall\n",
    "recalls_KDD99CUP.append(recall_score(y_transform_sub_dataset_1, y_pred_LOF_KDD99CUP))\n",
    "# f1_score\n",
    "f1_scores_KDD99CUP.append(f1_score(y_transform_sub_dataset_1, y_pred_LOF_KDD99CUP))\n",
    "# Calcul de l'aire sous la courbe ROC\n",
    "auc_LOF_KDD99CUP = roc_auc_score(y_transform_sub_dataset_1, y_pred_LOF_KDD99CUP)\n",
    "roc_aucs_KDD99CUP.append(auc_LOF_KDD99CUP)\n",
    "print(\"Confusion Matrice LOF\")\n",
    "print(confusion_matrix(y_transform_sub_dataset_1, y_pred_LOF_KDD99CUP))\n",
    "\n",
    "# OC-SVM\n",
    "# Precision\n",
    "precisions_KDD99CUP.append(precision_score(y_transform_sub_dataset_1, y_pred_OCSVM_KDD99CUP))\n",
    "# Recall\n",
    "recalls_KDD99CUP.append(recall_score(y_transform_sub_dataset_1, y_pred_OCSVM_KDD99CUP))\n",
    "# f1_score\n",
    "f1_scores_KDD99CUP.append(f1_score(y_transform_sub_dataset_1, y_pred_OCSVM_KDD99CUP))\n",
    "# Calcul de l'aire sous la courbe ROC\n",
    "auc_OCSVM_KDD99CUP = roc_auc_score(y_transform_sub_dataset_1, y_pred_OCSVM_KDD99CUP)\n",
    "roc_aucs_KDD99CUP.append(auc_OCSVM_KDD99CUP)\n",
    "print(\"Confusion Matrice OC-SVM\")\n",
    "print(confusion_matrix(y_transform_sub_dataset_1, y_pred_OCSVM_KDD99CUP))"
   ]
  },
  {
   "cell_type": "markdown",
   "metadata": {},
   "source": [
    "## Présentation des résultats sur KDD99CUP"
   ]
  },
  {
   "cell_type": "markdown",
   "metadata": {},
   "source": [
    "### Résultat : Temps d'exécution, précision, rappel, score f1, AUC"
   ]
  },
  {
   "cell_type": "code",
   "execution_count": 26,
   "metadata": {},
   "outputs": [
    {
     "name": "stdout",
     "output_type": "stream",
     "text": [
      "Methods ===>\n",
      "['IForest', 'LOF', 'OC-SVM']\n",
      "Execution Time ===>\n",
      "[28.918054819107056, 35.97923183441162, 4615.744054079056]\n",
      "Precision ===>\n",
      "[1.0, 0.9993872022017717, 0.9985448098216974]\n",
      "Recall ===>\n",
      "[0.9015362248606736, 0.9009837654470559, 0.5786188514659559]\n",
      "f1_score ===>\n",
      "[0.9482188275710914, 0.9476377611613173, 0.7326783708985586]\n",
      "ROC AUC ===>\n",
      "[0.9507681124303369, 0.7885600645417098, 0.542150334823887]\n"
     ]
    }
   ],
   "source": [
    "print(\"Methods ===>\")\n",
    "print(methods)\n",
    "print(\"Execution Time ===>\")\n",
    "print(executions_time_KDD99CUP)\n",
    "print(\"Precision ===>\")\n",
    "print(precisions_KDD99CUP)\n",
    "print(\"Recall ===>\")\n",
    "print(recalls_KDD99CUP)\n",
    "print(\"f1_score ===>\")\n",
    "print(f1_scores_KDD99CUP)\n",
    "print(\"ROC AUC ===>\")\n",
    "print(roc_aucs_KDD99CUP)"
   ]
  },
  {
   "cell_type": "markdown",
   "metadata": {},
   "source": [
    "### Interprétation des résultats en fonction du Temps d'exécution, précision, rappel, score f1, AUC sur KDD99CUP\n",
    "IsolationForest a eu de meilleures performances que les autres.\n",
    "Entre OC-SVM et LOF : OC-SVM a découvert et bien classé plus d'anomalies que LOF. Par contre, LOF a découvert et bien placé plus d'observations normales que OC-SVM.\n",
    "La question est donc de savoir ce qui importe le plus entre la découverte des anomalies et celle des observations normales car c'est en fonction de l'importance que nous donnons à l'un ou à l'autre que nous pourront dire la méthode la meilleure entre OC-SVM et LOF.\n",
    "Cette question fait remarquer qu'en réalité, toutes les méthodes ont sont performantes dans des conditions données en fonction de ce que l'on souhaite obtenir comme résultat. Dans ce cas précis, OC-SVM lance beaucoup de fausse alertes mais attrappe beaucoup d'anomalies. Par contre, LOF n'attrappe pas beaucoup d'anomalies mais reconnais beaucoup de données normales.\n",
    "On peut peut-être se dire que dans le cas espèce OC-SVM est mieux dans la mesure où une méthode de détection d'anomalies a pour but principal de détecter les anomalies et donc laisser passer des anomalies en ferait une méthode moins bonne et que les observations normales que OC-SVM aurait classé comme anormales sont peut être des nouveautés.\n",
    "Considérant l'aire sous la courbe ROC, nous avons l'ordre suivant IForest - OC-SVM et LOF\n",
    "\n",
    "Confusion Matrice IForest\n",
    "[[  176     0]\n",
    " [10159 93016]]\n",
    "Confusion Matrice LOF\n",
    "[[  119    57]\n",
    " [10216 92959]]\n",
    "Confusion Matrice OC-SVM\n",
    "[[   89    87]\n",
    " [43476 59699]]\n",
    "\n",
    "Tableau du résultat\n",
    "TOBC = VN/(VN + FP) = Spécifité\n",
    "TNBC = VP/(FN + VP)\n",
    "- ------------------------------------------------------------------------------------------------------------\n",
    "Méthode           |Précision | Rappel  | Score f1 | AUC     | TOBC    | TNBC    | CPU Time   |\n",
    "- ------------------------------------------------------------------------------------------------------------\n",
    "IForest           |1.0       |0.9015362|0.9482188 |0.9507681|1.       |0.9015362|28.9180548  |\n",
    "- ------------------------------------------------------------------------------------------------------------\n",
    "OC-SVM            |0.9985448 |0.5786188|0.7326783 |0.5421503|0.5056818|0.5786189|4615.7440540|\n",
    "- ------------------------------------------------------------------------------------------------------------\n",
    "LOF               |0.9993872 |0.9009837|0.9476377 |0.7885600|0,6761364|0.9009838|35.9792318  |\n",
    "- ------------------------------------------------------------------------------------------------------------"
   ]
  },
  {
   "cell_type": "markdown",
   "metadata": {},
   "source": [
    "### Resultat: Courbe ROC pour KDD99CUP"
   ]
  },
  {
   "cell_type": "code",
   "execution_count": 29,
   "metadata": {},
   "outputs": [],
   "source": [
    "fpr_IF_KDD99CUP, tpr_IF_KDD99CUP, thresholds_IF_KDD99CUP = roc_curve(y_transform_sub_dataset_1, y_pred_IF_KDD99CUP)\n",
    "fpr_LOF_KDD99CUP, tpr_LOF_KDD99CUP, thresholds_LOF_KDD99CUP = roc_curve(y_transform_sub_dataset_1, y_pred_LOF_KDD99CUP)\n",
    "fpr_OCSVM_KDD99CUP, tpr_OCSVM_KDD99CUP, thresholds_OCSVM_KDD99CUP = roc_curve(y_transform_sub_dataset_1, y_pred_OCSVM_KDD99CUP)"
   ]
  },
  {
   "cell_type": "code",
   "execution_count": 30,
   "metadata": {},
   "outputs": [
    {
     "data": {
      "image/png": "[encoded data removed]",
      "text/plain": [
       "<Figure size 432x288 with 1 Axes>"
      ]
     },
     "metadata": {
      "needs_background": "light"
     },
     "output_type": "display_data"
    }
   ],
   "source": [
    "plt.plot(fpr_IF_KDD99CUP, tpr_IF_KDD99CUP, \"g-\", label=\"IForest\") \n",
    "plt.plot(fpr_LOF_KDD99CUP, tpr_LOF_KDD99CUP, \"b--\", label=\"LOF\") \n",
    "plt.plot(fpr_OCSVM_KDD99CUP, tpr_OCSVM_KDD99CUP, \"r-\", label=\"OC-SVM\") \n",
    "plt.plot([0, 1], [0, 1], 'k--') \n",
    "plt.axis([0, 1, 0, 1])\n",
    "plt.xlabel('False Positive Rate')\n",
    "plt.ylabel('True Positive Rate')\n",
    "plt.legend(loc=\"lower right\")\n",
    "    \n",
    "plt.show()"
   ]
  },
  {
   "cell_type": "markdown",
   "metadata": {},
   "source": [
    "### Interprétation de la courbe ROC\n",
    "La courbe ROC mesurant le taux de faux positif par rapport au taux de vrai positif, plus la courbe s'éloigne de celle oblique en noir, mieux c'est.\n",
    "Ainsi, on peut dire que pour KDD99CUP, IForest est la meilleure méthode de détection d'anomalies suivi par OC-SVM. Le classement de LOF pourrait s'expliquer par le fait que les anomalies qui y sont présentes sont des anomalies global alors que LOF est doué pour les anomalies locales. POur vérifier ça peut être qu'on peut utiliser une méthode de clustering comme K-means pour voir comment les anomalies seront classées par cette méthode."
   ]
  },
  {
   "cell_type": "markdown",
   "metadata": {},
   "source": [
    "## Conclusion KDD99CUP\n",
    "Pour un petit jeu de données statique de faible dimension, Isolation forest a tendance à mieux performer et semble être plus rapide que OC-SVM et LOF. OC-SVM détecte beaucoup d'anomalies avec un fort taux de fausses alertes et un temps d'exécution plus grand que LOF. Par contre, LOF détecte moins d'anomalies avec un faible taux de fausses alertes.\n",
    "Notons que la performance des méthodes dépends non seulement du jeu de données considéré mais aussi des valeurs des hypermaramètres. Pour LOF et IsolationForest, le temps d'exécution semble être en correlation positive avec respectivement le nombre de voisins et nombre de d'estimateurs. Par contre, le temps d'exécution serait en correlation négative avec nu."
   ]
  }
 ],
 "metadata": {
  "kernelspec": {
   "display_name": "Python 3",
   "language": "python",
   "name": "python3"
  },
  "language_info": {
   "codemirror_mode": {
    "name": "ipython",
    "version": 3
   },
   "file_extension": ".py",
   "mimetype": "text/x-python",
   "name": "python",
   "nbconvert_exporter": "python",
   "pygments_lexer": "ipython3",
   "version": "3.7.3"
  }
 },
 "nbformat": 4,
 "nbformat_minor": 2
}
