{
 "cells": [
  {
   "cell_type": "code",
   "execution_count": 1,
   "metadata": {},
   "outputs": [],
   "source": [
    "import numpy as np\n",
    "a = np.array([ 0.7972,  0.0767,  0.4383,  0.7866,  0.8091,  0.1954, 0.6307, 0.6599,  0.1065,  0.0508])\n",
    "#a = np.array([[ 0.3148,  0.0478,  0.6243,  0.4608], \n",
    "#              [ 0.7149,  0.0775,  0.6072,  0.9656], \n",
    "#              [ 0.6341,  0.1403,  0.9759,  0.4064], \n",
    "#              [ 0.5918,  0.6948,  0.904 ,  0.3721], \n",
    "#              [ 0.0921,  0.2481,  0.1188,  0.1366]])"
   ]
  },
  {
   "cell_type": "code",
   "execution_count": 2,
   "metadata": {},
   "outputs": [
    {
     "name": "stdout",
     "output_type": "stream",
     "text": [
      "len(dataset) = 10\n",
      "mean of the dataset = 0.45511999999999986\n"
     ]
    }
   ],
   "source": [
    "#Manual calculation of z-score of the data\n",
    "#Calcul of the mean\n",
    "sum_value = 0\n",
    "for v in a:\n",
    "    sum_value += v\n",
    "mean = sum_value/len(a)\n",
    "print(\"len(dataset) = {}\".format(len(a)))\n",
    "print(\"mean of the dataset = {}\".format(mean))"
   ]
  },
  {
   "cell_type": "code",
   "execution_count": 3,
   "metadata": {},
   "outputs": [
    {
     "name": "stdout",
     "output_type": "stream",
     "text": [
      "Standart deviation of the dataset = 0.30346538451691657\n"
     ]
    }
   ],
   "source": [
    "#Calcul of the standart deviation\n",
    "import math\n",
    "sum_deviation = 0\n",
    "for v in a:\n",
    "    sum_deviation += (mean - v)**2\n",
    "standart_deviation = math.sqrt((sum_deviation) / (len(a)))\n",
    "print(\"Standart deviation of the dataset = {}\".format(standart_deviation))"
   ]
  },
  {
   "cell_type": "code",
   "execution_count": 4,
   "metadata": {},
   "outputs": [
    {
     "name": "stdout",
     "output_type": "stream",
     "text": [
      "zscore of dataset = \n",
      " [1.1272455359103108, -1.246995602488247, -0.055426420468929004, 1.0923156871011162, 1.1664592341017652, -0.8558472012003789, 0.5785832881055089, 0.6748051357685733, -1.1487965935718318, -1.3323430632578825]\n"
     ]
    }
   ],
   "source": [
    "#calculation of the z-score\n",
    "zscore = []\n",
    "for v in a:\n",
    "    zscore.append((v - mean)/standart_deviation)\n",
    "print(\"zscore of dataset = \\n {}\".format(zscore))"
   ]
  },
  {
   "cell_type": "code",
   "execution_count": 5,
   "metadata": {},
   "outputs": [
    {
     "name": "stdout",
     "output_type": "stream",
     "text": [
      "Scipy mean of the dataset = 0.45511999999999986\n",
      "Scipy Standart deviation of the dataset = 0.30346538451691657\n",
      "Scipy Zscore function result = \n",
      "[ 1.12724554 -1.2469956  -0.05542642  1.09231569  1.16645923 -0.8558472\n",
      "  0.57858329  0.67480514 -1.14879659 -1.33234306]\n"
     ]
    }
   ],
   "source": [
    "#use of scipy stats zscore function\n",
    "from scipy import stats\n",
    "scipy_mean = a.mean()\n",
    "#scipy_std = a.std(ddof=1)\n",
    "scipy_std = a.std()\n",
    "scipy_zscore = stats.zscore(a)\n",
    "print(\"Scipy mean of the dataset = {}\".format(scipy_mean))\n",
    "print(\"Scipy Standart deviation of the dataset = {}\".format(scipy_std))\n",
    "print(\"Scipy Zscore function result = \\n{}\".format(scipy_zscore))"
   ]
  },
  {
   "cell_type": "code",
   "execution_count": null,
   "metadata": {},
   "outputs": [],
   "source": []
  }
 ],
 "metadata": {
  "kernelspec": {
   "display_name": "Python 3",
   "language": "python",
   "name": "python3"
  },
  "language_info": {
   "codemirror_mode": {
    "name": "ipython",
    "version": 3
   },
   "file_extension": ".py",
   "mimetype": "text/x-python",
   "name": "python",
   "nbconvert_exporter": "python",
   "pygments_lexer": "ipython3",
   "version": "3.7.3"
  }
 },
 "nbformat": 4,
 "nbformat_minor": 2
}
