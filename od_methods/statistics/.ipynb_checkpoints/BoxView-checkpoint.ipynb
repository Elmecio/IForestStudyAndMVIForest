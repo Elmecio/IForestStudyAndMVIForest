{
 "cells": [
  {
   "cell_type": "code",
   "execution_count": 1,
   "metadata": {},
   "outputs": [
    {
     "name": "stdout",
     "output_type": "stream",
     "text": [
      "<bound method DataFrame.all of            0     1      2    3     4      5     6      7      8  9\n",
      "0      108.0   3.0  109.0  0.0  72.0    7.0   1.0   36.0   36.0  o\n",
      "1       81.0   0.0   84.0  0.0 -14.0   -2.0   4.0  100.0   96.0  o\n",
      "2       81.0   0.0   84.0  0.0 -20.0   16.0   4.0  105.0  102.0  o\n",
      "3       76.0  -1.0   81.0  0.0 -42.0   -3.0   5.0  125.0  120.0  o\n",
      "4      105.0   0.0  107.0  2.0  70.0    0.0   1.0   37.0   36.0  o\n",
      "5       79.0   0.0   83.0 -1.0 -40.0    7.0   4.0  124.0  120.0  o\n",
      "6       80.0   0.0   84.0  0.0 -36.0    0.0   4.0  120.0  116.0  o\n",
      "7      102.0   2.0  103.0  1.0  72.0   29.0   1.0   31.0   30.0  o\n",
      "8       76.0   3.0   80.0  2.0 -42.0    0.0   4.0  124.0  120.0  o\n",
      "9      102.0   0.0  104.0  0.0  70.0  -10.0   1.0   34.0   32.0  o\n",
      "10      82.0   0.0   86.0  0.0 -12.0  -28.0   3.0   99.0   96.0  o\n",
      "11      83.0   0.0   86.0  0.0  -2.0    0.0   3.0   88.0   86.0  o\n",
      "12      77.0 -44.0  107.0  0.0  62.0   -4.0  30.0   45.0   16.0  o\n",
      "13      81.0   4.0   84.0  0.0 -24.0    0.0   3.0  110.0  106.0  o\n",
      "14      84.0   0.0   87.0 -5.0   0.0    1.0   3.0   87.0   84.0  o\n",
      "15      81.0   5.0   85.0  0.0 -24.0    0.0   4.0  111.0  108.0  o\n",
      "16      85.0  -5.0   88.0  0.0   0.0   -2.0   3.0   88.0   84.0  o\n",
      "17      82.0  -1.0   86.0  0.0  -4.0   -8.0   3.0   91.0   88.0  o\n",
      "18      82.0  -1.0   86.0 -3.0 -40.0    0.0   4.0  128.0  124.0  o\n",
      "19     102.0   0.0  103.0  1.0  70.0   -9.0   1.0   33.0   32.0  o\n",
      "20      81.0   0.0   86.0  0.0 -24.0  -15.0   4.0  112.0  108.0  o\n",
      "21      85.0   0.0   88.0 -1.0   2.0    0.0   3.0   85.0   82.0  o\n",
      "22      82.0   0.0   86.0  0.0 -22.0    6.0   4.0  109.0  106.0  o\n",
      "23      83.0   0.0   86.0  8.0  -2.0    0.0   4.0   89.0   86.0  o\n",
      "24      83.0   0.0   86.0 -2.0  -4.0    2.0   3.0   92.0   88.0  o\n",
      "25      81.0   0.0   84.0  0.0 -18.0    2.0   4.0  103.0   98.0  o\n",
      "26      79.0   5.0   83.0  0.0 -46.0    0.0   4.0  129.0  126.0  o\n",
      "27      77.0  -4.0   81.0  0.0 -40.0   91.0   4.0  123.0  118.0  o\n",
      "28      80.0   0.0   84.0  8.0 -24.0    8.0   4.0  110.0  106.0  o\n",
      "29      79.0   0.0   83.0  0.0 -40.0  -10.0   4.0  125.0  120.0  o\n",
      "...      ...   ...    ...  ...   ...    ...   ...    ...    ... ..\n",
      "46434   37.0   0.0   77.0  0.0 -20.0   22.0  41.0   98.0   58.0  n\n",
      "46435   46.0   5.0   77.0  0.0  44.0  -10.0  32.0   34.0    2.0  n\n",
      "46436   54.0  -1.0   83.0  6.0  54.0    0.0  29.0   29.0    0.0  n\n",
      "46437   37.0   0.0   76.0 -1.0  36.0  -20.0  39.0   40.0    2.0  n\n",
      "46438   37.0   0.0   79.0  0.0  16.0   28.0  42.0   63.0   22.0  n\n",
      "46439   43.0  -4.0   76.0  0.0  44.0   15.0  33.0   32.0    0.0  n\n",
      "46440   50.0   4.0   88.0  0.0  50.0    0.0  38.0   39.0    2.0  n\n",
      "46441   43.0  -4.0  106.0  0.0  42.0   -7.0  62.0   64.0    2.0  n\n",
      "46442   45.0  -2.0   76.0  0.0  44.0  -11.0  31.0   32.0    2.0  n\n",
      "46443   37.0   0.0   79.0  0.0  10.0  374.0  42.0   69.0   26.0  n\n",
      "46444   37.0   5.0   79.0  0.0  34.0    0.0  42.0   46.0    4.0  n\n",
      "46445   46.0   0.0   81.0  0.0  44.0  -14.0  35.0   37.0    2.0  n\n",
      "46446   44.0   0.0   86.0  0.0  44.0    9.0  42.0   42.0    0.0  n\n",
      "46447   37.0   0.0   77.0  2.0  36.0   -1.0  39.0   41.0    2.0  n\n",
      "46448   37.0   0.0   78.0  0.0  36.0   -4.0  41.0   42.0    2.0  n\n",
      "46449   44.0   0.0   79.0  0.0  42.0  -14.0  35.0   37.0    2.0  n\n",
      "46450   46.0   4.0   79.0  0.0  46.0   19.0  33.0   32.0    0.0  n\n",
      "46451   42.0  -5.0   99.0  0.0  42.0    0.0  58.0   58.0    0.0  n\n",
      "46452   49.0   4.0   87.0  0.0  50.0   27.0  38.0   38.0    0.0  n\n",
      "46453   37.0   0.0   77.0  0.0  20.0    2.0  40.0   56.0   16.0  n\n",
      "46454   56.0   0.0   95.0  0.0  56.0    1.0  40.0   39.0    0.0  n\n",
      "46455   45.0  -5.0   82.0  0.0  44.0    0.0  37.0   38.0    0.0  n\n",
      "46456   51.0   0.0   83.0  0.0  50.0   -7.0  32.0   34.0    2.0  n\n",
      "46457   37.0  -1.0   76.0  0.0  38.0    6.0  39.0   37.0    0.0  n\n",
      "46458   45.0  -5.0   90.0  0.0  44.0  -26.0  45.0   46.0    2.0  n\n",
      "46459   46.0   5.0   78.0  0.0  46.0    5.0  32.0   32.0    0.0  n\n",
      "46460   37.0   0.0   79.0 -1.0  10.0    3.0  43.0   69.0   26.0  n\n",
      "46461   48.0   0.0   78.0  3.0  46.0    0.0  30.0   32.0    2.0  n\n",
      "46462   41.0   0.0   79.0  0.0  38.0  -25.0  38.0   40.0    2.0  n\n",
      "46463   40.0  -3.0  100.0  0.0  38.0    0.0  61.0   62.0    2.0  n\n",
      "\n",
      "[46464 rows x 10 columns]>\n",
      "Kurtosis result : 0      12.290113\n",
      "1    6545.743706\n",
      "2       1.300116\n",
      "3    8050.736147\n",
      "4      21.346493\n",
      "5    4321.159544\n",
      "6       2.387871\n",
      "7      15.281957\n",
      "8      43.708731\n",
      "dtype: float64\n",
      "Skew result : 0     2.614155\n",
      "1   -72.430745\n",
      "2     1.340365\n",
      "3    32.497516\n",
      "4    -1.027794\n",
      "5    29.893759\n",
      "6     0.242350\n",
      "7     0.952391\n",
      "8     3.630789\n",
      "dtype: float64\n"
     ]
    }
   ],
   "source": [
    "import numpy as np\n",
    "import pandas as pd\n",
    "import matplotlib.pyplot as plt\n",
    "from sklearn import datasets\n",
    "#boston = datasets.load_boston()\n",
    "shuttle_data = pd.read_csv('/Users/thesard/Doctorat/These2018/ISEP/Developpements/EspaceIntelliJ/LearningAllInPython/Learning_IHM_Features/datasets/imported_datasets/shuttle-unsupervised-ad_2019-06-14 17:33:02.493755.csv', header=None, index_col=None)\n",
    "#boston_data = pd.DataFrame(boston.data)\n",
    "#boston_data.columns = iris.feature_names\n",
    "#boston_data['Type']=iris.target\n",
    "shuttle_data_used = shuttle_data[[0, 1, 2, 3, 4, 5, 6, 7, 8]]\n",
    "print(shuttle_data.all)\n",
    "print(\"Kurtosis result : {}\".format(shuttle_data_used.kurtosis()))\n",
    "print(\"Skew result : {}\".format(shuttle_data_used.skew()))"
   ]
  },
  {
   "cell_type": "code",
   "execution_count": 2,
   "metadata": {},
   "outputs": [
    {
     "data": {
      "text/plain": [
       "<matplotlib.axes._subplots.AxesSubplot at 0x1a2307d278>"
      ]
     },
     "execution_count": 2,
     "metadata": {},
     "output_type": "execute_result"
    },
    {
     "data": {
      "image/png": "[encoded data removed]",
      "text/plain": [
       "<Figure size 720x576 with 1 Axes>"
      ]
     },
     "metadata": {
      "needs_background": "light"
     },
     "output_type": "display_data"
    }
   ],
   "source": [
    "fig, ax = plt.subplots(figsize=(10,8))\n",
    "plt.suptitle('')\n",
    "shuttle_data_used.boxplot(column=[0, 1, 2, 3, 4, 5, 6, 7, 8], ax=ax)\n",
    "#r = plt.boxplot(shuttle_data_used, 0, 'rD')\n",
    "#print(\"Outliers are = \\n \" + str(r[\"fliers\"][0].get_data()))\n",
    "#plt.show()"
   ]
  },
  {
   "cell_type": "code",
   "execution_count": null,
   "metadata": {},
   "outputs": [],
   "source": []
  },
  {
   "cell_type": "code",
   "execution_count": null,
   "metadata": {},
   "outputs": [],
   "source": []
  }
 ],
 "metadata": {
  "kernelspec": {
   "display_name": "Python 3",
   "language": "python",
   "name": "python3"
  },
  "language_info": {
   "codemirror_mode": {
    "name": "ipython",
    "version": 3
   },
   "file_extension": ".py",
   "mimetype": "text/x-python",
   "name": "python",
   "nbconvert_exporter": "python",
   "pygments_lexer": "ipython3",
   "version": "3.7.3"
  }
 },
 "nbformat": 4,
 "nbformat_minor": 2
}
