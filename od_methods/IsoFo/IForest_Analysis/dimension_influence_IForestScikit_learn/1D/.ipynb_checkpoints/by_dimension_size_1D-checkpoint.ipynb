{
 "cells": [
  {
   "cell_type": "markdown",
   "metadata": {},
   "source": [
    "# What is IForest behavior according to the dataset dimension size?"
   ]
  },
  {
   "cell_type": "markdown",
   "metadata": {},
   "source": [
    "## Test with 1 dimension dataset"
   ]
  },
  {
   "cell_type": "code",
   "execution_count": 1,
   "metadata": {},
   "outputs": [
    {
     "name": "stderr",
     "output_type": "stream",
     "text": [
      "Using TensorFlow backend.\n"
     ]
    }
   ],
   "source": [
    "import numpy as np\n",
    "import pandas as pd\n",
    "import matplotlib.pyplot as plt\n",
    "from time import time\n",
    "from sklearn.ensemble import IsolationForest\n",
    "from sklearn.svm import OneClassSVM\n",
    "from sklearn.neighbors import LocalOutlierFactor\n",
    "from sklearn.metrics import confusion_matrix\n",
    "from sklearn.metrics import roc_auc_score\n",
    "from matplotlib.mlab import frange\n",
    "import statistics\n",
    "from sklearn.metrics import confusion_matrix\n",
    "from sklearn.metrics import precision_score, recall_score\n",
    "from sklearn.metrics import f1_score\n",
    "from sklearn.metrics import roc_curve\n",
    "from imblearn.metrics import specificity_score\n",
    "from imblearn.metrics import sensitivity_score\n",
    "import matplotlib.cm as cm\n",
    "from mpl_toolkits import mplot3d\n",
    "from imblearn.metrics import specificity_score"
   ]
  },
  {
   "cell_type": "markdown",
   "metadata": {},
   "source": [
    "## Generals settings"
   ]
  },
  {
   "cell_type": "code",
   "execution_count": 2,
   "metadata": {},
   "outputs": [],
   "source": [
    "datasets_path = '/Users/thesard/Doctorat/These2018/ISEP/Developpements/AnacondaWorkSpace/LearningPython/datasets/'"
   ]
  },
  {
   "cell_type": "markdown",
   "metadata": {},
   "source": [
    "## Chargement du jeu de données"
   ]
  },
  {
   "cell_type": "markdown",
   "metadata": {},
   "source": [
    "Le jeu de données artificiel généré suivant une distribution gaussienne.\n",
    "Il s'agit d'un jeu de données univarié ou unidimensionnel contenant des données normales et anormales.\n",
    "Les données normales suivent une distribution gaussienne de paramètres mu = 0 et sigma = 1.\n",
    "Les données anormales suivent une distribution gaussienne de paramètres mu = 5 et de sigma = 1."
   ]
  },
  {
   "cell_type": "code",
   "execution_count": 3,
   "metadata": {},
   "outputs": [
    {
     "data": {
      "text/html": [
       "<div>\n",
       "<style scoped>\n",
       "    .dataframe tbody tr th:only-of-type {\n",
       "        vertical-align: middle;\n",
       "    }\n",
       "\n",
       "    .dataframe tbody tr th {\n",
       "        vertical-align: top;\n",
       "    }\n",
       "\n",
       "    .dataframe thead th {\n",
       "        text-align: right;\n",
       "    }\n",
       "</style>\n",
       "<table border=\"1\" class=\"dataframe\">\n",
       "  <thead>\n",
       "    <tr style=\"text-align: right;\">\n",
       "      <th></th>\n",
       "      <th>0</th>\n",
       "    </tr>\n",
       "  </thead>\n",
       "  <tbody>\n",
       "    <tr>\n",
       "      <th>count</th>\n",
       "      <td>1516.000000</td>\n",
       "    </tr>\n",
       "    <tr>\n",
       "      <th>mean</th>\n",
       "      <td>0.032098</td>\n",
       "    </tr>\n",
       "    <tr>\n",
       "      <th>std</th>\n",
       "      <td>1.107025</td>\n",
       "    </tr>\n",
       "    <tr>\n",
       "      <th>min</th>\n",
       "      <td>-3.334118</td>\n",
       "    </tr>\n",
       "    <tr>\n",
       "      <th>25%</th>\n",
       "      <td>-0.692580</td>\n",
       "    </tr>\n",
       "    <tr>\n",
       "      <th>50%</th>\n",
       "      <td>-0.034028</td>\n",
       "    </tr>\n",
       "    <tr>\n",
       "      <th>75%</th>\n",
       "      <td>0.649778</td>\n",
       "    </tr>\n",
       "    <tr>\n",
       "      <th>max</th>\n",
       "      <td>6.867883</td>\n",
       "    </tr>\n",
       "  </tbody>\n",
       "</table>\n",
       "</div>"
      ],
      "text/plain": [
       "                 0\n",
       "count  1516.000000\n",
       "mean      0.032098\n",
       "std       1.107025\n",
       "min      -3.334118\n",
       "25%      -0.692580\n",
       "50%      -0.034028\n",
       "75%       0.649778\n",
       "max       6.867883"
      ]
     },
     "execution_count": 3,
     "metadata": {},
     "output_type": "execute_result"
    }
   ],
   "source": [
    "dataset_path = datasets_path+\"synthetic_1D_data/synthetic_1D_data_2019-12-17 10:43:50.547607.csv\"\n",
    "dataset_brut = pd.read_csv(dataset_path, header=None, index_col=None)\n",
    "dataset_number_dimension = len(dataset_brut.columns)\n",
    "if dataset_number_dimension-2 == 0:\n",
    "    X_brut_brut = dataset_brut[0]\n",
    "elif dataset_number_dimension-2 > 0:\n",
    "    X_brut_brut = dataset_brut[[0,dataset_number_dimension-2]]\n",
    "else:\n",
    "    print(\"There is an error in the dataset you uploaded. It have to have at least 2 columns.\")\n",
    "X_brut = pd.DataFrame(X_brut_brut)\n",
    "y_brut = dataset_brut[dataset_number_dimension-1]\n",
    "#y_brut = pd.DataFrame(y_brut_brut)\n",
    "dataset_brut.describe()"
   ]
  },
  {
   "cell_type": "code",
   "execution_count": 4,
   "metadata": {},
   "outputs": [
    {
     "name": "stdout",
     "output_type": "stream",
     "text": [
      "<class 'pandas.core.frame.DataFrame'>\n",
      "RangeIndex: 1516 entries, 0 to 1515\n",
      "Data columns (total 2 columns):\n",
      "0    1516 non-null float64\n",
      "1    1516 non-null object\n",
      "dtypes: float64(1), object(1)\n",
      "memory usage: 23.8+ KB\n"
     ]
    }
   ],
   "source": [
    "dataset_brut.info()"
   ]
  },
  {
   "cell_type": "markdown",
   "metadata": {},
   "source": [
    "## Transformation de la classe à expliquer"
   ]
  },
  {
   "cell_type": "markdown",
   "metadata": {},
   "source": [
    "L'objectif ici est de remplacer les \"0\" par -1 et les \"1\" par 1 afin de faire les matrices de confusion avec la fonction dédiée de scikit-learn."
   ]
  },
  {
   "cell_type": "code",
   "execution_count": 5,
   "metadata": {},
   "outputs": [
    {
     "data": {
      "text/plain": [
       "array([ 1,  1,  1, ..., -1, -1, -1])"
      ]
     },
     "execution_count": 5,
     "metadata": {},
     "output_type": "execute_result"
    }
   ],
   "source": [
    "y_transform = y_brut\n",
    "y_transform = np.where(y_transform=='0',-1,1)\n",
    "y_transform"
   ]
  },
  {
   "cell_type": "markdown",
   "metadata": {},
   "source": [
    "## Execution of IForest on the dataset to see the high performance possible"
   ]
  },
  {
   "cell_type": "code",
   "execution_count": 6,
   "metadata": {},
   "outputs": [
    {
     "name": "stderr",
     "output_type": "stream",
     "text": [
      "/Users/thesard/anaconda3/lib/python3.7/site-packages/sklearn/ensemble/iforest.py:213: FutureWarning: default contamination parameter 0.1 will change in version 0.22 to \"auto\". This will change the predict method behavior.\n",
      "  FutureWarning)\n"
     ]
    },
    {
     "name": "stdout",
     "output_type": "stream",
     "text": [
      "[[  15    0]\n",
      " [ 137 1364]]\n"
     ]
    },
    {
     "name": "stderr",
     "output_type": "stream",
     "text": [
      "/Users/thesard/anaconda3/lib/python3.7/site-packages/sklearn/ensemble/iforest.py:213: FutureWarning: default contamination parameter 0.1 will change in version 0.22 to \"auto\". This will change the predict method behavior.\n",
      "  FutureWarning)\n"
     ]
    },
    {
     "name": "stdout",
     "output_type": "stream",
     "text": [
      "[[  15    0]\n",
      " [ 136 1365]]\n"
     ]
    },
    {
     "name": "stderr",
     "output_type": "stream",
     "text": [
      "/Users/thesard/anaconda3/lib/python3.7/site-packages/sklearn/ensemble/iforest.py:213: FutureWarning: default contamination parameter 0.1 will change in version 0.22 to \"auto\". This will change the predict method behavior.\n",
      "  FutureWarning)\n"
     ]
    },
    {
     "name": "stdout",
     "output_type": "stream",
     "text": [
      "[[  15    0]\n",
      " [ 136 1365]]\n"
     ]
    },
    {
     "name": "stderr",
     "output_type": "stream",
     "text": [
      "/Users/thesard/anaconda3/lib/python3.7/site-packages/sklearn/ensemble/iforest.py:213: FutureWarning: default contamination parameter 0.1 will change in version 0.22 to \"auto\". This will change the predict method behavior.\n",
      "  FutureWarning)\n"
     ]
    },
    {
     "name": "stdout",
     "output_type": "stream",
     "text": [
      "[[  15    0]\n",
      " [ 137 1364]]\n"
     ]
    },
    {
     "name": "stderr",
     "output_type": "stream",
     "text": [
      "/Users/thesard/anaconda3/lib/python3.7/site-packages/sklearn/ensemble/iforest.py:213: FutureWarning: default contamination parameter 0.1 will change in version 0.22 to \"auto\". This will change the predict method behavior.\n",
      "  FutureWarning)\n"
     ]
    },
    {
     "name": "stdout",
     "output_type": "stream",
     "text": [
      "[[  15    0]\n",
      " [ 136 1365]]\n",
      "ROC AUC\n",
      "[0.9998445480790584, 0.9999333777481679, 0.9997779258272264, 0.9999333777481679, 0.9999333777481679]\n",
      "Specificities\n",
      "[1.0, 1.0, 1.0, 1.0, 1.0]\n",
      "min_roc_auc = 0.9999333777481679\n"
     ]
    }
   ],
   "source": [
    "specificities =[]\n",
    "roc_aucs = []\n",
    "for i in range(5):\n",
    "    # Instanciation, fit and predict on Shuttle\n",
    "    GENE_func_IF = IsolationForest(behaviour=\"new\")\n",
    "    GENE_func_IF.fit(X_brut)\n",
    "    GENE_y_pred_IF = GENE_func_IF.predict(X_brut)\n",
    "    #print(GENE_y_pred_IF)\n",
    "    # Calcul de l'aire sous la courbe ROC\n",
    "    y_DF_IF = GENE_func_IF.decision_function(X_brut)\n",
    "\n",
    "    # Matrice de confusion\n",
    "    #ttn, tfp, tfn, ttp = confusion_matrix(y_transform_Shuttle, MS_y_pred_IF_Shuttle).ravel()\n",
    "    print(confusion_matrix(y_transform, GENE_y_pred_IF))\n",
    "    #ROC AUC\n",
    "    roc_aucs.append(roc_auc_score(y_transform, y_DF_IF))\n",
    "    # Specificity\n",
    "    specificities.append(specificity_score(y_transform, GENE_y_pred_IF))\n",
    "print(\"ROC AUC\")\n",
    "print(roc_aucs)\n",
    "print(\"Specificities\")\n",
    "print(specificities)\n",
    "min_roc_auc = max(roc_aucs)\n",
    "print(\"min_roc_auc = \"+str(min_roc_auc))"
   ]
  },
  {
   "cell_type": "code",
   "execution_count": null,
   "metadata": {},
   "outputs": [],
   "source": []
  },
  {
   "cell_type": "code",
   "execution_count": 21,
   "metadata": {},
   "outputs": [
    {
     "name": "stdout",
     "output_type": "stream",
     "text": [
      "max_samples = 5\n",
      "{'behaviour': 'new', 'bootstrap': False, 'contamination': 'legacy', 'max_features': 1.0, 'max_samples': 5, 'n_estimators': 100, 'n_jobs': None, 'random_state': None, 'verbose': 0}\n",
      "Information about the first tree\n",
      "The tree = ExtraTreeRegressor(criterion='mse', max_depth=3, max_features=1,\n",
      "          max_leaf_nodes=None, min_impurity_decrease=0.0,\n",
      "          min_impurity_split=None, min_samples_leaf=1, min_samples_split=2,\n",
      "          min_weight_fraction_leaf=0.0, random_state=121180826,\n",
      "          splitter='random')\n"
     ]
    },
    {
     "name": "stderr",
     "output_type": "stream",
     "text": [
      "/Users/thesard/anaconda3/lib/python3.7/site-packages/sklearn/ensemble/iforest.py:213: FutureWarning: default contamination parameter 0.1 will change in version 0.22 to \"auto\". This will change the predict method behavior.\n",
      "  FutureWarning)\n"
     ]
    },
    {
     "name": "stdout",
     "output_type": "stream",
     "text": [
      "max_samples = 10\n",
      "{'behaviour': 'new', 'bootstrap': False, 'contamination': 'legacy', 'max_features': 1.0, 'max_samples': 10, 'n_estimators': 100, 'n_jobs': None, 'random_state': None, 'verbose': 0}\n",
      "Information about the first tree\n",
      "The tree = ExtraTreeRegressor(criterion='mse', max_depth=4, max_features=1,\n",
      "          max_leaf_nodes=None, min_impurity_decrease=0.0,\n",
      "          min_impurity_split=None, min_samples_leaf=1, min_samples_split=2,\n",
      "          min_weight_fraction_leaf=0.0, random_state=924758774,\n",
      "          splitter='random')\n"
     ]
    },
    {
     "name": "stderr",
     "output_type": "stream",
     "text": [
      "/Users/thesard/anaconda3/lib/python3.7/site-packages/sklearn/ensemble/iforest.py:213: FutureWarning: default contamination parameter 0.1 will change in version 0.22 to \"auto\". This will change the predict method behavior.\n",
      "  FutureWarning)\n"
     ]
    },
    {
     "name": "stdout",
     "output_type": "stream",
     "text": [
      "max_samples = 15\n",
      "{'behaviour': 'new', 'bootstrap': False, 'contamination': 'legacy', 'max_features': 1.0, 'max_samples': 15, 'n_estimators': 100, 'n_jobs': None, 'random_state': None, 'verbose': 0}\n"
     ]
    },
    {
     "name": "stderr",
     "output_type": "stream",
     "text": [
      "/Users/thesard/anaconda3/lib/python3.7/site-packages/sklearn/ensemble/iforest.py:213: FutureWarning: default contamination parameter 0.1 will change in version 0.22 to \"auto\". This will change the predict method behavior.\n",
      "  FutureWarning)\n"
     ]
    },
    {
     "name": "stdout",
     "output_type": "stream",
     "text": [
      "Information about the first tree\n",
      "The tree = ExtraTreeRegressor(criterion='mse', max_depth=4, max_features=1,\n",
      "          max_leaf_nodes=None, min_impurity_decrease=0.0,\n",
      "          min_impurity_split=None, min_samples_leaf=1, min_samples_split=2,\n",
      "          min_weight_fraction_leaf=0.0, random_state=1846274871,\n",
      "          splitter='random')\n",
      "max_samples = 20\n",
      "{'behaviour': 'new', 'bootstrap': False, 'contamination': 'legacy', 'max_features': 1.0, 'max_samples': 20, 'n_estimators': 100, 'n_jobs': None, 'random_state': None, 'verbose': 0}\n"
     ]
    },
    {
     "name": "stderr",
     "output_type": "stream",
     "text": [
      "/Users/thesard/anaconda3/lib/python3.7/site-packages/sklearn/ensemble/iforest.py:213: FutureWarning: default contamination parameter 0.1 will change in version 0.22 to \"auto\". This will change the predict method behavior.\n",
      "  FutureWarning)\n"
     ]
    },
    {
     "name": "stdout",
     "output_type": "stream",
     "text": [
      "Information about the first tree\n",
      "The tree = ExtraTreeRegressor(criterion='mse', max_depth=5, max_features=1,\n",
      "          max_leaf_nodes=None, min_impurity_decrease=0.0,\n",
      "          min_impurity_split=None, min_samples_leaf=1, min_samples_split=2,\n",
      "          min_weight_fraction_leaf=0.0, random_state=2052116424,\n",
      "          splitter='random')\n",
      "auc_IF = 0.9999555851654452\n",
      "max_samples = 25\n",
      "{'behaviour': 'new', 'bootstrap': False, 'contamination': 'legacy', 'max_features': 1.0, 'max_samples': 25, 'n_estimators': 100, 'n_jobs': None, 'random_state': None, 'verbose': 0}\n"
     ]
    },
    {
     "name": "stderr",
     "output_type": "stream",
     "text": [
      "/Users/thesard/anaconda3/lib/python3.7/site-packages/sklearn/ensemble/iforest.py:213: FutureWarning: default contamination parameter 0.1 will change in version 0.22 to \"auto\". This will change the predict method behavior.\n",
      "  FutureWarning)\n"
     ]
    },
    {
     "name": "stdout",
     "output_type": "stream",
     "text": [
      "Information about the first tree\n",
      "The tree = ExtraTreeRegressor(criterion='mse', max_depth=5, max_features=1,\n",
      "          max_leaf_nodes=None, min_impurity_decrease=0.0,\n",
      "          min_impurity_split=None, min_samples_leaf=1, min_samples_split=2,\n",
      "          min_weight_fraction_leaf=0.0, random_state=1177746109,\n",
      "          splitter='random')\n",
      "max_samples = 30\n",
      "{'behaviour': 'new', 'bootstrap': False, 'contamination': 'legacy', 'max_features': 1.0, 'max_samples': 30, 'n_estimators': 100, 'n_jobs': None, 'random_state': None, 'verbose': 0}\n"
     ]
    },
    {
     "name": "stderr",
     "output_type": "stream",
     "text": [
      "/Users/thesard/anaconda3/lib/python3.7/site-packages/sklearn/ensemble/iforest.py:213: FutureWarning: default contamination parameter 0.1 will change in version 0.22 to \"auto\". This will change the predict method behavior.\n",
      "  FutureWarning)\n"
     ]
    },
    {
     "name": "stdout",
     "output_type": "stream",
     "text": [
      "Information about the first tree\n",
      "The tree = ExtraTreeRegressor(criterion='mse', max_depth=5, max_features=1,\n",
      "          max_leaf_nodes=None, min_impurity_decrease=0.0,\n",
      "          min_impurity_split=None, min_samples_leaf=1, min_samples_split=2,\n",
      "          min_weight_fraction_leaf=0.0, random_state=326966855,\n",
      "          splitter='random')\n",
      "auc_IF = 0.9999555851654452\n",
      "max_samples = 35\n",
      "{'behaviour': 'new', 'bootstrap': False, 'contamination': 'legacy', 'max_features': 1.0, 'max_samples': 35, 'n_estimators': 100, 'n_jobs': None, 'random_state': None, 'verbose': 0}\n"
     ]
    },
    {
     "name": "stderr",
     "output_type": "stream",
     "text": [
      "/Users/thesard/anaconda3/lib/python3.7/site-packages/sklearn/ensemble/iforest.py:213: FutureWarning: default contamination parameter 0.1 will change in version 0.22 to \"auto\". This will change the predict method behavior.\n",
      "  FutureWarning)\n"
     ]
    },
    {
     "name": "stdout",
     "output_type": "stream",
     "text": [
      "Information about the first tree\n",
      "The tree = ExtraTreeRegressor(criterion='mse', max_depth=6, max_features=1,\n",
      "          max_leaf_nodes=None, min_impurity_decrease=0.0,\n",
      "          min_impurity_split=None, min_samples_leaf=1, min_samples_split=2,\n",
      "          min_weight_fraction_leaf=0.0, random_state=1734246323,\n",
      "          splitter='random')\n",
      "auc_IF = 0.9999777925827227\n",
      "max_samples = 40\n",
      "{'behaviour': 'new', 'bootstrap': False, 'contamination': 'legacy', 'max_features': 1.0, 'max_samples': 40, 'n_estimators': 100, 'n_jobs': None, 'random_state': None, 'verbose': 0}\n"
     ]
    },
    {
     "name": "stderr",
     "output_type": "stream",
     "text": [
      "/Users/thesard/anaconda3/lib/python3.7/site-packages/sklearn/ensemble/iforest.py:213: FutureWarning: default contamination parameter 0.1 will change in version 0.22 to \"auto\". This will change the predict method behavior.\n",
      "  FutureWarning)\n"
     ]
    },
    {
     "name": "stdout",
     "output_type": "stream",
     "text": [
      "Information about the first tree\n",
      "The tree = ExtraTreeRegressor(criterion='mse', max_depth=6, max_features=1,\n",
      "          max_leaf_nodes=None, min_impurity_decrease=0.0,\n",
      "          min_impurity_split=None, min_samples_leaf=1, min_samples_split=2,\n",
      "          min_weight_fraction_leaf=0.0, random_state=1979705671,\n",
      "          splitter='random')\n",
      "auc_IF = 0.9999555851654452\n",
      "max_samples = 45\n",
      "{'behaviour': 'new', 'bootstrap': False, 'contamination': 'legacy', 'max_features': 1.0, 'max_samples': 45, 'n_estimators': 100, 'n_jobs': None, 'random_state': None, 'verbose': 0}\n"
     ]
    },
    {
     "name": "stderr",
     "output_type": "stream",
     "text": [
      "/Users/thesard/anaconda3/lib/python3.7/site-packages/sklearn/ensemble/iforest.py:213: FutureWarning: default contamination parameter 0.1 will change in version 0.22 to \"auto\". This will change the predict method behavior.\n",
      "  FutureWarning)\n"
     ]
    },
    {
     "name": "stdout",
     "output_type": "stream",
     "text": [
      "Information about the first tree\n",
      "The tree = ExtraTreeRegressor(criterion='mse', max_depth=6, max_features=1,\n",
      "          max_leaf_nodes=None, min_impurity_decrease=0.0,\n",
      "          min_impurity_split=None, min_samples_leaf=1, min_samples_split=2,\n",
      "          min_weight_fraction_leaf=0.0, random_state=598691096,\n",
      "          splitter='random')\n",
      "auc_IF = 0.9999777925827226\n",
      "max_samples = 50\n",
      "{'behaviour': 'new', 'bootstrap': False, 'contamination': 'legacy', 'max_features': 1.0, 'max_samples': 50, 'n_estimators': 100, 'n_jobs': None, 'random_state': None, 'verbose': 0}\n"
     ]
    },
    {
     "name": "stderr",
     "output_type": "stream",
     "text": [
      "/Users/thesard/anaconda3/lib/python3.7/site-packages/sklearn/ensemble/iforest.py:213: FutureWarning: default contamination parameter 0.1 will change in version 0.22 to \"auto\". This will change the predict method behavior.\n",
      "  FutureWarning)\n"
     ]
    },
    {
     "name": "stdout",
     "output_type": "stream",
     "text": [
      "Information about the first tree\n",
      "The tree = ExtraTreeRegressor(criterion='mse', max_depth=6, max_features=1,\n",
      "          max_leaf_nodes=None, min_impurity_decrease=0.0,\n",
      "          min_impurity_split=None, min_samples_leaf=1, min_samples_split=2,\n",
      "          min_weight_fraction_leaf=0.0, random_state=43518677,\n",
      "          splitter='random')\n",
      "auc_IF = 0.9999777925827226\n",
      "max_samples = 55\n",
      "{'behaviour': 'new', 'bootstrap': False, 'contamination': 'legacy', 'max_features': 1.0, 'max_samples': 55, 'n_estimators': 100, 'n_jobs': None, 'random_state': None, 'verbose': 0}\n"
     ]
    },
    {
     "name": "stderr",
     "output_type": "stream",
     "text": [
      "/Users/thesard/anaconda3/lib/python3.7/site-packages/sklearn/ensemble/iforest.py:213: FutureWarning: default contamination parameter 0.1 will change in version 0.22 to \"auto\". This will change the predict method behavior.\n",
      "  FutureWarning)\n"
     ]
    },
    {
     "name": "stdout",
     "output_type": "stream",
     "text": [
      "Information about the first tree\n",
      "The tree = ExtraTreeRegressor(criterion='mse', max_depth=6, max_features=1,\n",
      "          max_leaf_nodes=None, min_impurity_decrease=0.0,\n",
      "          min_impurity_split=None, min_samples_leaf=1, min_samples_split=2,\n",
      "          min_weight_fraction_leaf=0.0, random_state=1270302037,\n",
      "          splitter='random')\n",
      "max_samples = 60\n",
      "{'behaviour': 'new', 'bootstrap': False, 'contamination': 'legacy', 'max_features': 1.0, 'max_samples': 60, 'n_estimators': 100, 'n_jobs': None, 'random_state': None, 'verbose': 0}\n"
     ]
    },
    {
     "name": "stderr",
     "output_type": "stream",
     "text": [
      "/Users/thesard/anaconda3/lib/python3.7/site-packages/sklearn/ensemble/iforest.py:213: FutureWarning: default contamination parameter 0.1 will change in version 0.22 to \"auto\". This will change the predict method behavior.\n",
      "  FutureWarning)\n"
     ]
    },
    {
     "name": "stdout",
     "output_type": "stream",
     "text": [
      "Information about the first tree\n",
      "The tree = ExtraTreeRegressor(criterion='mse', max_depth=6, max_features=1,\n",
      "          max_leaf_nodes=None, min_impurity_decrease=0.0,\n",
      "          min_impurity_split=None, min_samples_leaf=1, min_samples_split=2,\n",
      "          min_weight_fraction_leaf=0.0, random_state=397405675,\n",
      "          splitter='random')\n",
      "max_samples = 65\n",
      "{'behaviour': 'new', 'bootstrap': False, 'contamination': 'legacy', 'max_features': 1.0, 'max_samples': 65, 'n_estimators': 100, 'n_jobs': None, 'random_state': None, 'verbose': 0}\n"
     ]
    },
    {
     "name": "stderr",
     "output_type": "stream",
     "text": [
      "/Users/thesard/anaconda3/lib/python3.7/site-packages/sklearn/ensemble/iforest.py:213: FutureWarning: default contamination parameter 0.1 will change in version 0.22 to \"auto\". This will change the predict method behavior.\n",
      "  FutureWarning)\n"
     ]
    },
    {
     "name": "stdout",
     "output_type": "stream",
     "text": [
      "Information about the first tree\n",
      "The tree = ExtraTreeRegressor(criterion='mse', max_depth=7, max_features=1,\n",
      "          max_leaf_nodes=None, min_impurity_decrease=0.0,\n",
      "          min_impurity_split=None, min_samples_leaf=1, min_samples_split=2,\n",
      "          min_weight_fraction_leaf=0.0, random_state=117505243,\n",
      "          splitter='random')\n",
      "auc_IF = 0.9999333777481679\n",
      "max_samples = 70\n",
      "{'behaviour': 'new', 'bootstrap': False, 'contamination': 'legacy', 'max_features': 1.0, 'max_samples': 70, 'n_estimators': 100, 'n_jobs': None, 'random_state': None, 'verbose': 0}\n"
     ]
    },
    {
     "name": "stderr",
     "output_type": "stream",
     "text": [
      "/Users/thesard/anaconda3/lib/python3.7/site-packages/sklearn/ensemble/iforest.py:213: FutureWarning: default contamination parameter 0.1 will change in version 0.22 to \"auto\". This will change the predict method behavior.\n",
      "  FutureWarning)\n"
     ]
    },
    {
     "name": "stdout",
     "output_type": "stream",
     "text": [
      "Information about the first tree\n",
      "The tree = ExtraTreeRegressor(criterion='mse', max_depth=7, max_features=1,\n",
      "          max_leaf_nodes=None, min_impurity_decrease=0.0,\n",
      "          min_impurity_split=None, min_samples_leaf=1, min_samples_split=2,\n",
      "          min_weight_fraction_leaf=0.0, random_state=16046467,\n",
      "          splitter='random')\n",
      "auc_IF = 0.9999777925827227\n",
      "max_samples = 75\n",
      "{'behaviour': 'new', 'bootstrap': False, 'contamination': 'legacy', 'max_features': 1.0, 'max_samples': 75, 'n_estimators': 100, 'n_jobs': None, 'random_state': None, 'verbose': 0}\n"
     ]
    },
    {
     "name": "stderr",
     "output_type": "stream",
     "text": [
      "/Users/thesard/anaconda3/lib/python3.7/site-packages/sklearn/ensemble/iforest.py:213: FutureWarning: default contamination parameter 0.1 will change in version 0.22 to \"auto\". This will change the predict method behavior.\n",
      "  FutureWarning)\n"
     ]
    },
    {
     "name": "stdout",
     "output_type": "stream",
     "text": [
      "Information about the first tree\n",
      "The tree = ExtraTreeRegressor(criterion='mse', max_depth=7, max_features=1,\n",
      "          max_leaf_nodes=None, min_impurity_decrease=0.0,\n",
      "          min_impurity_split=None, min_samples_leaf=1, min_samples_split=2,\n",
      "          min_weight_fraction_leaf=0.0, random_state=1071893222,\n",
      "          splitter='random')\n",
      "auc_IF = 0.9999777925827227\n",
      "max_samples = 80\n",
      "{'behaviour': 'new', 'bootstrap': False, 'contamination': 'legacy', 'max_features': 1.0, 'max_samples': 80, 'n_estimators': 100, 'n_jobs': None, 'random_state': None, 'verbose': 0}\n"
     ]
    },
    {
     "name": "stderr",
     "output_type": "stream",
     "text": [
      "/Users/thesard/anaconda3/lib/python3.7/site-packages/sklearn/ensemble/iforest.py:213: FutureWarning: default contamination parameter 0.1 will change in version 0.22 to \"auto\". This will change the predict method behavior.\n",
      "  FutureWarning)\n"
     ]
    },
    {
     "name": "stdout",
     "output_type": "stream",
     "text": [
      "Information about the first tree\n",
      "The tree = ExtraTreeRegressor(criterion='mse', max_depth=7, max_features=1,\n",
      "          max_leaf_nodes=None, min_impurity_decrease=0.0,\n",
      "          min_impurity_split=None, min_samples_leaf=1, min_samples_split=2,\n",
      "          min_weight_fraction_leaf=0.0, random_state=1435528304,\n",
      "          splitter='random')\n",
      "auc_IF = 0.9999777925827226\n",
      "max_samples = 85\n",
      "{'behaviour': 'new', 'bootstrap': False, 'contamination': 'legacy', 'max_features': 1.0, 'max_samples': 85, 'n_estimators': 100, 'n_jobs': None, 'random_state': None, 'verbose': 0}\n"
     ]
    },
    {
     "name": "stderr",
     "output_type": "stream",
     "text": [
      "/Users/thesard/anaconda3/lib/python3.7/site-packages/sklearn/ensemble/iforest.py:213: FutureWarning: default contamination parameter 0.1 will change in version 0.22 to \"auto\". This will change the predict method behavior.\n",
      "  FutureWarning)\n"
     ]
    },
    {
     "name": "stdout",
     "output_type": "stream",
     "text": [
      "Information about the first tree\n",
      "The tree = ExtraTreeRegressor(criterion='mse', max_depth=7, max_features=1,\n",
      "          max_leaf_nodes=None, min_impurity_decrease=0.0,\n",
      "          min_impurity_split=None, min_samples_leaf=1, min_samples_split=2,\n",
      "          min_weight_fraction_leaf=0.0, random_state=610991216,\n",
      "          splitter='random')\n",
      "auc_IF = 0.9999777925827226\n",
      "max_samples = 90\n",
      "{'behaviour': 'new', 'bootstrap': False, 'contamination': 'legacy', 'max_features': 1.0, 'max_samples': 90, 'n_estimators': 100, 'n_jobs': None, 'random_state': None, 'verbose': 0}\n"
     ]
    },
    {
     "name": "stderr",
     "output_type": "stream",
     "text": [
      "/Users/thesard/anaconda3/lib/python3.7/site-packages/sklearn/ensemble/iforest.py:213: FutureWarning: default contamination parameter 0.1 will change in version 0.22 to \"auto\". This will change the predict method behavior.\n",
      "  FutureWarning)\n"
     ]
    },
    {
     "name": "stdout",
     "output_type": "stream",
     "text": [
      "Information about the first tree\n",
      "The tree = ExtraTreeRegressor(criterion='mse', max_depth=7, max_features=1,\n",
      "          max_leaf_nodes=None, min_impurity_decrease=0.0,\n",
      "          min_impurity_split=None, min_samples_leaf=1, min_samples_split=2,\n",
      "          min_weight_fraction_leaf=0.0, random_state=362882926,\n",
      "          splitter='random')\n",
      "max_samples = 95\n",
      "{'behaviour': 'new', 'bootstrap': False, 'contamination': 'legacy', 'max_features': 1.0, 'max_samples': 95, 'n_estimators': 100, 'n_jobs': None, 'random_state': None, 'verbose': 0}\n"
     ]
    },
    {
     "name": "stderr",
     "output_type": "stream",
     "text": [
      "/Users/thesard/anaconda3/lib/python3.7/site-packages/sklearn/ensemble/iforest.py:213: FutureWarning: default contamination parameter 0.1 will change in version 0.22 to \"auto\". This will change the predict method behavior.\n",
      "  FutureWarning)\n"
     ]
    },
    {
     "name": "stdout",
     "output_type": "stream",
     "text": [
      "Information about the first tree\n",
      "The tree = ExtraTreeRegressor(criterion='mse', max_depth=7, max_features=1,\n",
      "          max_leaf_nodes=None, min_impurity_decrease=0.0,\n",
      "          min_impurity_split=None, min_samples_leaf=1, min_samples_split=2,\n",
      "          min_weight_fraction_leaf=0.0, random_state=1888720645,\n",
      "          splitter='random')\n",
      "max_samples = 100\n",
      "{'behaviour': 'new', 'bootstrap': False, 'contamination': 'legacy', 'max_features': 1.0, 'max_samples': 100, 'n_estimators': 100, 'n_jobs': None, 'random_state': None, 'verbose': 0}\n"
     ]
    },
    {
     "name": "stderr",
     "output_type": "stream",
     "text": [
      "/Users/thesard/anaconda3/lib/python3.7/site-packages/sklearn/ensemble/iforest.py:213: FutureWarning: default contamination parameter 0.1 will change in version 0.22 to \"auto\". This will change the predict method behavior.\n",
      "  FutureWarning)\n"
     ]
    },
    {
     "name": "stdout",
     "output_type": "stream",
     "text": [
      "Information about the first tree\n",
      "The tree = ExtraTreeRegressor(criterion='mse', max_depth=7, max_features=1,\n",
      "          max_leaf_nodes=None, min_impurity_decrease=0.0,\n",
      "          min_impurity_split=None, min_samples_leaf=1, min_samples_split=2,\n",
      "          min_weight_fraction_leaf=0.0, random_state=1333571919,\n",
      "          splitter='random')\n",
      "auc_IF = 0.9999555851654452\n",
      "max_samples = 105\n",
      "{'behaviour': 'new', 'bootstrap': False, 'contamination': 'legacy', 'max_features': 1.0, 'max_samples': 105, 'n_estimators': 100, 'n_jobs': None, 'random_state': None, 'verbose': 0}\n"
     ]
    },
    {
     "name": "stderr",
     "output_type": "stream",
     "text": [
      "/Users/thesard/anaconda3/lib/python3.7/site-packages/sklearn/ensemble/iforest.py:213: FutureWarning: default contamination parameter 0.1 will change in version 0.22 to \"auto\". This will change the predict method behavior.\n",
      "  FutureWarning)\n"
     ]
    },
    {
     "name": "stdout",
     "output_type": "stream",
     "text": [
      "Information about the first tree\n",
      "The tree = ExtraTreeRegressor(criterion='mse', max_depth=7, max_features=1,\n",
      "          max_leaf_nodes=None, min_impurity_decrease=0.0,\n",
      "          min_impurity_split=None, min_samples_leaf=1, min_samples_split=2,\n",
      "          min_weight_fraction_leaf=0.0, random_state=508291353,\n",
      "          splitter='random')\n",
      "auc_IF = 0.9999777925827226\n",
      "max_samples = 110\n",
      "{'behaviour': 'new', 'bootstrap': False, 'contamination': 'legacy', 'max_features': 1.0, 'max_samples': 110, 'n_estimators': 100, 'n_jobs': None, 'random_state': None, 'verbose': 0}\n"
     ]
    },
    {
     "name": "stderr",
     "output_type": "stream",
     "text": [
      "/Users/thesard/anaconda3/lib/python3.7/site-packages/sklearn/ensemble/iforest.py:213: FutureWarning: default contamination parameter 0.1 will change in version 0.22 to \"auto\". This will change the predict method behavior.\n",
      "  FutureWarning)\n"
     ]
    },
    {
     "name": "stdout",
     "output_type": "stream",
     "text": [
      "Information about the first tree\n",
      "The tree = ExtraTreeRegressor(criterion='mse', max_depth=7, max_features=1,\n",
      "          max_leaf_nodes=None, min_impurity_decrease=0.0,\n",
      "          min_impurity_split=None, min_samples_leaf=1, min_samples_split=2,\n",
      "          min_weight_fraction_leaf=0.0, random_state=811779704,\n",
      "          splitter='random')\n",
      "auc_IF = 0.9999777925827227\n",
      "max_samples = 115\n",
      "{'behaviour': 'new', 'bootstrap': False, 'contamination': 'legacy', 'max_features': 1.0, 'max_samples': 115, 'n_estimators': 100, 'n_jobs': None, 'random_state': None, 'verbose': 0}\n"
     ]
    },
    {
     "name": "stderr",
     "output_type": "stream",
     "text": [
      "/Users/thesard/anaconda3/lib/python3.7/site-packages/sklearn/ensemble/iforest.py:213: FutureWarning: default contamination parameter 0.1 will change in version 0.22 to \"auto\". This will change the predict method behavior.\n",
      "  FutureWarning)\n"
     ]
    },
    {
     "name": "stdout",
     "output_type": "stream",
     "text": [
      "Information about the first tree\n",
      "The tree = ExtraTreeRegressor(criterion='mse', max_depth=7, max_features=1,\n",
      "          max_leaf_nodes=None, min_impurity_decrease=0.0,\n",
      "          min_impurity_split=None, min_samples_leaf=1, min_samples_split=2,\n",
      "          min_weight_fraction_leaf=0.0, random_state=58590589,\n",
      "          splitter='random')\n",
      "max_samples = 120\n",
      "{'behaviour': 'new', 'bootstrap': False, 'contamination': 'legacy', 'max_features': 1.0, 'max_samples': 120, 'n_estimators': 100, 'n_jobs': None, 'random_state': None, 'verbose': 0}\n"
     ]
    },
    {
     "name": "stderr",
     "output_type": "stream",
     "text": [
      "/Users/thesard/anaconda3/lib/python3.7/site-packages/sklearn/ensemble/iforest.py:213: FutureWarning: default contamination parameter 0.1 will change in version 0.22 to \"auto\". This will change the predict method behavior.\n",
      "  FutureWarning)\n"
     ]
    },
    {
     "name": "stdout",
     "output_type": "stream",
     "text": [
      "Information about the first tree\n",
      "The tree = ExtraTreeRegressor(criterion='mse', max_depth=7, max_features=1,\n",
      "          max_leaf_nodes=None, min_impurity_decrease=0.0,\n",
      "          min_impurity_split=None, min_samples_leaf=1, min_samples_split=2,\n",
      "          min_weight_fraction_leaf=0.0, random_state=1737107915,\n",
      "          splitter='random')\n",
      "auc_IF = 0.9999777925827226\n",
      "max_samples = 125\n",
      "{'behaviour': 'new', 'bootstrap': False, 'contamination': 'legacy', 'max_features': 1.0, 'max_samples': 125, 'n_estimators': 100, 'n_jobs': None, 'random_state': None, 'verbose': 0}\n"
     ]
    },
    {
     "name": "stderr",
     "output_type": "stream",
     "text": [
      "/Users/thesard/anaconda3/lib/python3.7/site-packages/sklearn/ensemble/iforest.py:213: FutureWarning: default contamination parameter 0.1 will change in version 0.22 to \"auto\". This will change the predict method behavior.\n",
      "  FutureWarning)\n"
     ]
    },
    {
     "name": "stdout",
     "output_type": "stream",
     "text": [
      "Information about the first tree\n",
      "The tree = ExtraTreeRegressor(criterion='mse', max_depth=7, max_features=1,\n",
      "          max_leaf_nodes=None, min_impurity_decrease=0.0,\n",
      "          min_impurity_split=None, min_samples_leaf=1, min_samples_split=2,\n",
      "          min_weight_fraction_leaf=0.0, random_state=785138055,\n",
      "          splitter='random')\n",
      "auc_IF = 0.9999777925827226\n",
      "max_samples = 130\n",
      "{'behaviour': 'new', 'bootstrap': False, 'contamination': 'legacy', 'max_features': 1.0, 'max_samples': 130, 'n_estimators': 100, 'n_jobs': None, 'random_state': None, 'verbose': 0}\n"
     ]
    },
    {
     "name": "stderr",
     "output_type": "stream",
     "text": [
      "/Users/thesard/anaconda3/lib/python3.7/site-packages/sklearn/ensemble/iforest.py:213: FutureWarning: default contamination parameter 0.1 will change in version 0.22 to \"auto\". This will change the predict method behavior.\n",
      "  FutureWarning)\n"
     ]
    },
    {
     "name": "stdout",
     "output_type": "stream",
     "text": [
      "Information about the first tree\n",
      "The tree = ExtraTreeRegressor(criterion='mse', max_depth=8, max_features=1,\n",
      "          max_leaf_nodes=None, min_impurity_decrease=0.0,\n",
      "          min_impurity_split=None, min_samples_leaf=1, min_samples_split=2,\n",
      "          min_weight_fraction_leaf=0.0, random_state=885919996,\n",
      "          splitter='random')\n",
      "max_samples = 135\n",
      "{'behaviour': 'new', 'bootstrap': False, 'contamination': 'legacy', 'max_features': 1.0, 'max_samples': 135, 'n_estimators': 100, 'n_jobs': None, 'random_state': None, 'verbose': 0}\n"
     ]
    },
    {
     "name": "stderr",
     "output_type": "stream",
     "text": [
      "/Users/thesard/anaconda3/lib/python3.7/site-packages/sklearn/ensemble/iforest.py:213: FutureWarning: default contamination parameter 0.1 will change in version 0.22 to \"auto\". This will change the predict method behavior.\n",
      "  FutureWarning)\n"
     ]
    },
    {
     "name": "stdout",
     "output_type": "stream",
     "text": [
      "Information about the first tree\n",
      "The tree = ExtraTreeRegressor(criterion='mse', max_depth=8, max_features=1,\n",
      "          max_leaf_nodes=None, min_impurity_decrease=0.0,\n",
      "          min_impurity_split=None, min_samples_leaf=1, min_samples_split=2,\n",
      "          min_weight_fraction_leaf=0.0, random_state=852906594,\n",
      "          splitter='random')\n",
      "auc_IF = 0.9999777925827226\n",
      "max_samples = 140\n",
      "{'behaviour': 'new', 'bootstrap': False, 'contamination': 'legacy', 'max_features': 1.0, 'max_samples': 140, 'n_estimators': 100, 'n_jobs': None, 'random_state': None, 'verbose': 0}\n"
     ]
    },
    {
     "name": "stderr",
     "output_type": "stream",
     "text": [
      "/Users/thesard/anaconda3/lib/python3.7/site-packages/sklearn/ensemble/iforest.py:213: FutureWarning: default contamination parameter 0.1 will change in version 0.22 to \"auto\". This will change the predict method behavior.\n",
      "  FutureWarning)\n"
     ]
    },
    {
     "name": "stdout",
     "output_type": "stream",
     "text": [
      "Information about the first tree\n",
      "The tree = ExtraTreeRegressor(criterion='mse', max_depth=8, max_features=1,\n",
      "          max_leaf_nodes=None, min_impurity_decrease=0.0,\n",
      "          min_impurity_split=None, min_samples_leaf=1, min_samples_split=2,\n",
      "          min_weight_fraction_leaf=0.0, random_state=1945669432,\n",
      "          splitter='random')\n",
      "auc_IF = 0.9999777925827226\n",
      "max_samples = 145\n",
      "{'behaviour': 'new', 'bootstrap': False, 'contamination': 'legacy', 'max_features': 1.0, 'max_samples': 145, 'n_estimators': 100, 'n_jobs': None, 'random_state': None, 'verbose': 0}\n"
     ]
    },
    {
     "name": "stderr",
     "output_type": "stream",
     "text": [
      "/Users/thesard/anaconda3/lib/python3.7/site-packages/sklearn/ensemble/iforest.py:213: FutureWarning: default contamination parameter 0.1 will change in version 0.22 to \"auto\". This will change the predict method behavior.\n",
      "  FutureWarning)\n"
     ]
    },
    {
     "name": "stdout",
     "output_type": "stream",
     "text": [
      "Information about the first tree\n",
      "The tree = ExtraTreeRegressor(criterion='mse', max_depth=8, max_features=1,\n",
      "          max_leaf_nodes=None, min_impurity_decrease=0.0,\n",
      "          min_impurity_split=None, min_samples_leaf=1, min_samples_split=2,\n",
      "          min_weight_fraction_leaf=0.0, random_state=693589242,\n",
      "          splitter='random')\n",
      "auc_IF = 0.9999777925827226\n",
      "max_samples = 150\n",
      "{'behaviour': 'new', 'bootstrap': False, 'contamination': 'legacy', 'max_features': 1.0, 'max_samples': 150, 'n_estimators': 100, 'n_jobs': None, 'random_state': None, 'verbose': 0}\n"
     ]
    },
    {
     "name": "stderr",
     "output_type": "stream",
     "text": [
      "/Users/thesard/anaconda3/lib/python3.7/site-packages/sklearn/ensemble/iforest.py:213: FutureWarning: default contamination parameter 0.1 will change in version 0.22 to \"auto\". This will change the predict method behavior.\n",
      "  FutureWarning)\n"
     ]
    },
    {
     "name": "stdout",
     "output_type": "stream",
     "text": [
      "Information about the first tree\n",
      "The tree = ExtraTreeRegressor(criterion='mse', max_depth=8, max_features=1,\n",
      "          max_leaf_nodes=None, min_impurity_decrease=0.0,\n",
      "          min_impurity_split=None, min_samples_leaf=1, min_samples_split=2,\n",
      "          min_weight_fraction_leaf=0.0, random_state=1725407489,\n",
      "          splitter='random')\n",
      "max_samples = 155\n",
      "{'behaviour': 'new', 'bootstrap': False, 'contamination': 'legacy', 'max_features': 1.0, 'max_samples': 155, 'n_estimators': 100, 'n_jobs': None, 'random_state': None, 'verbose': 0}\n"
     ]
    },
    {
     "name": "stderr",
     "output_type": "stream",
     "text": [
      "/Users/thesard/anaconda3/lib/python3.7/site-packages/sklearn/ensemble/iforest.py:213: FutureWarning: default contamination parameter 0.1 will change in version 0.22 to \"auto\". This will change the predict method behavior.\n",
      "  FutureWarning)\n"
     ]
    },
    {
     "name": "stdout",
     "output_type": "stream",
     "text": [
      "Information about the first tree\n",
      "The tree = ExtraTreeRegressor(criterion='mse', max_depth=8, max_features=1,\n",
      "          max_leaf_nodes=None, min_impurity_decrease=0.0,\n",
      "          min_impurity_split=None, min_samples_leaf=1, min_samples_split=2,\n",
      "          min_weight_fraction_leaf=0.0, random_state=1315710661,\n",
      "          splitter='random')\n",
      "auc_IF = 0.9999777925827227\n",
      "max_samples = 160\n",
      "{'behaviour': 'new', 'bootstrap': False, 'contamination': 'legacy', 'max_features': 1.0, 'max_samples': 160, 'n_estimators': 100, 'n_jobs': None, 'random_state': None, 'verbose': 0}\n"
     ]
    },
    {
     "name": "stderr",
     "output_type": "stream",
     "text": [
      "/Users/thesard/anaconda3/lib/python3.7/site-packages/sklearn/ensemble/iforest.py:213: FutureWarning: default contamination parameter 0.1 will change in version 0.22 to \"auto\". This will change the predict method behavior.\n",
      "  FutureWarning)\n"
     ]
    },
    {
     "name": "stdout",
     "output_type": "stream",
     "text": [
      "Information about the first tree\n",
      "The tree = ExtraTreeRegressor(criterion='mse', max_depth=8, max_features=1,\n",
      "          max_leaf_nodes=None, min_impurity_decrease=0.0,\n",
      "          min_impurity_split=None, min_samples_leaf=1, min_samples_split=2,\n",
      "          min_weight_fraction_leaf=0.0, random_state=2143791842,\n",
      "          splitter='random')\n",
      "max_samples = 165\n",
      "{'behaviour': 'new', 'bootstrap': False, 'contamination': 'legacy', 'max_features': 1.0, 'max_samples': 165, 'n_estimators': 100, 'n_jobs': None, 'random_state': None, 'verbose': 0}\n"
     ]
    },
    {
     "name": "stderr",
     "output_type": "stream",
     "text": [
      "/Users/thesard/anaconda3/lib/python3.7/site-packages/sklearn/ensemble/iforest.py:213: FutureWarning: default contamination parameter 0.1 will change in version 0.22 to \"auto\". This will change the predict method behavior.\n",
      "  FutureWarning)\n"
     ]
    },
    {
     "name": "stdout",
     "output_type": "stream",
     "text": [
      "Information about the first tree\n",
      "The tree = ExtraTreeRegressor(criterion='mse', max_depth=8, max_features=1,\n",
      "          max_leaf_nodes=None, min_impurity_decrease=0.0,\n",
      "          min_impurity_split=None, min_samples_leaf=1, min_samples_split=2,\n",
      "          min_weight_fraction_leaf=0.0, random_state=1675017519,\n",
      "          splitter='random')\n",
      "auc_IF = 0.9999777925827226\n",
      "max_samples = 170\n",
      "{'behaviour': 'new', 'bootstrap': False, 'contamination': 'legacy', 'max_features': 1.0, 'max_samples': 170, 'n_estimators': 100, 'n_jobs': None, 'random_state': None, 'verbose': 0}\n"
     ]
    },
    {
     "name": "stderr",
     "output_type": "stream",
     "text": [
      "/Users/thesard/anaconda3/lib/python3.7/site-packages/sklearn/ensemble/iforest.py:213: FutureWarning: default contamination parameter 0.1 will change in version 0.22 to \"auto\". This will change the predict method behavior.\n",
      "  FutureWarning)\n"
     ]
    },
    {
     "name": "stdout",
     "output_type": "stream",
     "text": [
      "Information about the first tree\n",
      "The tree = ExtraTreeRegressor(criterion='mse', max_depth=8, max_features=1,\n",
      "          max_leaf_nodes=None, min_impurity_decrease=0.0,\n",
      "          min_impurity_split=None, min_samples_leaf=1, min_samples_split=2,\n",
      "          min_weight_fraction_leaf=0.0, random_state=1580107005,\n",
      "          splitter='random')\n",
      "auc_IF = 0.9999777925827227\n",
      "max_samples = 175\n",
      "{'behaviour': 'new', 'bootstrap': False, 'contamination': 'legacy', 'max_features': 1.0, 'max_samples': 175, 'n_estimators': 100, 'n_jobs': None, 'random_state': None, 'verbose': 0}\n"
     ]
    },
    {
     "name": "stderr",
     "output_type": "stream",
     "text": [
      "/Users/thesard/anaconda3/lib/python3.7/site-packages/sklearn/ensemble/iforest.py:213: FutureWarning: default contamination parameter 0.1 will change in version 0.22 to \"auto\". This will change the predict method behavior.\n",
      "  FutureWarning)\n"
     ]
    },
    {
     "name": "stdout",
     "output_type": "stream",
     "text": [
      "Information about the first tree\n",
      "The tree = ExtraTreeRegressor(criterion='mse', max_depth=8, max_features=1,\n",
      "          max_leaf_nodes=None, min_impurity_decrease=0.0,\n",
      "          min_impurity_split=None, min_samples_leaf=1, min_samples_split=2,\n",
      "          min_weight_fraction_leaf=0.0, random_state=169171589,\n",
      "          splitter='random')\n",
      "auc_IF = 0.9999555851654452\n",
      "max_samples = 180\n",
      "{'behaviour': 'new', 'bootstrap': False, 'contamination': 'legacy', 'max_features': 1.0, 'max_samples': 180, 'n_estimators': 100, 'n_jobs': None, 'random_state': None, 'verbose': 0}\n"
     ]
    },
    {
     "name": "stderr",
     "output_type": "stream",
     "text": [
      "/Users/thesard/anaconda3/lib/python3.7/site-packages/sklearn/ensemble/iforest.py:213: FutureWarning: default contamination parameter 0.1 will change in version 0.22 to \"auto\". This will change the predict method behavior.\n",
      "  FutureWarning)\n"
     ]
    },
    {
     "name": "stdout",
     "output_type": "stream",
     "text": [
      "Information about the first tree\n",
      "The tree = ExtraTreeRegressor(criterion='mse', max_depth=8, max_features=1,\n",
      "          max_leaf_nodes=None, min_impurity_decrease=0.0,\n",
      "          min_impurity_split=None, min_samples_leaf=1, min_samples_split=2,\n",
      "          min_weight_fraction_leaf=0.0, random_state=1672230822,\n",
      "          splitter='random')\n",
      "auc_IF = 0.9999777925827227\n",
      "max_samples = 185\n",
      "{'behaviour': 'new', 'bootstrap': False, 'contamination': 'legacy', 'max_features': 1.0, 'max_samples': 185, 'n_estimators': 100, 'n_jobs': None, 'random_state': None, 'verbose': 0}\n"
     ]
    },
    {
     "name": "stderr",
     "output_type": "stream",
     "text": [
      "/Users/thesard/anaconda3/lib/python3.7/site-packages/sklearn/ensemble/iforest.py:213: FutureWarning: default contamination parameter 0.1 will change in version 0.22 to \"auto\". This will change the predict method behavior.\n",
      "  FutureWarning)\n"
     ]
    },
    {
     "name": "stdout",
     "output_type": "stream",
     "text": [
      "Information about the first tree\n",
      "The tree = ExtraTreeRegressor(criterion='mse', max_depth=8, max_features=1,\n",
      "          max_leaf_nodes=None, min_impurity_decrease=0.0,\n",
      "          min_impurity_split=None, min_samples_leaf=1, min_samples_split=2,\n",
      "          min_weight_fraction_leaf=0.0, random_state=1310046290,\n",
      "          splitter='random')\n",
      "auc_IF = 0.9999777925827226\n",
      "max_samples = 190\n",
      "{'behaviour': 'new', 'bootstrap': False, 'contamination': 'legacy', 'max_features': 1.0, 'max_samples': 190, 'n_estimators': 100, 'n_jobs': None, 'random_state': None, 'verbose': 0}\n"
     ]
    },
    {
     "name": "stderr",
     "output_type": "stream",
     "text": [
      "/Users/thesard/anaconda3/lib/python3.7/site-packages/sklearn/ensemble/iforest.py:213: FutureWarning: default contamination parameter 0.1 will change in version 0.22 to \"auto\". This will change the predict method behavior.\n",
      "  FutureWarning)\n"
     ]
    },
    {
     "name": "stdout",
     "output_type": "stream",
     "text": [
      "Information about the first tree\n",
      "The tree = ExtraTreeRegressor(criterion='mse', max_depth=8, max_features=1,\n",
      "          max_leaf_nodes=None, min_impurity_decrease=0.0,\n",
      "          min_impurity_split=None, min_samples_leaf=1, min_samples_split=2,\n",
      "          min_weight_fraction_leaf=0.0, random_state=714703731,\n",
      "          splitter='random')\n",
      "max_samples = 195\n",
      "{'behaviour': 'new', 'bootstrap': False, 'contamination': 'legacy', 'max_features': 1.0, 'max_samples': 195, 'n_estimators': 100, 'n_jobs': None, 'random_state': None, 'verbose': 0}\n"
     ]
    },
    {
     "name": "stderr",
     "output_type": "stream",
     "text": [
      "/Users/thesard/anaconda3/lib/python3.7/site-packages/sklearn/ensemble/iforest.py:213: FutureWarning: default contamination parameter 0.1 will change in version 0.22 to \"auto\". This will change the predict method behavior.\n",
      "  FutureWarning)\n"
     ]
    },
    {
     "name": "stdout",
     "output_type": "stream",
     "text": [
      "Information about the first tree\n",
      "The tree = ExtraTreeRegressor(criterion='mse', max_depth=8, max_features=1,\n",
      "          max_leaf_nodes=None, min_impurity_decrease=0.0,\n",
      "          min_impurity_split=None, min_samples_leaf=1, min_samples_split=2,\n",
      "          min_weight_fraction_leaf=0.0, random_state=1331746011,\n",
      "          splitter='random')\n",
      "auc_IF = 0.9999777925827227\n",
      "max_samples = 200\n",
      "{'behaviour': 'new', 'bootstrap': False, 'contamination': 'legacy', 'max_features': 1.0, 'max_samples': 200, 'n_estimators': 100, 'n_jobs': None, 'random_state': None, 'verbose': 0}\n"
     ]
    },
    {
     "name": "stderr",
     "output_type": "stream",
     "text": [
      "/Users/thesard/anaconda3/lib/python3.7/site-packages/sklearn/ensemble/iforest.py:213: FutureWarning: default contamination parameter 0.1 will change in version 0.22 to \"auto\". This will change the predict method behavior.\n",
      "  FutureWarning)\n"
     ]
    },
    {
     "name": "stdout",
     "output_type": "stream",
     "text": [
      "Information about the first tree\n",
      "The tree = ExtraTreeRegressor(criterion='mse', max_depth=8, max_features=1,\n",
      "          max_leaf_nodes=None, min_impurity_decrease=0.0,\n",
      "          min_impurity_split=None, min_samples_leaf=1, min_samples_split=2,\n",
      "          min_weight_fraction_leaf=0.0, random_state=1731371791,\n",
      "          splitter='random')\n",
      "max_samples = 205\n",
      "{'behaviour': 'new', 'bootstrap': False, 'contamination': 'legacy', 'max_features': 1.0, 'max_samples': 205, 'n_estimators': 100, 'n_jobs': None, 'random_state': None, 'verbose': 0}\n"
     ]
    },
    {
     "name": "stderr",
     "output_type": "stream",
     "text": [
      "/Users/thesard/anaconda3/lib/python3.7/site-packages/sklearn/ensemble/iforest.py:213: FutureWarning: default contamination parameter 0.1 will change in version 0.22 to \"auto\". This will change the predict method behavior.\n",
      "  FutureWarning)\n"
     ]
    },
    {
     "name": "stdout",
     "output_type": "stream",
     "text": [
      "Information about the first tree\n",
      "The tree = ExtraTreeRegressor(criterion='mse', max_depth=8, max_features=1,\n",
      "          max_leaf_nodes=None, min_impurity_decrease=0.0,\n",
      "          min_impurity_split=None, min_samples_leaf=1, min_samples_split=2,\n",
      "          min_weight_fraction_leaf=0.0, random_state=23707283,\n",
      "          splitter='random')\n",
      "auc_IF = 0.9999777925827227\n",
      "max_samples = 210\n",
      "{'behaviour': 'new', 'bootstrap': False, 'contamination': 'legacy', 'max_features': 1.0, 'max_samples': 210, 'n_estimators': 100, 'n_jobs': None, 'random_state': None, 'verbose': 0}\n"
     ]
    },
    {
     "name": "stderr",
     "output_type": "stream",
     "text": [
      "/Users/thesard/anaconda3/lib/python3.7/site-packages/sklearn/ensemble/iforest.py:213: FutureWarning: default contamination parameter 0.1 will change in version 0.22 to \"auto\". This will change the predict method behavior.\n",
      "  FutureWarning)\n"
     ]
    },
    {
     "name": "stdout",
     "output_type": "stream",
     "text": [
      "Information about the first tree\n",
      "The tree = ExtraTreeRegressor(criterion='mse', max_depth=8, max_features=1,\n",
      "          max_leaf_nodes=None, min_impurity_decrease=0.0,\n",
      "          min_impurity_split=None, min_samples_leaf=1, min_samples_split=2,\n",
      "          min_weight_fraction_leaf=0.0, random_state=247843822,\n",
      "          splitter='random')\n",
      "auc_IF = 0.9999555851654452\n",
      "max_samples = 215\n",
      "{'behaviour': 'new', 'bootstrap': False, 'contamination': 'legacy', 'max_features': 1.0, 'max_samples': 215, 'n_estimators': 100, 'n_jobs': None, 'random_state': None, 'verbose': 0}\n"
     ]
    },
    {
     "name": "stderr",
     "output_type": "stream",
     "text": [
      "/Users/thesard/anaconda3/lib/python3.7/site-packages/sklearn/ensemble/iforest.py:213: FutureWarning: default contamination parameter 0.1 will change in version 0.22 to \"auto\". This will change the predict method behavior.\n",
      "  FutureWarning)\n"
     ]
    },
    {
     "name": "stdout",
     "output_type": "stream",
     "text": [
      "Information about the first tree\n",
      "The tree = ExtraTreeRegressor(criterion='mse', max_depth=8, max_features=1,\n",
      "          max_leaf_nodes=None, min_impurity_decrease=0.0,\n",
      "          min_impurity_split=None, min_samples_leaf=1, min_samples_split=2,\n",
      "          min_weight_fraction_leaf=0.0, random_state=1441069442,\n",
      "          splitter='random')\n",
      "auc_IF = 0.9999333777481679\n",
      "max_samples = 220\n",
      "{'behaviour': 'new', 'bootstrap': False, 'contamination': 'legacy', 'max_features': 1.0, 'max_samples': 220, 'n_estimators': 100, 'n_jobs': None, 'random_state': None, 'verbose': 0}\n"
     ]
    },
    {
     "name": "stderr",
     "output_type": "stream",
     "text": [
      "/Users/thesard/anaconda3/lib/python3.7/site-packages/sklearn/ensemble/iforest.py:213: FutureWarning: default contamination parameter 0.1 will change in version 0.22 to \"auto\". This will change the predict method behavior.\n",
      "  FutureWarning)\n"
     ]
    },
    {
     "name": "stdout",
     "output_type": "stream",
     "text": [
      "Information about the first tree\n",
      "The tree = ExtraTreeRegressor(criterion='mse', max_depth=8, max_features=1,\n",
      "          max_leaf_nodes=None, min_impurity_decrease=0.0,\n",
      "          min_impurity_split=None, min_samples_leaf=1, min_samples_split=2,\n",
      "          min_weight_fraction_leaf=0.0, random_state=268839428,\n",
      "          splitter='random')\n",
      "max_samples = 225\n",
      "{'behaviour': 'new', 'bootstrap': False, 'contamination': 'legacy', 'max_features': 1.0, 'max_samples': 225, 'n_estimators': 100, 'n_jobs': None, 'random_state': None, 'verbose': 0}\n"
     ]
    },
    {
     "name": "stderr",
     "output_type": "stream",
     "text": [
      "/Users/thesard/anaconda3/lib/python3.7/site-packages/sklearn/ensemble/iforest.py:213: FutureWarning: default contamination parameter 0.1 will change in version 0.22 to \"auto\". This will change the predict method behavior.\n",
      "  FutureWarning)\n"
     ]
    },
    {
     "name": "stdout",
     "output_type": "stream",
     "text": [
      "Information about the first tree\n",
      "The tree = ExtraTreeRegressor(criterion='mse', max_depth=8, max_features=1,\n",
      "          max_leaf_nodes=None, min_impurity_decrease=0.0,\n",
      "          min_impurity_split=None, min_samples_leaf=1, min_samples_split=2,\n",
      "          min_weight_fraction_leaf=0.0, random_state=27953629,\n",
      "          splitter='random')\n",
      "auc_IF = 0.9999333777481679\n",
      "max_samples = 230\n",
      "{'behaviour': 'new', 'bootstrap': False, 'contamination': 'legacy', 'max_features': 1.0, 'max_samples': 230, 'n_estimators': 100, 'n_jobs': None, 'random_state': None, 'verbose': 0}\n"
     ]
    },
    {
     "name": "stderr",
     "output_type": "stream",
     "text": [
      "/Users/thesard/anaconda3/lib/python3.7/site-packages/sklearn/ensemble/iforest.py:213: FutureWarning: default contamination parameter 0.1 will change in version 0.22 to \"auto\". This will change the predict method behavior.\n",
      "  FutureWarning)\n"
     ]
    },
    {
     "name": "stdout",
     "output_type": "stream",
     "text": [
      "Information about the first tree\n",
      "The tree = ExtraTreeRegressor(criterion='mse', max_depth=8, max_features=1,\n",
      "          max_leaf_nodes=None, min_impurity_decrease=0.0,\n",
      "          min_impurity_split=None, min_samples_leaf=1, min_samples_split=2,\n",
      "          min_weight_fraction_leaf=0.0, random_state=1515766199,\n",
      "          splitter='random')\n",
      "auc_IF = 0.9999777925827227\n",
      "max_samples = 235\n",
      "{'behaviour': 'new', 'bootstrap': False, 'contamination': 'legacy', 'max_features': 1.0, 'max_samples': 235, 'n_estimators': 100, 'n_jobs': None, 'random_state': None, 'verbose': 0}\n",
      "Information about the first tree\n",
      "The tree = ExtraTreeRegressor(criterion='mse', max_depth=8, max_features=1,\n",
      "          max_leaf_nodes=None, min_impurity_decrease=0.0,\n",
      "          min_impurity_split=None, min_samples_leaf=1, min_samples_split=2,\n",
      "          min_weight_fraction_leaf=0.0, random_state=729379386,\n",
      "          splitter='random')\n"
     ]
    },
    {
     "name": "stderr",
     "output_type": "stream",
     "text": [
      "/Users/thesard/anaconda3/lib/python3.7/site-packages/sklearn/ensemble/iforest.py:213: FutureWarning: default contamination parameter 0.1 will change in version 0.22 to \"auto\". This will change the predict method behavior.\n",
      "  FutureWarning)\n"
     ]
    },
    {
     "name": "stdout",
     "output_type": "stream",
     "text": [
      "auc_IF = 0.9999333777481679\n",
      "max_samples = 240\n",
      "{'behaviour': 'new', 'bootstrap': False, 'contamination': 'legacy', 'max_features': 1.0, 'max_samples': 240, 'n_estimators': 100, 'n_jobs': None, 'random_state': None, 'verbose': 0}\n",
      "Information about the first tree\n",
      "The tree = ExtraTreeRegressor(criterion='mse', max_depth=8, max_features=1,\n",
      "          max_leaf_nodes=None, min_impurity_decrease=0.0,\n",
      "          min_impurity_split=None, min_samples_leaf=1, min_samples_split=2,\n",
      "          min_weight_fraction_leaf=0.0, random_state=800775268,\n",
      "          splitter='random')\n"
     ]
    },
    {
     "name": "stderr",
     "output_type": "stream",
     "text": [
      "/Users/thesard/anaconda3/lib/python3.7/site-packages/sklearn/ensemble/iforest.py:213: FutureWarning: default contamination parameter 0.1 will change in version 0.22 to \"auto\". This will change the predict method behavior.\n",
      "  FutureWarning)\n"
     ]
    },
    {
     "name": "stdout",
     "output_type": "stream",
     "text": [
      "max_samples = 245\n",
      "{'behaviour': 'new', 'bootstrap': False, 'contamination': 'legacy', 'max_features': 1.0, 'max_samples': 245, 'n_estimators': 100, 'n_jobs': None, 'random_state': None, 'verbose': 0}\n",
      "Information about the first tree\n",
      "The tree = ExtraTreeRegressor(criterion='mse', max_depth=8, max_features=1,\n",
      "          max_leaf_nodes=None, min_impurity_decrease=0.0,\n",
      "          min_impurity_split=None, min_samples_leaf=1, min_samples_split=2,\n",
      "          min_weight_fraction_leaf=0.0, random_state=508397483,\n",
      "          splitter='random')\n"
     ]
    },
    {
     "name": "stderr",
     "output_type": "stream",
     "text": [
      "/Users/thesard/anaconda3/lib/python3.7/site-packages/sklearn/ensemble/iforest.py:213: FutureWarning: default contamination parameter 0.1 will change in version 0.22 to \"auto\". This will change the predict method behavior.\n",
      "  FutureWarning)\n"
     ]
    },
    {
     "name": "stdout",
     "output_type": "stream",
     "text": [
      "max_samples = 250\n",
      "{'behaviour': 'new', 'bootstrap': False, 'contamination': 'legacy', 'max_features': 1.0, 'max_samples': 250, 'n_estimators': 100, 'n_jobs': None, 'random_state': None, 'verbose': 0}\n"
     ]
    },
    {
     "name": "stderr",
     "output_type": "stream",
     "text": [
      "/Users/thesard/anaconda3/lib/python3.7/site-packages/sklearn/ensemble/iforest.py:213: FutureWarning: default contamination parameter 0.1 will change in version 0.22 to \"auto\". This will change the predict method behavior.\n",
      "  FutureWarning)\n"
     ]
    },
    {
     "name": "stdout",
     "output_type": "stream",
     "text": [
      "Information about the first tree\n",
      "The tree = ExtraTreeRegressor(criterion='mse', max_depth=8, max_features=1,\n",
      "          max_leaf_nodes=None, min_impurity_decrease=0.0,\n",
      "          min_impurity_split=None, min_samples_leaf=1, min_samples_split=2,\n",
      "          min_weight_fraction_leaf=0.0, random_state=1582016628,\n",
      "          splitter='random')\n",
      "max_samples = 255\n",
      "{'behaviour': 'new', 'bootstrap': False, 'contamination': 'legacy', 'max_features': 1.0, 'max_samples': 255, 'n_estimators': 100, 'n_jobs': None, 'random_state': None, 'verbose': 0}\n"
     ]
    },
    {
     "name": "stderr",
     "output_type": "stream",
     "text": [
      "/Users/thesard/anaconda3/lib/python3.7/site-packages/sklearn/ensemble/iforest.py:213: FutureWarning: default contamination parameter 0.1 will change in version 0.22 to \"auto\". This will change the predict method behavior.\n",
      "  FutureWarning)\n"
     ]
    },
    {
     "name": "stdout",
     "output_type": "stream",
     "text": [
      "Information about the first tree\n",
      "The tree = ExtraTreeRegressor(criterion='mse', max_depth=8, max_features=1,\n",
      "          max_leaf_nodes=None, min_impurity_decrease=0.0,\n",
      "          min_impurity_split=None, min_samples_leaf=1, min_samples_split=2,\n",
      "          min_weight_fraction_leaf=0.0, random_state=764230556,\n",
      "          splitter='random')\n",
      "auc_IF = 0.9999555851654452\n",
      "max_samples = 260\n",
      "{'behaviour': 'new', 'bootstrap': False, 'contamination': 'legacy', 'max_features': 1.0, 'max_samples': 260, 'n_estimators': 100, 'n_jobs': None, 'random_state': None, 'verbose': 0}\n"
     ]
    },
    {
     "name": "stderr",
     "output_type": "stream",
     "text": [
      "/Users/thesard/anaconda3/lib/python3.7/site-packages/sklearn/ensemble/iforest.py:213: FutureWarning: default contamination parameter 0.1 will change in version 0.22 to \"auto\". This will change the predict method behavior.\n",
      "  FutureWarning)\n"
     ]
    },
    {
     "name": "stdout",
     "output_type": "stream",
     "text": [
      "Information about the first tree\n",
      "The tree = ExtraTreeRegressor(criterion='mse', max_depth=9, max_features=1,\n",
      "          max_leaf_nodes=None, min_impurity_decrease=0.0,\n",
      "          min_impurity_split=None, min_samples_leaf=1, min_samples_split=2,\n",
      "          min_weight_fraction_leaf=0.0, random_state=1913386348,\n",
      "          splitter='random')\n",
      "max_samples = 265\n",
      "{'behaviour': 'new', 'bootstrap': False, 'contamination': 'legacy', 'max_features': 1.0, 'max_samples': 265, 'n_estimators': 100, 'n_jobs': None, 'random_state': None, 'verbose': 0}\n"
     ]
    },
    {
     "name": "stderr",
     "output_type": "stream",
     "text": [
      "/Users/thesard/anaconda3/lib/python3.7/site-packages/sklearn/ensemble/iforest.py:213: FutureWarning: default contamination parameter 0.1 will change in version 0.22 to \"auto\". This will change the predict method behavior.\n",
      "  FutureWarning)\n"
     ]
    },
    {
     "name": "stdout",
     "output_type": "stream",
     "text": [
      "Information about the first tree\n",
      "The tree = ExtraTreeRegressor(criterion='mse', max_depth=9, max_features=1,\n",
      "          max_leaf_nodes=None, min_impurity_decrease=0.0,\n",
      "          min_impurity_split=None, min_samples_leaf=1, min_samples_split=2,\n",
      "          min_weight_fraction_leaf=0.0, random_state=468466584,\n",
      "          splitter='random')\n",
      "max_samples = 270\n",
      "{'behaviour': 'new', 'bootstrap': False, 'contamination': 'legacy', 'max_features': 1.0, 'max_samples': 270, 'n_estimators': 100, 'n_jobs': None, 'random_state': None, 'verbose': 0}\n"
     ]
    },
    {
     "name": "stderr",
     "output_type": "stream",
     "text": [
      "/Users/thesard/anaconda3/lib/python3.7/site-packages/sklearn/ensemble/iforest.py:213: FutureWarning: default contamination parameter 0.1 will change in version 0.22 to \"auto\". This will change the predict method behavior.\n",
      "  FutureWarning)\n"
     ]
    },
    {
     "name": "stdout",
     "output_type": "stream",
     "text": [
      "Information about the first tree\n",
      "The tree = ExtraTreeRegressor(criterion='mse', max_depth=9, max_features=1,\n",
      "          max_leaf_nodes=None, min_impurity_decrease=0.0,\n",
      "          min_impurity_split=None, min_samples_leaf=1, min_samples_split=2,\n",
      "          min_weight_fraction_leaf=0.0, random_state=898678902,\n",
      "          splitter='random')\n",
      "max_samples = 275\n",
      "{'behaviour': 'new', 'bootstrap': False, 'contamination': 'legacy', 'max_features': 1.0, 'max_samples': 275, 'n_estimators': 100, 'n_jobs': None, 'random_state': None, 'verbose': 0}\n"
     ]
    },
    {
     "name": "stderr",
     "output_type": "stream",
     "text": [
      "/Users/thesard/anaconda3/lib/python3.7/site-packages/sklearn/ensemble/iforest.py:213: FutureWarning: default contamination parameter 0.1 will change in version 0.22 to \"auto\". This will change the predict method behavior.\n",
      "  FutureWarning)\n"
     ]
    },
    {
     "name": "stdout",
     "output_type": "stream",
     "text": [
      "Information about the first tree\n",
      "The tree = ExtraTreeRegressor(criterion='mse', max_depth=9, max_features=1,\n",
      "          max_leaf_nodes=None, min_impurity_decrease=0.0,\n",
      "          min_impurity_split=None, min_samples_leaf=1, min_samples_split=2,\n",
      "          min_weight_fraction_leaf=0.0, random_state=262060593,\n",
      "          splitter='random')\n",
      "max_samples = 280\n",
      "{'behaviour': 'new', 'bootstrap': False, 'contamination': 'legacy', 'max_features': 1.0, 'max_samples': 280, 'n_estimators': 100, 'n_jobs': None, 'random_state': None, 'verbose': 0}\n"
     ]
    },
    {
     "name": "stderr",
     "output_type": "stream",
     "text": [
      "/Users/thesard/anaconda3/lib/python3.7/site-packages/sklearn/ensemble/iforest.py:213: FutureWarning: default contamination parameter 0.1 will change in version 0.22 to \"auto\". This will change the predict method behavior.\n",
      "  FutureWarning)\n"
     ]
    },
    {
     "name": "stdout",
     "output_type": "stream",
     "text": [
      "Information about the first tree\n",
      "The tree = ExtraTreeRegressor(criterion='mse', max_depth=9, max_features=1,\n",
      "          max_leaf_nodes=None, min_impurity_decrease=0.0,\n",
      "          min_impurity_split=None, min_samples_leaf=1, min_samples_split=2,\n",
      "          min_weight_fraction_leaf=0.0, random_state=293086850,\n",
      "          splitter='random')\n",
      "max_samples = 285\n",
      "{'behaviour': 'new', 'bootstrap': False, 'contamination': 'legacy', 'max_features': 1.0, 'max_samples': 285, 'n_estimators': 100, 'n_jobs': None, 'random_state': None, 'verbose': 0}\n",
      "Information about the first tree\n"
     ]
    },
    {
     "name": "stderr",
     "output_type": "stream",
     "text": [
      "/Users/thesard/anaconda3/lib/python3.7/site-packages/sklearn/ensemble/iforest.py:213: FutureWarning: default contamination parameter 0.1 will change in version 0.22 to \"auto\". This will change the predict method behavior.\n",
      "  FutureWarning)\n"
     ]
    },
    {
     "name": "stdout",
     "output_type": "stream",
     "text": [
      "The tree = ExtraTreeRegressor(criterion='mse', max_depth=9, max_features=1,\n",
      "          max_leaf_nodes=None, min_impurity_decrease=0.0,\n",
      "          min_impurity_split=None, min_samples_leaf=1, min_samples_split=2,\n",
      "          min_weight_fraction_leaf=0.0, random_state=514242996,\n",
      "          splitter='random')\n",
      "max_samples = 290\n",
      "{'behaviour': 'new', 'bootstrap': False, 'contamination': 'legacy', 'max_features': 1.0, 'max_samples': 290, 'n_estimators': 100, 'n_jobs': None, 'random_state': None, 'verbose': 0}\n"
     ]
    },
    {
     "name": "stderr",
     "output_type": "stream",
     "text": [
      "/Users/thesard/anaconda3/lib/python3.7/site-packages/sklearn/ensemble/iforest.py:213: FutureWarning: default contamination parameter 0.1 will change in version 0.22 to \"auto\". This will change the predict method behavior.\n",
      "  FutureWarning)\n"
     ]
    },
    {
     "name": "stdout",
     "output_type": "stream",
     "text": [
      "Information about the first tree\n",
      "The tree = ExtraTreeRegressor(criterion='mse', max_depth=9, max_features=1,\n",
      "          max_leaf_nodes=None, min_impurity_decrease=0.0,\n",
      "          min_impurity_split=None, min_samples_leaf=1, min_samples_split=2,\n",
      "          min_weight_fraction_leaf=0.0, random_state=1369289063,\n",
      "          splitter='random')\n",
      "max_samples = 295\n",
      "{'behaviour': 'new', 'bootstrap': False, 'contamination': 'legacy', 'max_features': 1.0, 'max_samples': 295, 'n_estimators': 100, 'n_jobs': None, 'random_state': None, 'verbose': 0}\n"
     ]
    },
    {
     "name": "stderr",
     "output_type": "stream",
     "text": [
      "/Users/thesard/anaconda3/lib/python3.7/site-packages/sklearn/ensemble/iforest.py:213: FutureWarning: default contamination parameter 0.1 will change in version 0.22 to \"auto\". This will change the predict method behavior.\n",
      "  FutureWarning)\n"
     ]
    },
    {
     "name": "stdout",
     "output_type": "stream",
     "text": [
      "Information about the first tree\n",
      "The tree = ExtraTreeRegressor(criterion='mse', max_depth=9, max_features=1,\n",
      "          max_leaf_nodes=None, min_impurity_decrease=0.0,\n",
      "          min_impurity_split=None, min_samples_leaf=1, min_samples_split=2,\n",
      "          min_weight_fraction_leaf=0.0, random_state=438810500,\n",
      "          splitter='random')\n",
      "max_samples = 300\n",
      "{'behaviour': 'new', 'bootstrap': False, 'contamination': 'legacy', 'max_features': 1.0, 'max_samples': 300, 'n_estimators': 100, 'n_jobs': None, 'random_state': None, 'verbose': 0}\n"
     ]
    },
    {
     "name": "stderr",
     "output_type": "stream",
     "text": [
      "/Users/thesard/anaconda3/lib/python3.7/site-packages/sklearn/ensemble/iforest.py:213: FutureWarning: default contamination parameter 0.1 will change in version 0.22 to \"auto\". This will change the predict method behavior.\n",
      "  FutureWarning)\n"
     ]
    },
    {
     "name": "stdout",
     "output_type": "stream",
     "text": [
      "Information about the first tree\n",
      "The tree = ExtraTreeRegressor(criterion='mse', max_depth=9, max_features=1,\n",
      "          max_leaf_nodes=None, min_impurity_decrease=0.0,\n",
      "          min_impurity_split=None, min_samples_leaf=1, min_samples_split=2,\n",
      "          min_weight_fraction_leaf=0.0, random_state=1583530495,\n",
      "          splitter='random')\n",
      "max_samples = 305\n",
      "{'behaviour': 'new', 'bootstrap': False, 'contamination': 'legacy', 'max_features': 1.0, 'max_samples': 305, 'n_estimators': 100, 'n_jobs': None, 'random_state': None, 'verbose': 0}\n"
     ]
    },
    {
     "name": "stderr",
     "output_type": "stream",
     "text": [
      "/Users/thesard/anaconda3/lib/python3.7/site-packages/sklearn/ensemble/iforest.py:213: FutureWarning: default contamination parameter 0.1 will change in version 0.22 to \"auto\". This will change the predict method behavior.\n",
      "  FutureWarning)\n"
     ]
    },
    {
     "name": "stdout",
     "output_type": "stream",
     "text": [
      "Information about the first tree\n",
      "The tree = ExtraTreeRegressor(criterion='mse', max_depth=9, max_features=1,\n",
      "          max_leaf_nodes=None, min_impurity_decrease=0.0,\n",
      "          min_impurity_split=None, min_samples_leaf=1, min_samples_split=2,\n",
      "          min_weight_fraction_leaf=0.0, random_state=1711362503,\n",
      "          splitter='random')\n",
      "max_samples = 310\n",
      "{'behaviour': 'new', 'bootstrap': False, 'contamination': 'legacy', 'max_features': 1.0, 'max_samples': 310, 'n_estimators': 100, 'n_jobs': None, 'random_state': None, 'verbose': 0}\n"
     ]
    },
    {
     "name": "stderr",
     "output_type": "stream",
     "text": [
      "/Users/thesard/anaconda3/lib/python3.7/site-packages/sklearn/ensemble/iforest.py:213: FutureWarning: default contamination parameter 0.1 will change in version 0.22 to \"auto\". This will change the predict method behavior.\n",
      "  FutureWarning)\n"
     ]
    },
    {
     "name": "stdout",
     "output_type": "stream",
     "text": [
      "Information about the first tree\n",
      "The tree = ExtraTreeRegressor(criterion='mse', max_depth=9, max_features=1,\n",
      "          max_leaf_nodes=None, min_impurity_decrease=0.0,\n",
      "          min_impurity_split=None, min_samples_leaf=1, min_samples_split=2,\n",
      "          min_weight_fraction_leaf=0.0, random_state=1131940856,\n",
      "          splitter='random')\n",
      "max_samples = 315\n",
      "{'behaviour': 'new', 'bootstrap': False, 'contamination': 'legacy', 'max_features': 1.0, 'max_samples': 315, 'n_estimators': 100, 'n_jobs': None, 'random_state': None, 'verbose': 0}\n"
     ]
    },
    {
     "name": "stderr",
     "output_type": "stream",
     "text": [
      "/Users/thesard/anaconda3/lib/python3.7/site-packages/sklearn/ensemble/iforest.py:213: FutureWarning: default contamination parameter 0.1 will change in version 0.22 to \"auto\". This will change the predict method behavior.\n",
      "  FutureWarning)\n"
     ]
    },
    {
     "name": "stdout",
     "output_type": "stream",
     "text": [
      "Information about the first tree\n",
      "The tree = ExtraTreeRegressor(criterion='mse', max_depth=9, max_features=1,\n",
      "          max_leaf_nodes=None, min_impurity_decrease=0.0,\n",
      "          min_impurity_split=None, min_samples_leaf=1, min_samples_split=2,\n",
      "          min_weight_fraction_leaf=0.0, random_state=691279348,\n",
      "          splitter='random')\n",
      "max_samples = 320\n",
      "{'behaviour': 'new', 'bootstrap': False, 'contamination': 'legacy', 'max_features': 1.0, 'max_samples': 320, 'n_estimators': 100, 'n_jobs': None, 'random_state': None, 'verbose': 0}\n"
     ]
    },
    {
     "name": "stderr",
     "output_type": "stream",
     "text": [
      "/Users/thesard/anaconda3/lib/python3.7/site-packages/sklearn/ensemble/iforest.py:213: FutureWarning: default contamination parameter 0.1 will change in version 0.22 to \"auto\". This will change the predict method behavior.\n",
      "  FutureWarning)\n"
     ]
    },
    {
     "name": "stdout",
     "output_type": "stream",
     "text": [
      "Information about the first tree\n",
      "The tree = ExtraTreeRegressor(criterion='mse', max_depth=9, max_features=1,\n",
      "          max_leaf_nodes=None, min_impurity_decrease=0.0,\n",
      "          min_impurity_split=None, min_samples_leaf=1, min_samples_split=2,\n",
      "          min_weight_fraction_leaf=0.0, random_state=504216941,\n",
      "          splitter='random')\n",
      "max_samples = 325\n",
      "{'behaviour': 'new', 'bootstrap': False, 'contamination': 'legacy', 'max_features': 1.0, 'max_samples': 325, 'n_estimators': 100, 'n_jobs': None, 'random_state': None, 'verbose': 0}\n"
     ]
    },
    {
     "name": "stderr",
     "output_type": "stream",
     "text": [
      "/Users/thesard/anaconda3/lib/python3.7/site-packages/sklearn/ensemble/iforest.py:213: FutureWarning: default contamination parameter 0.1 will change in version 0.22 to \"auto\". This will change the predict method behavior.\n",
      "  FutureWarning)\n"
     ]
    },
    {
     "name": "stdout",
     "output_type": "stream",
     "text": [
      "Information about the first tree\n",
      "The tree = ExtraTreeRegressor(criterion='mse', max_depth=9, max_features=1,\n",
      "          max_leaf_nodes=None, min_impurity_decrease=0.0,\n",
      "          min_impurity_split=None, min_samples_leaf=1, min_samples_split=2,\n",
      "          min_weight_fraction_leaf=0.0, random_state=1634904288,\n",
      "          splitter='random')\n",
      "max_samples = 330\n",
      "{'behaviour': 'new', 'bootstrap': False, 'contamination': 'legacy', 'max_features': 1.0, 'max_samples': 330, 'n_estimators': 100, 'n_jobs': None, 'random_state': None, 'verbose': 0}\n"
     ]
    },
    {
     "name": "stderr",
     "output_type": "stream",
     "text": [
      "/Users/thesard/anaconda3/lib/python3.7/site-packages/sklearn/ensemble/iforest.py:213: FutureWarning: default contamination parameter 0.1 will change in version 0.22 to \"auto\". This will change the predict method behavior.\n",
      "  FutureWarning)\n"
     ]
    },
    {
     "name": "stdout",
     "output_type": "stream",
     "text": [
      "Information about the first tree\n",
      "The tree = ExtraTreeRegressor(criterion='mse', max_depth=9, max_features=1,\n",
      "          max_leaf_nodes=None, min_impurity_decrease=0.0,\n",
      "          min_impurity_split=None, min_samples_leaf=1, min_samples_split=2,\n",
      "          min_weight_fraction_leaf=0.0, random_state=701600729,\n",
      "          splitter='random')\n",
      "max_samples = 335\n",
      "{'behaviour': 'new', 'bootstrap': False, 'contamination': 'legacy', 'max_features': 1.0, 'max_samples': 335, 'n_estimators': 100, 'n_jobs': None, 'random_state': None, 'verbose': 0}\n"
     ]
    },
    {
     "name": "stderr",
     "output_type": "stream",
     "text": [
      "/Users/thesard/anaconda3/lib/python3.7/site-packages/sklearn/ensemble/iforest.py:213: FutureWarning: default contamination parameter 0.1 will change in version 0.22 to \"auto\". This will change the predict method behavior.\n",
      "  FutureWarning)\n"
     ]
    },
    {
     "name": "stdout",
     "output_type": "stream",
     "text": [
      "Information about the first tree\n",
      "The tree = ExtraTreeRegressor(criterion='mse', max_depth=9, max_features=1,\n",
      "          max_leaf_nodes=None, min_impurity_decrease=0.0,\n",
      "          min_impurity_split=None, min_samples_leaf=1, min_samples_split=2,\n",
      "          min_weight_fraction_leaf=0.0, random_state=1318051257,\n",
      "          splitter='random')\n",
      "max_samples = 340\n",
      "{'behaviour': 'new', 'bootstrap': False, 'contamination': 'legacy', 'max_features': 1.0, 'max_samples': 340, 'n_estimators': 100, 'n_jobs': None, 'random_state': None, 'verbose': 0}\n"
     ]
    },
    {
     "name": "stderr",
     "output_type": "stream",
     "text": [
      "/Users/thesard/anaconda3/lib/python3.7/site-packages/sklearn/ensemble/iforest.py:213: FutureWarning: default contamination parameter 0.1 will change in version 0.22 to \"auto\". This will change the predict method behavior.\n",
      "  FutureWarning)\n"
     ]
    },
    {
     "name": "stdout",
     "output_type": "stream",
     "text": [
      "Information about the first tree\n",
      "The tree = ExtraTreeRegressor(criterion='mse', max_depth=9, max_features=1,\n",
      "          max_leaf_nodes=None, min_impurity_decrease=0.0,\n",
      "          min_impurity_split=None, min_samples_leaf=1, min_samples_split=2,\n",
      "          min_weight_fraction_leaf=0.0, random_state=200898099,\n",
      "          splitter='random')\n",
      "max_samples = 345\n",
      "{'behaviour': 'new', 'bootstrap': False, 'contamination': 'legacy', 'max_features': 1.0, 'max_samples': 345, 'n_estimators': 100, 'n_jobs': None, 'random_state': None, 'verbose': 0}\n"
     ]
    },
    {
     "name": "stderr",
     "output_type": "stream",
     "text": [
      "/Users/thesard/anaconda3/lib/python3.7/site-packages/sklearn/ensemble/iforest.py:213: FutureWarning: default contamination parameter 0.1 will change in version 0.22 to \"auto\". This will change the predict method behavior.\n",
      "  FutureWarning)\n"
     ]
    },
    {
     "name": "stdout",
     "output_type": "stream",
     "text": [
      "Information about the first tree\n",
      "The tree = ExtraTreeRegressor(criterion='mse', max_depth=9, max_features=1,\n",
      "          max_leaf_nodes=None, min_impurity_decrease=0.0,\n",
      "          min_impurity_split=None, min_samples_leaf=1, min_samples_split=2,\n",
      "          min_weight_fraction_leaf=0.0, random_state=668239627,\n",
      "          splitter='random')\n",
      "max_samples = 350\n",
      "{'behaviour': 'new', 'bootstrap': False, 'contamination': 'legacy', 'max_features': 1.0, 'max_samples': 350, 'n_estimators': 100, 'n_jobs': None, 'random_state': None, 'verbose': 0}\n"
     ]
    },
    {
     "name": "stderr",
     "output_type": "stream",
     "text": [
      "/Users/thesard/anaconda3/lib/python3.7/site-packages/sklearn/ensemble/iforest.py:213: FutureWarning: default contamination parameter 0.1 will change in version 0.22 to \"auto\". This will change the predict method behavior.\n",
      "  FutureWarning)\n"
     ]
    },
    {
     "name": "stdout",
     "output_type": "stream",
     "text": [
      "Information about the first tree\n",
      "The tree = ExtraTreeRegressor(criterion='mse', max_depth=9, max_features=1,\n",
      "          max_leaf_nodes=None, min_impurity_decrease=0.0,\n",
      "          min_impurity_split=None, min_samples_leaf=1, min_samples_split=2,\n",
      "          min_weight_fraction_leaf=0.0, random_state=93826152,\n",
      "          splitter='random')\n",
      "max_samples = 355\n",
      "{'behaviour': 'new', 'bootstrap': False, 'contamination': 'legacy', 'max_features': 1.0, 'max_samples': 355, 'n_estimators': 100, 'n_jobs': None, 'random_state': None, 'verbose': 0}\n"
     ]
    },
    {
     "name": "stderr",
     "output_type": "stream",
     "text": [
      "/Users/thesard/anaconda3/lib/python3.7/site-packages/sklearn/ensemble/iforest.py:213: FutureWarning: default contamination parameter 0.1 will change in version 0.22 to \"auto\". This will change the predict method behavior.\n",
      "  FutureWarning)\n"
     ]
    },
    {
     "name": "stdout",
     "output_type": "stream",
     "text": [
      "Information about the first tree\n",
      "The tree = ExtraTreeRegressor(criterion='mse', max_depth=9, max_features=1,\n",
      "          max_leaf_nodes=None, min_impurity_decrease=0.0,\n",
      "          min_impurity_split=None, min_samples_leaf=1, min_samples_split=2,\n",
      "          min_weight_fraction_leaf=0.0, random_state=1394376150,\n",
      "          splitter='random')\n",
      "max_samples = 360\n",
      "{'behaviour': 'new', 'bootstrap': False, 'contamination': 'legacy', 'max_features': 1.0, 'max_samples': 360, 'n_estimators': 100, 'n_jobs': None, 'random_state': None, 'verbose': 0}\n"
     ]
    },
    {
     "name": "stderr",
     "output_type": "stream",
     "text": [
      "/Users/thesard/anaconda3/lib/python3.7/site-packages/sklearn/ensemble/iforest.py:213: FutureWarning: default contamination parameter 0.1 will change in version 0.22 to \"auto\". This will change the predict method behavior.\n",
      "  FutureWarning)\n"
     ]
    },
    {
     "name": "stdout",
     "output_type": "stream",
     "text": [
      "Information about the first tree\n",
      "The tree = ExtraTreeRegressor(criterion='mse', max_depth=9, max_features=1,\n",
      "          max_leaf_nodes=None, min_impurity_decrease=0.0,\n",
      "          min_impurity_split=None, min_samples_leaf=1, min_samples_split=2,\n",
      "          min_weight_fraction_leaf=0.0, random_state=797324344,\n",
      "          splitter='random')\n",
      "max_samples = 365\n",
      "{'behaviour': 'new', 'bootstrap': False, 'contamination': 'legacy', 'max_features': 1.0, 'max_samples': 365, 'n_estimators': 100, 'n_jobs': None, 'random_state': None, 'verbose': 0}\n"
     ]
    },
    {
     "name": "stderr",
     "output_type": "stream",
     "text": [
      "/Users/thesard/anaconda3/lib/python3.7/site-packages/sklearn/ensemble/iforest.py:213: FutureWarning: default contamination parameter 0.1 will change in version 0.22 to \"auto\". This will change the predict method behavior.\n",
      "  FutureWarning)\n"
     ]
    },
    {
     "name": "stdout",
     "output_type": "stream",
     "text": [
      "Information about the first tree\n",
      "The tree = ExtraTreeRegressor(criterion='mse', max_depth=9, max_features=1,\n",
      "          max_leaf_nodes=None, min_impurity_decrease=0.0,\n",
      "          min_impurity_split=None, min_samples_leaf=1, min_samples_split=2,\n",
      "          min_weight_fraction_leaf=0.0, random_state=2025392762,\n",
      "          splitter='random')\n",
      "max_samples = 370\n",
      "{'behaviour': 'new', 'bootstrap': False, 'contamination': 'legacy', 'max_features': 1.0, 'max_samples': 370, 'n_estimators': 100, 'n_jobs': None, 'random_state': None, 'verbose': 0}\n"
     ]
    },
    {
     "name": "stderr",
     "output_type": "stream",
     "text": [
      "/Users/thesard/anaconda3/lib/python3.7/site-packages/sklearn/ensemble/iforest.py:213: FutureWarning: default contamination parameter 0.1 will change in version 0.22 to \"auto\". This will change the predict method behavior.\n",
      "  FutureWarning)\n"
     ]
    },
    {
     "name": "stdout",
     "output_type": "stream",
     "text": [
      "Information about the first tree\n",
      "The tree = ExtraTreeRegressor(criterion='mse', max_depth=9, max_features=1,\n",
      "          max_leaf_nodes=None, min_impurity_decrease=0.0,\n",
      "          min_impurity_split=None, min_samples_leaf=1, min_samples_split=2,\n",
      "          min_weight_fraction_leaf=0.0, random_state=387406690,\n",
      "          splitter='random')\n",
      "max_samples = 375\n",
      "{'behaviour': 'new', 'bootstrap': False, 'contamination': 'legacy', 'max_features': 1.0, 'max_samples': 375, 'n_estimators': 100, 'n_jobs': None, 'random_state': None, 'verbose': 0}\n"
     ]
    },
    {
     "name": "stderr",
     "output_type": "stream",
     "text": [
      "/Users/thesard/anaconda3/lib/python3.7/site-packages/sklearn/ensemble/iforest.py:213: FutureWarning: default contamination parameter 0.1 will change in version 0.22 to \"auto\". This will change the predict method behavior.\n",
      "  FutureWarning)\n"
     ]
    },
    {
     "name": "stdout",
     "output_type": "stream",
     "text": [
      "Information about the first tree\n",
      "The tree = ExtraTreeRegressor(criterion='mse', max_depth=9, max_features=1,\n",
      "          max_leaf_nodes=None, min_impurity_decrease=0.0,\n",
      "          min_impurity_split=None, min_samples_leaf=1, min_samples_split=2,\n",
      "          min_weight_fraction_leaf=0.0, random_state=1140255658,\n",
      "          splitter='random')\n",
      "max_samples = 380\n",
      "{'behaviour': 'new', 'bootstrap': False, 'contamination': 'legacy', 'max_features': 1.0, 'max_samples': 380, 'n_estimators': 100, 'n_jobs': None, 'random_state': None, 'verbose': 0}\n"
     ]
    },
    {
     "name": "stderr",
     "output_type": "stream",
     "text": [
      "/Users/thesard/anaconda3/lib/python3.7/site-packages/sklearn/ensemble/iforest.py:213: FutureWarning: default contamination parameter 0.1 will change in version 0.22 to \"auto\". This will change the predict method behavior.\n",
      "  FutureWarning)\n"
     ]
    },
    {
     "name": "stdout",
     "output_type": "stream",
     "text": [
      "Information about the first tree\n",
      "The tree = ExtraTreeRegressor(criterion='mse', max_depth=9, max_features=1,\n",
      "          max_leaf_nodes=None, min_impurity_decrease=0.0,\n",
      "          min_impurity_split=None, min_samples_leaf=1, min_samples_split=2,\n",
      "          min_weight_fraction_leaf=0.0, random_state=1632073734,\n",
      "          splitter='random')\n",
      "max_samples = 385\n",
      "{'behaviour': 'new', 'bootstrap': False, 'contamination': 'legacy', 'max_features': 1.0, 'max_samples': 385, 'n_estimators': 100, 'n_jobs': None, 'random_state': None, 'verbose': 0}\n"
     ]
    },
    {
     "name": "stderr",
     "output_type": "stream",
     "text": [
      "/Users/thesard/anaconda3/lib/python3.7/site-packages/sklearn/ensemble/iforest.py:213: FutureWarning: default contamination parameter 0.1 will change in version 0.22 to \"auto\". This will change the predict method behavior.\n",
      "  FutureWarning)\n"
     ]
    },
    {
     "name": "stdout",
     "output_type": "stream",
     "text": [
      "Information about the first tree\n",
      "The tree = ExtraTreeRegressor(criterion='mse', max_depth=9, max_features=1,\n",
      "          max_leaf_nodes=None, min_impurity_decrease=0.0,\n",
      "          min_impurity_split=None, min_samples_leaf=1, min_samples_split=2,\n",
      "          min_weight_fraction_leaf=0.0, random_state=187147511,\n",
      "          splitter='random')\n",
      "max_samples = 390\n",
      "{'behaviour': 'new', 'bootstrap': False, 'contamination': 'legacy', 'max_features': 1.0, 'max_samples': 390, 'n_estimators': 100, 'n_jobs': None, 'random_state': None, 'verbose': 0}\n"
     ]
    },
    {
     "name": "stderr",
     "output_type": "stream",
     "text": [
      "/Users/thesard/anaconda3/lib/python3.7/site-packages/sklearn/ensemble/iforest.py:213: FutureWarning: default contamination parameter 0.1 will change in version 0.22 to \"auto\". This will change the predict method behavior.\n",
      "  FutureWarning)\n"
     ]
    },
    {
     "name": "stdout",
     "output_type": "stream",
     "text": [
      "Information about the first tree\n",
      "The tree = ExtraTreeRegressor(criterion='mse', max_depth=9, max_features=1,\n",
      "          max_leaf_nodes=None, min_impurity_decrease=0.0,\n",
      "          min_impurity_split=None, min_samples_leaf=1, min_samples_split=2,\n",
      "          min_weight_fraction_leaf=0.0, random_state=684886143,\n",
      "          splitter='random')\n",
      "max_samples = 395\n",
      "{'behaviour': 'new', 'bootstrap': False, 'contamination': 'legacy', 'max_features': 1.0, 'max_samples': 395, 'n_estimators': 100, 'n_jobs': None, 'random_state': None, 'verbose': 0}\n"
     ]
    },
    {
     "name": "stderr",
     "output_type": "stream",
     "text": [
      "/Users/thesard/anaconda3/lib/python3.7/site-packages/sklearn/ensemble/iforest.py:213: FutureWarning: default contamination parameter 0.1 will change in version 0.22 to \"auto\". This will change the predict method behavior.\n",
      "  FutureWarning)\n"
     ]
    },
    {
     "name": "stdout",
     "output_type": "stream",
     "text": [
      "Information about the first tree\n",
      "The tree = ExtraTreeRegressor(criterion='mse', max_depth=9, max_features=1,\n",
      "          max_leaf_nodes=None, min_impurity_decrease=0.0,\n",
      "          min_impurity_split=None, min_samples_leaf=1, min_samples_split=2,\n",
      "          min_weight_fraction_leaf=0.0, random_state=779702132,\n",
      "          splitter='random')\n",
      "max_samples = 400\n",
      "{'behaviour': 'new', 'bootstrap': False, 'contamination': 'legacy', 'max_features': 1.0, 'max_samples': 400, 'n_estimators': 100, 'n_jobs': None, 'random_state': None, 'verbose': 0}\n"
     ]
    },
    {
     "name": "stderr",
     "output_type": "stream",
     "text": [
      "/Users/thesard/anaconda3/lib/python3.7/site-packages/sklearn/ensemble/iforest.py:213: FutureWarning: default contamination parameter 0.1 will change in version 0.22 to \"auto\". This will change the predict method behavior.\n",
      "  FutureWarning)\n"
     ]
    },
    {
     "name": "stdout",
     "output_type": "stream",
     "text": [
      "Information about the first tree\n",
      "The tree = ExtraTreeRegressor(criterion='mse', max_depth=9, max_features=1,\n",
      "          max_leaf_nodes=None, min_impurity_decrease=0.0,\n",
      "          min_impurity_split=None, min_samples_leaf=1, min_samples_split=2,\n",
      "          min_weight_fraction_leaf=0.0, random_state=1415001126,\n",
      "          splitter='random')\n",
      "max_samples = 405\n",
      "{'behaviour': 'new', 'bootstrap': False, 'contamination': 'legacy', 'max_features': 1.0, 'max_samples': 405, 'n_estimators': 100, 'n_jobs': None, 'random_state': None, 'verbose': 0}\n"
     ]
    },
    {
     "name": "stderr",
     "output_type": "stream",
     "text": [
      "/Users/thesard/anaconda3/lib/python3.7/site-packages/sklearn/ensemble/iforest.py:213: FutureWarning: default contamination parameter 0.1 will change in version 0.22 to \"auto\". This will change the predict method behavior.\n",
      "  FutureWarning)\n"
     ]
    },
    {
     "name": "stdout",
     "output_type": "stream",
     "text": [
      "Information about the first tree\n",
      "The tree = ExtraTreeRegressor(criterion='mse', max_depth=9, max_features=1,\n",
      "          max_leaf_nodes=None, min_impurity_decrease=0.0,\n",
      "          min_impurity_split=None, min_samples_leaf=1, min_samples_split=2,\n",
      "          min_weight_fraction_leaf=0.0, random_state=770986246,\n",
      "          splitter='random')\n",
      "max_samples = 410\n",
      "{'behaviour': 'new', 'bootstrap': False, 'contamination': 'legacy', 'max_features': 1.0, 'max_samples': 410, 'n_estimators': 100, 'n_jobs': None, 'random_state': None, 'verbose': 0}\n"
     ]
    },
    {
     "name": "stderr",
     "output_type": "stream",
     "text": [
      "/Users/thesard/anaconda3/lib/python3.7/site-packages/sklearn/ensemble/iforest.py:213: FutureWarning: default contamination parameter 0.1 will change in version 0.22 to \"auto\". This will change the predict method behavior.\n",
      "  FutureWarning)\n"
     ]
    },
    {
     "name": "stdout",
     "output_type": "stream",
     "text": [
      "Information about the first tree\n",
      "The tree = ExtraTreeRegressor(criterion='mse', max_depth=9, max_features=1,\n",
      "          max_leaf_nodes=None, min_impurity_decrease=0.0,\n",
      "          min_impurity_split=None, min_samples_leaf=1, min_samples_split=2,\n",
      "          min_weight_fraction_leaf=0.0, random_state=1303924706,\n",
      "          splitter='random')\n",
      "max_samples = 415\n",
      "{'behaviour': 'new', 'bootstrap': False, 'contamination': 'legacy', 'max_features': 1.0, 'max_samples': 415, 'n_estimators': 100, 'n_jobs': None, 'random_state': None, 'verbose': 0}\n"
     ]
    },
    {
     "name": "stderr",
     "output_type": "stream",
     "text": [
      "/Users/thesard/anaconda3/lib/python3.7/site-packages/sklearn/ensemble/iforest.py:213: FutureWarning: default contamination parameter 0.1 will change in version 0.22 to \"auto\". This will change the predict method behavior.\n",
      "  FutureWarning)\n"
     ]
    },
    {
     "name": "stdout",
     "output_type": "stream",
     "text": [
      "Information about the first tree\n",
      "The tree = ExtraTreeRegressor(criterion='mse', max_depth=9, max_features=1,\n",
      "          max_leaf_nodes=None, min_impurity_decrease=0.0,\n",
      "          min_impurity_split=None, min_samples_leaf=1, min_samples_split=2,\n",
      "          min_weight_fraction_leaf=0.0, random_state=161959563,\n",
      "          splitter='random')\n",
      "max_samples = 420\n",
      "{'behaviour': 'new', 'bootstrap': False, 'contamination': 'legacy', 'max_features': 1.0, 'max_samples': 420, 'n_estimators': 100, 'n_jobs': None, 'random_state': None, 'verbose': 0}\n"
     ]
    },
    {
     "name": "stderr",
     "output_type": "stream",
     "text": [
      "/Users/thesard/anaconda3/lib/python3.7/site-packages/sklearn/ensemble/iforest.py:213: FutureWarning: default contamination parameter 0.1 will change in version 0.22 to \"auto\". This will change the predict method behavior.\n",
      "  FutureWarning)\n"
     ]
    },
    {
     "name": "stdout",
     "output_type": "stream",
     "text": [
      "Information about the first tree\n",
      "The tree = ExtraTreeRegressor(criterion='mse', max_depth=9, max_features=1,\n",
      "          max_leaf_nodes=None, min_impurity_decrease=0.0,\n",
      "          min_impurity_split=None, min_samples_leaf=1, min_samples_split=2,\n",
      "          min_weight_fraction_leaf=0.0, random_state=1596464393,\n",
      "          splitter='random')\n",
      "max_samples = 425\n",
      "{'behaviour': 'new', 'bootstrap': False, 'contamination': 'legacy', 'max_features': 1.0, 'max_samples': 425, 'n_estimators': 100, 'n_jobs': None, 'random_state': None, 'verbose': 0}\n"
     ]
    },
    {
     "name": "stderr",
     "output_type": "stream",
     "text": [
      "/Users/thesard/anaconda3/lib/python3.7/site-packages/sklearn/ensemble/iforest.py:213: FutureWarning: default contamination parameter 0.1 will change in version 0.22 to \"auto\". This will change the predict method behavior.\n",
      "  FutureWarning)\n"
     ]
    },
    {
     "name": "stdout",
     "output_type": "stream",
     "text": [
      "Information about the first tree\n",
      "The tree = ExtraTreeRegressor(criterion='mse', max_depth=9, max_features=1,\n",
      "          max_leaf_nodes=None, min_impurity_decrease=0.0,\n",
      "          min_impurity_split=None, min_samples_leaf=1, min_samples_split=2,\n",
      "          min_weight_fraction_leaf=0.0, random_state=636681996,\n",
      "          splitter='random')\n",
      "max_samples = 430\n",
      "{'behaviour': 'new', 'bootstrap': False, 'contamination': 'legacy', 'max_features': 1.0, 'max_samples': 430, 'n_estimators': 100, 'n_jobs': None, 'random_state': None, 'verbose': 0}\n"
     ]
    },
    {
     "name": "stderr",
     "output_type": "stream",
     "text": [
      "/Users/thesard/anaconda3/lib/python3.7/site-packages/sklearn/ensemble/iforest.py:213: FutureWarning: default contamination parameter 0.1 will change in version 0.22 to \"auto\". This will change the predict method behavior.\n",
      "  FutureWarning)\n"
     ]
    },
    {
     "name": "stdout",
     "output_type": "stream",
     "text": [
      "Information about the first tree\n",
      "The tree = ExtraTreeRegressor(criterion='mse', max_depth=9, max_features=1,\n",
      "          max_leaf_nodes=None, min_impurity_decrease=0.0,\n",
      "          min_impurity_split=None, min_samples_leaf=1, min_samples_split=2,\n",
      "          min_weight_fraction_leaf=0.0, random_state=514992329,\n",
      "          splitter='random')\n",
      "max_samples = 435\n",
      "{'behaviour': 'new', 'bootstrap': False, 'contamination': 'legacy', 'max_features': 1.0, 'max_samples': 435, 'n_estimators': 100, 'n_jobs': None, 'random_state': None, 'verbose': 0}\n"
     ]
    },
    {
     "name": "stderr",
     "output_type": "stream",
     "text": [
      "/Users/thesard/anaconda3/lib/python3.7/site-packages/sklearn/ensemble/iforest.py:213: FutureWarning: default contamination parameter 0.1 will change in version 0.22 to \"auto\". This will change the predict method behavior.\n",
      "  FutureWarning)\n"
     ]
    },
    {
     "name": "stdout",
     "output_type": "stream",
     "text": [
      "Information about the first tree\n",
      "The tree = ExtraTreeRegressor(criterion='mse', max_depth=9, max_features=1,\n",
      "          max_leaf_nodes=None, min_impurity_decrease=0.0,\n",
      "          min_impurity_split=None, min_samples_leaf=1, min_samples_split=2,\n",
      "          min_weight_fraction_leaf=0.0, random_state=567244857,\n",
      "          splitter='random')\n",
      "max_samples = 440\n",
      "{'behaviour': 'new', 'bootstrap': False, 'contamination': 'legacy', 'max_features': 1.0, 'max_samples': 440, 'n_estimators': 100, 'n_jobs': None, 'random_state': None, 'verbose': 0}\n"
     ]
    },
    {
     "name": "stderr",
     "output_type": "stream",
     "text": [
      "/Users/thesard/anaconda3/lib/python3.7/site-packages/sklearn/ensemble/iforest.py:213: FutureWarning: default contamination parameter 0.1 will change in version 0.22 to \"auto\". This will change the predict method behavior.\n",
      "  FutureWarning)\n"
     ]
    },
    {
     "name": "stdout",
     "output_type": "stream",
     "text": [
      "Information about the first tree\n",
      "The tree = ExtraTreeRegressor(criterion='mse', max_depth=9, max_features=1,\n",
      "          max_leaf_nodes=None, min_impurity_decrease=0.0,\n",
      "          min_impurity_split=None, min_samples_leaf=1, min_samples_split=2,\n",
      "          min_weight_fraction_leaf=0.0, random_state=1521136725,\n",
      "          splitter='random')\n",
      "max_samples = 445\n",
      "{'behaviour': 'new', 'bootstrap': False, 'contamination': 'legacy', 'max_features': 1.0, 'max_samples': 445, 'n_estimators': 100, 'n_jobs': None, 'random_state': None, 'verbose': 0}\n"
     ]
    },
    {
     "name": "stderr",
     "output_type": "stream",
     "text": [
      "/Users/thesard/anaconda3/lib/python3.7/site-packages/sklearn/ensemble/iforest.py:213: FutureWarning: default contamination parameter 0.1 will change in version 0.22 to \"auto\". This will change the predict method behavior.\n",
      "  FutureWarning)\n"
     ]
    },
    {
     "name": "stdout",
     "output_type": "stream",
     "text": [
      "Information about the first tree\n",
      "The tree = ExtraTreeRegressor(criterion='mse', max_depth=9, max_features=1,\n",
      "          max_leaf_nodes=None, min_impurity_decrease=0.0,\n",
      "          min_impurity_split=None, min_samples_leaf=1, min_samples_split=2,\n",
      "          min_weight_fraction_leaf=0.0, random_state=1449946843,\n",
      "          splitter='random')\n",
      "max_samples = 450\n",
      "{'behaviour': 'new', 'bootstrap': False, 'contamination': 'legacy', 'max_features': 1.0, 'max_samples': 450, 'n_estimators': 100, 'n_jobs': None, 'random_state': None, 'verbose': 0}\n"
     ]
    },
    {
     "name": "stderr",
     "output_type": "stream",
     "text": [
      "/Users/thesard/anaconda3/lib/python3.7/site-packages/sklearn/ensemble/iforest.py:213: FutureWarning: default contamination parameter 0.1 will change in version 0.22 to \"auto\". This will change the predict method behavior.\n",
      "  FutureWarning)\n"
     ]
    },
    {
     "name": "stdout",
     "output_type": "stream",
     "text": [
      "Information about the first tree\n",
      "The tree = ExtraTreeRegressor(criterion='mse', max_depth=9, max_features=1,\n",
      "          max_leaf_nodes=None, min_impurity_decrease=0.0,\n",
      "          min_impurity_split=None, min_samples_leaf=1, min_samples_split=2,\n",
      "          min_weight_fraction_leaf=0.0, random_state=539928306,\n",
      "          splitter='random')\n",
      "max_samples = 455\n",
      "{'behaviour': 'new', 'bootstrap': False, 'contamination': 'legacy', 'max_features': 1.0, 'max_samples': 455, 'n_estimators': 100, 'n_jobs': None, 'random_state': None, 'verbose': 0}\n"
     ]
    },
    {
     "name": "stderr",
     "output_type": "stream",
     "text": [
      "/Users/thesard/anaconda3/lib/python3.7/site-packages/sklearn/ensemble/iforest.py:213: FutureWarning: default contamination parameter 0.1 will change in version 0.22 to \"auto\". This will change the predict method behavior.\n",
      "  FutureWarning)\n"
     ]
    },
    {
     "name": "stdout",
     "output_type": "stream",
     "text": [
      "Information about the first tree\n",
      "The tree = ExtraTreeRegressor(criterion='mse', max_depth=9, max_features=1,\n",
      "          max_leaf_nodes=None, min_impurity_decrease=0.0,\n",
      "          min_impurity_split=None, min_samples_leaf=1, min_samples_split=2,\n",
      "          min_weight_fraction_leaf=0.0, random_state=274436044,\n",
      "          splitter='random')\n",
      "max_samples = 460\n",
      "{'behaviour': 'new', 'bootstrap': False, 'contamination': 'legacy', 'max_features': 1.0, 'max_samples': 460, 'n_estimators': 100, 'n_jobs': None, 'random_state': None, 'verbose': 0}\n"
     ]
    },
    {
     "name": "stderr",
     "output_type": "stream",
     "text": [
      "/Users/thesard/anaconda3/lib/python3.7/site-packages/sklearn/ensemble/iforest.py:213: FutureWarning: default contamination parameter 0.1 will change in version 0.22 to \"auto\". This will change the predict method behavior.\n",
      "  FutureWarning)\n"
     ]
    },
    {
     "name": "stdout",
     "output_type": "stream",
     "text": [
      "Information about the first tree\n",
      "The tree = ExtraTreeRegressor(criterion='mse', max_depth=9, max_features=1,\n",
      "          max_leaf_nodes=None, min_impurity_decrease=0.0,\n",
      "          min_impurity_split=None, min_samples_leaf=1, min_samples_split=2,\n",
      "          min_weight_fraction_leaf=0.0, random_state=169004127,\n",
      "          splitter='random')\n",
      "max_samples = 465\n",
      "{'behaviour': 'new', 'bootstrap': False, 'contamination': 'legacy', 'max_features': 1.0, 'max_samples': 465, 'n_estimators': 100, 'n_jobs': None, 'random_state': None, 'verbose': 0}\n"
     ]
    },
    {
     "name": "stderr",
     "output_type": "stream",
     "text": [
      "/Users/thesard/anaconda3/lib/python3.7/site-packages/sklearn/ensemble/iforest.py:213: FutureWarning: default contamination parameter 0.1 will change in version 0.22 to \"auto\". This will change the predict method behavior.\n",
      "  FutureWarning)\n"
     ]
    },
    {
     "name": "stdout",
     "output_type": "stream",
     "text": [
      "Information about the first tree\n",
      "The tree = ExtraTreeRegressor(criterion='mse', max_depth=9, max_features=1,\n",
      "          max_leaf_nodes=None, min_impurity_decrease=0.0,\n",
      "          min_impurity_split=None, min_samples_leaf=1, min_samples_split=2,\n",
      "          min_weight_fraction_leaf=0.0, random_state=659464499,\n",
      "          splitter='random')\n",
      "max_samples = 470\n",
      "{'behaviour': 'new', 'bootstrap': False, 'contamination': 'legacy', 'max_features': 1.0, 'max_samples': 470, 'n_estimators': 100, 'n_jobs': None, 'random_state': None, 'verbose': 0}\n"
     ]
    },
    {
     "name": "stderr",
     "output_type": "stream",
     "text": [
      "/Users/thesard/anaconda3/lib/python3.7/site-packages/sklearn/ensemble/iforest.py:213: FutureWarning: default contamination parameter 0.1 will change in version 0.22 to \"auto\". This will change the predict method behavior.\n",
      "  FutureWarning)\n"
     ]
    },
    {
     "name": "stdout",
     "output_type": "stream",
     "text": [
      "Information about the first tree\n",
      "The tree = ExtraTreeRegressor(criterion='mse', max_depth=9, max_features=1,\n",
      "          max_leaf_nodes=None, min_impurity_decrease=0.0,\n",
      "          min_impurity_split=None, min_samples_leaf=1, min_samples_split=2,\n",
      "          min_weight_fraction_leaf=0.0, random_state=924727838,\n",
      "          splitter='random')\n",
      "max_samples = 475\n",
      "{'behaviour': 'new', 'bootstrap': False, 'contamination': 'legacy', 'max_features': 1.0, 'max_samples': 475, 'n_estimators': 100, 'n_jobs': None, 'random_state': None, 'verbose': 0}\n"
     ]
    },
    {
     "name": "stderr",
     "output_type": "stream",
     "text": [
      "/Users/thesard/anaconda3/lib/python3.7/site-packages/sklearn/ensemble/iforest.py:213: FutureWarning: default contamination parameter 0.1 will change in version 0.22 to \"auto\". This will change the predict method behavior.\n",
      "  FutureWarning)\n"
     ]
    },
    {
     "name": "stdout",
     "output_type": "stream",
     "text": [
      "Information about the first tree\n",
      "The tree = ExtraTreeRegressor(criterion='mse', max_depth=9, max_features=1,\n",
      "          max_leaf_nodes=None, min_impurity_decrease=0.0,\n",
      "          min_impurity_split=None, min_samples_leaf=1, min_samples_split=2,\n",
      "          min_weight_fraction_leaf=0.0, random_state=1881951863,\n",
      "          splitter='random')\n",
      "max_samples = 480\n",
      "{'behaviour': 'new', 'bootstrap': False, 'contamination': 'legacy', 'max_features': 1.0, 'max_samples': 480, 'n_estimators': 100, 'n_jobs': None, 'random_state': None, 'verbose': 0}\n"
     ]
    },
    {
     "name": "stderr",
     "output_type": "stream",
     "text": [
      "/Users/thesard/anaconda3/lib/python3.7/site-packages/sklearn/ensemble/iforest.py:213: FutureWarning: default contamination parameter 0.1 will change in version 0.22 to \"auto\". This will change the predict method behavior.\n",
      "  FutureWarning)\n"
     ]
    },
    {
     "name": "stdout",
     "output_type": "stream",
     "text": [
      "Information about the first tree\n",
      "The tree = ExtraTreeRegressor(criterion='mse', max_depth=9, max_features=1,\n",
      "          max_leaf_nodes=None, min_impurity_decrease=0.0,\n",
      "          min_impurity_split=None, min_samples_leaf=1, min_samples_split=2,\n",
      "          min_weight_fraction_leaf=0.0, random_state=1710030693,\n",
      "          splitter='random')\n",
      "max_samples = 485\n",
      "{'behaviour': 'new', 'bootstrap': False, 'contamination': 'legacy', 'max_features': 1.0, 'max_samples': 485, 'n_estimators': 100, 'n_jobs': None, 'random_state': None, 'verbose': 0}\n"
     ]
    },
    {
     "name": "stderr",
     "output_type": "stream",
     "text": [
      "/Users/thesard/anaconda3/lib/python3.7/site-packages/sklearn/ensemble/iforest.py:213: FutureWarning: default contamination parameter 0.1 will change in version 0.22 to \"auto\". This will change the predict method behavior.\n",
      "  FutureWarning)\n"
     ]
    },
    {
     "name": "stdout",
     "output_type": "stream",
     "text": [
      "Information about the first tree\n",
      "The tree = ExtraTreeRegressor(criterion='mse', max_depth=9, max_features=1,\n",
      "          max_leaf_nodes=None, min_impurity_decrease=0.0,\n",
      "          min_impurity_split=None, min_samples_leaf=1, min_samples_split=2,\n",
      "          min_weight_fraction_leaf=0.0, random_state=753610099,\n",
      "          splitter='random')\n",
      "max_samples = 490\n",
      "{'behaviour': 'new', 'bootstrap': False, 'contamination': 'legacy', 'max_features': 1.0, 'max_samples': 490, 'n_estimators': 100, 'n_jobs': None, 'random_state': None, 'verbose': 0}\n"
     ]
    },
    {
     "name": "stderr",
     "output_type": "stream",
     "text": [
      "/Users/thesard/anaconda3/lib/python3.7/site-packages/sklearn/ensemble/iforest.py:213: FutureWarning: default contamination parameter 0.1 will change in version 0.22 to \"auto\". This will change the predict method behavior.\n",
      "  FutureWarning)\n"
     ]
    },
    {
     "name": "stdout",
     "output_type": "stream",
     "text": [
      "Information about the first tree\n",
      "The tree = ExtraTreeRegressor(criterion='mse', max_depth=9, max_features=1,\n",
      "          max_leaf_nodes=None, min_impurity_decrease=0.0,\n",
      "          min_impurity_split=None, min_samples_leaf=1, min_samples_split=2,\n",
      "          min_weight_fraction_leaf=0.0, random_state=967420318,\n",
      "          splitter='random')\n",
      "max_samples = 495\n",
      "{'behaviour': 'new', 'bootstrap': False, 'contamination': 'legacy', 'max_features': 1.0, 'max_samples': 495, 'n_estimators': 100, 'n_jobs': None, 'random_state': None, 'verbose': 0}\n"
     ]
    },
    {
     "name": "stderr",
     "output_type": "stream",
     "text": [
      "/Users/thesard/anaconda3/lib/python3.7/site-packages/sklearn/ensemble/iforest.py:213: FutureWarning: default contamination parameter 0.1 will change in version 0.22 to \"auto\". This will change the predict method behavior.\n",
      "  FutureWarning)\n"
     ]
    },
    {
     "name": "stdout",
     "output_type": "stream",
     "text": [
      "Information about the first tree\n",
      "The tree = ExtraTreeRegressor(criterion='mse', max_depth=9, max_features=1,\n",
      "          max_leaf_nodes=None, min_impurity_decrease=0.0,\n",
      "          min_impurity_split=None, min_samples_leaf=1, min_samples_split=2,\n",
      "          min_weight_fraction_leaf=0.0, random_state=1275195602,\n",
      "          splitter='random')\n",
      "max_samples = 500\n",
      "{'behaviour': 'new', 'bootstrap': False, 'contamination': 'legacy', 'max_features': 1.0, 'max_samples': 500, 'n_estimators': 100, 'n_jobs': None, 'random_state': None, 'verbose': 0}\n"
     ]
    },
    {
     "name": "stderr",
     "output_type": "stream",
     "text": [
      "/Users/thesard/anaconda3/lib/python3.7/site-packages/sklearn/ensemble/iforest.py:213: FutureWarning: default contamination parameter 0.1 will change in version 0.22 to \"auto\". This will change the predict method behavior.\n",
      "  FutureWarning)\n"
     ]
    },
    {
     "name": "stdout",
     "output_type": "stream",
     "text": [
      "Information about the first tree\n",
      "The tree = ExtraTreeRegressor(criterion='mse', max_depth=9, max_features=1,\n",
      "          max_leaf_nodes=None, min_impurity_decrease=0.0,\n",
      "          min_impurity_split=None, min_samples_leaf=1, min_samples_split=2,\n",
      "          min_weight_fraction_leaf=0.0, random_state=988997292,\n",
      "          splitter='random')\n",
      "max_samples = 505\n",
      "{'behaviour': 'new', 'bootstrap': False, 'contamination': 'legacy', 'max_features': 1.0, 'max_samples': 505, 'n_estimators': 100, 'n_jobs': None, 'random_state': None, 'verbose': 0}\n"
     ]
    },
    {
     "name": "stderr",
     "output_type": "stream",
     "text": [
      "/Users/thesard/anaconda3/lib/python3.7/site-packages/sklearn/ensemble/iforest.py:213: FutureWarning: default contamination parameter 0.1 will change in version 0.22 to \"auto\". This will change the predict method behavior.\n",
      "  FutureWarning)\n"
     ]
    },
    {
     "name": "stdout",
     "output_type": "stream",
     "text": [
      "Information about the first tree\n",
      "The tree = ExtraTreeRegressor(criterion='mse', max_depth=9, max_features=1,\n",
      "          max_leaf_nodes=None, min_impurity_decrease=0.0,\n",
      "          min_impurity_split=None, min_samples_leaf=1, min_samples_split=2,\n",
      "          min_weight_fraction_leaf=0.0, random_state=1809293076,\n",
      "          splitter='random')\n",
      "max_samples = 510\n",
      "{'behaviour': 'new', 'bootstrap': False, 'contamination': 'legacy', 'max_features': 1.0, 'max_samples': 510, 'n_estimators': 100, 'n_jobs': None, 'random_state': None, 'verbose': 0}\n"
     ]
    },
    {
     "name": "stderr",
     "output_type": "stream",
     "text": [
      "/Users/thesard/anaconda3/lib/python3.7/site-packages/sklearn/ensemble/iforest.py:213: FutureWarning: default contamination parameter 0.1 will change in version 0.22 to \"auto\". This will change the predict method behavior.\n",
      "  FutureWarning)\n"
     ]
    },
    {
     "name": "stdout",
     "output_type": "stream",
     "text": [
      "Information about the first tree\n",
      "The tree = ExtraTreeRegressor(criterion='mse', max_depth=9, max_features=1,\n",
      "          max_leaf_nodes=None, min_impurity_decrease=0.0,\n",
      "          min_impurity_split=None, min_samples_leaf=1, min_samples_split=2,\n",
      "          min_weight_fraction_leaf=0.0, random_state=683326994,\n",
      "          splitter='random')\n",
      "max_samples = 515\n",
      "{'behaviour': 'new', 'bootstrap': False, 'contamination': 'legacy', 'max_features': 1.0, 'max_samples': 515, 'n_estimators': 100, 'n_jobs': None, 'random_state': None, 'verbose': 0}\n"
     ]
    },
    {
     "name": "stderr",
     "output_type": "stream",
     "text": [
      "/Users/thesard/anaconda3/lib/python3.7/site-packages/sklearn/ensemble/iforest.py:213: FutureWarning: default contamination parameter 0.1 will change in version 0.22 to \"auto\". This will change the predict method behavior.\n",
      "  FutureWarning)\n"
     ]
    },
    {
     "name": "stdout",
     "output_type": "stream",
     "text": [
      "Information about the first tree\n",
      "The tree = ExtraTreeRegressor(criterion='mse', max_depth=10, max_features=1,\n",
      "          max_leaf_nodes=None, min_impurity_decrease=0.0,\n",
      "          min_impurity_split=None, min_samples_leaf=1, min_samples_split=2,\n",
      "          min_weight_fraction_leaf=0.0, random_state=2120592477,\n",
      "          splitter='random')\n",
      "max_samples = 520\n",
      "{'behaviour': 'new', 'bootstrap': False, 'contamination': 'legacy', 'max_features': 1.0, 'max_samples': 520, 'n_estimators': 100, 'n_jobs': None, 'random_state': None, 'verbose': 0}\n"
     ]
    },
    {
     "name": "stderr",
     "output_type": "stream",
     "text": [
      "/Users/thesard/anaconda3/lib/python3.7/site-packages/sklearn/ensemble/iforest.py:213: FutureWarning: default contamination parameter 0.1 will change in version 0.22 to \"auto\". This will change the predict method behavior.\n",
      "  FutureWarning)\n"
     ]
    },
    {
     "name": "stdout",
     "output_type": "stream",
     "text": [
      "Information about the first tree\n",
      "The tree = ExtraTreeRegressor(criterion='mse', max_depth=10, max_features=1,\n",
      "          max_leaf_nodes=None, min_impurity_decrease=0.0,\n",
      "          min_impurity_split=None, min_samples_leaf=1, min_samples_split=2,\n",
      "          min_weight_fraction_leaf=0.0, random_state=1522888794,\n",
      "          splitter='random')\n",
      "max_samples = 525\n",
      "{'behaviour': 'new', 'bootstrap': False, 'contamination': 'legacy', 'max_features': 1.0, 'max_samples': 525, 'n_estimators': 100, 'n_jobs': None, 'random_state': None, 'verbose': 0}\n"
     ]
    },
    {
     "name": "stderr",
     "output_type": "stream",
     "text": [
      "/Users/thesard/anaconda3/lib/python3.7/site-packages/sklearn/ensemble/iforest.py:213: FutureWarning: default contamination parameter 0.1 will change in version 0.22 to \"auto\". This will change the predict method behavior.\n",
      "  FutureWarning)\n"
     ]
    },
    {
     "name": "stdout",
     "output_type": "stream",
     "text": [
      "Information about the first tree\n",
      "The tree = ExtraTreeRegressor(criterion='mse', max_depth=10, max_features=1,\n",
      "          max_leaf_nodes=None, min_impurity_decrease=0.0,\n",
      "          min_impurity_split=None, min_samples_leaf=1, min_samples_split=2,\n",
      "          min_weight_fraction_leaf=0.0, random_state=1792991429,\n",
      "          splitter='random')\n",
      "max_samples = 530\n",
      "{'behaviour': 'new', 'bootstrap': False, 'contamination': 'legacy', 'max_features': 1.0, 'max_samples': 530, 'n_estimators': 100, 'n_jobs': None, 'random_state': None, 'verbose': 0}\n"
     ]
    },
    {
     "name": "stderr",
     "output_type": "stream",
     "text": [
      "/Users/thesard/anaconda3/lib/python3.7/site-packages/sklearn/ensemble/iforest.py:213: FutureWarning: default contamination parameter 0.1 will change in version 0.22 to \"auto\". This will change the predict method behavior.\n",
      "  FutureWarning)\n"
     ]
    },
    {
     "name": "stdout",
     "output_type": "stream",
     "text": [
      "Information about the first tree\n",
      "The tree = ExtraTreeRegressor(criterion='mse', max_depth=10, max_features=1,\n",
      "          max_leaf_nodes=None, min_impurity_decrease=0.0,\n",
      "          min_impurity_split=None, min_samples_leaf=1, min_samples_split=2,\n",
      "          min_weight_fraction_leaf=0.0, random_state=1229652320,\n",
      "          splitter='random')\n",
      "max_samples = 535\n",
      "{'behaviour': 'new', 'bootstrap': False, 'contamination': 'legacy', 'max_features': 1.0, 'max_samples': 535, 'n_estimators': 100, 'n_jobs': None, 'random_state': None, 'verbose': 0}\n"
     ]
    },
    {
     "name": "stderr",
     "output_type": "stream",
     "text": [
      "/Users/thesard/anaconda3/lib/python3.7/site-packages/sklearn/ensemble/iforest.py:213: FutureWarning: default contamination parameter 0.1 will change in version 0.22 to \"auto\". This will change the predict method behavior.\n",
      "  FutureWarning)\n"
     ]
    },
    {
     "name": "stdout",
     "output_type": "stream",
     "text": [
      "Information about the first tree\n",
      "The tree = ExtraTreeRegressor(criterion='mse', max_depth=10, max_features=1,\n",
      "          max_leaf_nodes=None, min_impurity_decrease=0.0,\n",
      "          min_impurity_split=None, min_samples_leaf=1, min_samples_split=2,\n",
      "          min_weight_fraction_leaf=0.0, random_state=1060138413,\n",
      "          splitter='random')\n",
      "max_samples = 540\n",
      "{'behaviour': 'new', 'bootstrap': False, 'contamination': 'legacy', 'max_features': 1.0, 'max_samples': 540, 'n_estimators': 100, 'n_jobs': None, 'random_state': None, 'verbose': 0}\n"
     ]
    },
    {
     "name": "stderr",
     "output_type": "stream",
     "text": [
      "/Users/thesard/anaconda3/lib/python3.7/site-packages/sklearn/ensemble/iforest.py:213: FutureWarning: default contamination parameter 0.1 will change in version 0.22 to \"auto\". This will change the predict method behavior.\n",
      "  FutureWarning)\n"
     ]
    },
    {
     "name": "stdout",
     "output_type": "stream",
     "text": [
      "Information about the first tree\n",
      "The tree = ExtraTreeRegressor(criterion='mse', max_depth=10, max_features=1,\n",
      "          max_leaf_nodes=None, min_impurity_decrease=0.0,\n",
      "          min_impurity_split=None, min_samples_leaf=1, min_samples_split=2,\n",
      "          min_weight_fraction_leaf=0.0, random_state=1736245895,\n",
      "          splitter='random')\n",
      "max_samples = 545\n",
      "{'behaviour': 'new', 'bootstrap': False, 'contamination': 'legacy', 'max_features': 1.0, 'max_samples': 545, 'n_estimators': 100, 'n_jobs': None, 'random_state': None, 'verbose': 0}\n"
     ]
    },
    {
     "name": "stderr",
     "output_type": "stream",
     "text": [
      "/Users/thesard/anaconda3/lib/python3.7/site-packages/sklearn/ensemble/iforest.py:213: FutureWarning: default contamination parameter 0.1 will change in version 0.22 to \"auto\". This will change the predict method behavior.\n",
      "  FutureWarning)\n"
     ]
    },
    {
     "name": "stdout",
     "output_type": "stream",
     "text": [
      "Information about the first tree\n",
      "The tree = ExtraTreeRegressor(criterion='mse', max_depth=10, max_features=1,\n",
      "          max_leaf_nodes=None, min_impurity_decrease=0.0,\n",
      "          min_impurity_split=None, min_samples_leaf=1, min_samples_split=2,\n",
      "          min_weight_fraction_leaf=0.0, random_state=821402272,\n",
      "          splitter='random')\n",
      "max_samples = 550\n",
      "{'behaviour': 'new', 'bootstrap': False, 'contamination': 'legacy', 'max_features': 1.0, 'max_samples': 550, 'n_estimators': 100, 'n_jobs': None, 'random_state': None, 'verbose': 0}\n"
     ]
    },
    {
     "name": "stderr",
     "output_type": "stream",
     "text": [
      "/Users/thesard/anaconda3/lib/python3.7/site-packages/sklearn/ensemble/iforest.py:213: FutureWarning: default contamination parameter 0.1 will change in version 0.22 to \"auto\". This will change the predict method behavior.\n",
      "  FutureWarning)\n"
     ]
    },
    {
     "name": "stdout",
     "output_type": "stream",
     "text": [
      "Information about the first tree\n",
      "The tree = ExtraTreeRegressor(criterion='mse', max_depth=10, max_features=1,\n",
      "          max_leaf_nodes=None, min_impurity_decrease=0.0,\n",
      "          min_impurity_split=None, min_samples_leaf=1, min_samples_split=2,\n",
      "          min_weight_fraction_leaf=0.0, random_state=1961314077,\n",
      "          splitter='random')\n",
      "max_samples = 555\n",
      "{'behaviour': 'new', 'bootstrap': False, 'contamination': 'legacy', 'max_features': 1.0, 'max_samples': 555, 'n_estimators': 100, 'n_jobs': None, 'random_state': None, 'verbose': 0}\n"
     ]
    },
    {
     "name": "stderr",
     "output_type": "stream",
     "text": [
      "/Users/thesard/anaconda3/lib/python3.7/site-packages/sklearn/ensemble/iforest.py:213: FutureWarning: default contamination parameter 0.1 will change in version 0.22 to \"auto\". This will change the predict method behavior.\n",
      "  FutureWarning)\n"
     ]
    },
    {
     "name": "stdout",
     "output_type": "stream",
     "text": [
      "Information about the first tree\n",
      "The tree = ExtraTreeRegressor(criterion='mse', max_depth=10, max_features=1,\n",
      "          max_leaf_nodes=None, min_impurity_decrease=0.0,\n",
      "          min_impurity_split=None, min_samples_leaf=1, min_samples_split=2,\n",
      "          min_weight_fraction_leaf=0.0, random_state=2028480991,\n",
      "          splitter='random')\n",
      "max_samples = 560\n",
      "{'behaviour': 'new', 'bootstrap': False, 'contamination': 'legacy', 'max_features': 1.0, 'max_samples': 560, 'n_estimators': 100, 'n_jobs': None, 'random_state': None, 'verbose': 0}\n"
     ]
    },
    {
     "name": "stderr",
     "output_type": "stream",
     "text": [
      "/Users/thesard/anaconda3/lib/python3.7/site-packages/sklearn/ensemble/iforest.py:213: FutureWarning: default contamination parameter 0.1 will change in version 0.22 to \"auto\". This will change the predict method behavior.\n",
      "  FutureWarning)\n"
     ]
    },
    {
     "name": "stdout",
     "output_type": "stream",
     "text": [
      "Information about the first tree\n",
      "The tree = ExtraTreeRegressor(criterion='mse', max_depth=10, max_features=1,\n",
      "          max_leaf_nodes=None, min_impurity_decrease=0.0,\n",
      "          min_impurity_split=None, min_samples_leaf=1, min_samples_split=2,\n",
      "          min_weight_fraction_leaf=0.0, random_state=1823484078,\n",
      "          splitter='random')\n",
      "max_samples = 565\n",
      "{'behaviour': 'new', 'bootstrap': False, 'contamination': 'legacy', 'max_features': 1.0, 'max_samples': 565, 'n_estimators': 100, 'n_jobs': None, 'random_state': None, 'verbose': 0}\n"
     ]
    },
    {
     "name": "stderr",
     "output_type": "stream",
     "text": [
      "/Users/thesard/anaconda3/lib/python3.7/site-packages/sklearn/ensemble/iforest.py:213: FutureWarning: default contamination parameter 0.1 will change in version 0.22 to \"auto\". This will change the predict method behavior.\n",
      "  FutureWarning)\n"
     ]
    },
    {
     "name": "stdout",
     "output_type": "stream",
     "text": [
      "Information about the first tree\n",
      "The tree = ExtraTreeRegressor(criterion='mse', max_depth=10, max_features=1,\n",
      "          max_leaf_nodes=None, min_impurity_decrease=0.0,\n",
      "          min_impurity_split=None, min_samples_leaf=1, min_samples_split=2,\n",
      "          min_weight_fraction_leaf=0.0, random_state=1413556781,\n",
      "          splitter='random')\n",
      "max_samples = 570\n",
      "{'behaviour': 'new', 'bootstrap': False, 'contamination': 'legacy', 'max_features': 1.0, 'max_samples': 570, 'n_estimators': 100, 'n_jobs': None, 'random_state': None, 'verbose': 0}\n"
     ]
    },
    {
     "name": "stderr",
     "output_type": "stream",
     "text": [
      "/Users/thesard/anaconda3/lib/python3.7/site-packages/sklearn/ensemble/iforest.py:213: FutureWarning: default contamination parameter 0.1 will change in version 0.22 to \"auto\". This will change the predict method behavior.\n",
      "  FutureWarning)\n"
     ]
    },
    {
     "name": "stdout",
     "output_type": "stream",
     "text": [
      "Information about the first tree\n",
      "The tree = ExtraTreeRegressor(criterion='mse', max_depth=10, max_features=1,\n",
      "          max_leaf_nodes=None, min_impurity_decrease=0.0,\n",
      "          min_impurity_split=None, min_samples_leaf=1, min_samples_split=2,\n",
      "          min_weight_fraction_leaf=0.0, random_state=1988550774,\n",
      "          splitter='random')\n",
      "max_samples = 575\n",
      "{'behaviour': 'new', 'bootstrap': False, 'contamination': 'legacy', 'max_features': 1.0, 'max_samples': 575, 'n_estimators': 100, 'n_jobs': None, 'random_state': None, 'verbose': 0}\n"
     ]
    },
    {
     "name": "stderr",
     "output_type": "stream",
     "text": [
      "/Users/thesard/anaconda3/lib/python3.7/site-packages/sklearn/ensemble/iforest.py:213: FutureWarning: default contamination parameter 0.1 will change in version 0.22 to \"auto\". This will change the predict method behavior.\n",
      "  FutureWarning)\n"
     ]
    },
    {
     "name": "stdout",
     "output_type": "stream",
     "text": [
      "Information about the first tree\n",
      "The tree = ExtraTreeRegressor(criterion='mse', max_depth=10, max_features=1,\n",
      "          max_leaf_nodes=None, min_impurity_decrease=0.0,\n",
      "          min_impurity_split=None, min_samples_leaf=1, min_samples_split=2,\n",
      "          min_weight_fraction_leaf=0.0, random_state=701208373,\n",
      "          splitter='random')\n",
      "max_samples = 580\n",
      "{'behaviour': 'new', 'bootstrap': False, 'contamination': 'legacy', 'max_features': 1.0, 'max_samples': 580, 'n_estimators': 100, 'n_jobs': None, 'random_state': None, 'verbose': 0}\n"
     ]
    },
    {
     "name": "stderr",
     "output_type": "stream",
     "text": [
      "/Users/thesard/anaconda3/lib/python3.7/site-packages/sklearn/ensemble/iforest.py:213: FutureWarning: default contamination parameter 0.1 will change in version 0.22 to \"auto\". This will change the predict method behavior.\n",
      "  FutureWarning)\n"
     ]
    },
    {
     "name": "stdout",
     "output_type": "stream",
     "text": [
      "Information about the first tree\n",
      "The tree = ExtraTreeRegressor(criterion='mse', max_depth=10, max_features=1,\n",
      "          max_leaf_nodes=None, min_impurity_decrease=0.0,\n",
      "          min_impurity_split=None, min_samples_leaf=1, min_samples_split=2,\n",
      "          min_weight_fraction_leaf=0.0, random_state=300976887,\n",
      "          splitter='random')\n",
      "max_samples = 585\n",
      "{'behaviour': 'new', 'bootstrap': False, 'contamination': 'legacy', 'max_features': 1.0, 'max_samples': 585, 'n_estimators': 100, 'n_jobs': None, 'random_state': None, 'verbose': 0}\n"
     ]
    },
    {
     "name": "stderr",
     "output_type": "stream",
     "text": [
      "/Users/thesard/anaconda3/lib/python3.7/site-packages/sklearn/ensemble/iforest.py:213: FutureWarning: default contamination parameter 0.1 will change in version 0.22 to \"auto\". This will change the predict method behavior.\n",
      "  FutureWarning)\n"
     ]
    },
    {
     "name": "stdout",
     "output_type": "stream",
     "text": [
      "Information about the first tree\n",
      "The tree = ExtraTreeRegressor(criterion='mse', max_depth=10, max_features=1,\n",
      "          max_leaf_nodes=None, min_impurity_decrease=0.0,\n",
      "          min_impurity_split=None, min_samples_leaf=1, min_samples_split=2,\n",
      "          min_weight_fraction_leaf=0.0, random_state=994179031,\n",
      "          splitter='random')\n",
      "max_samples = 590\n",
      "{'behaviour': 'new', 'bootstrap': False, 'contamination': 'legacy', 'max_features': 1.0, 'max_samples': 590, 'n_estimators': 100, 'n_jobs': None, 'random_state': None, 'verbose': 0}\n"
     ]
    },
    {
     "name": "stderr",
     "output_type": "stream",
     "text": [
      "/Users/thesard/anaconda3/lib/python3.7/site-packages/sklearn/ensemble/iforest.py:213: FutureWarning: default contamination parameter 0.1 will change in version 0.22 to \"auto\". This will change the predict method behavior.\n",
      "  FutureWarning)\n"
     ]
    },
    {
     "name": "stdout",
     "output_type": "stream",
     "text": [
      "Information about the first tree\n",
      "The tree = ExtraTreeRegressor(criterion='mse', max_depth=10, max_features=1,\n",
      "          max_leaf_nodes=None, min_impurity_decrease=0.0,\n",
      "          min_impurity_split=None, min_samples_leaf=1, min_samples_split=2,\n",
      "          min_weight_fraction_leaf=0.0, random_state=1746948307,\n",
      "          splitter='random')\n",
      "max_samples = 595\n",
      "{'behaviour': 'new', 'bootstrap': False, 'contamination': 'legacy', 'max_features': 1.0, 'max_samples': 595, 'n_estimators': 100, 'n_jobs': None, 'random_state': None, 'verbose': 0}\n"
     ]
    },
    {
     "name": "stderr",
     "output_type": "stream",
     "text": [
      "/Users/thesard/anaconda3/lib/python3.7/site-packages/sklearn/ensemble/iforest.py:213: FutureWarning: default contamination parameter 0.1 will change in version 0.22 to \"auto\". This will change the predict method behavior.\n",
      "  FutureWarning)\n"
     ]
    },
    {
     "name": "stdout",
     "output_type": "stream",
     "text": [
      "Information about the first tree\n",
      "The tree = ExtraTreeRegressor(criterion='mse', max_depth=10, max_features=1,\n",
      "          max_leaf_nodes=None, min_impurity_decrease=0.0,\n",
      "          min_impurity_split=None, min_samples_leaf=1, min_samples_split=2,\n",
      "          min_weight_fraction_leaf=0.0, random_state=23347081,\n",
      "          splitter='random')\n",
      "max_samples = 600\n",
      "{'behaviour': 'new', 'bootstrap': False, 'contamination': 'legacy', 'max_features': 1.0, 'max_samples': 600, 'n_estimators': 100, 'n_jobs': None, 'random_state': None, 'verbose': 0}\n"
     ]
    },
    {
     "name": "stderr",
     "output_type": "stream",
     "text": [
      "/Users/thesard/anaconda3/lib/python3.7/site-packages/sklearn/ensemble/iforest.py:213: FutureWarning: default contamination parameter 0.1 will change in version 0.22 to \"auto\". This will change the predict method behavior.\n",
      "  FutureWarning)\n"
     ]
    },
    {
     "name": "stdout",
     "output_type": "stream",
     "text": [
      "Information about the first tree\n",
      "The tree = ExtraTreeRegressor(criterion='mse', max_depth=10, max_features=1,\n",
      "          max_leaf_nodes=None, min_impurity_decrease=0.0,\n",
      "          min_impurity_split=None, min_samples_leaf=1, min_samples_split=2,\n",
      "          min_weight_fraction_leaf=0.0, random_state=1103353938,\n",
      "          splitter='random')\n",
      "max_samples = 605\n",
      "{'behaviour': 'new', 'bootstrap': False, 'contamination': 'legacy', 'max_features': 1.0, 'max_samples': 605, 'n_estimators': 100, 'n_jobs': None, 'random_state': None, 'verbose': 0}\n"
     ]
    },
    {
     "name": "stderr",
     "output_type": "stream",
     "text": [
      "/Users/thesard/anaconda3/lib/python3.7/site-packages/sklearn/ensemble/iforest.py:213: FutureWarning: default contamination parameter 0.1 will change in version 0.22 to \"auto\". This will change the predict method behavior.\n",
      "  FutureWarning)\n"
     ]
    },
    {
     "name": "stdout",
     "output_type": "stream",
     "text": [
      "Information about the first tree\n",
      "The tree = ExtraTreeRegressor(criterion='mse', max_depth=10, max_features=1,\n",
      "          max_leaf_nodes=None, min_impurity_decrease=0.0,\n",
      "          min_impurity_split=None, min_samples_leaf=1, min_samples_split=2,\n",
      "          min_weight_fraction_leaf=0.0, random_state=1138568568,\n",
      "          splitter='random')\n",
      "max_samples = 610\n",
      "{'behaviour': 'new', 'bootstrap': False, 'contamination': 'legacy', 'max_features': 1.0, 'max_samples': 610, 'n_estimators': 100, 'n_jobs': None, 'random_state': None, 'verbose': 0}\n"
     ]
    },
    {
     "name": "stderr",
     "output_type": "stream",
     "text": [
      "/Users/thesard/anaconda3/lib/python3.7/site-packages/sklearn/ensemble/iforest.py:213: FutureWarning: default contamination parameter 0.1 will change in version 0.22 to \"auto\". This will change the predict method behavior.\n",
      "  FutureWarning)\n"
     ]
    },
    {
     "name": "stdout",
     "output_type": "stream",
     "text": [
      "Information about the first tree\n",
      "The tree = ExtraTreeRegressor(criterion='mse', max_depth=10, max_features=1,\n",
      "          max_leaf_nodes=None, min_impurity_decrease=0.0,\n",
      "          min_impurity_split=None, min_samples_leaf=1, min_samples_split=2,\n",
      "          min_weight_fraction_leaf=0.0, random_state=1339049156,\n",
      "          splitter='random')\n",
      "max_samples = 615\n",
      "{'behaviour': 'new', 'bootstrap': False, 'contamination': 'legacy', 'max_features': 1.0, 'max_samples': 615, 'n_estimators': 100, 'n_jobs': None, 'random_state': None, 'verbose': 0}\n"
     ]
    },
    {
     "name": "stderr",
     "output_type": "stream",
     "text": [
      "/Users/thesard/anaconda3/lib/python3.7/site-packages/sklearn/ensemble/iforest.py:213: FutureWarning: default contamination parameter 0.1 will change in version 0.22 to \"auto\". This will change the predict method behavior.\n",
      "  FutureWarning)\n"
     ]
    },
    {
     "name": "stdout",
     "output_type": "stream",
     "text": [
      "Information about the first tree\n",
      "The tree = ExtraTreeRegressor(criterion='mse', max_depth=10, max_features=1,\n",
      "          max_leaf_nodes=None, min_impurity_decrease=0.0,\n",
      "          min_impurity_split=None, min_samples_leaf=1, min_samples_split=2,\n",
      "          min_weight_fraction_leaf=0.0, random_state=1667155554,\n",
      "          splitter='random')\n",
      "max_samples = 620\n",
      "{'behaviour': 'new', 'bootstrap': False, 'contamination': 'legacy', 'max_features': 1.0, 'max_samples': 620, 'n_estimators': 100, 'n_jobs': None, 'random_state': None, 'verbose': 0}\n"
     ]
    },
    {
     "name": "stderr",
     "output_type": "stream",
     "text": [
      "/Users/thesard/anaconda3/lib/python3.7/site-packages/sklearn/ensemble/iforest.py:213: FutureWarning: default contamination parameter 0.1 will change in version 0.22 to \"auto\". This will change the predict method behavior.\n",
      "  FutureWarning)\n"
     ]
    },
    {
     "name": "stdout",
     "output_type": "stream",
     "text": [
      "Information about the first tree\n",
      "The tree = ExtraTreeRegressor(criterion='mse', max_depth=10, max_features=1,\n",
      "          max_leaf_nodes=None, min_impurity_decrease=0.0,\n",
      "          min_impurity_split=None, min_samples_leaf=1, min_samples_split=2,\n",
      "          min_weight_fraction_leaf=0.0, random_state=614607251,\n",
      "          splitter='random')\n",
      "max_samples = 625\n",
      "{'behaviour': 'new', 'bootstrap': False, 'contamination': 'legacy', 'max_features': 1.0, 'max_samples': 625, 'n_estimators': 100, 'n_jobs': None, 'random_state': None, 'verbose': 0}\n"
     ]
    },
    {
     "name": "stderr",
     "output_type": "stream",
     "text": [
      "/Users/thesard/anaconda3/lib/python3.7/site-packages/sklearn/ensemble/iforest.py:213: FutureWarning: default contamination parameter 0.1 will change in version 0.22 to \"auto\". This will change the predict method behavior.\n",
      "  FutureWarning)\n"
     ]
    },
    {
     "name": "stdout",
     "output_type": "stream",
     "text": [
      "Information about the first tree\n",
      "The tree = ExtraTreeRegressor(criterion='mse', max_depth=10, max_features=1,\n",
      "          max_leaf_nodes=None, min_impurity_decrease=0.0,\n",
      "          min_impurity_split=None, min_samples_leaf=1, min_samples_split=2,\n",
      "          min_weight_fraction_leaf=0.0, random_state=24479116,\n",
      "          splitter='random')\n",
      "max_samples = 630\n",
      "{'behaviour': 'new', 'bootstrap': False, 'contamination': 'legacy', 'max_features': 1.0, 'max_samples': 630, 'n_estimators': 100, 'n_jobs': None, 'random_state': None, 'verbose': 0}\n"
     ]
    },
    {
     "name": "stderr",
     "output_type": "stream",
     "text": [
      "/Users/thesard/anaconda3/lib/python3.7/site-packages/sklearn/ensemble/iforest.py:213: FutureWarning: default contamination parameter 0.1 will change in version 0.22 to \"auto\". This will change the predict method behavior.\n",
      "  FutureWarning)\n"
     ]
    },
    {
     "name": "stdout",
     "output_type": "stream",
     "text": [
      "Information about the first tree\n",
      "The tree = ExtraTreeRegressor(criterion='mse', max_depth=10, max_features=1,\n",
      "          max_leaf_nodes=None, min_impurity_decrease=0.0,\n",
      "          min_impurity_split=None, min_samples_leaf=1, min_samples_split=2,\n",
      "          min_weight_fraction_leaf=0.0, random_state=2069778429,\n",
      "          splitter='random')\n",
      "max_samples = 635\n",
      "{'behaviour': 'new', 'bootstrap': False, 'contamination': 'legacy', 'max_features': 1.0, 'max_samples': 635, 'n_estimators': 100, 'n_jobs': None, 'random_state': None, 'verbose': 0}\n"
     ]
    },
    {
     "name": "stderr",
     "output_type": "stream",
     "text": [
      "/Users/thesard/anaconda3/lib/python3.7/site-packages/sklearn/ensemble/iforest.py:213: FutureWarning: default contamination parameter 0.1 will change in version 0.22 to \"auto\". This will change the predict method behavior.\n",
      "  FutureWarning)\n"
     ]
    },
    {
     "name": "stdout",
     "output_type": "stream",
     "text": [
      "Information about the first tree\n",
      "The tree = ExtraTreeRegressor(criterion='mse', max_depth=10, max_features=1,\n",
      "          max_leaf_nodes=None, min_impurity_decrease=0.0,\n",
      "          min_impurity_split=None, min_samples_leaf=1, min_samples_split=2,\n",
      "          min_weight_fraction_leaf=0.0, random_state=672612511,\n",
      "          splitter='random')\n",
      "max_samples = 640\n",
      "{'behaviour': 'new', 'bootstrap': False, 'contamination': 'legacy', 'max_features': 1.0, 'max_samples': 640, 'n_estimators': 100, 'n_jobs': None, 'random_state': None, 'verbose': 0}\n"
     ]
    },
    {
     "name": "stderr",
     "output_type": "stream",
     "text": [
      "/Users/thesard/anaconda3/lib/python3.7/site-packages/sklearn/ensemble/iforest.py:213: FutureWarning: default contamination parameter 0.1 will change in version 0.22 to \"auto\". This will change the predict method behavior.\n",
      "  FutureWarning)\n"
     ]
    },
    {
     "name": "stdout",
     "output_type": "stream",
     "text": [
      "Information about the first tree\n",
      "The tree = ExtraTreeRegressor(criterion='mse', max_depth=10, max_features=1,\n",
      "          max_leaf_nodes=None, min_impurity_decrease=0.0,\n",
      "          min_impurity_split=None, min_samples_leaf=1, min_samples_split=2,\n",
      "          min_weight_fraction_leaf=0.0, random_state=820836821,\n",
      "          splitter='random')\n",
      "max_samples = 645\n",
      "{'behaviour': 'new', 'bootstrap': False, 'contamination': 'legacy', 'max_features': 1.0, 'max_samples': 645, 'n_estimators': 100, 'n_jobs': None, 'random_state': None, 'verbose': 0}\n"
     ]
    },
    {
     "name": "stderr",
     "output_type": "stream",
     "text": [
      "/Users/thesard/anaconda3/lib/python3.7/site-packages/sklearn/ensemble/iforest.py:213: FutureWarning: default contamination parameter 0.1 will change in version 0.22 to \"auto\". This will change the predict method behavior.\n",
      "  FutureWarning)\n"
     ]
    },
    {
     "name": "stdout",
     "output_type": "stream",
     "text": [
      "Information about the first tree\n",
      "The tree = ExtraTreeRegressor(criterion='mse', max_depth=10, max_features=1,\n",
      "          max_leaf_nodes=None, min_impurity_decrease=0.0,\n",
      "          min_impurity_split=None, min_samples_leaf=1, min_samples_split=2,\n",
      "          min_weight_fraction_leaf=0.0, random_state=517214134,\n",
      "          splitter='random')\n",
      "max_samples = 650\n",
      "{'behaviour': 'new', 'bootstrap': False, 'contamination': 'legacy', 'max_features': 1.0, 'max_samples': 650, 'n_estimators': 100, 'n_jobs': None, 'random_state': None, 'verbose': 0}\n"
     ]
    },
    {
     "name": "stderr",
     "output_type": "stream",
     "text": [
      "/Users/thesard/anaconda3/lib/python3.7/site-packages/sklearn/ensemble/iforest.py:213: FutureWarning: default contamination parameter 0.1 will change in version 0.22 to \"auto\". This will change the predict method behavior.\n",
      "  FutureWarning)\n"
     ]
    },
    {
     "name": "stdout",
     "output_type": "stream",
     "text": [
      "Information about the first tree\n",
      "The tree = ExtraTreeRegressor(criterion='mse', max_depth=10, max_features=1,\n",
      "          max_leaf_nodes=None, min_impurity_decrease=0.0,\n",
      "          min_impurity_split=None, min_samples_leaf=1, min_samples_split=2,\n",
      "          min_weight_fraction_leaf=0.0, random_state=1687776934,\n",
      "          splitter='random')\n",
      "max_samples = 655\n",
      "{'behaviour': 'new', 'bootstrap': False, 'contamination': 'legacy', 'max_features': 1.0, 'max_samples': 655, 'n_estimators': 100, 'n_jobs': None, 'random_state': None, 'verbose': 0}\n"
     ]
    },
    {
     "name": "stderr",
     "output_type": "stream",
     "text": [
      "/Users/thesard/anaconda3/lib/python3.7/site-packages/sklearn/ensemble/iforest.py:213: FutureWarning: default contamination parameter 0.1 will change in version 0.22 to \"auto\". This will change the predict method behavior.\n",
      "  FutureWarning)\n"
     ]
    },
    {
     "name": "stdout",
     "output_type": "stream",
     "text": [
      "Information about the first tree\n",
      "The tree = ExtraTreeRegressor(criterion='mse', max_depth=10, max_features=1,\n",
      "          max_leaf_nodes=None, min_impurity_decrease=0.0,\n",
      "          min_impurity_split=None, min_samples_leaf=1, min_samples_split=2,\n",
      "          min_weight_fraction_leaf=0.0, random_state=9455544,\n",
      "          splitter='random')\n",
      "max_samples = 660\n",
      "{'behaviour': 'new', 'bootstrap': False, 'contamination': 'legacy', 'max_features': 1.0, 'max_samples': 660, 'n_estimators': 100, 'n_jobs': None, 'random_state': None, 'verbose': 0}\n"
     ]
    },
    {
     "name": "stderr",
     "output_type": "stream",
     "text": [
      "/Users/thesard/anaconda3/lib/python3.7/site-packages/sklearn/ensemble/iforest.py:213: FutureWarning: default contamination parameter 0.1 will change in version 0.22 to \"auto\". This will change the predict method behavior.\n",
      "  FutureWarning)\n"
     ]
    },
    {
     "name": "stdout",
     "output_type": "stream",
     "text": [
      "Information about the first tree\n",
      "The tree = ExtraTreeRegressor(criterion='mse', max_depth=10, max_features=1,\n",
      "          max_leaf_nodes=None, min_impurity_decrease=0.0,\n",
      "          min_impurity_split=None, min_samples_leaf=1, min_samples_split=2,\n",
      "          min_weight_fraction_leaf=0.0, random_state=2118228586,\n",
      "          splitter='random')\n",
      "max_samples = 665\n",
      "{'behaviour': 'new', 'bootstrap': False, 'contamination': 'legacy', 'max_features': 1.0, 'max_samples': 665, 'n_estimators': 100, 'n_jobs': None, 'random_state': None, 'verbose': 0}\n"
     ]
    },
    {
     "name": "stderr",
     "output_type": "stream",
     "text": [
      "/Users/thesard/anaconda3/lib/python3.7/site-packages/sklearn/ensemble/iforest.py:213: FutureWarning: default contamination parameter 0.1 will change in version 0.22 to \"auto\". This will change the predict method behavior.\n",
      "  FutureWarning)\n"
     ]
    },
    {
     "name": "stdout",
     "output_type": "stream",
     "text": [
      "Information about the first tree\n",
      "The tree = ExtraTreeRegressor(criterion='mse', max_depth=10, max_features=1,\n",
      "          max_leaf_nodes=None, min_impurity_decrease=0.0,\n",
      "          min_impurity_split=None, min_samples_leaf=1, min_samples_split=2,\n",
      "          min_weight_fraction_leaf=0.0, random_state=1198930505,\n",
      "          splitter='random')\n",
      "max_samples = 670\n",
      "{'behaviour': 'new', 'bootstrap': False, 'contamination': 'legacy', 'max_features': 1.0, 'max_samples': 670, 'n_estimators': 100, 'n_jobs': None, 'random_state': None, 'verbose': 0}\n"
     ]
    },
    {
     "name": "stderr",
     "output_type": "stream",
     "text": [
      "/Users/thesard/anaconda3/lib/python3.7/site-packages/sklearn/ensemble/iforest.py:213: FutureWarning: default contamination parameter 0.1 will change in version 0.22 to \"auto\". This will change the predict method behavior.\n",
      "  FutureWarning)\n"
     ]
    },
    {
     "name": "stdout",
     "output_type": "stream",
     "text": [
      "Information about the first tree\n",
      "The tree = ExtraTreeRegressor(criterion='mse', max_depth=10, max_features=1,\n",
      "          max_leaf_nodes=None, min_impurity_decrease=0.0,\n",
      "          min_impurity_split=None, min_samples_leaf=1, min_samples_split=2,\n",
      "          min_weight_fraction_leaf=0.0, random_state=167024354,\n",
      "          splitter='random')\n",
      "max_samples = 675\n",
      "{'behaviour': 'new', 'bootstrap': False, 'contamination': 'legacy', 'max_features': 1.0, 'max_samples': 675, 'n_estimators': 100, 'n_jobs': None, 'random_state': None, 'verbose': 0}\n"
     ]
    },
    {
     "name": "stderr",
     "output_type": "stream",
     "text": [
      "/Users/thesard/anaconda3/lib/python3.7/site-packages/sklearn/ensemble/iforest.py:213: FutureWarning: default contamination parameter 0.1 will change in version 0.22 to \"auto\". This will change the predict method behavior.\n",
      "  FutureWarning)\n"
     ]
    },
    {
     "name": "stdout",
     "output_type": "stream",
     "text": [
      "Information about the first tree\n",
      "The tree = ExtraTreeRegressor(criterion='mse', max_depth=10, max_features=1,\n",
      "          max_leaf_nodes=None, min_impurity_decrease=0.0,\n",
      "          min_impurity_split=None, min_samples_leaf=1, min_samples_split=2,\n",
      "          min_weight_fraction_leaf=0.0, random_state=885785463,\n",
      "          splitter='random')\n",
      "max_samples = 680\n",
      "{'behaviour': 'new', 'bootstrap': False, 'contamination': 'legacy', 'max_features': 1.0, 'max_samples': 680, 'n_estimators': 100, 'n_jobs': None, 'random_state': None, 'verbose': 0}\n"
     ]
    },
    {
     "name": "stderr",
     "output_type": "stream",
     "text": [
      "/Users/thesard/anaconda3/lib/python3.7/site-packages/sklearn/ensemble/iforest.py:213: FutureWarning: default contamination parameter 0.1 will change in version 0.22 to \"auto\". This will change the predict method behavior.\n",
      "  FutureWarning)\n"
     ]
    },
    {
     "name": "stdout",
     "output_type": "stream",
     "text": [
      "Information about the first tree\n",
      "The tree = ExtraTreeRegressor(criterion='mse', max_depth=10, max_features=1,\n",
      "          max_leaf_nodes=None, min_impurity_decrease=0.0,\n",
      "          min_impurity_split=None, min_samples_leaf=1, min_samples_split=2,\n",
      "          min_weight_fraction_leaf=0.0, random_state=1344323133,\n",
      "          splitter='random')\n",
      "max_samples = 685\n",
      "{'behaviour': 'new', 'bootstrap': False, 'contamination': 'legacy', 'max_features': 1.0, 'max_samples': 685, 'n_estimators': 100, 'n_jobs': None, 'random_state': None, 'verbose': 0}\n"
     ]
    },
    {
     "name": "stderr",
     "output_type": "stream",
     "text": [
      "/Users/thesard/anaconda3/lib/python3.7/site-packages/sklearn/ensemble/iforest.py:213: FutureWarning: default contamination parameter 0.1 will change in version 0.22 to \"auto\". This will change the predict method behavior.\n",
      "  FutureWarning)\n"
     ]
    },
    {
     "name": "stdout",
     "output_type": "stream",
     "text": [
      "Information about the first tree\n",
      "The tree = ExtraTreeRegressor(criterion='mse', max_depth=10, max_features=1,\n",
      "          max_leaf_nodes=None, min_impurity_decrease=0.0,\n",
      "          min_impurity_split=None, min_samples_leaf=1, min_samples_split=2,\n",
      "          min_weight_fraction_leaf=0.0, random_state=453979873,\n",
      "          splitter='random')\n",
      "max_samples = 690\n",
      "{'behaviour': 'new', 'bootstrap': False, 'contamination': 'legacy', 'max_features': 1.0, 'max_samples': 690, 'n_estimators': 100, 'n_jobs': None, 'random_state': None, 'verbose': 0}\n"
     ]
    },
    {
     "name": "stderr",
     "output_type": "stream",
     "text": [
      "/Users/thesard/anaconda3/lib/python3.7/site-packages/sklearn/ensemble/iforest.py:213: FutureWarning: default contamination parameter 0.1 will change in version 0.22 to \"auto\". This will change the predict method behavior.\n",
      "  FutureWarning)\n"
     ]
    },
    {
     "name": "stdout",
     "output_type": "stream",
     "text": [
      "Information about the first tree\n",
      "The tree = ExtraTreeRegressor(criterion='mse', max_depth=10, max_features=1,\n",
      "          max_leaf_nodes=None, min_impurity_decrease=0.0,\n",
      "          min_impurity_split=None, min_samples_leaf=1, min_samples_split=2,\n",
      "          min_weight_fraction_leaf=0.0, random_state=1712441624,\n",
      "          splitter='random')\n",
      "max_samples = 695\n",
      "{'behaviour': 'new', 'bootstrap': False, 'contamination': 'legacy', 'max_features': 1.0, 'max_samples': 695, 'n_estimators': 100, 'n_jobs': None, 'random_state': None, 'verbose': 0}\n"
     ]
    },
    {
     "name": "stderr",
     "output_type": "stream",
     "text": [
      "/Users/thesard/anaconda3/lib/python3.7/site-packages/sklearn/ensemble/iforest.py:213: FutureWarning: default contamination parameter 0.1 will change in version 0.22 to \"auto\". This will change the predict method behavior.\n",
      "  FutureWarning)\n"
     ]
    },
    {
     "name": "stdout",
     "output_type": "stream",
     "text": [
      "Information about the first tree\n",
      "The tree = ExtraTreeRegressor(criterion='mse', max_depth=10, max_features=1,\n",
      "          max_leaf_nodes=None, min_impurity_decrease=0.0,\n",
      "          min_impurity_split=None, min_samples_leaf=1, min_samples_split=2,\n",
      "          min_weight_fraction_leaf=0.0, random_state=416277459,\n",
      "          splitter='random')\n",
      "max_samples = 700\n",
      "{'behaviour': 'new', 'bootstrap': False, 'contamination': 'legacy', 'max_features': 1.0, 'max_samples': 700, 'n_estimators': 100, 'n_jobs': None, 'random_state': None, 'verbose': 0}\n"
     ]
    },
    {
     "name": "stderr",
     "output_type": "stream",
     "text": [
      "/Users/thesard/anaconda3/lib/python3.7/site-packages/sklearn/ensemble/iforest.py:213: FutureWarning: default contamination parameter 0.1 will change in version 0.22 to \"auto\". This will change the predict method behavior.\n",
      "  FutureWarning)\n"
     ]
    },
    {
     "name": "stdout",
     "output_type": "stream",
     "text": [
      "Information about the first tree\n",
      "The tree = ExtraTreeRegressor(criterion='mse', max_depth=10, max_features=1,\n",
      "          max_leaf_nodes=None, min_impurity_decrease=0.0,\n",
      "          min_impurity_split=None, min_samples_leaf=1, min_samples_split=2,\n",
      "          min_weight_fraction_leaf=0.0, random_state=518661336,\n",
      "          splitter='random')\n",
      "max_samples = 705\n",
      "{'behaviour': 'new', 'bootstrap': False, 'contamination': 'legacy', 'max_features': 1.0, 'max_samples': 705, 'n_estimators': 100, 'n_jobs': None, 'random_state': None, 'verbose': 0}\n"
     ]
    },
    {
     "name": "stderr",
     "output_type": "stream",
     "text": [
      "/Users/thesard/anaconda3/lib/python3.7/site-packages/sklearn/ensemble/iforest.py:213: FutureWarning: default contamination parameter 0.1 will change in version 0.22 to \"auto\". This will change the predict method behavior.\n",
      "  FutureWarning)\n"
     ]
    },
    {
     "name": "stdout",
     "output_type": "stream",
     "text": [
      "Information about the first tree\n",
      "The tree = ExtraTreeRegressor(criterion='mse', max_depth=10, max_features=1,\n",
      "          max_leaf_nodes=None, min_impurity_decrease=0.0,\n",
      "          min_impurity_split=None, min_samples_leaf=1, min_samples_split=2,\n",
      "          min_weight_fraction_leaf=0.0, random_state=1467957337,\n",
      "          splitter='random')\n",
      "max_samples = 710\n",
      "{'behaviour': 'new', 'bootstrap': False, 'contamination': 'legacy', 'max_features': 1.0, 'max_samples': 710, 'n_estimators': 100, 'n_jobs': None, 'random_state': None, 'verbose': 0}\n"
     ]
    },
    {
     "name": "stderr",
     "output_type": "stream",
     "text": [
      "/Users/thesard/anaconda3/lib/python3.7/site-packages/sklearn/ensemble/iforest.py:213: FutureWarning: default contamination parameter 0.1 will change in version 0.22 to \"auto\". This will change the predict method behavior.\n",
      "  FutureWarning)\n"
     ]
    },
    {
     "name": "stdout",
     "output_type": "stream",
     "text": [
      "Information about the first tree\n",
      "The tree = ExtraTreeRegressor(criterion='mse', max_depth=10, max_features=1,\n",
      "          max_leaf_nodes=None, min_impurity_decrease=0.0,\n",
      "          min_impurity_split=None, min_samples_leaf=1, min_samples_split=2,\n",
      "          min_weight_fraction_leaf=0.0, random_state=652662490,\n",
      "          splitter='random')\n",
      "max_samples = 715\n",
      "{'behaviour': 'new', 'bootstrap': False, 'contamination': 'legacy', 'max_features': 1.0, 'max_samples': 715, 'n_estimators': 100, 'n_jobs': None, 'random_state': None, 'verbose': 0}\n"
     ]
    },
    {
     "name": "stderr",
     "output_type": "stream",
     "text": [
      "/Users/thesard/anaconda3/lib/python3.7/site-packages/sklearn/ensemble/iforest.py:213: FutureWarning: default contamination parameter 0.1 will change in version 0.22 to \"auto\". This will change the predict method behavior.\n",
      "  FutureWarning)\n"
     ]
    },
    {
     "name": "stdout",
     "output_type": "stream",
     "text": [
      "Information about the first tree\n",
      "The tree = ExtraTreeRegressor(criterion='mse', max_depth=10, max_features=1,\n",
      "          max_leaf_nodes=None, min_impurity_decrease=0.0,\n",
      "          min_impurity_split=None, min_samples_leaf=1, min_samples_split=2,\n",
      "          min_weight_fraction_leaf=0.0, random_state=1721867479,\n",
      "          splitter='random')\n",
      "max_samples = 720\n",
      "{'behaviour': 'new', 'bootstrap': False, 'contamination': 'legacy', 'max_features': 1.0, 'max_samples': 720, 'n_estimators': 100, 'n_jobs': None, 'random_state': None, 'verbose': 0}\n"
     ]
    },
    {
     "name": "stderr",
     "output_type": "stream",
     "text": [
      "/Users/thesard/anaconda3/lib/python3.7/site-packages/sklearn/ensemble/iforest.py:213: FutureWarning: default contamination parameter 0.1 will change in version 0.22 to \"auto\". This will change the predict method behavior.\n",
      "  FutureWarning)\n"
     ]
    },
    {
     "name": "stdout",
     "output_type": "stream",
     "text": [
      "Information about the first tree\n",
      "The tree = ExtraTreeRegressor(criterion='mse', max_depth=10, max_features=1,\n",
      "          max_leaf_nodes=None, min_impurity_decrease=0.0,\n",
      "          min_impurity_split=None, min_samples_leaf=1, min_samples_split=2,\n",
      "          min_weight_fraction_leaf=0.0, random_state=1415542806,\n",
      "          splitter='random')\n",
      "max_samples = 725\n",
      "{'behaviour': 'new', 'bootstrap': False, 'contamination': 'legacy', 'max_features': 1.0, 'max_samples': 725, 'n_estimators': 100, 'n_jobs': None, 'random_state': None, 'verbose': 0}\n"
     ]
    },
    {
     "name": "stderr",
     "output_type": "stream",
     "text": [
      "/Users/thesard/anaconda3/lib/python3.7/site-packages/sklearn/ensemble/iforest.py:213: FutureWarning: default contamination parameter 0.1 will change in version 0.22 to \"auto\". This will change the predict method behavior.\n",
      "  FutureWarning)\n"
     ]
    },
    {
     "name": "stdout",
     "output_type": "stream",
     "text": [
      "Information about the first tree\n",
      "The tree = ExtraTreeRegressor(criterion='mse', max_depth=10, max_features=1,\n",
      "          max_leaf_nodes=None, min_impurity_decrease=0.0,\n",
      "          min_impurity_split=None, min_samples_leaf=1, min_samples_split=2,\n",
      "          min_weight_fraction_leaf=0.0, random_state=93080126,\n",
      "          splitter='random')\n",
      "max_samples = 730\n",
      "{'behaviour': 'new', 'bootstrap': False, 'contamination': 'legacy', 'max_features': 1.0, 'max_samples': 730, 'n_estimators': 100, 'n_jobs': None, 'random_state': None, 'verbose': 0}\n"
     ]
    },
    {
     "name": "stderr",
     "output_type": "stream",
     "text": [
      "/Users/thesard/anaconda3/lib/python3.7/site-packages/sklearn/ensemble/iforest.py:213: FutureWarning: default contamination parameter 0.1 will change in version 0.22 to \"auto\". This will change the predict method behavior.\n",
      "  FutureWarning)\n"
     ]
    },
    {
     "name": "stdout",
     "output_type": "stream",
     "text": [
      "Information about the first tree\n",
      "The tree = ExtraTreeRegressor(criterion='mse', max_depth=10, max_features=1,\n",
      "          max_leaf_nodes=None, min_impurity_decrease=0.0,\n",
      "          min_impurity_split=None, min_samples_leaf=1, min_samples_split=2,\n",
      "          min_weight_fraction_leaf=0.0, random_state=910847876,\n",
      "          splitter='random')\n",
      "max_samples = 735\n",
      "{'behaviour': 'new', 'bootstrap': False, 'contamination': 'legacy', 'max_features': 1.0, 'max_samples': 735, 'n_estimators': 100, 'n_jobs': None, 'random_state': None, 'verbose': 0}\n"
     ]
    },
    {
     "name": "stderr",
     "output_type": "stream",
     "text": [
      "/Users/thesard/anaconda3/lib/python3.7/site-packages/sklearn/ensemble/iforest.py:213: FutureWarning: default contamination parameter 0.1 will change in version 0.22 to \"auto\". This will change the predict method behavior.\n",
      "  FutureWarning)\n"
     ]
    },
    {
     "name": "stdout",
     "output_type": "stream",
     "text": [
      "Information about the first tree\n",
      "The tree = ExtraTreeRegressor(criterion='mse', max_depth=10, max_features=1,\n",
      "          max_leaf_nodes=None, min_impurity_decrease=0.0,\n",
      "          min_impurity_split=None, min_samples_leaf=1, min_samples_split=2,\n",
      "          min_weight_fraction_leaf=0.0, random_state=630418365,\n",
      "          splitter='random')\n",
      "max_samples = 740\n",
      "{'behaviour': 'new', 'bootstrap': False, 'contamination': 'legacy', 'max_features': 1.0, 'max_samples': 740, 'n_estimators': 100, 'n_jobs': None, 'random_state': None, 'verbose': 0}\n"
     ]
    },
    {
     "name": "stderr",
     "output_type": "stream",
     "text": [
      "/Users/thesard/anaconda3/lib/python3.7/site-packages/sklearn/ensemble/iforest.py:213: FutureWarning: default contamination parameter 0.1 will change in version 0.22 to \"auto\". This will change the predict method behavior.\n",
      "  FutureWarning)\n"
     ]
    },
    {
     "name": "stdout",
     "output_type": "stream",
     "text": [
      "Information about the first tree\n",
      "The tree = ExtraTreeRegressor(criterion='mse', max_depth=10, max_features=1,\n",
      "          max_leaf_nodes=None, min_impurity_decrease=0.0,\n",
      "          min_impurity_split=None, min_samples_leaf=1, min_samples_split=2,\n",
      "          min_weight_fraction_leaf=0.0, random_state=2020990321,\n",
      "          splitter='random')\n",
      "max_samples = 745\n",
      "{'behaviour': 'new', 'bootstrap': False, 'contamination': 'legacy', 'max_features': 1.0, 'max_samples': 745, 'n_estimators': 100, 'n_jobs': None, 'random_state': None, 'verbose': 0}\n"
     ]
    },
    {
     "name": "stderr",
     "output_type": "stream",
     "text": [
      "/Users/thesard/anaconda3/lib/python3.7/site-packages/sklearn/ensemble/iforest.py:213: FutureWarning: default contamination parameter 0.1 will change in version 0.22 to \"auto\". This will change the predict method behavior.\n",
      "  FutureWarning)\n"
     ]
    },
    {
     "name": "stdout",
     "output_type": "stream",
     "text": [
      "Information about the first tree\n",
      "The tree = ExtraTreeRegressor(criterion='mse', max_depth=10, max_features=1,\n",
      "          max_leaf_nodes=None, min_impurity_decrease=0.0,\n",
      "          min_impurity_split=None, min_samples_leaf=1, min_samples_split=2,\n",
      "          min_weight_fraction_leaf=0.0, random_state=1803175369,\n",
      "          splitter='random')\n",
      "max_samples = 750\n",
      "{'behaviour': 'new', 'bootstrap': False, 'contamination': 'legacy', 'max_features': 1.0, 'max_samples': 750, 'n_estimators': 100, 'n_jobs': None, 'random_state': None, 'verbose': 0}\n"
     ]
    },
    {
     "name": "stderr",
     "output_type": "stream",
     "text": [
      "/Users/thesard/anaconda3/lib/python3.7/site-packages/sklearn/ensemble/iforest.py:213: FutureWarning: default contamination parameter 0.1 will change in version 0.22 to \"auto\". This will change the predict method behavior.\n",
      "  FutureWarning)\n"
     ]
    },
    {
     "name": "stdout",
     "output_type": "stream",
     "text": [
      "Information about the first tree\n",
      "The tree = ExtraTreeRegressor(criterion='mse', max_depth=10, max_features=1,\n",
      "          max_leaf_nodes=None, min_impurity_decrease=0.0,\n",
      "          min_impurity_split=None, min_samples_leaf=1, min_samples_split=2,\n",
      "          min_weight_fraction_leaf=0.0, random_state=1774096479,\n",
      "          splitter='random')\n",
      "max_samples = 755\n",
      "{'behaviour': 'new', 'bootstrap': False, 'contamination': 'legacy', 'max_features': 1.0, 'max_samples': 755, 'n_estimators': 100, 'n_jobs': None, 'random_state': None, 'verbose': 0}\n"
     ]
    },
    {
     "name": "stderr",
     "output_type": "stream",
     "text": [
      "/Users/thesard/anaconda3/lib/python3.7/site-packages/sklearn/ensemble/iforest.py:213: FutureWarning: default contamination parameter 0.1 will change in version 0.22 to \"auto\". This will change the predict method behavior.\n",
      "  FutureWarning)\n"
     ]
    },
    {
     "name": "stdout",
     "output_type": "stream",
     "text": [
      "Information about the first tree\n",
      "The tree = ExtraTreeRegressor(criterion='mse', max_depth=10, max_features=1,\n",
      "          max_leaf_nodes=None, min_impurity_decrease=0.0,\n",
      "          min_impurity_split=None, min_samples_leaf=1, min_samples_split=2,\n",
      "          min_weight_fraction_leaf=0.0, random_state=537933930,\n",
      "          splitter='random')\n",
      "max_samples = 760\n",
      "{'behaviour': 'new', 'bootstrap': False, 'contamination': 'legacy', 'max_features': 1.0, 'max_samples': 760, 'n_estimators': 100, 'n_jobs': None, 'random_state': None, 'verbose': 0}\n"
     ]
    },
    {
     "name": "stderr",
     "output_type": "stream",
     "text": [
      "/Users/thesard/anaconda3/lib/python3.7/site-packages/sklearn/ensemble/iforest.py:213: FutureWarning: default contamination parameter 0.1 will change in version 0.22 to \"auto\". This will change the predict method behavior.\n",
      "  FutureWarning)\n"
     ]
    },
    {
     "name": "stdout",
     "output_type": "stream",
     "text": [
      "Information about the first tree\n",
      "The tree = ExtraTreeRegressor(criterion='mse', max_depth=10, max_features=1,\n",
      "          max_leaf_nodes=None, min_impurity_decrease=0.0,\n",
      "          min_impurity_split=None, min_samples_leaf=1, min_samples_split=2,\n",
      "          min_weight_fraction_leaf=0.0, random_state=218212948,\n",
      "          splitter='random')\n",
      "max_samples = 765\n",
      "{'behaviour': 'new', 'bootstrap': False, 'contamination': 'legacy', 'max_features': 1.0, 'max_samples': 765, 'n_estimators': 100, 'n_jobs': None, 'random_state': None, 'verbose': 0}\n"
     ]
    },
    {
     "name": "stderr",
     "output_type": "stream",
     "text": [
      "/Users/thesard/anaconda3/lib/python3.7/site-packages/sklearn/ensemble/iforest.py:213: FutureWarning: default contamination parameter 0.1 will change in version 0.22 to \"auto\". This will change the predict method behavior.\n",
      "  FutureWarning)\n"
     ]
    },
    {
     "name": "stdout",
     "output_type": "stream",
     "text": [
      "Information about the first tree\n",
      "The tree = ExtraTreeRegressor(criterion='mse', max_depth=10, max_features=1,\n",
      "          max_leaf_nodes=None, min_impurity_decrease=0.0,\n",
      "          min_impurity_split=None, min_samples_leaf=1, min_samples_split=2,\n",
      "          min_weight_fraction_leaf=0.0, random_state=760496409,\n",
      "          splitter='random')\n",
      "max_samples = 770\n",
      "{'behaviour': 'new', 'bootstrap': False, 'contamination': 'legacy', 'max_features': 1.0, 'max_samples': 770, 'n_estimators': 100, 'n_jobs': None, 'random_state': None, 'verbose': 0}\n"
     ]
    },
    {
     "name": "stderr",
     "output_type": "stream",
     "text": [
      "/Users/thesard/anaconda3/lib/python3.7/site-packages/sklearn/ensemble/iforest.py:213: FutureWarning: default contamination parameter 0.1 will change in version 0.22 to \"auto\". This will change the predict method behavior.\n",
      "  FutureWarning)\n"
     ]
    },
    {
     "name": "stdout",
     "output_type": "stream",
     "text": [
      "Information about the first tree\n",
      "The tree = ExtraTreeRegressor(criterion='mse', max_depth=10, max_features=1,\n",
      "          max_leaf_nodes=None, min_impurity_decrease=0.0,\n",
      "          min_impurity_split=None, min_samples_leaf=1, min_samples_split=2,\n",
      "          min_weight_fraction_leaf=0.0, random_state=1218288249,\n",
      "          splitter='random')\n",
      "max_samples = 775\n",
      "{'behaviour': 'new', 'bootstrap': False, 'contamination': 'legacy', 'max_features': 1.0, 'max_samples': 775, 'n_estimators': 100, 'n_jobs': None, 'random_state': None, 'verbose': 0}\n"
     ]
    },
    {
     "name": "stderr",
     "output_type": "stream",
     "text": [
      "/Users/thesard/anaconda3/lib/python3.7/site-packages/sklearn/ensemble/iforest.py:213: FutureWarning: default contamination parameter 0.1 will change in version 0.22 to \"auto\". This will change the predict method behavior.\n",
      "  FutureWarning)\n"
     ]
    },
    {
     "name": "stdout",
     "output_type": "stream",
     "text": [
      "Information about the first tree\n",
      "The tree = ExtraTreeRegressor(criterion='mse', max_depth=10, max_features=1,\n",
      "          max_leaf_nodes=None, min_impurity_decrease=0.0,\n",
      "          min_impurity_split=None, min_samples_leaf=1, min_samples_split=2,\n",
      "          min_weight_fraction_leaf=0.0, random_state=739971238,\n",
      "          splitter='random')\n",
      "max_samples = 780\n",
      "{'behaviour': 'new', 'bootstrap': False, 'contamination': 'legacy', 'max_features': 1.0, 'max_samples': 780, 'n_estimators': 100, 'n_jobs': None, 'random_state': None, 'verbose': 0}\n"
     ]
    },
    {
     "name": "stderr",
     "output_type": "stream",
     "text": [
      "/Users/thesard/anaconda3/lib/python3.7/site-packages/sklearn/ensemble/iforest.py:213: FutureWarning: default contamination parameter 0.1 will change in version 0.22 to \"auto\". This will change the predict method behavior.\n",
      "  FutureWarning)\n"
     ]
    },
    {
     "name": "stdout",
     "output_type": "stream",
     "text": [
      "Information about the first tree\n",
      "The tree = ExtraTreeRegressor(criterion='mse', max_depth=10, max_features=1,\n",
      "          max_leaf_nodes=None, min_impurity_decrease=0.0,\n",
      "          min_impurity_split=None, min_samples_leaf=1, min_samples_split=2,\n",
      "          min_weight_fraction_leaf=0.0, random_state=916687491,\n",
      "          splitter='random')\n",
      "max_samples = 785\n",
      "{'behaviour': 'new', 'bootstrap': False, 'contamination': 'legacy', 'max_features': 1.0, 'max_samples': 785, 'n_estimators': 100, 'n_jobs': None, 'random_state': None, 'verbose': 0}\n"
     ]
    },
    {
     "name": "stderr",
     "output_type": "stream",
     "text": [
      "/Users/thesard/anaconda3/lib/python3.7/site-packages/sklearn/ensemble/iforest.py:213: FutureWarning: default contamination parameter 0.1 will change in version 0.22 to \"auto\". This will change the predict method behavior.\n",
      "  FutureWarning)\n"
     ]
    },
    {
     "name": "stdout",
     "output_type": "stream",
     "text": [
      "Information about the first tree\n",
      "The tree = ExtraTreeRegressor(criterion='mse', max_depth=10, max_features=1,\n",
      "          max_leaf_nodes=None, min_impurity_decrease=0.0,\n",
      "          min_impurity_split=None, min_samples_leaf=1, min_samples_split=2,\n",
      "          min_weight_fraction_leaf=0.0, random_state=1083821166,\n",
      "          splitter='random')\n",
      "max_samples = 790\n",
      "{'behaviour': 'new', 'bootstrap': False, 'contamination': 'legacy', 'max_features': 1.0, 'max_samples': 790, 'n_estimators': 100, 'n_jobs': None, 'random_state': None, 'verbose': 0}\n"
     ]
    },
    {
     "name": "stderr",
     "output_type": "stream",
     "text": [
      "/Users/thesard/anaconda3/lib/python3.7/site-packages/sklearn/ensemble/iforest.py:213: FutureWarning: default contamination parameter 0.1 will change in version 0.22 to \"auto\". This will change the predict method behavior.\n",
      "  FutureWarning)\n"
     ]
    },
    {
     "name": "stdout",
     "output_type": "stream",
     "text": [
      "Information about the first tree\n",
      "The tree = ExtraTreeRegressor(criterion='mse', max_depth=10, max_features=1,\n",
      "          max_leaf_nodes=None, min_impurity_decrease=0.0,\n",
      "          min_impurity_split=None, min_samples_leaf=1, min_samples_split=2,\n",
      "          min_weight_fraction_leaf=0.0, random_state=1783854874,\n",
      "          splitter='random')\n",
      "max_samples = 795\n",
      "{'behaviour': 'new', 'bootstrap': False, 'contamination': 'legacy', 'max_features': 1.0, 'max_samples': 795, 'n_estimators': 100, 'n_jobs': None, 'random_state': None, 'verbose': 0}\n"
     ]
    },
    {
     "name": "stderr",
     "output_type": "stream",
     "text": [
      "/Users/thesard/anaconda3/lib/python3.7/site-packages/sklearn/ensemble/iforest.py:213: FutureWarning: default contamination parameter 0.1 will change in version 0.22 to \"auto\". This will change the predict method behavior.\n",
      "  FutureWarning)\n"
     ]
    },
    {
     "name": "stdout",
     "output_type": "stream",
     "text": [
      "Information about the first tree\n",
      "The tree = ExtraTreeRegressor(criterion='mse', max_depth=10, max_features=1,\n",
      "          max_leaf_nodes=None, min_impurity_decrease=0.0,\n",
      "          min_impurity_split=None, min_samples_leaf=1, min_samples_split=2,\n",
      "          min_weight_fraction_leaf=0.0, random_state=1849131179,\n",
      "          splitter='random')\n",
      "max_samples = 800\n",
      "{'behaviour': 'new', 'bootstrap': False, 'contamination': 'legacy', 'max_features': 1.0, 'max_samples': 800, 'n_estimators': 100, 'n_jobs': None, 'random_state': None, 'verbose': 0}\n"
     ]
    },
    {
     "name": "stderr",
     "output_type": "stream",
     "text": [
      "/Users/thesard/anaconda3/lib/python3.7/site-packages/sklearn/ensemble/iforest.py:213: FutureWarning: default contamination parameter 0.1 will change in version 0.22 to \"auto\". This will change the predict method behavior.\n",
      "  FutureWarning)\n"
     ]
    },
    {
     "name": "stdout",
     "output_type": "stream",
     "text": [
      "Information about the first tree\n",
      "The tree = ExtraTreeRegressor(criterion='mse', max_depth=10, max_features=1,\n",
      "          max_leaf_nodes=None, min_impurity_decrease=0.0,\n",
      "          min_impurity_split=None, min_samples_leaf=1, min_samples_split=2,\n",
      "          min_weight_fraction_leaf=0.0, random_state=1702080947,\n",
      "          splitter='random')\n",
      "max_samples = 805\n",
      "{'behaviour': 'new', 'bootstrap': False, 'contamination': 'legacy', 'max_features': 1.0, 'max_samples': 805, 'n_estimators': 100, 'n_jobs': None, 'random_state': None, 'verbose': 0}\n"
     ]
    },
    {
     "name": "stderr",
     "output_type": "stream",
     "text": [
      "/Users/thesard/anaconda3/lib/python3.7/site-packages/sklearn/ensemble/iforest.py:213: FutureWarning: default contamination parameter 0.1 will change in version 0.22 to \"auto\". This will change the predict method behavior.\n",
      "  FutureWarning)\n"
     ]
    },
    {
     "name": "stdout",
     "output_type": "stream",
     "text": [
      "Information about the first tree\n",
      "The tree = ExtraTreeRegressor(criterion='mse', max_depth=10, max_features=1,\n",
      "          max_leaf_nodes=None, min_impurity_decrease=0.0,\n",
      "          min_impurity_split=None, min_samples_leaf=1, min_samples_split=2,\n",
      "          min_weight_fraction_leaf=0.0, random_state=900473404,\n",
      "          splitter='random')\n",
      "max_samples = 810\n",
      "{'behaviour': 'new', 'bootstrap': False, 'contamination': 'legacy', 'max_features': 1.0, 'max_samples': 810, 'n_estimators': 100, 'n_jobs': None, 'random_state': None, 'verbose': 0}\n"
     ]
    },
    {
     "name": "stderr",
     "output_type": "stream",
     "text": [
      "/Users/thesard/anaconda3/lib/python3.7/site-packages/sklearn/ensemble/iforest.py:213: FutureWarning: default contamination parameter 0.1 will change in version 0.22 to \"auto\". This will change the predict method behavior.\n",
      "  FutureWarning)\n"
     ]
    },
    {
     "name": "stdout",
     "output_type": "stream",
     "text": [
      "Information about the first tree\n",
      "The tree = ExtraTreeRegressor(criterion='mse', max_depth=10, max_features=1,\n",
      "          max_leaf_nodes=None, min_impurity_decrease=0.0,\n",
      "          min_impurity_split=None, min_samples_leaf=1, min_samples_split=2,\n",
      "          min_weight_fraction_leaf=0.0, random_state=975034732,\n",
      "          splitter='random')\n",
      "max_samples = 815\n",
      "{'behaviour': 'new', 'bootstrap': False, 'contamination': 'legacy', 'max_features': 1.0, 'max_samples': 815, 'n_estimators': 100, 'n_jobs': None, 'random_state': None, 'verbose': 0}\n"
     ]
    },
    {
     "name": "stderr",
     "output_type": "stream",
     "text": [
      "/Users/thesard/anaconda3/lib/python3.7/site-packages/sklearn/ensemble/iforest.py:213: FutureWarning: default contamination parameter 0.1 will change in version 0.22 to \"auto\". This will change the predict method behavior.\n",
      "  FutureWarning)\n"
     ]
    },
    {
     "name": "stdout",
     "output_type": "stream",
     "text": [
      "Information about the first tree\n",
      "The tree = ExtraTreeRegressor(criterion='mse', max_depth=10, max_features=1,\n",
      "          max_leaf_nodes=None, min_impurity_decrease=0.0,\n",
      "          min_impurity_split=None, min_samples_leaf=1, min_samples_split=2,\n",
      "          min_weight_fraction_leaf=0.0, random_state=1486646661,\n",
      "          splitter='random')\n",
      "max_samples = 820\n",
      "{'behaviour': 'new', 'bootstrap': False, 'contamination': 'legacy', 'max_features': 1.0, 'max_samples': 820, 'n_estimators': 100, 'n_jobs': None, 'random_state': None, 'verbose': 0}\n"
     ]
    },
    {
     "name": "stderr",
     "output_type": "stream",
     "text": [
      "/Users/thesard/anaconda3/lib/python3.7/site-packages/sklearn/ensemble/iforest.py:213: FutureWarning: default contamination parameter 0.1 will change in version 0.22 to \"auto\". This will change the predict method behavior.\n",
      "  FutureWarning)\n"
     ]
    },
    {
     "name": "stdout",
     "output_type": "stream",
     "text": [
      "Information about the first tree\n",
      "The tree = ExtraTreeRegressor(criterion='mse', max_depth=10, max_features=1,\n",
      "          max_leaf_nodes=None, min_impurity_decrease=0.0,\n",
      "          min_impurity_split=None, min_samples_leaf=1, min_samples_split=2,\n",
      "          min_weight_fraction_leaf=0.0, random_state=564908213,\n",
      "          splitter='random')\n",
      "max_samples = 825\n",
      "{'behaviour': 'new', 'bootstrap': False, 'contamination': 'legacy', 'max_features': 1.0, 'max_samples': 825, 'n_estimators': 100, 'n_jobs': None, 'random_state': None, 'verbose': 0}\n"
     ]
    },
    {
     "name": "stderr",
     "output_type": "stream",
     "text": [
      "/Users/thesard/anaconda3/lib/python3.7/site-packages/sklearn/ensemble/iforest.py:213: FutureWarning: default contamination parameter 0.1 will change in version 0.22 to \"auto\". This will change the predict method behavior.\n",
      "  FutureWarning)\n"
     ]
    },
    {
     "name": "stdout",
     "output_type": "stream",
     "text": [
      "Information about the first tree\n",
      "The tree = ExtraTreeRegressor(criterion='mse', max_depth=10, max_features=1,\n",
      "          max_leaf_nodes=None, min_impurity_decrease=0.0,\n",
      "          min_impurity_split=None, min_samples_leaf=1, min_samples_split=2,\n",
      "          min_weight_fraction_leaf=0.0, random_state=1414014652,\n",
      "          splitter='random')\n",
      "max_samples = 830\n",
      "{'behaviour': 'new', 'bootstrap': False, 'contamination': 'legacy', 'max_features': 1.0, 'max_samples': 830, 'n_estimators': 100, 'n_jobs': None, 'random_state': None, 'verbose': 0}\n"
     ]
    },
    {
     "name": "stderr",
     "output_type": "stream",
     "text": [
      "/Users/thesard/anaconda3/lib/python3.7/site-packages/sklearn/ensemble/iforest.py:213: FutureWarning: default contamination parameter 0.1 will change in version 0.22 to \"auto\". This will change the predict method behavior.\n",
      "  FutureWarning)\n"
     ]
    },
    {
     "name": "stdout",
     "output_type": "stream",
     "text": [
      "Information about the first tree\n",
      "The tree = ExtraTreeRegressor(criterion='mse', max_depth=10, max_features=1,\n",
      "          max_leaf_nodes=None, min_impurity_decrease=0.0,\n",
      "          min_impurity_split=None, min_samples_leaf=1, min_samples_split=2,\n",
      "          min_weight_fraction_leaf=0.0, random_state=827408156,\n",
      "          splitter='random')\n",
      "max_samples = 835\n",
      "{'behaviour': 'new', 'bootstrap': False, 'contamination': 'legacy', 'max_features': 1.0, 'max_samples': 835, 'n_estimators': 100, 'n_jobs': None, 'random_state': None, 'verbose': 0}\n"
     ]
    },
    {
     "name": "stderr",
     "output_type": "stream",
     "text": [
      "/Users/thesard/anaconda3/lib/python3.7/site-packages/sklearn/ensemble/iforest.py:213: FutureWarning: default contamination parameter 0.1 will change in version 0.22 to \"auto\". This will change the predict method behavior.\n",
      "  FutureWarning)\n"
     ]
    },
    {
     "name": "stdout",
     "output_type": "stream",
     "text": [
      "Information about the first tree\n",
      "The tree = ExtraTreeRegressor(criterion='mse', max_depth=10, max_features=1,\n",
      "          max_leaf_nodes=None, min_impurity_decrease=0.0,\n",
      "          min_impurity_split=None, min_samples_leaf=1, min_samples_split=2,\n",
      "          min_weight_fraction_leaf=0.0, random_state=140448639,\n",
      "          splitter='random')\n",
      "max_samples = 840\n",
      "{'behaviour': 'new', 'bootstrap': False, 'contamination': 'legacy', 'max_features': 1.0, 'max_samples': 840, 'n_estimators': 100, 'n_jobs': None, 'random_state': None, 'verbose': 0}\n"
     ]
    },
    {
     "name": "stderr",
     "output_type": "stream",
     "text": [
      "/Users/thesard/anaconda3/lib/python3.7/site-packages/sklearn/ensemble/iforest.py:213: FutureWarning: default contamination parameter 0.1 will change in version 0.22 to \"auto\". This will change the predict method behavior.\n",
      "  FutureWarning)\n"
     ]
    },
    {
     "name": "stdout",
     "output_type": "stream",
     "text": [
      "Information about the first tree\n",
      "The tree = ExtraTreeRegressor(criterion='mse', max_depth=10, max_features=1,\n",
      "          max_leaf_nodes=None, min_impurity_decrease=0.0,\n",
      "          min_impurity_split=None, min_samples_leaf=1, min_samples_split=2,\n",
      "          min_weight_fraction_leaf=0.0, random_state=1348958817,\n",
      "          splitter='random')\n",
      "max_samples = 845\n",
      "{'behaviour': 'new', 'bootstrap': False, 'contamination': 'legacy', 'max_features': 1.0, 'max_samples': 845, 'n_estimators': 100, 'n_jobs': None, 'random_state': None, 'verbose': 0}\n"
     ]
    },
    {
     "name": "stderr",
     "output_type": "stream",
     "text": [
      "/Users/thesard/anaconda3/lib/python3.7/site-packages/sklearn/ensemble/iforest.py:213: FutureWarning: default contamination parameter 0.1 will change in version 0.22 to \"auto\". This will change the predict method behavior.\n",
      "  FutureWarning)\n"
     ]
    },
    {
     "name": "stdout",
     "output_type": "stream",
     "text": [
      "Information about the first tree\n",
      "The tree = ExtraTreeRegressor(criterion='mse', max_depth=10, max_features=1,\n",
      "          max_leaf_nodes=None, min_impurity_decrease=0.0,\n",
      "          min_impurity_split=None, min_samples_leaf=1, min_samples_split=2,\n",
      "          min_weight_fraction_leaf=0.0, random_state=1553316264,\n",
      "          splitter='random')\n",
      "max_samples = 850\n",
      "{'behaviour': 'new', 'bootstrap': False, 'contamination': 'legacy', 'max_features': 1.0, 'max_samples': 850, 'n_estimators': 100, 'n_jobs': None, 'random_state': None, 'verbose': 0}\n"
     ]
    },
    {
     "name": "stderr",
     "output_type": "stream",
     "text": [
      "/Users/thesard/anaconda3/lib/python3.7/site-packages/sklearn/ensemble/iforest.py:213: FutureWarning: default contamination parameter 0.1 will change in version 0.22 to \"auto\". This will change the predict method behavior.\n",
      "  FutureWarning)\n"
     ]
    },
    {
     "name": "stdout",
     "output_type": "stream",
     "text": [
      "Information about the first tree\n",
      "The tree = ExtraTreeRegressor(criterion='mse', max_depth=10, max_features=1,\n",
      "          max_leaf_nodes=None, min_impurity_decrease=0.0,\n",
      "          min_impurity_split=None, min_samples_leaf=1, min_samples_split=2,\n",
      "          min_weight_fraction_leaf=0.0, random_state=325402771,\n",
      "          splitter='random')\n",
      "max_samples = 855\n",
      "{'behaviour': 'new', 'bootstrap': False, 'contamination': 'legacy', 'max_features': 1.0, 'max_samples': 855, 'n_estimators': 100, 'n_jobs': None, 'random_state': None, 'verbose': 0}\n"
     ]
    },
    {
     "name": "stderr",
     "output_type": "stream",
     "text": [
      "/Users/thesard/anaconda3/lib/python3.7/site-packages/sklearn/ensemble/iforest.py:213: FutureWarning: default contamination parameter 0.1 will change in version 0.22 to \"auto\". This will change the predict method behavior.\n",
      "  FutureWarning)\n"
     ]
    },
    {
     "name": "stdout",
     "output_type": "stream",
     "text": [
      "Information about the first tree\n",
      "The tree = ExtraTreeRegressor(criterion='mse', max_depth=10, max_features=1,\n",
      "          max_leaf_nodes=None, min_impurity_decrease=0.0,\n",
      "          min_impurity_split=None, min_samples_leaf=1, min_samples_split=2,\n",
      "          min_weight_fraction_leaf=0.0, random_state=808736841,\n",
      "          splitter='random')\n",
      "max_samples = 860\n",
      "{'behaviour': 'new', 'bootstrap': False, 'contamination': 'legacy', 'max_features': 1.0, 'max_samples': 860, 'n_estimators': 100, 'n_jobs': None, 'random_state': None, 'verbose': 0}\n"
     ]
    },
    {
     "name": "stderr",
     "output_type": "stream",
     "text": [
      "/Users/thesard/anaconda3/lib/python3.7/site-packages/sklearn/ensemble/iforest.py:213: FutureWarning: default contamination parameter 0.1 will change in version 0.22 to \"auto\". This will change the predict method behavior.\n",
      "  FutureWarning)\n"
     ]
    },
    {
     "name": "stdout",
     "output_type": "stream",
     "text": [
      "Information about the first tree\n",
      "The tree = ExtraTreeRegressor(criterion='mse', max_depth=10, max_features=1,\n",
      "          max_leaf_nodes=None, min_impurity_decrease=0.0,\n",
      "          min_impurity_split=None, min_samples_leaf=1, min_samples_split=2,\n",
      "          min_weight_fraction_leaf=0.0, random_state=1489866420,\n",
      "          splitter='random')\n",
      "max_samples = 865\n",
      "{'behaviour': 'new', 'bootstrap': False, 'contamination': 'legacy', 'max_features': 1.0, 'max_samples': 865, 'n_estimators': 100, 'n_jobs': None, 'random_state': None, 'verbose': 0}\n"
     ]
    },
    {
     "name": "stderr",
     "output_type": "stream",
     "text": [
      "/Users/thesard/anaconda3/lib/python3.7/site-packages/sklearn/ensemble/iforest.py:213: FutureWarning: default contamination parameter 0.1 will change in version 0.22 to \"auto\". This will change the predict method behavior.\n",
      "  FutureWarning)\n"
     ]
    },
    {
     "name": "stdout",
     "output_type": "stream",
     "text": [
      "Information about the first tree\n",
      "The tree = ExtraTreeRegressor(criterion='mse', max_depth=10, max_features=1,\n",
      "          max_leaf_nodes=None, min_impurity_decrease=0.0,\n",
      "          min_impurity_split=None, min_samples_leaf=1, min_samples_split=2,\n",
      "          min_weight_fraction_leaf=0.0, random_state=915994972,\n",
      "          splitter='random')\n",
      "max_samples = 870\n",
      "{'behaviour': 'new', 'bootstrap': False, 'contamination': 'legacy', 'max_features': 1.0, 'max_samples': 870, 'n_estimators': 100, 'n_jobs': None, 'random_state': None, 'verbose': 0}\n"
     ]
    },
    {
     "name": "stderr",
     "output_type": "stream",
     "text": [
      "/Users/thesard/anaconda3/lib/python3.7/site-packages/sklearn/ensemble/iforest.py:213: FutureWarning: default contamination parameter 0.1 will change in version 0.22 to \"auto\". This will change the predict method behavior.\n",
      "  FutureWarning)\n"
     ]
    },
    {
     "name": "stdout",
     "output_type": "stream",
     "text": [
      "Information about the first tree\n",
      "The tree = ExtraTreeRegressor(criterion='mse', max_depth=10, max_features=1,\n",
      "          max_leaf_nodes=None, min_impurity_decrease=0.0,\n",
      "          min_impurity_split=None, min_samples_leaf=1, min_samples_split=2,\n",
      "          min_weight_fraction_leaf=0.0, random_state=1806323346,\n",
      "          splitter='random')\n",
      "max_samples = 875\n",
      "{'behaviour': 'new', 'bootstrap': False, 'contamination': 'legacy', 'max_features': 1.0, 'max_samples': 875, 'n_estimators': 100, 'n_jobs': None, 'random_state': None, 'verbose': 0}\n"
     ]
    },
    {
     "name": "stderr",
     "output_type": "stream",
     "text": [
      "/Users/thesard/anaconda3/lib/python3.7/site-packages/sklearn/ensemble/iforest.py:213: FutureWarning: default contamination parameter 0.1 will change in version 0.22 to \"auto\". This will change the predict method behavior.\n",
      "  FutureWarning)\n"
     ]
    },
    {
     "name": "stdout",
     "output_type": "stream",
     "text": [
      "Information about the first tree\n",
      "The tree = ExtraTreeRegressor(criterion='mse', max_depth=10, max_features=1,\n",
      "          max_leaf_nodes=None, min_impurity_decrease=0.0,\n",
      "          min_impurity_split=None, min_samples_leaf=1, min_samples_split=2,\n",
      "          min_weight_fraction_leaf=0.0, random_state=1384422441,\n",
      "          splitter='random')\n",
      "max_samples = 880\n",
      "{'behaviour': 'new', 'bootstrap': False, 'contamination': 'legacy', 'max_features': 1.0, 'max_samples': 880, 'n_estimators': 100, 'n_jobs': None, 'random_state': None, 'verbose': 0}\n"
     ]
    },
    {
     "name": "stderr",
     "output_type": "stream",
     "text": [
      "/Users/thesard/anaconda3/lib/python3.7/site-packages/sklearn/ensemble/iforest.py:213: FutureWarning: default contamination parameter 0.1 will change in version 0.22 to \"auto\". This will change the predict method behavior.\n",
      "  FutureWarning)\n"
     ]
    },
    {
     "name": "stdout",
     "output_type": "stream",
     "text": [
      "Information about the first tree\n",
      "The tree = ExtraTreeRegressor(criterion='mse', max_depth=10, max_features=1,\n",
      "          max_leaf_nodes=None, min_impurity_decrease=0.0,\n",
      "          min_impurity_split=None, min_samples_leaf=1, min_samples_split=2,\n",
      "          min_weight_fraction_leaf=0.0, random_state=1146611212,\n",
      "          splitter='random')\n",
      "max_samples = 885\n",
      "{'behaviour': 'new', 'bootstrap': False, 'contamination': 'legacy', 'max_features': 1.0, 'max_samples': 885, 'n_estimators': 100, 'n_jobs': None, 'random_state': None, 'verbose': 0}\n"
     ]
    },
    {
     "name": "stderr",
     "output_type": "stream",
     "text": [
      "/Users/thesard/anaconda3/lib/python3.7/site-packages/sklearn/ensemble/iforest.py:213: FutureWarning: default contamination parameter 0.1 will change in version 0.22 to \"auto\". This will change the predict method behavior.\n",
      "  FutureWarning)\n"
     ]
    },
    {
     "name": "stdout",
     "output_type": "stream",
     "text": [
      "Information about the first tree\n",
      "The tree = ExtraTreeRegressor(criterion='mse', max_depth=10, max_features=1,\n",
      "          max_leaf_nodes=None, min_impurity_decrease=0.0,\n",
      "          min_impurity_split=None, min_samples_leaf=1, min_samples_split=2,\n",
      "          min_weight_fraction_leaf=0.0, random_state=1169392669,\n",
      "          splitter='random')\n",
      "max_samples = 890\n",
      "{'behaviour': 'new', 'bootstrap': False, 'contamination': 'legacy', 'max_features': 1.0, 'max_samples': 890, 'n_estimators': 100, 'n_jobs': None, 'random_state': None, 'verbose': 0}\n"
     ]
    },
    {
     "name": "stderr",
     "output_type": "stream",
     "text": [
      "/Users/thesard/anaconda3/lib/python3.7/site-packages/sklearn/ensemble/iforest.py:213: FutureWarning: default contamination parameter 0.1 will change in version 0.22 to \"auto\". This will change the predict method behavior.\n",
      "  FutureWarning)\n"
     ]
    },
    {
     "name": "stdout",
     "output_type": "stream",
     "text": [
      "Information about the first tree\n",
      "The tree = ExtraTreeRegressor(criterion='mse', max_depth=10, max_features=1,\n",
      "          max_leaf_nodes=None, min_impurity_decrease=0.0,\n",
      "          min_impurity_split=None, min_samples_leaf=1, min_samples_split=2,\n",
      "          min_weight_fraction_leaf=0.0, random_state=557009784,\n",
      "          splitter='random')\n",
      "max_samples = 895\n",
      "{'behaviour': 'new', 'bootstrap': False, 'contamination': 'legacy', 'max_features': 1.0, 'max_samples': 895, 'n_estimators': 100, 'n_jobs': None, 'random_state': None, 'verbose': 0}\n"
     ]
    },
    {
     "name": "stderr",
     "output_type": "stream",
     "text": [
      "/Users/thesard/anaconda3/lib/python3.7/site-packages/sklearn/ensemble/iforest.py:213: FutureWarning: default contamination parameter 0.1 will change in version 0.22 to \"auto\". This will change the predict method behavior.\n",
      "  FutureWarning)\n"
     ]
    },
    {
     "name": "stdout",
     "output_type": "stream",
     "text": [
      "Information about the first tree\n",
      "The tree = ExtraTreeRegressor(criterion='mse', max_depth=10, max_features=1,\n",
      "          max_leaf_nodes=None, min_impurity_decrease=0.0,\n",
      "          min_impurity_split=None, min_samples_leaf=1, min_samples_split=2,\n",
      "          min_weight_fraction_leaf=0.0, random_state=940413107,\n",
      "          splitter='random')\n",
      "max_samples = 900\n",
      "{'behaviour': 'new', 'bootstrap': False, 'contamination': 'legacy', 'max_features': 1.0, 'max_samples': 900, 'n_estimators': 100, 'n_jobs': None, 'random_state': None, 'verbose': 0}\n"
     ]
    },
    {
     "name": "stderr",
     "output_type": "stream",
     "text": [
      "/Users/thesard/anaconda3/lib/python3.7/site-packages/sklearn/ensemble/iforest.py:213: FutureWarning: default contamination parameter 0.1 will change in version 0.22 to \"auto\". This will change the predict method behavior.\n",
      "  FutureWarning)\n"
     ]
    },
    {
     "name": "stdout",
     "output_type": "stream",
     "text": [
      "Information about the first tree\n",
      "The tree = ExtraTreeRegressor(criterion='mse', max_depth=10, max_features=1,\n",
      "          max_leaf_nodes=None, min_impurity_decrease=0.0,\n",
      "          min_impurity_split=None, min_samples_leaf=1, min_samples_split=2,\n",
      "          min_weight_fraction_leaf=0.0, random_state=1873572163,\n",
      "          splitter='random')\n",
      "max_samples = 905\n",
      "{'behaviour': 'new', 'bootstrap': False, 'contamination': 'legacy', 'max_features': 1.0, 'max_samples': 905, 'n_estimators': 100, 'n_jobs': None, 'random_state': None, 'verbose': 0}\n"
     ]
    },
    {
     "name": "stderr",
     "output_type": "stream",
     "text": [
      "/Users/thesard/anaconda3/lib/python3.7/site-packages/sklearn/ensemble/iforest.py:213: FutureWarning: default contamination parameter 0.1 will change in version 0.22 to \"auto\". This will change the predict method behavior.\n",
      "  FutureWarning)\n"
     ]
    },
    {
     "name": "stdout",
     "output_type": "stream",
     "text": [
      "Information about the first tree\n",
      "The tree = ExtraTreeRegressor(criterion='mse', max_depth=10, max_features=1,\n",
      "          max_leaf_nodes=None, min_impurity_decrease=0.0,\n",
      "          min_impurity_split=None, min_samples_leaf=1, min_samples_split=2,\n",
      "          min_weight_fraction_leaf=0.0, random_state=1927129992,\n",
      "          splitter='random')\n",
      "max_samples = 910\n",
      "{'behaviour': 'new', 'bootstrap': False, 'contamination': 'legacy', 'max_features': 1.0, 'max_samples': 910, 'n_estimators': 100, 'n_jobs': None, 'random_state': None, 'verbose': 0}\n"
     ]
    },
    {
     "name": "stderr",
     "output_type": "stream",
     "text": [
      "/Users/thesard/anaconda3/lib/python3.7/site-packages/sklearn/ensemble/iforest.py:213: FutureWarning: default contamination parameter 0.1 will change in version 0.22 to \"auto\". This will change the predict method behavior.\n",
      "  FutureWarning)\n"
     ]
    },
    {
     "name": "stdout",
     "output_type": "stream",
     "text": [
      "Information about the first tree\n",
      "The tree = ExtraTreeRegressor(criterion='mse', max_depth=10, max_features=1,\n",
      "          max_leaf_nodes=None, min_impurity_decrease=0.0,\n",
      "          min_impurity_split=None, min_samples_leaf=1, min_samples_split=2,\n",
      "          min_weight_fraction_leaf=0.0, random_state=610797696,\n",
      "          splitter='random')\n",
      "max_samples = 915\n",
      "{'behaviour': 'new', 'bootstrap': False, 'contamination': 'legacy', 'max_features': 1.0, 'max_samples': 915, 'n_estimators': 100, 'n_jobs': None, 'random_state': None, 'verbose': 0}\n"
     ]
    },
    {
     "name": "stderr",
     "output_type": "stream",
     "text": [
      "/Users/thesard/anaconda3/lib/python3.7/site-packages/sklearn/ensemble/iforest.py:213: FutureWarning: default contamination parameter 0.1 will change in version 0.22 to \"auto\". This will change the predict method behavior.\n",
      "  FutureWarning)\n"
     ]
    },
    {
     "name": "stdout",
     "output_type": "stream",
     "text": [
      "Information about the first tree\n",
      "The tree = ExtraTreeRegressor(criterion='mse', max_depth=10, max_features=1,\n",
      "          max_leaf_nodes=None, min_impurity_decrease=0.0,\n",
      "          min_impurity_split=None, min_samples_leaf=1, min_samples_split=2,\n",
      "          min_weight_fraction_leaf=0.0, random_state=405913903,\n",
      "          splitter='random')\n",
      "max_samples = 920\n",
      "{'behaviour': 'new', 'bootstrap': False, 'contamination': 'legacy', 'max_features': 1.0, 'max_samples': 920, 'n_estimators': 100, 'n_jobs': None, 'random_state': None, 'verbose': 0}\n"
     ]
    },
    {
     "name": "stderr",
     "output_type": "stream",
     "text": [
      "/Users/thesard/anaconda3/lib/python3.7/site-packages/sklearn/ensemble/iforest.py:213: FutureWarning: default contamination parameter 0.1 will change in version 0.22 to \"auto\". This will change the predict method behavior.\n",
      "  FutureWarning)\n"
     ]
    },
    {
     "name": "stdout",
     "output_type": "stream",
     "text": [
      "Information about the first tree\n",
      "The tree = ExtraTreeRegressor(criterion='mse', max_depth=10, max_features=1,\n",
      "          max_leaf_nodes=None, min_impurity_decrease=0.0,\n",
      "          min_impurity_split=None, min_samples_leaf=1, min_samples_split=2,\n",
      "          min_weight_fraction_leaf=0.0, random_state=364141551,\n",
      "          splitter='random')\n",
      "max_samples = 925\n",
      "{'behaviour': 'new', 'bootstrap': False, 'contamination': 'legacy', 'max_features': 1.0, 'max_samples': 925, 'n_estimators': 100, 'n_jobs': None, 'random_state': None, 'verbose': 0}\n"
     ]
    },
    {
     "name": "stderr",
     "output_type": "stream",
     "text": [
      "/Users/thesard/anaconda3/lib/python3.7/site-packages/sklearn/ensemble/iforest.py:213: FutureWarning: default contamination parameter 0.1 will change in version 0.22 to \"auto\". This will change the predict method behavior.\n",
      "  FutureWarning)\n"
     ]
    },
    {
     "name": "stdout",
     "output_type": "stream",
     "text": [
      "Information about the first tree\n",
      "The tree = ExtraTreeRegressor(criterion='mse', max_depth=10, max_features=1,\n",
      "          max_leaf_nodes=None, min_impurity_decrease=0.0,\n",
      "          min_impurity_split=None, min_samples_leaf=1, min_samples_split=2,\n",
      "          min_weight_fraction_leaf=0.0, random_state=913429240,\n",
      "          splitter='random')\n",
      "max_samples = 930\n",
      "{'behaviour': 'new', 'bootstrap': False, 'contamination': 'legacy', 'max_features': 1.0, 'max_samples': 930, 'n_estimators': 100, 'n_jobs': None, 'random_state': None, 'verbose': 0}\n"
     ]
    },
    {
     "name": "stderr",
     "output_type": "stream",
     "text": [
      "/Users/thesard/anaconda3/lib/python3.7/site-packages/sklearn/ensemble/iforest.py:213: FutureWarning: default contamination parameter 0.1 will change in version 0.22 to \"auto\". This will change the predict method behavior.\n",
      "  FutureWarning)\n"
     ]
    },
    {
     "name": "stdout",
     "output_type": "stream",
     "text": [
      "Information about the first tree\n",
      "The tree = ExtraTreeRegressor(criterion='mse', max_depth=10, max_features=1,\n",
      "          max_leaf_nodes=None, min_impurity_decrease=0.0,\n",
      "          min_impurity_split=None, min_samples_leaf=1, min_samples_split=2,\n",
      "          min_weight_fraction_leaf=0.0, random_state=1126215737,\n",
      "          splitter='random')\n",
      "max_samples = 935\n",
      "{'behaviour': 'new', 'bootstrap': False, 'contamination': 'legacy', 'max_features': 1.0, 'max_samples': 935, 'n_estimators': 100, 'n_jobs': None, 'random_state': None, 'verbose': 0}\n"
     ]
    },
    {
     "name": "stderr",
     "output_type": "stream",
     "text": [
      "/Users/thesard/anaconda3/lib/python3.7/site-packages/sklearn/ensemble/iforest.py:213: FutureWarning: default contamination parameter 0.1 will change in version 0.22 to \"auto\". This will change the predict method behavior.\n",
      "  FutureWarning)\n"
     ]
    },
    {
     "name": "stdout",
     "output_type": "stream",
     "text": [
      "Information about the first tree\n",
      "The tree = ExtraTreeRegressor(criterion='mse', max_depth=10, max_features=1,\n",
      "          max_leaf_nodes=None, min_impurity_decrease=0.0,\n",
      "          min_impurity_split=None, min_samples_leaf=1, min_samples_split=2,\n",
      "          min_weight_fraction_leaf=0.0, random_state=740532072,\n",
      "          splitter='random')\n",
      "max_samples = 940\n",
      "{'behaviour': 'new', 'bootstrap': False, 'contamination': 'legacy', 'max_features': 1.0, 'max_samples': 940, 'n_estimators': 100, 'n_jobs': None, 'random_state': None, 'verbose': 0}\n"
     ]
    },
    {
     "name": "stderr",
     "output_type": "stream",
     "text": [
      "/Users/thesard/anaconda3/lib/python3.7/site-packages/sklearn/ensemble/iforest.py:213: FutureWarning: default contamination parameter 0.1 will change in version 0.22 to \"auto\". This will change the predict method behavior.\n",
      "  FutureWarning)\n"
     ]
    },
    {
     "name": "stdout",
     "output_type": "stream",
     "text": [
      "Information about the first tree\n",
      "The tree = ExtraTreeRegressor(criterion='mse', max_depth=10, max_features=1,\n",
      "          max_leaf_nodes=None, min_impurity_decrease=0.0,\n",
      "          min_impurity_split=None, min_samples_leaf=1, min_samples_split=2,\n",
      "          min_weight_fraction_leaf=0.0, random_state=1057184288,\n",
      "          splitter='random')\n",
      "max_samples = 945\n",
      "{'behaviour': 'new', 'bootstrap': False, 'contamination': 'legacy', 'max_features': 1.0, 'max_samples': 945, 'n_estimators': 100, 'n_jobs': None, 'random_state': None, 'verbose': 0}\n"
     ]
    },
    {
     "name": "stderr",
     "output_type": "stream",
     "text": [
      "/Users/thesard/anaconda3/lib/python3.7/site-packages/sklearn/ensemble/iforest.py:213: FutureWarning: default contamination parameter 0.1 will change in version 0.22 to \"auto\". This will change the predict method behavior.\n",
      "  FutureWarning)\n"
     ]
    },
    {
     "name": "stdout",
     "output_type": "stream",
     "text": [
      "Information about the first tree\n",
      "The tree = ExtraTreeRegressor(criterion='mse', max_depth=10, max_features=1,\n",
      "          max_leaf_nodes=None, min_impurity_decrease=0.0,\n",
      "          min_impurity_split=None, min_samples_leaf=1, min_samples_split=2,\n",
      "          min_weight_fraction_leaf=0.0, random_state=1384898292,\n",
      "          splitter='random')\n",
      "max_samples = 950\n",
      "{'behaviour': 'new', 'bootstrap': False, 'contamination': 'legacy', 'max_features': 1.0, 'max_samples': 950, 'n_estimators': 100, 'n_jobs': None, 'random_state': None, 'verbose': 0}\n"
     ]
    },
    {
     "name": "stderr",
     "output_type": "stream",
     "text": [
      "/Users/thesard/anaconda3/lib/python3.7/site-packages/sklearn/ensemble/iforest.py:213: FutureWarning: default contamination parameter 0.1 will change in version 0.22 to \"auto\". This will change the predict method behavior.\n",
      "  FutureWarning)\n"
     ]
    },
    {
     "name": "stdout",
     "output_type": "stream",
     "text": [
      "Information about the first tree\n",
      "The tree = ExtraTreeRegressor(criterion='mse', max_depth=10, max_features=1,\n",
      "          max_leaf_nodes=None, min_impurity_decrease=0.0,\n",
      "          min_impurity_split=None, min_samples_leaf=1, min_samples_split=2,\n",
      "          min_weight_fraction_leaf=0.0, random_state=1051316689,\n",
      "          splitter='random')\n",
      "max_samples = 955\n",
      "{'behaviour': 'new', 'bootstrap': False, 'contamination': 'legacy', 'max_features': 1.0, 'max_samples': 955, 'n_estimators': 100, 'n_jobs': None, 'random_state': None, 'verbose': 0}\n"
     ]
    },
    {
     "name": "stderr",
     "output_type": "stream",
     "text": [
      "/Users/thesard/anaconda3/lib/python3.7/site-packages/sklearn/ensemble/iforest.py:213: FutureWarning: default contamination parameter 0.1 will change in version 0.22 to \"auto\". This will change the predict method behavior.\n",
      "  FutureWarning)\n"
     ]
    },
    {
     "name": "stdout",
     "output_type": "stream",
     "text": [
      "Information about the first tree\n",
      "The tree = ExtraTreeRegressor(criterion='mse', max_depth=10, max_features=1,\n",
      "          max_leaf_nodes=None, min_impurity_decrease=0.0,\n",
      "          min_impurity_split=None, min_samples_leaf=1, min_samples_split=2,\n",
      "          min_weight_fraction_leaf=0.0, random_state=73425105,\n",
      "          splitter='random')\n",
      "max_samples = 960\n",
      "{'behaviour': 'new', 'bootstrap': False, 'contamination': 'legacy', 'max_features': 1.0, 'max_samples': 960, 'n_estimators': 100, 'n_jobs': None, 'random_state': None, 'verbose': 0}\n"
     ]
    },
    {
     "name": "stderr",
     "output_type": "stream",
     "text": [
      "/Users/thesard/anaconda3/lib/python3.7/site-packages/sklearn/ensemble/iforest.py:213: FutureWarning: default contamination parameter 0.1 will change in version 0.22 to \"auto\". This will change the predict method behavior.\n",
      "  FutureWarning)\n"
     ]
    },
    {
     "name": "stdout",
     "output_type": "stream",
     "text": [
      "Information about the first tree\n",
      "The tree = ExtraTreeRegressor(criterion='mse', max_depth=10, max_features=1,\n",
      "          max_leaf_nodes=None, min_impurity_decrease=0.0,\n",
      "          min_impurity_split=None, min_samples_leaf=1, min_samples_split=2,\n",
      "          min_weight_fraction_leaf=0.0, random_state=1972067444,\n",
      "          splitter='random')\n",
      "max_samples = 965\n",
      "{'behaviour': 'new', 'bootstrap': False, 'contamination': 'legacy', 'max_features': 1.0, 'max_samples': 965, 'n_estimators': 100, 'n_jobs': None, 'random_state': None, 'verbose': 0}\n"
     ]
    },
    {
     "name": "stderr",
     "output_type": "stream",
     "text": [
      "/Users/thesard/anaconda3/lib/python3.7/site-packages/sklearn/ensemble/iforest.py:213: FutureWarning: default contamination parameter 0.1 will change in version 0.22 to \"auto\". This will change the predict method behavior.\n",
      "  FutureWarning)\n"
     ]
    },
    {
     "name": "stdout",
     "output_type": "stream",
     "text": [
      "Information about the first tree\n",
      "The tree = ExtraTreeRegressor(criterion='mse', max_depth=10, max_features=1,\n",
      "          max_leaf_nodes=None, min_impurity_decrease=0.0,\n",
      "          min_impurity_split=None, min_samples_leaf=1, min_samples_split=2,\n",
      "          min_weight_fraction_leaf=0.0, random_state=1494125898,\n",
      "          splitter='random')\n",
      "max_samples = 970\n",
      "{'behaviour': 'new', 'bootstrap': False, 'contamination': 'legacy', 'max_features': 1.0, 'max_samples': 970, 'n_estimators': 100, 'n_jobs': None, 'random_state': None, 'verbose': 0}\n"
     ]
    },
    {
     "name": "stderr",
     "output_type": "stream",
     "text": [
      "/Users/thesard/anaconda3/lib/python3.7/site-packages/sklearn/ensemble/iforest.py:213: FutureWarning: default contamination parameter 0.1 will change in version 0.22 to \"auto\". This will change the predict method behavior.\n",
      "  FutureWarning)\n"
     ]
    },
    {
     "name": "stdout",
     "output_type": "stream",
     "text": [
      "Information about the first tree\n",
      "The tree = ExtraTreeRegressor(criterion='mse', max_depth=10, max_features=1,\n",
      "          max_leaf_nodes=None, min_impurity_decrease=0.0,\n",
      "          min_impurity_split=None, min_samples_leaf=1, min_samples_split=2,\n",
      "          min_weight_fraction_leaf=0.0, random_state=116538857,\n",
      "          splitter='random')\n",
      "max_samples = 975\n",
      "{'behaviour': 'new', 'bootstrap': False, 'contamination': 'legacy', 'max_features': 1.0, 'max_samples': 975, 'n_estimators': 100, 'n_jobs': None, 'random_state': None, 'verbose': 0}\n"
     ]
    },
    {
     "name": "stderr",
     "output_type": "stream",
     "text": [
      "/Users/thesard/anaconda3/lib/python3.7/site-packages/sklearn/ensemble/iforest.py:213: FutureWarning: default contamination parameter 0.1 will change in version 0.22 to \"auto\". This will change the predict method behavior.\n",
      "  FutureWarning)\n"
     ]
    },
    {
     "name": "stdout",
     "output_type": "stream",
     "text": [
      "Information about the first tree\n",
      "The tree = ExtraTreeRegressor(criterion='mse', max_depth=10, max_features=1,\n",
      "          max_leaf_nodes=None, min_impurity_decrease=0.0,\n",
      "          min_impurity_split=None, min_samples_leaf=1, min_samples_split=2,\n",
      "          min_weight_fraction_leaf=0.0, random_state=73474288,\n",
      "          splitter='random')\n",
      "max_samples = 980\n",
      "{'behaviour': 'new', 'bootstrap': False, 'contamination': 'legacy', 'max_features': 1.0, 'max_samples': 980, 'n_estimators': 100, 'n_jobs': None, 'random_state': None, 'verbose': 0}\n"
     ]
    },
    {
     "name": "stderr",
     "output_type": "stream",
     "text": [
      "/Users/thesard/anaconda3/lib/python3.7/site-packages/sklearn/ensemble/iforest.py:213: FutureWarning: default contamination parameter 0.1 will change in version 0.22 to \"auto\". This will change the predict method behavior.\n",
      "  FutureWarning)\n"
     ]
    },
    {
     "name": "stdout",
     "output_type": "stream",
     "text": [
      "Information about the first tree\n",
      "The tree = ExtraTreeRegressor(criterion='mse', max_depth=10, max_features=1,\n",
      "          max_leaf_nodes=None, min_impurity_decrease=0.0,\n",
      "          min_impurity_split=None, min_samples_leaf=1, min_samples_split=2,\n",
      "          min_weight_fraction_leaf=0.0, random_state=1048931314,\n",
      "          splitter='random')\n",
      "max_samples = 985\n",
      "{'behaviour': 'new', 'bootstrap': False, 'contamination': 'legacy', 'max_features': 1.0, 'max_samples': 985, 'n_estimators': 100, 'n_jobs': None, 'random_state': None, 'verbose': 0}\n"
     ]
    },
    {
     "name": "stderr",
     "output_type": "stream",
     "text": [
      "/Users/thesard/anaconda3/lib/python3.7/site-packages/sklearn/ensemble/iforest.py:213: FutureWarning: default contamination parameter 0.1 will change in version 0.22 to \"auto\". This will change the predict method behavior.\n",
      "  FutureWarning)\n"
     ]
    },
    {
     "name": "stdout",
     "output_type": "stream",
     "text": [
      "Information about the first tree\n",
      "The tree = ExtraTreeRegressor(criterion='mse', max_depth=10, max_features=1,\n",
      "          max_leaf_nodes=None, min_impurity_decrease=0.0,\n",
      "          min_impurity_split=None, min_samples_leaf=1, min_samples_split=2,\n",
      "          min_weight_fraction_leaf=0.0, random_state=1595106984,\n",
      "          splitter='random')\n",
      "max_samples = 990\n",
      "{'behaviour': 'new', 'bootstrap': False, 'contamination': 'legacy', 'max_features': 1.0, 'max_samples': 990, 'n_estimators': 100, 'n_jobs': None, 'random_state': None, 'verbose': 0}\n"
     ]
    },
    {
     "name": "stderr",
     "output_type": "stream",
     "text": [
      "/Users/thesard/anaconda3/lib/python3.7/site-packages/sklearn/ensemble/iforest.py:213: FutureWarning: default contamination parameter 0.1 will change in version 0.22 to \"auto\". This will change the predict method behavior.\n",
      "  FutureWarning)\n"
     ]
    },
    {
     "name": "stdout",
     "output_type": "stream",
     "text": [
      "Information about the first tree\n",
      "The tree = ExtraTreeRegressor(criterion='mse', max_depth=10, max_features=1,\n",
      "          max_leaf_nodes=None, min_impurity_decrease=0.0,\n",
      "          min_impurity_split=None, min_samples_leaf=1, min_samples_split=2,\n",
      "          min_weight_fraction_leaf=0.0, random_state=784094763,\n",
      "          splitter='random')\n",
      "max_samples = 995\n",
      "{'behaviour': 'new', 'bootstrap': False, 'contamination': 'legacy', 'max_features': 1.0, 'max_samples': 995, 'n_estimators': 100, 'n_jobs': None, 'random_state': None, 'verbose': 0}\n"
     ]
    },
    {
     "name": "stderr",
     "output_type": "stream",
     "text": [
      "/Users/thesard/anaconda3/lib/python3.7/site-packages/sklearn/ensemble/iforest.py:213: FutureWarning: default contamination parameter 0.1 will change in version 0.22 to \"auto\". This will change the predict method behavior.\n",
      "  FutureWarning)\n"
     ]
    },
    {
     "name": "stdout",
     "output_type": "stream",
     "text": [
      "Information about the first tree\n",
      "The tree = ExtraTreeRegressor(criterion='mse', max_depth=10, max_features=1,\n",
      "          max_leaf_nodes=None, min_impurity_decrease=0.0,\n",
      "          min_impurity_split=None, min_samples_leaf=1, min_samples_split=2,\n",
      "          min_weight_fraction_leaf=0.0, random_state=1713459063,\n",
      "          splitter='random')\n",
      "max_samples = 1000\n",
      "{'behaviour': 'new', 'bootstrap': False, 'contamination': 'legacy', 'max_features': 1.0, 'max_samples': 1000, 'n_estimators': 100, 'n_jobs': None, 'random_state': None, 'verbose': 0}\n"
     ]
    },
    {
     "name": "stderr",
     "output_type": "stream",
     "text": [
      "/Users/thesard/anaconda3/lib/python3.7/site-packages/sklearn/ensemble/iforest.py:213: FutureWarning: default contamination parameter 0.1 will change in version 0.22 to \"auto\". This will change the predict method behavior.\n",
      "  FutureWarning)\n"
     ]
    },
    {
     "name": "stdout",
     "output_type": "stream",
     "text": [
      "Information about the first tree\n",
      "The tree = ExtraTreeRegressor(criterion='mse', max_depth=10, max_features=1,\n",
      "          max_leaf_nodes=None, min_impurity_decrease=0.0,\n",
      "          min_impurity_split=None, min_samples_leaf=1, min_samples_split=2,\n",
      "          min_weight_fraction_leaf=0.0, random_state=1832670232,\n",
      "          splitter='random')\n",
      "max_samples = 1005\n",
      "{'behaviour': 'new', 'bootstrap': False, 'contamination': 'legacy', 'max_features': 1.0, 'max_samples': 1005, 'n_estimators': 100, 'n_jobs': None, 'random_state': None, 'verbose': 0}\n"
     ]
    },
    {
     "name": "stderr",
     "output_type": "stream",
     "text": [
      "/Users/thesard/anaconda3/lib/python3.7/site-packages/sklearn/ensemble/iforest.py:213: FutureWarning: default contamination parameter 0.1 will change in version 0.22 to \"auto\". This will change the predict method behavior.\n",
      "  FutureWarning)\n"
     ]
    },
    {
     "name": "stdout",
     "output_type": "stream",
     "text": [
      "Information about the first tree\n",
      "The tree = ExtraTreeRegressor(criterion='mse', max_depth=10, max_features=1,\n",
      "          max_leaf_nodes=None, min_impurity_decrease=0.0,\n",
      "          min_impurity_split=None, min_samples_leaf=1, min_samples_split=2,\n",
      "          min_weight_fraction_leaf=0.0, random_state=165641807,\n",
      "          splitter='random')\n",
      "max_samples = 1010\n",
      "{'behaviour': 'new', 'bootstrap': False, 'contamination': 'legacy', 'max_features': 1.0, 'max_samples': 1010, 'n_estimators': 100, 'n_jobs': None, 'random_state': None, 'verbose': 0}\n"
     ]
    },
    {
     "name": "stderr",
     "output_type": "stream",
     "text": [
      "/Users/thesard/anaconda3/lib/python3.7/site-packages/sklearn/ensemble/iforest.py:213: FutureWarning: default contamination parameter 0.1 will change in version 0.22 to \"auto\". This will change the predict method behavior.\n",
      "  FutureWarning)\n"
     ]
    },
    {
     "name": "stdout",
     "output_type": "stream",
     "text": [
      "Information about the first tree\n",
      "The tree = ExtraTreeRegressor(criterion='mse', max_depth=10, max_features=1,\n",
      "          max_leaf_nodes=None, min_impurity_decrease=0.0,\n",
      "          min_impurity_split=None, min_samples_leaf=1, min_samples_split=2,\n",
      "          min_weight_fraction_leaf=0.0, random_state=1072667892,\n",
      "          splitter='random')\n",
      "max_samples = 1015\n",
      "{'behaviour': 'new', 'bootstrap': False, 'contamination': 'legacy', 'max_features': 1.0, 'max_samples': 1015, 'n_estimators': 100, 'n_jobs': None, 'random_state': None, 'verbose': 0}\n"
     ]
    },
    {
     "name": "stderr",
     "output_type": "stream",
     "text": [
      "/Users/thesard/anaconda3/lib/python3.7/site-packages/sklearn/ensemble/iforest.py:213: FutureWarning: default contamination parameter 0.1 will change in version 0.22 to \"auto\". This will change the predict method behavior.\n",
      "  FutureWarning)\n"
     ]
    },
    {
     "name": "stdout",
     "output_type": "stream",
     "text": [
      "Information about the first tree\n",
      "The tree = ExtraTreeRegressor(criterion='mse', max_depth=10, max_features=1,\n",
      "          max_leaf_nodes=None, min_impurity_decrease=0.0,\n",
      "          min_impurity_split=None, min_samples_leaf=1, min_samples_split=2,\n",
      "          min_weight_fraction_leaf=0.0, random_state=2038580411,\n",
      "          splitter='random')\n",
      "max_samples = 1020\n",
      "{'behaviour': 'new', 'bootstrap': False, 'contamination': 'legacy', 'max_features': 1.0, 'max_samples': 1020, 'n_estimators': 100, 'n_jobs': None, 'random_state': None, 'verbose': 0}\n"
     ]
    },
    {
     "name": "stderr",
     "output_type": "stream",
     "text": [
      "/Users/thesard/anaconda3/lib/python3.7/site-packages/sklearn/ensemble/iforest.py:213: FutureWarning: default contamination parameter 0.1 will change in version 0.22 to \"auto\". This will change the predict method behavior.\n",
      "  FutureWarning)\n"
     ]
    },
    {
     "name": "stdout",
     "output_type": "stream",
     "text": [
      "Information about the first tree\n",
      "The tree = ExtraTreeRegressor(criterion='mse', max_depth=10, max_features=1,\n",
      "          max_leaf_nodes=None, min_impurity_decrease=0.0,\n",
      "          min_impurity_split=None, min_samples_leaf=1, min_samples_split=2,\n",
      "          min_weight_fraction_leaf=0.0, random_state=1589114156,\n",
      "          splitter='random')\n",
      "max_samples = 1025\n",
      "{'behaviour': 'new', 'bootstrap': False, 'contamination': 'legacy', 'max_features': 1.0, 'max_samples': 1025, 'n_estimators': 100, 'n_jobs': None, 'random_state': None, 'verbose': 0}\n"
     ]
    },
    {
     "name": "stderr",
     "output_type": "stream",
     "text": [
      "/Users/thesard/anaconda3/lib/python3.7/site-packages/sklearn/ensemble/iforest.py:213: FutureWarning: default contamination parameter 0.1 will change in version 0.22 to \"auto\". This will change the predict method behavior.\n",
      "  FutureWarning)\n"
     ]
    },
    {
     "name": "stdout",
     "output_type": "stream",
     "text": [
      "Information about the first tree\n",
      "The tree = ExtraTreeRegressor(criterion='mse', max_depth=11, max_features=1,\n",
      "          max_leaf_nodes=None, min_impurity_decrease=0.0,\n",
      "          min_impurity_split=None, min_samples_leaf=1, min_samples_split=2,\n",
      "          min_weight_fraction_leaf=0.0, random_state=515175897,\n",
      "          splitter='random')\n",
      "max_samples = 1030\n",
      "{'behaviour': 'new', 'bootstrap': False, 'contamination': 'legacy', 'max_features': 1.0, 'max_samples': 1030, 'n_estimators': 100, 'n_jobs': None, 'random_state': None, 'verbose': 0}\n"
     ]
    },
    {
     "name": "stderr",
     "output_type": "stream",
     "text": [
      "/Users/thesard/anaconda3/lib/python3.7/site-packages/sklearn/ensemble/iforest.py:213: FutureWarning: default contamination parameter 0.1 will change in version 0.22 to \"auto\". This will change the predict method behavior.\n",
      "  FutureWarning)\n"
     ]
    },
    {
     "name": "stdout",
     "output_type": "stream",
     "text": [
      "Information about the first tree\n",
      "The tree = ExtraTreeRegressor(criterion='mse', max_depth=11, max_features=1,\n",
      "          max_leaf_nodes=None, min_impurity_decrease=0.0,\n",
      "          min_impurity_split=None, min_samples_leaf=1, min_samples_split=2,\n",
      "          min_weight_fraction_leaf=0.0, random_state=171642028,\n",
      "          splitter='random')\n",
      "max_samples = 1035\n",
      "{'behaviour': 'new', 'bootstrap': False, 'contamination': 'legacy', 'max_features': 1.0, 'max_samples': 1035, 'n_estimators': 100, 'n_jobs': None, 'random_state': None, 'verbose': 0}\n"
     ]
    },
    {
     "name": "stderr",
     "output_type": "stream",
     "text": [
      "/Users/thesard/anaconda3/lib/python3.7/site-packages/sklearn/ensemble/iforest.py:213: FutureWarning: default contamination parameter 0.1 will change in version 0.22 to \"auto\". This will change the predict method behavior.\n",
      "  FutureWarning)\n"
     ]
    },
    {
     "name": "stdout",
     "output_type": "stream",
     "text": [
      "Information about the first tree\n",
      "The tree = ExtraTreeRegressor(criterion='mse', max_depth=11, max_features=1,\n",
      "          max_leaf_nodes=None, min_impurity_decrease=0.0,\n",
      "          min_impurity_split=None, min_samples_leaf=1, min_samples_split=2,\n",
      "          min_weight_fraction_leaf=0.0, random_state=1293711819,\n",
      "          splitter='random')\n",
      "max_samples = 1040\n",
      "{'behaviour': 'new', 'bootstrap': False, 'contamination': 'legacy', 'max_features': 1.0, 'max_samples': 1040, 'n_estimators': 100, 'n_jobs': None, 'random_state': None, 'verbose': 0}\n"
     ]
    },
    {
     "name": "stderr",
     "output_type": "stream",
     "text": [
      "/Users/thesard/anaconda3/lib/python3.7/site-packages/sklearn/ensemble/iforest.py:213: FutureWarning: default contamination parameter 0.1 will change in version 0.22 to \"auto\". This will change the predict method behavior.\n",
      "  FutureWarning)\n"
     ]
    },
    {
     "name": "stdout",
     "output_type": "stream",
     "text": [
      "Information about the first tree\n",
      "The tree = ExtraTreeRegressor(criterion='mse', max_depth=11, max_features=1,\n",
      "          max_leaf_nodes=None, min_impurity_decrease=0.0,\n",
      "          min_impurity_split=None, min_samples_leaf=1, min_samples_split=2,\n",
      "          min_weight_fraction_leaf=0.0, random_state=78465412,\n",
      "          splitter='random')\n",
      "max_samples = 1045\n",
      "{'behaviour': 'new', 'bootstrap': False, 'contamination': 'legacy', 'max_features': 1.0, 'max_samples': 1045, 'n_estimators': 100, 'n_jobs': None, 'random_state': None, 'verbose': 0}\n"
     ]
    },
    {
     "name": "stderr",
     "output_type": "stream",
     "text": [
      "/Users/thesard/anaconda3/lib/python3.7/site-packages/sklearn/ensemble/iforest.py:213: FutureWarning: default contamination parameter 0.1 will change in version 0.22 to \"auto\". This will change the predict method behavior.\n",
      "  FutureWarning)\n"
     ]
    },
    {
     "name": "stdout",
     "output_type": "stream",
     "text": [
      "Information about the first tree\n",
      "The tree = ExtraTreeRegressor(criterion='mse', max_depth=11, max_features=1,\n",
      "          max_leaf_nodes=None, min_impurity_decrease=0.0,\n",
      "          min_impurity_split=None, min_samples_leaf=1, min_samples_split=2,\n",
      "          min_weight_fraction_leaf=0.0, random_state=1202939537,\n",
      "          splitter='random')\n",
      "max_samples = 1050\n",
      "{'behaviour': 'new', 'bootstrap': False, 'contamination': 'legacy', 'max_features': 1.0, 'max_samples': 1050, 'n_estimators': 100, 'n_jobs': None, 'random_state': None, 'verbose': 0}\n"
     ]
    },
    {
     "name": "stderr",
     "output_type": "stream",
     "text": [
      "/Users/thesard/anaconda3/lib/python3.7/site-packages/sklearn/ensemble/iforest.py:213: FutureWarning: default contamination parameter 0.1 will change in version 0.22 to \"auto\". This will change the predict method behavior.\n",
      "  FutureWarning)\n"
     ]
    },
    {
     "name": "stdout",
     "output_type": "stream",
     "text": [
      "Information about the first tree\n",
      "The tree = ExtraTreeRegressor(criterion='mse', max_depth=11, max_features=1,\n",
      "          max_leaf_nodes=None, min_impurity_decrease=0.0,\n",
      "          min_impurity_split=None, min_samples_leaf=1, min_samples_split=2,\n",
      "          min_weight_fraction_leaf=0.0, random_state=761380533,\n",
      "          splitter='random')\n",
      "max_samples = 1055\n",
      "{'behaviour': 'new', 'bootstrap': False, 'contamination': 'legacy', 'max_features': 1.0, 'max_samples': 1055, 'n_estimators': 100, 'n_jobs': None, 'random_state': None, 'verbose': 0}\n"
     ]
    },
    {
     "name": "stderr",
     "output_type": "stream",
     "text": [
      "/Users/thesard/anaconda3/lib/python3.7/site-packages/sklearn/ensemble/iforest.py:213: FutureWarning: default contamination parameter 0.1 will change in version 0.22 to \"auto\". This will change the predict method behavior.\n",
      "  FutureWarning)\n"
     ]
    },
    {
     "name": "stdout",
     "output_type": "stream",
     "text": [
      "Information about the first tree\n",
      "The tree = ExtraTreeRegressor(criterion='mse', max_depth=11, max_features=1,\n",
      "          max_leaf_nodes=None, min_impurity_decrease=0.0,\n",
      "          min_impurity_split=None, min_samples_leaf=1, min_samples_split=2,\n",
      "          min_weight_fraction_leaf=0.0, random_state=295796706,\n",
      "          splitter='random')\n",
      "max_samples = 1060\n",
      "{'behaviour': 'new', 'bootstrap': False, 'contamination': 'legacy', 'max_features': 1.0, 'max_samples': 1060, 'n_estimators': 100, 'n_jobs': None, 'random_state': None, 'verbose': 0}\n"
     ]
    },
    {
     "name": "stderr",
     "output_type": "stream",
     "text": [
      "/Users/thesard/anaconda3/lib/python3.7/site-packages/sklearn/ensemble/iforest.py:213: FutureWarning: default contamination parameter 0.1 will change in version 0.22 to \"auto\". This will change the predict method behavior.\n",
      "  FutureWarning)\n"
     ]
    },
    {
     "name": "stdout",
     "output_type": "stream",
     "text": [
      "Information about the first tree\n",
      "The tree = ExtraTreeRegressor(criterion='mse', max_depth=11, max_features=1,\n",
      "          max_leaf_nodes=None, min_impurity_decrease=0.0,\n",
      "          min_impurity_split=None, min_samples_leaf=1, min_samples_split=2,\n",
      "          min_weight_fraction_leaf=0.0, random_state=592754831,\n",
      "          splitter='random')\n",
      "max_samples = 1065\n",
      "{'behaviour': 'new', 'bootstrap': False, 'contamination': 'legacy', 'max_features': 1.0, 'max_samples': 1065, 'n_estimators': 100, 'n_jobs': None, 'random_state': None, 'verbose': 0}\n"
     ]
    },
    {
     "name": "stderr",
     "output_type": "stream",
     "text": [
      "/Users/thesard/anaconda3/lib/python3.7/site-packages/sklearn/ensemble/iforest.py:213: FutureWarning: default contamination parameter 0.1 will change in version 0.22 to \"auto\". This will change the predict method behavior.\n",
      "  FutureWarning)\n"
     ]
    },
    {
     "name": "stdout",
     "output_type": "stream",
     "text": [
      "Information about the first tree\n",
      "The tree = ExtraTreeRegressor(criterion='mse', max_depth=11, max_features=1,\n",
      "          max_leaf_nodes=None, min_impurity_decrease=0.0,\n",
      "          min_impurity_split=None, min_samples_leaf=1, min_samples_split=2,\n",
      "          min_weight_fraction_leaf=0.0, random_state=518871772,\n",
      "          splitter='random')\n",
      "max_samples = 1070\n",
      "{'behaviour': 'new', 'bootstrap': False, 'contamination': 'legacy', 'max_features': 1.0, 'max_samples': 1070, 'n_estimators': 100, 'n_jobs': None, 'random_state': None, 'verbose': 0}\n"
     ]
    },
    {
     "name": "stderr",
     "output_type": "stream",
     "text": [
      "/Users/thesard/anaconda3/lib/python3.7/site-packages/sklearn/ensemble/iforest.py:213: FutureWarning: default contamination parameter 0.1 will change in version 0.22 to \"auto\". This will change the predict method behavior.\n",
      "  FutureWarning)\n"
     ]
    },
    {
     "name": "stdout",
     "output_type": "stream",
     "text": [
      "Information about the first tree\n",
      "The tree = ExtraTreeRegressor(criterion='mse', max_depth=11, max_features=1,\n",
      "          max_leaf_nodes=None, min_impurity_decrease=0.0,\n",
      "          min_impurity_split=None, min_samples_leaf=1, min_samples_split=2,\n",
      "          min_weight_fraction_leaf=0.0, random_state=708181416,\n",
      "          splitter='random')\n",
      "max_samples = 1075\n",
      "{'behaviour': 'new', 'bootstrap': False, 'contamination': 'legacy', 'max_features': 1.0, 'max_samples': 1075, 'n_estimators': 100, 'n_jobs': None, 'random_state': None, 'verbose': 0}\n"
     ]
    },
    {
     "name": "stderr",
     "output_type": "stream",
     "text": [
      "/Users/thesard/anaconda3/lib/python3.7/site-packages/sklearn/ensemble/iforest.py:213: FutureWarning: default contamination parameter 0.1 will change in version 0.22 to \"auto\". This will change the predict method behavior.\n",
      "  FutureWarning)\n"
     ]
    },
    {
     "name": "stdout",
     "output_type": "stream",
     "text": [
      "Information about the first tree\n",
      "The tree = ExtraTreeRegressor(criterion='mse', max_depth=11, max_features=1,\n",
      "          max_leaf_nodes=None, min_impurity_decrease=0.0,\n",
      "          min_impurity_split=None, min_samples_leaf=1, min_samples_split=2,\n",
      "          min_weight_fraction_leaf=0.0, random_state=248781759,\n",
      "          splitter='random')\n",
      "max_samples = 1080\n",
      "{'behaviour': 'new', 'bootstrap': False, 'contamination': 'legacy', 'max_features': 1.0, 'max_samples': 1080, 'n_estimators': 100, 'n_jobs': None, 'random_state': None, 'verbose': 0}\n"
     ]
    },
    {
     "name": "stderr",
     "output_type": "stream",
     "text": [
      "/Users/thesard/anaconda3/lib/python3.7/site-packages/sklearn/ensemble/iforest.py:213: FutureWarning: default contamination parameter 0.1 will change in version 0.22 to \"auto\". This will change the predict method behavior.\n",
      "  FutureWarning)\n"
     ]
    },
    {
     "name": "stdout",
     "output_type": "stream",
     "text": [
      "Information about the first tree\n",
      "The tree = ExtraTreeRegressor(criterion='mse', max_depth=11, max_features=1,\n",
      "          max_leaf_nodes=None, min_impurity_decrease=0.0,\n",
      "          min_impurity_split=None, min_samples_leaf=1, min_samples_split=2,\n",
      "          min_weight_fraction_leaf=0.0, random_state=510371541,\n",
      "          splitter='random')\n",
      "max_samples = 1085\n",
      "{'behaviour': 'new', 'bootstrap': False, 'contamination': 'legacy', 'max_features': 1.0, 'max_samples': 1085, 'n_estimators': 100, 'n_jobs': None, 'random_state': None, 'verbose': 0}\n"
     ]
    },
    {
     "name": "stderr",
     "output_type": "stream",
     "text": [
      "/Users/thesard/anaconda3/lib/python3.7/site-packages/sklearn/ensemble/iforest.py:213: FutureWarning: default contamination parameter 0.1 will change in version 0.22 to \"auto\". This will change the predict method behavior.\n",
      "  FutureWarning)\n"
     ]
    },
    {
     "name": "stdout",
     "output_type": "stream",
     "text": [
      "Information about the first tree\n",
      "The tree = ExtraTreeRegressor(criterion='mse', max_depth=11, max_features=1,\n",
      "          max_leaf_nodes=None, min_impurity_decrease=0.0,\n",
      "          min_impurity_split=None, min_samples_leaf=1, min_samples_split=2,\n",
      "          min_weight_fraction_leaf=0.0, random_state=804629156,\n",
      "          splitter='random')\n",
      "max_samples = 1090\n",
      "{'behaviour': 'new', 'bootstrap': False, 'contamination': 'legacy', 'max_features': 1.0, 'max_samples': 1090, 'n_estimators': 100, 'n_jobs': None, 'random_state': None, 'verbose': 0}\n"
     ]
    },
    {
     "name": "stderr",
     "output_type": "stream",
     "text": [
      "/Users/thesard/anaconda3/lib/python3.7/site-packages/sklearn/ensemble/iforest.py:213: FutureWarning: default contamination parameter 0.1 will change in version 0.22 to \"auto\". This will change the predict method behavior.\n",
      "  FutureWarning)\n"
     ]
    },
    {
     "name": "stdout",
     "output_type": "stream",
     "text": [
      "Information about the first tree\n",
      "The tree = ExtraTreeRegressor(criterion='mse', max_depth=11, max_features=1,\n",
      "          max_leaf_nodes=None, min_impurity_decrease=0.0,\n",
      "          min_impurity_split=None, min_samples_leaf=1, min_samples_split=2,\n",
      "          min_weight_fraction_leaf=0.0, random_state=1703543742,\n",
      "          splitter='random')\n",
      "max_samples = 1095\n",
      "{'behaviour': 'new', 'bootstrap': False, 'contamination': 'legacy', 'max_features': 1.0, 'max_samples': 1095, 'n_estimators': 100, 'n_jobs': None, 'random_state': None, 'verbose': 0}\n"
     ]
    },
    {
     "name": "stderr",
     "output_type": "stream",
     "text": [
      "/Users/thesard/anaconda3/lib/python3.7/site-packages/sklearn/ensemble/iforest.py:213: FutureWarning: default contamination parameter 0.1 will change in version 0.22 to \"auto\". This will change the predict method behavior.\n",
      "  FutureWarning)\n"
     ]
    },
    {
     "name": "stdout",
     "output_type": "stream",
     "text": [
      "Information about the first tree\n",
      "The tree = ExtraTreeRegressor(criterion='mse', max_depth=11, max_features=1,\n",
      "          max_leaf_nodes=None, min_impurity_decrease=0.0,\n",
      "          min_impurity_split=None, min_samples_leaf=1, min_samples_split=2,\n",
      "          min_weight_fraction_leaf=0.0, random_state=736076816,\n",
      "          splitter='random')\n",
      "max_samples = 1100\n",
      "{'behaviour': 'new', 'bootstrap': False, 'contamination': 'legacy', 'max_features': 1.0, 'max_samples': 1100, 'n_estimators': 100, 'n_jobs': None, 'random_state': None, 'verbose': 0}\n"
     ]
    },
    {
     "name": "stderr",
     "output_type": "stream",
     "text": [
      "/Users/thesard/anaconda3/lib/python3.7/site-packages/sklearn/ensemble/iforest.py:213: FutureWarning: default contamination parameter 0.1 will change in version 0.22 to \"auto\". This will change the predict method behavior.\n",
      "  FutureWarning)\n"
     ]
    },
    {
     "name": "stdout",
     "output_type": "stream",
     "text": [
      "Information about the first tree\n",
      "The tree = ExtraTreeRegressor(criterion='mse', max_depth=11, max_features=1,\n",
      "          max_leaf_nodes=None, min_impurity_decrease=0.0,\n",
      "          min_impurity_split=None, min_samples_leaf=1, min_samples_split=2,\n",
      "          min_weight_fraction_leaf=0.0, random_state=1296625646,\n",
      "          splitter='random')\n",
      "max_samples = 1105\n",
      "{'behaviour': 'new', 'bootstrap': False, 'contamination': 'legacy', 'max_features': 1.0, 'max_samples': 1105, 'n_estimators': 100, 'n_jobs': None, 'random_state': None, 'verbose': 0}\n"
     ]
    },
    {
     "name": "stderr",
     "output_type": "stream",
     "text": [
      "/Users/thesard/anaconda3/lib/python3.7/site-packages/sklearn/ensemble/iforest.py:213: FutureWarning: default contamination parameter 0.1 will change in version 0.22 to \"auto\". This will change the predict method behavior.\n",
      "  FutureWarning)\n"
     ]
    },
    {
     "name": "stdout",
     "output_type": "stream",
     "text": [
      "Information about the first tree\n",
      "The tree = ExtraTreeRegressor(criterion='mse', max_depth=11, max_features=1,\n",
      "          max_leaf_nodes=None, min_impurity_decrease=0.0,\n",
      "          min_impurity_split=None, min_samples_leaf=1, min_samples_split=2,\n",
      "          min_weight_fraction_leaf=0.0, random_state=1299830674,\n",
      "          splitter='random')\n",
      "max_samples = 1110\n",
      "{'behaviour': 'new', 'bootstrap': False, 'contamination': 'legacy', 'max_features': 1.0, 'max_samples': 1110, 'n_estimators': 100, 'n_jobs': None, 'random_state': None, 'verbose': 0}\n"
     ]
    },
    {
     "name": "stderr",
     "output_type": "stream",
     "text": [
      "/Users/thesard/anaconda3/lib/python3.7/site-packages/sklearn/ensemble/iforest.py:213: FutureWarning: default contamination parameter 0.1 will change in version 0.22 to \"auto\". This will change the predict method behavior.\n",
      "  FutureWarning)\n"
     ]
    },
    {
     "name": "stdout",
     "output_type": "stream",
     "text": [
      "Information about the first tree\n",
      "The tree = ExtraTreeRegressor(criterion='mse', max_depth=11, max_features=1,\n",
      "          max_leaf_nodes=None, min_impurity_decrease=0.0,\n",
      "          min_impurity_split=None, min_samples_leaf=1, min_samples_split=2,\n",
      "          min_weight_fraction_leaf=0.0, random_state=156418645,\n",
      "          splitter='random')\n",
      "max_samples = 1115\n",
      "{'behaviour': 'new', 'bootstrap': False, 'contamination': 'legacy', 'max_features': 1.0, 'max_samples': 1115, 'n_estimators': 100, 'n_jobs': None, 'random_state': None, 'verbose': 0}\n"
     ]
    },
    {
     "name": "stderr",
     "output_type": "stream",
     "text": [
      "/Users/thesard/anaconda3/lib/python3.7/site-packages/sklearn/ensemble/iforest.py:213: FutureWarning: default contamination parameter 0.1 will change in version 0.22 to \"auto\". This will change the predict method behavior.\n",
      "  FutureWarning)\n"
     ]
    },
    {
     "name": "stdout",
     "output_type": "stream",
     "text": [
      "Information about the first tree\n",
      "The tree = ExtraTreeRegressor(criterion='mse', max_depth=11, max_features=1,\n",
      "          max_leaf_nodes=None, min_impurity_decrease=0.0,\n",
      "          min_impurity_split=None, min_samples_leaf=1, min_samples_split=2,\n",
      "          min_weight_fraction_leaf=0.0, random_state=1306865594,\n",
      "          splitter='random')\n",
      "max_samples = 1120\n",
      "{'behaviour': 'new', 'bootstrap': False, 'contamination': 'legacy', 'max_features': 1.0, 'max_samples': 1120, 'n_estimators': 100, 'n_jobs': None, 'random_state': None, 'verbose': 0}\n"
     ]
    },
    {
     "name": "stderr",
     "output_type": "stream",
     "text": [
      "/Users/thesard/anaconda3/lib/python3.7/site-packages/sklearn/ensemble/iforest.py:213: FutureWarning: default contamination parameter 0.1 will change in version 0.22 to \"auto\". This will change the predict method behavior.\n",
      "  FutureWarning)\n"
     ]
    },
    {
     "name": "stdout",
     "output_type": "stream",
     "text": [
      "Information about the first tree\n",
      "The tree = ExtraTreeRegressor(criterion='mse', max_depth=11, max_features=1,\n",
      "          max_leaf_nodes=None, min_impurity_decrease=0.0,\n",
      "          min_impurity_split=None, min_samples_leaf=1, min_samples_split=2,\n",
      "          min_weight_fraction_leaf=0.0, random_state=603332076,\n",
      "          splitter='random')\n",
      "max_samples = 1125\n",
      "{'behaviour': 'new', 'bootstrap': False, 'contamination': 'legacy', 'max_features': 1.0, 'max_samples': 1125, 'n_estimators': 100, 'n_jobs': None, 'random_state': None, 'verbose': 0}\n"
     ]
    },
    {
     "name": "stderr",
     "output_type": "stream",
     "text": [
      "/Users/thesard/anaconda3/lib/python3.7/site-packages/sklearn/ensemble/iforest.py:213: FutureWarning: default contamination parameter 0.1 will change in version 0.22 to \"auto\". This will change the predict method behavior.\n",
      "  FutureWarning)\n"
     ]
    },
    {
     "name": "stdout",
     "output_type": "stream",
     "text": [
      "Information about the first tree\n",
      "The tree = ExtraTreeRegressor(criterion='mse', max_depth=11, max_features=1,\n",
      "          max_leaf_nodes=None, min_impurity_decrease=0.0,\n",
      "          min_impurity_split=None, min_samples_leaf=1, min_samples_split=2,\n",
      "          min_weight_fraction_leaf=0.0, random_state=1479010839,\n",
      "          splitter='random')\n",
      "max_samples = 1130\n",
      "{'behaviour': 'new', 'bootstrap': False, 'contamination': 'legacy', 'max_features': 1.0, 'max_samples': 1130, 'n_estimators': 100, 'n_jobs': None, 'random_state': None, 'verbose': 0}\n"
     ]
    },
    {
     "name": "stderr",
     "output_type": "stream",
     "text": [
      "/Users/thesard/anaconda3/lib/python3.7/site-packages/sklearn/ensemble/iforest.py:213: FutureWarning: default contamination parameter 0.1 will change in version 0.22 to \"auto\". This will change the predict method behavior.\n",
      "  FutureWarning)\n"
     ]
    },
    {
     "name": "stdout",
     "output_type": "stream",
     "text": [
      "Information about the first tree\n",
      "The tree = ExtraTreeRegressor(criterion='mse', max_depth=11, max_features=1,\n",
      "          max_leaf_nodes=None, min_impurity_decrease=0.0,\n",
      "          min_impurity_split=None, min_samples_leaf=1, min_samples_split=2,\n",
      "          min_weight_fraction_leaf=0.0, random_state=1755126365,\n",
      "          splitter='random')\n",
      "max_samples = 1135\n",
      "{'behaviour': 'new', 'bootstrap': False, 'contamination': 'legacy', 'max_features': 1.0, 'max_samples': 1135, 'n_estimators': 100, 'n_jobs': None, 'random_state': None, 'verbose': 0}\n"
     ]
    },
    {
     "name": "stderr",
     "output_type": "stream",
     "text": [
      "/Users/thesard/anaconda3/lib/python3.7/site-packages/sklearn/ensemble/iforest.py:213: FutureWarning: default contamination parameter 0.1 will change in version 0.22 to \"auto\". This will change the predict method behavior.\n",
      "  FutureWarning)\n"
     ]
    },
    {
     "name": "stdout",
     "output_type": "stream",
     "text": [
      "Information about the first tree\n",
      "The tree = ExtraTreeRegressor(criterion='mse', max_depth=11, max_features=1,\n",
      "          max_leaf_nodes=None, min_impurity_decrease=0.0,\n",
      "          min_impurity_split=None, min_samples_leaf=1, min_samples_split=2,\n",
      "          min_weight_fraction_leaf=0.0, random_state=662755137,\n",
      "          splitter='random')\n",
      "max_samples = 1140\n",
      "{'behaviour': 'new', 'bootstrap': False, 'contamination': 'legacy', 'max_features': 1.0, 'max_samples': 1140, 'n_estimators': 100, 'n_jobs': None, 'random_state': None, 'verbose': 0}\n"
     ]
    },
    {
     "name": "stderr",
     "output_type": "stream",
     "text": [
      "/Users/thesard/anaconda3/lib/python3.7/site-packages/sklearn/ensemble/iforest.py:213: FutureWarning: default contamination parameter 0.1 will change in version 0.22 to \"auto\". This will change the predict method behavior.\n",
      "  FutureWarning)\n"
     ]
    },
    {
     "name": "stdout",
     "output_type": "stream",
     "text": [
      "Information about the first tree\n",
      "The tree = ExtraTreeRegressor(criterion='mse', max_depth=11, max_features=1,\n",
      "          max_leaf_nodes=None, min_impurity_decrease=0.0,\n",
      "          min_impurity_split=None, min_samples_leaf=1, min_samples_split=2,\n",
      "          min_weight_fraction_leaf=0.0, random_state=1852269769,\n",
      "          splitter='random')\n",
      "max_samples = 1145\n",
      "{'behaviour': 'new', 'bootstrap': False, 'contamination': 'legacy', 'max_features': 1.0, 'max_samples': 1145, 'n_estimators': 100, 'n_jobs': None, 'random_state': None, 'verbose': 0}\n"
     ]
    },
    {
     "name": "stderr",
     "output_type": "stream",
     "text": [
      "/Users/thesard/anaconda3/lib/python3.7/site-packages/sklearn/ensemble/iforest.py:213: FutureWarning: default contamination parameter 0.1 will change in version 0.22 to \"auto\". This will change the predict method behavior.\n",
      "  FutureWarning)\n"
     ]
    },
    {
     "name": "stdout",
     "output_type": "stream",
     "text": [
      "Information about the first tree\n",
      "The tree = ExtraTreeRegressor(criterion='mse', max_depth=11, max_features=1,\n",
      "          max_leaf_nodes=None, min_impurity_decrease=0.0,\n",
      "          min_impurity_split=None, min_samples_leaf=1, min_samples_split=2,\n",
      "          min_weight_fraction_leaf=0.0, random_state=1478499840,\n",
      "          splitter='random')\n",
      "max_samples = 1150\n",
      "{'behaviour': 'new', 'bootstrap': False, 'contamination': 'legacy', 'max_features': 1.0, 'max_samples': 1150, 'n_estimators': 100, 'n_jobs': None, 'random_state': None, 'verbose': 0}\n"
     ]
    },
    {
     "name": "stderr",
     "output_type": "stream",
     "text": [
      "/Users/thesard/anaconda3/lib/python3.7/site-packages/sklearn/ensemble/iforest.py:213: FutureWarning: default contamination parameter 0.1 will change in version 0.22 to \"auto\". This will change the predict method behavior.\n",
      "  FutureWarning)\n"
     ]
    },
    {
     "name": "stdout",
     "output_type": "stream",
     "text": [
      "Information about the first tree\n",
      "The tree = ExtraTreeRegressor(criterion='mse', max_depth=11, max_features=1,\n",
      "          max_leaf_nodes=None, min_impurity_decrease=0.0,\n",
      "          min_impurity_split=None, min_samples_leaf=1, min_samples_split=2,\n",
      "          min_weight_fraction_leaf=0.0, random_state=263198908,\n",
      "          splitter='random')\n",
      "max_samples = 1155\n",
      "{'behaviour': 'new', 'bootstrap': False, 'contamination': 'legacy', 'max_features': 1.0, 'max_samples': 1155, 'n_estimators': 100, 'n_jobs': None, 'random_state': None, 'verbose': 0}\n"
     ]
    },
    {
     "name": "stderr",
     "output_type": "stream",
     "text": [
      "/Users/thesard/anaconda3/lib/python3.7/site-packages/sklearn/ensemble/iforest.py:213: FutureWarning: default contamination parameter 0.1 will change in version 0.22 to \"auto\". This will change the predict method behavior.\n",
      "  FutureWarning)\n"
     ]
    },
    {
     "name": "stdout",
     "output_type": "stream",
     "text": [
      "Information about the first tree\n",
      "The tree = ExtraTreeRegressor(criterion='mse', max_depth=11, max_features=1,\n",
      "          max_leaf_nodes=None, min_impurity_decrease=0.0,\n",
      "          min_impurity_split=None, min_samples_leaf=1, min_samples_split=2,\n",
      "          min_weight_fraction_leaf=0.0, random_state=1677807432,\n",
      "          splitter='random')\n",
      "max_samples = 1160\n",
      "{'behaviour': 'new', 'bootstrap': False, 'contamination': 'legacy', 'max_features': 1.0, 'max_samples': 1160, 'n_estimators': 100, 'n_jobs': None, 'random_state': None, 'verbose': 0}\n"
     ]
    },
    {
     "name": "stderr",
     "output_type": "stream",
     "text": [
      "/Users/thesard/anaconda3/lib/python3.7/site-packages/sklearn/ensemble/iforest.py:213: FutureWarning: default contamination parameter 0.1 will change in version 0.22 to \"auto\". This will change the predict method behavior.\n",
      "  FutureWarning)\n"
     ]
    },
    {
     "name": "stdout",
     "output_type": "stream",
     "text": [
      "Information about the first tree\n",
      "The tree = ExtraTreeRegressor(criterion='mse', max_depth=11, max_features=1,\n",
      "          max_leaf_nodes=None, min_impurity_decrease=0.0,\n",
      "          min_impurity_split=None, min_samples_leaf=1, min_samples_split=2,\n",
      "          min_weight_fraction_leaf=0.0, random_state=1357296290,\n",
      "          splitter='random')\n",
      "max_samples = 1165\n",
      "{'behaviour': 'new', 'bootstrap': False, 'contamination': 'legacy', 'max_features': 1.0, 'max_samples': 1165, 'n_estimators': 100, 'n_jobs': None, 'random_state': None, 'verbose': 0}\n"
     ]
    },
    {
     "name": "stderr",
     "output_type": "stream",
     "text": [
      "/Users/thesard/anaconda3/lib/python3.7/site-packages/sklearn/ensemble/iforest.py:213: FutureWarning: default contamination parameter 0.1 will change in version 0.22 to \"auto\". This will change the predict method behavior.\n",
      "  FutureWarning)\n"
     ]
    },
    {
     "name": "stdout",
     "output_type": "stream",
     "text": [
      "Information about the first tree\n",
      "The tree = ExtraTreeRegressor(criterion='mse', max_depth=11, max_features=1,\n",
      "          max_leaf_nodes=None, min_impurity_decrease=0.0,\n",
      "          min_impurity_split=None, min_samples_leaf=1, min_samples_split=2,\n",
      "          min_weight_fraction_leaf=0.0, random_state=1619305435,\n",
      "          splitter='random')\n",
      "max_samples = 1170\n",
      "{'behaviour': 'new', 'bootstrap': False, 'contamination': 'legacy', 'max_features': 1.0, 'max_samples': 1170, 'n_estimators': 100, 'n_jobs': None, 'random_state': None, 'verbose': 0}\n"
     ]
    },
    {
     "name": "stderr",
     "output_type": "stream",
     "text": [
      "/Users/thesard/anaconda3/lib/python3.7/site-packages/sklearn/ensemble/iforest.py:213: FutureWarning: default contamination parameter 0.1 will change in version 0.22 to \"auto\". This will change the predict method behavior.\n",
      "  FutureWarning)\n"
     ]
    },
    {
     "name": "stdout",
     "output_type": "stream",
     "text": [
      "Information about the first tree\n",
      "The tree = ExtraTreeRegressor(criterion='mse', max_depth=11, max_features=1,\n",
      "          max_leaf_nodes=None, min_impurity_decrease=0.0,\n",
      "          min_impurity_split=None, min_samples_leaf=1, min_samples_split=2,\n",
      "          min_weight_fraction_leaf=0.0, random_state=162898621,\n",
      "          splitter='random')\n",
      "max_samples = 1175\n",
      "{'behaviour': 'new', 'bootstrap': False, 'contamination': 'legacy', 'max_features': 1.0, 'max_samples': 1175, 'n_estimators': 100, 'n_jobs': None, 'random_state': None, 'verbose': 0}\n"
     ]
    },
    {
     "name": "stderr",
     "output_type": "stream",
     "text": [
      "/Users/thesard/anaconda3/lib/python3.7/site-packages/sklearn/ensemble/iforest.py:213: FutureWarning: default contamination parameter 0.1 will change in version 0.22 to \"auto\". This will change the predict method behavior.\n",
      "  FutureWarning)\n"
     ]
    },
    {
     "name": "stdout",
     "output_type": "stream",
     "text": [
      "Information about the first tree\n",
      "The tree = ExtraTreeRegressor(criterion='mse', max_depth=11, max_features=1,\n",
      "          max_leaf_nodes=None, min_impurity_decrease=0.0,\n",
      "          min_impurity_split=None, min_samples_leaf=1, min_samples_split=2,\n",
      "          min_weight_fraction_leaf=0.0, random_state=1572323827,\n",
      "          splitter='random')\n",
      "max_samples = 1180\n",
      "{'behaviour': 'new', 'bootstrap': False, 'contamination': 'legacy', 'max_features': 1.0, 'max_samples': 1180, 'n_estimators': 100, 'n_jobs': None, 'random_state': None, 'verbose': 0}\n"
     ]
    },
    {
     "name": "stderr",
     "output_type": "stream",
     "text": [
      "/Users/thesard/anaconda3/lib/python3.7/site-packages/sklearn/ensemble/iforest.py:213: FutureWarning: default contamination parameter 0.1 will change in version 0.22 to \"auto\". This will change the predict method behavior.\n",
      "  FutureWarning)\n"
     ]
    },
    {
     "name": "stdout",
     "output_type": "stream",
     "text": [
      "Information about the first tree\n",
      "The tree = ExtraTreeRegressor(criterion='mse', max_depth=11, max_features=1,\n",
      "          max_leaf_nodes=None, min_impurity_decrease=0.0,\n",
      "          min_impurity_split=None, min_samples_leaf=1, min_samples_split=2,\n",
      "          min_weight_fraction_leaf=0.0, random_state=2119387858,\n",
      "          splitter='random')\n",
      "max_samples = 1185\n",
      "{'behaviour': 'new', 'bootstrap': False, 'contamination': 'legacy', 'max_features': 1.0, 'max_samples': 1185, 'n_estimators': 100, 'n_jobs': None, 'random_state': None, 'verbose': 0}\n"
     ]
    },
    {
     "name": "stderr",
     "output_type": "stream",
     "text": [
      "/Users/thesard/anaconda3/lib/python3.7/site-packages/sklearn/ensemble/iforest.py:213: FutureWarning: default contamination parameter 0.1 will change in version 0.22 to \"auto\". This will change the predict method behavior.\n",
      "  FutureWarning)\n"
     ]
    },
    {
     "name": "stdout",
     "output_type": "stream",
     "text": [
      "Information about the first tree\n",
      "The tree = ExtraTreeRegressor(criterion='mse', max_depth=11, max_features=1,\n",
      "          max_leaf_nodes=None, min_impurity_decrease=0.0,\n",
      "          min_impurity_split=None, min_samples_leaf=1, min_samples_split=2,\n",
      "          min_weight_fraction_leaf=0.0, random_state=1608418718,\n",
      "          splitter='random')\n",
      "max_samples = 1190\n",
      "{'behaviour': 'new', 'bootstrap': False, 'contamination': 'legacy', 'max_features': 1.0, 'max_samples': 1190, 'n_estimators': 100, 'n_jobs': None, 'random_state': None, 'verbose': 0}\n"
     ]
    },
    {
     "name": "stderr",
     "output_type": "stream",
     "text": [
      "/Users/thesard/anaconda3/lib/python3.7/site-packages/sklearn/ensemble/iforest.py:213: FutureWarning: default contamination parameter 0.1 will change in version 0.22 to \"auto\". This will change the predict method behavior.\n",
      "  FutureWarning)\n"
     ]
    },
    {
     "name": "stdout",
     "output_type": "stream",
     "text": [
      "Information about the first tree\n",
      "The tree = ExtraTreeRegressor(criterion='mse', max_depth=11, max_features=1,\n",
      "          max_leaf_nodes=None, min_impurity_decrease=0.0,\n",
      "          min_impurity_split=None, min_samples_leaf=1, min_samples_split=2,\n",
      "          min_weight_fraction_leaf=0.0, random_state=1602347882,\n",
      "          splitter='random')\n",
      "max_samples = 1195\n",
      "{'behaviour': 'new', 'bootstrap': False, 'contamination': 'legacy', 'max_features': 1.0, 'max_samples': 1195, 'n_estimators': 100, 'n_jobs': None, 'random_state': None, 'verbose': 0}\n"
     ]
    },
    {
     "name": "stderr",
     "output_type": "stream",
     "text": [
      "/Users/thesard/anaconda3/lib/python3.7/site-packages/sklearn/ensemble/iforest.py:213: FutureWarning: default contamination parameter 0.1 will change in version 0.22 to \"auto\". This will change the predict method behavior.\n",
      "  FutureWarning)\n"
     ]
    },
    {
     "name": "stdout",
     "output_type": "stream",
     "text": [
      "Information about the first tree\n",
      "The tree = ExtraTreeRegressor(criterion='mse', max_depth=11, max_features=1,\n",
      "          max_leaf_nodes=None, min_impurity_decrease=0.0,\n",
      "          min_impurity_split=None, min_samples_leaf=1, min_samples_split=2,\n",
      "          min_weight_fraction_leaf=0.0, random_state=1260395001,\n",
      "          splitter='random')\n",
      "max_samples = 1200\n",
      "{'behaviour': 'new', 'bootstrap': False, 'contamination': 'legacy', 'max_features': 1.0, 'max_samples': 1200, 'n_estimators': 100, 'n_jobs': None, 'random_state': None, 'verbose': 0}\n"
     ]
    },
    {
     "name": "stderr",
     "output_type": "stream",
     "text": [
      "/Users/thesard/anaconda3/lib/python3.7/site-packages/sklearn/ensemble/iforest.py:213: FutureWarning: default contamination parameter 0.1 will change in version 0.22 to \"auto\". This will change the predict method behavior.\n",
      "  FutureWarning)\n"
     ]
    },
    {
     "name": "stdout",
     "output_type": "stream",
     "text": [
      "Information about the first tree\n",
      "The tree = ExtraTreeRegressor(criterion='mse', max_depth=11, max_features=1,\n",
      "          max_leaf_nodes=None, min_impurity_decrease=0.0,\n",
      "          min_impurity_split=None, min_samples_leaf=1, min_samples_split=2,\n",
      "          min_weight_fraction_leaf=0.0, random_state=1328466974,\n",
      "          splitter='random')\n",
      "max_samples = 1205\n",
      "{'behaviour': 'new', 'bootstrap': False, 'contamination': 'legacy', 'max_features': 1.0, 'max_samples': 1205, 'n_estimators': 100, 'n_jobs': None, 'random_state': None, 'verbose': 0}\n"
     ]
    },
    {
     "name": "stderr",
     "output_type": "stream",
     "text": [
      "/Users/thesard/anaconda3/lib/python3.7/site-packages/sklearn/ensemble/iforest.py:213: FutureWarning: default contamination parameter 0.1 will change in version 0.22 to \"auto\". This will change the predict method behavior.\n",
      "  FutureWarning)\n"
     ]
    },
    {
     "name": "stdout",
     "output_type": "stream",
     "text": [
      "Information about the first tree\n",
      "The tree = ExtraTreeRegressor(criterion='mse', max_depth=11, max_features=1,\n",
      "          max_leaf_nodes=None, min_impurity_decrease=0.0,\n",
      "          min_impurity_split=None, min_samples_leaf=1, min_samples_split=2,\n",
      "          min_weight_fraction_leaf=0.0, random_state=626794823,\n",
      "          splitter='random')\n",
      "max_samples = 1210\n",
      "{'behaviour': 'new', 'bootstrap': False, 'contamination': 'legacy', 'max_features': 1.0, 'max_samples': 1210, 'n_estimators': 100, 'n_jobs': None, 'random_state': None, 'verbose': 0}\n"
     ]
    },
    {
     "name": "stderr",
     "output_type": "stream",
     "text": [
      "/Users/thesard/anaconda3/lib/python3.7/site-packages/sklearn/ensemble/iforest.py:213: FutureWarning: default contamination parameter 0.1 will change in version 0.22 to \"auto\". This will change the predict method behavior.\n",
      "  FutureWarning)\n"
     ]
    },
    {
     "name": "stdout",
     "output_type": "stream",
     "text": [
      "Information about the first tree\n",
      "The tree = ExtraTreeRegressor(criterion='mse', max_depth=11, max_features=1,\n",
      "          max_leaf_nodes=None, min_impurity_decrease=0.0,\n",
      "          min_impurity_split=None, min_samples_leaf=1, min_samples_split=2,\n",
      "          min_weight_fraction_leaf=0.0, random_state=448199650,\n",
      "          splitter='random')\n",
      "max_samples = 1215\n",
      "{'behaviour': 'new', 'bootstrap': False, 'contamination': 'legacy', 'max_features': 1.0, 'max_samples': 1215, 'n_estimators': 100, 'n_jobs': None, 'random_state': None, 'verbose': 0}\n"
     ]
    },
    {
     "name": "stderr",
     "output_type": "stream",
     "text": [
      "/Users/thesard/anaconda3/lib/python3.7/site-packages/sklearn/ensemble/iforest.py:213: FutureWarning: default contamination parameter 0.1 will change in version 0.22 to \"auto\". This will change the predict method behavior.\n",
      "  FutureWarning)\n"
     ]
    },
    {
     "name": "stdout",
     "output_type": "stream",
     "text": [
      "Information about the first tree\n",
      "The tree = ExtraTreeRegressor(criterion='mse', max_depth=11, max_features=1,\n",
      "          max_leaf_nodes=None, min_impurity_decrease=0.0,\n",
      "          min_impurity_split=None, min_samples_leaf=1, min_samples_split=2,\n",
      "          min_weight_fraction_leaf=0.0, random_state=69966,\n",
      "          splitter='random')\n",
      "max_samples = 1220\n",
      "{'behaviour': 'new', 'bootstrap': False, 'contamination': 'legacy', 'max_features': 1.0, 'max_samples': 1220, 'n_estimators': 100, 'n_jobs': None, 'random_state': None, 'verbose': 0}\n"
     ]
    },
    {
     "name": "stderr",
     "output_type": "stream",
     "text": [
      "/Users/thesard/anaconda3/lib/python3.7/site-packages/sklearn/ensemble/iforest.py:213: FutureWarning: default contamination parameter 0.1 will change in version 0.22 to \"auto\". This will change the predict method behavior.\n",
      "  FutureWarning)\n"
     ]
    },
    {
     "name": "stdout",
     "output_type": "stream",
     "text": [
      "Information about the first tree\n",
      "The tree = ExtraTreeRegressor(criterion='mse', max_depth=11, max_features=1,\n",
      "          max_leaf_nodes=None, min_impurity_decrease=0.0,\n",
      "          min_impurity_split=None, min_samples_leaf=1, min_samples_split=2,\n",
      "          min_weight_fraction_leaf=0.0, random_state=1603401477,\n",
      "          splitter='random')\n",
      "max_samples = 1225\n",
      "{'behaviour': 'new', 'bootstrap': False, 'contamination': 'legacy', 'max_features': 1.0, 'max_samples': 1225, 'n_estimators': 100, 'n_jobs': None, 'random_state': None, 'verbose': 0}\n"
     ]
    },
    {
     "name": "stderr",
     "output_type": "stream",
     "text": [
      "/Users/thesard/anaconda3/lib/python3.7/site-packages/sklearn/ensemble/iforest.py:213: FutureWarning: default contamination parameter 0.1 will change in version 0.22 to \"auto\". This will change the predict method behavior.\n",
      "  FutureWarning)\n"
     ]
    },
    {
     "name": "stdout",
     "output_type": "stream",
     "text": [
      "Information about the first tree\n",
      "The tree = ExtraTreeRegressor(criterion='mse', max_depth=11, max_features=1,\n",
      "          max_leaf_nodes=None, min_impurity_decrease=0.0,\n",
      "          min_impurity_split=None, min_samples_leaf=1, min_samples_split=2,\n",
      "          min_weight_fraction_leaf=0.0, random_state=1484142492,\n",
      "          splitter='random')\n",
      "max_samples = 1230\n",
      "{'behaviour': 'new', 'bootstrap': False, 'contamination': 'legacy', 'max_features': 1.0, 'max_samples': 1230, 'n_estimators': 100, 'n_jobs': None, 'random_state': None, 'verbose': 0}\n"
     ]
    },
    {
     "name": "stderr",
     "output_type": "stream",
     "text": [
      "/Users/thesard/anaconda3/lib/python3.7/site-packages/sklearn/ensemble/iforest.py:213: FutureWarning: default contamination parameter 0.1 will change in version 0.22 to \"auto\". This will change the predict method behavior.\n",
      "  FutureWarning)\n"
     ]
    },
    {
     "name": "stdout",
     "output_type": "stream",
     "text": [
      "Information about the first tree\n",
      "The tree = ExtraTreeRegressor(criterion='mse', max_depth=11, max_features=1,\n",
      "          max_leaf_nodes=None, min_impurity_decrease=0.0,\n",
      "          min_impurity_split=None, min_samples_leaf=1, min_samples_split=2,\n",
      "          min_weight_fraction_leaf=0.0, random_state=1375210908,\n",
      "          splitter='random')\n",
      "max_samples = 1235\n",
      "{'behaviour': 'new', 'bootstrap': False, 'contamination': 'legacy', 'max_features': 1.0, 'max_samples': 1235, 'n_estimators': 100, 'n_jobs': None, 'random_state': None, 'verbose': 0}\n"
     ]
    },
    {
     "name": "stderr",
     "output_type": "stream",
     "text": [
      "/Users/thesard/anaconda3/lib/python3.7/site-packages/sklearn/ensemble/iforest.py:213: FutureWarning: default contamination parameter 0.1 will change in version 0.22 to \"auto\". This will change the predict method behavior.\n",
      "  FutureWarning)\n"
     ]
    },
    {
     "name": "stdout",
     "output_type": "stream",
     "text": [
      "Information about the first tree\n",
      "The tree = ExtraTreeRegressor(criterion='mse', max_depth=11, max_features=1,\n",
      "          max_leaf_nodes=None, min_impurity_decrease=0.0,\n",
      "          min_impurity_split=None, min_samples_leaf=1, min_samples_split=2,\n",
      "          min_weight_fraction_leaf=0.0, random_state=1006039737,\n",
      "          splitter='random')\n",
      "max_samples = 1240\n",
      "{'behaviour': 'new', 'bootstrap': False, 'contamination': 'legacy', 'max_features': 1.0, 'max_samples': 1240, 'n_estimators': 100, 'n_jobs': None, 'random_state': None, 'verbose': 0}\n"
     ]
    },
    {
     "name": "stderr",
     "output_type": "stream",
     "text": [
      "/Users/thesard/anaconda3/lib/python3.7/site-packages/sklearn/ensemble/iforest.py:213: FutureWarning: default contamination parameter 0.1 will change in version 0.22 to \"auto\". This will change the predict method behavior.\n",
      "  FutureWarning)\n"
     ]
    },
    {
     "name": "stdout",
     "output_type": "stream",
     "text": [
      "Information about the first tree\n",
      "The tree = ExtraTreeRegressor(criterion='mse', max_depth=11, max_features=1,\n",
      "          max_leaf_nodes=None, min_impurity_decrease=0.0,\n",
      "          min_impurity_split=None, min_samples_leaf=1, min_samples_split=2,\n",
      "          min_weight_fraction_leaf=0.0, random_state=1152977719,\n",
      "          splitter='random')\n",
      "max_samples = 1245\n",
      "{'behaviour': 'new', 'bootstrap': False, 'contamination': 'legacy', 'max_features': 1.0, 'max_samples': 1245, 'n_estimators': 100, 'n_jobs': None, 'random_state': None, 'verbose': 0}\n"
     ]
    },
    {
     "name": "stderr",
     "output_type": "stream",
     "text": [
      "/Users/thesard/anaconda3/lib/python3.7/site-packages/sklearn/ensemble/iforest.py:213: FutureWarning: default contamination parameter 0.1 will change in version 0.22 to \"auto\". This will change the predict method behavior.\n",
      "  FutureWarning)\n"
     ]
    },
    {
     "name": "stdout",
     "output_type": "stream",
     "text": [
      "Information about the first tree\n",
      "The tree = ExtraTreeRegressor(criterion='mse', max_depth=11, max_features=1,\n",
      "          max_leaf_nodes=None, min_impurity_decrease=0.0,\n",
      "          min_impurity_split=None, min_samples_leaf=1, min_samples_split=2,\n",
      "          min_weight_fraction_leaf=0.0, random_state=213415496,\n",
      "          splitter='random')\n",
      "max_samples = 1250\n",
      "{'behaviour': 'new', 'bootstrap': False, 'contamination': 'legacy', 'max_features': 1.0, 'max_samples': 1250, 'n_estimators': 100, 'n_jobs': None, 'random_state': None, 'verbose': 0}\n"
     ]
    },
    {
     "name": "stderr",
     "output_type": "stream",
     "text": [
      "/Users/thesard/anaconda3/lib/python3.7/site-packages/sklearn/ensemble/iforest.py:213: FutureWarning: default contamination parameter 0.1 will change in version 0.22 to \"auto\". This will change the predict method behavior.\n",
      "  FutureWarning)\n"
     ]
    },
    {
     "name": "stdout",
     "output_type": "stream",
     "text": [
      "Information about the first tree\n",
      "The tree = ExtraTreeRegressor(criterion='mse', max_depth=11, max_features=1,\n",
      "          max_leaf_nodes=None, min_impurity_decrease=0.0,\n",
      "          min_impurity_split=None, min_samples_leaf=1, min_samples_split=2,\n",
      "          min_weight_fraction_leaf=0.0, random_state=1349136945,\n",
      "          splitter='random')\n",
      "max_samples = 1255\n",
      "{'behaviour': 'new', 'bootstrap': False, 'contamination': 'legacy', 'max_features': 1.0, 'max_samples': 1255, 'n_estimators': 100, 'n_jobs': None, 'random_state': None, 'verbose': 0}\n"
     ]
    },
    {
     "name": "stderr",
     "output_type": "stream",
     "text": [
      "/Users/thesard/anaconda3/lib/python3.7/site-packages/sklearn/ensemble/iforest.py:213: FutureWarning: default contamination parameter 0.1 will change in version 0.22 to \"auto\". This will change the predict method behavior.\n",
      "  FutureWarning)\n"
     ]
    },
    {
     "name": "stdout",
     "output_type": "stream",
     "text": [
      "Information about the first tree\n",
      "The tree = ExtraTreeRegressor(criterion='mse', max_depth=11, max_features=1,\n",
      "          max_leaf_nodes=None, min_impurity_decrease=0.0,\n",
      "          min_impurity_split=None, min_samples_leaf=1, min_samples_split=2,\n",
      "          min_weight_fraction_leaf=0.0, random_state=1578008868,\n",
      "          splitter='random')\n",
      "max_samples = 1260\n",
      "{'behaviour': 'new', 'bootstrap': False, 'contamination': 'legacy', 'max_features': 1.0, 'max_samples': 1260, 'n_estimators': 100, 'n_jobs': None, 'random_state': None, 'verbose': 0}\n"
     ]
    },
    {
     "name": "stderr",
     "output_type": "stream",
     "text": [
      "/Users/thesard/anaconda3/lib/python3.7/site-packages/sklearn/ensemble/iforest.py:213: FutureWarning: default contamination parameter 0.1 will change in version 0.22 to \"auto\". This will change the predict method behavior.\n",
      "  FutureWarning)\n"
     ]
    },
    {
     "name": "stdout",
     "output_type": "stream",
     "text": [
      "Information about the first tree\n",
      "The tree = ExtraTreeRegressor(criterion='mse', max_depth=11, max_features=1,\n",
      "          max_leaf_nodes=None, min_impurity_decrease=0.0,\n",
      "          min_impurity_split=None, min_samples_leaf=1, min_samples_split=2,\n",
      "          min_weight_fraction_leaf=0.0, random_state=637463962,\n",
      "          splitter='random')\n",
      "max_samples = 1265\n",
      "{'behaviour': 'new', 'bootstrap': False, 'contamination': 'legacy', 'max_features': 1.0, 'max_samples': 1265, 'n_estimators': 100, 'n_jobs': None, 'random_state': None, 'verbose': 0}\n"
     ]
    },
    {
     "name": "stderr",
     "output_type": "stream",
     "text": [
      "/Users/thesard/anaconda3/lib/python3.7/site-packages/sklearn/ensemble/iforest.py:213: FutureWarning: default contamination parameter 0.1 will change in version 0.22 to \"auto\". This will change the predict method behavior.\n",
      "  FutureWarning)\n"
     ]
    },
    {
     "name": "stdout",
     "output_type": "stream",
     "text": [
      "Information about the first tree\n",
      "The tree = ExtraTreeRegressor(criterion='mse', max_depth=11, max_features=1,\n",
      "          max_leaf_nodes=None, min_impurity_decrease=0.0,\n",
      "          min_impurity_split=None, min_samples_leaf=1, min_samples_split=2,\n",
      "          min_weight_fraction_leaf=0.0, random_state=340162244,\n",
      "          splitter='random')\n",
      "max_samples = 1270\n",
      "{'behaviour': 'new', 'bootstrap': False, 'contamination': 'legacy', 'max_features': 1.0, 'max_samples': 1270, 'n_estimators': 100, 'n_jobs': None, 'random_state': None, 'verbose': 0}\n"
     ]
    },
    {
     "name": "stderr",
     "output_type": "stream",
     "text": [
      "/Users/thesard/anaconda3/lib/python3.7/site-packages/sklearn/ensemble/iforest.py:213: FutureWarning: default contamination parameter 0.1 will change in version 0.22 to \"auto\". This will change the predict method behavior.\n",
      "  FutureWarning)\n"
     ]
    },
    {
     "name": "stdout",
     "output_type": "stream",
     "text": [
      "Information about the first tree\n",
      "The tree = ExtraTreeRegressor(criterion='mse', max_depth=11, max_features=1,\n",
      "          max_leaf_nodes=None, min_impurity_decrease=0.0,\n",
      "          min_impurity_split=None, min_samples_leaf=1, min_samples_split=2,\n",
      "          min_weight_fraction_leaf=0.0, random_state=733069066,\n",
      "          splitter='random')\n",
      "max_samples = 1275\n",
      "{'behaviour': 'new', 'bootstrap': False, 'contamination': 'legacy', 'max_features': 1.0, 'max_samples': 1275, 'n_estimators': 100, 'n_jobs': None, 'random_state': None, 'verbose': 0}\n"
     ]
    },
    {
     "name": "stderr",
     "output_type": "stream",
     "text": [
      "/Users/thesard/anaconda3/lib/python3.7/site-packages/sklearn/ensemble/iforest.py:213: FutureWarning: default contamination parameter 0.1 will change in version 0.22 to \"auto\". This will change the predict method behavior.\n",
      "  FutureWarning)\n"
     ]
    },
    {
     "name": "stdout",
     "output_type": "stream",
     "text": [
      "Information about the first tree\n",
      "The tree = ExtraTreeRegressor(criterion='mse', max_depth=11, max_features=1,\n",
      "          max_leaf_nodes=None, min_impurity_decrease=0.0,\n",
      "          min_impurity_split=None, min_samples_leaf=1, min_samples_split=2,\n",
      "          min_weight_fraction_leaf=0.0, random_state=955832012,\n",
      "          splitter='random')\n",
      "max_samples = 1280\n",
      "{'behaviour': 'new', 'bootstrap': False, 'contamination': 'legacy', 'max_features': 1.0, 'max_samples': 1280, 'n_estimators': 100, 'n_jobs': None, 'random_state': None, 'verbose': 0}\n"
     ]
    },
    {
     "name": "stderr",
     "output_type": "stream",
     "text": [
      "/Users/thesard/anaconda3/lib/python3.7/site-packages/sklearn/ensemble/iforest.py:213: FutureWarning: default contamination parameter 0.1 will change in version 0.22 to \"auto\". This will change the predict method behavior.\n",
      "  FutureWarning)\n"
     ]
    },
    {
     "name": "stdout",
     "output_type": "stream",
     "text": [
      "Information about the first tree\n",
      "The tree = ExtraTreeRegressor(criterion='mse', max_depth=11, max_features=1,\n",
      "          max_leaf_nodes=None, min_impurity_decrease=0.0,\n",
      "          min_impurity_split=None, min_samples_leaf=1, min_samples_split=2,\n",
      "          min_weight_fraction_leaf=0.0, random_state=79122716,\n",
      "          splitter='random')\n",
      "max_samples = 1285\n",
      "{'behaviour': 'new', 'bootstrap': False, 'contamination': 'legacy', 'max_features': 1.0, 'max_samples': 1285, 'n_estimators': 100, 'n_jobs': None, 'random_state': None, 'verbose': 0}\n"
     ]
    },
    {
     "name": "stderr",
     "output_type": "stream",
     "text": [
      "/Users/thesard/anaconda3/lib/python3.7/site-packages/sklearn/ensemble/iforest.py:213: FutureWarning: default contamination parameter 0.1 will change in version 0.22 to \"auto\". This will change the predict method behavior.\n",
      "  FutureWarning)\n"
     ]
    },
    {
     "name": "stdout",
     "output_type": "stream",
     "text": [
      "Information about the first tree\n",
      "The tree = ExtraTreeRegressor(criterion='mse', max_depth=11, max_features=1,\n",
      "          max_leaf_nodes=None, min_impurity_decrease=0.0,\n",
      "          min_impurity_split=None, min_samples_leaf=1, min_samples_split=2,\n",
      "          min_weight_fraction_leaf=0.0, random_state=1838237100,\n",
      "          splitter='random')\n",
      "max_samples = 1290\n",
      "{'behaviour': 'new', 'bootstrap': False, 'contamination': 'legacy', 'max_features': 1.0, 'max_samples': 1290, 'n_estimators': 100, 'n_jobs': None, 'random_state': None, 'verbose': 0}\n"
     ]
    },
    {
     "name": "stderr",
     "output_type": "stream",
     "text": [
      "/Users/thesard/anaconda3/lib/python3.7/site-packages/sklearn/ensemble/iforest.py:213: FutureWarning: default contamination parameter 0.1 will change in version 0.22 to \"auto\". This will change the predict method behavior.\n",
      "  FutureWarning)\n"
     ]
    },
    {
     "name": "stdout",
     "output_type": "stream",
     "text": [
      "Information about the first tree\n",
      "The tree = ExtraTreeRegressor(criterion='mse', max_depth=11, max_features=1,\n",
      "          max_leaf_nodes=None, min_impurity_decrease=0.0,\n",
      "          min_impurity_split=None, min_samples_leaf=1, min_samples_split=2,\n",
      "          min_weight_fraction_leaf=0.0, random_state=41777035,\n",
      "          splitter='random')\n",
      "max_samples = 1295\n",
      "{'behaviour': 'new', 'bootstrap': False, 'contamination': 'legacy', 'max_features': 1.0, 'max_samples': 1295, 'n_estimators': 100, 'n_jobs': None, 'random_state': None, 'verbose': 0}\n"
     ]
    },
    {
     "name": "stderr",
     "output_type": "stream",
     "text": [
      "/Users/thesard/anaconda3/lib/python3.7/site-packages/sklearn/ensemble/iforest.py:213: FutureWarning: default contamination parameter 0.1 will change in version 0.22 to \"auto\". This will change the predict method behavior.\n",
      "  FutureWarning)\n"
     ]
    },
    {
     "name": "stdout",
     "output_type": "stream",
     "text": [
      "Information about the first tree\n",
      "The tree = ExtraTreeRegressor(criterion='mse', max_depth=11, max_features=1,\n",
      "          max_leaf_nodes=None, min_impurity_decrease=0.0,\n",
      "          min_impurity_split=None, min_samples_leaf=1, min_samples_split=2,\n",
      "          min_weight_fraction_leaf=0.0, random_state=1108329406,\n",
      "          splitter='random')\n",
      "max_samples = 1300\n",
      "{'behaviour': 'new', 'bootstrap': False, 'contamination': 'legacy', 'max_features': 1.0, 'max_samples': 1300, 'n_estimators': 100, 'n_jobs': None, 'random_state': None, 'verbose': 0}\n"
     ]
    },
    {
     "name": "stderr",
     "output_type": "stream",
     "text": [
      "/Users/thesard/anaconda3/lib/python3.7/site-packages/sklearn/ensemble/iforest.py:213: FutureWarning: default contamination parameter 0.1 will change in version 0.22 to \"auto\". This will change the predict method behavior.\n",
      "  FutureWarning)\n"
     ]
    },
    {
     "name": "stdout",
     "output_type": "stream",
     "text": [
      "Information about the first tree\n",
      "The tree = ExtraTreeRegressor(criterion='mse', max_depth=11, max_features=1,\n",
      "          max_leaf_nodes=None, min_impurity_decrease=0.0,\n",
      "          min_impurity_split=None, min_samples_leaf=1, min_samples_split=2,\n",
      "          min_weight_fraction_leaf=0.0, random_state=1918277128,\n",
      "          splitter='random')\n",
      "max_samples = 1305\n",
      "{'behaviour': 'new', 'bootstrap': False, 'contamination': 'legacy', 'max_features': 1.0, 'max_samples': 1305, 'n_estimators': 100, 'n_jobs': None, 'random_state': None, 'verbose': 0}\n"
     ]
    },
    {
     "name": "stderr",
     "output_type": "stream",
     "text": [
      "/Users/thesard/anaconda3/lib/python3.7/site-packages/sklearn/ensemble/iforest.py:213: FutureWarning: default contamination parameter 0.1 will change in version 0.22 to \"auto\". This will change the predict method behavior.\n",
      "  FutureWarning)\n"
     ]
    },
    {
     "name": "stdout",
     "output_type": "stream",
     "text": [
      "Information about the first tree\n",
      "The tree = ExtraTreeRegressor(criterion='mse', max_depth=11, max_features=1,\n",
      "          max_leaf_nodes=None, min_impurity_decrease=0.0,\n",
      "          min_impurity_split=None, min_samples_leaf=1, min_samples_split=2,\n",
      "          min_weight_fraction_leaf=0.0, random_state=1934415290,\n",
      "          splitter='random')\n",
      "max_samples = 1310\n",
      "{'behaviour': 'new', 'bootstrap': False, 'contamination': 'legacy', 'max_features': 1.0, 'max_samples': 1310, 'n_estimators': 100, 'n_jobs': None, 'random_state': None, 'verbose': 0}\n"
     ]
    },
    {
     "name": "stderr",
     "output_type": "stream",
     "text": [
      "/Users/thesard/anaconda3/lib/python3.7/site-packages/sklearn/ensemble/iforest.py:213: FutureWarning: default contamination parameter 0.1 will change in version 0.22 to \"auto\". This will change the predict method behavior.\n",
      "  FutureWarning)\n"
     ]
    },
    {
     "name": "stdout",
     "output_type": "stream",
     "text": [
      "Information about the first tree\n",
      "The tree = ExtraTreeRegressor(criterion='mse', max_depth=11, max_features=1,\n",
      "          max_leaf_nodes=None, min_impurity_decrease=0.0,\n",
      "          min_impurity_split=None, min_samples_leaf=1, min_samples_split=2,\n",
      "          min_weight_fraction_leaf=0.0, random_state=2046123454,\n",
      "          splitter='random')\n",
      "max_samples = 1315\n",
      "{'behaviour': 'new', 'bootstrap': False, 'contamination': 'legacy', 'max_features': 1.0, 'max_samples': 1315, 'n_estimators': 100, 'n_jobs': None, 'random_state': None, 'verbose': 0}\n"
     ]
    },
    {
     "name": "stderr",
     "output_type": "stream",
     "text": [
      "/Users/thesard/anaconda3/lib/python3.7/site-packages/sklearn/ensemble/iforest.py:213: FutureWarning: default contamination parameter 0.1 will change in version 0.22 to \"auto\". This will change the predict method behavior.\n",
      "  FutureWarning)\n"
     ]
    },
    {
     "name": "stdout",
     "output_type": "stream",
     "text": [
      "Information about the first tree\n",
      "The tree = ExtraTreeRegressor(criterion='mse', max_depth=11, max_features=1,\n",
      "          max_leaf_nodes=None, min_impurity_decrease=0.0,\n",
      "          min_impurity_split=None, min_samples_leaf=1, min_samples_split=2,\n",
      "          min_weight_fraction_leaf=0.0, random_state=583804399,\n",
      "          splitter='random')\n",
      "max_samples = 1320\n",
      "{'behaviour': 'new', 'bootstrap': False, 'contamination': 'legacy', 'max_features': 1.0, 'max_samples': 1320, 'n_estimators': 100, 'n_jobs': None, 'random_state': None, 'verbose': 0}\n"
     ]
    },
    {
     "name": "stderr",
     "output_type": "stream",
     "text": [
      "/Users/thesard/anaconda3/lib/python3.7/site-packages/sklearn/ensemble/iforest.py:213: FutureWarning: default contamination parameter 0.1 will change in version 0.22 to \"auto\". This will change the predict method behavior.\n",
      "  FutureWarning)\n"
     ]
    },
    {
     "name": "stdout",
     "output_type": "stream",
     "text": [
      "Information about the first tree\n",
      "The tree = ExtraTreeRegressor(criterion='mse', max_depth=11, max_features=1,\n",
      "          max_leaf_nodes=None, min_impurity_decrease=0.0,\n",
      "          min_impurity_split=None, min_samples_leaf=1, min_samples_split=2,\n",
      "          min_weight_fraction_leaf=0.0, random_state=1697949662,\n",
      "          splitter='random')\n",
      "max_samples = 1325\n",
      "{'behaviour': 'new', 'bootstrap': False, 'contamination': 'legacy', 'max_features': 1.0, 'max_samples': 1325, 'n_estimators': 100, 'n_jobs': None, 'random_state': None, 'verbose': 0}\n"
     ]
    },
    {
     "name": "stderr",
     "output_type": "stream",
     "text": [
      "/Users/thesard/anaconda3/lib/python3.7/site-packages/sklearn/ensemble/iforest.py:213: FutureWarning: default contamination parameter 0.1 will change in version 0.22 to \"auto\". This will change the predict method behavior.\n",
      "  FutureWarning)\n"
     ]
    },
    {
     "name": "stdout",
     "output_type": "stream",
     "text": [
      "Information about the first tree\n",
      "The tree = ExtraTreeRegressor(criterion='mse', max_depth=11, max_features=1,\n",
      "          max_leaf_nodes=None, min_impurity_decrease=0.0,\n",
      "          min_impurity_split=None, min_samples_leaf=1, min_samples_split=2,\n",
      "          min_weight_fraction_leaf=0.0, random_state=2027538339,\n",
      "          splitter='random')\n",
      "max_samples = 1330\n",
      "{'behaviour': 'new', 'bootstrap': False, 'contamination': 'legacy', 'max_features': 1.0, 'max_samples': 1330, 'n_estimators': 100, 'n_jobs': None, 'random_state': None, 'verbose': 0}\n"
     ]
    },
    {
     "name": "stderr",
     "output_type": "stream",
     "text": [
      "/Users/thesard/anaconda3/lib/python3.7/site-packages/sklearn/ensemble/iforest.py:213: FutureWarning: default contamination parameter 0.1 will change in version 0.22 to \"auto\". This will change the predict method behavior.\n",
      "  FutureWarning)\n"
     ]
    },
    {
     "name": "stdout",
     "output_type": "stream",
     "text": [
      "Information about the first tree\n",
      "The tree = ExtraTreeRegressor(criterion='mse', max_depth=11, max_features=1,\n",
      "          max_leaf_nodes=None, min_impurity_decrease=0.0,\n",
      "          min_impurity_split=None, min_samples_leaf=1, min_samples_split=2,\n",
      "          min_weight_fraction_leaf=0.0, random_state=1410734861,\n",
      "          splitter='random')\n",
      "max_samples = 1335\n",
      "{'behaviour': 'new', 'bootstrap': False, 'contamination': 'legacy', 'max_features': 1.0, 'max_samples': 1335, 'n_estimators': 100, 'n_jobs': None, 'random_state': None, 'verbose': 0}\n"
     ]
    },
    {
     "name": "stderr",
     "output_type": "stream",
     "text": [
      "/Users/thesard/anaconda3/lib/python3.7/site-packages/sklearn/ensemble/iforest.py:213: FutureWarning: default contamination parameter 0.1 will change in version 0.22 to \"auto\". This will change the predict method behavior.\n",
      "  FutureWarning)\n"
     ]
    },
    {
     "name": "stdout",
     "output_type": "stream",
     "text": [
      "Information about the first tree\n",
      "The tree = ExtraTreeRegressor(criterion='mse', max_depth=11, max_features=1,\n",
      "          max_leaf_nodes=None, min_impurity_decrease=0.0,\n",
      "          min_impurity_split=None, min_samples_leaf=1, min_samples_split=2,\n",
      "          min_weight_fraction_leaf=0.0, random_state=950571455,\n",
      "          splitter='random')\n",
      "max_samples = 1340\n",
      "{'behaviour': 'new', 'bootstrap': False, 'contamination': 'legacy', 'max_features': 1.0, 'max_samples': 1340, 'n_estimators': 100, 'n_jobs': None, 'random_state': None, 'verbose': 0}\n"
     ]
    },
    {
     "name": "stderr",
     "output_type": "stream",
     "text": [
      "/Users/thesard/anaconda3/lib/python3.7/site-packages/sklearn/ensemble/iforest.py:213: FutureWarning: default contamination parameter 0.1 will change in version 0.22 to \"auto\". This will change the predict method behavior.\n",
      "  FutureWarning)\n"
     ]
    },
    {
     "name": "stdout",
     "output_type": "stream",
     "text": [
      "Information about the first tree\n",
      "The tree = ExtraTreeRegressor(criterion='mse', max_depth=11, max_features=1,\n",
      "          max_leaf_nodes=None, min_impurity_decrease=0.0,\n",
      "          min_impurity_split=None, min_samples_leaf=1, min_samples_split=2,\n",
      "          min_weight_fraction_leaf=0.0, random_state=1603411870,\n",
      "          splitter='random')\n",
      "max_samples = 1345\n",
      "{'behaviour': 'new', 'bootstrap': False, 'contamination': 'legacy', 'max_features': 1.0, 'max_samples': 1345, 'n_estimators': 100, 'n_jobs': None, 'random_state': None, 'verbose': 0}\n"
     ]
    },
    {
     "name": "stderr",
     "output_type": "stream",
     "text": [
      "/Users/thesard/anaconda3/lib/python3.7/site-packages/sklearn/ensemble/iforest.py:213: FutureWarning: default contamination parameter 0.1 will change in version 0.22 to \"auto\". This will change the predict method behavior.\n",
      "  FutureWarning)\n"
     ]
    },
    {
     "name": "stdout",
     "output_type": "stream",
     "text": [
      "Information about the first tree\n",
      "The tree = ExtraTreeRegressor(criterion='mse', max_depth=11, max_features=1,\n",
      "          max_leaf_nodes=None, min_impurity_decrease=0.0,\n",
      "          min_impurity_split=None, min_samples_leaf=1, min_samples_split=2,\n",
      "          min_weight_fraction_leaf=0.0, random_state=596744478,\n",
      "          splitter='random')\n",
      "max_samples = 1350\n",
      "{'behaviour': 'new', 'bootstrap': False, 'contamination': 'legacy', 'max_features': 1.0, 'max_samples': 1350, 'n_estimators': 100, 'n_jobs': None, 'random_state': None, 'verbose': 0}\n"
     ]
    },
    {
     "name": "stderr",
     "output_type": "stream",
     "text": [
      "/Users/thesard/anaconda3/lib/python3.7/site-packages/sklearn/ensemble/iforest.py:213: FutureWarning: default contamination parameter 0.1 will change in version 0.22 to \"auto\". This will change the predict method behavior.\n",
      "  FutureWarning)\n"
     ]
    },
    {
     "name": "stdout",
     "output_type": "stream",
     "text": [
      "Information about the first tree\n",
      "The tree = ExtraTreeRegressor(criterion='mse', max_depth=11, max_features=1,\n",
      "          max_leaf_nodes=None, min_impurity_decrease=0.0,\n",
      "          min_impurity_split=None, min_samples_leaf=1, min_samples_split=2,\n",
      "          min_weight_fraction_leaf=0.0, random_state=1098756034,\n",
      "          splitter='random')\n",
      "max_samples = 1355\n",
      "{'behaviour': 'new', 'bootstrap': False, 'contamination': 'legacy', 'max_features': 1.0, 'max_samples': 1355, 'n_estimators': 100, 'n_jobs': None, 'random_state': None, 'verbose': 0}\n"
     ]
    },
    {
     "name": "stderr",
     "output_type": "stream",
     "text": [
      "/Users/thesard/anaconda3/lib/python3.7/site-packages/sklearn/ensemble/iforest.py:213: FutureWarning: default contamination parameter 0.1 will change in version 0.22 to \"auto\". This will change the predict method behavior.\n",
      "  FutureWarning)\n"
     ]
    },
    {
     "name": "stdout",
     "output_type": "stream",
     "text": [
      "Information about the first tree\n",
      "The tree = ExtraTreeRegressor(criterion='mse', max_depth=11, max_features=1,\n",
      "          max_leaf_nodes=None, min_impurity_decrease=0.0,\n",
      "          min_impurity_split=None, min_samples_leaf=1, min_samples_split=2,\n",
      "          min_weight_fraction_leaf=0.0, random_state=1415195871,\n",
      "          splitter='random')\n",
      "max_samples = 1360\n",
      "{'behaviour': 'new', 'bootstrap': False, 'contamination': 'legacy', 'max_features': 1.0, 'max_samples': 1360, 'n_estimators': 100, 'n_jobs': None, 'random_state': None, 'verbose': 0}\n"
     ]
    },
    {
     "name": "stderr",
     "output_type": "stream",
     "text": [
      "/Users/thesard/anaconda3/lib/python3.7/site-packages/sklearn/ensemble/iforest.py:213: FutureWarning: default contamination parameter 0.1 will change in version 0.22 to \"auto\". This will change the predict method behavior.\n",
      "  FutureWarning)\n"
     ]
    },
    {
     "name": "stdout",
     "output_type": "stream",
     "text": [
      "Information about the first tree\n",
      "The tree = ExtraTreeRegressor(criterion='mse', max_depth=11, max_features=1,\n",
      "          max_leaf_nodes=None, min_impurity_decrease=0.0,\n",
      "          min_impurity_split=None, min_samples_leaf=1, min_samples_split=2,\n",
      "          min_weight_fraction_leaf=0.0, random_state=752332731,\n",
      "          splitter='random')\n",
      "max_samples = 1365\n",
      "{'behaviour': 'new', 'bootstrap': False, 'contamination': 'legacy', 'max_features': 1.0, 'max_samples': 1365, 'n_estimators': 100, 'n_jobs': None, 'random_state': None, 'verbose': 0}\n"
     ]
    },
    {
     "name": "stderr",
     "output_type": "stream",
     "text": [
      "/Users/thesard/anaconda3/lib/python3.7/site-packages/sklearn/ensemble/iforest.py:213: FutureWarning: default contamination parameter 0.1 will change in version 0.22 to \"auto\". This will change the predict method behavior.\n",
      "  FutureWarning)\n"
     ]
    },
    {
     "name": "stdout",
     "output_type": "stream",
     "text": [
      "Information about the first tree\n",
      "The tree = ExtraTreeRegressor(criterion='mse', max_depth=11, max_features=1,\n",
      "          max_leaf_nodes=None, min_impurity_decrease=0.0,\n",
      "          min_impurity_split=None, min_samples_leaf=1, min_samples_split=2,\n",
      "          min_weight_fraction_leaf=0.0, random_state=975991374,\n",
      "          splitter='random')\n",
      "max_samples = 1370\n",
      "{'behaviour': 'new', 'bootstrap': False, 'contamination': 'legacy', 'max_features': 1.0, 'max_samples': 1370, 'n_estimators': 100, 'n_jobs': None, 'random_state': None, 'verbose': 0}\n"
     ]
    },
    {
     "name": "stderr",
     "output_type": "stream",
     "text": [
      "/Users/thesard/anaconda3/lib/python3.7/site-packages/sklearn/ensemble/iforest.py:213: FutureWarning: default contamination parameter 0.1 will change in version 0.22 to \"auto\". This will change the predict method behavior.\n",
      "  FutureWarning)\n"
     ]
    },
    {
     "name": "stdout",
     "output_type": "stream",
     "text": [
      "Information about the first tree\n",
      "The tree = ExtraTreeRegressor(criterion='mse', max_depth=11, max_features=1,\n",
      "          max_leaf_nodes=None, min_impurity_decrease=0.0,\n",
      "          min_impurity_split=None, min_samples_leaf=1, min_samples_split=2,\n",
      "          min_weight_fraction_leaf=0.0, random_state=1127130144,\n",
      "          splitter='random')\n",
      "max_samples = 1375\n",
      "{'behaviour': 'new', 'bootstrap': False, 'contamination': 'legacy', 'max_features': 1.0, 'max_samples': 1375, 'n_estimators': 100, 'n_jobs': None, 'random_state': None, 'verbose': 0}\n"
     ]
    },
    {
     "name": "stderr",
     "output_type": "stream",
     "text": [
      "/Users/thesard/anaconda3/lib/python3.7/site-packages/sklearn/ensemble/iforest.py:213: FutureWarning: default contamination parameter 0.1 will change in version 0.22 to \"auto\". This will change the predict method behavior.\n",
      "  FutureWarning)\n"
     ]
    },
    {
     "name": "stdout",
     "output_type": "stream",
     "text": [
      "Information about the first tree\n",
      "The tree = ExtraTreeRegressor(criterion='mse', max_depth=11, max_features=1,\n",
      "          max_leaf_nodes=None, min_impurity_decrease=0.0,\n",
      "          min_impurity_split=None, min_samples_leaf=1, min_samples_split=2,\n",
      "          min_weight_fraction_leaf=0.0, random_state=221118877,\n",
      "          splitter='random')\n",
      "max_samples = 1380\n",
      "{'behaviour': 'new', 'bootstrap': False, 'contamination': 'legacy', 'max_features': 1.0, 'max_samples': 1380, 'n_estimators': 100, 'n_jobs': None, 'random_state': None, 'verbose': 0}\n"
     ]
    },
    {
     "name": "stderr",
     "output_type": "stream",
     "text": [
      "/Users/thesard/anaconda3/lib/python3.7/site-packages/sklearn/ensemble/iforest.py:213: FutureWarning: default contamination parameter 0.1 will change in version 0.22 to \"auto\". This will change the predict method behavior.\n",
      "  FutureWarning)\n"
     ]
    },
    {
     "name": "stdout",
     "output_type": "stream",
     "text": [
      "Information about the first tree\n",
      "The tree = ExtraTreeRegressor(criterion='mse', max_depth=11, max_features=1,\n",
      "          max_leaf_nodes=None, min_impurity_decrease=0.0,\n",
      "          min_impurity_split=None, min_samples_leaf=1, min_samples_split=2,\n",
      "          min_weight_fraction_leaf=0.0, random_state=600823368,\n",
      "          splitter='random')\n",
      "max_samples = 1385\n",
      "{'behaviour': 'new', 'bootstrap': False, 'contamination': 'legacy', 'max_features': 1.0, 'max_samples': 1385, 'n_estimators': 100, 'n_jobs': None, 'random_state': None, 'verbose': 0}\n"
     ]
    },
    {
     "name": "stderr",
     "output_type": "stream",
     "text": [
      "/Users/thesard/anaconda3/lib/python3.7/site-packages/sklearn/ensemble/iforest.py:213: FutureWarning: default contamination parameter 0.1 will change in version 0.22 to \"auto\". This will change the predict method behavior.\n",
      "  FutureWarning)\n"
     ]
    },
    {
     "name": "stdout",
     "output_type": "stream",
     "text": [
      "Information about the first tree\n",
      "The tree = ExtraTreeRegressor(criterion='mse', max_depth=11, max_features=1,\n",
      "          max_leaf_nodes=None, min_impurity_decrease=0.0,\n",
      "          min_impurity_split=None, min_samples_leaf=1, min_samples_split=2,\n",
      "          min_weight_fraction_leaf=0.0, random_state=1260724302,\n",
      "          splitter='random')\n",
      "max_samples = 1390\n",
      "{'behaviour': 'new', 'bootstrap': False, 'contamination': 'legacy', 'max_features': 1.0, 'max_samples': 1390, 'n_estimators': 100, 'n_jobs': None, 'random_state': None, 'verbose': 0}\n"
     ]
    },
    {
     "name": "stderr",
     "output_type": "stream",
     "text": [
      "/Users/thesard/anaconda3/lib/python3.7/site-packages/sklearn/ensemble/iforest.py:213: FutureWarning: default contamination parameter 0.1 will change in version 0.22 to \"auto\". This will change the predict method behavior.\n",
      "  FutureWarning)\n"
     ]
    },
    {
     "name": "stdout",
     "output_type": "stream",
     "text": [
      "Information about the first tree\n",
      "The tree = ExtraTreeRegressor(criterion='mse', max_depth=11, max_features=1,\n",
      "          max_leaf_nodes=None, min_impurity_decrease=0.0,\n",
      "          min_impurity_split=None, min_samples_leaf=1, min_samples_split=2,\n",
      "          min_weight_fraction_leaf=0.0, random_state=607191132,\n",
      "          splitter='random')\n",
      "max_samples = 1395\n",
      "{'behaviour': 'new', 'bootstrap': False, 'contamination': 'legacy', 'max_features': 1.0, 'max_samples': 1395, 'n_estimators': 100, 'n_jobs': None, 'random_state': None, 'verbose': 0}\n"
     ]
    },
    {
     "name": "stderr",
     "output_type": "stream",
     "text": [
      "/Users/thesard/anaconda3/lib/python3.7/site-packages/sklearn/ensemble/iforest.py:213: FutureWarning: default contamination parameter 0.1 will change in version 0.22 to \"auto\". This will change the predict method behavior.\n",
      "  FutureWarning)\n"
     ]
    },
    {
     "name": "stdout",
     "output_type": "stream",
     "text": [
      "Information about the first tree\n",
      "The tree = ExtraTreeRegressor(criterion='mse', max_depth=11, max_features=1,\n",
      "          max_leaf_nodes=None, min_impurity_decrease=0.0,\n",
      "          min_impurity_split=None, min_samples_leaf=1, min_samples_split=2,\n",
      "          min_weight_fraction_leaf=0.0, random_state=1153623604,\n",
      "          splitter='random')\n",
      "max_samples = 1400\n",
      "{'behaviour': 'new', 'bootstrap': False, 'contamination': 'legacy', 'max_features': 1.0, 'max_samples': 1400, 'n_estimators': 100, 'n_jobs': None, 'random_state': None, 'verbose': 0}\n"
     ]
    },
    {
     "name": "stderr",
     "output_type": "stream",
     "text": [
      "/Users/thesard/anaconda3/lib/python3.7/site-packages/sklearn/ensemble/iforest.py:213: FutureWarning: default contamination parameter 0.1 will change in version 0.22 to \"auto\". This will change the predict method behavior.\n",
      "  FutureWarning)\n"
     ]
    },
    {
     "name": "stdout",
     "output_type": "stream",
     "text": [
      "Information about the first tree\n",
      "The tree = ExtraTreeRegressor(criterion='mse', max_depth=11, max_features=1,\n",
      "          max_leaf_nodes=None, min_impurity_decrease=0.0,\n",
      "          min_impurity_split=None, min_samples_leaf=1, min_samples_split=2,\n",
      "          min_weight_fraction_leaf=0.0, random_state=823132020,\n",
      "          splitter='random')\n",
      "max_samples = 1405\n",
      "{'behaviour': 'new', 'bootstrap': False, 'contamination': 'legacy', 'max_features': 1.0, 'max_samples': 1405, 'n_estimators': 100, 'n_jobs': None, 'random_state': None, 'verbose': 0}\n"
     ]
    },
    {
     "name": "stderr",
     "output_type": "stream",
     "text": [
      "/Users/thesard/anaconda3/lib/python3.7/site-packages/sklearn/ensemble/iforest.py:213: FutureWarning: default contamination parameter 0.1 will change in version 0.22 to \"auto\". This will change the predict method behavior.\n",
      "  FutureWarning)\n"
     ]
    },
    {
     "name": "stdout",
     "output_type": "stream",
     "text": [
      "Information about the first tree\n",
      "The tree = ExtraTreeRegressor(criterion='mse', max_depth=11, max_features=1,\n",
      "          max_leaf_nodes=None, min_impurity_decrease=0.0,\n",
      "          min_impurity_split=None, min_samples_leaf=1, min_samples_split=2,\n",
      "          min_weight_fraction_leaf=0.0, random_state=552227548,\n",
      "          splitter='random')\n",
      "max_samples = 1410\n",
      "{'behaviour': 'new', 'bootstrap': False, 'contamination': 'legacy', 'max_features': 1.0, 'max_samples': 1410, 'n_estimators': 100, 'n_jobs': None, 'random_state': None, 'verbose': 0}\n"
     ]
    },
    {
     "name": "stderr",
     "output_type": "stream",
     "text": [
      "/Users/thesard/anaconda3/lib/python3.7/site-packages/sklearn/ensemble/iforest.py:213: FutureWarning: default contamination parameter 0.1 will change in version 0.22 to \"auto\". This will change the predict method behavior.\n",
      "  FutureWarning)\n"
     ]
    },
    {
     "name": "stdout",
     "output_type": "stream",
     "text": [
      "Information about the first tree\n",
      "The tree = ExtraTreeRegressor(criterion='mse', max_depth=11, max_features=1,\n",
      "          max_leaf_nodes=None, min_impurity_decrease=0.0,\n",
      "          min_impurity_split=None, min_samples_leaf=1, min_samples_split=2,\n",
      "          min_weight_fraction_leaf=0.0, random_state=1211219001,\n",
      "          splitter='random')\n",
      "max_samples = 1415\n",
      "{'behaviour': 'new', 'bootstrap': False, 'contamination': 'legacy', 'max_features': 1.0, 'max_samples': 1415, 'n_estimators': 100, 'n_jobs': None, 'random_state': None, 'verbose': 0}\n"
     ]
    },
    {
     "name": "stderr",
     "output_type": "stream",
     "text": [
      "/Users/thesard/anaconda3/lib/python3.7/site-packages/sklearn/ensemble/iforest.py:213: FutureWarning: default contamination parameter 0.1 will change in version 0.22 to \"auto\". This will change the predict method behavior.\n",
      "  FutureWarning)\n"
     ]
    },
    {
     "name": "stdout",
     "output_type": "stream",
     "text": [
      "Information about the first tree\n",
      "The tree = ExtraTreeRegressor(criterion='mse', max_depth=11, max_features=1,\n",
      "          max_leaf_nodes=None, min_impurity_decrease=0.0,\n",
      "          min_impurity_split=None, min_samples_leaf=1, min_samples_split=2,\n",
      "          min_weight_fraction_leaf=0.0, random_state=635546751,\n",
      "          splitter='random')\n",
      "max_samples = 1420\n",
      "{'behaviour': 'new', 'bootstrap': False, 'contamination': 'legacy', 'max_features': 1.0, 'max_samples': 1420, 'n_estimators': 100, 'n_jobs': None, 'random_state': None, 'verbose': 0}\n"
     ]
    },
    {
     "name": "stderr",
     "output_type": "stream",
     "text": [
      "/Users/thesard/anaconda3/lib/python3.7/site-packages/sklearn/ensemble/iforest.py:213: FutureWarning: default contamination parameter 0.1 will change in version 0.22 to \"auto\". This will change the predict method behavior.\n",
      "  FutureWarning)\n"
     ]
    },
    {
     "name": "stdout",
     "output_type": "stream",
     "text": [
      "Information about the first tree\n",
      "The tree = ExtraTreeRegressor(criterion='mse', max_depth=11, max_features=1,\n",
      "          max_leaf_nodes=None, min_impurity_decrease=0.0,\n",
      "          min_impurity_split=None, min_samples_leaf=1, min_samples_split=2,\n",
      "          min_weight_fraction_leaf=0.0, random_state=1824770493,\n",
      "          splitter='random')\n",
      "max_samples = 1425\n",
      "{'behaviour': 'new', 'bootstrap': False, 'contamination': 'legacy', 'max_features': 1.0, 'max_samples': 1425, 'n_estimators': 100, 'n_jobs': None, 'random_state': None, 'verbose': 0}\n"
     ]
    },
    {
     "name": "stderr",
     "output_type": "stream",
     "text": [
      "/Users/thesard/anaconda3/lib/python3.7/site-packages/sklearn/ensemble/iforest.py:213: FutureWarning: default contamination parameter 0.1 will change in version 0.22 to \"auto\". This will change the predict method behavior.\n",
      "  FutureWarning)\n"
     ]
    },
    {
     "name": "stdout",
     "output_type": "stream",
     "text": [
      "Information about the first tree\n",
      "The tree = ExtraTreeRegressor(criterion='mse', max_depth=11, max_features=1,\n",
      "          max_leaf_nodes=None, min_impurity_decrease=0.0,\n",
      "          min_impurity_split=None, min_samples_leaf=1, min_samples_split=2,\n",
      "          min_weight_fraction_leaf=0.0, random_state=2132706563,\n",
      "          splitter='random')\n",
      "max_samples = 1430\n",
      "{'behaviour': 'new', 'bootstrap': False, 'contamination': 'legacy', 'max_features': 1.0, 'max_samples': 1430, 'n_estimators': 100, 'n_jobs': None, 'random_state': None, 'verbose': 0}\n"
     ]
    },
    {
     "name": "stderr",
     "output_type": "stream",
     "text": [
      "/Users/thesard/anaconda3/lib/python3.7/site-packages/sklearn/ensemble/iforest.py:213: FutureWarning: default contamination parameter 0.1 will change in version 0.22 to \"auto\". This will change the predict method behavior.\n",
      "  FutureWarning)\n"
     ]
    },
    {
     "name": "stdout",
     "output_type": "stream",
     "text": [
      "Information about the first tree\n",
      "The tree = ExtraTreeRegressor(criterion='mse', max_depth=11, max_features=1,\n",
      "          max_leaf_nodes=None, min_impurity_decrease=0.0,\n",
      "          min_impurity_split=None, min_samples_leaf=1, min_samples_split=2,\n",
      "          min_weight_fraction_leaf=0.0, random_state=77955718,\n",
      "          splitter='random')\n",
      "max_samples = 1435\n",
      "{'behaviour': 'new', 'bootstrap': False, 'contamination': 'legacy', 'max_features': 1.0, 'max_samples': 1435, 'n_estimators': 100, 'n_jobs': None, 'random_state': None, 'verbose': 0}\n"
     ]
    },
    {
     "name": "stderr",
     "output_type": "stream",
     "text": [
      "/Users/thesard/anaconda3/lib/python3.7/site-packages/sklearn/ensemble/iforest.py:213: FutureWarning: default contamination parameter 0.1 will change in version 0.22 to \"auto\". This will change the predict method behavior.\n",
      "  FutureWarning)\n"
     ]
    },
    {
     "name": "stdout",
     "output_type": "stream",
     "text": [
      "Information about the first tree\n",
      "The tree = ExtraTreeRegressor(criterion='mse', max_depth=11, max_features=1,\n",
      "          max_leaf_nodes=None, min_impurity_decrease=0.0,\n",
      "          min_impurity_split=None, min_samples_leaf=1, min_samples_split=2,\n",
      "          min_weight_fraction_leaf=0.0, random_state=596741837,\n",
      "          splitter='random')\n",
      "max_samples = 1440\n",
      "{'behaviour': 'new', 'bootstrap': False, 'contamination': 'legacy', 'max_features': 1.0, 'max_samples': 1440, 'n_estimators': 100, 'n_jobs': None, 'random_state': None, 'verbose': 0}\n"
     ]
    },
    {
     "name": "stderr",
     "output_type": "stream",
     "text": [
      "/Users/thesard/anaconda3/lib/python3.7/site-packages/sklearn/ensemble/iforest.py:213: FutureWarning: default contamination parameter 0.1 will change in version 0.22 to \"auto\". This will change the predict method behavior.\n",
      "  FutureWarning)\n"
     ]
    },
    {
     "name": "stdout",
     "output_type": "stream",
     "text": [
      "Information about the first tree\n",
      "The tree = ExtraTreeRegressor(criterion='mse', max_depth=11, max_features=1,\n",
      "          max_leaf_nodes=None, min_impurity_decrease=0.0,\n",
      "          min_impurity_split=None, min_samples_leaf=1, min_samples_split=2,\n",
      "          min_weight_fraction_leaf=0.0, random_state=1070254325,\n",
      "          splitter='random')\n",
      "max_samples = 1445\n",
      "{'behaviour': 'new', 'bootstrap': False, 'contamination': 'legacy', 'max_features': 1.0, 'max_samples': 1445, 'n_estimators': 100, 'n_jobs': None, 'random_state': None, 'verbose': 0}\n"
     ]
    },
    {
     "name": "stderr",
     "output_type": "stream",
     "text": [
      "/Users/thesard/anaconda3/lib/python3.7/site-packages/sklearn/ensemble/iforest.py:213: FutureWarning: default contamination parameter 0.1 will change in version 0.22 to \"auto\". This will change the predict method behavior.\n",
      "  FutureWarning)\n"
     ]
    },
    {
     "name": "stdout",
     "output_type": "stream",
     "text": [
      "Information about the first tree\n",
      "The tree = ExtraTreeRegressor(criterion='mse', max_depth=11, max_features=1,\n",
      "          max_leaf_nodes=None, min_impurity_decrease=0.0,\n",
      "          min_impurity_split=None, min_samples_leaf=1, min_samples_split=2,\n",
      "          min_weight_fraction_leaf=0.0, random_state=1386813957,\n",
      "          splitter='random')\n",
      "max_samples = 1450\n",
      "{'behaviour': 'new', 'bootstrap': False, 'contamination': 'legacy', 'max_features': 1.0, 'max_samples': 1450, 'n_estimators': 100, 'n_jobs': None, 'random_state': None, 'verbose': 0}\n"
     ]
    },
    {
     "name": "stderr",
     "output_type": "stream",
     "text": [
      "/Users/thesard/anaconda3/lib/python3.7/site-packages/sklearn/ensemble/iforest.py:213: FutureWarning: default contamination parameter 0.1 will change in version 0.22 to \"auto\". This will change the predict method behavior.\n",
      "  FutureWarning)\n"
     ]
    },
    {
     "name": "stdout",
     "output_type": "stream",
     "text": [
      "Information about the first tree\n",
      "The tree = ExtraTreeRegressor(criterion='mse', max_depth=11, max_features=1,\n",
      "          max_leaf_nodes=None, min_impurity_decrease=0.0,\n",
      "          min_impurity_split=None, min_samples_leaf=1, min_samples_split=2,\n",
      "          min_weight_fraction_leaf=0.0, random_state=1765726297,\n",
      "          splitter='random')\n",
      "max_samples = 1455\n",
      "{'behaviour': 'new', 'bootstrap': False, 'contamination': 'legacy', 'max_features': 1.0, 'max_samples': 1455, 'n_estimators': 100, 'n_jobs': None, 'random_state': None, 'verbose': 0}\n"
     ]
    },
    {
     "name": "stderr",
     "output_type": "stream",
     "text": [
      "/Users/thesard/anaconda3/lib/python3.7/site-packages/sklearn/ensemble/iforest.py:213: FutureWarning: default contamination parameter 0.1 will change in version 0.22 to \"auto\". This will change the predict method behavior.\n",
      "  FutureWarning)\n"
     ]
    },
    {
     "name": "stdout",
     "output_type": "stream",
     "text": [
      "Information about the first tree\n",
      "The tree = ExtraTreeRegressor(criterion='mse', max_depth=11, max_features=1,\n",
      "          max_leaf_nodes=None, min_impurity_decrease=0.0,\n",
      "          min_impurity_split=None, min_samples_leaf=1, min_samples_split=2,\n",
      "          min_weight_fraction_leaf=0.0, random_state=1446456394,\n",
      "          splitter='random')\n",
      "max_samples = 1460\n",
      "{'behaviour': 'new', 'bootstrap': False, 'contamination': 'legacy', 'max_features': 1.0, 'max_samples': 1460, 'n_estimators': 100, 'n_jobs': None, 'random_state': None, 'verbose': 0}\n"
     ]
    },
    {
     "name": "stderr",
     "output_type": "stream",
     "text": [
      "/Users/thesard/anaconda3/lib/python3.7/site-packages/sklearn/ensemble/iforest.py:213: FutureWarning: default contamination parameter 0.1 will change in version 0.22 to \"auto\". This will change the predict method behavior.\n",
      "  FutureWarning)\n"
     ]
    },
    {
     "name": "stdout",
     "output_type": "stream",
     "text": [
      "Information about the first tree\n",
      "The tree = ExtraTreeRegressor(criterion='mse', max_depth=11, max_features=1,\n",
      "          max_leaf_nodes=None, min_impurity_decrease=0.0,\n",
      "          min_impurity_split=None, min_samples_leaf=1, min_samples_split=2,\n",
      "          min_weight_fraction_leaf=0.0, random_state=354727493,\n",
      "          splitter='random')\n",
      "max_samples = 1465\n",
      "{'behaviour': 'new', 'bootstrap': False, 'contamination': 'legacy', 'max_features': 1.0, 'max_samples': 1465, 'n_estimators': 100, 'n_jobs': None, 'random_state': None, 'verbose': 0}\n"
     ]
    },
    {
     "name": "stderr",
     "output_type": "stream",
     "text": [
      "/Users/thesard/anaconda3/lib/python3.7/site-packages/sklearn/ensemble/iforest.py:213: FutureWarning: default contamination parameter 0.1 will change in version 0.22 to \"auto\". This will change the predict method behavior.\n",
      "  FutureWarning)\n"
     ]
    },
    {
     "name": "stdout",
     "output_type": "stream",
     "text": [
      "Information about the first tree\n",
      "The tree = ExtraTreeRegressor(criterion='mse', max_depth=11, max_features=1,\n",
      "          max_leaf_nodes=None, min_impurity_decrease=0.0,\n",
      "          min_impurity_split=None, min_samples_leaf=1, min_samples_split=2,\n",
      "          min_weight_fraction_leaf=0.0, random_state=396017032,\n",
      "          splitter='random')\n",
      "max_samples = 1470\n",
      "{'behaviour': 'new', 'bootstrap': False, 'contamination': 'legacy', 'max_features': 1.0, 'max_samples': 1470, 'n_estimators': 100, 'n_jobs': None, 'random_state': None, 'verbose': 0}\n"
     ]
    },
    {
     "name": "stderr",
     "output_type": "stream",
     "text": [
      "/Users/thesard/anaconda3/lib/python3.7/site-packages/sklearn/ensemble/iforest.py:213: FutureWarning: default contamination parameter 0.1 will change in version 0.22 to \"auto\". This will change the predict method behavior.\n",
      "  FutureWarning)\n"
     ]
    },
    {
     "name": "stdout",
     "output_type": "stream",
     "text": [
      "Information about the first tree\n",
      "The tree = ExtraTreeRegressor(criterion='mse', max_depth=11, max_features=1,\n",
      "          max_leaf_nodes=None, min_impurity_decrease=0.0,\n",
      "          min_impurity_split=None, min_samples_leaf=1, min_samples_split=2,\n",
      "          min_weight_fraction_leaf=0.0, random_state=1854442591,\n",
      "          splitter='random')\n",
      "max_samples = 1475\n",
      "{'behaviour': 'new', 'bootstrap': False, 'contamination': 'legacy', 'max_features': 1.0, 'max_samples': 1475, 'n_estimators': 100, 'n_jobs': None, 'random_state': None, 'verbose': 0}\n"
     ]
    },
    {
     "name": "stderr",
     "output_type": "stream",
     "text": [
      "/Users/thesard/anaconda3/lib/python3.7/site-packages/sklearn/ensemble/iforest.py:213: FutureWarning: default contamination parameter 0.1 will change in version 0.22 to \"auto\". This will change the predict method behavior.\n",
      "  FutureWarning)\n"
     ]
    },
    {
     "name": "stdout",
     "output_type": "stream",
     "text": [
      "Information about the first tree\n",
      "The tree = ExtraTreeRegressor(criterion='mse', max_depth=11, max_features=1,\n",
      "          max_leaf_nodes=None, min_impurity_decrease=0.0,\n",
      "          min_impurity_split=None, min_samples_leaf=1, min_samples_split=2,\n",
      "          min_weight_fraction_leaf=0.0, random_state=1804179196,\n",
      "          splitter='random')\n",
      "max_samples = 1480\n",
      "{'behaviour': 'new', 'bootstrap': False, 'contamination': 'legacy', 'max_features': 1.0, 'max_samples': 1480, 'n_estimators': 100, 'n_jobs': None, 'random_state': None, 'verbose': 0}\n"
     ]
    },
    {
     "name": "stderr",
     "output_type": "stream",
     "text": [
      "/Users/thesard/anaconda3/lib/python3.7/site-packages/sklearn/ensemble/iforest.py:213: FutureWarning: default contamination parameter 0.1 will change in version 0.22 to \"auto\". This will change the predict method behavior.\n",
      "  FutureWarning)\n"
     ]
    },
    {
     "name": "stdout",
     "output_type": "stream",
     "text": [
      "Information about the first tree\n",
      "The tree = ExtraTreeRegressor(criterion='mse', max_depth=11, max_features=1,\n",
      "          max_leaf_nodes=None, min_impurity_decrease=0.0,\n",
      "          min_impurity_split=None, min_samples_leaf=1, min_samples_split=2,\n",
      "          min_weight_fraction_leaf=0.0, random_state=993905762,\n",
      "          splitter='random')\n",
      "max_samples = 1485\n",
      "{'behaviour': 'new', 'bootstrap': False, 'contamination': 'legacy', 'max_features': 1.0, 'max_samples': 1485, 'n_estimators': 100, 'n_jobs': None, 'random_state': None, 'verbose': 0}\n"
     ]
    },
    {
     "name": "stderr",
     "output_type": "stream",
     "text": [
      "/Users/thesard/anaconda3/lib/python3.7/site-packages/sklearn/ensemble/iforest.py:213: FutureWarning: default contamination parameter 0.1 will change in version 0.22 to \"auto\". This will change the predict method behavior.\n",
      "  FutureWarning)\n"
     ]
    },
    {
     "name": "stdout",
     "output_type": "stream",
     "text": [
      "Information about the first tree\n",
      "The tree = ExtraTreeRegressor(criterion='mse', max_depth=11, max_features=1,\n",
      "          max_leaf_nodes=None, min_impurity_decrease=0.0,\n",
      "          min_impurity_split=None, min_samples_leaf=1, min_samples_split=2,\n",
      "          min_weight_fraction_leaf=0.0, random_state=1749096722,\n",
      "          splitter='random')\n",
      "max_samples = 1490\n",
      "{'behaviour': 'new', 'bootstrap': False, 'contamination': 'legacy', 'max_features': 1.0, 'max_samples': 1490, 'n_estimators': 100, 'n_jobs': None, 'random_state': None, 'verbose': 0}\n"
     ]
    },
    {
     "name": "stderr",
     "output_type": "stream",
     "text": [
      "/Users/thesard/anaconda3/lib/python3.7/site-packages/sklearn/ensemble/iforest.py:213: FutureWarning: default contamination parameter 0.1 will change in version 0.22 to \"auto\". This will change the predict method behavior.\n",
      "  FutureWarning)\n"
     ]
    },
    {
     "name": "stdout",
     "output_type": "stream",
     "text": [
      "Information about the first tree\n",
      "The tree = ExtraTreeRegressor(criterion='mse', max_depth=11, max_features=1,\n",
      "          max_leaf_nodes=None, min_impurity_decrease=0.0,\n",
      "          min_impurity_split=None, min_samples_leaf=1, min_samples_split=2,\n",
      "          min_weight_fraction_leaf=0.0, random_state=558097654,\n",
      "          splitter='random')\n",
      "max_samples = 1495\n",
      "{'behaviour': 'new', 'bootstrap': False, 'contamination': 'legacy', 'max_features': 1.0, 'max_samples': 1495, 'n_estimators': 100, 'n_jobs': None, 'random_state': None, 'verbose': 0}\n"
     ]
    },
    {
     "name": "stderr",
     "output_type": "stream",
     "text": [
      "/Users/thesard/anaconda3/lib/python3.7/site-packages/sklearn/ensemble/iforest.py:213: FutureWarning: default contamination parameter 0.1 will change in version 0.22 to \"auto\". This will change the predict method behavior.\n",
      "  FutureWarning)\n"
     ]
    },
    {
     "name": "stdout",
     "output_type": "stream",
     "text": [
      "Information about the first tree\n",
      "The tree = ExtraTreeRegressor(criterion='mse', max_depth=11, max_features=1,\n",
      "          max_leaf_nodes=None, min_impurity_decrease=0.0,\n",
      "          min_impurity_split=None, min_samples_leaf=1, min_samples_split=2,\n",
      "          min_weight_fraction_leaf=0.0, random_state=477507908,\n",
      "          splitter='random')\n",
      "max_samples = 1500\n",
      "{'behaviour': 'new', 'bootstrap': False, 'contamination': 'legacy', 'max_features': 1.0, 'max_samples': 1500, 'n_estimators': 100, 'n_jobs': None, 'random_state': None, 'verbose': 0}\n"
     ]
    },
    {
     "name": "stderr",
     "output_type": "stream",
     "text": [
      "/Users/thesard/anaconda3/lib/python3.7/site-packages/sklearn/ensemble/iforest.py:213: FutureWarning: default contamination parameter 0.1 will change in version 0.22 to \"auto\". This will change the predict method behavior.\n",
      "  FutureWarning)\n"
     ]
    },
    {
     "name": "stdout",
     "output_type": "stream",
     "text": [
      "Information about the first tree\n",
      "The tree = ExtraTreeRegressor(criterion='mse', max_depth=11, max_features=1,\n",
      "          max_leaf_nodes=None, min_impurity_decrease=0.0,\n",
      "          min_impurity_split=None, min_samples_leaf=1, min_samples_split=2,\n",
      "          min_weight_fraction_leaf=0.0, random_state=780269100,\n",
      "          splitter='random')\n",
      "max_samples = 1505\n",
      "{'behaviour': 'new', 'bootstrap': False, 'contamination': 'legacy', 'max_features': 1.0, 'max_samples': 1505, 'n_estimators': 100, 'n_jobs': None, 'random_state': None, 'verbose': 0}\n"
     ]
    },
    {
     "name": "stderr",
     "output_type": "stream",
     "text": [
      "/Users/thesard/anaconda3/lib/python3.7/site-packages/sklearn/ensemble/iforest.py:213: FutureWarning: default contamination parameter 0.1 will change in version 0.22 to \"auto\". This will change the predict method behavior.\n",
      "  FutureWarning)\n"
     ]
    },
    {
     "name": "stdout",
     "output_type": "stream",
     "text": [
      "Information about the first tree\n",
      "The tree = ExtraTreeRegressor(criterion='mse', max_depth=11, max_features=1,\n",
      "          max_leaf_nodes=None, min_impurity_decrease=0.0,\n",
      "          min_impurity_split=None, min_samples_leaf=1, min_samples_split=2,\n",
      "          min_weight_fraction_leaf=0.0, random_state=1838171237,\n",
      "          splitter='random')\n",
      "max_samples = 1510\n",
      "{'behaviour': 'new', 'bootstrap': False, 'contamination': 'legacy', 'max_features': 1.0, 'max_samples': 1510, 'n_estimators': 100, 'n_jobs': None, 'random_state': None, 'verbose': 0}\n"
     ]
    },
    {
     "name": "stderr",
     "output_type": "stream",
     "text": [
      "/Users/thesard/anaconda3/lib/python3.7/site-packages/sklearn/ensemble/iforest.py:213: FutureWarning: default contamination parameter 0.1 will change in version 0.22 to \"auto\". This will change the predict method behavior.\n",
      "  FutureWarning)\n"
     ]
    },
    {
     "name": "stdout",
     "output_type": "stream",
     "text": [
      "Information about the first tree\n",
      "The tree = ExtraTreeRegressor(criterion='mse', max_depth=11, max_features=1,\n",
      "          max_leaf_nodes=None, min_impurity_decrease=0.0,\n",
      "          min_impurity_split=None, min_samples_leaf=1, min_samples_split=2,\n",
      "          min_weight_fraction_leaf=0.0, random_state=2123772248,\n",
      "          splitter='random')\n",
      "max_samples = 1515\n",
      "{'behaviour': 'new', 'bootstrap': False, 'contamination': 'legacy', 'max_features': 1.0, 'max_samples': 1515, 'n_estimators': 100, 'n_jobs': None, 'random_state': None, 'verbose': 0}\n"
     ]
    },
    {
     "name": "stderr",
     "output_type": "stream",
     "text": [
      "/Users/thesard/anaconda3/lib/python3.7/site-packages/sklearn/ensemble/iforest.py:213: FutureWarning: default contamination parameter 0.1 will change in version 0.22 to \"auto\". This will change the predict method behavior.\n",
      "  FutureWarning)\n"
     ]
    },
    {
     "name": "stdout",
     "output_type": "stream",
     "text": [
      "Information about the first tree\n",
      "The tree = ExtraTreeRegressor(criterion='mse', max_depth=11, max_features=1,\n",
      "          max_leaf_nodes=None, min_impurity_decrease=0.0,\n",
      "          min_impurity_split=None, min_samples_leaf=1, min_samples_split=2,\n",
      "          min_weight_fraction_leaf=0.0, random_state=1636859732,\n",
      "          splitter='random')\n"
     ]
    }
   ],
   "source": [
    "roc_auc_IF = []\n",
    "max_samples_IF = []\n",
    "\n",
    "for j in range(5, len(X_brut), 5):\n",
    "    print(\"max_samples = \"+str(j))\n",
    "    max_samples = j\n",
    "    # Instanciation, fit and predict on Shuttle\n",
    "    func_IF = IsolationForest(max_samples=max_samples, behaviour=\"new\")\n",
    "    print(func_IF.get_params(True))\n",
    "    func_IF.fit(X_brut)\n",
    "    print(\"Information about the first tree\")\n",
    "    print(\"The tree = \"+ str(func_IF.estimators_[0]))\n",
    "    #print(\"The tree params = \"+ str(func_IF.estimators_[0].get_params(True)))\n",
    "    #print(\"Depth used = \"+ str(func_IF.estimators_[0].tree_.get_depth()))\n",
    "    #print(\"number of leaves at the end = \"+ str(func_IF.estimators_[0].get_n_leaves()))\n",
    "    y_pred_IF = func_IF.predict(X_brut)\n",
    "\n",
    "    # Calcul de l'aire sous la courbe ROC\n",
    "    y_DF_IF = func_IF.decision_function(X_brut)\n",
    "\n",
    "    auc_IF = roc_auc_score(y_transform, y_DF_IF)\n",
    "    if auc_IF >= min_roc_auc:\n",
    "        print(\"auc_IF = \"+str(auc_IF))\n",
    "        roc_auc_IF.append(auc_IF)\n",
    "        max_samples_IF.append(j)"
   ]
  },
  {
   "cell_type": "code",
   "execution_count": 22,
   "metadata": {},
   "outputs": [
    {
     "data": {
      "image/png": "[encoded data removed]",
      "text/plain": [
       "<Figure size 432x288 with 1 Axes>"
      ]
     },
     "metadata": {
      "needs_background": "light"
     },
     "output_type": "display_data"
    }
   ],
   "source": [
    "plt.plot(max_samples_IF, roc_auc_IF,  \"b-\", marker='.', markerfacecolor='blue', markersize=6, color='skyblue')\n",
    "plt.title(\"ROC AUC Min = \"+str(min_roc_auc))\n",
    "#plt.axis([0, 1, 0, 1])\n",
    "plt.xlabel('Max_samples')\n",
    "plt.ylabel('ROC AUC')\n",
    "plt.show()"
   ]
  },
  {
   "cell_type": "code",
   "execution_count": 32,
   "metadata": {},
   "outputs": [
    {
     "ename": "InvocationException",
     "evalue": "GraphViz's executables not found",
     "output_type": "error",
     "traceback": [
      "\u001b[0;31m---------------------------------------------------------------------------\u001b[0m",
      "\u001b[0;31mInvocationException\u001b[0m                       Traceback (most recent call last)",
      "\u001b[0;32m<ipython-input-32-c2791de975c2>\u001b[0m in \u001b[0;36m<module>\u001b[0;34m\u001b[0m\n\u001b[1;32m      8\u001b[0m                 special_characters=True)\n\u001b[1;32m      9\u001b[0m \u001b[0mgraph\u001b[0m \u001b[0;34m=\u001b[0m \u001b[0mpydotplus\u001b[0m\u001b[0;34m.\u001b[0m\u001b[0mgraph_from_dot_data\u001b[0m\u001b[0;34m(\u001b[0m\u001b[0mdot_data\u001b[0m\u001b[0;34m.\u001b[0m\u001b[0mgetvalue\u001b[0m\u001b[0;34m(\u001b[0m\u001b[0;34m)\u001b[0m\u001b[0;34m)\u001b[0m\u001b[0;34m\u001b[0m\u001b[0;34m\u001b[0m\u001b[0m\n\u001b[0;32m---> 10\u001b[0;31m \u001b[0mgraph\u001b[0m\u001b[0;34m.\u001b[0m\u001b[0mcreate_png\u001b[0m\u001b[0;34m(\u001b[0m\u001b[0;34m)\u001b[0m\u001b[0;34m\u001b[0m\u001b[0;34m\u001b[0m\u001b[0m\n\u001b[0m\u001b[1;32m     11\u001b[0m \u001b[0;31m#Image(graph.create_png())\u001b[0m\u001b[0;34m\u001b[0m\u001b[0;34m\u001b[0m\u001b[0;34m\u001b[0m\u001b[0m\n\u001b[1;32m     12\u001b[0m \u001b[0;31m#graph\u001b[0m\u001b[0;34m\u001b[0m\u001b[0;34m\u001b[0m\u001b[0;34m\u001b[0m\u001b[0m\n",
      "\u001b[0;32m~/anaconda3/lib/python3.7/site-packages/pydotplus/graphviz.py\u001b[0m in \u001b[0;36m<lambda>\u001b[0;34m(f, prog)\u001b[0m\n\u001b[1;32m   1795\u001b[0m             self.__setattr__(\n\u001b[1;32m   1796\u001b[0m                 \u001b[0;34m'create_'\u001b[0m \u001b[0;34m+\u001b[0m \u001b[0mfrmt\u001b[0m\u001b[0;34m,\u001b[0m\u001b[0;34m\u001b[0m\u001b[0;34m\u001b[0m\u001b[0m\n\u001b[0;32m-> 1797\u001b[0;31m                 \u001b[0;32mlambda\u001b[0m \u001b[0mf\u001b[0m\u001b[0;34m=\u001b[0m\u001b[0mfrmt\u001b[0m\u001b[0;34m,\u001b[0m \u001b[0mprog\u001b[0m\u001b[0;34m=\u001b[0m\u001b[0mself\u001b[0m\u001b[0;34m.\u001b[0m\u001b[0mprog\u001b[0m\u001b[0;34m:\u001b[0m \u001b[0mself\u001b[0m\u001b[0;34m.\u001b[0m\u001b[0mcreate\u001b[0m\u001b[0;34m(\u001b[0m\u001b[0mformat\u001b[0m\u001b[0;34m=\u001b[0m\u001b[0mf\u001b[0m\u001b[0;34m,\u001b[0m \u001b[0mprog\u001b[0m\u001b[0;34m=\u001b[0m\u001b[0mprog\u001b[0m\u001b[0;34m)\u001b[0m\u001b[0;34m\u001b[0m\u001b[0;34m\u001b[0m\u001b[0m\n\u001b[0m\u001b[1;32m   1798\u001b[0m             )\n\u001b[1;32m   1799\u001b[0m             \u001b[0mf\u001b[0m \u001b[0;34m=\u001b[0m \u001b[0mself\u001b[0m\u001b[0;34m.\u001b[0m\u001b[0m__dict__\u001b[0m\u001b[0;34m[\u001b[0m\u001b[0;34m'create_'\u001b[0m \u001b[0;34m+\u001b[0m \u001b[0mfrmt\u001b[0m\u001b[0;34m]\u001b[0m\u001b[0;34m\u001b[0m\u001b[0;34m\u001b[0m\u001b[0m\n",
      "\u001b[0;32m~/anaconda3/lib/python3.7/site-packages/pydotplus/graphviz.py\u001b[0m in \u001b[0;36mcreate\u001b[0;34m(self, prog, format)\u001b[0m\n\u001b[1;32m   1958\u001b[0m             \u001b[0;32mif\u001b[0m \u001b[0mself\u001b[0m\u001b[0;34m.\u001b[0m\u001b[0mprogs\u001b[0m \u001b[0;32mis\u001b[0m \u001b[0;32mNone\u001b[0m\u001b[0;34m:\u001b[0m\u001b[0;34m\u001b[0m\u001b[0;34m\u001b[0m\u001b[0m\n\u001b[1;32m   1959\u001b[0m                 raise InvocationException(\n\u001b[0;32m-> 1960\u001b[0;31m                     'GraphViz\\'s executables not found')\n\u001b[0m\u001b[1;32m   1961\u001b[0m \u001b[0;34m\u001b[0m\u001b[0m\n\u001b[1;32m   1962\u001b[0m         \u001b[0;32mif\u001b[0m \u001b[0mprog\u001b[0m \u001b[0;32mnot\u001b[0m \u001b[0;32min\u001b[0m \u001b[0mself\u001b[0m\u001b[0;34m.\u001b[0m\u001b[0mprogs\u001b[0m\u001b[0;34m:\u001b[0m\u001b[0;34m\u001b[0m\u001b[0;34m\u001b[0m\u001b[0m\n",
      "\u001b[0;31mInvocationException\u001b[0m: GraphViz's executables not found"
     ]
    }
   ],
   "source": [
    "from sklearn.externals.six import StringIO  \n",
    "from IPython.display import Image  \n",
    "from sklearn.tree import export_graphviz\n",
    "import pydotplus\n",
    "dot_data = StringIO()\n",
    "export_graphviz(func_IF.estimators_[0], out_file=dot_data,  \n",
    "                filled=True, rounded=True,\n",
    "                special_characters=True)\n",
    "graph = pydotplus.graph_from_dot_data(dot_data.getvalue()) \n",
    "Image(graph.write_png('./filename.png'))\n",
    "#Image(graph.create_png())\n",
    "#graph"
   ]
  },
  {
   "cell_type": "markdown",
   "metadata": {},
   "source": [
    "## Test avec LOF"
   ]
  },
  {
   "cell_type": "code",
   "execution_count": 15,
   "metadata": {},
   "outputs": [
    {
     "name": "stdout",
     "output_type": "stream",
     "text": [
      "[[  15    0]\n",
      " [ 111 1390]]\n",
      "0.9985787252942484\n",
      "[[  15    0]\n",
      " [ 111 1390]]\n",
      "0.9985787252942484\n",
      "[[  15    0]\n",
      " [ 111 1390]]\n",
      "0.9985787252942484\n",
      "[[  15    0]\n",
      " [ 111 1390]]\n",
      "0.9985787252942484\n",
      "[[  15    0]\n",
      " [ 111 1390]]\n",
      "0.9985787252942484\n"
     ]
    },
    {
     "name": "stderr",
     "output_type": "stream",
     "text": [
      "/Users/thesard/anaconda3/lib/python3.7/site-packages/sklearn/neighbors/lof.py:236: FutureWarning: default contamination parameter 0.1 will change in version 0.22 to \"auto\". This will change the predict method behavior.\n",
      "  FutureWarning)\n",
      "/Users/thesard/anaconda3/lib/python3.7/site-packages/sklearn/neighbors/lof.py:236: FutureWarning: default contamination parameter 0.1 will change in version 0.22 to \"auto\". This will change the predict method behavior.\n",
      "  FutureWarning)\n",
      "/Users/thesard/anaconda3/lib/python3.7/site-packages/sklearn/neighbors/lof.py:236: FutureWarning: default contamination parameter 0.1 will change in version 0.22 to \"auto\". This will change the predict method behavior.\n",
      "  FutureWarning)\n",
      "/Users/thesard/anaconda3/lib/python3.7/site-packages/sklearn/neighbors/lof.py:236: FutureWarning: default contamination parameter 0.1 will change in version 0.22 to \"auto\". This will change the predict method behavior.\n",
      "  FutureWarning)\n",
      "/Users/thesard/anaconda3/lib/python3.7/site-packages/sklearn/neighbors/lof.py:236: FutureWarning: default contamination parameter 0.1 will change in version 0.22 to \"auto\". This will change the predict method behavior.\n",
      "  FutureWarning)\n"
     ]
    }
   ],
   "source": [
    "from sklearn.neighbors import LocalOutlierFactor\n",
    "for i in range(5):\n",
    "    # Instanciation, fit and predict on Shuttle\n",
    "    func_LOF = LocalOutlierFactor(novelty = True)\n",
    "    func_LOF.fit(X_brut)\n",
    "    y_pred_LOF = func_LOF.predict(X_brut)\n",
    "    # Calcul de l'aire sous la courbe ROC\n",
    "    y_DF_LOF = func_LOF.decision_function(X_brut)\n",
    "\n",
    "    # Matrice de confusion\n",
    "    #ttn, tfp, tfn, ttp = confusion_matrix(y_transform_Shuttle, MS_y_pred_IF_Shuttle).ravel()\n",
    "    print(confusion_matrix(y_transform, y_pred_LOF))\n",
    "\n",
    "    print(roc_auc_score(y_transform, y_DF_LOF))"
   ]
  },
  {
   "cell_type": "code",
   "execution_count": null,
   "metadata": {},
   "outputs": [],
   "source": []
  }
 ],
 "metadata": {
  "kernelspec": {
   "display_name": "Python 3",
   "language": "python",
   "name": "python3"
  },
  "language_info": {
   "codemirror_mode": {
    "name": "ipython",
    "version": 3
   },
   "file_extension": ".py",
   "mimetype": "text/x-python",
   "name": "python",
   "nbconvert_exporter": "python",
   "pygments_lexer": "ipython3",
   "version": "3.7.3"
  }
 },
 "nbformat": 4,
 "nbformat_minor": 2
}
