{
 "cells": [
  {
   "cell_type": "markdown",
   "metadata": {},
   "source": [
    "# Score formular with standard deviation"
   ]
  },
  {
   "cell_type": "code",
   "execution_count": 1,
   "metadata": {},
   "outputs": [],
   "source": [
    "import sys\n",
    "sys.path.append('../../../../../')\n",
    "from datasets import datasets as datat\n",
    "dts = datat.synthetic_datasets(path_top=\"../../../../../\")\n",
    "\n",
    "from metrics import functions\n",
    "func = functions.functions()\n",
    "\n",
    "import numpy as np\n",
    "import pandas as pd\n",
    "\n",
    "import matplotlib.cm as cm\n",
    "from mpl_toolkits import mplot3d\n"
   ]
  },
  {
   "cell_type": "markdown",
   "metadata": {},
   "source": [
    "## Generals settings"
   ]
  },
  {
   "cell_type": "code",
   "execution_count": 2,
   "metadata": {},
   "outputs": [],
   "source": [
    "max_samples = 256\n",
    "n_trees = 100\n",
    "threshold = 0.6\n",
    "min_sample_size = 5\n",
    "sample_size_step = 5"
   ]
  },
  {
   "cell_type": "markdown",
   "metadata": {},
   "source": [
    "## 1 Dimension"
   ]
  },
  {
   "cell_type": "code",
   "execution_count": 3,
   "metadata": {},
   "outputs": [
    {
     "name": "stdout",
     "output_type": "stream",
     "text": [
      "Columns number = 2\n",
      "Confusion matrice\n",
      "[[   8    7]\n",
      " [ 120 1380]]\n",
      "****************************************************************\n",
      "ROC AUC\n",
      "0.7266666666666667\n",
      "****************************************************************\n",
      "Specificity\n",
      "0.5333333333333333\n",
      "****************************************************************\n",
      "Precision\n",
      "0.9949531362653208\n",
      "****************************************************************\n",
      "Recall\n",
      "0.92\n",
      "****************************************************************\n",
      "f1_score\n",
      "0.9560096986491167\n",
      "****************************************************************\n",
      "False alarm rate (%)\n",
      "7.9999999999999964\n",
      "****************************************************************\n"
     ]
    },
    {
     "ename": "NameError",
     "evalue": "name 'x_lim' is not defined",
     "output_type": "error",
     "traceback": [
      "\u001b[0;31m---------------------------------------------------------------------------\u001b[0m",
      "\u001b[0;31mNameError\u001b[0m                                 Traceback (most recent call last)",
      "\u001b[0;32m<ipython-input-3-38899561f09d>\u001b[0m in \u001b[0;36m<module>\u001b[0;34m\u001b[0m\n\u001b[1;32m      5\u001b[0m fig, axs, normal, abnormal, all_dataset_with_scores = func.result_graphics(title='Résultat avec IForest', \n\u001b[1;32m      6\u001b[0m                                   \u001b[0mscores\u001b[0m\u001b[0;34m=\u001b[0m\u001b[0mIFD_scores\u001b[0m\u001b[0;34m,\u001b[0m \u001b[0mX_brut\u001b[0m\u001b[0;34m=\u001b[0m\u001b[0mX_brut\u001b[0m\u001b[0;34m,\u001b[0m \u001b[0my_brut\u001b[0m \u001b[0;34m=\u001b[0m \u001b[0my_transform\u001b[0m\u001b[0;34m,\u001b[0m\u001b[0;34m\u001b[0m\u001b[0;34m\u001b[0m\u001b[0m\n\u001b[0;32m----> 7\u001b[0;31m                                   x_lim=x_lim, y_lim=y_lim, outlier_label=-1, pathLength = pathLength)\n\u001b[0m\u001b[1;32m      8\u001b[0m \u001b[0mfig\u001b[0m\u001b[0;34m.\u001b[0m\u001b[0mshow\u001b[0m\u001b[0;34m(\u001b[0m\u001b[0;34m)\u001b[0m\u001b[0;34m\u001b[0m\u001b[0;34m\u001b[0m\u001b[0m\n",
      "\u001b[0;31mNameError\u001b[0m: name 'x_lim' is not defined"
     ]
    }
   ],
   "source": [
    "X_brut, y_transform, full_dataset = dts.OneD_V2()\n",
    "\n",
    "x_lim = 40\n",
    "y_lim = 30\n",
    "\n",
    "IFD_y_pred_IF, IFD_scores, pathLength = func.execute_IForest_GivenPathLength(X_brut, max_samples,n_trees, threshold)\n",
    "ttn, tfp, tfn, ttp, cm, auc, spec, prec, rec, f1, far  = func.get_Performances(IFD_y_pred_IF, y_transform, IFD_scores)\n",
    "\n",
    "fig, axs, normal, abnormal, all_dataset_with_scores = func.result_graphics(title='Résultat avec IForest', \n",
    "                                  scores=IFD_scores, X_brut=X_brut, y_brut = y_transform, \n",
    "                                  x_lim=x_lim, y_lim=y_lim, outlier_label=-1, pathLength = pathLength)\n",
    "fig.show()"
   ]
  },
  {
   "cell_type": "markdown",
   "metadata": {},
   "source": [
    "## 2 Dimensions"
   ]
  },
  {
   "cell_type": "code",
   "execution_count": null,
   "metadata": {},
   "outputs": [
    {
     "name": "stdout",
     "output_type": "stream",
     "text": [
      "Columns number = 3\n",
      "---------------------------------N°0----------------------------------------------------\n",
      "Using threshold = 1.468604071679335\n",
      "Confusion matrice\n",
      "[[   0   15]\n",
      " [   0 1500]]\n",
      "****************************************************************\n",
      "ROC AUC\n",
      "0.5\n",
      "****************************************************************\n",
      "Specificity\n",
      "0.0\n",
      "****************************************************************\n",
      "Precision\n",
      "0.9900990099009901\n",
      "****************************************************************\n",
      "Recall\n",
      "1.0\n",
      "****************************************************************\n",
      "f1_score\n",
      "0.9950248756218906\n",
      "****************************************************************\n",
      "False alarm rate (%)\n",
      "0.0\n",
      "****************************************************************\n",
      "---------------------------------N°1----------------------------------------------------\n"
     ]
    }
   ],
   "source": [
    "X_brut, y_transform, full_dataset = dts.TwoD_V4_2_0()\n",
    "\n",
    "x_lim = 17\n",
    "y_lim = 12\n",
    "\n",
    "IFD_y_pred_IF, IFD_scores, pathLength = func.execute_IForest_GivenPathLength(X_brut, max_samples,n_trees, threshold)\n",
    "ttn, tfp, tfn, ttp, cm, auc, spec, prec, rec, f1, far  = func.get_Performances(IFD_y_pred_IF, y_transform, IFD_scores)\n",
    "\n",
    "fig, axs, normal, abnormal, all_dataset_with_scores = func.result_graphics(title='Résultat avec IForest', \n",
    "                                  scores=IFD_scores, X_brut=X_brut, y_brut = y_transform, \n",
    "                                  x_lim=x_lim, y_lim=y_lim, outlier_label=-1)\n",
    "fig.show()"
   ]
  },
  {
   "cell_type": "code",
   "execution_count": null,
   "metadata": {},
   "outputs": [],
   "source": []
  }
 ],
 "metadata": {
  "kernelspec": {
   "display_name": "Python 3",
   "language": "python",
   "name": "python3"
  },
  "language_info": {
   "codemirror_mode": {
    "name": "ipython",
    "version": 3
   },
   "file_extension": ".py",
   "mimetype": "text/x-python",
   "name": "python",
   "nbconvert_exporter": "python",
   "pygments_lexer": "ipython3",
   "version": "3.7.4"
  }
 },
 "nbformat": 4,
 "nbformat_minor": 2
}
