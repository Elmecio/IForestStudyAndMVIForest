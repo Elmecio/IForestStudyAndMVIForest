{
 "cells": [
  {
   "cell_type": "markdown",
   "metadata": {},
   "source": [
    "# What is IForest behavior according to the dataset dimension size?"
   ]
  },
  {
   "cell_type": "markdown",
   "metadata": {},
   "source": [
    "## Test with 1 dimension dataset"
   ]
  },
  {
   "cell_type": "code",
   "execution_count": 1,
   "metadata": {},
   "outputs": [
    {
     "name": "stderr",
     "output_type": "stream",
     "text": [
      "Using TensorFlow backend.\n"
     ]
    }
   ],
   "source": [
    "import numpy as np\n",
    "import pandas as pd\n",
    "import matplotlib.pyplot as plt\n",
    "from time import time\n",
    "from sklearn.ensemble import IsolationForest\n",
    "from sklearn.svm import OneClassSVM\n",
    "from sklearn.neighbors import LocalOutlierFactor\n",
    "from sklearn.metrics import confusion_matrix\n",
    "from sklearn.metrics import roc_auc_score\n",
    "from matplotlib.mlab import frange\n",
    "import statistics\n",
    "from sklearn.metrics import confusion_matrix\n",
    "from sklearn.metrics import precision_score, recall_score\n",
    "from sklearn.metrics import f1_score\n",
    "from sklearn.metrics import roc_curve\n",
    "from imblearn.metrics import specificity_score\n",
    "from imblearn.metrics import sensitivity_score\n",
    "import matplotlib.cm as cm\n",
    "from mpl_toolkits import mplot3d\n",
    "from imblearn.metrics import specificity_score\n",
    "from sklearn.externals.six import StringIO  \n",
    "from IPython.display import Image  \n",
    "from sklearn.tree import export_graphviz\n",
    "import pydotplus"
   ]
  },
  {
   "cell_type": "markdown",
   "metadata": {},
   "source": [
    "## Generals settings"
   ]
  },
  {
   "cell_type": "code",
   "execution_count": 2,
   "metadata": {},
   "outputs": [],
   "source": [
    "datasets_path = '/Users/thesard/Doctorat/These2018/ISEP/Developpements/AnacondaWorkSpace/LearningPython/datasets/'"
   ]
  },
  {
   "cell_type": "markdown",
   "metadata": {},
   "source": [
    "## Chargement du jeu de données"
   ]
  },
  {
   "cell_type": "markdown",
   "metadata": {},
   "source": [
    "Le jeu de données artificiel généré suivant une distribution gaussienne.\n",
    "Il s'agit d'un jeu de données univarié ou unidimensionnel contenant des données normales et anormales.\n",
    "Les données normales suivent une distribution gaussienne de paramètres mu = 0 et sigma = 1.\n",
    "Les données anormales suivent une distribution gaussienne de paramètres mu = 5 et de sigma = 1."
   ]
  },
  {
   "cell_type": "code",
   "execution_count": 3,
   "metadata": {},
   "outputs": [
    {
     "data": {
      "text/html": [
       "<div>\n",
       "<style scoped>\n",
       "    .dataframe tbody tr th:only-of-type {\n",
       "        vertical-align: middle;\n",
       "    }\n",
       "\n",
       "    .dataframe tbody tr th {\n",
       "        vertical-align: top;\n",
       "    }\n",
       "\n",
       "    .dataframe thead th {\n",
       "        text-align: right;\n",
       "    }\n",
       "</style>\n",
       "<table border=\"1\" class=\"dataframe\">\n",
       "  <thead>\n",
       "    <tr style=\"text-align: right;\">\n",
       "      <th></th>\n",
       "      <th>0</th>\n",
       "    </tr>\n",
       "  </thead>\n",
       "  <tbody>\n",
       "    <tr>\n",
       "      <th>count</th>\n",
       "      <td>1516.000000</td>\n",
       "    </tr>\n",
       "    <tr>\n",
       "      <th>mean</th>\n",
       "      <td>0.032098</td>\n",
       "    </tr>\n",
       "    <tr>\n",
       "      <th>std</th>\n",
       "      <td>1.107025</td>\n",
       "    </tr>\n",
       "    <tr>\n",
       "      <th>min</th>\n",
       "      <td>-3.334118</td>\n",
       "    </tr>\n",
       "    <tr>\n",
       "      <th>25%</th>\n",
       "      <td>-0.692580</td>\n",
       "    </tr>\n",
       "    <tr>\n",
       "      <th>50%</th>\n",
       "      <td>-0.034028</td>\n",
       "    </tr>\n",
       "    <tr>\n",
       "      <th>75%</th>\n",
       "      <td>0.649778</td>\n",
       "    </tr>\n",
       "    <tr>\n",
       "      <th>max</th>\n",
       "      <td>6.867883</td>\n",
       "    </tr>\n",
       "  </tbody>\n",
       "</table>\n",
       "</div>"
      ],
      "text/plain": [
       "                 0\n",
       "count  1516.000000\n",
       "mean      0.032098\n",
       "std       1.107025\n",
       "min      -3.334118\n",
       "25%      -0.692580\n",
       "50%      -0.034028\n",
       "75%       0.649778\n",
       "max       6.867883"
      ]
     },
     "execution_count": 3,
     "metadata": {},
     "output_type": "execute_result"
    }
   ],
   "source": [
    "dataset_path = datasets_path+\"synthetic_1D_data/synthetic_1D_data_2019-12-17 10:43:50.547607.csv\"\n",
    "dataset_brut = pd.read_csv(dataset_path, header=None, index_col=None)\n",
    "dataset_number_dimension = len(dataset_brut.columns)\n",
    "if dataset_number_dimension-2 == 0:\n",
    "    X_brut_brut = dataset_brut[0]\n",
    "elif dataset_number_dimension-2 > 0:\n",
    "    X_brut_brut = dataset_brut[[0,dataset_number_dimension-2]]\n",
    "else:\n",
    "    print(\"There is an error in the dataset you uploaded. It have to have at least 2 columns.\")\n",
    "X_brut = pd.DataFrame(X_brut_brut)\n",
    "y_brut = dataset_brut[dataset_number_dimension-1]\n",
    "#y_brut = pd.DataFrame(y_brut_brut)\n",
    "dataset_brut.describe()"
   ]
  },
  {
   "cell_type": "code",
   "execution_count": 4,
   "metadata": {},
   "outputs": [
    {
     "name": "stdout",
     "output_type": "stream",
     "text": [
      "<class 'pandas.core.frame.DataFrame'>\n",
      "RangeIndex: 1516 entries, 0 to 1515\n",
      "Data columns (total 2 columns):\n",
      "0    1516 non-null float64\n",
      "1    1516 non-null object\n",
      "dtypes: float64(1), object(1)\n",
      "memory usage: 23.8+ KB\n"
     ]
    }
   ],
   "source": [
    "dataset_brut.info()"
   ]
  },
  {
   "cell_type": "code",
   "execution_count": 5,
   "metadata": {},
   "outputs": [
    {
     "data": {
      "text/plain": [
       "(array([1501, 1502, 1503, 1504, 1505, 1506, 1507, 1508, 1509, 1510, 1511,\n",
       "        1512, 1513, 1514, 1515]),)"
      ]
     },
     "execution_count": 5,
     "metadata": {},
     "output_type": "execute_result"
    }
   ],
   "source": [
    "abnormals_data = np.where(dataset_brut[dataset_number_dimension-1]=='0')\n",
    "abnormals_data"
   ]
  },
  {
   "cell_type": "markdown",
   "metadata": {},
   "source": [
    "## Transformation de la classe à expliquer"
   ]
  },
  {
   "cell_type": "markdown",
   "metadata": {},
   "source": [
    "L'objectif ici est de remplacer les \"0\" par -1 et les \"1\" par 1 afin de faire les matrices de confusion avec la fonction dédiée de scikit-learn."
   ]
  },
  {
   "cell_type": "code",
   "execution_count": 6,
   "metadata": {},
   "outputs": [
    {
     "data": {
      "text/plain": [
       "array([ 1,  1,  1, ..., -1, -1, -1])"
      ]
     },
     "execution_count": 6,
     "metadata": {},
     "output_type": "execute_result"
    }
   ],
   "source": [
    "y_transform = y_brut\n",
    "y_transform = np.where(y_transform=='0',-1,1)\n",
    "y_transform"
   ]
  },
  {
   "cell_type": "markdown",
   "metadata": {},
   "source": [
    "## Execution of IForest on the dataset to see the high performance possible"
   ]
  },
  {
   "cell_type": "code",
   "execution_count": 7,
   "metadata": {},
   "outputs": [
    {
     "name": "stderr",
     "output_type": "stream",
     "text": [
      "/Users/thesard/anaconda3/lib/python3.7/site-packages/sklearn/ensemble/iforest.py:213: FutureWarning: default contamination parameter 0.1 will change in version 0.22 to \"auto\". This will change the predict method behavior.\n",
      "  FutureWarning)\n"
     ]
    },
    {
     "name": "stdout",
     "output_type": "stream",
     "text": [
      "[[  15    0]\n",
      " [ 137 1364]]\n",
      "ROC AUC\n",
      "[0.9999111703308905]\n",
      "Specificities\n",
      "[1.0]\n",
      "min_roc_auc = 0.9999111703308905\n"
     ]
    }
   ],
   "source": [
    "specificities =[]\n",
    "roc_aucs = []\n",
    "# Instanciation, fit and predict on Shuttle\n",
    "GENE_func_IF = IsolationForest(behaviour=\"new\")\n",
    "GENE_func_IF.fit(X_brut)\n",
    "GENE_y_pred_IF = GENE_func_IF.predict(X_brut)\n",
    "#print(GENE_y_pred_IF)\n",
    "# Calcul de l'aire sous la courbe ROC\n",
    "y_DF_IF = GENE_func_IF.decision_function(X_brut)\n",
    "\n",
    "# Matrice de confusion\n",
    "#ttn, tfp, tfn, ttp = confusion_matrix(y_transform_Shuttle, MS_y_pred_IF_Shuttle).ravel()\n",
    "print(confusion_matrix(y_transform, GENE_y_pred_IF))\n",
    "#ROC AUC\n",
    "roc_aucs.append(roc_auc_score(y_transform, y_DF_IF))\n",
    "# Specificity\n",
    "specificities.append(specificity_score(y_transform, GENE_y_pred_IF))\n",
    "print(\"ROC AUC\")\n",
    "print(roc_aucs)\n",
    "print(\"Specificities\")\n",
    "print(specificities)\n",
    "min_roc_auc = max(roc_aucs)\n",
    "print(\"min_roc_auc = \"+str(min_roc_auc))"
   ]
  },
  {
   "cell_type": "code",
   "execution_count": 8,
   "metadata": {},
   "outputs": [
    {
     "name": "stdout",
     "output_type": "stream",
     "text": [
      "contamination = 0.0\n",
      "contamination = 0.01\n",
      "contamination = 0.02\n",
      "contamination = 0.03\n",
      "contamination = 0.04\n",
      "contamination = 0.05\n",
      "contamination = 0.06\n",
      "contamination = 0.07\n",
      "contamination = 0.08\n",
      "contamination = 0.09\n",
      "contamination = 0.1\n",
      "contamination = 0.11\n",
      "contamination = 0.12\n",
      "contamination = 0.13\n",
      "contamination = 0.14\n",
      "contamination = 0.15\n",
      "contamination = 0.16\n",
      "contamination = 0.17\n",
      "contamination = 0.18\n",
      "contamination = 0.19\n",
      "contamination = 0.2\n",
      "contamination = 0.21\n",
      "contamination = 0.22\n",
      "contamination = 0.23\n",
      "contamination = 0.24\n",
      "contamination = 0.25\n",
      "contamination = 0.26\n",
      "contamination = 0.27\n",
      "contamination = 0.28\n",
      "contamination = 0.29\n",
      "contamination = 0.3\n",
      "contamination = 0.31\n",
      "contamination = 0.32\n",
      "contamination = 0.33\n",
      "contamination = 0.34\n",
      "contamination = 0.35000000000000003\n",
      "contamination = 0.36\n",
      "contamination = 0.37\n",
      "contamination = 0.38\n",
      "contamination = 0.39\n",
      "contamination = 0.4\n",
      "contamination = 0.41000000000000003\n",
      "contamination = 0.42\n",
      "contamination = 0.43\n",
      "contamination = 0.44\n",
      "contamination = 0.45\n",
      "contamination = 0.46\n",
      "contamination = 0.47000000000000003\n",
      "contamination = 0.48\n",
      "contamination = 0.49\n"
     ]
    }
   ],
   "source": [
    "CONT_executions_time_IF_Shuttle = []\n",
    "CONT_roc_auc_IF_Shuttle = []\n",
    "CONT_precisions_IF_Shuttle = []\n",
    "CONT_recalls_IF_Shuttle = []\n",
    "CONT_f1_scores_IF_Shuttle = []\n",
    "CONT_tn_IF_Shuttle = []\n",
    "CONT_fp_IF_Shuttle = []\n",
    "CONT_fn_IF_Shuttle = []\n",
    "CONT_tp_IF_Shuttle = []\n",
    "CONT_specificity_IF_Shuttle = []\n",
    "CONT_contamination_IF_Shuttle = []\n",
    "\n",
    "for j in np.arange(0., 0.5, 0.01):\n",
    "    print(\"contamination = \"+str(j))\n",
    "    contamination = j\n",
    "    CONT_contamination_IF_Shuttle.append(j)\n",
    "    start_IF_Shuttle = time()\n",
    "        \n",
    "    # Instanciation, fit and predict on Shuttle\n",
    "    CONT_func_IF_Shuttle = IsolationForest(contamination=contamination, behaviour=\"new\")\n",
    "    CONT_func_IF_Shuttle.fit(X_brut)\n",
    "    CONT_y_pred_IF_Shuttle = CONT_func_IF_Shuttle.predict(X_brut)\n",
    "\n",
    "    # Calcul du temps d'exécution\n",
    "    CONT_exec_time_IF_Shuttle = time() - start_IF_Shuttle\n",
    "    CONT_executions_time_IF_Shuttle.append(CONT_exec_time_IF_Shuttle)\n",
    "    \n",
    "    # Precision\n",
    "    CONT_precisions_IF_Shuttle.append(precision_score(y_transform, CONT_y_pred_IF_Shuttle))\n",
    "    \n",
    "    # Recall\n",
    "    CONT_recalls_IF_Shuttle.append(recall_score(y_transform, CONT_y_pred_IF_Shuttle))\n",
    "    \n",
    "    # f1_score\n",
    "    CONT_f1_scores_IF_Shuttle.append(f1_score(y_transform, CONT_y_pred_IF_Shuttle))\n",
    "    \n",
    "    # Specificity\n",
    "    CONT_specificity_IF_Shuttle.append(specificity_score(y_transform, CONT_y_pred_IF_Shuttle))\n",
    "    \n",
    "    # Matrice de confusion\n",
    "    ttn, tfp, tfn, ttp = confusion_matrix(y_transform, CONT_y_pred_IF_Shuttle).ravel()\n",
    "    tn = ttp\n",
    "    fp = tfn\n",
    "    fn = tfp\n",
    "    tp = ttn\n",
    "    CONT_tn_IF_Shuttle.append(tn)\n",
    "    CONT_fp_IF_Shuttle.append(fp)\n",
    "    CONT_fn_IF_Shuttle.append(fn)\n",
    "    CONT_tp_IF_Shuttle.append(tp)\n",
    "    \n",
    "    # Calcul de l'aire sous la courbe ROC\n",
    "    CONT_y_DF_IF_Shuttle = CONT_func_IF_Shuttle.decision_function(X_brut)\n",
    "    CONT_auc_IF_Shuttle = roc_auc_score(y_transform, CONT_y_DF_IF_Shuttle)\n",
    "    CONT_roc_auc_IF_Shuttle.append(CONT_auc_IF_Shuttle)"
   ]
  },
  {
   "cell_type": "code",
   "execution_count": 9,
   "metadata": {},
   "outputs": [
    {
     "data": {
      "image/png": "[encoded data removed]",
      "text/plain": [
       "<Figure size 432x288 with 1 Axes>"
      ]
     },
     "metadata": {
      "needs_background": "light"
     },
     "output_type": "display_data"
    }
   ],
   "source": [
    "plt.plot(CONT_recalls_IF_Shuttle, np.arange(0., 0.5, 0.01),  \"g-\", marker='.', markerfacecolor='blue', markersize=6, color='skyblue')\n",
    "plt.xlabel('Recall')\n",
    "plt.ylabel('Contamination')\n",
    "#plt.title(\"Execution time of IsolationForest applied on Shuttle (in second)\")\n",
    "#plt.legend(loc=\"best\")\n",
    "#plt.savefig('contamination_cputime.png')\n",
    "plt.show()"
   ]
  },
  {
   "cell_type": "code",
   "execution_count": 10,
   "metadata": {},
   "outputs": [
    {
     "data": {
      "image/png": "[encoded data removed]",
      "text/plain": [
       "<Figure size 432x288 with 1 Axes>"
      ]
     },
     "metadata": {
      "needs_background": "light"
     },
     "output_type": "display_data"
    }
   ],
   "source": [
    "plt.plot(CONT_specificity_IF_Shuttle, np.arange(0., 0.5, 0.01),  \"g-\", marker='.', markerfacecolor='blue', markersize=6, color='skyblue')\n",
    "plt.xlabel('Specificity')\n",
    "plt.ylabel('Contamination')\n",
    "#plt.title(\"Execution time of IsolationForest applied on Shuttle (in second)\")\n",
    "#plt.legend(loc=\"best\")\n",
    "#plt.savefig('contamination_cputime.png')\n",
    "plt.show()"
   ]
  },
  {
   "cell_type": "code",
   "execution_count": 11,
   "metadata": {},
   "outputs": [
    {
     "data": {
      "image/png": "[encoded data removed]",
      "text/plain": [
       "<Figure size 432x288 with 1 Axes>"
      ]
     },
     "metadata": {
      "needs_background": "light"
     },
     "output_type": "display_data"
    }
   ],
   "source": [
    "plt.plot(CONT_recalls_IF_Shuttle, CONT_specificity_IF_Shuttle,  \"g-\", marker='.', markerfacecolor='blue', markersize=6, color='skyblue')\n",
    "plt.xlabel('Recalls')\n",
    "plt.ylabel('Specificity')\n",
    "#plt.title(\"Execution time of IsolationForest applied on Shuttle (in second)\")\n",
    "#plt.legend(loc=\"best\")\n",
    "#plt.savefig('contamination_cputime.png')\n",
    "plt.show()"
   ]
  },
  {
   "cell_type": "code",
   "execution_count": 12,
   "metadata": {},
   "outputs": [
    {
     "data": {
      "image/png": "[encoded data removed]",
      "text/plain": [
       "<Figure size 432x288 with 1 Axes>"
      ]
     },
     "metadata": {
      "needs_background": "light"
     },
     "output_type": "display_data"
    }
   ],
   "source": [
    "plt.plot(CONT_recalls_IF_Shuttle, np.arange(0., 0.5, 0.01),  \"g-\", marker='.', markerfacecolor='blue', markersize=6, color='skyblue')\n",
    "plt.plot(CONT_specificity_IF_Shuttle, np.arange(0., 0.5, 0.01),  \"r--\", marker='.', markerfacecolor='red', markersize=6)\n",
    "#plt.xlabel('Recalls')\n",
    "#plt.ylabel('Specificity')\n",
    "#plt.title(\"Execution time of IsolationForest applied on Shuttle (in second)\")\n",
    "#plt.legend(loc=\"best\")\n",
    "#plt.savefig('contamination_cputime.png')\n",
    "plt.show()"
   ]
  },
  {
   "cell_type": "code",
   "execution_count": null,
   "metadata": {},
   "outputs": [],
   "source": []
  }
 ],
 "metadata": {
  "kernelspec": {
   "display_name": "Python 3",
   "language": "python",
   "name": "python3"
  },
  "language_info": {
   "codemirror_mode": {
    "name": "ipython",
    "version": 3
   },
   "file_extension": ".py",
   "mimetype": "text/x-python",
   "name": "python",
   "nbconvert_exporter": "python",
   "pygments_lexer": "ipython3",
   "version": "3.7.3"
  }
 },
 "nbformat": 4,
 "nbformat_minor": 2
}
