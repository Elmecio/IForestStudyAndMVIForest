{
 "cells": [
  {
   "cell_type": "markdown",
   "metadata": {},
   "source": [
    "# What is IForest behavior according to the dataset dimension size?"
   ]
  },
  {
   "cell_type": "markdown",
   "metadata": {},
   "source": [
    "## Test with 1 dimension dataset"
   ]
  },
  {
   "cell_type": "code",
   "execution_count": 18,
   "metadata": {},
   "outputs": [
    {
     "ename": "ModuleNotFoundError",
     "evalue": "No module named 'datasets'",
     "output_type": "error",
     "traceback": [
      "\u001b[0;31m---------------------------------------------------------------------------\u001b[0m",
      "\u001b[0;31mModuleNotFoundError\u001b[0m                       Traceback (most recent call last)",
      "\u001b[0;32m<ipython-input-18-9a535d6ed2a8>\u001b[0m in \u001b[0;36m<module>\u001b[0;34m\u001b[0m\n\u001b[1;32m      8\u001b[0m \u001b[0;34m\u001b[0m\u001b[0m\n\u001b[1;32m      9\u001b[0m \u001b[0msys\u001b[0m\u001b[0;34m.\u001b[0m\u001b[0mpath\u001b[0m\u001b[0;34m.\u001b[0m\u001b[0minsert\u001b[0m\u001b[0;34m(\u001b[0m\u001b[0;36m0\u001b[0m\u001b[0;34m,\u001b[0m \u001b[0;34m'/datasets'\u001b[0m\u001b[0;34m)\u001b[0m\u001b[0;34m\u001b[0m\u001b[0;34m\u001b[0m\u001b[0m\n\u001b[0;32m---> 10\u001b[0;31m \u001b[0;32mfrom\u001b[0m \u001b[0mdatasets\u001b[0m \u001b[0;32mimport\u001b[0m \u001b[0mdatasets\u001b[0m \u001b[0;32mas\u001b[0m \u001b[0mdatat\u001b[0m\u001b[0;34m\u001b[0m\u001b[0;34m\u001b[0m\u001b[0m\n\u001b[0m\u001b[1;32m     11\u001b[0m \u001b[0;32mfrom\u001b[0m \u001b[0mIForest_DODiMDS\u001b[0m \u001b[0;32mimport\u001b[0m \u001b[0miforest_D\u001b[0m \u001b[0;32mas\u001b[0m \u001b[0mIFD\u001b[0m\u001b[0;34m\u001b[0m\u001b[0;34m\u001b[0m\u001b[0m\n\u001b[1;32m     12\u001b[0m \u001b[0;34m\u001b[0m\u001b[0m\n",
      "\u001b[0;31mModuleNotFoundError\u001b[0m: No module named 'datasets'"
     ]
    }
   ],
   "source": [
    "import sys\n",
    "sys.path.append('../')\n",
    "#sys.path.insert(0, '/datasets')\n",
    "\n",
    "import numpy as np\n",
    "import pandas as pd\n",
    "from time import time\n",
    "import matplotlib.pyplot as plt\n",
    "\n",
    "from datasets import datasets as datat\n",
    "from IForest_DODiMDS import iforest_D as IFD\n",
    "\n",
    "from sklearn.metrics import confusion_matrix\n",
    "from sklearn.metrics import roc_auc_score\n",
    "from sklearn.metrics import precision_score, recall_score\n",
    "from imblearn.metrics import specificity_score\n",
    "from imblearn.metrics import sensitivity_score\n",
    "from imblearn.metrics import specificity_score\n",
    "from sklearn.metrics import f1_score\n",
    "from sklearn.metrics import roc_curve\n",
    "from matplotlib.mlab import frange\n",
    "\n",
    "import matplotlib.cm as cm\n",
    "from mpl_toolkits import mplot3d\n"
   ]
  },
  {
   "cell_type": "markdown",
   "metadata": {},
   "source": [
    "## Generals settings"
   ]
  },
  {
   "cell_type": "markdown",
   "metadata": {},
   "source": [
    "## Chargement du jeu de données"
   ]
  },
  {
   "cell_type": "code",
   "execution_count": null,
   "metadata": {},
   "outputs": [],
   "source": [
    "dts = datat.synthetic_datasets()\n",
    "X_brut, y_transform = dts.OneD_V1_1()\n",
    "X_brut.describe()"
   ]
  },
  {
   "cell_type": "markdown",
   "metadata": {},
   "source": [
    "## Execution of IForest on the dataset to see the high performance possible"
   ]
  },
  {
   "cell_type": "code",
   "execution_count": null,
   "metadata": {},
   "outputs": [],
   "source": [
    "specificities =[]\n",
    "roc_aucs = []\n",
    "for i in range(5):\n",
    "    # Instanciation, fit and predict on Shuttle\n",
    "    GENE_func_IF = IsolationForest(behaviour=\"new\")\n",
    "    GENE_func_IF.fit(X_brut)\n",
    "    GENE_y_pred_IF = GENE_func_IF.predict(X_brut)\n",
    "    #print(GENE_y_pred_IF)\n",
    "    # Calcul de l'aire sous la courbe ROC\n",
    "    y_DF_IF = GENE_func_IF.decision_function(X_brut)\n",
    "\n",
    "    # Matrice de confusion\n",
    "    #ttn, tfp, tfn, ttp = confusion_matrix(y_transform_Shuttle, MS_y_pred_IF_Shuttle).ravel()\n",
    "    print(confusion_matrix(y_transform, GENE_y_pred_IF))\n",
    "    #ROC AUC\n",
    "    roc_aucs.append(roc_auc_score(y_transform, y_DF_IF))\n",
    "    # Specificity\n",
    "    specificities.append(specificity_score(y_transform, GENE_y_pred_IF))\n",
    "print(\"ROC AUC\")\n",
    "print(roc_aucs)\n",
    "print(\"Specificities\")\n",
    "print(specificities)\n",
    "min_roc_auc = max(roc_aucs)\n",
    "print(\"min_roc_auc = \"+str(min_roc_auc))"
   ]
  },
  {
   "cell_type": "code",
   "execution_count": null,
   "metadata": {},
   "outputs": [],
   "source": []
  },
  {
   "cell_type": "code",
   "execution_count": null,
   "metadata": {},
   "outputs": [],
   "source": [
    "roc_auc_IF = []\n",
    "max_samples_IF = []\n",
    "\n",
    "for j in range(5, len(X_brut), 5):\n",
    "    print(\"max_samples = \"+str(j))\n",
    "    max_samples = j\n",
    "    # Instanciation, fit and predict on Shuttle\n",
    "    func_IF = IsolationForest(max_samples=max_samples, behaviour=\"new\")\n",
    "    print(func_IF.get_params(True))\n",
    "    func_IF.fit(X_brut)\n",
    "    print(\"Information about the first tree\")\n",
    "    print(\"The tree = \"+ str(func_IF.estimators_[0]))\n",
    "    #print(\"The tree params = \"+ str(func_IF.estimators_[0].get_params(True)))\n",
    "    #print(\"Depth used = \"+ str(func_IF.estimators_[0].tree_.get_depth()))\n",
    "    #print(\"number of leaves at the end = \"+ str(func_IF.estimators_[0].get_n_leaves()))\n",
    "    y_pred_IF = func_IF.predict(X_brut)\n",
    "\n",
    "    # Calcul de l'aire sous la courbe ROC\n",
    "    y_DF_IF = func_IF.decision_function(X_brut)\n",
    "\n",
    "    auc_IF = roc_auc_score(y_transform, y_DF_IF)\n",
    "    if auc_IF >= min_roc_auc:\n",
    "        print(\"auc_IF = \"+str(auc_IF))\n",
    "        roc_auc_IF.append(auc_IF)\n",
    "        max_samples_IF.append(j)"
   ]
  },
  {
   "cell_type": "code",
   "execution_count": null,
   "metadata": {},
   "outputs": [],
   "source": [
    "plt.plot(max_samples_IF, roc_auc_IF,  \"b-\", marker='.', markerfacecolor='blue', markersize=6, color='skyblue')\n",
    "plt.title(\"ROC AUC Min = \"+str(min_roc_auc))\n",
    "#plt.axis([0, 1, 0, 1])\n",
    "plt.xlabel('Max_samples')\n",
    "plt.ylabel('ROC AUC')\n",
    "plt.show()"
   ]
  },
  {
   "cell_type": "code",
   "execution_count": null,
   "metadata": {},
   "outputs": [],
   "source": [
    "from sklearn.externals.six import StringIO  \n",
    "from IPython.display import Image  \n",
    "from sklearn.tree import export_graphviz\n",
    "import pydotplus\n",
    "dot_data = StringIO()\n",
    "export_graphviz(func_IF.estimators_[0], out_file=dot_data,  \n",
    "                filled=True, rounded=True,\n",
    "                special_characters=True)\n",
    "graph = pydotplus.graph_from_dot_data(dot_data.getvalue()) \n",
    "Image(graph.write_png('./filename.png'))\n",
    "#Image(graph.create_png())\n",
    "#graph"
   ]
  }
 ],
 "metadata": {
  "kernelspec": {
   "display_name": "Python 3",
   "language": "python",
   "name": "python3"
  },
  "language_info": {
   "codemirror_mode": {
    "name": "ipython",
    "version": 3
   },
   "file_extension": ".py",
   "mimetype": "text/x-python",
   "name": "python",
   "nbconvert_exporter": "python",
   "pygments_lexer": "ipython3",
   "version": "3.7.4"
  }
 },
 "nbformat": 4,
 "nbformat_minor": 2
}
