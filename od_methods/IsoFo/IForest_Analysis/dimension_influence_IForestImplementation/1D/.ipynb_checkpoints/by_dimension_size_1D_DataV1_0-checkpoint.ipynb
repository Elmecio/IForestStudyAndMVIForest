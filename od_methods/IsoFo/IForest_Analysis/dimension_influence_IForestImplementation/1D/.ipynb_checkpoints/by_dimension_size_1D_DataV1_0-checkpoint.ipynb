{
 "cells": [
  {
   "cell_type": "markdown",
   "metadata": {},
   "source": [
    "# What is IForest behavior according to the dataset dimension size?"
   ]
  },
  {
   "cell_type": "markdown",
   "metadata": {},
   "source": [
    "## Test with 1 dimension dataset"
   ]
  },
  {
   "cell_type": "code",
   "execution_count": 1,
   "metadata": {},
   "outputs": [],
   "source": [
    "import sys\n",
    "sys.path.append('../../../../../')\n",
    "from datasets import datasets as datat\n",
    "from IForest_DODiMDS import iforest_D as IFD\n",
    "from metrics import performances\n",
    "from metrics import visualization\n",
    "visu = visualization.visualization()\n",
    "\n",
    "import numpy as np\n",
    "import pandas as pd\n",
    "from time import time\n",
    "import matplotlib.pyplot as plt\n",
    "\n",
    "from sklearn.metrics import confusion_matrix\n",
    "from sklearn.metrics import roc_auc_score\n",
    "from sklearn.metrics import precision_score, recall_score\n",
    "from imblearn.metrics import specificity_score\n",
    "from imblearn.metrics import sensitivity_score\n",
    "from imblearn.metrics import specificity_score\n",
    "from sklearn.metrics import f1_score\n",
    "from sklearn.metrics import roc_curve\n",
    "\n",
    "import matplotlib.cm as cm\n",
    "from mpl_toolkits import mplot3d\n",
    "\n",
    "import eif"
   ]
  },
  {
   "cell_type": "markdown",
   "metadata": {},
   "source": [
    "## Generals settings"
   ]
  },
  {
   "cell_type": "code",
   "execution_count": 2,
   "metadata": {},
   "outputs": [],
   "source": [
    "max_samples = 256\n",
    "n_trees = 100\n",
    "threshold = 0.6"
   ]
  },
  {
   "cell_type": "markdown",
   "metadata": {},
   "source": [
    "## Chargement du jeu de données"
   ]
  },
  {
   "cell_type": "code",
   "execution_count": 3,
   "metadata": {},
   "outputs": [
    {
     "name": "stdout",
     "output_type": "stream",
     "text": [
      "Columns number = 2\n"
     ]
    },
    {
     "data": {
      "text/html": [
       "<div>\n",
       "<style scoped>\n",
       "    .dataframe tbody tr th:only-of-type {\n",
       "        vertical-align: middle;\n",
       "    }\n",
       "\n",
       "    .dataframe tbody tr th {\n",
       "        vertical-align: top;\n",
       "    }\n",
       "\n",
       "    .dataframe thead th {\n",
       "        text-align: right;\n",
       "    }\n",
       "</style>\n",
       "<table border=\"1\" class=\"dataframe\">\n",
       "  <thead>\n",
       "    <tr style=\"text-align: right;\">\n",
       "      <th></th>\n",
       "      <th>0</th>\n",
       "    </tr>\n",
       "  </thead>\n",
       "  <tbody>\n",
       "    <tr>\n",
       "      <td>count</td>\n",
       "      <td>106.000000</td>\n",
       "    </tr>\n",
       "    <tr>\n",
       "      <td>mean</td>\n",
       "      <td>0.148589</td>\n",
       "    </tr>\n",
       "    <tr>\n",
       "      <td>std</td>\n",
       "      <td>1.358918</td>\n",
       "    </tr>\n",
       "    <tr>\n",
       "      <td>min</td>\n",
       "      <td>-2.662713</td>\n",
       "    </tr>\n",
       "    <tr>\n",
       "      <td>25%</td>\n",
       "      <td>-0.665440</td>\n",
       "    </tr>\n",
       "    <tr>\n",
       "      <td>50%</td>\n",
       "      <td>-0.063532</td>\n",
       "    </tr>\n",
       "    <tr>\n",
       "      <td>75%</td>\n",
       "      <td>0.870154</td>\n",
       "    </tr>\n",
       "    <tr>\n",
       "      <td>max</td>\n",
       "      <td>4.114578</td>\n",
       "    </tr>\n",
       "  </tbody>\n",
       "</table>\n",
       "</div>"
      ],
      "text/plain": [
       "                0\n",
       "count  106.000000\n",
       "mean     0.148589\n",
       "std      1.358918\n",
       "min     -2.662713\n",
       "25%     -0.665440\n",
       "50%     -0.063532\n",
       "75%      0.870154\n",
       "max      4.114578"
      ]
     },
     "execution_count": 3,
     "metadata": {},
     "output_type": "execute_result"
    }
   ],
   "source": [
    "dts = datat.synthetic_datasets(path_top=\"../../../../../\")\n",
    "X_brut, y_transform, full_dataset = dts.OneD_V1_0()\n",
    "X_brut.describe()"
   ]
  },
  {
   "cell_type": "code",
   "execution_count": 4,
   "metadata": {},
   "outputs": [
    {
     "data": {
      "text/html": [
       "<div>\n",
       "<style scoped>\n",
       "    .dataframe tbody tr th:only-of-type {\n",
       "        vertical-align: middle;\n",
       "    }\n",
       "\n",
       "    .dataframe tbody tr th {\n",
       "        vertical-align: top;\n",
       "    }\n",
       "\n",
       "    .dataframe thead th {\n",
       "        text-align: right;\n",
       "    }\n",
       "</style>\n",
       "<table border=\"1\" class=\"dataframe\">\n",
       "  <thead>\n",
       "    <tr style=\"text-align: right;\">\n",
       "      <th></th>\n",
       "      <th>0</th>\n",
       "    </tr>\n",
       "  </thead>\n",
       "  <tbody>\n",
       "    <tr>\n",
       "      <td>count</td>\n",
       "      <td>106.000000</td>\n",
       "    </tr>\n",
       "    <tr>\n",
       "      <td>mean</td>\n",
       "      <td>0.905660</td>\n",
       "    </tr>\n",
       "    <tr>\n",
       "      <td>std</td>\n",
       "      <td>0.426018</td>\n",
       "    </tr>\n",
       "    <tr>\n",
       "      <td>min</td>\n",
       "      <td>-1.000000</td>\n",
       "    </tr>\n",
       "    <tr>\n",
       "      <td>25%</td>\n",
       "      <td>1.000000</td>\n",
       "    </tr>\n",
       "    <tr>\n",
       "      <td>50%</td>\n",
       "      <td>1.000000</td>\n",
       "    </tr>\n",
       "    <tr>\n",
       "      <td>75%</td>\n",
       "      <td>1.000000</td>\n",
       "    </tr>\n",
       "    <tr>\n",
       "      <td>max</td>\n",
       "      <td>1.000000</td>\n",
       "    </tr>\n",
       "  </tbody>\n",
       "</table>\n",
       "</div>"
      ],
      "text/plain": [
       "                0\n",
       "count  106.000000\n",
       "mean     0.905660\n",
       "std      0.426018\n",
       "min     -1.000000\n",
       "25%      1.000000\n",
       "50%      1.000000\n",
       "75%      1.000000\n",
       "max      1.000000"
      ]
     },
     "execution_count": 4,
     "metadata": {},
     "output_type": "execute_result"
    }
   ],
   "source": [
    "y_transform.describe()"
   ]
  },
  {
   "cell_type": "code",
   "execution_count": 5,
   "metadata": {},
   "outputs": [
    {
     "data": {
      "text/html": [
       "<div>\n",
       "<style scoped>\n",
       "    .dataframe tbody tr th:only-of-type {\n",
       "        vertical-align: middle;\n",
       "    }\n",
       "\n",
       "    .dataframe tbody tr th {\n",
       "        vertical-align: top;\n",
       "    }\n",
       "\n",
       "    .dataframe thead th {\n",
       "        text-align: right;\n",
       "    }\n",
       "</style>\n",
       "<table border=\"1\" class=\"dataframe\">\n",
       "  <thead>\n",
       "    <tr style=\"text-align: right;\">\n",
       "      <th></th>\n",
       "      <th>0</th>\n",
       "    </tr>\n",
       "  </thead>\n",
       "  <tbody>\n",
       "    <tr>\n",
       "      <td>0</td>\n",
       "      <td>1</td>\n",
       "    </tr>\n",
       "    <tr>\n",
       "      <td>1</td>\n",
       "      <td>1</td>\n",
       "    </tr>\n",
       "    <tr>\n",
       "      <td>2</td>\n",
       "      <td>1</td>\n",
       "    </tr>\n",
       "    <tr>\n",
       "      <td>3</td>\n",
       "      <td>1</td>\n",
       "    </tr>\n",
       "    <tr>\n",
       "      <td>4</td>\n",
       "      <td>1</td>\n",
       "    </tr>\n",
       "    <tr>\n",
       "      <td>...</td>\n",
       "      <td>...</td>\n",
       "    </tr>\n",
       "    <tr>\n",
       "      <td>101</td>\n",
       "      <td>-1</td>\n",
       "    </tr>\n",
       "    <tr>\n",
       "      <td>102</td>\n",
       "      <td>-1</td>\n",
       "    </tr>\n",
       "    <tr>\n",
       "      <td>103</td>\n",
       "      <td>-1</td>\n",
       "    </tr>\n",
       "    <tr>\n",
       "      <td>104</td>\n",
       "      <td>-1</td>\n",
       "    </tr>\n",
       "    <tr>\n",
       "      <td>105</td>\n",
       "      <td>-1</td>\n",
       "    </tr>\n",
       "  </tbody>\n",
       "</table>\n",
       "<p>106 rows × 1 columns</p>\n",
       "</div>"
      ],
      "text/plain": [
       "     0\n",
       "0    1\n",
       "1    1\n",
       "2    1\n",
       "3    1\n",
       "4    1\n",
       "..  ..\n",
       "101 -1\n",
       "102 -1\n",
       "103 -1\n",
       "104 -1\n",
       "105 -1\n",
       "\n",
       "[106 rows x 1 columns]"
      ]
     },
     "execution_count": 5,
     "metadata": {},
     "output_type": "execute_result"
    }
   ],
   "source": [
    "y_transform"
   ]
  },
  {
   "cell_type": "markdown",
   "metadata": {},
   "source": [
    "## Execution of Iforest to get the best performance"
   ]
  },
  {
   "cell_type": "code",
   "execution_count": 6,
   "metadata": {},
   "outputs": [
    {
     "name": "stdout",
     "output_type": "stream",
     "text": [
      "[[ 3  2]\n",
      " [ 3 98]]\n",
      "[[ 2  3]\n",
      " [ 3 98]]\n",
      "[[ 4  1]\n",
      " [ 4 97]]\n",
      "[[ 3  2]\n",
      " [ 3 98]]\n",
      "[[ 3  2]\n",
      " [ 3 98]]\n",
      "[[ 4  1]\n",
      " [ 4 97]]\n",
      "[[ 3  2]\n",
      " [ 3 98]]\n",
      "[[ 2  3]\n",
      " [ 3 98]]\n",
      "[[ 3  2]\n",
      " [ 4 97]]\n",
      "[[ 5  0]\n",
      " [ 4 97]]\n",
      "ROC AUC\n",
      "[0.7851485148514852, 0.6851485148514851, 0.8801980198019802, 0.7851485148514852, 0.7851485148514852, 0.8801980198019802, 0.7851485148514852, 0.6851485148514851, 0.7801980198019802, 0.9801980198019802]\n",
      "Specificities\n",
      "[0.6, 0.4, 0.8, 0.6, 0.6, 0.8, 0.6, 0.4, 0.6, 1.0]\n",
      "min_roc_auc = 0.9801980198019802\n"
     ]
    }
   ],
   "source": [
    "roc_aucs = []\n",
    "specificities = []\n",
    "for i in range(10):\n",
    "    # Instanciation, fit and predict\n",
    "    func_IFD = IFD.IsolationForest(sample_size = max_samples, n_trees=n_trees)\n",
    "    func_IFD.fit(X_brut)\n",
    "    IFD_y_pred_IF, IFD_scores = func_IFD.predict(X=X_brut, threshold=threshold)\n",
    "\n",
    "    # Matrice de confusion\n",
    "    ttn, tfp, tfn, ttp = confusion_matrix(y_transform, IFD_y_pred_IF).ravel()\n",
    "    print(confusion_matrix(y_transform, IFD_y_pred_IF))\n",
    "    #ROC AUC\n",
    "    roc_aucs.append(roc_auc_score(y_transform, IFD_y_pred_IF))\n",
    "    # Specificity\n",
    "    specificities.append(specificity_score(y_transform, IFD_y_pred_IF))\n",
    "print(\"ROC AUC\")\n",
    "print(roc_aucs)\n",
    "print(\"Specificities\")\n",
    "print(specificities)\n",
    "min_roc_auc = max(roc_aucs)\n",
    "print(\"min_roc_auc = \"+str(min_roc_auc))"
   ]
  },
  {
   "cell_type": "code",
   "execution_count": 7,
   "metadata": {},
   "outputs": [
    {
     "data": {
      "text/plain": [
       "7.928047968021319"
      ]
     },
     "execution_count": 7,
     "metadata": {},
     "output_type": "execute_result"
    }
   ],
   "source": [
    "(119/(119+1382))*100"
   ]
  },
  {
   "cell_type": "markdown",
   "metadata": {},
   "source": [
    "### Execution Of EIF on dataset\n",
    "\n",
    "EIF don't work for One dimensionnal dataset, try to see if it is cause of EIF implementation on Pypi or cause of EIF principle"
   ]
  },
  {
   "cell_type": "code",
   "execution_count": 6,
   "metadata": {},
   "outputs": [],
   "source": [
    "X_brut_numpy = X_brut.to_numpy()"
   ]
  },
  {
   "cell_type": "code",
   "execution_count": null,
   "metadata": {},
   "outputs": [],
   "source": [
    "F1  = eif.iForest(X_brut_numpy, ntrees=n_trees, sample_size=max_samples, ExtensionLevel=0)\n",
    "S1 = F1.compute_paths(X_in=X_brut_numpy)\n",
    "P1 = np.where(S1>=threshold,-1,1)\n",
    "\n",
    "# Matrice de confusion\n",
    "#ttn, tfp, tfn, ttp = confusion_matrix(y_transform_Shuttle, MS_y_pred_IF_Shuttle).ravel()\n",
    "print(confusion_matrix(y_transform, P1))"
   ]
  },
  {
   "cell_type": "markdown",
   "metadata": {},
   "source": [
    "EIF ne fonctionne pas sur les jeux de données à une seule dimension ===> Normal"
   ]
  },
  {
   "cell_type": "code",
   "execution_count": 8,
   "metadata": {},
   "outputs": [
    {
     "name": "stdout",
     "output_type": "stream",
     "text": [
      "max_samples = 5\n",
      "max_samples = 10\n",
      "max_samples = 15\n",
      "max_samples = 20\n",
      "max_samples = 25\n",
      "max_samples = 30\n",
      "max_samples = 35\n",
      "max_samples = 40\n",
      "max_samples = 45\n",
      "max_samples = 50\n",
      "max_samples = 55\n",
      "max_samples = 60\n",
      "max_samples = 65\n",
      "max_samples = 70\n",
      "max_samples = 75\n",
      "max_samples = 80\n",
      "max_samples = 85\n",
      "auc_IF = 0.9801980198019802\n",
      "max_samples = 90\n",
      "max_samples = 95\n",
      "max_samples = 100\n",
      "max_samples = 105\n"
     ]
    }
   ],
   "source": [
    "roc_auc_IF = []\n",
    "max_samples_IF = []\n",
    "\n",
    "for j in range(5, len(X_brut), 5):\n",
    "    print(\"max_samples = \"+str(j))\n",
    "    max_samples = j\n",
    "    # Instanciation, fit and predict\n",
    "    func_IF = IFD.IsolationForest(sample_size = max_samples, n_trees=n_trees)\n",
    "    func_IF.fit(X_brut)\n",
    "    y_pred_IF, scores = func_IF.predict(X=X_brut, threshold=threshold)\n",
    "    print(confusion_matrix(y_transform, y_pred_IF))\n",
    "\n",
    "    auc_IF = roc_auc_score(y_transform, y_pred_IF)\n",
    "    if auc_IF >= min_roc_auc:\n",
    "        print(\"auc_IF = \"+str(auc_IF))\n",
    "        roc_auc_IF.append(auc_IF)\n",
    "        max_samples_IF.append(j)"
   ]
  },
  {
   "cell_type": "code",
   "execution_count": 9,
   "metadata": {},
   "outputs": [
    {
     "data": {
      "image/png": "[encoded data removed]",
      "text/plain": [
       "<Figure size 432x288 with 1 Axes>"
      ]
     },
     "metadata": {
      "needs_background": "light"
     },
     "output_type": "display_data"
    }
   ],
   "source": [
    "#plt.plot(max_samples_IF, roc_auc_IF,  \"b-\", marker='.', markerfacecolor='blue', markersize=6, color='skyblue')\n",
    "#plt.title(\"ROC AUC Min = \"+str(min_roc_auc))\n",
    "#plt.axis([0, 1, 0, 1])\n",
    "#plt.xlabel('Max_samples')\n",
    "#plt.ylabel('ROC AUC')\n",
    "#plt.show()\n",
    "visu.plot_2D(max_samples_IF, roc_auc_IF,'Max_samples', 'ROC AUC', \"ROC AUC Min = \"+str(min_roc_auc), link=\"b\").show()"
   ]
  },
  {
   "cell_type": "markdown",
   "metadata": {},
   "source": [
    "## Conclusion"
   ]
  },
  {
   "cell_type": "markdown",
   "metadata": {},
   "source": [
    "- IForest arrive à détecter toutes les anomalies mais le taux de fausses alertes reste quand même élevé (environ 8%) pour les paramètres suivants : max_samples = 256, n_trees = 100, threshold = 0.5. Et ce taux de fausses alertes pourrait augmenter en fonction de la taille du jeu de données total.\n",
    "Alors la question qui se pose est \"Comment faire pour minimiser le taux de fausses alertes tout en conservant une bonne spécificité?\"\n",
    "\n",
    "- L'hypothèse selon laquelle la performance de IForest est fonction du nombre de données dans l'échantillon et par ricochet la taille maximale de l'arbre est vérifié car, on remarque que plus la taille de l'échantillon augmente, plus la AUC est meilleure même si on maintient n_trees = 100, threshold = 0.5 Ce qu'il y a lieu de faire est de vérifier:\n",
    "\n",
    "    - si cette amélioration est dû au nombre de données anormales qui se retrouve dans l'échantillon ou si c'est dû uniquement à la taille de l'arbre\n",
    "    - le rapport entre la taille de l'échantillon et le nombre d'arbres qu'il faut pour obtenir une bonne performance\n",
    "    - le seuil à choisir dépend t-il d'un paramètre?\n",
    "    - que faire quand les anomalies se ressemblent tellement qu'elles se retrouvent aussi au pied de l'arbre\n",
    "    - si les noeuds feuilles de chaque arbre de la forêt ainsi créée contient des données anormales."
   ]
  },
  {
   "cell_type": "code",
   "execution_count": null,
   "metadata": {},
   "outputs": [],
   "source": []
  }
 ],
 "metadata": {
  "kernelspec": {
   "display_name": "Python 3",
   "language": "python",
   "name": "python3"
  },
  "language_info": {
   "codemirror_mode": {
    "name": "ipython",
    "version": 3
   },
   "file_extension": ".py",
   "mimetype": "text/x-python",
   "name": "python",
   "nbconvert_exporter": "python",
   "pygments_lexer": "ipython3",
   "version": "3.7.4"
  }
 },
 "nbformat": 4,
 "nbformat_minor": 2
}
