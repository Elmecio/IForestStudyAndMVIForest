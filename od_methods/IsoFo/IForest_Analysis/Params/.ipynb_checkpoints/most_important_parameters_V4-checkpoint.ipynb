{
 "cells": [
  {
   "cell_type": "code",
   "execution_count": 1,
   "metadata": {},
   "outputs": [
    {
     "name": "stderr",
     "output_type": "stream",
     "text": [
      "Using TensorFlow backend.\n"
     ]
    }
   ],
   "source": [
    "import numpy as np\n",
    "import pandas as pd\n",
    "import matplotlib.pyplot as plt\n",
    "from time import time\n",
    "from sklearn.ensemble import IsolationForest\n",
    "from sklearn.svm import OneClassSVM\n",
    "from sklearn.neighbors import LocalOutlierFactor\n",
    "from sklearn.metrics import confusion_matrix\n",
    "from sklearn.metrics import roc_auc_score\n",
    "from matplotlib.mlab import frange\n",
    "import statistics\n",
    "from sklearn.metrics import confusion_matrix\n",
    "from sklearn.metrics import precision_score, recall_score\n",
    "from sklearn.metrics import f1_score\n",
    "from sklearn.metrics import roc_curve\n",
    "from imblearn.metrics import specificity_score\n",
    "from imblearn.metrics import sensitivity_score\n",
    "import matplotlib.cm as cm\n",
    "from mpl_toolkits import mplot3d"
   ]
  },
  {
   "cell_type": "markdown",
   "metadata": {},
   "source": [
    "## Chargement du jeu de données Shuttle"
   ]
  },
  {
   "cell_type": "markdown",
   "metadata": {},
   "source": [
    "Shuttle contient 10 attributs dont le dernier est la classe à expliquer.\n",
    "Il y a 46464 observations dont 878 anormales.\n",
    "Avec le dernier attribut, nous avons les classes \"o\" pour les anomalies et \"n\" pour les observations normales."
   ]
  },
  {
   "cell_type": "code",
   "execution_count": 2,
   "metadata": {},
   "outputs": [
    {
     "data": {
      "text/html": [
       "<div>\n",
       "<style scoped>\n",
       "    .dataframe tbody tr th:only-of-type {\n",
       "        vertical-align: middle;\n",
       "    }\n",
       "\n",
       "    .dataframe tbody tr th {\n",
       "        vertical-align: top;\n",
       "    }\n",
       "\n",
       "    .dataframe thead th {\n",
       "        text-align: right;\n",
       "    }\n",
       "</style>\n",
       "<table border=\"1\" class=\"dataframe\">\n",
       "  <thead>\n",
       "    <tr style=\"text-align: right;\">\n",
       "      <th></th>\n",
       "      <th>0</th>\n",
       "      <th>1</th>\n",
       "      <th>2</th>\n",
       "      <th>3</th>\n",
       "      <th>4</th>\n",
       "      <th>5</th>\n",
       "      <th>6</th>\n",
       "      <th>7</th>\n",
       "      <th>8</th>\n",
       "    </tr>\n",
       "  </thead>\n",
       "  <tbody>\n",
       "    <tr>\n",
       "      <th>count</th>\n",
       "      <td>46464.000000</td>\n",
       "      <td>46464.000000</td>\n",
       "      <td>46464.000000</td>\n",
       "      <td>46464.000000</td>\n",
       "      <td>46464.000000</td>\n",
       "      <td>46464.000000</td>\n",
       "      <td>46464.000000</td>\n",
       "      <td>46464.000000</td>\n",
       "      <td>46464.000000</td>\n",
       "    </tr>\n",
       "    <tr>\n",
       "      <th>mean</th>\n",
       "      <td>44.775482</td>\n",
       "      <td>-0.712509</td>\n",
       "      <td>84.834108</td>\n",
       "      <td>0.279291</td>\n",
       "      <td>38.652763</td>\n",
       "      <td>2.289708</td>\n",
       "      <td>40.070334</td>\n",
       "      <td>46.180419</td>\n",
       "      <td>6.299888</td>\n",
       "    </tr>\n",
       "    <tr>\n",
       "      <th>std</th>\n",
       "      <td>8.753404</td>\n",
       "      <td>44.218007</td>\n",
       "      <td>8.731175</td>\n",
       "      <td>37.317203</td>\n",
       "      <td>15.902506</td>\n",
       "      <td>177.518356</td>\n",
       "      <td>10.969455</td>\n",
       "      <td>17.052467</td>\n",
       "      <td>15.005878</td>\n",
       "    </tr>\n",
       "    <tr>\n",
       "      <th>min</th>\n",
       "      <td>27.000000</td>\n",
       "      <td>-4475.000000</td>\n",
       "      <td>21.000000</td>\n",
       "      <td>-3939.000000</td>\n",
       "      <td>-188.000000</td>\n",
       "      <td>-12809.000000</td>\n",
       "      <td>-26.000000</td>\n",
       "      <td>-353.000000</td>\n",
       "      <td>-356.000000</td>\n",
       "    </tr>\n",
       "    <tr>\n",
       "      <th>25%</th>\n",
       "      <td>37.000000</td>\n",
       "      <td>0.000000</td>\n",
       "      <td>79.000000</td>\n",
       "      <td>0.000000</td>\n",
       "      <td>34.000000</td>\n",
       "      <td>-4.000000</td>\n",
       "      <td>34.000000</td>\n",
       "      <td>35.000000</td>\n",
       "      <td>0.000000</td>\n",
       "    </tr>\n",
       "    <tr>\n",
       "      <th>50%</th>\n",
       "      <td>43.000000</td>\n",
       "      <td>0.000000</td>\n",
       "      <td>83.000000</td>\n",
       "      <td>0.000000</td>\n",
       "      <td>42.000000</td>\n",
       "      <td>0.000000</td>\n",
       "      <td>39.000000</td>\n",
       "      <td>41.000000</td>\n",
       "      <td>2.000000</td>\n",
       "    </tr>\n",
       "    <tr>\n",
       "      <th>75%</th>\n",
       "      <td>49.000000</td>\n",
       "      <td>0.000000</td>\n",
       "      <td>87.000000</td>\n",
       "      <td>0.000000</td>\n",
       "      <td>46.000000</td>\n",
       "      <td>5.000000</td>\n",
       "      <td>43.000000</td>\n",
       "      <td>52.000000</td>\n",
       "      <td>2.000000</td>\n",
       "    </tr>\n",
       "    <tr>\n",
       "      <th>max</th>\n",
       "      <td>123.000000</td>\n",
       "      <td>1963.000000</td>\n",
       "      <td>149.000000</td>\n",
       "      <td>3830.000000</td>\n",
       "      <td>436.000000</td>\n",
       "      <td>15164.000000</td>\n",
       "      <td>105.000000</td>\n",
       "      <td>270.000000</td>\n",
       "      <td>266.000000</td>\n",
       "    </tr>\n",
       "  </tbody>\n",
       "</table>\n",
       "</div>"
      ],
      "text/plain": [
       "                  0             1             2             3             4  \\\n",
       "count  46464.000000  46464.000000  46464.000000  46464.000000  46464.000000   \n",
       "mean      44.775482     -0.712509     84.834108      0.279291     38.652763   \n",
       "std        8.753404     44.218007      8.731175     37.317203     15.902506   \n",
       "min       27.000000  -4475.000000     21.000000  -3939.000000   -188.000000   \n",
       "25%       37.000000      0.000000     79.000000      0.000000     34.000000   \n",
       "50%       43.000000      0.000000     83.000000      0.000000     42.000000   \n",
       "75%       49.000000      0.000000     87.000000      0.000000     46.000000   \n",
       "max      123.000000   1963.000000    149.000000   3830.000000    436.000000   \n",
       "\n",
       "                  5             6             7             8  \n",
       "count  46464.000000  46464.000000  46464.000000  46464.000000  \n",
       "mean       2.289708     40.070334     46.180419      6.299888  \n",
       "std      177.518356     10.969455     17.052467     15.005878  \n",
       "min   -12809.000000    -26.000000   -353.000000   -356.000000  \n",
       "25%       -4.000000     34.000000     35.000000      0.000000  \n",
       "50%        0.000000     39.000000     41.000000      2.000000  \n",
       "75%        5.000000     43.000000     52.000000      2.000000  \n",
       "max    15164.000000    105.000000    270.000000    266.000000  "
      ]
     },
     "execution_count": 2,
     "metadata": {},
     "output_type": "execute_result"
    }
   ],
   "source": [
    "data_brut_Shuttle = pd.read_csv('/Users/thesard/Doctorat/These2018/ISEP/Developpements/EspaceIntelliJ/LearningAllInPython/Learning_IHM_Features/datasets/imported_datasets/shuttle-unsupervised-ad_2019-06-14 17:33:02.493755.csv', header=None, index_col=None)\n",
    "X_Shuttle = data_brut_Shuttle[[0, 1, 2, 3, 4, 5, 6, 7, 8]]\n",
    "y_brut_Shuttle = data_brut_Shuttle[[9]]\n",
    "data_brut_Shuttle.describe()"
   ]
  },
  {
   "cell_type": "markdown",
   "metadata": {},
   "source": [
    "## Chargement du jeu de données KDD99-Cup HTTP"
   ]
  },
  {
   "cell_type": "markdown",
   "metadata": {},
   "source": [
    "KDD99-Cup HTTP contient 30 attributs dont le dernier est la classe à expliquer.\n",
    "Il y a 620098 observations dont 1052 anormales.\n",
    "Avec le dernier attribut, nous avons les classes \"o\" pour les anomalies et \"n\" pour les observations normales."
   ]
  },
  {
   "cell_type": "code",
   "execution_count": 3,
   "metadata": {},
   "outputs": [
    {
     "data": {
      "text/html": [
       "<div>\n",
       "<style scoped>\n",
       "    .dataframe tbody tr th:only-of-type {\n",
       "        vertical-align: middle;\n",
       "    }\n",
       "\n",
       "    .dataframe tbody tr th {\n",
       "        vertical-align: top;\n",
       "    }\n",
       "\n",
       "    .dataframe thead th {\n",
       "        text-align: right;\n",
       "    }\n",
       "</style>\n",
       "<table border=\"1\" class=\"dataframe\">\n",
       "  <thead>\n",
       "    <tr style=\"text-align: right;\">\n",
       "      <th></th>\n",
       "      <th>0</th>\n",
       "      <th>1</th>\n",
       "      <th>2</th>\n",
       "      <th>3</th>\n",
       "      <th>4</th>\n",
       "      <th>5</th>\n",
       "      <th>6</th>\n",
       "      <th>7</th>\n",
       "      <th>8</th>\n",
       "      <th>9</th>\n",
       "      <th>...</th>\n",
       "      <th>19</th>\n",
       "      <th>20</th>\n",
       "      <th>21</th>\n",
       "      <th>22</th>\n",
       "      <th>23</th>\n",
       "      <th>24</th>\n",
       "      <th>25</th>\n",
       "      <th>26</th>\n",
       "      <th>27</th>\n",
       "      <th>28</th>\n",
       "    </tr>\n",
       "  </thead>\n",
       "  <tbody>\n",
       "    <tr>\n",
       "      <th>count</th>\n",
       "      <td>620098.000000</td>\n",
       "      <td>620098.000000</td>\n",
       "      <td>6.200980e+05</td>\n",
       "      <td>620098.000000</td>\n",
       "      <td>620098.000000</td>\n",
       "      <td>620098.000000</td>\n",
       "      <td>620098.000000</td>\n",
       "      <td>620098.000000</td>\n",
       "      <td>620098.000000</td>\n",
       "      <td>620098.000000</td>\n",
       "      <td>...</td>\n",
       "      <td>620098.000000</td>\n",
       "      <td>620098.000000</td>\n",
       "      <td>620098.000000</td>\n",
       "      <td>620098.000000</td>\n",
       "      <td>620098.000000</td>\n",
       "      <td>620098.000000</td>\n",
       "      <td>620098.000000</td>\n",
       "      <td>620098.000000</td>\n",
       "      <td>620098.000000</td>\n",
       "      <td>620098.000000</td>\n",
       "    </tr>\n",
       "    <tr>\n",
       "      <th>mean</th>\n",
       "      <td>0.627670</td>\n",
       "      <td>280.374673</td>\n",
       "      <td>4.099298e+03</td>\n",
       "      <td>0.005012</td>\n",
       "      <td>0.912428</td>\n",
       "      <td>0.000947</td>\n",
       "      <td>0.000318</td>\n",
       "      <td>0.000013</td>\n",
       "      <td>0.000010</td>\n",
       "      <td>0.005409</td>\n",
       "      <td>...</td>\n",
       "      <td>127.698101</td>\n",
       "      <td>244.485422</td>\n",
       "      <td>0.996744</td>\n",
       "      <td>0.000796</td>\n",
       "      <td>0.074723</td>\n",
       "      <td>0.031820</td>\n",
       "      <td>0.001920</td>\n",
       "      <td>0.001473</td>\n",
       "      <td>0.087651</td>\n",
       "      <td>0.086732</td>\n",
       "    </tr>\n",
       "    <tr>\n",
       "      <th>std</th>\n",
       "      <td>53.972528</td>\n",
       "      <td>1509.901935</td>\n",
       "      <td>2.369388e+04</td>\n",
       "      <td>0.098271</td>\n",
       "      <td>0.282671</td>\n",
       "      <td>0.045654</td>\n",
       "      <td>0.017821</td>\n",
       "      <td>0.003592</td>\n",
       "      <td>0.003111</td>\n",
       "      <td>0.073346</td>\n",
       "      <td>...</td>\n",
       "      <td>105.897233</td>\n",
       "      <td>40.458619</td>\n",
       "      <td>0.033137</td>\n",
       "      <td>0.009522</td>\n",
       "      <td>0.185812</td>\n",
       "      <td>0.050689</td>\n",
       "      <td>0.030694</td>\n",
       "      <td>0.028037</td>\n",
       "      <td>0.274777</td>\n",
       "      <td>0.268543</td>\n",
       "    </tr>\n",
       "    <tr>\n",
       "      <th>min</th>\n",
       "      <td>0.000000</td>\n",
       "      <td>0.000000</td>\n",
       "      <td>0.000000e+00</td>\n",
       "      <td>0.000000</td>\n",
       "      <td>0.000000</td>\n",
       "      <td>0.000000</td>\n",
       "      <td>0.000000</td>\n",
       "      <td>0.000000</td>\n",
       "      <td>0.000000</td>\n",
       "      <td>0.000000</td>\n",
       "      <td>...</td>\n",
       "      <td>0.000000</td>\n",
       "      <td>0.000000</td>\n",
       "      <td>0.000000</td>\n",
       "      <td>0.000000</td>\n",
       "      <td>0.000000</td>\n",
       "      <td>0.000000</td>\n",
       "      <td>0.000000</td>\n",
       "      <td>0.000000</td>\n",
       "      <td>0.000000</td>\n",
       "      <td>0.000000</td>\n",
       "    </tr>\n",
       "    <tr>\n",
       "      <th>25%</th>\n",
       "      <td>0.000000</td>\n",
       "      <td>210.000000</td>\n",
       "      <td>4.580000e+02</td>\n",
       "      <td>0.000000</td>\n",
       "      <td>1.000000</td>\n",
       "      <td>0.000000</td>\n",
       "      <td>0.000000</td>\n",
       "      <td>0.000000</td>\n",
       "      <td>0.000000</td>\n",
       "      <td>0.000000</td>\n",
       "      <td>...</td>\n",
       "      <td>22.000000</td>\n",
       "      <td>255.000000</td>\n",
       "      <td>1.000000</td>\n",
       "      <td>0.000000</td>\n",
       "      <td>0.000000</td>\n",
       "      <td>0.000000</td>\n",
       "      <td>0.000000</td>\n",
       "      <td>0.000000</td>\n",
       "      <td>0.000000</td>\n",
       "      <td>0.000000</td>\n",
       "    </tr>\n",
       "    <tr>\n",
       "      <th>50%</th>\n",
       "      <td>0.000000</td>\n",
       "      <td>240.000000</td>\n",
       "      <td>1.425000e+03</td>\n",
       "      <td>0.000000</td>\n",
       "      <td>1.000000</td>\n",
       "      <td>0.000000</td>\n",
       "      <td>0.000000</td>\n",
       "      <td>0.000000</td>\n",
       "      <td>0.000000</td>\n",
       "      <td>0.000000</td>\n",
       "      <td>...</td>\n",
       "      <td>96.000000</td>\n",
       "      <td>255.000000</td>\n",
       "      <td>1.000000</td>\n",
       "      <td>0.000000</td>\n",
       "      <td>0.010000</td>\n",
       "      <td>0.020000</td>\n",
       "      <td>0.000000</td>\n",
       "      <td>0.000000</td>\n",
       "      <td>0.000000</td>\n",
       "      <td>0.000000</td>\n",
       "    </tr>\n",
       "    <tr>\n",
       "      <th>75%</th>\n",
       "      <td>0.000000</td>\n",
       "      <td>302.000000</td>\n",
       "      <td>3.731000e+03</td>\n",
       "      <td>0.000000</td>\n",
       "      <td>1.000000</td>\n",
       "      <td>0.000000</td>\n",
       "      <td>0.000000</td>\n",
       "      <td>0.000000</td>\n",
       "      <td>0.000000</td>\n",
       "      <td>0.000000</td>\n",
       "      <td>...</td>\n",
       "      <td>255.000000</td>\n",
       "      <td>255.000000</td>\n",
       "      <td>1.000000</td>\n",
       "      <td>0.000000</td>\n",
       "      <td>0.050000</td>\n",
       "      <td>0.040000</td>\n",
       "      <td>0.000000</td>\n",
       "      <td>0.000000</td>\n",
       "      <td>0.000000</td>\n",
       "      <td>0.000000</td>\n",
       "    </tr>\n",
       "    <tr>\n",
       "      <th>max</th>\n",
       "      <td>41065.000000</td>\n",
       "      <td>54540.000000</td>\n",
       "      <td>1.173059e+07</td>\n",
       "      <td>21.000000</td>\n",
       "      <td>1.000000</td>\n",
       "      <td>21.000000</td>\n",
       "      <td>1.000000</td>\n",
       "      <td>1.000000</td>\n",
       "      <td>1.000000</td>\n",
       "      <td>1.000000</td>\n",
       "      <td>...</td>\n",
       "      <td>255.000000</td>\n",
       "      <td>255.000000</td>\n",
       "      <td>1.000000</td>\n",
       "      <td>1.000000</td>\n",
       "      <td>1.000000</td>\n",
       "      <td>1.000000</td>\n",
       "      <td>1.000000</td>\n",
       "      <td>1.000000</td>\n",
       "      <td>1.000000</td>\n",
       "      <td>1.000000</td>\n",
       "    </tr>\n",
       "  </tbody>\n",
       "</table>\n",
       "<p>8 rows × 29 columns</p>\n",
       "</div>"
      ],
      "text/plain": [
       "                  0              1             2              3   \\\n",
       "count  620098.000000  620098.000000  6.200980e+05  620098.000000   \n",
       "mean        0.627670     280.374673  4.099298e+03       0.005012   \n",
       "std        53.972528    1509.901935  2.369388e+04       0.098271   \n",
       "min         0.000000       0.000000  0.000000e+00       0.000000   \n",
       "25%         0.000000     210.000000  4.580000e+02       0.000000   \n",
       "50%         0.000000     240.000000  1.425000e+03       0.000000   \n",
       "75%         0.000000     302.000000  3.731000e+03       0.000000   \n",
       "max     41065.000000   54540.000000  1.173059e+07      21.000000   \n",
       "\n",
       "                  4              5              6              7   \\\n",
       "count  620098.000000  620098.000000  620098.000000  620098.000000   \n",
       "mean        0.912428       0.000947       0.000318       0.000013   \n",
       "std         0.282671       0.045654       0.017821       0.003592   \n",
       "min         0.000000       0.000000       0.000000       0.000000   \n",
       "25%         1.000000       0.000000       0.000000       0.000000   \n",
       "50%         1.000000       0.000000       0.000000       0.000000   \n",
       "75%         1.000000       0.000000       0.000000       0.000000   \n",
       "max         1.000000      21.000000       1.000000       1.000000   \n",
       "\n",
       "                  8              9   ...             19             20  \\\n",
       "count  620098.000000  620098.000000  ...  620098.000000  620098.000000   \n",
       "mean        0.000010       0.005409  ...     127.698101     244.485422   \n",
       "std         0.003111       0.073346  ...     105.897233      40.458619   \n",
       "min         0.000000       0.000000  ...       0.000000       0.000000   \n",
       "25%         0.000000       0.000000  ...      22.000000     255.000000   \n",
       "50%         0.000000       0.000000  ...      96.000000     255.000000   \n",
       "75%         0.000000       0.000000  ...     255.000000     255.000000   \n",
       "max         1.000000       1.000000  ...     255.000000     255.000000   \n",
       "\n",
       "                  21             22             23             24  \\\n",
       "count  620098.000000  620098.000000  620098.000000  620098.000000   \n",
       "mean        0.996744       0.000796       0.074723       0.031820   \n",
       "std         0.033137       0.009522       0.185812       0.050689   \n",
       "min         0.000000       0.000000       0.000000       0.000000   \n",
       "25%         1.000000       0.000000       0.000000       0.000000   \n",
       "50%         1.000000       0.000000       0.010000       0.020000   \n",
       "75%         1.000000       0.000000       0.050000       0.040000   \n",
       "max         1.000000       1.000000       1.000000       1.000000   \n",
       "\n",
       "                  25             26             27             28  \n",
       "count  620098.000000  620098.000000  620098.000000  620098.000000  \n",
       "mean        0.001920       0.001473       0.087651       0.086732  \n",
       "std         0.030694       0.028037       0.274777       0.268543  \n",
       "min         0.000000       0.000000       0.000000       0.000000  \n",
       "25%         0.000000       0.000000       0.000000       0.000000  \n",
       "50%         0.000000       0.000000       0.000000       0.000000  \n",
       "75%         0.000000       0.000000       0.000000       0.000000  \n",
       "max         1.000000       1.000000       1.000000       1.000000  \n",
       "\n",
       "[8 rows x 29 columns]"
      ]
     },
     "execution_count": 3,
     "metadata": {},
     "output_type": "execute_result"
    }
   ],
   "source": [
    "data_brut_KDD99CUP = pd.read_csv('/Users/thesard/Doctorat/These2018/ISEP/Developpements/EspaceIntelliJ/LearningAllInPython/Learning_IHM_Features/datasets/imported_datasets/kdd99-unsupervised-ad_2019-06-24 16:08:29.815617.csv', header=None, index_col=None)\n",
    "X_KDD99CUP = data_brut_KDD99CUP[[0, 1, 2, 3, 4, 5, 6, 7, 8, 9, 10, 11, 12, 13 ,14, 15, 16, 17, 18, 19, 20, 21, 22, 23, 24, 25, 26, 27, 28]]\n",
    "y_brut_KDD99CUP = data_brut_KDD99CUP[[29]]\n",
    "data_brut_KDD99CUP.describe()"
   ]
  },
  {
   "cell_type": "markdown",
   "metadata": {},
   "source": [
    "## Transformation de la classe à expliquer"
   ]
  },
  {
   "cell_type": "markdown",
   "metadata": {},
   "source": [
    "L'objectif ici est de remplacer les \"o\" par -1 et les \"n\" par 1 afin de faire les matrices de confusion avec la fonction dédiée de scikit-learn."
   ]
  },
  {
   "cell_type": "code",
   "execution_count": 4,
   "metadata": {},
   "outputs": [],
   "source": [
    "y_transform_Shuttle = y_brut_Shuttle\n",
    "y_transform_Shuttle = np.where(y_transform_Shuttle=='o',-1,1)\n",
    "#y_transform\n",
    "y_transform_KDD99CUP = y_brut_KDD99CUP\n",
    "y_transform_KDD99CUP = np.where(y_transform_KDD99CUP=='o',-1,1)\n",
    "#y_transform_KDD99CUP"
   ]
  },
  {
   "cell_type": "markdown",
   "metadata": {},
   "source": [
    "## Shuttle"
   ]
  },
  {
   "cell_type": "markdown",
   "metadata": {},
   "source": [
    "### Exécution de Isolation Forest sur le jeux de données Shuttle en faisant varier n_estimators"
   ]
  },
  {
   "cell_type": "markdown",
   "metadata": {},
   "source": [
    "### Etude de l'inconstance de IForest\n",
    "Utilisant les valeurs par défaut des paramètres de IForest au niveau de scikit-learn"
   ]
  },
  {
   "cell_type": "code",
   "execution_count": 5,
   "metadata": {},
   "outputs": [
    {
     "name": "stderr",
     "output_type": "stream",
     "text": [
      "/Users/thesard/anaconda3/lib/python3.7/site-packages/sklearn/ensemble/iforest.py:213: FutureWarning: default contamination parameter 0.1 will change in version 0.22 to \"auto\". This will change the predict method behavior.\n",
      "  FutureWarning)\n",
      "/Users/thesard/anaconda3/lib/python3.7/site-packages/sklearn/ensemble/iforest.py:213: FutureWarning: default contamination parameter 0.1 will change in version 0.22 to \"auto\". This will change the predict method behavior.\n",
      "  FutureWarning)\n",
      "/Users/thesard/anaconda3/lib/python3.7/site-packages/sklearn/ensemble/iforest.py:213: FutureWarning: default contamination parameter 0.1 will change in version 0.22 to \"auto\". This will change the predict method behavior.\n",
      "  FutureWarning)\n",
      "/Users/thesard/anaconda3/lib/python3.7/site-packages/sklearn/ensemble/iforest.py:213: FutureWarning: default contamination parameter 0.1 will change in version 0.22 to \"auto\". This will change the predict method behavior.\n",
      "  FutureWarning)\n",
      "/Users/thesard/anaconda3/lib/python3.7/site-packages/sklearn/ensemble/iforest.py:213: FutureWarning: default contamination parameter 0.1 will change in version 0.22 to \"auto\". This will change the predict method behavior.\n",
      "  FutureWarning)\n",
      "/Users/thesard/anaconda3/lib/python3.7/site-packages/sklearn/ensemble/iforest.py:213: FutureWarning: default contamination parameter 0.1 will change in version 0.22 to \"auto\". This will change the predict method behavior.\n",
      "  FutureWarning)\n",
      "/Users/thesard/anaconda3/lib/python3.7/site-packages/sklearn/ensemble/iforest.py:213: FutureWarning: default contamination parameter 0.1 will change in version 0.22 to \"auto\". This will change the predict method behavior.\n",
      "  FutureWarning)\n",
      "/Users/thesard/anaconda3/lib/python3.7/site-packages/sklearn/ensemble/iforest.py:213: FutureWarning: default contamination parameter 0.1 will change in version 0.22 to \"auto\". This will change the predict method behavior.\n",
      "  FutureWarning)\n",
      "/Users/thesard/anaconda3/lib/python3.7/site-packages/sklearn/ensemble/iforest.py:213: FutureWarning: default contamination parameter 0.1 will change in version 0.22 to \"auto\". This will change the predict method behavior.\n",
      "  FutureWarning)\n"
     ]
    }
   ],
   "source": [
    "study_executions_time_IF_Shuttle = []\n",
    "study_roc_auc_IF_Shuttle = []\n",
    "study_recalls_IF_Shuttle = []\n",
    "study_specificity_IF_Shuttle = []\n",
    "\n",
    "for j in range(10, 100, 10):\n",
    "    start_IF_Shuttle = time()\n",
    "        \n",
    "    # Instanciation, fit and predict on Shuttle\n",
    "    study_func_IF_Shuttle = IsolationForest(behaviour=\"new\")\n",
    "    study_func_IF_Shuttle.fit(X_Shuttle)\n",
    "    study_y_pred_IF_Shuttle = study_func_IF_Shuttle.predict(X_Shuttle)\n",
    "\n",
    "    # Calcul du temps d'exécution\n",
    "    study_exec_time_IF_Shuttle = time() - start_IF_Shuttle\n",
    "    study_executions_time_IF_Shuttle.append(study_exec_time_IF_Shuttle)\n",
    "    \n",
    "    # Recall\n",
    "    study_recalls_IF_Shuttle.append(recall_score(y_transform_Shuttle, study_y_pred_IF_Shuttle))\n",
    "    \n",
    "    # Specificity\n",
    "    study_specificity_IF_Shuttle.append(specificity_score(y_transform_Shuttle, study_y_pred_IF_Shuttle))\n",
    "    \n",
    "    # Calcul de l'aire sous la courbe ROC\n",
    "    study_y_DF_IF_Shuttle = study_func_IF_Shuttle.decision_function(X_Shuttle)\n",
    "    study_auc_IF_Shuttle = roc_auc_score(y_transform_Shuttle, study_y_DF_IF_Shuttle)\n",
    "    study_roc_auc_IF_Shuttle.append(study_auc_IF_Shuttle)"
   ]
  },
  {
   "cell_type": "code",
   "execution_count": 19,
   "metadata": {},
   "outputs": [
    {
     "data": {
      "image/png": "[encoded data removed]",
      "text/plain": [
       "<Figure size 432x288 with 1 Axes>"
      ]
     },
     "metadata": {
      "needs_background": "light"
     },
     "output_type": "display_data"
    }
   ],
   "source": [
    "# Evolution de spécificité et rappel\n",
    "#plt.plot( 'x', 'y1', data=df, marker='o', markerfacecolor='blue', markersize=12, color='skyblue', linewidth=4)\n",
    "plt.plot(range(10, 100, 10), study_executions_time_IF_Shuttle, \"y-\", marker='o', markerfacecolor='blue', markersize=12, color='skyblue')\n",
    "#plt.title(\"Courbe Etude de l'inconstance de IForest\")\n",
    "#plt.axis([10, 90, 0, 4])\n",
    "plt.xlabel('Execution Number')\n",
    "plt.ylabel('CPU Time')\n",
    "plt.legend(loc=\"best\")\n",
    "plt.savefig('inconstance_cputime.png')\n",
    "plt.show()"
   ]
  },
  {
   "cell_type": "code",
   "execution_count": 7,
   "metadata": {},
   "outputs": [
    {
     "data": {
      "image/png": "[encoded data removed]",
      "text/plain": [
       "<Figure size 432x288 with 1 Axes>"
      ]
     },
     "metadata": {
      "needs_background": "light"
     },
     "output_type": "display_data"
    }
   ],
   "source": [
    "# Evolution de spécificité et rappel\n",
    "plt.plot(range(10, 100, 10), study_roc_auc_IF_Shuttle, \"b--\", marker='o', markerfacecolor='blue', markersize=12, color='skyblue')\n",
    "#plt.title(\"Courbe Etude de l'inconstance de IForest\")\n",
    "#plt.axis([10, 90, 0, 4])\n",
    "plt.xlabel('Execution Number')\n",
    "plt.ylabel('ROC AUC')\n",
    "plt.legend(loc=\"best\")\n",
    "plt.savefig('inconstance_rocauc.png')\n",
    "plt.show()"
   ]
  },
  {
   "cell_type": "code",
   "execution_count": 8,
   "metadata": {},
   "outputs": [
    {
     "data": {
      "image/png": "[encoded data removed]",
      "text/plain": [
       "<Figure size 432x288 with 1 Axes>"
      ]
     },
     "metadata": {
      "needs_background": "light"
     },
     "output_type": "display_data"
    }
   ],
   "source": [
    "# Evolution de spécificité et rappel\n",
    "plt.plot(range(10, 100, 10), study_recalls_IF_Shuttle, \"g-\", marker='o', markerfacecolor='blue', markersize=12, color='skyblue')\n",
    "#plt.title(\"Courbe Etude de l'inconstance de IForest\")\n",
    "#plt.axis([10, 90, 0, 4])\n",
    "plt.xlabel('Execution Number')\n",
    "plt.ylabel('Recall')\n",
    "plt.legend(loc=\"best\")\n",
    "plt.savefig('inconstance_recall.png')\n",
    "plt.show()"
   ]
  },
  {
   "cell_type": "code",
   "execution_count": 9,
   "metadata": {},
   "outputs": [
    {
     "data": {
      "image/png": "[encoded data removed]",
      "text/plain": [
       "<Figure size 432x288 with 1 Axes>"
      ]
     },
     "metadata": {
      "needs_background": "light"
     },
     "output_type": "display_data"
    }
   ],
   "source": [
    "# Evolution de spécificité et rappel\n",
    "plt.plot(range(10, 100, 10), study_specificity_IF_Shuttle, \"r--\", marker='o', markerfacecolor='blue', markersize=12, color='skyblue')\n",
    "#plt.title(\"Courbe Etude de l'inconstance de IForest\")\n",
    "#plt.axis([10, 90, 0, 4])\n",
    "plt.xlabel('Execution Number')\n",
    "plt.ylabel('Specificity')\n",
    "plt.legend(loc=\"best\")\n",
    "plt.savefig('inconstance_specificity.png')\n",
    "plt.show()"
   ]
  },
  {
   "cell_type": "markdown",
   "metadata": {},
   "source": [
    "#### Conclusion\n",
    "Malgré le caractère aléatoire de IForest, les métrics choisis ont tendance à être constant durant l'exécution successive avec les mêmes paramètres."
   ]
  },
  {
   "cell_type": "code",
   "execution_count": 10,
   "metadata": {
    "scrolled": false
   },
   "outputs": [
    {
     "name": "stdout",
     "output_type": "stream",
     "text": [
      "n_estimators = 10\n"
     ]
    },
    {
     "name": "stderr",
     "output_type": "stream",
     "text": [
      "/Users/thesard/anaconda3/lib/python3.7/site-packages/sklearn/ensemble/iforest.py:213: FutureWarning: default contamination parameter 0.1 will change in version 0.22 to \"auto\". This will change the predict method behavior.\n",
      "  FutureWarning)\n"
     ]
    },
    {
     "name": "stdout",
     "output_type": "stream",
     "text": [
      "n_estimators = 20\n"
     ]
    },
    {
     "name": "stderr",
     "output_type": "stream",
     "text": [
      "/Users/thesard/anaconda3/lib/python3.7/site-packages/sklearn/ensemble/iforest.py:213: FutureWarning: default contamination parameter 0.1 will change in version 0.22 to \"auto\". This will change the predict method behavior.\n",
      "  FutureWarning)\n"
     ]
    },
    {
     "name": "stdout",
     "output_type": "stream",
     "text": [
      "n_estimators = 30\n"
     ]
    },
    {
     "name": "stderr",
     "output_type": "stream",
     "text": [
      "/Users/thesard/anaconda3/lib/python3.7/site-packages/sklearn/ensemble/iforest.py:213: FutureWarning: default contamination parameter 0.1 will change in version 0.22 to \"auto\". This will change the predict method behavior.\n",
      "  FutureWarning)\n"
     ]
    },
    {
     "name": "stdout",
     "output_type": "stream",
     "text": [
      "n_estimators = 40\n"
     ]
    },
    {
     "name": "stderr",
     "output_type": "stream",
     "text": [
      "/Users/thesard/anaconda3/lib/python3.7/site-packages/sklearn/ensemble/iforest.py:213: FutureWarning: default contamination parameter 0.1 will change in version 0.22 to \"auto\". This will change the predict method behavior.\n",
      "  FutureWarning)\n"
     ]
    },
    {
     "name": "stdout",
     "output_type": "stream",
     "text": [
      "n_estimators = 50\n"
     ]
    },
    {
     "name": "stderr",
     "output_type": "stream",
     "text": [
      "/Users/thesard/anaconda3/lib/python3.7/site-packages/sklearn/ensemble/iforest.py:213: FutureWarning: default contamination parameter 0.1 will change in version 0.22 to \"auto\". This will change the predict method behavior.\n",
      "  FutureWarning)\n"
     ]
    },
    {
     "name": "stdout",
     "output_type": "stream",
     "text": [
      "n_estimators = 60\n"
     ]
    },
    {
     "name": "stderr",
     "output_type": "stream",
     "text": [
      "/Users/thesard/anaconda3/lib/python3.7/site-packages/sklearn/ensemble/iforest.py:213: FutureWarning: default contamination parameter 0.1 will change in version 0.22 to \"auto\". This will change the predict method behavior.\n",
      "  FutureWarning)\n"
     ]
    },
    {
     "name": "stdout",
     "output_type": "stream",
     "text": [
      "n_estimators = 70\n"
     ]
    },
    {
     "name": "stderr",
     "output_type": "stream",
     "text": [
      "/Users/thesard/anaconda3/lib/python3.7/site-packages/sklearn/ensemble/iforest.py:213: FutureWarning: default contamination parameter 0.1 will change in version 0.22 to \"auto\". This will change the predict method behavior.\n",
      "  FutureWarning)\n"
     ]
    },
    {
     "name": "stdout",
     "output_type": "stream",
     "text": [
      "n_estimators = 80\n"
     ]
    },
    {
     "name": "stderr",
     "output_type": "stream",
     "text": [
      "/Users/thesard/anaconda3/lib/python3.7/site-packages/sklearn/ensemble/iforest.py:213: FutureWarning: default contamination parameter 0.1 will change in version 0.22 to \"auto\". This will change the predict method behavior.\n",
      "  FutureWarning)\n"
     ]
    },
    {
     "name": "stdout",
     "output_type": "stream",
     "text": [
      "n_estimators = 90\n"
     ]
    },
    {
     "name": "stderr",
     "output_type": "stream",
     "text": [
      "/Users/thesard/anaconda3/lib/python3.7/site-packages/sklearn/ensemble/iforest.py:213: FutureWarning: default contamination parameter 0.1 will change in version 0.22 to \"auto\". This will change the predict method behavior.\n",
      "  FutureWarning)\n"
     ]
    },
    {
     "name": "stdout",
     "output_type": "stream",
     "text": [
      "n_estimators = 100\n"
     ]
    },
    {
     "name": "stderr",
     "output_type": "stream",
     "text": [
      "/Users/thesard/anaconda3/lib/python3.7/site-packages/sklearn/ensemble/iforest.py:213: FutureWarning: default contamination parameter 0.1 will change in version 0.22 to \"auto\". This will change the predict method behavior.\n",
      "  FutureWarning)\n"
     ]
    },
    {
     "name": "stdout",
     "output_type": "stream",
     "text": [
      "n_estimators = 110\n"
     ]
    },
    {
     "name": "stderr",
     "output_type": "stream",
     "text": [
      "/Users/thesard/anaconda3/lib/python3.7/site-packages/sklearn/ensemble/iforest.py:213: FutureWarning: default contamination parameter 0.1 will change in version 0.22 to \"auto\". This will change the predict method behavior.\n",
      "  FutureWarning)\n"
     ]
    },
    {
     "name": "stdout",
     "output_type": "stream",
     "text": [
      "n_estimators = 120\n"
     ]
    },
    {
     "name": "stderr",
     "output_type": "stream",
     "text": [
      "/Users/thesard/anaconda3/lib/python3.7/site-packages/sklearn/ensemble/iforest.py:213: FutureWarning: default contamination parameter 0.1 will change in version 0.22 to \"auto\". This will change the predict method behavior.\n",
      "  FutureWarning)\n"
     ]
    },
    {
     "name": "stdout",
     "output_type": "stream",
     "text": [
      "n_estimators = 130\n"
     ]
    },
    {
     "name": "stderr",
     "output_type": "stream",
     "text": [
      "/Users/thesard/anaconda3/lib/python3.7/site-packages/sklearn/ensemble/iforest.py:213: FutureWarning: default contamination parameter 0.1 will change in version 0.22 to \"auto\". This will change the predict method behavior.\n",
      "  FutureWarning)\n"
     ]
    },
    {
     "name": "stdout",
     "output_type": "stream",
     "text": [
      "n_estimators = 140\n"
     ]
    },
    {
     "name": "stderr",
     "output_type": "stream",
     "text": [
      "/Users/thesard/anaconda3/lib/python3.7/site-packages/sklearn/ensemble/iforest.py:213: FutureWarning: default contamination parameter 0.1 will change in version 0.22 to \"auto\". This will change the predict method behavior.\n",
      "  FutureWarning)\n"
     ]
    },
    {
     "name": "stdout",
     "output_type": "stream",
     "text": [
      "n_estimators = 150\n"
     ]
    },
    {
     "name": "stderr",
     "output_type": "stream",
     "text": [
      "/Users/thesard/anaconda3/lib/python3.7/site-packages/sklearn/ensemble/iforest.py:213: FutureWarning: default contamination parameter 0.1 will change in version 0.22 to \"auto\". This will change the predict method behavior.\n",
      "  FutureWarning)\n"
     ]
    },
    {
     "name": "stdout",
     "output_type": "stream",
     "text": [
      "n_estimators = 160\n"
     ]
    },
    {
     "name": "stderr",
     "output_type": "stream",
     "text": [
      "/Users/thesard/anaconda3/lib/python3.7/site-packages/sklearn/ensemble/iforest.py:213: FutureWarning: default contamination parameter 0.1 will change in version 0.22 to \"auto\". This will change the predict method behavior.\n",
      "  FutureWarning)\n"
     ]
    },
    {
     "name": "stdout",
     "output_type": "stream",
     "text": [
      "n_estimators = 170\n"
     ]
    },
    {
     "name": "stderr",
     "output_type": "stream",
     "text": [
      "/Users/thesard/anaconda3/lib/python3.7/site-packages/sklearn/ensemble/iforest.py:213: FutureWarning: default contamination parameter 0.1 will change in version 0.22 to \"auto\". This will change the predict method behavior.\n",
      "  FutureWarning)\n"
     ]
    },
    {
     "name": "stdout",
     "output_type": "stream",
     "text": [
      "n_estimators = 180\n"
     ]
    },
    {
     "name": "stderr",
     "output_type": "stream",
     "text": [
      "/Users/thesard/anaconda3/lib/python3.7/site-packages/sklearn/ensemble/iforest.py:213: FutureWarning: default contamination parameter 0.1 will change in version 0.22 to \"auto\". This will change the predict method behavior.\n",
      "  FutureWarning)\n"
     ]
    },
    {
     "name": "stdout",
     "output_type": "stream",
     "text": [
      "n_estimators = 190\n"
     ]
    },
    {
     "name": "stderr",
     "output_type": "stream",
     "text": [
      "/Users/thesard/anaconda3/lib/python3.7/site-packages/sklearn/ensemble/iforest.py:213: FutureWarning: default contamination parameter 0.1 will change in version 0.22 to \"auto\". This will change the predict method behavior.\n",
      "  FutureWarning)\n"
     ]
    },
    {
     "name": "stdout",
     "output_type": "stream",
     "text": [
      "n_estimators = 200\n"
     ]
    },
    {
     "name": "stderr",
     "output_type": "stream",
     "text": [
      "/Users/thesard/anaconda3/lib/python3.7/site-packages/sklearn/ensemble/iforest.py:213: FutureWarning: default contamination parameter 0.1 will change in version 0.22 to \"auto\". This will change the predict method behavior.\n",
      "  FutureWarning)\n"
     ]
    },
    {
     "name": "stdout",
     "output_type": "stream",
     "text": [
      "n_estimators = 210\n"
     ]
    },
    {
     "name": "stderr",
     "output_type": "stream",
     "text": [
      "/Users/thesard/anaconda3/lib/python3.7/site-packages/sklearn/ensemble/iforest.py:213: FutureWarning: default contamination parameter 0.1 will change in version 0.22 to \"auto\". This will change the predict method behavior.\n",
      "  FutureWarning)\n"
     ]
    },
    {
     "name": "stdout",
     "output_type": "stream",
     "text": [
      "n_estimators = 220\n"
     ]
    },
    {
     "name": "stderr",
     "output_type": "stream",
     "text": [
      "/Users/thesard/anaconda3/lib/python3.7/site-packages/sklearn/ensemble/iforest.py:213: FutureWarning: default contamination parameter 0.1 will change in version 0.22 to \"auto\". This will change the predict method behavior.\n",
      "  FutureWarning)\n"
     ]
    },
    {
     "name": "stdout",
     "output_type": "stream",
     "text": [
      "n_estimators = 230\n"
     ]
    },
    {
     "name": "stderr",
     "output_type": "stream",
     "text": [
      "/Users/thesard/anaconda3/lib/python3.7/site-packages/sklearn/ensemble/iforest.py:213: FutureWarning: default contamination parameter 0.1 will change in version 0.22 to \"auto\". This will change the predict method behavior.\n",
      "  FutureWarning)\n"
     ]
    },
    {
     "name": "stdout",
     "output_type": "stream",
     "text": [
      "n_estimators = 240\n"
     ]
    },
    {
     "name": "stderr",
     "output_type": "stream",
     "text": [
      "/Users/thesard/anaconda3/lib/python3.7/site-packages/sklearn/ensemble/iforest.py:213: FutureWarning: default contamination parameter 0.1 will change in version 0.22 to \"auto\". This will change the predict method behavior.\n",
      "  FutureWarning)\n"
     ]
    },
    {
     "name": "stdout",
     "output_type": "stream",
     "text": [
      "n_estimators = 250\n"
     ]
    },
    {
     "name": "stderr",
     "output_type": "stream",
     "text": [
      "/Users/thesard/anaconda3/lib/python3.7/site-packages/sklearn/ensemble/iforest.py:213: FutureWarning: default contamination parameter 0.1 will change in version 0.22 to \"auto\". This will change the predict method behavior.\n",
      "  FutureWarning)\n"
     ]
    },
    {
     "name": "stdout",
     "output_type": "stream",
     "text": [
      "n_estimators = 260\n"
     ]
    },
    {
     "name": "stderr",
     "output_type": "stream",
     "text": [
      "/Users/thesard/anaconda3/lib/python3.7/site-packages/sklearn/ensemble/iforest.py:213: FutureWarning: default contamination parameter 0.1 will change in version 0.22 to \"auto\". This will change the predict method behavior.\n",
      "  FutureWarning)\n"
     ]
    },
    {
     "name": "stdout",
     "output_type": "stream",
     "text": [
      "n_estimators = 270\n"
     ]
    },
    {
     "name": "stderr",
     "output_type": "stream",
     "text": [
      "/Users/thesard/anaconda3/lib/python3.7/site-packages/sklearn/ensemble/iforest.py:213: FutureWarning: default contamination parameter 0.1 will change in version 0.22 to \"auto\". This will change the predict method behavior.\n",
      "  FutureWarning)\n"
     ]
    },
    {
     "name": "stdout",
     "output_type": "stream",
     "text": [
      "n_estimators = 280\n"
     ]
    },
    {
     "name": "stderr",
     "output_type": "stream",
     "text": [
      "/Users/thesard/anaconda3/lib/python3.7/site-packages/sklearn/ensemble/iforest.py:213: FutureWarning: default contamination parameter 0.1 will change in version 0.22 to \"auto\". This will change the predict method behavior.\n",
      "  FutureWarning)\n"
     ]
    },
    {
     "name": "stdout",
     "output_type": "stream",
     "text": [
      "n_estimators = 290\n"
     ]
    },
    {
     "name": "stderr",
     "output_type": "stream",
     "text": [
      "/Users/thesard/anaconda3/lib/python3.7/site-packages/sklearn/ensemble/iforest.py:213: FutureWarning: default contamination parameter 0.1 will change in version 0.22 to \"auto\". This will change the predict method behavior.\n",
      "  FutureWarning)\n"
     ]
    },
    {
     "name": "stdout",
     "output_type": "stream",
     "text": [
      "n_estimators = 300\n"
     ]
    },
    {
     "name": "stderr",
     "output_type": "stream",
     "text": [
      "/Users/thesard/anaconda3/lib/python3.7/site-packages/sklearn/ensemble/iforest.py:213: FutureWarning: default contamination parameter 0.1 will change in version 0.22 to \"auto\". This will change the predict method behavior.\n",
      "  FutureWarning)\n"
     ]
    },
    {
     "name": "stdout",
     "output_type": "stream",
     "text": [
      "n_estimators = 310\n"
     ]
    },
    {
     "name": "stderr",
     "output_type": "stream",
     "text": [
      "/Users/thesard/anaconda3/lib/python3.7/site-packages/sklearn/ensemble/iforest.py:213: FutureWarning: default contamination parameter 0.1 will change in version 0.22 to \"auto\". This will change the predict method behavior.\n",
      "  FutureWarning)\n"
     ]
    },
    {
     "name": "stdout",
     "output_type": "stream",
     "text": [
      "n_estimators = 320\n"
     ]
    },
    {
     "name": "stderr",
     "output_type": "stream",
     "text": [
      "/Users/thesard/anaconda3/lib/python3.7/site-packages/sklearn/ensemble/iforest.py:213: FutureWarning: default contamination parameter 0.1 will change in version 0.22 to \"auto\". This will change the predict method behavior.\n",
      "  FutureWarning)\n"
     ]
    },
    {
     "name": "stdout",
     "output_type": "stream",
     "text": [
      "n_estimators = 330\n"
     ]
    },
    {
     "name": "stderr",
     "output_type": "stream",
     "text": [
      "/Users/thesard/anaconda3/lib/python3.7/site-packages/sklearn/ensemble/iforest.py:213: FutureWarning: default contamination parameter 0.1 will change in version 0.22 to \"auto\". This will change the predict method behavior.\n",
      "  FutureWarning)\n"
     ]
    },
    {
     "name": "stdout",
     "output_type": "stream",
     "text": [
      "n_estimators = 340\n"
     ]
    },
    {
     "name": "stderr",
     "output_type": "stream",
     "text": [
      "/Users/thesard/anaconda3/lib/python3.7/site-packages/sklearn/ensemble/iforest.py:213: FutureWarning: default contamination parameter 0.1 will change in version 0.22 to \"auto\". This will change the predict method behavior.\n",
      "  FutureWarning)\n"
     ]
    },
    {
     "name": "stdout",
     "output_type": "stream",
     "text": [
      "n_estimators = 350\n"
     ]
    },
    {
     "name": "stderr",
     "output_type": "stream",
     "text": [
      "/Users/thesard/anaconda3/lib/python3.7/site-packages/sklearn/ensemble/iforest.py:213: FutureWarning: default contamination parameter 0.1 will change in version 0.22 to \"auto\". This will change the predict method behavior.\n",
      "  FutureWarning)\n"
     ]
    },
    {
     "name": "stdout",
     "output_type": "stream",
     "text": [
      "n_estimators = 360\n"
     ]
    },
    {
     "name": "stderr",
     "output_type": "stream",
     "text": [
      "/Users/thesard/anaconda3/lib/python3.7/site-packages/sklearn/ensemble/iforest.py:213: FutureWarning: default contamination parameter 0.1 will change in version 0.22 to \"auto\". This will change the predict method behavior.\n",
      "  FutureWarning)\n"
     ]
    },
    {
     "name": "stdout",
     "output_type": "stream",
     "text": [
      "n_estimators = 370\n"
     ]
    },
    {
     "name": "stderr",
     "output_type": "stream",
     "text": [
      "/Users/thesard/anaconda3/lib/python3.7/site-packages/sklearn/ensemble/iforest.py:213: FutureWarning: default contamination parameter 0.1 will change in version 0.22 to \"auto\". This will change the predict method behavior.\n",
      "  FutureWarning)\n"
     ]
    },
    {
     "name": "stdout",
     "output_type": "stream",
     "text": [
      "n_estimators = 380\n"
     ]
    },
    {
     "name": "stderr",
     "output_type": "stream",
     "text": [
      "/Users/thesard/anaconda3/lib/python3.7/site-packages/sklearn/ensemble/iforest.py:213: FutureWarning: default contamination parameter 0.1 will change in version 0.22 to \"auto\". This will change the predict method behavior.\n",
      "  FutureWarning)\n"
     ]
    },
    {
     "name": "stdout",
     "output_type": "stream",
     "text": [
      "n_estimators = 390\n"
     ]
    },
    {
     "name": "stderr",
     "output_type": "stream",
     "text": [
      "/Users/thesard/anaconda3/lib/python3.7/site-packages/sklearn/ensemble/iforest.py:213: FutureWarning: default contamination parameter 0.1 will change in version 0.22 to \"auto\". This will change the predict method behavior.\n",
      "  FutureWarning)\n"
     ]
    },
    {
     "name": "stdout",
     "output_type": "stream",
     "text": [
      "n_estimators = 400\n"
     ]
    },
    {
     "name": "stderr",
     "output_type": "stream",
     "text": [
      "/Users/thesard/anaconda3/lib/python3.7/site-packages/sklearn/ensemble/iforest.py:213: FutureWarning: default contamination parameter 0.1 will change in version 0.22 to \"auto\". This will change the predict method behavior.\n",
      "  FutureWarning)\n"
     ]
    },
    {
     "name": "stdout",
     "output_type": "stream",
     "text": [
      "n_estimators = 410\n"
     ]
    },
    {
     "name": "stderr",
     "output_type": "stream",
     "text": [
      "/Users/thesard/anaconda3/lib/python3.7/site-packages/sklearn/ensemble/iforest.py:213: FutureWarning: default contamination parameter 0.1 will change in version 0.22 to \"auto\". This will change the predict method behavior.\n",
      "  FutureWarning)\n"
     ]
    },
    {
     "name": "stdout",
     "output_type": "stream",
     "text": [
      "n_estimators = 420\n"
     ]
    },
    {
     "name": "stderr",
     "output_type": "stream",
     "text": [
      "/Users/thesard/anaconda3/lib/python3.7/site-packages/sklearn/ensemble/iforest.py:213: FutureWarning: default contamination parameter 0.1 will change in version 0.22 to \"auto\". This will change the predict method behavior.\n",
      "  FutureWarning)\n"
     ]
    },
    {
     "name": "stdout",
     "output_type": "stream",
     "text": [
      "n_estimators = 430\n"
     ]
    },
    {
     "name": "stderr",
     "output_type": "stream",
     "text": [
      "/Users/thesard/anaconda3/lib/python3.7/site-packages/sklearn/ensemble/iforest.py:213: FutureWarning: default contamination parameter 0.1 will change in version 0.22 to \"auto\". This will change the predict method behavior.\n",
      "  FutureWarning)\n"
     ]
    },
    {
     "name": "stdout",
     "output_type": "stream",
     "text": [
      "n_estimators = 440\n"
     ]
    },
    {
     "name": "stderr",
     "output_type": "stream",
     "text": [
      "/Users/thesard/anaconda3/lib/python3.7/site-packages/sklearn/ensemble/iforest.py:213: FutureWarning: default contamination parameter 0.1 will change in version 0.22 to \"auto\". This will change the predict method behavior.\n",
      "  FutureWarning)\n"
     ]
    },
    {
     "name": "stdout",
     "output_type": "stream",
     "text": [
      "n_estimators = 450\n"
     ]
    },
    {
     "name": "stderr",
     "output_type": "stream",
     "text": [
      "/Users/thesard/anaconda3/lib/python3.7/site-packages/sklearn/ensemble/iforest.py:213: FutureWarning: default contamination parameter 0.1 will change in version 0.22 to \"auto\". This will change the predict method behavior.\n",
      "  FutureWarning)\n"
     ]
    },
    {
     "name": "stdout",
     "output_type": "stream",
     "text": [
      "n_estimators = 460\n"
     ]
    },
    {
     "name": "stderr",
     "output_type": "stream",
     "text": [
      "/Users/thesard/anaconda3/lib/python3.7/site-packages/sklearn/ensemble/iforest.py:213: FutureWarning: default contamination parameter 0.1 will change in version 0.22 to \"auto\". This will change the predict method behavior.\n",
      "  FutureWarning)\n"
     ]
    },
    {
     "name": "stdout",
     "output_type": "stream",
     "text": [
      "n_estimators = 470\n"
     ]
    },
    {
     "name": "stderr",
     "output_type": "stream",
     "text": [
      "/Users/thesard/anaconda3/lib/python3.7/site-packages/sklearn/ensemble/iforest.py:213: FutureWarning: default contamination parameter 0.1 will change in version 0.22 to \"auto\". This will change the predict method behavior.\n",
      "  FutureWarning)\n"
     ]
    },
    {
     "name": "stdout",
     "output_type": "stream",
     "text": [
      "n_estimators = 480\n"
     ]
    },
    {
     "name": "stderr",
     "output_type": "stream",
     "text": [
      "/Users/thesard/anaconda3/lib/python3.7/site-packages/sklearn/ensemble/iforest.py:213: FutureWarning: default contamination parameter 0.1 will change in version 0.22 to \"auto\". This will change the predict method behavior.\n",
      "  FutureWarning)\n"
     ]
    },
    {
     "name": "stdout",
     "output_type": "stream",
     "text": [
      "n_estimators = 490\n"
     ]
    },
    {
     "name": "stderr",
     "output_type": "stream",
     "text": [
      "/Users/thesard/anaconda3/lib/python3.7/site-packages/sklearn/ensemble/iforest.py:213: FutureWarning: default contamination parameter 0.1 will change in version 0.22 to \"auto\". This will change the predict method behavior.\n",
      "  FutureWarning)\n"
     ]
    },
    {
     "name": "stdout",
     "output_type": "stream",
     "text": [
      "n_estimators = 500\n"
     ]
    },
    {
     "name": "stderr",
     "output_type": "stream",
     "text": [
      "/Users/thesard/anaconda3/lib/python3.7/site-packages/sklearn/ensemble/iforest.py:213: FutureWarning: default contamination parameter 0.1 will change in version 0.22 to \"auto\". This will change the predict method behavior.\n",
      "  FutureWarning)\n"
     ]
    },
    {
     "name": "stdout",
     "output_type": "stream",
     "text": [
      "n_estimators = 510\n"
     ]
    },
    {
     "name": "stderr",
     "output_type": "stream",
     "text": [
      "/Users/thesard/anaconda3/lib/python3.7/site-packages/sklearn/ensemble/iforest.py:213: FutureWarning: default contamination parameter 0.1 will change in version 0.22 to \"auto\". This will change the predict method behavior.\n",
      "  FutureWarning)\n"
     ]
    },
    {
     "name": "stdout",
     "output_type": "stream",
     "text": [
      "n_estimators = 520\n"
     ]
    },
    {
     "name": "stderr",
     "output_type": "stream",
     "text": [
      "/Users/thesard/anaconda3/lib/python3.7/site-packages/sklearn/ensemble/iforest.py:213: FutureWarning: default contamination parameter 0.1 will change in version 0.22 to \"auto\". This will change the predict method behavior.\n",
      "  FutureWarning)\n"
     ]
    },
    {
     "name": "stdout",
     "output_type": "stream",
     "text": [
      "n_estimators = 530\n"
     ]
    },
    {
     "name": "stderr",
     "output_type": "stream",
     "text": [
      "/Users/thesard/anaconda3/lib/python3.7/site-packages/sklearn/ensemble/iforest.py:213: FutureWarning: default contamination parameter 0.1 will change in version 0.22 to \"auto\". This will change the predict method behavior.\n",
      "  FutureWarning)\n"
     ]
    },
    {
     "name": "stdout",
     "output_type": "stream",
     "text": [
      "n_estimators = 540\n"
     ]
    },
    {
     "name": "stderr",
     "output_type": "stream",
     "text": [
      "/Users/thesard/anaconda3/lib/python3.7/site-packages/sklearn/ensemble/iforest.py:213: FutureWarning: default contamination parameter 0.1 will change in version 0.22 to \"auto\". This will change the predict method behavior.\n",
      "  FutureWarning)\n"
     ]
    },
    {
     "name": "stdout",
     "output_type": "stream",
     "text": [
      "n_estimators = 550\n"
     ]
    },
    {
     "name": "stderr",
     "output_type": "stream",
     "text": [
      "/Users/thesard/anaconda3/lib/python3.7/site-packages/sklearn/ensemble/iforest.py:213: FutureWarning: default contamination parameter 0.1 will change in version 0.22 to \"auto\". This will change the predict method behavior.\n",
      "  FutureWarning)\n"
     ]
    },
    {
     "name": "stdout",
     "output_type": "stream",
     "text": [
      "n_estimators = 560\n"
     ]
    },
    {
     "name": "stderr",
     "output_type": "stream",
     "text": [
      "/Users/thesard/anaconda3/lib/python3.7/site-packages/sklearn/ensemble/iforest.py:213: FutureWarning: default contamination parameter 0.1 will change in version 0.22 to \"auto\". This will change the predict method behavior.\n",
      "  FutureWarning)\n"
     ]
    },
    {
     "name": "stdout",
     "output_type": "stream",
     "text": [
      "n_estimators = 570\n"
     ]
    },
    {
     "name": "stderr",
     "output_type": "stream",
     "text": [
      "/Users/thesard/anaconda3/lib/python3.7/site-packages/sklearn/ensemble/iforest.py:213: FutureWarning: default contamination parameter 0.1 will change in version 0.22 to \"auto\". This will change the predict method behavior.\n",
      "  FutureWarning)\n"
     ]
    },
    {
     "name": "stdout",
     "output_type": "stream",
     "text": [
      "n_estimators = 580\n"
     ]
    },
    {
     "name": "stderr",
     "output_type": "stream",
     "text": [
      "/Users/thesard/anaconda3/lib/python3.7/site-packages/sklearn/ensemble/iforest.py:213: FutureWarning: default contamination parameter 0.1 will change in version 0.22 to \"auto\". This will change the predict method behavior.\n",
      "  FutureWarning)\n"
     ]
    },
    {
     "name": "stdout",
     "output_type": "stream",
     "text": [
      "n_estimators = 590\n"
     ]
    },
    {
     "name": "stderr",
     "output_type": "stream",
     "text": [
      "/Users/thesard/anaconda3/lib/python3.7/site-packages/sklearn/ensemble/iforest.py:213: FutureWarning: default contamination parameter 0.1 will change in version 0.22 to \"auto\". This will change the predict method behavior.\n",
      "  FutureWarning)\n"
     ]
    },
    {
     "name": "stdout",
     "output_type": "stream",
     "text": [
      "n_estimators = 600\n"
     ]
    },
    {
     "name": "stderr",
     "output_type": "stream",
     "text": [
      "/Users/thesard/anaconda3/lib/python3.7/site-packages/sklearn/ensemble/iforest.py:213: FutureWarning: default contamination parameter 0.1 will change in version 0.22 to \"auto\". This will change the predict method behavior.\n",
      "  FutureWarning)\n"
     ]
    },
    {
     "name": "stdout",
     "output_type": "stream",
     "text": [
      "n_estimators = 610\n"
     ]
    },
    {
     "name": "stderr",
     "output_type": "stream",
     "text": [
      "/Users/thesard/anaconda3/lib/python3.7/site-packages/sklearn/ensemble/iforest.py:213: FutureWarning: default contamination parameter 0.1 will change in version 0.22 to \"auto\". This will change the predict method behavior.\n",
      "  FutureWarning)\n"
     ]
    },
    {
     "name": "stdout",
     "output_type": "stream",
     "text": [
      "n_estimators = 620\n"
     ]
    },
    {
     "name": "stderr",
     "output_type": "stream",
     "text": [
      "/Users/thesard/anaconda3/lib/python3.7/site-packages/sklearn/ensemble/iforest.py:213: FutureWarning: default contamination parameter 0.1 will change in version 0.22 to \"auto\". This will change the predict method behavior.\n",
      "  FutureWarning)\n"
     ]
    },
    {
     "name": "stdout",
     "output_type": "stream",
     "text": [
      "n_estimators = 630\n"
     ]
    },
    {
     "name": "stderr",
     "output_type": "stream",
     "text": [
      "/Users/thesard/anaconda3/lib/python3.7/site-packages/sklearn/ensemble/iforest.py:213: FutureWarning: default contamination parameter 0.1 will change in version 0.22 to \"auto\". This will change the predict method behavior.\n",
      "  FutureWarning)\n"
     ]
    },
    {
     "name": "stdout",
     "output_type": "stream",
     "text": [
      "n_estimators = 640\n"
     ]
    },
    {
     "name": "stderr",
     "output_type": "stream",
     "text": [
      "/Users/thesard/anaconda3/lib/python3.7/site-packages/sklearn/ensemble/iforest.py:213: FutureWarning: default contamination parameter 0.1 will change in version 0.22 to \"auto\". This will change the predict method behavior.\n",
      "  FutureWarning)\n"
     ]
    },
    {
     "name": "stdout",
     "output_type": "stream",
     "text": [
      "n_estimators = 650\n"
     ]
    },
    {
     "name": "stderr",
     "output_type": "stream",
     "text": [
      "/Users/thesard/anaconda3/lib/python3.7/site-packages/sklearn/ensemble/iforest.py:213: FutureWarning: default contamination parameter 0.1 will change in version 0.22 to \"auto\". This will change the predict method behavior.\n",
      "  FutureWarning)\n"
     ]
    },
    {
     "name": "stdout",
     "output_type": "stream",
     "text": [
      "n_estimators = 660\n"
     ]
    },
    {
     "name": "stderr",
     "output_type": "stream",
     "text": [
      "/Users/thesard/anaconda3/lib/python3.7/site-packages/sklearn/ensemble/iforest.py:213: FutureWarning: default contamination parameter 0.1 will change in version 0.22 to \"auto\". This will change the predict method behavior.\n",
      "  FutureWarning)\n"
     ]
    },
    {
     "name": "stdout",
     "output_type": "stream",
     "text": [
      "n_estimators = 670\n"
     ]
    },
    {
     "name": "stderr",
     "output_type": "stream",
     "text": [
      "/Users/thesard/anaconda3/lib/python3.7/site-packages/sklearn/ensemble/iforest.py:213: FutureWarning: default contamination parameter 0.1 will change in version 0.22 to \"auto\". This will change the predict method behavior.\n",
      "  FutureWarning)\n"
     ]
    },
    {
     "name": "stdout",
     "output_type": "stream",
     "text": [
      "n_estimators = 680\n"
     ]
    },
    {
     "name": "stderr",
     "output_type": "stream",
     "text": [
      "/Users/thesard/anaconda3/lib/python3.7/site-packages/sklearn/ensemble/iforest.py:213: FutureWarning: default contamination parameter 0.1 will change in version 0.22 to \"auto\". This will change the predict method behavior.\n",
      "  FutureWarning)\n"
     ]
    },
    {
     "name": "stdout",
     "output_type": "stream",
     "text": [
      "n_estimators = 690\n"
     ]
    },
    {
     "name": "stderr",
     "output_type": "stream",
     "text": [
      "/Users/thesard/anaconda3/lib/python3.7/site-packages/sklearn/ensemble/iforest.py:213: FutureWarning: default contamination parameter 0.1 will change in version 0.22 to \"auto\". This will change the predict method behavior.\n",
      "  FutureWarning)\n"
     ]
    },
    {
     "name": "stdout",
     "output_type": "stream",
     "text": [
      "n_estimators = 700\n"
     ]
    },
    {
     "name": "stderr",
     "output_type": "stream",
     "text": [
      "/Users/thesard/anaconda3/lib/python3.7/site-packages/sklearn/ensemble/iforest.py:213: FutureWarning: default contamination parameter 0.1 will change in version 0.22 to \"auto\". This will change the predict method behavior.\n",
      "  FutureWarning)\n"
     ]
    },
    {
     "name": "stdout",
     "output_type": "stream",
     "text": [
      "n_estimators = 710\n"
     ]
    },
    {
     "name": "stderr",
     "output_type": "stream",
     "text": [
      "/Users/thesard/anaconda3/lib/python3.7/site-packages/sklearn/ensemble/iforest.py:213: FutureWarning: default contamination parameter 0.1 will change in version 0.22 to \"auto\". This will change the predict method behavior.\n",
      "  FutureWarning)\n"
     ]
    },
    {
     "name": "stdout",
     "output_type": "stream",
     "text": [
      "n_estimators = 720\n"
     ]
    },
    {
     "name": "stderr",
     "output_type": "stream",
     "text": [
      "/Users/thesard/anaconda3/lib/python3.7/site-packages/sklearn/ensemble/iforest.py:213: FutureWarning: default contamination parameter 0.1 will change in version 0.22 to \"auto\". This will change the predict method behavior.\n",
      "  FutureWarning)\n"
     ]
    },
    {
     "name": "stdout",
     "output_type": "stream",
     "text": [
      "n_estimators = 730\n"
     ]
    },
    {
     "name": "stderr",
     "output_type": "stream",
     "text": [
      "/Users/thesard/anaconda3/lib/python3.7/site-packages/sklearn/ensemble/iforest.py:213: FutureWarning: default contamination parameter 0.1 will change in version 0.22 to \"auto\". This will change the predict method behavior.\n",
      "  FutureWarning)\n"
     ]
    },
    {
     "name": "stdout",
     "output_type": "stream",
     "text": [
      "n_estimators = 740\n"
     ]
    },
    {
     "name": "stderr",
     "output_type": "stream",
     "text": [
      "/Users/thesard/anaconda3/lib/python3.7/site-packages/sklearn/ensemble/iforest.py:213: FutureWarning: default contamination parameter 0.1 will change in version 0.22 to \"auto\". This will change the predict method behavior.\n",
      "  FutureWarning)\n"
     ]
    },
    {
     "name": "stdout",
     "output_type": "stream",
     "text": [
      "n_estimators = 750\n"
     ]
    },
    {
     "name": "stderr",
     "output_type": "stream",
     "text": [
      "/Users/thesard/anaconda3/lib/python3.7/site-packages/sklearn/ensemble/iforest.py:213: FutureWarning: default contamination parameter 0.1 will change in version 0.22 to \"auto\". This will change the predict method behavior.\n",
      "  FutureWarning)\n"
     ]
    },
    {
     "name": "stdout",
     "output_type": "stream",
     "text": [
      "n_estimators = 760\n"
     ]
    },
    {
     "name": "stderr",
     "output_type": "stream",
     "text": [
      "/Users/thesard/anaconda3/lib/python3.7/site-packages/sklearn/ensemble/iforest.py:213: FutureWarning: default contamination parameter 0.1 will change in version 0.22 to \"auto\". This will change the predict method behavior.\n",
      "  FutureWarning)\n"
     ]
    },
    {
     "name": "stdout",
     "output_type": "stream",
     "text": [
      "n_estimators = 770\n"
     ]
    },
    {
     "name": "stderr",
     "output_type": "stream",
     "text": [
      "/Users/thesard/anaconda3/lib/python3.7/site-packages/sklearn/ensemble/iforest.py:213: FutureWarning: default contamination parameter 0.1 will change in version 0.22 to \"auto\". This will change the predict method behavior.\n",
      "  FutureWarning)\n"
     ]
    },
    {
     "name": "stdout",
     "output_type": "stream",
     "text": [
      "n_estimators = 780\n"
     ]
    },
    {
     "name": "stderr",
     "output_type": "stream",
     "text": [
      "/Users/thesard/anaconda3/lib/python3.7/site-packages/sklearn/ensemble/iforest.py:213: FutureWarning: default contamination parameter 0.1 will change in version 0.22 to \"auto\". This will change the predict method behavior.\n",
      "  FutureWarning)\n"
     ]
    },
    {
     "name": "stdout",
     "output_type": "stream",
     "text": [
      "n_estimators = 790\n"
     ]
    },
    {
     "name": "stderr",
     "output_type": "stream",
     "text": [
      "/Users/thesard/anaconda3/lib/python3.7/site-packages/sklearn/ensemble/iforest.py:213: FutureWarning: default contamination parameter 0.1 will change in version 0.22 to \"auto\". This will change the predict method behavior.\n",
      "  FutureWarning)\n"
     ]
    },
    {
     "name": "stdout",
     "output_type": "stream",
     "text": [
      "n_estimators = 800\n"
     ]
    },
    {
     "name": "stderr",
     "output_type": "stream",
     "text": [
      "/Users/thesard/anaconda3/lib/python3.7/site-packages/sklearn/ensemble/iforest.py:213: FutureWarning: default contamination parameter 0.1 will change in version 0.22 to \"auto\". This will change the predict method behavior.\n",
      "  FutureWarning)\n"
     ]
    },
    {
     "name": "stdout",
     "output_type": "stream",
     "text": [
      "n_estimators = 810\n"
     ]
    },
    {
     "name": "stderr",
     "output_type": "stream",
     "text": [
      "/Users/thesard/anaconda3/lib/python3.7/site-packages/sklearn/ensemble/iforest.py:213: FutureWarning: default contamination parameter 0.1 will change in version 0.22 to \"auto\". This will change the predict method behavior.\n",
      "  FutureWarning)\n"
     ]
    },
    {
     "name": "stdout",
     "output_type": "stream",
     "text": [
      "n_estimators = 820\n"
     ]
    },
    {
     "name": "stderr",
     "output_type": "stream",
     "text": [
      "/Users/thesard/anaconda3/lib/python3.7/site-packages/sklearn/ensemble/iforest.py:213: FutureWarning: default contamination parameter 0.1 will change in version 0.22 to \"auto\". This will change the predict method behavior.\n",
      "  FutureWarning)\n"
     ]
    },
    {
     "name": "stdout",
     "output_type": "stream",
     "text": [
      "n_estimators = 830\n"
     ]
    },
    {
     "name": "stderr",
     "output_type": "stream",
     "text": [
      "/Users/thesard/anaconda3/lib/python3.7/site-packages/sklearn/ensemble/iforest.py:213: FutureWarning: default contamination parameter 0.1 will change in version 0.22 to \"auto\". This will change the predict method behavior.\n",
      "  FutureWarning)\n"
     ]
    },
    {
     "name": "stdout",
     "output_type": "stream",
     "text": [
      "n_estimators = 840\n"
     ]
    },
    {
     "name": "stderr",
     "output_type": "stream",
     "text": [
      "/Users/thesard/anaconda3/lib/python3.7/site-packages/sklearn/ensemble/iforest.py:213: FutureWarning: default contamination parameter 0.1 will change in version 0.22 to \"auto\". This will change the predict method behavior.\n",
      "  FutureWarning)\n"
     ]
    },
    {
     "name": "stdout",
     "output_type": "stream",
     "text": [
      "n_estimators = 850\n"
     ]
    },
    {
     "name": "stderr",
     "output_type": "stream",
     "text": [
      "/Users/thesard/anaconda3/lib/python3.7/site-packages/sklearn/ensemble/iforest.py:213: FutureWarning: default contamination parameter 0.1 will change in version 0.22 to \"auto\". This will change the predict method behavior.\n",
      "  FutureWarning)\n"
     ]
    },
    {
     "name": "stdout",
     "output_type": "stream",
     "text": [
      "n_estimators = 860\n"
     ]
    },
    {
     "name": "stderr",
     "output_type": "stream",
     "text": [
      "/Users/thesard/anaconda3/lib/python3.7/site-packages/sklearn/ensemble/iforest.py:213: FutureWarning: default contamination parameter 0.1 will change in version 0.22 to \"auto\". This will change the predict method behavior.\n",
      "  FutureWarning)\n"
     ]
    },
    {
     "name": "stdout",
     "output_type": "stream",
     "text": [
      "n_estimators = 870\n"
     ]
    },
    {
     "name": "stderr",
     "output_type": "stream",
     "text": [
      "/Users/thesard/anaconda3/lib/python3.7/site-packages/sklearn/ensemble/iforest.py:213: FutureWarning: default contamination parameter 0.1 will change in version 0.22 to \"auto\". This will change the predict method behavior.\n",
      "  FutureWarning)\n"
     ]
    },
    {
     "name": "stdout",
     "output_type": "stream",
     "text": [
      "n_estimators = 880\n"
     ]
    },
    {
     "name": "stderr",
     "output_type": "stream",
     "text": [
      "/Users/thesard/anaconda3/lib/python3.7/site-packages/sklearn/ensemble/iforest.py:213: FutureWarning: default contamination parameter 0.1 will change in version 0.22 to \"auto\". This will change the predict method behavior.\n",
      "  FutureWarning)\n"
     ]
    },
    {
     "name": "stdout",
     "output_type": "stream",
     "text": [
      "n_estimators = 890\n"
     ]
    },
    {
     "name": "stderr",
     "output_type": "stream",
     "text": [
      "/Users/thesard/anaconda3/lib/python3.7/site-packages/sklearn/ensemble/iforest.py:213: FutureWarning: default contamination parameter 0.1 will change in version 0.22 to \"auto\". This will change the predict method behavior.\n",
      "  FutureWarning)\n"
     ]
    },
    {
     "name": "stdout",
     "output_type": "stream",
     "text": [
      "n_estimators = 900\n"
     ]
    },
    {
     "name": "stderr",
     "output_type": "stream",
     "text": [
      "/Users/thesard/anaconda3/lib/python3.7/site-packages/sklearn/ensemble/iforest.py:213: FutureWarning: default contamination parameter 0.1 will change in version 0.22 to \"auto\". This will change the predict method behavior.\n",
      "  FutureWarning)\n"
     ]
    },
    {
     "name": "stdout",
     "output_type": "stream",
     "text": [
      "n_estimators = 910\n"
     ]
    },
    {
     "name": "stderr",
     "output_type": "stream",
     "text": [
      "/Users/thesard/anaconda3/lib/python3.7/site-packages/sklearn/ensemble/iforest.py:213: FutureWarning: default contamination parameter 0.1 will change in version 0.22 to \"auto\". This will change the predict method behavior.\n",
      "  FutureWarning)\n"
     ]
    },
    {
     "name": "stdout",
     "output_type": "stream",
     "text": [
      "n_estimators = 920\n"
     ]
    },
    {
     "name": "stderr",
     "output_type": "stream",
     "text": [
      "/Users/thesard/anaconda3/lib/python3.7/site-packages/sklearn/ensemble/iforest.py:213: FutureWarning: default contamination parameter 0.1 will change in version 0.22 to \"auto\". This will change the predict method behavior.\n",
      "  FutureWarning)\n"
     ]
    },
    {
     "name": "stdout",
     "output_type": "stream",
     "text": [
      "n_estimators = 930\n"
     ]
    },
    {
     "name": "stderr",
     "output_type": "stream",
     "text": [
      "/Users/thesard/anaconda3/lib/python3.7/site-packages/sklearn/ensemble/iforest.py:213: FutureWarning: default contamination parameter 0.1 will change in version 0.22 to \"auto\". This will change the predict method behavior.\n",
      "  FutureWarning)\n"
     ]
    },
    {
     "name": "stdout",
     "output_type": "stream",
     "text": [
      "n_estimators = 940\n"
     ]
    },
    {
     "name": "stderr",
     "output_type": "stream",
     "text": [
      "/Users/thesard/anaconda3/lib/python3.7/site-packages/sklearn/ensemble/iforest.py:213: FutureWarning: default contamination parameter 0.1 will change in version 0.22 to \"auto\". This will change the predict method behavior.\n",
      "  FutureWarning)\n"
     ]
    },
    {
     "name": "stdout",
     "output_type": "stream",
     "text": [
      "n_estimators = 950\n"
     ]
    },
    {
     "name": "stderr",
     "output_type": "stream",
     "text": [
      "/Users/thesard/anaconda3/lib/python3.7/site-packages/sklearn/ensemble/iforest.py:213: FutureWarning: default contamination parameter 0.1 will change in version 0.22 to \"auto\". This will change the predict method behavior.\n",
      "  FutureWarning)\n"
     ]
    },
    {
     "name": "stdout",
     "output_type": "stream",
     "text": [
      "n_estimators = 960\n"
     ]
    },
    {
     "name": "stderr",
     "output_type": "stream",
     "text": [
      "/Users/thesard/anaconda3/lib/python3.7/site-packages/sklearn/ensemble/iforest.py:213: FutureWarning: default contamination parameter 0.1 will change in version 0.22 to \"auto\". This will change the predict method behavior.\n",
      "  FutureWarning)\n"
     ]
    },
    {
     "name": "stdout",
     "output_type": "stream",
     "text": [
      "n_estimators = 970\n"
     ]
    },
    {
     "name": "stderr",
     "output_type": "stream",
     "text": [
      "/Users/thesard/anaconda3/lib/python3.7/site-packages/sklearn/ensemble/iforest.py:213: FutureWarning: default contamination parameter 0.1 will change in version 0.22 to \"auto\". This will change the predict method behavior.\n",
      "  FutureWarning)\n"
     ]
    },
    {
     "name": "stdout",
     "output_type": "stream",
     "text": [
      "n_estimators = 980\n"
     ]
    },
    {
     "name": "stderr",
     "output_type": "stream",
     "text": [
      "/Users/thesard/anaconda3/lib/python3.7/site-packages/sklearn/ensemble/iforest.py:213: FutureWarning: default contamination parameter 0.1 will change in version 0.22 to \"auto\". This will change the predict method behavior.\n",
      "  FutureWarning)\n"
     ]
    },
    {
     "name": "stdout",
     "output_type": "stream",
     "text": [
      "n_estimators = 990\n"
     ]
    },
    {
     "name": "stderr",
     "output_type": "stream",
     "text": [
      "/Users/thesard/anaconda3/lib/python3.7/site-packages/sklearn/ensemble/iforest.py:213: FutureWarning: default contamination parameter 0.1 will change in version 0.22 to \"auto\". This will change the predict method behavior.\n",
      "  FutureWarning)\n"
     ]
    }
   ],
   "source": [
    "executions_time_IF_Shuttle = []\n",
    "roc_auc_IF_Shuttle = []\n",
    "precisions_IF_Shuttle = []\n",
    "recalls_IF_Shuttle = []\n",
    "f1_scores_IF_Shuttle = []\n",
    "tn_IF_Shuttle = []\n",
    "fp_IF_Shuttle = []\n",
    "fn_IF_Shuttle = []\n",
    "tp_IF_Shuttle = []\n",
    "specificity_IF_Shuttle = []\n",
    "n_estimators_IF_Shuttle = []\n",
    "\n",
    "for j in range(10, 1000, 10):\n",
    "    print(\"n_estimators = \"+str(j))\n",
    "    n_estimators = j\n",
    "    n_estimators_IF_Shuttle.append(j)\n",
    "    start_IF_Shuttle = time()\n",
    "        \n",
    "    # Instanciation, fit and predict on Shuttle\n",
    "    func_IF_Shuttle = IsolationForest(n_estimators=n_estimators, behaviour=\"new\")\n",
    "    func_IF_Shuttle.fit(X_Shuttle)\n",
    "    y_pred_IF_Shuttle = func_IF_Shuttle.predict(X_Shuttle)\n",
    "\n",
    "    # Calcul du temps d'exécution\n",
    "    exec_time_IF_Shuttle = time() - start_IF_Shuttle\n",
    "    executions_time_IF_Shuttle.append(exec_time_IF_Shuttle)\n",
    "    \n",
    "    # Precision\n",
    "    precisions_IF_Shuttle.append(precision_score(y_transform_Shuttle, y_pred_IF_Shuttle))\n",
    "    \n",
    "    # Recall\n",
    "    recalls_IF_Shuttle.append(recall_score(y_transform_Shuttle, y_pred_IF_Shuttle))\n",
    "    \n",
    "    # f1_score\n",
    "    f1_scores_IF_Shuttle.append(f1_score(y_transform_Shuttle, y_pred_IF_Shuttle))\n",
    "    \n",
    "    # Specificity\n",
    "    specificity_IF_Shuttle.append(specificity_score(y_transform_Shuttle, y_pred_IF_Shuttle))\n",
    "    \n",
    "    # Matrice de confusion\n",
    "    ttn, tfp, tfn, ttp = confusion_matrix(y_transform_Shuttle, y_pred_IF_Shuttle).ravel()\n",
    "    tn = ttp\n",
    "    fp = tfn\n",
    "    fn = tfp\n",
    "    tp = ttn\n",
    "    tn_IF_Shuttle.append(tn)\n",
    "    fp_IF_Shuttle.append(fp)\n",
    "    fn_IF_Shuttle.append(fn)\n",
    "    tp_IF_Shuttle.append(tp)\n",
    "    \n",
    "    # Calcul de l'aire sous la courbe ROC\n",
    "    y_DF_IF_Shuttle = func_IF_Shuttle.decision_function(X_Shuttle)\n",
    "    auc_IF_Shuttle = roc_auc_score(y_transform_Shuttle, y_DF_IF_Shuttle)\n",
    "    roc_auc_IF_Shuttle.append(auc_IF_Shuttle)\n",
    "        \n",
    "    #print(\"Execution time of IsolationForest applied on Shuttle (in second)\")\n",
    "    #print(executions_time_IF_Shuttle)\n",
    "    #print(\"ROC AUC for Isolation Forest applied on Shuttle\")\n",
    "    #print(roc_auc_IF_Shuttle)"
   ]
  },
  {
   "cell_type": "markdown",
   "metadata": {},
   "source": [
    "### Résultat de Isolation Forest sur Shuttle"
   ]
  },
  {
   "cell_type": "code",
   "execution_count": 17,
   "metadata": {},
   "outputs": [
    {
     "data": {
      "image/png": "[encoded data removed]",
      "text/plain": [
       "<Figure size 432x288 with 1 Axes>"
      ]
     },
     "metadata": {
      "needs_background": "light"
     },
     "output_type": "display_data"
    }
   ],
   "source": [
    "plt.plot(range(10, 1000, 10), executions_time_IF_Shuttle,  \"g-\", marker='.', markerfacecolor='blue', markersize=8, color='skyblue')\n",
    "plt.xlabel('n_estimators')\n",
    "plt.ylabel('CPU Time')\n",
    "#plt.title(\"Execution time of IsolationForest applied on Shuttle (in second)\")\n",
    "plt.legend(loc=\"best\")\n",
    "plt.savefig('nestimators_cputime.png')\n",
    "plt.show()"
   ]
  },
  {
   "cell_type": "code",
   "execution_count": 18,
   "metadata": {},
   "outputs": [
    {
     "data": {
      "image/png": "[encoded data removed]",
      "text/plain": [
       "<Figure size 432x288 with 1 Axes>"
      ]
     },
     "metadata": {
      "needs_background": "light"
     },
     "output_type": "display_data"
    }
   ],
   "source": [
    "plt.plot(range(10, 1000, 10), roc_auc_IF_Shuttle,  \"g-\", marker='.', markerfacecolor='blue', markersize=6, color='skyblue')\n",
    "plt.xlabel('n_estimators')\n",
    "plt.ylabel('ROC AUC')\n",
    "#plt.title(\"ROC AUC for Isolation Forest applied on Shuttle\")\n",
    "plt.legend(loc=\"best\")\n",
    "plt.savefig('nestimators_rocauc.png')\n",
    "plt.show()"
   ]
  },
  {
   "cell_type": "code",
   "execution_count": 13,
   "metadata": {},
   "outputs": [
    {
     "name": "stdout",
     "output_type": "stream",
     "text": [
      "La meilleure est 0.998458894235502 pour un temps d'exécution de 8.09360408782959s obtenue avec un n_estimators de 180 donnant un rappel de 0.917189488000702 et une spécificité de 0.9931662870159453\n"
     ]
    }
   ],
   "source": [
    "index = roc_auc_IF_Shuttle.index(max(roc_auc_IF_Shuttle))\n",
    "print(\"La meilleure est \"+str(max(roc_auc_IF_Shuttle))+\" pour un temps d'exécution de \"+str(executions_time_IF_Shuttle[index])+\"s obtenue avec un n_estimators de \"+str(n_estimators_IF_Shuttle[index])+\" donnant un rappel de \"+str(recalls_IF_Shuttle[index])+\" et une spécificité de \"+str(specificity_IF_Shuttle[index]))\n"
   ]
  },
  {
   "cell_type": "code",
   "execution_count": 14,
   "metadata": {
    "scrolled": true
   },
   "outputs": [
    {
     "data": {
      "image/png": "[encoded data removed]",
      "text/plain": [
       "<Figure size 432x288 with 1 Axes>"
      ]
     },
     "metadata": {
      "needs_background": "light"
     },
     "output_type": "display_data"
    }
   ],
   "source": [
    "# Evolution de spécificité et rappel\n",
    "plt.plot(n_estimators_IF_Shuttle, recalls_IF_Shuttle, \"g-\", marker='.', markerfacecolor='green', markersize=6, color='skygreen')\n",
    "#plt.axis([0, 1, 0, 1])\n",
    "plt.xlabel('n_estimators')\n",
    "plt.ylabel('Recall')\n",
    "plt.legend(loc=\"best\")\n",
    "plt.savefig('nestimators_recall.png')\n",
    "plt.show()"
   ]
  },
  {
   "cell_type": "code",
   "execution_count": 14,
   "metadata": {
    "scrolled": true
   },
   "outputs": [
    {
     "data": {
      "image/png": "[encoded data removed]",
      "text/plain": [
       "<Figure size 432x288 with 1 Axes>"
      ]
     },
     "metadata": {
      "needs_background": "light"
     },
     "output_type": "display_data"
    }
   ],
   "source": [
    "# Evolution de spécificité et rappel\n",
    "plt.plot(n_estimators_IF_Shuttle, specificity_IF_Shuttle, \"b-\", marker='.', markerfacecolor='blue', markersize=6, color='skyblue')\n",
    "#plt.title(\"Courbe Spécificité_Rappel\")\n",
    "#plt.axis([0, 1, 0, 1])\n",
    "plt.xlabel('n_estimators')\n",
    "plt.ylabel('Specificity')\n",
    "plt.legend(loc=\"best\")\n",
    "plt.savefig('nestimators_specificity.png')\n",
    "plt.show()"
   ]
  },
  {
   "cell_type": "code",
   "execution_count": 16,
   "metadata": {
    "scrolled": true
   },
   "outputs": [
    {
     "data": {
      "image/png": "[encoded data removed]",
      "text/plain": [
       "<Figure size 432x288 with 2 Axes>"
      ]
     },
     "metadata": {
      "needs_background": "light"
     },
     "output_type": "display_data"
    }
   ],
   "source": [
    "plt.scatter(specificity_IF_Shuttle,recalls_IF_Shuttle, c=n_estimators_IF_Shuttle, cmap=cm.hsv)\n",
    "cbar= plt.colorbar()\n",
    "plt.show()"
   ]
  },
  {
   "cell_type": "code",
   "execution_count": 16,
   "metadata": {
    "scrolled": true
   },
   "outputs": [
    {
     "data": {
      "image/png": "[encoded data removed]",
      "text/plain": [
       "<Figure size 432x288 with 2 Axes>"
      ]
     },
     "metadata": {
      "needs_background": "light"
     },
     "output_type": "display_data"
    }
   ],
   "source": [
    "plt.scatter(specificity_IF_Shuttle,recalls_IF_Shuttle, c=roc_auc_IF_Shuttle, cmap=cm.hsv)\n",
    "cbar= plt.colorbar()\n",
    "plt.show()"
   ]
  },
  {
   "cell_type": "markdown",
   "metadata": {},
   "source": [
    "### Résultat\n",
    "###### Faisant varier n_estimators et max_samples = 256, contamination = 0,1\n",
    "L'augmentation du nombre d'arbres augmente le temps d'exécution. L'écart est léger \n",
    "la AUC est aléatoire avec quelques pics. \n",
    "Quelque soit le nombre d'estimateur, la AUC > 0,99\n",
    "\n",
    "Meilleure estimation :\n",
    "    La meilleure est 0.998458894235502 pour un temps d'exécution de 8.09360408782959s obtenue avec un n_estimators de 180 donnant un rappel de 0.917189488000702 et une spécificité de 0.9931662870159453\n",
    "\n",
    "Le nombre d'estimateur a une influence sur la performance de IForest pouvant l'améliorer comme la détérioré. Cela s'explique par le caractère aléatoire de la construction de l'arbre."
   ]
  },
  {
   "cell_type": "markdown",
   "metadata": {},
   "source": [
    "### Exécution de Isolation Forest sur le jeux de données Shuttle en faisant varier max_samples"
   ]
  },
  {
   "cell_type": "code",
   "execution_count": 17,
   "metadata": {},
   "outputs": [
    {
     "name": "stdout",
     "output_type": "stream",
     "text": [
      "max_samples = 100\n"
     ]
    },
    {
     "name": "stderr",
     "output_type": "stream",
     "text": [
      "/Users/thesard/anaconda3/lib/python3.7/site-packages/sklearn/ensemble/iforest.py:213: FutureWarning: default contamination parameter 0.1 will change in version 0.22 to \"auto\". This will change the predict method behavior.\n",
      "  FutureWarning)\n"
     ]
    },
    {
     "name": "stdout",
     "output_type": "stream",
     "text": [
      "max_samples = 1100\n"
     ]
    },
    {
     "name": "stderr",
     "output_type": "stream",
     "text": [
      "/Users/thesard/anaconda3/lib/python3.7/site-packages/sklearn/ensemble/iforest.py:213: FutureWarning: default contamination parameter 0.1 will change in version 0.22 to \"auto\". This will change the predict method behavior.\n",
      "  FutureWarning)\n"
     ]
    },
    {
     "name": "stdout",
     "output_type": "stream",
     "text": [
      "max_samples = 2100\n"
     ]
    },
    {
     "name": "stderr",
     "output_type": "stream",
     "text": [
      "/Users/thesard/anaconda3/lib/python3.7/site-packages/sklearn/ensemble/iforest.py:213: FutureWarning: default contamination parameter 0.1 will change in version 0.22 to \"auto\". This will change the predict method behavior.\n",
      "  FutureWarning)\n"
     ]
    },
    {
     "name": "stdout",
     "output_type": "stream",
     "text": [
      "max_samples = 3100\n"
     ]
    },
    {
     "name": "stderr",
     "output_type": "stream",
     "text": [
      "/Users/thesard/anaconda3/lib/python3.7/site-packages/sklearn/ensemble/iforest.py:213: FutureWarning: default contamination parameter 0.1 will change in version 0.22 to \"auto\". This will change the predict method behavior.\n",
      "  FutureWarning)\n"
     ]
    },
    {
     "name": "stdout",
     "output_type": "stream",
     "text": [
      "max_samples = 4100\n"
     ]
    },
    {
     "name": "stderr",
     "output_type": "stream",
     "text": [
      "/Users/thesard/anaconda3/lib/python3.7/site-packages/sklearn/ensemble/iforest.py:213: FutureWarning: default contamination parameter 0.1 will change in version 0.22 to \"auto\". This will change the predict method behavior.\n",
      "  FutureWarning)\n"
     ]
    },
    {
     "name": "stdout",
     "output_type": "stream",
     "text": [
      "max_samples = 5100\n"
     ]
    },
    {
     "name": "stderr",
     "output_type": "stream",
     "text": [
      "/Users/thesard/anaconda3/lib/python3.7/site-packages/sklearn/ensemble/iforest.py:213: FutureWarning: default contamination parameter 0.1 will change in version 0.22 to \"auto\". This will change the predict method behavior.\n",
      "  FutureWarning)\n"
     ]
    },
    {
     "name": "stdout",
     "output_type": "stream",
     "text": [
      "max_samples = 6100\n"
     ]
    },
    {
     "name": "stderr",
     "output_type": "stream",
     "text": [
      "/Users/thesard/anaconda3/lib/python3.7/site-packages/sklearn/ensemble/iforest.py:213: FutureWarning: default contamination parameter 0.1 will change in version 0.22 to \"auto\". This will change the predict method behavior.\n",
      "  FutureWarning)\n"
     ]
    },
    {
     "name": "stdout",
     "output_type": "stream",
     "text": [
      "max_samples = 7100\n"
     ]
    },
    {
     "name": "stderr",
     "output_type": "stream",
     "text": [
      "/Users/thesard/anaconda3/lib/python3.7/site-packages/sklearn/ensemble/iforest.py:213: FutureWarning: default contamination parameter 0.1 will change in version 0.22 to \"auto\". This will change the predict method behavior.\n",
      "  FutureWarning)\n"
     ]
    },
    {
     "name": "stdout",
     "output_type": "stream",
     "text": [
      "max_samples = 8100\n"
     ]
    },
    {
     "name": "stderr",
     "output_type": "stream",
     "text": [
      "/Users/thesard/anaconda3/lib/python3.7/site-packages/sklearn/ensemble/iforest.py:213: FutureWarning: default contamination parameter 0.1 will change in version 0.22 to \"auto\". This will change the predict method behavior.\n",
      "  FutureWarning)\n"
     ]
    },
    {
     "name": "stdout",
     "output_type": "stream",
     "text": [
      "max_samples = 9100\n"
     ]
    },
    {
     "name": "stderr",
     "output_type": "stream",
     "text": [
      "/Users/thesard/anaconda3/lib/python3.7/site-packages/sklearn/ensemble/iforest.py:213: FutureWarning: default contamination parameter 0.1 will change in version 0.22 to \"auto\". This will change the predict method behavior.\n",
      "  FutureWarning)\n"
     ]
    },
    {
     "name": "stdout",
     "output_type": "stream",
     "text": [
      "max_samples = 10100\n"
     ]
    },
    {
     "name": "stderr",
     "output_type": "stream",
     "text": [
      "/Users/thesard/anaconda3/lib/python3.7/site-packages/sklearn/ensemble/iforest.py:213: FutureWarning: default contamination parameter 0.1 will change in version 0.22 to \"auto\". This will change the predict method behavior.\n",
      "  FutureWarning)\n"
     ]
    },
    {
     "name": "stdout",
     "output_type": "stream",
     "text": [
      "max_samples = 11100\n"
     ]
    },
    {
     "name": "stderr",
     "output_type": "stream",
     "text": [
      "/Users/thesard/anaconda3/lib/python3.7/site-packages/sklearn/ensemble/iforest.py:213: FutureWarning: default contamination parameter 0.1 will change in version 0.22 to \"auto\". This will change the predict method behavior.\n",
      "  FutureWarning)\n"
     ]
    },
    {
     "name": "stdout",
     "output_type": "stream",
     "text": [
      "max_samples = 12100\n"
     ]
    },
    {
     "name": "stderr",
     "output_type": "stream",
     "text": [
      "/Users/thesard/anaconda3/lib/python3.7/site-packages/sklearn/ensemble/iforest.py:213: FutureWarning: default contamination parameter 0.1 will change in version 0.22 to \"auto\". This will change the predict method behavior.\n",
      "  FutureWarning)\n"
     ]
    },
    {
     "name": "stdout",
     "output_type": "stream",
     "text": [
      "max_samples = 13100\n"
     ]
    },
    {
     "name": "stderr",
     "output_type": "stream",
     "text": [
      "/Users/thesard/anaconda3/lib/python3.7/site-packages/sklearn/ensemble/iforest.py:213: FutureWarning: default contamination parameter 0.1 will change in version 0.22 to \"auto\". This will change the predict method behavior.\n",
      "  FutureWarning)\n"
     ]
    },
    {
     "name": "stdout",
     "output_type": "stream",
     "text": [
      "max_samples = 14100\n"
     ]
    },
    {
     "name": "stderr",
     "output_type": "stream",
     "text": [
      "/Users/thesard/anaconda3/lib/python3.7/site-packages/sklearn/ensemble/iforest.py:213: FutureWarning: default contamination parameter 0.1 will change in version 0.22 to \"auto\". This will change the predict method behavior.\n",
      "  FutureWarning)\n"
     ]
    },
    {
     "name": "stdout",
     "output_type": "stream",
     "text": [
      "max_samples = 15100\n"
     ]
    },
    {
     "name": "stderr",
     "output_type": "stream",
     "text": [
      "/Users/thesard/anaconda3/lib/python3.7/site-packages/sklearn/ensemble/iforest.py:213: FutureWarning: default contamination parameter 0.1 will change in version 0.22 to \"auto\". This will change the predict method behavior.\n",
      "  FutureWarning)\n"
     ]
    },
    {
     "name": "stdout",
     "output_type": "stream",
     "text": [
      "max_samples = 16100\n"
     ]
    },
    {
     "name": "stderr",
     "output_type": "stream",
     "text": [
      "/Users/thesard/anaconda3/lib/python3.7/site-packages/sklearn/ensemble/iforest.py:213: FutureWarning: default contamination parameter 0.1 will change in version 0.22 to \"auto\". This will change the predict method behavior.\n",
      "  FutureWarning)\n"
     ]
    },
    {
     "name": "stdout",
     "output_type": "stream",
     "text": [
      "max_samples = 17100\n"
     ]
    },
    {
     "name": "stderr",
     "output_type": "stream",
     "text": [
      "/Users/thesard/anaconda3/lib/python3.7/site-packages/sklearn/ensemble/iforest.py:213: FutureWarning: default contamination parameter 0.1 will change in version 0.22 to \"auto\". This will change the predict method behavior.\n",
      "  FutureWarning)\n"
     ]
    },
    {
     "name": "stdout",
     "output_type": "stream",
     "text": [
      "max_samples = 18100\n"
     ]
    },
    {
     "name": "stderr",
     "output_type": "stream",
     "text": [
      "/Users/thesard/anaconda3/lib/python3.7/site-packages/sklearn/ensemble/iforest.py:213: FutureWarning: default contamination parameter 0.1 will change in version 0.22 to \"auto\". This will change the predict method behavior.\n",
      "  FutureWarning)\n"
     ]
    },
    {
     "name": "stdout",
     "output_type": "stream",
     "text": [
      "max_samples = 19100\n"
     ]
    },
    {
     "name": "stderr",
     "output_type": "stream",
     "text": [
      "/Users/thesard/anaconda3/lib/python3.7/site-packages/sklearn/ensemble/iforest.py:213: FutureWarning: default contamination parameter 0.1 will change in version 0.22 to \"auto\". This will change the predict method behavior.\n",
      "  FutureWarning)\n"
     ]
    },
    {
     "name": "stdout",
     "output_type": "stream",
     "text": [
      "max_samples = 20100\n"
     ]
    },
    {
     "name": "stderr",
     "output_type": "stream",
     "text": [
      "/Users/thesard/anaconda3/lib/python3.7/site-packages/sklearn/ensemble/iforest.py:213: FutureWarning: default contamination parameter 0.1 will change in version 0.22 to \"auto\". This will change the predict method behavior.\n",
      "  FutureWarning)\n"
     ]
    },
    {
     "name": "stdout",
     "output_type": "stream",
     "text": [
      "max_samples = 21100\n"
     ]
    },
    {
     "name": "stderr",
     "output_type": "stream",
     "text": [
      "/Users/thesard/anaconda3/lib/python3.7/site-packages/sklearn/ensemble/iforest.py:213: FutureWarning: default contamination parameter 0.1 will change in version 0.22 to \"auto\". This will change the predict method behavior.\n",
      "  FutureWarning)\n"
     ]
    },
    {
     "name": "stdout",
     "output_type": "stream",
     "text": [
      "max_samples = 22100\n"
     ]
    },
    {
     "name": "stderr",
     "output_type": "stream",
     "text": [
      "/Users/thesard/anaconda3/lib/python3.7/site-packages/sklearn/ensemble/iforest.py:213: FutureWarning: default contamination parameter 0.1 will change in version 0.22 to \"auto\". This will change the predict method behavior.\n",
      "  FutureWarning)\n"
     ]
    },
    {
     "name": "stdout",
     "output_type": "stream",
     "text": [
      "max_samples = 23100\n"
     ]
    },
    {
     "name": "stderr",
     "output_type": "stream",
     "text": [
      "/Users/thesard/anaconda3/lib/python3.7/site-packages/sklearn/ensemble/iforest.py:213: FutureWarning: default contamination parameter 0.1 will change in version 0.22 to \"auto\". This will change the predict method behavior.\n",
      "  FutureWarning)\n"
     ]
    },
    {
     "name": "stdout",
     "output_type": "stream",
     "text": [
      "max_samples = 24100\n"
     ]
    },
    {
     "name": "stderr",
     "output_type": "stream",
     "text": [
      "/Users/thesard/anaconda3/lib/python3.7/site-packages/sklearn/ensemble/iforest.py:213: FutureWarning: default contamination parameter 0.1 will change in version 0.22 to \"auto\". This will change the predict method behavior.\n",
      "  FutureWarning)\n"
     ]
    },
    {
     "name": "stdout",
     "output_type": "stream",
     "text": [
      "max_samples = 25100\n"
     ]
    },
    {
     "name": "stderr",
     "output_type": "stream",
     "text": [
      "/Users/thesard/anaconda3/lib/python3.7/site-packages/sklearn/ensemble/iforest.py:213: FutureWarning: default contamination parameter 0.1 will change in version 0.22 to \"auto\". This will change the predict method behavior.\n",
      "  FutureWarning)\n"
     ]
    },
    {
     "name": "stdout",
     "output_type": "stream",
     "text": [
      "max_samples = 26100\n"
     ]
    },
    {
     "name": "stderr",
     "output_type": "stream",
     "text": [
      "/Users/thesard/anaconda3/lib/python3.7/site-packages/sklearn/ensemble/iforest.py:213: FutureWarning: default contamination parameter 0.1 will change in version 0.22 to \"auto\". This will change the predict method behavior.\n",
      "  FutureWarning)\n"
     ]
    },
    {
     "name": "stdout",
     "output_type": "stream",
     "text": [
      "max_samples = 27100\n"
     ]
    },
    {
     "name": "stderr",
     "output_type": "stream",
     "text": [
      "/Users/thesard/anaconda3/lib/python3.7/site-packages/sklearn/ensemble/iforest.py:213: FutureWarning: default contamination parameter 0.1 will change in version 0.22 to \"auto\". This will change the predict method behavior.\n",
      "  FutureWarning)\n"
     ]
    },
    {
     "name": "stdout",
     "output_type": "stream",
     "text": [
      "max_samples = 28100\n"
     ]
    },
    {
     "name": "stderr",
     "output_type": "stream",
     "text": [
      "/Users/thesard/anaconda3/lib/python3.7/site-packages/sklearn/ensemble/iforest.py:213: FutureWarning: default contamination parameter 0.1 will change in version 0.22 to \"auto\". This will change the predict method behavior.\n",
      "  FutureWarning)\n"
     ]
    },
    {
     "name": "stdout",
     "output_type": "stream",
     "text": [
      "max_samples = 29100\n"
     ]
    },
    {
     "name": "stderr",
     "output_type": "stream",
     "text": [
      "/Users/thesard/anaconda3/lib/python3.7/site-packages/sklearn/ensemble/iforest.py:213: FutureWarning: default contamination parameter 0.1 will change in version 0.22 to \"auto\". This will change the predict method behavior.\n",
      "  FutureWarning)\n"
     ]
    },
    {
     "name": "stdout",
     "output_type": "stream",
     "text": [
      "max_samples = 30100\n"
     ]
    },
    {
     "name": "stderr",
     "output_type": "stream",
     "text": [
      "/Users/thesard/anaconda3/lib/python3.7/site-packages/sklearn/ensemble/iforest.py:213: FutureWarning: default contamination parameter 0.1 will change in version 0.22 to \"auto\". This will change the predict method behavior.\n",
      "  FutureWarning)\n"
     ]
    },
    {
     "name": "stdout",
     "output_type": "stream",
     "text": [
      "max_samples = 31100\n"
     ]
    },
    {
     "name": "stderr",
     "output_type": "stream",
     "text": [
      "/Users/thesard/anaconda3/lib/python3.7/site-packages/sklearn/ensemble/iforest.py:213: FutureWarning: default contamination parameter 0.1 will change in version 0.22 to \"auto\". This will change the predict method behavior.\n",
      "  FutureWarning)\n"
     ]
    },
    {
     "name": "stdout",
     "output_type": "stream",
     "text": [
      "max_samples = 32100\n"
     ]
    },
    {
     "name": "stderr",
     "output_type": "stream",
     "text": [
      "/Users/thesard/anaconda3/lib/python3.7/site-packages/sklearn/ensemble/iforest.py:213: FutureWarning: default contamination parameter 0.1 will change in version 0.22 to \"auto\". This will change the predict method behavior.\n",
      "  FutureWarning)\n"
     ]
    },
    {
     "name": "stdout",
     "output_type": "stream",
     "text": [
      "max_samples = 33100\n"
     ]
    },
    {
     "name": "stderr",
     "output_type": "stream",
     "text": [
      "/Users/thesard/anaconda3/lib/python3.7/site-packages/sklearn/ensemble/iforest.py:213: FutureWarning: default contamination parameter 0.1 will change in version 0.22 to \"auto\". This will change the predict method behavior.\n",
      "  FutureWarning)\n"
     ]
    },
    {
     "name": "stdout",
     "output_type": "stream",
     "text": [
      "max_samples = 34100\n"
     ]
    },
    {
     "name": "stderr",
     "output_type": "stream",
     "text": [
      "/Users/thesard/anaconda3/lib/python3.7/site-packages/sklearn/ensemble/iforest.py:213: FutureWarning: default contamination parameter 0.1 will change in version 0.22 to \"auto\". This will change the predict method behavior.\n",
      "  FutureWarning)\n"
     ]
    },
    {
     "name": "stdout",
     "output_type": "stream",
     "text": [
      "max_samples = 35100\n"
     ]
    },
    {
     "name": "stderr",
     "output_type": "stream",
     "text": [
      "/Users/thesard/anaconda3/lib/python3.7/site-packages/sklearn/ensemble/iforest.py:213: FutureWarning: default contamination parameter 0.1 will change in version 0.22 to \"auto\". This will change the predict method behavior.\n",
      "  FutureWarning)\n"
     ]
    },
    {
     "name": "stdout",
     "output_type": "stream",
     "text": [
      "max_samples = 36100\n"
     ]
    },
    {
     "name": "stderr",
     "output_type": "stream",
     "text": [
      "/Users/thesard/anaconda3/lib/python3.7/site-packages/sklearn/ensemble/iforest.py:213: FutureWarning: default contamination parameter 0.1 will change in version 0.22 to \"auto\". This will change the predict method behavior.\n",
      "  FutureWarning)\n"
     ]
    },
    {
     "name": "stdout",
     "output_type": "stream",
     "text": [
      "max_samples = 37100\n"
     ]
    },
    {
     "name": "stderr",
     "output_type": "stream",
     "text": [
      "/Users/thesard/anaconda3/lib/python3.7/site-packages/sklearn/ensemble/iforest.py:213: FutureWarning: default contamination parameter 0.1 will change in version 0.22 to \"auto\". This will change the predict method behavior.\n",
      "  FutureWarning)\n"
     ]
    },
    {
     "name": "stdout",
     "output_type": "stream",
     "text": [
      "max_samples = 38100\n"
     ]
    },
    {
     "name": "stderr",
     "output_type": "stream",
     "text": [
      "/Users/thesard/anaconda3/lib/python3.7/site-packages/sklearn/ensemble/iforest.py:213: FutureWarning: default contamination parameter 0.1 will change in version 0.22 to \"auto\". This will change the predict method behavior.\n",
      "  FutureWarning)\n"
     ]
    },
    {
     "name": "stdout",
     "output_type": "stream",
     "text": [
      "max_samples = 39100\n"
     ]
    },
    {
     "name": "stderr",
     "output_type": "stream",
     "text": [
      "/Users/thesard/anaconda3/lib/python3.7/site-packages/sklearn/ensemble/iforest.py:213: FutureWarning: default contamination parameter 0.1 will change in version 0.22 to \"auto\". This will change the predict method behavior.\n",
      "  FutureWarning)\n"
     ]
    },
    {
     "name": "stdout",
     "output_type": "stream",
     "text": [
      "max_samples = 40100\n"
     ]
    },
    {
     "name": "stderr",
     "output_type": "stream",
     "text": [
      "/Users/thesard/anaconda3/lib/python3.7/site-packages/sklearn/ensemble/iforest.py:213: FutureWarning: default contamination parameter 0.1 will change in version 0.22 to \"auto\". This will change the predict method behavior.\n",
      "  FutureWarning)\n"
     ]
    },
    {
     "name": "stdout",
     "output_type": "stream",
     "text": [
      "max_samples = 41100\n"
     ]
    },
    {
     "name": "stderr",
     "output_type": "stream",
     "text": [
      "/Users/thesard/anaconda3/lib/python3.7/site-packages/sklearn/ensemble/iforest.py:213: FutureWarning: default contamination parameter 0.1 will change in version 0.22 to \"auto\". This will change the predict method behavior.\n",
      "  FutureWarning)\n"
     ]
    },
    {
     "name": "stdout",
     "output_type": "stream",
     "text": [
      "max_samples = 42100\n"
     ]
    },
    {
     "name": "stderr",
     "output_type": "stream",
     "text": [
      "/Users/thesard/anaconda3/lib/python3.7/site-packages/sklearn/ensemble/iforest.py:213: FutureWarning: default contamination parameter 0.1 will change in version 0.22 to \"auto\". This will change the predict method behavior.\n",
      "  FutureWarning)\n"
     ]
    },
    {
     "name": "stdout",
     "output_type": "stream",
     "text": [
      "max_samples = 43100\n"
     ]
    },
    {
     "name": "stderr",
     "output_type": "stream",
     "text": [
      "/Users/thesard/anaconda3/lib/python3.7/site-packages/sklearn/ensemble/iforest.py:213: FutureWarning: default contamination parameter 0.1 will change in version 0.22 to \"auto\". This will change the predict method behavior.\n",
      "  FutureWarning)\n"
     ]
    },
    {
     "name": "stdout",
     "output_type": "stream",
     "text": [
      "max_samples = 44100\n"
     ]
    },
    {
     "name": "stderr",
     "output_type": "stream",
     "text": [
      "/Users/thesard/anaconda3/lib/python3.7/site-packages/sklearn/ensemble/iforest.py:213: FutureWarning: default contamination parameter 0.1 will change in version 0.22 to \"auto\". This will change the predict method behavior.\n",
      "  FutureWarning)\n"
     ]
    },
    {
     "name": "stdout",
     "output_type": "stream",
     "text": [
      "max_samples = 45100\n"
     ]
    },
    {
     "name": "stderr",
     "output_type": "stream",
     "text": [
      "/Users/thesard/anaconda3/lib/python3.7/site-packages/sklearn/ensemble/iforest.py:213: FutureWarning: default contamination parameter 0.1 will change in version 0.22 to \"auto\". This will change the predict method behavior.\n",
      "  FutureWarning)\n"
     ]
    },
    {
     "name": "stdout",
     "output_type": "stream",
     "text": [
      "max_samples = 46100\n"
     ]
    },
    {
     "name": "stderr",
     "output_type": "stream",
     "text": [
      "/Users/thesard/anaconda3/lib/python3.7/site-packages/sklearn/ensemble/iforest.py:213: FutureWarning: default contamination parameter 0.1 will change in version 0.22 to \"auto\". This will change the predict method behavior.\n",
      "  FutureWarning)\n"
     ]
    }
   ],
   "source": [
    "MS_executions_time_IF_Shuttle = []\n",
    "MS_roc_auc_IF_Shuttle = []\n",
    "MS_precisions_IF_Shuttle = []\n",
    "MS_recalls_IF_Shuttle = []\n",
    "MS_f1_scores_IF_Shuttle = []\n",
    "MS_tn_IF_Shuttle = []\n",
    "MS_fp_IF_Shuttle = []\n",
    "MS_fn_IF_Shuttle = []\n",
    "MS_tp_IF_Shuttle = []\n",
    "MS_specificity_IF_Shuttle = []\n",
    "MS_max_samples_IF_Shuttle = []\n",
    "\n",
    "for j in range(100, len(X_Shuttle), 1000):\n",
    "    print(\"max_samples = \"+str(j))\n",
    "    max_samples = j\n",
    "    MS_max_samples_IF_Shuttle.append(j)\n",
    "    start_IF_Shuttle = time()\n",
    "        \n",
    "    # Instanciation, fit and predict on Shuttle\n",
    "    MS_func_IF_Shuttle = IsolationForest(max_samples=max_samples, behaviour=\"new\")\n",
    "    MS_func_IF_Shuttle.fit(X_Shuttle)\n",
    "    MS_y_pred_IF_Shuttle = MS_func_IF_Shuttle.predict(X_Shuttle)\n",
    "\n",
    "    # Calcul du temps d'exécution\n",
    "    MS_exec_time_IF_Shuttle = time() - start_IF_Shuttle\n",
    "    MS_executions_time_IF_Shuttle.append(MS_exec_time_IF_Shuttle)\n",
    "    \n",
    "    # Precision\n",
    "    MS_precisions_IF_Shuttle.append(precision_score(y_transform_Shuttle, MS_y_pred_IF_Shuttle))\n",
    "    \n",
    "    # Recall\n",
    "    MS_recalls_IF_Shuttle.append(recall_score(y_transform_Shuttle, MS_y_pred_IF_Shuttle))\n",
    "    \n",
    "    # f1_score\n",
    "    MS_f1_scores_IF_Shuttle.append(f1_score(y_transform_Shuttle, MS_y_pred_IF_Shuttle))\n",
    "    \n",
    "    # Specificity\n",
    "    MS_specificity_IF_Shuttle.append(specificity_score(y_transform_Shuttle, MS_y_pred_IF_Shuttle))\n",
    "    \n",
    "    # Matrice de confusion\n",
    "    ttn, tfp, tfn, ttp = confusion_matrix(y_transform_Shuttle, MS_y_pred_IF_Shuttle).ravel()\n",
    "    tn = ttp\n",
    "    fp = tfn\n",
    "    fn = tfp\n",
    "    tp = ttn\n",
    "    MS_tn_IF_Shuttle.append(tn)\n",
    "    MS_fp_IF_Shuttle.append(fp)\n",
    "    MS_fn_IF_Shuttle.append(fn)\n",
    "    MS_tp_IF_Shuttle.append(tp)\n",
    "    \n",
    "    # Calcul de l'aire sous la courbe ROC\n",
    "    MS_y_DF_IF_Shuttle = MS_func_IF_Shuttle.decision_function(X_Shuttle)\n",
    "    MS_auc_IF_Shuttle = roc_auc_score(y_transform_Shuttle, MS_y_DF_IF_Shuttle)\n",
    "    MS_roc_auc_IF_Shuttle.append(MS_auc_IF_Shuttle)\n",
    "    "
   ]
  },
  {
   "cell_type": "code",
   "execution_count": 18,
   "metadata": {},
   "outputs": [
    {
     "data": {
      "image/png": "[encoded data removed]",
      "text/plain": [
       "<Figure size 432x288 with 1 Axes>"
      ]
     },
     "metadata": {
      "needs_background": "light"
     },
     "output_type": "display_data"
    }
   ],
   "source": [
    "plt.plot(MS_max_samples_IF_Shuttle, MS_executions_time_IF_Shuttle,  \"g-\", marker='.', markerfacecolor='blue', markersize=6, color='skyblue')\n",
    "plt.xlabel('max_samples')\n",
    "plt.ylabel('CPU Time')\n",
    "#plt.title(\"Execution time of IsolationForest applied on Shuttle (in second)\")\n",
    "plt.legend(loc=\"best\")\n",
    "plt.savefig('maxsamples_cputime.png')\n",
    "plt.show()"
   ]
  },
  {
   "cell_type": "code",
   "execution_count": 19,
   "metadata": {},
   "outputs": [
    {
     "data": {
      "image/png": "[encoded data removed]",
      "text/plain": [
       "<Figure size 432x288 with 1 Axes>"
      ]
     },
     "metadata": {
      "needs_background": "light"
     },
     "output_type": "display_data"
    }
   ],
   "source": [
    "plt.plot(MS_max_samples_IF_Shuttle, MS_roc_auc_IF_Shuttle,  \"g-\", marker='.', markerfacecolor='blue', markersize=6, color='skyblue')\n",
    "plt.xlabel('max_samples')\n",
    "plt.ylabel('ROC AUC')\n",
    "plt.title(\"ROC AUC for Isolation Forest applied on Shuttle\")\n",
    "plt.legend(loc=\"best\")\n",
    "plt.savefig('maxsamples_rocauc.png')\n",
    "plt.show()"
   ]
  },
  {
   "cell_type": "code",
   "execution_count": 20,
   "metadata": {},
   "outputs": [
    {
     "name": "stdout",
     "output_type": "stream",
     "text": [
      "La meilleure est 0.9988092295850334 pour un temps d'exécution de 4.553619146347046s obtenue avec un max_samples de 2100 donnant un rappel de 0.917255297679112 et une spécificité de 0.9965831435079726\n"
     ]
    }
   ],
   "source": [
    "MS_index = MS_roc_auc_IF_Shuttle.index(max(MS_roc_auc_IF_Shuttle))\n",
    "print(\"La meilleure est \"+str(max(MS_roc_auc_IF_Shuttle))+\" pour un temps d'exécution de \"+str(MS_executions_time_IF_Shuttle[MS_index])+\"s obtenue avec un max_samples de \"+str(MS_max_samples_IF_Shuttle[MS_index])+\" donnant un rappel de \"+str(MS_recalls_IF_Shuttle[MS_index])+\" et une spécificité de \"+str(MS_specificity_IF_Shuttle[MS_index]))\n"
   ]
  },
  {
   "cell_type": "code",
   "execution_count": 21,
   "metadata": {
    "scrolled": true
   },
   "outputs": [
    {
     "data": {
      "image/png": "[encoded data removed]",
      "text/plain": [
       "<Figure size 432x288 with 1 Axes>"
      ]
     },
     "metadata": {
      "needs_background": "light"
     },
     "output_type": "display_data"
    }
   ],
   "source": [
    "# Evolution de spécificité et rappel\n",
    "plt.plot(MS_max_samples_IF_Shuttle, MS_recalls_IF_Shuttle, \"g-\", marker='.', markerfacecolor='green', markersize=6, color='skygreen')\n",
    "#plt.title(\"Courbe Spécificité_Rappel\")\n",
    "#plt.axis([0, 1, 0, 1])\n",
    "plt.xlabel('max_samples')\n",
    "plt.ylabel('Recall')\n",
    "plt.legend(loc=\"best\")\n",
    "plt.savefig('maxsamples_recall.png')\n",
    "plt.show()"
   ]
  },
  {
   "cell_type": "code",
   "execution_count": 21,
   "metadata": {
    "scrolled": true
   },
   "outputs": [
    {
     "data": {
      "image/png": "[encoded data removed]",
      "text/plain": [
       "<Figure size 432x288 with 1 Axes>"
      ]
     },
     "metadata": {
      "needs_background": "light"
     },
     "output_type": "display_data"
    }
   ],
   "source": [
    "# Evolution de spécificité et rappel\n",
    "plt.plot(MS_max_samples_IF_Shuttle, MS_specificity_IF_Shuttle, \"b--\", marker='.', markerfacecolor='blue', markersize=6, color='skyblue')\n",
    "#plt.title(\"Courbe Spécificité_Rappel\")\n",
    "#plt.axis([0, 1, 0, 1])\n",
    "plt.xlabel('max_samples')\n",
    "plt.ylabel('Specificity')\n",
    "plt.legend(loc=\"best\")\n",
    "plt.savefig('maxsamples_specificity.png')\n",
    "plt.show()"
   ]
  },
  {
   "cell_type": "markdown",
   "metadata": {},
   "source": [
    "### Résultat\n",
    "###### Faisant varier max_samples, n_estimators = 100, contamination = 0,1\n",
    "Plus le nombre d'éléments dans l'échantillon augmente, plus le temps d'exécution est long.\n",
    "Par contre, quelque soit max_samples, la AUC ne varie pas beaucoup : entre 0,994 et 0,999.\n",
    "\n",
    "Meilleure estimation :\n",
    "    La meilleure est 0.9988092295850334 pour un temps d'exécution de 4.553619146347046s obtenue avec un max_samples de 2100 donnant un rappel de 0.917255297679112 et une spécificité de 0.9965831435079726\n",
    "\n",
    "Max_samples n'a donc pas une grande incidence sur les performances de classification de IForest pour un jeu de données de taille et de dimension faibles. Mais il a une conséquences sur le temps d'exécution."
   ]
  },
  {
   "cell_type": "markdown",
   "metadata": {},
   "source": [
    "### Exécution de Isolation Forest sur le jeux de données Shuttle en faisant varier contamination (contamination : float in (0., 0.5), optional (default=0.1))"
   ]
  },
  {
   "cell_type": "code",
   "execution_count": 23,
   "metadata": {},
   "outputs": [
    {
     "name": "stdout",
     "output_type": "stream",
     "text": [
      "contamination = 0.0\n",
      "contamination = 0.01\n",
      "contamination = 0.02\n",
      "contamination = 0.03\n",
      "contamination = 0.04\n",
      "contamination = 0.05\n",
      "contamination = 0.06\n",
      "contamination = 0.07\n",
      "contamination = 0.08\n",
      "contamination = 0.09\n",
      "contamination = 0.1\n",
      "contamination = 0.11\n",
      "contamination = 0.12\n",
      "contamination = 0.13\n",
      "contamination = 0.14\n",
      "contamination = 0.15\n",
      "contamination = 0.16\n",
      "contamination = 0.17\n",
      "contamination = 0.18\n",
      "contamination = 0.19\n",
      "contamination = 0.2\n",
      "contamination = 0.21\n",
      "contamination = 0.22\n",
      "contamination = 0.23\n",
      "contamination = 0.24\n",
      "contamination = 0.25\n",
      "contamination = 0.26\n",
      "contamination = 0.27\n",
      "contamination = 0.28\n",
      "contamination = 0.29\n",
      "contamination = 0.3\n",
      "contamination = 0.31\n",
      "contamination = 0.32\n",
      "contamination = 0.33\n",
      "contamination = 0.34\n",
      "contamination = 0.35000000000000003\n",
      "contamination = 0.36\n",
      "contamination = 0.37\n",
      "contamination = 0.38\n",
      "contamination = 0.39\n",
      "contamination = 0.4\n",
      "contamination = 0.41000000000000003\n",
      "contamination = 0.42\n",
      "contamination = 0.43\n",
      "contamination = 0.44\n",
      "contamination = 0.45\n",
      "contamination = 0.46\n",
      "contamination = 0.47000000000000003\n",
      "contamination = 0.48\n",
      "contamination = 0.49\n"
     ]
    }
   ],
   "source": [
    "CONT_executions_time_IF_Shuttle = []\n",
    "CONT_roc_auc_IF_Shuttle = []\n",
    "CONT_precisions_IF_Shuttle = []\n",
    "CONT_recalls_IF_Shuttle = []\n",
    "CONT_f1_scores_IF_Shuttle = []\n",
    "CONT_tn_IF_Shuttle = []\n",
    "CONT_fp_IF_Shuttle = []\n",
    "CONT_fn_IF_Shuttle = []\n",
    "CONT_tp_IF_Shuttle = []\n",
    "CONT_specificity_IF_Shuttle = []\n",
    "CONT_contamination_IF_Shuttle = []\n",
    "\n",
    "for j in np.arange(0., 0.5, 0.01):\n",
    "    print(\"contamination = \"+str(j))\n",
    "    contamination = j\n",
    "    CONT_contamination_IF_Shuttle.append(j)\n",
    "    start_IF_Shuttle = time()\n",
    "        \n",
    "    # Instanciation, fit and predict on Shuttle\n",
    "    CONT_func_IF_Shuttle = IsolationForest(contamination=contamination, behaviour=\"new\")\n",
    "    CONT_func_IF_Shuttle.fit(X_Shuttle)\n",
    "    CONT_y_pred_IF_Shuttle = CONT_func_IF_Shuttle.predict(X_Shuttle)\n",
    "\n",
    "    # Calcul du temps d'exécution\n",
    "    CONT_exec_time_IF_Shuttle = time() - start_IF_Shuttle\n",
    "    CONT_executions_time_IF_Shuttle.append(CONT_exec_time_IF_Shuttle)\n",
    "    \n",
    "    # Precision\n",
    "    CONT_precisions_IF_Shuttle.append(precision_score(y_transform_Shuttle, CONT_y_pred_IF_Shuttle))\n",
    "    \n",
    "    # Recall\n",
    "    CONT_recalls_IF_Shuttle.append(recall_score(y_transform_Shuttle, CONT_y_pred_IF_Shuttle))\n",
    "    \n",
    "    # f1_score\n",
    "    CONT_f1_scores_IF_Shuttle.append(f1_score(y_transform_Shuttle, CONT_y_pred_IF_Shuttle))\n",
    "    \n",
    "    # Specificity\n",
    "    CONT_specificity_IF_Shuttle.append(specificity_score(y_transform_Shuttle, CONT_y_pred_IF_Shuttle))\n",
    "    \n",
    "    # Matrice de confusion\n",
    "    ttn, tfp, tfn, ttp = confusion_matrix(y_transform_Shuttle, CONT_y_pred_IF_Shuttle).ravel()\n",
    "    tn = ttp\n",
    "    fp = tfn\n",
    "    fn = tfp\n",
    "    tp = ttn\n",
    "    CONT_tn_IF_Shuttle.append(tn)\n",
    "    CONT_fp_IF_Shuttle.append(fp)\n",
    "    CONT_fn_IF_Shuttle.append(fn)\n",
    "    CONT_tp_IF_Shuttle.append(tp)\n",
    "    \n",
    "    # Calcul de l'aire sous la courbe ROC\n",
    "    CONT_y_DF_IF_Shuttle = CONT_func_IF_Shuttle.decision_function(X_Shuttle)\n",
    "    CONT_auc_IF_Shuttle = roc_auc_score(y_transform_Shuttle, CONT_y_DF_IF_Shuttle)\n",
    "    CONT_roc_auc_IF_Shuttle.append(CONT_auc_IF_Shuttle)"
   ]
  },
  {
   "cell_type": "code",
   "execution_count": null,
   "metadata": {},
   "outputs": [
    {
     "data": {
      "image/png": "[encoded data removed]",
      "text/plain": [
       "<Figure size 432x288 with 1 Axes>"
      ]
     },
     "metadata": {
      "needs_background": "light"
     },
     "output_type": "display_data"
    }
   ],
   "source": [
    "plt.plot(CONT_contamination_IF_Shuttle, CONT_executions_time_IF_Shuttle,  \"g-\", marker='.', markerfacecolor='blue', markersize=6, color='skyblue')\n",
    "plt.xlabel('contamination')\n",
    "plt.ylabel('CPU Time')\n",
    "#plt.title(\"Execution time of IsolationForest applied on Shuttle (in second)\")\n",
    "plt.legend(loc=\"best\")\n",
    "plt.savefig('contamination_cputime.png')\n",
    "plt.show()"
   ]
  },
  {
   "cell_type": "code",
   "execution_count": null,
   "metadata": {},
   "outputs": [
    {
     "data": {
      "image/png": "[encoded data removed]",
      "text/plain": [
       "<Figure size 432x288 with 1 Axes>"
      ]
     },
     "metadata": {
      "needs_background": "light"
     },
     "output_type": "display_data"
    }
   ],
   "source": [
    "plt.plot(CONT_contamination_IF_Shuttle, CONT_roc_auc_IF_Shuttle,  \"g-\", marker='.', markerfacecolor='blue', markersize=6, color='skyblue')\n",
    "plt.xlabel('contamination')\n",
    "plt.ylabel('ROC AUC')\n",
    "#plt.title(\"ROC AUC for Isolation Forest applied on Shuttle\")\n",
    "plt.legend(loc=\"best\")\n",
    "plt.savefig('contamination_rocauc.png')\n",
    "plt.show()"
   ]
  },
  {
   "cell_type": "code",
   "execution_count": null,
   "metadata": {},
   "outputs": [
    {
     "name": "stdout",
     "output_type": "stream",
     "text": [
      "La meilleure est 0.9986659298847596 pour un temps d'exécution de 3.101426124572754s obtenue avec une contamination de 0.22 donnant un rappel de 0.7950247883122011 et une spécificité de 1.0\n"
     ]
    }
   ],
   "source": [
    "CONT_index = CONT_roc_auc_IF_Shuttle.index(max(CONT_roc_auc_IF_Shuttle))\n",
    "print(\"La meilleure est \"+str(max(CONT_roc_auc_IF_Shuttle))+\" pour un temps d'exécution de \"+str(CONT_executions_time_IF_Shuttle[CONT_index])+\"s obtenue avec une contamination de \"+str(CONT_contamination_IF_Shuttle[CONT_index])+\" donnant un rappel de \"+str(CONT_recalls_IF_Shuttle[CONT_index])+\" et une spécificité de \"+str(CONT_specificity_IF_Shuttle[CONT_index]))\n"
   ]
  },
  {
   "cell_type": "code",
   "execution_count": null,
   "metadata": {
    "scrolled": true
   },
   "outputs": [
    {
     "data": {
      "image/png": "[encoded data removed]",
      "text/plain": [
       "<Figure size 432x288 with 1 Axes>"
      ]
     },
     "metadata": {
      "needs_background": "light"
     },
     "output_type": "display_data"
    }
   ],
   "source": [
    "# Evolution de spécificité et rappel\n",
    "plt.plot(CONT_contamination_IF_Shuttle, CONT_recalls_IF_Shuttle, \"g-\", marker='.', markerfacecolor='green', markersize=6, color='skygreen')\n",
    "#plt.title(\"Courbe Spécificité_Rappel\")\n",
    "#plt.axis([0, 1, 0, 1])\n",
    "plt.xlabel('contamination')\n",
    "plt.ylabel('Recall')\n",
    "plt.legend(loc=\"best\")\n",
    "plt.savefig('contamination_recall.png')\n",
    "plt.show()"
   ]
  },
  {
   "cell_type": "code",
   "execution_count": null,
   "metadata": {
    "scrolled": true
   },
   "outputs": [
    {
     "data": {
      "image/png": "[encoded data removed]",
      "text/plain": [
       "<Figure size 432x288 with 1 Axes>"
      ]
     },
     "metadata": {
      "needs_background": "light"
     },
     "output_type": "display_data"
    }
   ],
   "source": [
    "# Evolution de spécificité et rappel\n",
    "plt.plot(CONT_contamination_IF_Shuttle, CONT_specificity_IF_Shuttle, \"b-\", marker='.', markerfacecolor='blue', markersize=6, color='skyblue')\n",
    "#plt.title(\"Courbe Spécificité_Rappel\")\n",
    "#plt.axis([0, 1, 0, 1])\n",
    "plt.xlabel('contamination')\n",
    "plt.ylabel('Specificity')\n",
    "plt.legend(loc=\"best\")\n",
    "plt.savefig('contamination_specificity.png')\n",
    "plt.show()"
   ]
  },
  {
   "cell_type": "code",
   "execution_count": null,
   "metadata": {
    "scrolled": true
   },
   "outputs": [
    {
     "data": {
      "image/png": "[encoded data removed]",
      "text/plain": [
       "<Figure size 432x288 with 1 Axes>"
      ]
     },
     "metadata": {
      "needs_background": "light"
     },
     "output_type": "display_data"
    }
   ],
   "source": [
    "# Evolution de spécificité et rappel\n",
    "plt.plot(CONT_contamination_IF_Shuttle, CONT_recalls_IF_Shuttle, \"g-\", label=\"Recall\")\n",
    "plt.plot(CONT_contamination_IF_Shuttle, CONT_specificity_IF_Shuttle, \"b--\", label=\"Specificity\")\n",
    "#plt.title(\"Courbe Spécificité_Rappel\")\n",
    "#plt.axis([0, 1, 0, 1])\n",
    "plt.xlabel('contamination')\n",
    "plt.ylabel('Metrics Value')\n",
    "plt.legend(loc=\"best\")\n",
    "plt.savefig('contamination_specificity_recall_curve.png')\n",
    "plt.show()"
   ]
  },
  {
   "cell_type": "code",
   "execution_count": null,
   "metadata": {},
   "outputs": [
    {
     "name": "stderr",
     "output_type": "stream",
     "text": [
      "No handles with labels found to put in legend.\n"
     ]
    },
    {
     "data": {
      "image/png": "[encoded data removed]",
      "text/plain": [
       "<Figure size 432x288 with 1 Axes>"
      ]
     },
     "metadata": {
      "needs_background": "light"
     },
     "output_type": "display_data"
    }
   ],
   "source": [
    "# Evolution de spécificité et rappel\n",
    "plt.plot(CONT_specificity_IF_Shuttle, CONT_recalls_IF_Shuttle, \"g-\")\n",
    "plt.title(\"Compromis Spécificité_Rappel\")\n",
    "#plt.axis([0, 1, 0, 1])\n",
    "plt.xlabel('Spécificité')\n",
    "plt.ylabel('Rappel')\n",
    "plt.legend(loc=\"best\")\n",
    "    \n",
    "plt.show()"
   ]
  },
  {
   "cell_type": "markdown",
   "metadata": {},
   "source": [
    "### Exécution de Isolation Forest sur le jeux de données Shuttle en faisant varier la combinaison entre n_estimators et max_samples"
   ]
  },
  {
   "cell_type": "code",
   "execution_count": 24,
   "metadata": {},
   "outputs": [
    {
     "name": "stdout",
     "output_type": "stream",
     "text": [
      "n_estimators = 10\n",
      "max_samples = 100\n",
      "[[  867    11]\n",
      " [ 3555 42031]]\n",
      "max_samples = 1100\n",
      "[[  868    10]\n",
      " [ 2051 43535]]\n",
      "max_samples = 2100\n",
      "[[  863    15]\n",
      " [  756 44830]]\n",
      "max_samples = 3100\n",
      "[[  868    10]\n",
      " [  970 44616]]\n",
      "max_samples = 4100\n",
      "[[  859    19]\n",
      " [  396 45190]]\n",
      "max_samples = 5100\n",
      "[[  873     5]\n",
      " [  848 44738]]\n",
      "max_samples = 6100\n",
      "[[  862    16]\n",
      " [  469 45117]]\n",
      "max_samples = 7100\n",
      "[[  861    17]\n",
      " [  813 44773]]\n",
      "max_samples = 8100\n",
      "[[  856    22]\n",
      " [   94 45492]]\n",
      "max_samples = 9100\n",
      "[[  785    93]\n",
      " [  208 45378]]\n",
      "n_estimators = 20\n",
      "max_samples = 100\n",
      "[[  867    11]\n",
      " [ 6049 39537]]\n",
      "max_samples = 1100\n",
      "[[  863    15]\n",
      " [ 1401 44185]]\n",
      "max_samples = 2100\n",
      "[[  868    10]\n",
      " [  617 44969]]\n",
      "max_samples = 3100\n",
      "[[  863    15]\n",
      " [  453 45133]]\n",
      "max_samples = 4100\n",
      "[[  861    17]\n",
      " [  506 45080]]\n",
      "max_samples = 5100\n",
      "[[  858    20]\n",
      " [  495 45091]]\n",
      "max_samples = 6100\n",
      "[[  840    38]\n",
      " [  336 45250]]\n",
      "max_samples = 7100\n",
      "[[  859    19]\n",
      " [  134 45452]]\n",
      "max_samples = 8100\n",
      "[[  858    20]\n",
      " [  186 45400]]\n",
      "max_samples = 9100\n",
      "[[  817    61]\n",
      " [  195 45391]]\n",
      "n_estimators = 30\n",
      "max_samples = 100\n",
      "[[  864    14]\n",
      " [ 3141 42445]]\n",
      "max_samples = 1100\n",
      "[[  866    12]\n",
      " [  891 44695]]\n",
      "max_samples = 2100\n",
      "[[  859    19]\n",
      " [  399 45187]]\n",
      "max_samples = 3100\n",
      "[[  863    15]\n",
      " [  426 45160]]\n",
      "max_samples = 4100\n",
      "[[  857    21]\n",
      " [  192 45394]]\n",
      "max_samples = 5100\n",
      "[[  835    43]\n",
      " [  358 45228]]\n",
      "max_samples = 6100\n",
      "[[  859    19]\n",
      " [  179 45407]]\n",
      "max_samples = 7100\n",
      "[[  859    19]\n",
      " [  272 45314]]\n",
      "max_samples = 8100\n",
      "[[  859    19]\n",
      " [  261 45325]]\n",
      "max_samples = 9100\n",
      "[[  854    24]\n",
      " [  215 45371]]\n",
      "n_estimators = 40\n",
      "max_samples = 100\n",
      "[[  860    18]\n",
      " [ 4406 41180]]\n",
      "max_samples = 1100\n",
      "[[  861    17]\n",
      " [  641 44945]]\n",
      "max_samples = 2100\n",
      "[[  867    11]\n",
      " [  305 45281]]\n",
      "max_samples = 3100\n",
      "[[  860    18]\n",
      " [  470 45116]]\n",
      "max_samples = 4100\n",
      "[[  861    17]\n",
      " [  272 45314]]\n",
      "max_samples = 5100\n",
      "[[  859    19]\n",
      " [  282 45304]]\n",
      "max_samples = 6100\n",
      "[[  859    19]\n",
      " [  292 45294]]\n",
      "max_samples = 7100\n",
      "[[  860    18]\n",
      " [  287 45299]]\n",
      "max_samples = 8100\n",
      "[[  841    37]\n",
      " [  239 45347]]\n",
      "max_samples = 9100\n",
      "[[  827    51]\n",
      " [  197 45389]]\n",
      "n_estimators = 50\n",
      "max_samples = 100\n",
      "[[  861    17]\n",
      " [ 5345 40241]]\n",
      "max_samples = 1100\n",
      "[[  866    12]\n",
      " [  989 44597]]\n",
      "max_samples = 2100\n",
      "[[  864    14]\n",
      " [  633 44953]]\n",
      "max_samples = 3100\n",
      "[[  860    18]\n",
      " [  376 45210]]\n",
      "max_samples = 4100\n",
      "[[  859    19]\n",
      " [  529 45057]]\n",
      "max_samples = 5100\n",
      "[[  860    18]\n",
      " [  200 45386]]\n",
      "max_samples = 6100\n",
      "[[  862    16]\n",
      " [  406 45180]]\n",
      "max_samples = 7100\n",
      "[[  862    16]\n",
      " [  320 45266]]\n",
      "max_samples = 8100\n",
      "[[  855    23]\n",
      " [  267 45319]]\n",
      "max_samples = 9100\n",
      "[[  829    49]\n",
      " [  267 45319]]\n",
      "n_estimators = 60\n",
      "max_samples = 100\n",
      "[[  863    15]\n",
      " [ 2989 42597]]\n",
      "max_samples = 1100\n",
      "[[  868    10]\n",
      " [  814 44772]]\n",
      "max_samples = 2100\n",
      "[[  865    13]\n",
      " [  599 44987]]\n",
      "max_samples = 3100\n",
      "[[  860    18]\n",
      " [  649 44937]]\n",
      "max_samples = 4100\n",
      "[[  869     9]\n",
      " [  541 45045]]\n",
      "max_samples = 5100\n",
      "[[  860    18]\n",
      " [  501 45085]]\n",
      "max_samples = 6100\n",
      "[[  859    19]\n",
      " [  240 45346]]\n",
      "max_samples = 7100\n",
      "[[  855    23]\n",
      " [  103 45483]]\n",
      "max_samples = 8100\n",
      "[[  859    19]\n",
      " [  100 45486]]\n",
      "max_samples = 9100\n",
      "[[  787    91]\n",
      " [  156 45430]]\n",
      "n_estimators = 70\n",
      "max_samples = 100\n",
      "[[  863    15]\n",
      " [ 3726 41860]]\n",
      "max_samples = 1100\n",
      "[[  862    16]\n",
      " [  778 44808]]\n",
      "max_samples = 2100\n",
      "[[  863    15]\n",
      " [  635 44951]]\n",
      "max_samples = 3100\n",
      "[[  861    17]\n",
      " [  420 45166]]\n",
      "max_samples = 4100\n",
      "[[  859    19]\n",
      " [  408 45178]]\n",
      "max_samples = 5100\n",
      "[[  859    19]\n",
      " [  263 45323]]\n",
      "max_samples = 6100\n",
      "[[  860    18]\n",
      " [  154 45432]]\n",
      "max_samples = 7100\n",
      "[[  859    19]\n",
      " [  207 45379]]\n",
      "max_samples = 8100\n",
      "[[  859    19]\n",
      " [  105 45481]]\n",
      "max_samples = 9100\n",
      "[[  855    23]\n",
      " [  213 45373]]\n",
      "n_estimators = 80\n",
      "max_samples = 100\n",
      "[[  863    15]\n",
      " [ 4781 40805]]\n",
      "max_samples = 1100\n",
      "[[  865    13]\n",
      " [  773 44813]]\n",
      "max_samples = 2100\n",
      "[[  865    13]\n",
      " [  608 44978]]\n",
      "max_samples = 3100\n",
      "[[  864    14]\n",
      " [  503 45083]]\n",
      "max_samples = 4100\n",
      "[[  858    20]\n",
      " [  375 45211]]\n",
      "max_samples = 5100\n",
      "[[  859    19]\n",
      " [  285 45301]]\n",
      "max_samples = 6100\n",
      "[[  858    20]\n",
      " [  176 45410]]\n",
      "max_samples = 7100\n",
      "[[  859    19]\n",
      " [  124 45462]]\n",
      "max_samples = 8100\n",
      "[[  860    18]\n",
      " [  228 45358]]\n",
      "max_samples = 9100\n",
      "[[  844    34]\n",
      " [  159 45427]]\n",
      "n_estimators = 90\n",
      "max_samples = 100\n",
      "[[  859    19]\n",
      " [ 4187 41399]]\n",
      "max_samples = 1100\n",
      "[[  865    13]\n",
      " [  587 44999]]\n",
      "max_samples = 2100\n",
      "[[  865    13]\n",
      " [  315 45271]]\n",
      "max_samples = 3100\n",
      "[[  860    18]\n",
      " [  396 45190]]\n",
      "max_samples = 4100\n",
      "[[  859    19]\n",
      " [  313 45273]]\n",
      "max_samples = 5100\n",
      "[[  860    18]\n",
      " [  210 45376]]\n",
      "max_samples = 6100\n",
      "[[  860    18]\n",
      " [  280 45306]]\n",
      "max_samples = 7100\n",
      "[[  848    30]\n",
      " [  104 45482]]\n",
      "max_samples = 8100\n",
      "[[  856    22]\n",
      " [   89 45497]]\n",
      "max_samples = 9100\n",
      "[[  843    35]\n",
      " [  120 45466]]\n",
      "n_estimators = 100\n",
      "max_samples = 100\n",
      "[[  863    15]\n",
      " [ 2781 42805]]\n",
      "max_samples = 1100\n",
      "[[  865    13]\n",
      " [  645 44941]]\n",
      "max_samples = 2100\n",
      "[[  865    13]\n",
      " [  659 44927]]\n",
      "max_samples = 3100\n",
      "[[  860    18]\n",
      " [  502 45084]]\n",
      "max_samples = 4100\n",
      "[[  860    18]\n",
      " [  281 45305]]\n",
      "max_samples = 5100\n",
      "[[  859    19]\n",
      " [  317 45269]]\n",
      "max_samples = 6100\n",
      "[[  858    20]\n",
      " [  203 45383]]\n",
      "max_samples = 7100\n",
      "[[  859    19]\n",
      " [  139 45447]]\n",
      "max_samples = 8100\n",
      "[[  858    20]\n",
      " [  188 45398]]\n",
      "max_samples = 9100\n",
      "[[  859    19]\n",
      " [  149 45437]]\n",
      "n_estimators = 110\n",
      "max_samples = 100\n",
      "[[  865    13]\n",
      " [ 3687 41899]]\n",
      "max_samples = 1100\n",
      "[[  863    15]\n",
      " [  628 44958]]\n",
      "max_samples = 2100\n",
      "[[  860    18]\n",
      " [  504 45082]]\n",
      "max_samples = 3100\n",
      "[[  860    18]\n",
      " [  399 45187]]\n",
      "max_samples = 4100\n",
      "[[  860    18]\n",
      " [  455 45131]]\n",
      "max_samples = 5100\n",
      "[[  858    20]\n",
      " [  264 45322]]\n",
      "max_samples = 6100\n",
      "[[  860    18]\n",
      " [  263 45323]]\n",
      "max_samples = 7100\n",
      "[[  859    19]\n",
      " [  120 45466]]\n",
      "max_samples = 8100\n",
      "[[  839    39]\n",
      " [  163 45423]]\n",
      "max_samples = 9100\n",
      "[[  841    37]\n",
      " [  146 45440]]\n",
      "n_estimators = 120\n",
      "max_samples = 100\n",
      "[[  863    15]\n",
      " [ 4377 41209]]\n",
      "max_samples = 1100\n",
      "[[  865    13]\n",
      " [  707 44879]]\n",
      "max_samples = 2100\n",
      "[[  862    16]\n",
      " [  529 45057]]\n",
      "max_samples = 3100\n",
      "[[  861    17]\n",
      " [  445 45141]]\n",
      "max_samples = 4100\n",
      "[[  859    19]\n",
      " [  397 45189]]\n",
      "max_samples = 5100\n",
      "[[  859    19]\n",
      " [  270 45316]]\n",
      "max_samples = 6100\n",
      "[[  859    19]\n",
      " [  207 45379]]\n",
      "max_samples = 7100\n",
      "[[  859    19]\n",
      " [  129 45457]]\n",
      "max_samples = 8100\n",
      "[[  858    20]\n",
      " [  167 45419]]\n",
      "max_samples = 9100\n",
      "[[  832    46]\n",
      " [  114 45472]]\n",
      "n_estimators = 130\n",
      "max_samples = 100\n",
      "[[  859    19]\n",
      " [ 3834 41752]]\n",
      "max_samples = 1100\n",
      "[[  862    16]\n",
      " [  707 44879]]\n",
      "max_samples = 2100\n",
      "[[  864    14]\n",
      " [  546 45040]]\n",
      "max_samples = 3100\n",
      "[[  864    14]\n",
      " [  481 45105]]\n",
      "max_samples = 4100\n",
      "[[  860    18]\n",
      " [  307 45279]]\n",
      "max_samples = 5100\n",
      "[[  859    19]\n",
      " [  276 45310]]\n",
      "max_samples = 6100\n",
      "[[  858    20]\n",
      " [  215 45371]]\n",
      "max_samples = 7100\n",
      "[[  859    19]\n",
      " [  186 45400]]\n",
      "max_samples = 8100\n",
      "[[  860    18]\n",
      " [  164 45422]]\n",
      "max_samples = 9100\n",
      "[[  849    29]\n",
      " [  142 45444]]\n",
      "n_estimators = 140\n",
      "max_samples = 100\n",
      "[[  859    19]\n",
      " [ 3829 41757]]\n",
      "max_samples = 1100\n",
      "[[  863    15]\n",
      " [  694 44892]]\n",
      "max_samples = 2100\n",
      "[[  863    15]\n",
      " [  630 44956]]\n",
      "max_samples = 3100\n",
      "[[  860    18]\n",
      " [  480 45106]]\n",
      "max_samples = 4100\n",
      "[[  859    19]\n",
      " [  442 45144]]\n",
      "max_samples = 5100\n",
      "[[  859    19]\n",
      " [  320 45266]]\n",
      "max_samples = 6100\n",
      "[[  861    17]\n",
      " [  243 45343]]\n",
      "max_samples = 7100\n",
      "[[  859    19]\n",
      " [  268 45318]]\n",
      "max_samples = 8100\n",
      "[[  859    19]\n",
      " [  110 45476]]\n",
      "max_samples = 9100\n",
      "[[  847    31]\n",
      " [  113 45473]]\n",
      "n_estimators = 150\n",
      "max_samples = 100\n",
      "[[  861    17]\n",
      " [ 2947 42639]]\n",
      "max_samples = 1100\n",
      "[[  865    13]\n",
      " [  841 44745]]\n",
      "max_samples = 2100\n",
      "[[  861    17]\n",
      " [  650 44936]]\n",
      "max_samples = 3100\n",
      "[[  859    19]\n",
      " [  445 45141]]\n",
      "max_samples = 4100\n",
      "[[  860    18]\n",
      " [  349 45237]]\n",
      "max_samples = 5100\n",
      "[[  859    19]\n",
      " [  272 45314]]\n",
      "max_samples = 6100\n",
      "[[  859    19]\n",
      " [  227 45359]]\n",
      "max_samples = 7100\n",
      "[[  859    19]\n",
      " [  191 45395]]\n",
      "max_samples = 8100\n",
      "[[  859    19]\n",
      " [  130 45456]]\n",
      "max_samples = 9100\n",
      "[[  848    30]\n",
      " [  137 45449]]\n",
      "n_estimators = 160\n",
      "max_samples = 100\n",
      "[[  861    17]\n",
      " [ 4239 41347]]\n",
      "max_samples = 1100\n",
      "[[  863    15]\n",
      " [  776 44810]]\n",
      "max_samples = 2100\n",
      "[[  861    17]\n",
      " [  579 45007]]\n",
      "max_samples = 3100\n",
      "[[  861    17]\n",
      " [  446 45140]]\n",
      "max_samples = 4100\n",
      "[[  858    20]\n",
      " [  328 45258]]\n",
      "max_samples = 5100\n",
      "[[  859    19]\n",
      " [  202 45384]]\n",
      "max_samples = 6100\n",
      "[[  859    19]\n",
      " [  212 45374]]\n",
      "max_samples = 7100\n",
      "[[  859    19]\n",
      " [  169 45417]]\n",
      "max_samples = 8100\n"
     ]
    },
    {
     "name": "stdout",
     "output_type": "stream",
     "text": [
      "[[  856    22]\n",
      " [  133 45453]]\n",
      "max_samples = 9100\n",
      "[[  845    33]\n",
      " [  156 45430]]\n",
      "n_estimators = 170\n",
      "max_samples = 100\n",
      "[[  861    17]\n",
      " [ 4410 41176]]\n",
      "max_samples = 1100\n",
      "[[  865    13]\n",
      " [  819 44767]]\n",
      "max_samples = 2100\n",
      "[[  861    17]\n",
      " [  500 45086]]\n",
      "max_samples = 3100\n",
      "[[  864    14]\n",
      " [  541 45045]]\n",
      "max_samples = 4100\n",
      "[[  859    19]\n",
      " [  440 45146]]\n",
      "max_samples = 5100\n",
      "[[  859    19]\n",
      " [  313 45273]]\n",
      "max_samples = 6100\n",
      "[[  859    19]\n",
      " [  245 45341]]\n",
      "max_samples = 7100\n",
      "[[  859    19]\n",
      " [  191 45395]]\n",
      "max_samples = 8100\n",
      "[[  858    20]\n",
      " [  119 45467]]\n",
      "max_samples = 9100\n",
      "[[  842    36]\n",
      " [  116 45470]]\n",
      "n_estimators = 180\n",
      "max_samples = 100\n",
      "[[  859    19]\n",
      " [ 4010 41576]]\n",
      "max_samples = 1100\n",
      "[[  862    16]\n",
      " [  745 44841]]\n",
      "max_samples = 2100\n",
      "[[  861    17]\n",
      " [  551 45035]]\n",
      "max_samples = 3100\n",
      "[[  860    18]\n",
      " [  405 45181]]\n",
      "max_samples = 4100\n",
      "[[  860    18]\n",
      " [  347 45239]]\n",
      "max_samples = 5100\n",
      "[[  859    19]\n",
      " [  275 45311]]\n",
      "max_samples = 6100\n",
      "[[  860    18]\n",
      " [  250 45336]]\n",
      "max_samples = 7100\n",
      "[[  859    19]\n",
      " [  158 45428]]\n",
      "max_samples = 8100\n",
      "[[  856    22]\n",
      " [  130 45456]]\n",
      "max_samples = 9100\n",
      "[[  847    31]\n",
      " [   83 45503]]\n",
      "n_estimators = 190\n",
      "max_samples = 100\n",
      "[[  864    14]\n",
      " [ 3948 41638]]\n",
      "max_samples = 1100\n",
      "[[  864    14]\n",
      " [  800 44786]]\n",
      "max_samples = 2100\n",
      "[[  862    16]\n",
      " [  556 45030]]\n",
      "max_samples = 3100\n",
      "[[  861    17]\n",
      " [  469 45117]]\n",
      "max_samples = 4100\n",
      "[[  859    19]\n",
      " [  380 45206]]\n",
      "max_samples = 5100\n",
      "[[  861    17]\n",
      " [  310 45276]]\n",
      "max_samples = 6100\n",
      "[[  859    19]\n",
      " [  190 45396]]\n",
      "max_samples = 7100\n",
      "[[  859    19]\n",
      " [  182 45404]]\n",
      "max_samples = 8100\n",
      "[[  859    19]\n",
      " [  149 45437]]\n",
      "max_samples = 9100\n",
      "[[  855    23]\n",
      " [  156 45430]]\n",
      "n_estimators = 200\n",
      "max_samples = 100\n",
      "[[  864    14]\n",
      " [ 3310 42276]]\n",
      "max_samples = 1100\n",
      "[[  864    14]\n",
      " [  863 44723]]\n",
      "max_samples = 2100\n",
      "[[  861    17]\n",
      " [  514 45072]]\n",
      "max_samples = 3100\n",
      "[[  860    18]\n",
      " [  475 45111]]\n",
      "max_samples = 4100\n",
      "[[  860    18]\n",
      " [  325 45261]]\n",
      "max_samples = 5100\n",
      "[[  859    19]\n",
      " [  275 45311]]\n",
      "max_samples = 6100\n",
      "[[  859    19]\n",
      " [  260 45326]]\n",
      "max_samples = 7100\n",
      "[[  859    19]\n",
      " [  163 45423]]\n",
      "max_samples = 8100\n",
      "[[  859    19]\n",
      " [  148 45438]]\n",
      "max_samples = 9100\n",
      "[[  796    82]\n",
      " [  127 45459]]\n",
      "n_estimators = 210\n",
      "max_samples = 100\n",
      "[[  862    16]\n",
      " [ 3734 41852]]\n",
      "max_samples = 1100\n",
      "[[  864    14]\n",
      " [  795 44791]]\n",
      "max_samples = 2100\n",
      "[[  865    13]\n",
      " [  622 44964]]\n",
      "max_samples = 3100\n",
      "[[  861    17]\n",
      " [  522 45064]]\n",
      "max_samples = 4100\n",
      "[[  860    18]\n",
      " [  327 45259]]\n",
      "max_samples = 5100\n",
      "[[  861    17]\n",
      " [  338 45248]]\n",
      "max_samples = 6100\n",
      "[[  859    19]\n",
      " [  216 45370]]\n",
      "max_samples = 7100\n",
      "[[  859    19]\n",
      " [  188 45398]]\n",
      "max_samples = 8100\n",
      "[[  859    19]\n",
      " [  204 45382]]\n",
      "max_samples = 9100\n",
      "[[  847    31]\n",
      " [  109 45477]]\n",
      "n_estimators = 220\n",
      "max_samples = 100\n",
      "[[  860    18]\n",
      " [ 4495 41091]]\n",
      "max_samples = 1100\n",
      "[[  864    14]\n",
      " [  741 44845]]\n",
      "max_samples = 2100\n",
      "[[  862    16]\n",
      " [  691 44895]]\n",
      "max_samples = 3100\n",
      "[[  860    18]\n",
      " [  451 45135]]\n",
      "max_samples = 4100\n",
      "[[  859    19]\n",
      " [  293 45293]]\n",
      "max_samples = 5100\n",
      "[[  860    18]\n",
      " [  262 45324]]\n",
      "max_samples = 6100\n",
      "[[  858    20]\n",
      " [  152 45434]]\n",
      "max_samples = 7100\n",
      "[[  859    19]\n",
      " [  208 45378]]\n",
      "max_samples = 8100\n",
      "[[  859    19]\n",
      " [  131 45455]]\n",
      "max_samples = 9100\n",
      "[[  831    47]\n",
      " [  110 45476]]\n",
      "n_estimators = 230\n",
      "max_samples = 100\n",
      "[[  860    18]\n",
      " [ 4094 41492]]\n",
      "max_samples = 1100\n",
      "[[  865    13]\n",
      " [  724 44862]]\n",
      "max_samples = 2100\n",
      "[[  864    14]\n",
      " [  568 45018]]\n",
      "max_samples = 3100\n",
      "[[  860    18]\n",
      " [  470 45116]]\n",
      "max_samples = 4100\n",
      "[[  859    19]\n",
      " [  450 45136]]\n",
      "max_samples = 5100\n",
      "[[  859    19]\n",
      " [  263 45323]]\n",
      "max_samples = 6100\n",
      "[[  859    19]\n",
      " [  246 45340]]\n",
      "max_samples = 7100\n",
      "[[  859    19]\n",
      " [  152 45434]]\n",
      "max_samples = 8100\n",
      "[[  850    28]\n",
      " [   84 45502]]\n",
      "max_samples = 9100\n",
      "[[  818    60]\n",
      " [   94 45492]]\n",
      "n_estimators = 240\n",
      "max_samples = 100\n",
      "[[  860    18]\n",
      " [ 3677 41909]]\n",
      "max_samples = 1100\n",
      "[[  863    15]\n",
      " [  879 44707]]\n",
      "max_samples = 2100\n",
      "[[  862    16]\n",
      " [  534 45052]]\n",
      "max_samples = 3100\n",
      "[[  860    18]\n",
      " [  470 45116]]\n",
      "max_samples = 4100\n",
      "[[  860    18]\n",
      " [  359 45227]]\n",
      "max_samples = 5100\n",
      "[[  859    19]\n",
      " [  341 45245]]\n",
      "max_samples = 6100\n",
      "[[  859    19]\n",
      " [  230 45356]]\n",
      "max_samples = 7100\n",
      "[[  859    19]\n",
      " [  168 45418]]\n",
      "max_samples = 8100\n",
      "[[  859    19]\n",
      " [  165 45421]]\n",
      "max_samples = 9100\n",
      "[[  845    33]\n",
      " [  164 45422]]\n",
      "n_estimators = 250\n",
      "max_samples = 100\n",
      "[[  862    16]\n",
      " [ 3416 42170]]\n",
      "max_samples = 1100\n",
      "[[  864    14]\n",
      " [  763 44823]]\n",
      "max_samples = 2100\n",
      "[[  864    14]\n",
      " [  565 45021]]\n",
      "max_samples = 3100\n",
      "[[  862    16]\n",
      " [  432 45154]]\n",
      "max_samples = 4100\n",
      "[[  860    18]\n",
      " [  352 45234]]\n",
      "max_samples = 5100\n",
      "[[  859    19]\n",
      " [  245 45341]]\n",
      "max_samples = 6100\n",
      "[[  859    19]\n",
      " [  215 45371]]\n",
      "max_samples = 7100\n",
      "[[  859    19]\n",
      " [  165 45421]]\n",
      "max_samples = 8100\n",
      "[[  858    20]\n",
      " [  164 45422]]\n",
      "max_samples = 9100\n",
      "[[  835    43]\n",
      " [   99 45487]]\n",
      "n_estimators = 260\n",
      "max_samples = 100\n",
      "[[  860    18]\n",
      " [ 3725 41861]]\n",
      "max_samples = 1100\n",
      "[[  863    15]\n",
      " [  875 44711]]\n",
      "max_samples = 2100\n",
      "[[  860    18]\n",
      " [  536 45050]]\n",
      "max_samples = 3100\n",
      "[[  860    18]\n",
      " [  445 45141]]\n",
      "max_samples = 4100\n",
      "[[  859    19]\n",
      " [  322 45264]]\n",
      "max_samples = 5100\n",
      "[[  859    19]\n",
      " [  265 45321]]\n",
      "max_samples = 6100\n",
      "[[  859    19]\n",
      " [  224 45362]]\n",
      "max_samples = 7100\n",
      "[[  859    19]\n",
      " [  159 45427]]\n",
      "max_samples = 8100\n",
      "[[  859    19]\n",
      " [  158 45428]]\n",
      "max_samples = 9100\n",
      "[[  837    41]\n",
      " [  143 45443]]\n",
      "n_estimators = 270\n",
      "max_samples = 100\n",
      "[[  862    16]\n",
      " [ 3222 42364]]\n",
      "max_samples = 1100\n",
      "[[  864    14]\n",
      " [  659 44927]]\n",
      "max_samples = 2100\n",
      "[[  861    17]\n",
      " [  495 45091]]\n",
      "max_samples = 3100\n",
      "[[  861    17]\n",
      " [  437 45149]]\n",
      "max_samples = 4100\n",
      "[[  860    18]\n",
      " [  452 45134]]\n",
      "max_samples = 5100\n",
      "[[  860    18]\n",
      " [  344 45242]]\n",
      "max_samples = 6100\n",
      "[[  859    19]\n",
      " [  203 45383]]\n",
      "max_samples = 7100\n",
      "[[  859    19]\n",
      " [  170 45416]]\n",
      "max_samples = 8100\n",
      "[[  859    19]\n",
      " [  132 45454]]\n",
      "max_samples = 9100\n",
      "[[  852    26]\n",
      " [  175 45411]]\n",
      "n_estimators = 280\n",
      "max_samples = 100\n",
      "[[  861    17]\n",
      " [ 4370 41216]]\n",
      "max_samples = 1100\n",
      "[[  865    13]\n",
      " [  680 44906]]\n",
      "max_samples = 2100\n",
      "[[  861    17]\n",
      " [  535 45051]]\n",
      "max_samples = 3100\n",
      "[[  861    17]\n",
      " [  369 45217]]\n",
      "max_samples = 4100\n",
      "[[  860    18]\n",
      " [  366 45220]]\n",
      "max_samples = 5100\n",
      "[[  860    18]\n",
      " [  362 45224]]\n",
      "max_samples = 6100\n",
      "[[  859    19]\n",
      " [  215 45371]]\n",
      "max_samples = 7100\n",
      "[[  859    19]\n",
      " [  145 45441]]\n",
      "max_samples = 8100\n",
      "[[  855    23]\n",
      " [  107 45479]]\n",
      "max_samples = 9100\n",
      "[[  837    41]\n",
      " [  119 45467]]\n",
      "n_estimators = 290\n",
      "max_samples = 100\n",
      "[[  861    17]\n",
      " [ 4027 41559]]\n",
      "max_samples = 1100\n",
      "[[  864    14]\n",
      " [  858 44728]]\n",
      "max_samples = 2100\n",
      "[[  863    15]\n",
      " [  610 44976]]\n",
      "max_samples = 3100\n",
      "[[  860    18]\n",
      " [  400 45186]]\n",
      "max_samples = 4100\n",
      "[[  860    18]\n",
      " [  350 45236]]\n",
      "max_samples = 5100\n",
      "[[  859    19]\n",
      " [  284 45302]]\n",
      "max_samples = 6100\n",
      "[[  859    19]\n",
      " [  173 45413]]\n",
      "max_samples = 7100\n",
      "[[  859    19]\n",
      " [  188 45398]]\n",
      "max_samples = 8100\n",
      "[[  853    25]\n",
      " [  110 45476]]\n",
      "max_samples = 9100\n",
      "[[  827    51]\n",
      " [  129 45457]]\n"
     ]
    }
   ],
   "source": [
    "GENE_executions_time_IF_Shuttle = []\n",
    "GENE_roc_auc_IF_Shuttle = []\n",
    "GENE_precisions_IF_Shuttle = []\n",
    "GENE_recalls_IF_Shuttle = []\n",
    "GENE_f1_scores_IF_Shuttle = []\n",
    "GENE_tn_IF_Shuttle = []\n",
    "GENE_fp_IF_Shuttle = []\n",
    "GENE_fn_IF_Shuttle = []\n",
    "GENE_tp_IF_Shuttle = []\n",
    "GENE_specificity_IF_Shuttle = []\n",
    "GENE_contamination_IF_Shuttle = []\n",
    "GENE_n_estimators_IF_Shuttle = []\n",
    "GENE_max_samples_IF_Shuttle = []\n",
    "\n",
    "contamination = 'auto'\n",
    "\n",
    "for j in range(10, 300, 10):\n",
    "    print(\"n_estimators = \"+str(j))\n",
    "    n_estimators = j\n",
    "    for k in range(100, 10100, 1000):\n",
    "        print(\"max_samples = \"+str(k))\n",
    "        max_samples = k\n",
    "        GENE_n_estimators_IF_Shuttle.append(j)\n",
    "        GENE_max_samples_IF_Shuttle.append(k)\n",
    "        #for f in np.arange(0., 0.5, 0.01):\n",
    "        #    print(\"contamination = \"+str(f))\n",
    "        #    contamination = f\n",
    "        #    GENE_contamination_IF_Shuttle.append(f)\n",
    "        start_IF_Shuttle = time()\n",
    "\n",
    "        # Instanciation, fit and predict on Shuttle\n",
    "        GENE_func_IF_Shuttle = IsolationForest(max_samples=max_samples, n_estimators=n_estimators, contamination=contamination, behaviour=\"new\")\n",
    "        GENE_func_IF_Shuttle.fit(X_Shuttle)\n",
    "        GENE_y_pred_IF_Shuttle = GENE_func_IF_Shuttle.predict(X_Shuttle)\n",
    "\n",
    "        # Calcul du temps d'exécution\n",
    "        GENE_exec_time_IF_Shuttle = time() - start_IF_Shuttle\n",
    "        GENE_executions_time_IF_Shuttle.append(GENE_exec_time_IF_Shuttle)\n",
    "\n",
    "        # Precision\n",
    "        GENE_precisions_IF_Shuttle.append(precision_score(y_transform_Shuttle, GENE_y_pred_IF_Shuttle))\n",
    "\n",
    "        # Recall\n",
    "        GENE_recalls_IF_Shuttle.append(recall_score(y_transform_Shuttle, GENE_y_pred_IF_Shuttle))\n",
    "\n",
    "        # f1_score\n",
    "        GENE_f1_scores_IF_Shuttle.append(f1_score(y_transform_Shuttle, GENE_y_pred_IF_Shuttle))\n",
    "\n",
    "        # Specificity\n",
    "        GENE_specificity_IF_Shuttle.append(specificity_score(y_transform_Shuttle, GENE_y_pred_IF_Shuttle))\n",
    "\n",
    "        # Matrice de confusion\n",
    "        print(confusion_matrix(y_transform_Shuttle, GENE_y_pred_IF_Shuttle))\n",
    "        ttn, tfp, tfn, ttp = confusion_matrix(y_transform_Shuttle, GENE_y_pred_IF_Shuttle).ravel()\n",
    "        tn = ttp\n",
    "        fp = tfn\n",
    "        fn = tfp\n",
    "        tp = ttn\n",
    "        GENE_tn_IF_Shuttle.append(tn)\n",
    "        GENE_fp_IF_Shuttle.append(fp)\n",
    "        GENE_fn_IF_Shuttle.append(fn)\n",
    "        GENE_tp_IF_Shuttle.append(tp)\n",
    "\n",
    "        # Calcul de l'aire sous la courbe ROC\n",
    "        GENE_y_DF_IF_Shuttle = GENE_func_IF_Shuttle.decision_function(X_Shuttle)\n",
    "        GENE_auc_IF_Shuttle = roc_auc_score(y_transform_Shuttle, GENE_y_DF_IF_Shuttle)\n",
    "        GENE_roc_auc_IF_Shuttle.append(GENE_auc_IF_Shuttle)"
   ]
  },
  {
   "cell_type": "code",
   "execution_count": 26,
   "metadata": {},
   "outputs": [
    {
     "name": "stdout",
     "output_type": "stream",
     "text": [
      "La meilleure est 0.9991657611381507 pour un temps d'exécution de 1.9468920230865479s obtenue avec une contamination de auto avec un max_samples de 1100 et avec un n_estimators de 90 donnant un rappel de 0.9871232395911025 et une spécificité de 0.9851936218678815\n"
     ]
    }
   ],
   "source": [
    "GENE_index = GENE_roc_auc_IF_Shuttle.index(max(GENE_roc_auc_IF_Shuttle))\n",
    "print(\"La meilleure est \"+str(max(GENE_roc_auc_IF_Shuttle))+\" pour un temps d'exécution de \"+str(GENE_executions_time_IF_Shuttle[GENE_index])+\"s obtenue avec une contamination de \"+str('auto')+\" avec un max_samples de \"+str(GENE_max_samples_IF_Shuttle[GENE_index])+\" et avec un n_estimators de \"+str(GENE_n_estimators_IF_Shuttle[GENE_index])+\" donnant un rappel de \"+str(GENE_recalls_IF_Shuttle[GENE_index])+\" et une spécificité de \"+str(GENE_specificity_IF_Shuttle[GENE_index]))\n"
   ]
  },
  {
   "cell_type": "code",
   "execution_count": 27,
   "metadata": {},
   "outputs": [
    {
     "data": {
      "image/png": "[encoded data removed]",
      "text/plain": [
       "<Figure size 432x288 with 2 Axes>"
      ]
     },
     "metadata": {
      "needs_background": "light"
     },
     "output_type": "display_data"
    }
   ],
   "source": [
    "plt.scatter(GENE_max_samples_IF_Shuttle,GENE_n_estimators_IF_Shuttle, c=GENE_roc_auc_IF_Shuttle, cmap=cm.hsv)\n",
    "plt.title(\"Compromis Spécificité_Rappel\")\n",
    "#plt.axis([0, 1, 0, 1])\n",
    "plt.xlabel('Max_samples')\n",
    "plt.ylabel('n_estimators')\n",
    "cbar= plt.colorbar()\n",
    "plt.show()"
   ]
  },
  {
   "cell_type": "code",
   "execution_count": 28,
   "metadata": {},
   "outputs": [
    {
     "data": {
      "text/plain": [
       "<mpl_toolkits.mplot3d.art3d.Path3DCollection at 0x1a38f01710>"
      ]
     },
     "execution_count": 28,
     "metadata": {},
     "output_type": "execute_result"
    },
    {
     "data": {
      "image/png": "[encoded data removed]",
      "text/plain": [
       "<Figure size 432x288 with 1 Axes>"
      ]
     },
     "metadata": {
      "needs_background": "light"
     },
     "output_type": "display_data"
    }
   ],
   "source": [
    "fig = plt.figure()\n",
    "ax = plt.axes(projection='3d')\n",
    "\n",
    "ax.scatter3D(GENE_max_samples_IF_Shuttle, GENE_n_estimators_IF_Shuttle, GENE_roc_auc_IF_Shuttle, c=GENE_roc_auc_IF_Shuttle, cmap='Greens')\n"
   ]
  },
  {
   "cell_type": "code",
   "execution_count": 23,
   "metadata": {},
   "outputs": [
    {
     "name": "stdout",
     "output_type": "stream",
     "text": [
      "[0.9959535042879226, 0.996213232652354, 0.9962092226093071, 0.9966599214661178, 0.9988534275049678, 0.9955249668528093, 0.9932030394976997, 0.9928144900619392, 0.9953489996679035, 0.9947120024560951, 0.9945613822411007, 0.9992215894321549, 0.9986570228421048, 0.9972016645401363, 0.9967266555781273, 0.9971157421847633, 0.9967058808068296, 0.9981210762166022, 0.9956729511828104, 0.9977784111674777, 0.9949863093882378, 0.9991186150245746, 0.9984525106467269, 0.9991062725867861, 0.9974723486919563, 0.9969486445654749, 0.9977905287430392, 0.9977860814678847, 0.996577272105381, 0.9966356613303029, 0.9929298693690377, 0.9981518073876137, 0.9977403095123618, 0.9983801924560822, 0.9965236549566081, 0.9976239807869717, 0.9975841551881162, 0.9973600050249213, 0.9953076000334596, 0.9958969389455082, 0.9947267933936877, 0.9991228124528101, 0.9982629392970926, 0.9969193625065922, 0.9983918852918816, 0.9967086291229363, 0.9959245470300347, 0.9974857904561873, 0.9974054896564877, 0.9965756855774467, 0.9941097589506908, 0.9986429189835387, 0.998490687255918, 0.9983405917194534, 0.9971989537010674, 0.9981795154109074, 0.9962683738673315, 0.9970383895787054, 0.997385152117298, 0.9965537615103226, 0.9956863179929658, 0.9985681772777819, 0.9980159156484821, 0.9984555962561739, 0.9976677039977606, 0.9973045265166033, 0.996152132588363, 0.9971475976669093, 0.9967386107531915, 0.9972813157378473, 0.9949321050992057, 0.9989341780291215, 0.9989416984213773, 0.9976144366346739, 0.998273632745217, 0.9978828971489166, 0.9979408116646931, 0.9966025815982549, 0.9971991285939105, 0.9960826001908633, 0.9946466175174472, 0.9987664058231522, 0.9984930233246091, 0.9984836290804625, 0.9979875580231993, 0.9972723587258085, 0.9976599712356239, 0.9979075570398018, 0.9976066663954994, 0.9970847611668331, 0.9955275402760728, 0.9986550990208299, 0.9987620834714572, 0.9979819364675263, 0.9978650580789151, 0.998225862014344, 0.9962658129364138, 0.997486315134717, 0.9973055633813163, 0.996986521358364, 0.9956253428524343, 0.9986780349679749, 0.9985837927102065, 0.9983492863922273, 0.9976923888733373, 0.9978450453407197, 0.9980739301030258, 0.9976767484562209, 0.9966456801917463, 0.9967913659300947, 0.9953130716809809, 0.9986982475837053, 0.998734375448163, 0.9986271661353088, 0.9975965475952885, 0.9978226090874122, 0.9971988412699538, 0.9977131261675974, 0.9959037347816994, 0.9968819854075408, 0.9954748225762076, 0.9989773640690348, 0.9984810806418908, 0.9982162678926622, 0.9970740927034006, 0.9979045588767763, 0.997385526887676, 0.9973995932692039, 0.9973535964514539, 0.9980942176728319, 0.9948877197940822, 0.9989173633314866, 0.9986785846311965, 0.9984542220981205, 0.997848518212891, 0.9981478348216049, 0.9977645446634846, 0.997029694905931, 0.9970475089912413, 0.9972408155523111, 0.9971504958911674, 0.998677010595608, 0.9986892780793208, 0.9974425169698526, 0.9982196907954498, 0.9972122080801092, 0.9978877691638334, 0.9970841115648444, 0.9971216760490847, 0.997158665885412, 0.9940597395975486, 0.9988197481403143, 0.998395957796658, 0.9986455048991485, 0.9975260907641889, 0.9978948398316351, 0.9974102867173285, 0.9969254837561027, 0.9974698752074606, 0.9964236912043991, 0.9950639243335608, 0.9987654314201688, 0.998617422105476, 0.9981360920164215, 0.9980737302254911, 0.9974107614264742, 0.9974367455060286, 0.9968089801378694, 0.996785069787741, 0.9969257336030215, 0.9947633459979071, 0.9982925711416615, 0.9987342755093955, 0.9985006436556322, 0.9981078343299061, 0.9978329777345422, 0.9972215773395641, 0.9971416513102423, 0.9970949799058119, 0.9972161056920427, 0.995532637153216, 0.998937376069682, 0.9989573138538017, 0.9979449341388533, 0.9979167264217214, 0.9978299046174409, 0.9976078656607097, 0.9976300770517904, 0.9970579026230629, 0.9968939530749511, 0.9962720341246918, 0.9988793116457545, 0.9987358745296757, 0.9985643046505406, 0.9976374475358947, 0.9975420559822998, 0.9975182955403225, 0.9975214935808829, 0.9967962629297029, 0.9967934896289045, 0.9937042324167982, 0.99896181109834, 0.9986286402321298, 0.9982600160881429, 0.9982340569932803, 0.9976095896044492, 0.9973999180701982, 0.9973937718359962, 0.9967451692348098, 0.9969868461593583, 0.994388113402918, 0.9989758524951761, 0.9983589804526766, 0.9987661559762334, 0.9983328714496628, 0.9980510691099562, 0.9975611692715873, 0.9972512341688249, 0.9970664973570692, 0.9967022455341614, 0.9952767689236804, 0.9989213608821875, 0.9986761361313923, 0.9983907110113635, 0.9983055631814388, 0.9980472964214826, 0.9973302857339308, 0.9971076221599027, 0.9970720439586666, 0.9972265992626317, 0.9957412843151001, 0.9990613750954791, 0.9984903999319619, 0.9984035531429893, 0.9977258183910719, 0.9981650742590015, 0.9972567058163464, 0.9967873433947022, 0.9971592155486334, 0.9971515452482264, 0.9944206934411285, 0.9991645618729404, 0.9987865684694988, 0.9983410414439073, 0.997747505103623, 0.9978543146614071, 0.9975890022183408, 0.9971854744597985, 0.9970128802082965, 0.9969463459738217, 0.9953455267957323, 0.999133006207097, 0.9987029447057788, 0.9984886260188384, 0.9981717951411171, 0.9979184753501529, 0.9979426105625083, 0.9972623773414029, 0.9964991699585664, 0.997360242379494, 0.9954621928144625, 0.998689228109937, 0.9987283041680362, 0.9982976430341131, 0.9980719812970593, 0.997657909998544, 0.9978910671431614, 0.9975799327751886, 0.9967077171816827, 0.9968772383160835, 0.995830504649801, 0.9989036967050289, 0.9984354835792111, 0.9983272748786818, 0.9979371638996787, 0.9981998029807139, 0.9980493451662167, 0.9973303606880065, 0.9964106491952383, 0.9968619226999619, 0.9945190831577491, 0.9991247612587768, 0.9989965148353603, 0.998589264357728, 0.9979444844143992, 0.9979283692881373, 0.9976482908921704, 0.9973773818781234, 0.9970939055640609, 0.9970462597566472]\n"
     ]
    },
    {
     "ename": "TypeError",
     "evalue": "Input z must be a 2D array.",
     "output_type": "error",
     "traceback": [
      "\u001b[0;31m---------------------------------------------------------------------------\u001b[0m",
      "\u001b[0;31mTypeError\u001b[0m                                 Traceback (most recent call last)",
      "\u001b[0;32m<ipython-input-23-aada9ae7b65c>\u001b[0m in \u001b[0;36m<module>\u001b[0;34m\u001b[0m\n\u001b[1;32m      1\u001b[0m \u001b[0mX\u001b[0m\u001b[0;34m,\u001b[0m \u001b[0mY\u001b[0m\u001b[0;34m,\u001b[0m \u001b[0mZ\u001b[0m \u001b[0;34m=\u001b[0m \u001b[0mnp\u001b[0m\u001b[0;34m.\u001b[0m\u001b[0mmeshgrid\u001b[0m\u001b[0;34m(\u001b[0m\u001b[0mGENE_max_samples_IF_Shuttle\u001b[0m\u001b[0;34m,\u001b[0m \u001b[0mGENE_n_estimators_IF_Shuttle\u001b[0m\u001b[0;34m,\u001b[0m \u001b[0mGENE_roc_auc_IF_Shuttle\u001b[0m\u001b[0;34m)\u001b[0m\u001b[0;34m\u001b[0m\u001b[0;34m\u001b[0m\u001b[0m\n\u001b[1;32m      2\u001b[0m \u001b[0mprint\u001b[0m\u001b[0;34m(\u001b[0m\u001b[0mGENE_roc_auc_IF_Shuttle\u001b[0m\u001b[0;34m)\u001b[0m\u001b[0;34m\u001b[0m\u001b[0;34m\u001b[0m\u001b[0m\n\u001b[0;32m----> 3\u001b[0;31m \u001b[0max\u001b[0m\u001b[0;34m.\u001b[0m\u001b[0mcontour3D\u001b[0m\u001b[0;34m(\u001b[0m\u001b[0mX\u001b[0m\u001b[0;34m,\u001b[0m\u001b[0mY\u001b[0m\u001b[0;34m,\u001b[0m\u001b[0mZ\u001b[0m\u001b[0;34m,\u001b[0m \u001b[0;36m50\u001b[0m\u001b[0;34m,\u001b[0m \u001b[0mcmap\u001b[0m\u001b[0;34m=\u001b[0m\u001b[0;34m'binary'\u001b[0m\u001b[0;34m)\u001b[0m\u001b[0;34m\u001b[0m\u001b[0;34m\u001b[0m\u001b[0m\n\u001b[0m",
      "\u001b[0;32m~/anaconda3/lib/python3.7/site-packages/mpl_toolkits/mplot3d/axes3d.py\u001b[0m in \u001b[0;36mcontour\u001b[0;34m(self, X, Y, Z, extend3d, stride, zdir, offset, *args, **kwargs)\u001b[0m\n\u001b[1;32m   2077\u001b[0m \u001b[0;34m\u001b[0m\u001b[0m\n\u001b[1;32m   2078\u001b[0m         \u001b[0mjX\u001b[0m\u001b[0;34m,\u001b[0m \u001b[0mjY\u001b[0m\u001b[0;34m,\u001b[0m \u001b[0mjZ\u001b[0m \u001b[0;34m=\u001b[0m \u001b[0mart3d\u001b[0m\u001b[0;34m.\u001b[0m\u001b[0mrotate_axes\u001b[0m\u001b[0;34m(\u001b[0m\u001b[0mX\u001b[0m\u001b[0;34m,\u001b[0m \u001b[0mY\u001b[0m\u001b[0;34m,\u001b[0m \u001b[0mZ\u001b[0m\u001b[0;34m,\u001b[0m \u001b[0mzdir\u001b[0m\u001b[0;34m)\u001b[0m\u001b[0;34m\u001b[0m\u001b[0;34m\u001b[0m\u001b[0m\n\u001b[0;32m-> 2079\u001b[0;31m         \u001b[0mcset\u001b[0m \u001b[0;34m=\u001b[0m \u001b[0msuper\u001b[0m\u001b[0;34m(\u001b[0m\u001b[0;34m)\u001b[0m\u001b[0;34m.\u001b[0m\u001b[0mcontour\u001b[0m\u001b[0;34m(\u001b[0m\u001b[0mjX\u001b[0m\u001b[0;34m,\u001b[0m \u001b[0mjY\u001b[0m\u001b[0;34m,\u001b[0m \u001b[0mjZ\u001b[0m\u001b[0;34m,\u001b[0m \u001b[0;34m*\u001b[0m\u001b[0margs\u001b[0m\u001b[0;34m,\u001b[0m \u001b[0;34m**\u001b[0m\u001b[0mkwargs\u001b[0m\u001b[0;34m)\u001b[0m\u001b[0;34m\u001b[0m\u001b[0;34m\u001b[0m\u001b[0m\n\u001b[0m\u001b[1;32m   2080\u001b[0m         \u001b[0mself\u001b[0m\u001b[0;34m.\u001b[0m\u001b[0madd_contour_set\u001b[0m\u001b[0;34m(\u001b[0m\u001b[0mcset\u001b[0m\u001b[0;34m,\u001b[0m \u001b[0mextend3d\u001b[0m\u001b[0;34m,\u001b[0m \u001b[0mstride\u001b[0m\u001b[0;34m,\u001b[0m \u001b[0mzdir\u001b[0m\u001b[0;34m,\u001b[0m \u001b[0moffset\u001b[0m\u001b[0;34m)\u001b[0m\u001b[0;34m\u001b[0m\u001b[0;34m\u001b[0m\u001b[0m\n\u001b[1;32m   2081\u001b[0m \u001b[0;34m\u001b[0m\u001b[0m\n",
      "\u001b[0;32m~/anaconda3/lib/python3.7/site-packages/matplotlib/__init__.py\u001b[0m in \u001b[0;36minner\u001b[0;34m(ax, data, *args, **kwargs)\u001b[0m\n\u001b[1;32m   1808\u001b[0m                         \u001b[0;34m\"the Matplotlib list!)\"\u001b[0m \u001b[0;34m%\u001b[0m \u001b[0;34m(\u001b[0m\u001b[0mlabel_namer\u001b[0m\u001b[0;34m,\u001b[0m \u001b[0mfunc\u001b[0m\u001b[0;34m.\u001b[0m\u001b[0m__name__\u001b[0m\u001b[0;34m)\u001b[0m\u001b[0;34m,\u001b[0m\u001b[0;34m\u001b[0m\u001b[0;34m\u001b[0m\u001b[0m\n\u001b[1;32m   1809\u001b[0m                         RuntimeWarning, stacklevel=2)\n\u001b[0;32m-> 1810\u001b[0;31m             \u001b[0;32mreturn\u001b[0m \u001b[0mfunc\u001b[0m\u001b[0;34m(\u001b[0m\u001b[0max\u001b[0m\u001b[0;34m,\u001b[0m \u001b[0;34m*\u001b[0m\u001b[0margs\u001b[0m\u001b[0;34m,\u001b[0m \u001b[0;34m**\u001b[0m\u001b[0mkwargs\u001b[0m\u001b[0;34m)\u001b[0m\u001b[0;34m\u001b[0m\u001b[0;34m\u001b[0m\u001b[0m\n\u001b[0m\u001b[1;32m   1811\u001b[0m \u001b[0;34m\u001b[0m\u001b[0m\n\u001b[1;32m   1812\u001b[0m         inner.__doc__ = _add_data_doc(inner.__doc__,\n",
      "\u001b[0;32m~/anaconda3/lib/python3.7/site-packages/matplotlib/axes/_axes.py\u001b[0m in \u001b[0;36mcontour\u001b[0;34m(self, *args, **kwargs)\u001b[0m\n\u001b[1;32m   6229\u001b[0m     \u001b[0;32mdef\u001b[0m \u001b[0mcontour\u001b[0m\u001b[0;34m(\u001b[0m\u001b[0mself\u001b[0m\u001b[0;34m,\u001b[0m \u001b[0;34m*\u001b[0m\u001b[0margs\u001b[0m\u001b[0;34m,\u001b[0m \u001b[0;34m**\u001b[0m\u001b[0mkwargs\u001b[0m\u001b[0;34m)\u001b[0m\u001b[0;34m:\u001b[0m\u001b[0;34m\u001b[0m\u001b[0;34m\u001b[0m\u001b[0m\n\u001b[1;32m   6230\u001b[0m         \u001b[0mkwargs\u001b[0m\u001b[0;34m[\u001b[0m\u001b[0;34m'filled'\u001b[0m\u001b[0;34m]\u001b[0m \u001b[0;34m=\u001b[0m \u001b[0;32mFalse\u001b[0m\u001b[0;34m\u001b[0m\u001b[0;34m\u001b[0m\u001b[0m\n\u001b[0;32m-> 6231\u001b[0;31m         \u001b[0mcontours\u001b[0m \u001b[0;34m=\u001b[0m \u001b[0mmcontour\u001b[0m\u001b[0;34m.\u001b[0m\u001b[0mQuadContourSet\u001b[0m\u001b[0;34m(\u001b[0m\u001b[0mself\u001b[0m\u001b[0;34m,\u001b[0m \u001b[0;34m*\u001b[0m\u001b[0margs\u001b[0m\u001b[0;34m,\u001b[0m \u001b[0;34m**\u001b[0m\u001b[0mkwargs\u001b[0m\u001b[0;34m)\u001b[0m\u001b[0;34m\u001b[0m\u001b[0;34m\u001b[0m\u001b[0m\n\u001b[0m\u001b[1;32m   6232\u001b[0m         \u001b[0mself\u001b[0m\u001b[0;34m.\u001b[0m\u001b[0mautoscale_view\u001b[0m\u001b[0;34m(\u001b[0m\u001b[0;34m)\u001b[0m\u001b[0;34m\u001b[0m\u001b[0;34m\u001b[0m\u001b[0m\n\u001b[1;32m   6233\u001b[0m         \u001b[0;32mreturn\u001b[0m \u001b[0mcontours\u001b[0m\u001b[0;34m\u001b[0m\u001b[0;34m\u001b[0m\u001b[0m\n",
      "\u001b[0;32m~/anaconda3/lib/python3.7/site-packages/matplotlib/contour.py\u001b[0m in \u001b[0;36m__init__\u001b[0;34m(self, ax, levels, filled, linewidths, linestyles, alpha, origin, extent, cmap, colors, norm, vmin, vmax, extend, antialiased, *args, **kwargs)\u001b[0m\n\u001b[1;32m    885\u001b[0m         \u001b[0mself\u001b[0m\u001b[0;34m.\u001b[0m\u001b[0m_transform\u001b[0m \u001b[0;34m=\u001b[0m \u001b[0mkwargs\u001b[0m\u001b[0;34m.\u001b[0m\u001b[0mpop\u001b[0m\u001b[0;34m(\u001b[0m\u001b[0;34m'transform'\u001b[0m\u001b[0;34m,\u001b[0m \u001b[0;32mNone\u001b[0m\u001b[0;34m)\u001b[0m\u001b[0;34m\u001b[0m\u001b[0;34m\u001b[0m\u001b[0m\n\u001b[1;32m    886\u001b[0m \u001b[0;34m\u001b[0m\u001b[0m\n\u001b[0;32m--> 887\u001b[0;31m         \u001b[0mkwargs\u001b[0m \u001b[0;34m=\u001b[0m \u001b[0mself\u001b[0m\u001b[0;34m.\u001b[0m\u001b[0m_process_args\u001b[0m\u001b[0;34m(\u001b[0m\u001b[0;34m*\u001b[0m\u001b[0margs\u001b[0m\u001b[0;34m,\u001b[0m \u001b[0;34m**\u001b[0m\u001b[0mkwargs\u001b[0m\u001b[0;34m)\u001b[0m\u001b[0;34m\u001b[0m\u001b[0;34m\u001b[0m\u001b[0m\n\u001b[0m\u001b[1;32m    888\u001b[0m         \u001b[0mself\u001b[0m\u001b[0;34m.\u001b[0m\u001b[0m_process_levels\u001b[0m\u001b[0;34m(\u001b[0m\u001b[0;34m)\u001b[0m\u001b[0;34m\u001b[0m\u001b[0;34m\u001b[0m\u001b[0m\n\u001b[1;32m    889\u001b[0m \u001b[0;34m\u001b[0m\u001b[0m\n",
      "\u001b[0;32m~/anaconda3/lib/python3.7/site-packages/matplotlib/contour.py\u001b[0m in \u001b[0;36m_process_args\u001b[0;34m(self, *args, **kwargs)\u001b[0m\n\u001b[1;32m   1491\u001b[0m                 \u001b[0mself\u001b[0m\u001b[0;34m.\u001b[0m\u001b[0m_corner_mask\u001b[0m \u001b[0;34m=\u001b[0m \u001b[0mmpl\u001b[0m\u001b[0;34m.\u001b[0m\u001b[0mrcParams\u001b[0m\u001b[0;34m[\u001b[0m\u001b[0;34m'contour.corner_mask'\u001b[0m\u001b[0;34m]\u001b[0m\u001b[0;34m\u001b[0m\u001b[0;34m\u001b[0m\u001b[0m\n\u001b[1;32m   1492\u001b[0m \u001b[0;34m\u001b[0m\u001b[0m\n\u001b[0;32m-> 1493\u001b[0;31m             \u001b[0mx\u001b[0m\u001b[0;34m,\u001b[0m \u001b[0my\u001b[0m\u001b[0;34m,\u001b[0m \u001b[0mz\u001b[0m \u001b[0;34m=\u001b[0m \u001b[0mself\u001b[0m\u001b[0;34m.\u001b[0m\u001b[0m_contour_args\u001b[0m\u001b[0;34m(\u001b[0m\u001b[0margs\u001b[0m\u001b[0;34m,\u001b[0m \u001b[0mkwargs\u001b[0m\u001b[0;34m)\u001b[0m\u001b[0;34m\u001b[0m\u001b[0;34m\u001b[0m\u001b[0m\n\u001b[0m\u001b[1;32m   1494\u001b[0m \u001b[0;34m\u001b[0m\u001b[0m\n\u001b[1;32m   1495\u001b[0m             \u001b[0m_mask\u001b[0m \u001b[0;34m=\u001b[0m \u001b[0mma\u001b[0m\u001b[0;34m.\u001b[0m\u001b[0mgetmask\u001b[0m\u001b[0;34m(\u001b[0m\u001b[0mz\u001b[0m\u001b[0;34m)\u001b[0m\u001b[0;34m\u001b[0m\u001b[0;34m\u001b[0m\u001b[0m\n",
      "\u001b[0;32m~/anaconda3/lib/python3.7/site-packages/matplotlib/contour.py\u001b[0m in \u001b[0;36m_contour_args\u001b[0;34m(self, args, kwargs)\u001b[0m\n\u001b[1;32m   1549\u001b[0m             \u001b[0margs\u001b[0m \u001b[0;34m=\u001b[0m \u001b[0margs\u001b[0m\u001b[0;34m[\u001b[0m\u001b[0;36m1\u001b[0m\u001b[0;34m:\u001b[0m\u001b[0;34m]\u001b[0m\u001b[0;34m\u001b[0m\u001b[0;34m\u001b[0m\u001b[0m\n\u001b[1;32m   1550\u001b[0m         \u001b[0;32melif\u001b[0m \u001b[0mNargs\u001b[0m \u001b[0;34m<=\u001b[0m \u001b[0;36m4\u001b[0m\u001b[0;34m:\u001b[0m\u001b[0;34m\u001b[0m\u001b[0;34m\u001b[0m\u001b[0m\n\u001b[0;32m-> 1551\u001b[0;31m             \u001b[0mx\u001b[0m\u001b[0;34m,\u001b[0m \u001b[0my\u001b[0m\u001b[0;34m,\u001b[0m \u001b[0mz\u001b[0m \u001b[0;34m=\u001b[0m \u001b[0mself\u001b[0m\u001b[0;34m.\u001b[0m\u001b[0m_check_xyz\u001b[0m\u001b[0;34m(\u001b[0m\u001b[0margs\u001b[0m\u001b[0;34m[\u001b[0m\u001b[0;34m:\u001b[0m\u001b[0;36m3\u001b[0m\u001b[0;34m]\u001b[0m\u001b[0;34m,\u001b[0m \u001b[0mkwargs\u001b[0m\u001b[0;34m)\u001b[0m\u001b[0;34m\u001b[0m\u001b[0;34m\u001b[0m\u001b[0m\n\u001b[0m\u001b[1;32m   1552\u001b[0m             \u001b[0margs\u001b[0m \u001b[0;34m=\u001b[0m \u001b[0margs\u001b[0m\u001b[0;34m[\u001b[0m\u001b[0;36m3\u001b[0m\u001b[0;34m:\u001b[0m\u001b[0;34m]\u001b[0m\u001b[0;34m\u001b[0m\u001b[0;34m\u001b[0m\u001b[0m\n\u001b[1;32m   1553\u001b[0m         \u001b[0;32melse\u001b[0m\u001b[0;34m:\u001b[0m\u001b[0;34m\u001b[0m\u001b[0;34m\u001b[0m\u001b[0m\n",
      "\u001b[0;32m~/anaconda3/lib/python3.7/site-packages/matplotlib/contour.py\u001b[0m in \u001b[0;36m_check_xyz\u001b[0;34m(self, args, kwargs)\u001b[0m\n\u001b[1;32m   1583\u001b[0m \u001b[0;34m\u001b[0m\u001b[0m\n\u001b[1;32m   1584\u001b[0m         \u001b[0;32mif\u001b[0m \u001b[0mz\u001b[0m\u001b[0;34m.\u001b[0m\u001b[0mndim\u001b[0m \u001b[0;34m!=\u001b[0m \u001b[0;36m2\u001b[0m\u001b[0;34m:\u001b[0m\u001b[0;34m\u001b[0m\u001b[0;34m\u001b[0m\u001b[0m\n\u001b[0;32m-> 1585\u001b[0;31m             \u001b[0;32mraise\u001b[0m \u001b[0mTypeError\u001b[0m\u001b[0;34m(\u001b[0m\u001b[0;34m\"Input z must be a 2D array.\"\u001b[0m\u001b[0;34m)\u001b[0m\u001b[0;34m\u001b[0m\u001b[0;34m\u001b[0m\u001b[0m\n\u001b[0m\u001b[1;32m   1586\u001b[0m         \u001b[0;32melif\u001b[0m \u001b[0mz\u001b[0m\u001b[0;34m.\u001b[0m\u001b[0mshape\u001b[0m\u001b[0;34m[\u001b[0m\u001b[0;36m0\u001b[0m\u001b[0;34m]\u001b[0m \u001b[0;34m<\u001b[0m \u001b[0;36m2\u001b[0m \u001b[0;32mor\u001b[0m \u001b[0mz\u001b[0m\u001b[0;34m.\u001b[0m\u001b[0mshape\u001b[0m\u001b[0;34m[\u001b[0m\u001b[0;36m1\u001b[0m\u001b[0;34m]\u001b[0m \u001b[0;34m<\u001b[0m \u001b[0;36m2\u001b[0m\u001b[0;34m:\u001b[0m\u001b[0;34m\u001b[0m\u001b[0;34m\u001b[0m\u001b[0m\n\u001b[1;32m   1587\u001b[0m             \u001b[0;32mraise\u001b[0m \u001b[0mTypeError\u001b[0m\u001b[0;34m(\u001b[0m\u001b[0;34m\"Input z must be at least a 2x2 array.\"\u001b[0m\u001b[0;34m)\u001b[0m\u001b[0;34m\u001b[0m\u001b[0;34m\u001b[0m\u001b[0m\n",
      "\u001b[0;31mTypeError\u001b[0m: Input z must be a 2D array."
     ]
    }
   ],
   "source": [
    "X, Y, Z = np.meshgrid(GENE_max_samples_IF_Shuttle, GENE_n_estimators_IF_Shuttle, GENE_roc_auc_IF_Shuttle)\n",
    "print(GENE_roc_auc_IF_Shuttle)\n",
    "ax.contour3D(X,Y,Z, 50, cmap='binary')"
   ]
  },
  {
   "cell_type": "markdown",
   "metadata": {},
   "source": [
    "### Interprétation du résultat de IsolationForest sur Shuttle"
   ]
  },
  {
   "cell_type": "markdown",
   "metadata": {},
   "source": [
    "###### Faisant varier n_estimators\n",
    "\n",
    "###### Faisant varier max_samples\n",
    "\n",
    "###### Faisant varier contamination\n",
    "\n",
    "###### Meilleure combinaison entre n_estimators et max_samples\n",
    "\n",
    "###### Meilleure combinaison entre n_estimators et contamination\n",
    "\n",
    "###### Meilleure combinaison entre max_samples et contamination\n",
    "\n",
    "###### Meilleure combinaison entre max_samples, n_estimators et contamination"
   ]
  },
  {
   "cell_type": "code",
   "execution_count": null,
   "metadata": {},
   "outputs": [],
   "source": []
  }
 ],
 "metadata": {
  "kernelspec": {
   "display_name": "Python 3",
   "language": "python",
   "name": "python3"
  },
  "language_info": {
   "codemirror_mode": {
    "name": "ipython",
    "version": 3
   },
   "file_extension": ".py",
   "mimetype": "text/x-python",
   "name": "python",
   "nbconvert_exporter": "python",
   "pygments_lexer": "ipython3",
   "version": "3.7.3"
  }
 },
 "nbformat": 4,
 "nbformat_minor": 2
}
