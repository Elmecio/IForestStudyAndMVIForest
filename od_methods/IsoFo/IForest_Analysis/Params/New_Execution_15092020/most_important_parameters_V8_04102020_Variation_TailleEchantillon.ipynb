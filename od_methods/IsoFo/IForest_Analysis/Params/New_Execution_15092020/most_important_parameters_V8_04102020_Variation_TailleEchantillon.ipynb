{
 "cells": [
  {
   "cell_type": "markdown",
   "metadata": {},
   "source": [
    "# Re-exécution pour modifier les légendes"
   ]
  },
  {
   "cell_type": "code",
   "execution_count": 1,
   "metadata": {},
   "outputs": [],
   "source": [
    "import numpy as np\n",
    "import pandas as pd\n",
    "import matplotlib.pyplot as plt\n",
    "from time import time\n",
    "from sklearn.ensemble import IsolationForest\n",
    "from sklearn.svm import OneClassSVM\n",
    "from sklearn.neighbors import LocalOutlierFactor\n",
    "from sklearn.metrics import confusion_matrix\n",
    "from sklearn.metrics import roc_auc_score\n",
    "#from matplotlib.mlab import frange\n",
    "import statistics\n",
    "from sklearn.metrics import confusion_matrix\n",
    "from sklearn.metrics import precision_score, recall_score\n",
    "from sklearn.metrics import f1_score\n",
    "from sklearn.metrics import roc_curve\n",
    "from imblearn.metrics import specificity_score\n",
    "from imblearn.metrics import sensitivity_score\n",
    "import matplotlib.cm as cm\n",
    "from mpl_toolkits import mplot3d\n",
    "from datetime import datetime\n",
    "\n",
    "import sys\n",
    "sys.path.append('../../../../../')\n",
    "from metrics import utilities_functions as uf\n",
    "u_functions = uf.functions()"
   ]
  },
  {
   "cell_type": "markdown",
   "metadata": {},
   "source": [
    "## Chargement du jeu de données Shuttle"
   ]
  },
  {
   "cell_type": "markdown",
   "metadata": {},
   "source": [
    "Shuttle contient 10 attributs dont le dernier est la classe à expliquer.\n",
    "Il y a 46464 observations dont 878 anormales.\n",
    "Avec le dernier attribut, nous avons les classes \"o\" pour les anomalies et \"n\" pour les observations normales."
   ]
  },
  {
   "cell_type": "code",
   "execution_count": 2,
   "metadata": {},
   "outputs": [
    {
     "data": {
      "text/html": [
       "<div>\n",
       "<style scoped>\n",
       "    .dataframe tbody tr th:only-of-type {\n",
       "        vertical-align: middle;\n",
       "    }\n",
       "\n",
       "    .dataframe tbody tr th {\n",
       "        vertical-align: top;\n",
       "    }\n",
       "\n",
       "    .dataframe thead th {\n",
       "        text-align: right;\n",
       "    }\n",
       "</style>\n",
       "<table border=\"1\" class=\"dataframe\">\n",
       "  <thead>\n",
       "    <tr style=\"text-align: right;\">\n",
       "      <th></th>\n",
       "      <th>0</th>\n",
       "      <th>1</th>\n",
       "      <th>2</th>\n",
       "      <th>3</th>\n",
       "      <th>4</th>\n",
       "      <th>5</th>\n",
       "      <th>6</th>\n",
       "      <th>7</th>\n",
       "      <th>8</th>\n",
       "    </tr>\n",
       "  </thead>\n",
       "  <tbody>\n",
       "    <tr>\n",
       "      <td>count</td>\n",
       "      <td>46464.000000</td>\n",
       "      <td>46464.000000</td>\n",
       "      <td>46464.000000</td>\n",
       "      <td>46464.000000</td>\n",
       "      <td>46464.000000</td>\n",
       "      <td>46464.000000</td>\n",
       "      <td>46464.000000</td>\n",
       "      <td>46464.000000</td>\n",
       "      <td>46464.000000</td>\n",
       "    </tr>\n",
       "    <tr>\n",
       "      <td>mean</td>\n",
       "      <td>44.775482</td>\n",
       "      <td>-0.712509</td>\n",
       "      <td>84.834108</td>\n",
       "      <td>0.279291</td>\n",
       "      <td>38.652763</td>\n",
       "      <td>2.289708</td>\n",
       "      <td>40.070334</td>\n",
       "      <td>46.180419</td>\n",
       "      <td>6.299888</td>\n",
       "    </tr>\n",
       "    <tr>\n",
       "      <td>std</td>\n",
       "      <td>8.753404</td>\n",
       "      <td>44.218007</td>\n",
       "      <td>8.731175</td>\n",
       "      <td>37.317203</td>\n",
       "      <td>15.902506</td>\n",
       "      <td>177.518356</td>\n",
       "      <td>10.969455</td>\n",
       "      <td>17.052467</td>\n",
       "      <td>15.005878</td>\n",
       "    </tr>\n",
       "    <tr>\n",
       "      <td>min</td>\n",
       "      <td>27.000000</td>\n",
       "      <td>-4475.000000</td>\n",
       "      <td>21.000000</td>\n",
       "      <td>-3939.000000</td>\n",
       "      <td>-188.000000</td>\n",
       "      <td>-12809.000000</td>\n",
       "      <td>-26.000000</td>\n",
       "      <td>-353.000000</td>\n",
       "      <td>-356.000000</td>\n",
       "    </tr>\n",
       "    <tr>\n",
       "      <td>25%</td>\n",
       "      <td>37.000000</td>\n",
       "      <td>0.000000</td>\n",
       "      <td>79.000000</td>\n",
       "      <td>0.000000</td>\n",
       "      <td>34.000000</td>\n",
       "      <td>-4.000000</td>\n",
       "      <td>34.000000</td>\n",
       "      <td>35.000000</td>\n",
       "      <td>0.000000</td>\n",
       "    </tr>\n",
       "    <tr>\n",
       "      <td>50%</td>\n",
       "      <td>43.000000</td>\n",
       "      <td>0.000000</td>\n",
       "      <td>83.000000</td>\n",
       "      <td>0.000000</td>\n",
       "      <td>42.000000</td>\n",
       "      <td>0.000000</td>\n",
       "      <td>39.000000</td>\n",
       "      <td>41.000000</td>\n",
       "      <td>2.000000</td>\n",
       "    </tr>\n",
       "    <tr>\n",
       "      <td>75%</td>\n",
       "      <td>49.000000</td>\n",
       "      <td>0.000000</td>\n",
       "      <td>87.000000</td>\n",
       "      <td>0.000000</td>\n",
       "      <td>46.000000</td>\n",
       "      <td>5.000000</td>\n",
       "      <td>43.000000</td>\n",
       "      <td>52.000000</td>\n",
       "      <td>2.000000</td>\n",
       "    </tr>\n",
       "    <tr>\n",
       "      <td>max</td>\n",
       "      <td>123.000000</td>\n",
       "      <td>1963.000000</td>\n",
       "      <td>149.000000</td>\n",
       "      <td>3830.000000</td>\n",
       "      <td>436.000000</td>\n",
       "      <td>15164.000000</td>\n",
       "      <td>105.000000</td>\n",
       "      <td>270.000000</td>\n",
       "      <td>266.000000</td>\n",
       "    </tr>\n",
       "  </tbody>\n",
       "</table>\n",
       "</div>"
      ],
      "text/plain": [
       "                  0             1             2             3             4  \\\n",
       "count  46464.000000  46464.000000  46464.000000  46464.000000  46464.000000   \n",
       "mean      44.775482     -0.712509     84.834108      0.279291     38.652763   \n",
       "std        8.753404     44.218007      8.731175     37.317203     15.902506   \n",
       "min       27.000000  -4475.000000     21.000000  -3939.000000   -188.000000   \n",
       "25%       37.000000      0.000000     79.000000      0.000000     34.000000   \n",
       "50%       43.000000      0.000000     83.000000      0.000000     42.000000   \n",
       "75%       49.000000      0.000000     87.000000      0.000000     46.000000   \n",
       "max      123.000000   1963.000000    149.000000   3830.000000    436.000000   \n",
       "\n",
       "                  5             6             7             8  \n",
       "count  46464.000000  46464.000000  46464.000000  46464.000000  \n",
       "mean       2.289708     40.070334     46.180419      6.299888  \n",
       "std      177.518356     10.969455     17.052467     15.005878  \n",
       "min   -12809.000000    -26.000000   -353.000000   -356.000000  \n",
       "25%       -4.000000     34.000000     35.000000      0.000000  \n",
       "50%        0.000000     39.000000     41.000000      2.000000  \n",
       "75%        5.000000     43.000000     52.000000      2.000000  \n",
       "max    15164.000000    105.000000    270.000000    266.000000  "
      ]
     },
     "execution_count": 2,
     "metadata": {},
     "output_type": "execute_result"
    }
   ],
   "source": [
    "data_brut_Shuttle = pd.read_csv('../../../../../datasets/datasets_publics/shuttle-unsupervised-ad_2019-06-14 17:33:02.493755.csv', header=None, index_col=None)\n",
    "X_Shuttle = data_brut_Shuttle[[0, 1, 2, 3, 4, 5, 6, 7, 8]]\n",
    "y_brut_Shuttle = data_brut_Shuttle[[9]]\n",
    "data_brut_Shuttle.describe()"
   ]
  },
  {
   "cell_type": "markdown",
   "metadata": {},
   "source": [
    "## Transformation de la classe à expliquer"
   ]
  },
  {
   "cell_type": "markdown",
   "metadata": {},
   "source": [
    "L'objectif ici est de remplacer les \"o\" par -1 et les \"n\" par 1 afin de faire les matrices de confusion avec la fonction dédiée de scikit-learn."
   ]
  },
  {
   "cell_type": "code",
   "execution_count": 3,
   "metadata": {},
   "outputs": [],
   "source": [
    "y_transform_Shuttle = y_brut_Shuttle\n",
    "y_transform_Shuttle = np.where(y_transform_Shuttle=='o',-1,1)\n",
    "#y_transform"
   ]
  },
  {
   "cell_type": "markdown",
   "metadata": {},
   "source": [
    "## General Parameters"
   ]
  },
  {
   "cell_type": "code",
   "execution_count": 4,
   "metadata": {},
   "outputs": [],
   "source": [
    "data_name = \"Shuttle\"\n",
    "method_name = \"IForest\"\n",
    "execution_object = \"ImpactDeTailleEchantillon\"\n",
    "save_fig=False"
   ]
  },
  {
   "cell_type": "markdown",
   "metadata": {},
   "source": [
    "## Shuttle"
   ]
  },
  {
   "cell_type": "markdown",
   "metadata": {},
   "source": [
    "### Exécution de Isolation Forest sur le jeux de données Shuttle en faisant varier n_estimators"
   ]
  },
  {
   "cell_type": "markdown",
   "metadata": {},
   "source": [
    "### Impact du nombre d'arbre sur les performances de IForest\n",
    "Utilisant les valeurs par défaut des paramètres de IForest au niveau de scikit-learn"
   ]
  },
  {
   "cell_type": "code",
   "execution_count": 5,
   "metadata": {},
   "outputs": [
    {
     "name": "stdout",
     "output_type": "stream",
     "text": [
      "max_samples = 100\n"
     ]
    },
    {
     "name": "stderr",
     "output_type": "stream",
     "text": [
      "/Users/maurrastogbe/opt/anaconda3/lib/python3.7/site-packages/sklearn/ensemble/_iforest.py:248: FutureWarning: 'behaviour' is deprecated in 0.22 and will be removed in 0.24. You should not pass or set this parameter.\n",
      "  FutureWarning\n"
     ]
    },
    {
     "name": "stdout",
     "output_type": "stream",
     "text": [
      "max_samples = 1100\n"
     ]
    },
    {
     "name": "stderr",
     "output_type": "stream",
     "text": [
      "/Users/maurrastogbe/opt/anaconda3/lib/python3.7/site-packages/sklearn/ensemble/_iforest.py:248: FutureWarning: 'behaviour' is deprecated in 0.22 and will be removed in 0.24. You should not pass or set this parameter.\n",
      "  FutureWarning\n"
     ]
    },
    {
     "name": "stdout",
     "output_type": "stream",
     "text": [
      "max_samples = 2100\n"
     ]
    },
    {
     "name": "stderr",
     "output_type": "stream",
     "text": [
      "/Users/maurrastogbe/opt/anaconda3/lib/python3.7/site-packages/sklearn/ensemble/_iforest.py:248: FutureWarning: 'behaviour' is deprecated in 0.22 and will be removed in 0.24. You should not pass or set this parameter.\n",
      "  FutureWarning\n"
     ]
    },
    {
     "name": "stdout",
     "output_type": "stream",
     "text": [
      "max_samples = 3100\n"
     ]
    },
    {
     "name": "stderr",
     "output_type": "stream",
     "text": [
      "/Users/maurrastogbe/opt/anaconda3/lib/python3.7/site-packages/sklearn/ensemble/_iforest.py:248: FutureWarning: 'behaviour' is deprecated in 0.22 and will be removed in 0.24. You should not pass or set this parameter.\n",
      "  FutureWarning\n"
     ]
    },
    {
     "name": "stdout",
     "output_type": "stream",
     "text": [
      "max_samples = 4100\n"
     ]
    },
    {
     "name": "stderr",
     "output_type": "stream",
     "text": [
      "/Users/maurrastogbe/opt/anaconda3/lib/python3.7/site-packages/sklearn/ensemble/_iforest.py:248: FutureWarning: 'behaviour' is deprecated in 0.22 and will be removed in 0.24. You should not pass or set this parameter.\n",
      "  FutureWarning\n"
     ]
    },
    {
     "name": "stdout",
     "output_type": "stream",
     "text": [
      "max_samples = 5100\n"
     ]
    },
    {
     "name": "stderr",
     "output_type": "stream",
     "text": [
      "/Users/maurrastogbe/opt/anaconda3/lib/python3.7/site-packages/sklearn/ensemble/_iforest.py:248: FutureWarning: 'behaviour' is deprecated in 0.22 and will be removed in 0.24. You should not pass or set this parameter.\n",
      "  FutureWarning\n"
     ]
    },
    {
     "name": "stdout",
     "output_type": "stream",
     "text": [
      "max_samples = 6100\n"
     ]
    },
    {
     "name": "stderr",
     "output_type": "stream",
     "text": [
      "/Users/maurrastogbe/opt/anaconda3/lib/python3.7/site-packages/sklearn/ensemble/_iforest.py:248: FutureWarning: 'behaviour' is deprecated in 0.22 and will be removed in 0.24. You should not pass or set this parameter.\n",
      "  FutureWarning\n"
     ]
    },
    {
     "name": "stdout",
     "output_type": "stream",
     "text": [
      "max_samples = 7100\n"
     ]
    },
    {
     "name": "stderr",
     "output_type": "stream",
     "text": [
      "/Users/maurrastogbe/opt/anaconda3/lib/python3.7/site-packages/sklearn/ensemble/_iforest.py:248: FutureWarning: 'behaviour' is deprecated in 0.22 and will be removed in 0.24. You should not pass or set this parameter.\n",
      "  FutureWarning\n"
     ]
    },
    {
     "name": "stdout",
     "output_type": "stream",
     "text": [
      "max_samples = 8100\n"
     ]
    },
    {
     "name": "stderr",
     "output_type": "stream",
     "text": [
      "/Users/maurrastogbe/opt/anaconda3/lib/python3.7/site-packages/sklearn/ensemble/_iforest.py:248: FutureWarning: 'behaviour' is deprecated in 0.22 and will be removed in 0.24. You should not pass or set this parameter.\n",
      "  FutureWarning\n"
     ]
    },
    {
     "name": "stdout",
     "output_type": "stream",
     "text": [
      "max_samples = 9100\n"
     ]
    },
    {
     "name": "stderr",
     "output_type": "stream",
     "text": [
      "/Users/maurrastogbe/opt/anaconda3/lib/python3.7/site-packages/sklearn/ensemble/_iforest.py:248: FutureWarning: 'behaviour' is deprecated in 0.22 and will be removed in 0.24. You should not pass or set this parameter.\n",
      "  FutureWarning\n"
     ]
    },
    {
     "name": "stdout",
     "output_type": "stream",
     "text": [
      "max_samples = 10100\n"
     ]
    },
    {
     "name": "stderr",
     "output_type": "stream",
     "text": [
      "/Users/maurrastogbe/opt/anaconda3/lib/python3.7/site-packages/sklearn/ensemble/_iforest.py:248: FutureWarning: 'behaviour' is deprecated in 0.22 and will be removed in 0.24. You should not pass or set this parameter.\n",
      "  FutureWarning\n"
     ]
    },
    {
     "name": "stdout",
     "output_type": "stream",
     "text": [
      "max_samples = 11100\n"
     ]
    },
    {
     "name": "stderr",
     "output_type": "stream",
     "text": [
      "/Users/maurrastogbe/opt/anaconda3/lib/python3.7/site-packages/sklearn/ensemble/_iforest.py:248: FutureWarning: 'behaviour' is deprecated in 0.22 and will be removed in 0.24. You should not pass or set this parameter.\n",
      "  FutureWarning\n"
     ]
    },
    {
     "name": "stdout",
     "output_type": "stream",
     "text": [
      "max_samples = 12100\n"
     ]
    },
    {
     "name": "stderr",
     "output_type": "stream",
     "text": [
      "/Users/maurrastogbe/opt/anaconda3/lib/python3.7/site-packages/sklearn/ensemble/_iforest.py:248: FutureWarning: 'behaviour' is deprecated in 0.22 and will be removed in 0.24. You should not pass or set this parameter.\n",
      "  FutureWarning\n"
     ]
    },
    {
     "name": "stdout",
     "output_type": "stream",
     "text": [
      "max_samples = 13100\n"
     ]
    },
    {
     "name": "stderr",
     "output_type": "stream",
     "text": [
      "/Users/maurrastogbe/opt/anaconda3/lib/python3.7/site-packages/sklearn/ensemble/_iforest.py:248: FutureWarning: 'behaviour' is deprecated in 0.22 and will be removed in 0.24. You should not pass or set this parameter.\n",
      "  FutureWarning\n"
     ]
    },
    {
     "name": "stdout",
     "output_type": "stream",
     "text": [
      "max_samples = 14100\n"
     ]
    },
    {
     "name": "stderr",
     "output_type": "stream",
     "text": [
      "/Users/maurrastogbe/opt/anaconda3/lib/python3.7/site-packages/sklearn/ensemble/_iforest.py:248: FutureWarning: 'behaviour' is deprecated in 0.22 and will be removed in 0.24. You should not pass or set this parameter.\n",
      "  FutureWarning\n"
     ]
    },
    {
     "name": "stdout",
     "output_type": "stream",
     "text": [
      "max_samples = 15100\n"
     ]
    },
    {
     "name": "stderr",
     "output_type": "stream",
     "text": [
      "/Users/maurrastogbe/opt/anaconda3/lib/python3.7/site-packages/sklearn/ensemble/_iforest.py:248: FutureWarning: 'behaviour' is deprecated in 0.22 and will be removed in 0.24. You should not pass or set this parameter.\n",
      "  FutureWarning\n"
     ]
    },
    {
     "name": "stdout",
     "output_type": "stream",
     "text": [
      "max_samples = 16100\n"
     ]
    },
    {
     "name": "stderr",
     "output_type": "stream",
     "text": [
      "/Users/maurrastogbe/opt/anaconda3/lib/python3.7/site-packages/sklearn/ensemble/_iforest.py:248: FutureWarning: 'behaviour' is deprecated in 0.22 and will be removed in 0.24. You should not pass or set this parameter.\n",
      "  FutureWarning\n"
     ]
    },
    {
     "name": "stdout",
     "output_type": "stream",
     "text": [
      "max_samples = 17100\n"
     ]
    },
    {
     "name": "stderr",
     "output_type": "stream",
     "text": [
      "/Users/maurrastogbe/opt/anaconda3/lib/python3.7/site-packages/sklearn/ensemble/_iforest.py:248: FutureWarning: 'behaviour' is deprecated in 0.22 and will be removed in 0.24. You should not pass or set this parameter.\n",
      "  FutureWarning\n"
     ]
    },
    {
     "name": "stdout",
     "output_type": "stream",
     "text": [
      "max_samples = 18100\n"
     ]
    },
    {
     "name": "stderr",
     "output_type": "stream",
     "text": [
      "/Users/maurrastogbe/opt/anaconda3/lib/python3.7/site-packages/sklearn/ensemble/_iforest.py:248: FutureWarning: 'behaviour' is deprecated in 0.22 and will be removed in 0.24. You should not pass or set this parameter.\n",
      "  FutureWarning\n"
     ]
    },
    {
     "name": "stdout",
     "output_type": "stream",
     "text": [
      "max_samples = 19100\n"
     ]
    },
    {
     "name": "stderr",
     "output_type": "stream",
     "text": [
      "/Users/maurrastogbe/opt/anaconda3/lib/python3.7/site-packages/sklearn/ensemble/_iforest.py:248: FutureWarning: 'behaviour' is deprecated in 0.22 and will be removed in 0.24. You should not pass or set this parameter.\n",
      "  FutureWarning\n"
     ]
    },
    {
     "name": "stdout",
     "output_type": "stream",
     "text": [
      "max_samples = 20100\n"
     ]
    },
    {
     "name": "stderr",
     "output_type": "stream",
     "text": [
      "/Users/maurrastogbe/opt/anaconda3/lib/python3.7/site-packages/sklearn/ensemble/_iforest.py:248: FutureWarning: 'behaviour' is deprecated in 0.22 and will be removed in 0.24. You should not pass or set this parameter.\n",
      "  FutureWarning\n"
     ]
    },
    {
     "name": "stdout",
     "output_type": "stream",
     "text": [
      "max_samples = 21100\n"
     ]
    },
    {
     "name": "stderr",
     "output_type": "stream",
     "text": [
      "/Users/maurrastogbe/opt/anaconda3/lib/python3.7/site-packages/sklearn/ensemble/_iforest.py:248: FutureWarning: 'behaviour' is deprecated in 0.22 and will be removed in 0.24. You should not pass or set this parameter.\n",
      "  FutureWarning\n"
     ]
    },
    {
     "name": "stdout",
     "output_type": "stream",
     "text": [
      "max_samples = 22100\n"
     ]
    },
    {
     "name": "stderr",
     "output_type": "stream",
     "text": [
      "/Users/maurrastogbe/opt/anaconda3/lib/python3.7/site-packages/sklearn/ensemble/_iforest.py:248: FutureWarning: 'behaviour' is deprecated in 0.22 and will be removed in 0.24. You should not pass or set this parameter.\n",
      "  FutureWarning\n"
     ]
    },
    {
     "name": "stdout",
     "output_type": "stream",
     "text": [
      "max_samples = 23100\n"
     ]
    },
    {
     "name": "stderr",
     "output_type": "stream",
     "text": [
      "/Users/maurrastogbe/opt/anaconda3/lib/python3.7/site-packages/sklearn/ensemble/_iforest.py:248: FutureWarning: 'behaviour' is deprecated in 0.22 and will be removed in 0.24. You should not pass or set this parameter.\n",
      "  FutureWarning\n"
     ]
    },
    {
     "name": "stdout",
     "output_type": "stream",
     "text": [
      "max_samples = 24100\n"
     ]
    },
    {
     "name": "stderr",
     "output_type": "stream",
     "text": [
      "/Users/maurrastogbe/opt/anaconda3/lib/python3.7/site-packages/sklearn/ensemble/_iforest.py:248: FutureWarning: 'behaviour' is deprecated in 0.22 and will be removed in 0.24. You should not pass or set this parameter.\n",
      "  FutureWarning\n"
     ]
    },
    {
     "name": "stdout",
     "output_type": "stream",
     "text": [
      "max_samples = 25100\n"
     ]
    },
    {
     "name": "stderr",
     "output_type": "stream",
     "text": [
      "/Users/maurrastogbe/opt/anaconda3/lib/python3.7/site-packages/sklearn/ensemble/_iforest.py:248: FutureWarning: 'behaviour' is deprecated in 0.22 and will be removed in 0.24. You should not pass or set this parameter.\n",
      "  FutureWarning\n"
     ]
    },
    {
     "name": "stdout",
     "output_type": "stream",
     "text": [
      "max_samples = 26100\n"
     ]
    },
    {
     "name": "stderr",
     "output_type": "stream",
     "text": [
      "/Users/maurrastogbe/opt/anaconda3/lib/python3.7/site-packages/sklearn/ensemble/_iforest.py:248: FutureWarning: 'behaviour' is deprecated in 0.22 and will be removed in 0.24. You should not pass or set this parameter.\n",
      "  FutureWarning\n"
     ]
    },
    {
     "name": "stdout",
     "output_type": "stream",
     "text": [
      "max_samples = 27100\n"
     ]
    },
    {
     "name": "stderr",
     "output_type": "stream",
     "text": [
      "/Users/maurrastogbe/opt/anaconda3/lib/python3.7/site-packages/sklearn/ensemble/_iforest.py:248: FutureWarning: 'behaviour' is deprecated in 0.22 and will be removed in 0.24. You should not pass or set this parameter.\n",
      "  FutureWarning\n"
     ]
    },
    {
     "name": "stdout",
     "output_type": "stream",
     "text": [
      "max_samples = 28100\n"
     ]
    },
    {
     "name": "stderr",
     "output_type": "stream",
     "text": [
      "/Users/maurrastogbe/opt/anaconda3/lib/python3.7/site-packages/sklearn/ensemble/_iforest.py:248: FutureWarning: 'behaviour' is deprecated in 0.22 and will be removed in 0.24. You should not pass or set this parameter.\n",
      "  FutureWarning\n"
     ]
    },
    {
     "name": "stdout",
     "output_type": "stream",
     "text": [
      "max_samples = 29100\n"
     ]
    },
    {
     "name": "stderr",
     "output_type": "stream",
     "text": [
      "/Users/maurrastogbe/opt/anaconda3/lib/python3.7/site-packages/sklearn/ensemble/_iforest.py:248: FutureWarning: 'behaviour' is deprecated in 0.22 and will be removed in 0.24. You should not pass or set this parameter.\n",
      "  FutureWarning\n"
     ]
    },
    {
     "name": "stdout",
     "output_type": "stream",
     "text": [
      "max_samples = 30100\n"
     ]
    },
    {
     "name": "stderr",
     "output_type": "stream",
     "text": [
      "/Users/maurrastogbe/opt/anaconda3/lib/python3.7/site-packages/sklearn/ensemble/_iforest.py:248: FutureWarning: 'behaviour' is deprecated in 0.22 and will be removed in 0.24. You should not pass or set this parameter.\n",
      "  FutureWarning\n"
     ]
    },
    {
     "name": "stdout",
     "output_type": "stream",
     "text": [
      "max_samples = 31100\n"
     ]
    },
    {
     "name": "stderr",
     "output_type": "stream",
     "text": [
      "/Users/maurrastogbe/opt/anaconda3/lib/python3.7/site-packages/sklearn/ensemble/_iforest.py:248: FutureWarning: 'behaviour' is deprecated in 0.22 and will be removed in 0.24. You should not pass or set this parameter.\n",
      "  FutureWarning\n"
     ]
    },
    {
     "name": "stdout",
     "output_type": "stream",
     "text": [
      "max_samples = 32100\n"
     ]
    },
    {
     "name": "stderr",
     "output_type": "stream",
     "text": [
      "/Users/maurrastogbe/opt/anaconda3/lib/python3.7/site-packages/sklearn/ensemble/_iforest.py:248: FutureWarning: 'behaviour' is deprecated in 0.22 and will be removed in 0.24. You should not pass or set this parameter.\n",
      "  FutureWarning\n"
     ]
    },
    {
     "name": "stdout",
     "output_type": "stream",
     "text": [
      "max_samples = 33100\n"
     ]
    },
    {
     "name": "stderr",
     "output_type": "stream",
     "text": [
      "/Users/maurrastogbe/opt/anaconda3/lib/python3.7/site-packages/sklearn/ensemble/_iforest.py:248: FutureWarning: 'behaviour' is deprecated in 0.22 and will be removed in 0.24. You should not pass or set this parameter.\n",
      "  FutureWarning\n"
     ]
    },
    {
     "name": "stdout",
     "output_type": "stream",
     "text": [
      "max_samples = 34100\n"
     ]
    },
    {
     "name": "stderr",
     "output_type": "stream",
     "text": [
      "/Users/maurrastogbe/opt/anaconda3/lib/python3.7/site-packages/sklearn/ensemble/_iforest.py:248: FutureWarning: 'behaviour' is deprecated in 0.22 and will be removed in 0.24. You should not pass or set this parameter.\n",
      "  FutureWarning\n"
     ]
    },
    {
     "name": "stdout",
     "output_type": "stream",
     "text": [
      "max_samples = 35100\n"
     ]
    },
    {
     "name": "stderr",
     "output_type": "stream",
     "text": [
      "/Users/maurrastogbe/opt/anaconda3/lib/python3.7/site-packages/sklearn/ensemble/_iforest.py:248: FutureWarning: 'behaviour' is deprecated in 0.22 and will be removed in 0.24. You should not pass or set this parameter.\n",
      "  FutureWarning\n"
     ]
    },
    {
     "name": "stdout",
     "output_type": "stream",
     "text": [
      "max_samples = 36100\n"
     ]
    },
    {
     "name": "stderr",
     "output_type": "stream",
     "text": [
      "/Users/maurrastogbe/opt/anaconda3/lib/python3.7/site-packages/sklearn/ensemble/_iforest.py:248: FutureWarning: 'behaviour' is deprecated in 0.22 and will be removed in 0.24. You should not pass or set this parameter.\n",
      "  FutureWarning\n"
     ]
    },
    {
     "name": "stdout",
     "output_type": "stream",
     "text": [
      "max_samples = 37100\n"
     ]
    },
    {
     "name": "stderr",
     "output_type": "stream",
     "text": [
      "/Users/maurrastogbe/opt/anaconda3/lib/python3.7/site-packages/sklearn/ensemble/_iforest.py:248: FutureWarning: 'behaviour' is deprecated in 0.22 and will be removed in 0.24. You should not pass or set this parameter.\n",
      "  FutureWarning\n"
     ]
    },
    {
     "name": "stdout",
     "output_type": "stream",
     "text": [
      "max_samples = 38100\n"
     ]
    },
    {
     "name": "stderr",
     "output_type": "stream",
     "text": [
      "/Users/maurrastogbe/opt/anaconda3/lib/python3.7/site-packages/sklearn/ensemble/_iforest.py:248: FutureWarning: 'behaviour' is deprecated in 0.22 and will be removed in 0.24. You should not pass or set this parameter.\n",
      "  FutureWarning\n"
     ]
    },
    {
     "name": "stdout",
     "output_type": "stream",
     "text": [
      "max_samples = 39100\n"
     ]
    },
    {
     "name": "stderr",
     "output_type": "stream",
     "text": [
      "/Users/maurrastogbe/opt/anaconda3/lib/python3.7/site-packages/sklearn/ensemble/_iforest.py:248: FutureWarning: 'behaviour' is deprecated in 0.22 and will be removed in 0.24. You should not pass or set this parameter.\n",
      "  FutureWarning\n"
     ]
    },
    {
     "name": "stdout",
     "output_type": "stream",
     "text": [
      "max_samples = 40100\n"
     ]
    },
    {
     "name": "stderr",
     "output_type": "stream",
     "text": [
      "/Users/maurrastogbe/opt/anaconda3/lib/python3.7/site-packages/sklearn/ensemble/_iforest.py:248: FutureWarning: 'behaviour' is deprecated in 0.22 and will be removed in 0.24. You should not pass or set this parameter.\n",
      "  FutureWarning\n"
     ]
    },
    {
     "name": "stdout",
     "output_type": "stream",
     "text": [
      "max_samples = 41100\n"
     ]
    },
    {
     "name": "stderr",
     "output_type": "stream",
     "text": [
      "/Users/maurrastogbe/opt/anaconda3/lib/python3.7/site-packages/sklearn/ensemble/_iforest.py:248: FutureWarning: 'behaviour' is deprecated in 0.22 and will be removed in 0.24. You should not pass or set this parameter.\n",
      "  FutureWarning\n"
     ]
    },
    {
     "name": "stdout",
     "output_type": "stream",
     "text": [
      "max_samples = 42100\n"
     ]
    },
    {
     "name": "stderr",
     "output_type": "stream",
     "text": [
      "/Users/maurrastogbe/opt/anaconda3/lib/python3.7/site-packages/sklearn/ensemble/_iforest.py:248: FutureWarning: 'behaviour' is deprecated in 0.22 and will be removed in 0.24. You should not pass or set this parameter.\n",
      "  FutureWarning\n"
     ]
    },
    {
     "name": "stdout",
     "output_type": "stream",
     "text": [
      "max_samples = 43100\n"
     ]
    },
    {
     "name": "stderr",
     "output_type": "stream",
     "text": [
      "/Users/maurrastogbe/opt/anaconda3/lib/python3.7/site-packages/sklearn/ensemble/_iforest.py:248: FutureWarning: 'behaviour' is deprecated in 0.22 and will be removed in 0.24. You should not pass or set this parameter.\n",
      "  FutureWarning\n"
     ]
    },
    {
     "name": "stdout",
     "output_type": "stream",
     "text": [
      "max_samples = 44100\n"
     ]
    },
    {
     "name": "stderr",
     "output_type": "stream",
     "text": [
      "/Users/maurrastogbe/opt/anaconda3/lib/python3.7/site-packages/sklearn/ensemble/_iforest.py:248: FutureWarning: 'behaviour' is deprecated in 0.22 and will be removed in 0.24. You should not pass or set this parameter.\n",
      "  FutureWarning\n"
     ]
    },
    {
     "name": "stdout",
     "output_type": "stream",
     "text": [
      "max_samples = 45100\n"
     ]
    },
    {
     "name": "stderr",
     "output_type": "stream",
     "text": [
      "/Users/maurrastogbe/opt/anaconda3/lib/python3.7/site-packages/sklearn/ensemble/_iforest.py:248: FutureWarning: 'behaviour' is deprecated in 0.22 and will be removed in 0.24. You should not pass or set this parameter.\n",
      "  FutureWarning\n"
     ]
    },
    {
     "name": "stdout",
     "output_type": "stream",
     "text": [
      "max_samples = 46100\n"
     ]
    },
    {
     "name": "stderr",
     "output_type": "stream",
     "text": [
      "/Users/maurrastogbe/opt/anaconda3/lib/python3.7/site-packages/sklearn/ensemble/_iforest.py:248: FutureWarning: 'behaviour' is deprecated in 0.22 and will be removed in 0.24. You should not pass or set this parameter.\n",
      "  FutureWarning\n"
     ]
    }
   ],
   "source": [
    "MS_executions_time_IF_Shuttle = []\n",
    "MS_roc_auc_IF_Shuttle = []\n",
    "MS_precisions_IF_Shuttle = []\n",
    "MS_recalls_IF_Shuttle = []\n",
    "MS_f1_scores_IF_Shuttle = []\n",
    "MS_tn_IF_Shuttle = []\n",
    "MS_fp_IF_Shuttle = []\n",
    "MS_fn_IF_Shuttle = []\n",
    "MS_tp_IF_Shuttle = []\n",
    "MS_specificity_IF_Shuttle = []\n",
    "MS_max_samples_IF_Shuttle = []\n",
    "\n",
    "for j in range(100, len(X_Shuttle), 1000):\n",
    "    print(\"max_samples = \"+str(j))\n",
    "    max_samples = j\n",
    "    MS_max_samples_IF_Shuttle.append(j)\n",
    "    start_IF_Shuttle = time()\n",
    "        \n",
    "    # Instanciation, fit and predict on Shuttle\n",
    "    MS_func_IF_Shuttle = IsolationForest(max_samples=max_samples, behaviour=\"new\")\n",
    "    MS_func_IF_Shuttle.fit(X_Shuttle)\n",
    "    MS_y_pred_IF_Shuttle = MS_func_IF_Shuttle.predict(X_Shuttle)\n",
    "\n",
    "    # Calcul du temps d'exécution\n",
    "    MS_exec_time_IF_Shuttle = time() - start_IF_Shuttle\n",
    "    MS_executions_time_IF_Shuttle.append(MS_exec_time_IF_Shuttle)\n",
    "    \n",
    "    # Precision\n",
    "    MS_precisions_IF_Shuttle.append(precision_score(y_transform_Shuttle, MS_y_pred_IF_Shuttle))\n",
    "    \n",
    "    # Recall\n",
    "    MS_recalls_IF_Shuttle.append(recall_score(y_transform_Shuttle, MS_y_pred_IF_Shuttle))\n",
    "    \n",
    "    # f1_score\n",
    "    MS_f1_scores_IF_Shuttle.append(f1_score(y_transform_Shuttle, MS_y_pred_IF_Shuttle))\n",
    "    \n",
    "    # Specificity\n",
    "    MS_specificity_IF_Shuttle.append(specificity_score(y_transform_Shuttle, MS_y_pred_IF_Shuttle))\n",
    "    \n",
    "    # Matrice de confusion\n",
    "    ttn, tfp, tfn, ttp = confusion_matrix(y_transform_Shuttle, MS_y_pred_IF_Shuttle).ravel()\n",
    "    tn = ttp\n",
    "    fp = tfn\n",
    "    fn = tfp\n",
    "    tp = ttn\n",
    "    MS_tn_IF_Shuttle.append(tn)\n",
    "    MS_fp_IF_Shuttle.append(fp)\n",
    "    MS_fn_IF_Shuttle.append(fn)\n",
    "    MS_tp_IF_Shuttle.append(tp)\n",
    "    \n",
    "    # Calcul de l'aire sous la courbe ROC\n",
    "    MS_y_DF_IF_Shuttle = MS_func_IF_Shuttle.decision_function(X_Shuttle)\n",
    "    MS_auc_IF_Shuttle = roc_auc_score(y_transform_Shuttle, MS_y_DF_IF_Shuttle)\n",
    "    MS_roc_auc_IF_Shuttle.append(MS_auc_IF_Shuttle)\n",
    "    "
   ]
  },
  {
   "cell_type": "code",
   "execution_count": 6,
   "metadata": {},
   "outputs": [
    {
     "name": "stdout",
     "output_type": "stream",
     "text": [
      "['Sample Size', 'CPU Time(s)', 'ROC AUC', 'Recall', 'Specificity', 'Precision', 'F1 Score', 'TN', 'FP', 'FN', 'TP']\n",
      "[[100, 1100, 2100, 3100, 4100, 5100, 6100, 7100, 8100, 9100, 10100, 11100, 12100, 13100, 14100, 15100, 16100, 17100, 18100, 19100, 20100, 21100, 22100, 23100, 24100, 25100, 26100, 27100, 28100, 29100, 30100, 31100, 32100, 33100, 34100, 35100, 36100, 37100, 38100, 39100, 40100, 41100, 42100, 43100, 44100, 45100, 46100], [2.2997827529907227, 2.8913581371307373, 2.41323184967041, 4.443613052368164, 2.962307929992676, 2.7697830200195312, 2.8118162155151367, 2.8224010467529297, 2.8264832496643066, 2.9876201152801514, 3.060944080352783, 3.0184099674224854, 3.030498743057251, 3.0182456970214844, 3.026702880859375, 3.029710054397583, 3.041606903076172, 3.2927041053771973, 3.253340005874634, 3.5252108573913574, 3.4012179374694824, 4.574434041976929, 3.5392839908599854, 4.055992841720581, 5.238908767700195, 4.969115734100342, 4.134817838668823, 4.144684076309204, 3.916595935821533, 3.9839489459991455, 4.573431015014648, 3.609356164932251, 3.804738998413086, 3.7409441471099854, 3.5336849689483643, 3.661365032196045, 3.682009220123291, 3.984560966491699, 3.732686996459961, 3.717162847518921, 3.7560489177703857, 3.749476909637451, 3.927046060562134, 3.9373040199279785, 3.7823688983917236, 4.011015892028809, 4.1850810050964355], [0.9950992526878781, 0.9990863597873582, 0.9988428339956108, 0.998832240486254, 0.9985941613573365, 0.9976414450865956, 0.9970695454894787, 0.9978546019853636, 0.9962884990366403, 0.9975255161162756, 0.9964066766292293, 0.9969408993109922, 0.9959690947356558, 0.996617397520539, 0.9972029637441141, 0.9963372941398806, 0.9965014435655275, 0.9964126854476263, 0.9953518729074696, 0.996212795420246, 0.9959807875714549, 0.9956904654518176, 0.9960903204606538, 0.9959996010444401, 0.9969745786756454, 0.9962331079747438, 0.995405390117475, 0.9955487023100945, 0.9943857898265731, 0.9954074888315927, 0.9942607914131011, 0.9947630336892587, 0.9942742081926403, 0.995358169049823, 0.9948248208322761, 0.9948291306916252, 0.9938395120309786, 0.9947817722081681, 0.9947324524263983, 0.9956389470171625, 0.9947748764332096, 0.9950204259849991, 0.994996190833876, 0.9944665903201109, 0.9953828539253999, 0.9937729153347742, 0.9945765479490716], [0.8556574386873163, 0.9772517878295968, 0.9858289825823717, 0.9898214364059141, 0.9887465449918835, 0.9901066116790243, 0.9924976966612556, 0.9963365945685079, 0.9953933225112973, 0.9937042074321063, 0.9971263107094284, 0.9969288816741982, 0.9975650418988286, 0.9987276795507393, 0.9984863773965691, 0.9989031720264994, 0.9981134558855789, 0.998288948361339, 0.9988592989075593, 0.9989470451454394, 0.9988812354670293, 0.9991006010617295, 0.9990786645022595, 0.9991006010617295, 0.9992322204185495, 0.9991225376211995, 0.9991664107401396, 0.9991664107401396, 0.9991444741806695, 0.9992322204185495, 0.9992760935374896, 0.9992102838590795, 0.9991664107401396, 0.9991883472996095, 0.9991444741806695, 0.9991664107401396, 0.9991444741806695, 0.9992102838590795, 0.9992102838590795, 0.9992541569780196, 0.9992322204185495, 0.9992102838590795, 0.9992541569780196, 0.9992541569780196, 0.9992102838590795, 0.9992541569780196, 0.9992760935374896], [0.9863325740318907, 0.9874715261958997, 0.9851936218678815, 0.9806378132118451, 0.9840546697038725, 0.979498861047836, 0.9806378132118451, 0.9749430523917996, 0.9783599088838268, 0.979498861047836, 0.9669703872437357, 0.94874715261959, 0.9259681093394078, 0.7927107061503417, 0.8952164009111617, 0.9271070615034168, 0.9009111617312073, 0.7255125284738041, 0.6719817767653758, 0.6161731207289294, 0.7027334851936219, 0.591116173120729, 0.6617312072892938, 0.643507972665148, 0.4920273348519362, 0.4624145785876993, 0.5034168564920274, 0.5353075170842825, 0.3416856492027335, 0.32915717539863326, 0.3952164009111617, 0.44874715261959, 0.38724373576309795, 0.3314350797266515, 0.4168564920273349, 0.3109339407744875, 0.48519362186788156, 0.32915717539863326, 0.3143507972665148, 0.30751708428246016, 0.30296127562642367, 0.2767653758542141, 0.2460136674259681, 0.2437357630979499, 0.25740318906605925, 0.17084282460136674, 0.2528473804100228], [0.9996924496386284, 0.9997531418312388, 0.999710809067248, 0.9996233855424356, 0.9996894892097501, 0.9996013553916683, 0.9996244006981728, 0.999515855725006, 0.9995814517017293, 0.9996027980669506, 0.9993624131562747, 0.9990107933437383, 0.998572683355292, 0.9960183767228178, 0.9979828542612204, 0.9985964912280701, 0.9980915611906903, 0.9947321252923561, 0.9937148094801623, 0.9926539509536785, 0.9943008122980173, 0.9921793307772743, 0.9935210837459916, 0.9931745824065594, 0.9903037154597039, 0.9897431439871355, 0.9905184411969381, 0.9911219427278266, 0.9874688346883469, 0.9872345036844387, 0.9884775627115702, 0.9894860320632576, 0.9883261728073601, 0.9872767470088434, 0.988883822922773, 0.9868914263428162, 0.9901736994282484, 0.9872342270096881, 0.9869561449124632, 0.9868284228769497, 0.9867426293785065, 0.9862509472772545, 0.9856753364781236, 0.9856326813224857, 0.9858880567940782, 0.9842696629213483, 0.9858036313272306], [0.9220840622192804, 0.9883744148381515, 0.9927213686919447, 0.9946982639845687, 0.9941879059918609, 0.9948313294173399, 0.9960483009895759, 0.9979236929702177, 0.9974829909541553, 0.9966447751999384, 0.9982431096958383, 0.9979687517155813, 0.9980686083005947, 0.9973711882229233, 0.9982345523329129, 0.9987498080845745, 0.9981025084180625, 0.9965073630043247, 0.9962804130929458, 0.9957905555373329, 0.9965857608719442, 0.995627937479506, 0.9962921237708773, 0.9961287782686672, 0.9947479335684569, 0.9944107244225143, 0.99482363219395, 0.9951279194249635, 0.9932723446478613, 0.993197130584567, 0.9938474964546744, 0.9943243833224186, 0.9937167292084824, 0.9931968339111662, 0.9939876698128649, 0.9929909852952398, 0.9946388600753399, 0.9931861542654674, 0.993045411933986, 0.9930024197240207, 0.9929481520234553, 0.9926883220189384, 0.9924183006535947, 0.9923966798108973, 0.9925044668148342, 0.9917053099079093, 0.9924941445612506], [39006, 44549, 44940, 45122, 45073, 45135, 45244, 45419, 45376, 45299, 45455, 45446, 45475, 45528, 45517, 45536, 45500, 45508, 45534, 45538, 45535, 45545, 45544, 45545, 45551, 45546, 45548, 45548, 45547, 45551, 45553, 45550, 45548, 45549, 45547, 45548, 45547, 45550, 45550, 45552, 45551, 45550, 45552, 45552, 45550, 45552, 45553], [6580, 1037, 646, 464, 513, 451, 342, 167, 210, 287, 131, 140, 111, 58, 69, 50, 86, 78, 52, 48, 51, 41, 42, 41, 35, 40, 38, 38, 39, 35, 33, 36, 38, 37, 39, 38, 39, 36, 36, 34, 35, 36, 34, 34, 36, 34, 33], [12, 11, 13, 17, 14, 18, 17, 22, 19, 18, 29, 45, 65, 182, 92, 64, 87, 241, 288, 337, 261, 359, 297, 313, 446, 472, 436, 408, 578, 589, 531, 484, 538, 587, 512, 605, 452, 589, 602, 608, 612, 635, 662, 664, 652, 728, 656], [866, 867, 865, 861, 864, 860, 861, 856, 859, 860, 849, 833, 813, 696, 786, 814, 791, 637, 590, 541, 617, 519, 581, 565, 432, 406, 442, 470, 300, 289, 347, 394, 340, 291, 366, 273, 426, 289, 276, 270, 266, 243, 216, 214, 226, 150, 222]]\n",
      "    Sample Size  CPU Time(s)   ROC AUC    Recall  Specificity  Precision  \\\n",
      "0           100     2.299783  0.995099  0.855657     0.986333   0.999692   \n",
      "1          1100     2.891358  0.999086  0.977252     0.987472   0.999753   \n",
      "2          2100     2.413232  0.998843  0.985829     0.985194   0.999711   \n",
      "3          3100     4.443613  0.998832  0.989821     0.980638   0.999623   \n",
      "4          4100     2.962308  0.998594  0.988747     0.984055   0.999689   \n",
      "5          5100     2.769783  0.997641  0.990107     0.979499   0.999601   \n",
      "6          6100     2.811816  0.997070  0.992498     0.980638   0.999624   \n",
      "7          7100     2.822401  0.997855  0.996337     0.974943   0.999516   \n",
      "8          8100     2.826483  0.996288  0.995393     0.978360   0.999581   \n",
      "9          9100     2.987620  0.997526  0.993704     0.979499   0.999603   \n",
      "10        10100     3.060944  0.996407  0.997126     0.966970   0.999362   \n",
      "11        11100     3.018410  0.996941  0.996929     0.948747   0.999011   \n",
      "12        12100     3.030499  0.995969  0.997565     0.925968   0.998573   \n",
      "13        13100     3.018246  0.996617  0.998728     0.792711   0.996018   \n",
      "14        14100     3.026703  0.997203  0.998486     0.895216   0.997983   \n",
      "15        15100     3.029710  0.996337  0.998903     0.927107   0.998596   \n",
      "16        16100     3.041607  0.996501  0.998113     0.900911   0.998092   \n",
      "17        17100     3.292704  0.996413  0.998289     0.725513   0.994732   \n",
      "18        18100     3.253340  0.995352  0.998859     0.671982   0.993715   \n",
      "19        19100     3.525211  0.996213  0.998947     0.616173   0.992654   \n",
      "20        20100     3.401218  0.995981  0.998881     0.702733   0.994301   \n",
      "21        21100     4.574434  0.995690  0.999101     0.591116   0.992179   \n",
      "22        22100     3.539284  0.996090  0.999079     0.661731   0.993521   \n",
      "23        23100     4.055993  0.996000  0.999101     0.643508   0.993175   \n",
      "24        24100     5.238909  0.996975  0.999232     0.492027   0.990304   \n",
      "25        25100     4.969116  0.996233  0.999123     0.462415   0.989743   \n",
      "26        26100     4.134818  0.995405  0.999166     0.503417   0.990518   \n",
      "27        27100     4.144684  0.995549  0.999166     0.535308   0.991122   \n",
      "28        28100     3.916596  0.994386  0.999144     0.341686   0.987469   \n",
      "29        29100     3.983949  0.995407  0.999232     0.329157   0.987235   \n",
      "30        30100     4.573431  0.994261  0.999276     0.395216   0.988478   \n",
      "31        31100     3.609356  0.994763  0.999210     0.448747   0.989486   \n",
      "32        32100     3.804739  0.994274  0.999166     0.387244   0.988326   \n",
      "33        33100     3.740944  0.995358  0.999188     0.331435   0.987277   \n",
      "34        34100     3.533685  0.994825  0.999144     0.416856   0.988884   \n",
      "35        35100     3.661365  0.994829  0.999166     0.310934   0.986891   \n",
      "36        36100     3.682009  0.993840  0.999144     0.485194   0.990174   \n",
      "37        37100     3.984561  0.994782  0.999210     0.329157   0.987234   \n",
      "38        38100     3.732687  0.994732  0.999210     0.314351   0.986956   \n",
      "39        39100     3.717163  0.995639  0.999254     0.307517   0.986828   \n",
      "40        40100     3.756049  0.994775  0.999232     0.302961   0.986743   \n",
      "41        41100     3.749477  0.995020  0.999210     0.276765   0.986251   \n",
      "42        42100     3.927046  0.994996  0.999254     0.246014   0.985675   \n",
      "43        43100     3.937304  0.994467  0.999254     0.243736   0.985633   \n",
      "44        44100     3.782369  0.995383  0.999210     0.257403   0.985888   \n",
      "45        45100     4.011016  0.993773  0.999254     0.170843   0.984270   \n",
      "46        46100     4.185081  0.994577  0.999276     0.252847   0.985804   \n",
      "\n",
      "    F1 Score     TN    FP   FN   TP  \n",
      "0   0.922084  39006  6580   12  866  \n",
      "1   0.988374  44549  1037   11  867  \n",
      "2   0.992721  44940   646   13  865  \n",
      "3   0.994698  45122   464   17  861  \n",
      "4   0.994188  45073   513   14  864  \n",
      "5   0.994831  45135   451   18  860  \n",
      "6   0.996048  45244   342   17  861  \n",
      "7   0.997924  45419   167   22  856  \n",
      "8   0.997483  45376   210   19  859  \n",
      "9   0.996645  45299   287   18  860  \n",
      "10  0.998243  45455   131   29  849  \n",
      "11  0.997969  45446   140   45  833  \n",
      "12  0.998069  45475   111   65  813  \n",
      "13  0.997371  45528    58  182  696  \n",
      "14  0.998235  45517    69   92  786  \n",
      "15  0.998750  45536    50   64  814  \n",
      "16  0.998103  45500    86   87  791  \n",
      "17  0.996507  45508    78  241  637  \n",
      "18  0.996280  45534    52  288  590  \n",
      "19  0.995791  45538    48  337  541  \n",
      "20  0.996586  45535    51  261  617  \n",
      "21  0.995628  45545    41  359  519  \n",
      "22  0.996292  45544    42  297  581  \n",
      "23  0.996129  45545    41  313  565  \n",
      "24  0.994748  45551    35  446  432  \n",
      "25  0.994411  45546    40  472  406  \n",
      "26  0.994824  45548    38  436  442  \n",
      "27  0.995128  45548    38  408  470  \n",
      "28  0.993272  45547    39  578  300  \n",
      "29  0.993197  45551    35  589  289  \n",
      "30  0.993847  45553    33  531  347  \n",
      "31  0.994324  45550    36  484  394  \n",
      "32  0.993717  45548    38  538  340  \n",
      "33  0.993197  45549    37  587  291  \n",
      "34  0.993988  45547    39  512  366  \n",
      "35  0.992991  45548    38  605  273  \n",
      "36  0.994639  45547    39  452  426  \n",
      "37  0.993186  45550    36  589  289  \n",
      "38  0.993045  45550    36  602  276  \n",
      "39  0.993002  45552    34  608  270  \n",
      "40  0.992948  45551    35  612  266  \n",
      "41  0.992688  45550    36  635  243  \n",
      "42  0.992418  45552    34  662  216  \n",
      "43  0.992397  45552    34  664  214  \n",
      "44  0.992504  45550    36  652  226  \n",
      "45  0.991705  45552    34  728  150  \n",
      "46  0.992494  45553    33  656  222  \n",
      "directory_path = Figures/2020-10-04/ImpactDeTailleEchantillon/IForest\n",
      "Data well saved in = Figures/2020-10-04/ImpactDeTailleEchantillon/IForest/ImpactDeTailleEchantillon_IForest_Shuttle_2020-10-04-21-57-06-686354.csv\n"
     ]
    }
   ],
   "source": [
    "'''\n",
    "    Ajouter les données dans un tableau\n",
    "    Sauvegarder les données dans un fichier .csv\n",
    "'''\n",
    "\n",
    "data = []\n",
    "names = []\n",
    "names.append(\"Sample Size\")\n",
    "data.append(MS_max_samples_IF_Shuttle)\n",
    "\n",
    "names.append(\"CPU Time(s)\")\n",
    "data.append(MS_executions_time_IF_Shuttle)\n",
    "names.append(\"ROC AUC\")\n",
    "data.append(MS_roc_auc_IF_Shuttle)\n",
    "names.append(\"Recall\")\n",
    "data.append(MS_recalls_IF_Shuttle)\n",
    "names.append(\"Specificity\")\n",
    "data.append(MS_specificity_IF_Shuttle)\n",
    "\n",
    "names.append(\"Precision\")\n",
    "data.append(MS_precisions_IF_Shuttle)\n",
    "names.append(\"F1 Score\")\n",
    "data.append(MS_f1_scores_IF_Shuttle)\n",
    "names.append(\"TN\")\n",
    "data.append(MS_tn_IF_Shuttle)\n",
    "names.append(\"FP\")\n",
    "data.append(MS_fp_IF_Shuttle)\n",
    "names.append(\"FN\")\n",
    "data.append(MS_fn_IF_Shuttle)\n",
    "names.append(\"TP\")\n",
    "data.append(MS_tp_IF_Shuttle)\n",
    "\n",
    "print(names)\n",
    "print(data)\n",
    "#data_file_name = save_results_data(data=data, names=names, data_name=\"IForest\", method_name=\"Shuttle\")\n",
    "data_file_name = u_functions.save_results_data(data=data, names=names, data_name=data_name, method_name=method_name,\n",
    "                                               execution_object=execution_object)"
   ]
  },
  {
   "cell_type": "code",
   "execution_count": 7,
   "metadata": {},
   "outputs": [
    {
     "name": "stdout",
     "output_type": "stream",
     "text": [
      "           0                  1                   2                   3   \\\n",
      "count      47                 47                  47                  47   \n",
      "unique     47                 47                  47                  31   \n",
      "top     41100  3.609356164932251  0.9943857898265731  0.9992102838590795   \n",
      "freq        1                  1                   1                   5   \n",
      "\n",
      "                        4                   5                   6      7   8   \\\n",
      "count                   47                  47                  47     47  47   \n",
      "unique                  44                  47                  47     31  31   \n",
      "top     0.9806378132118451  0.9862509472772545  0.9926883220189384  45550  36   \n",
      "freq                     2                   1                   1      5   5   \n",
      "\n",
      "        9    10  \n",
      "count   47   47  \n",
      "unique  44   44  \n",
      "top     18  861  \n",
      "freq     2    2  \n",
      "\n",
      "       0                   1                   2                   3   \\\n",
      "1     100  2.2997827529907227  0.9950992526878781  0.8556574386873163   \n",
      "2    1100  2.8913581371307373  0.9990863597873582  0.9772517878295968   \n",
      "3    2100    2.41323184967041  0.9988428339956108  0.9858289825823717   \n",
      "4    3100   4.443613052368164   0.998832240486254  0.9898214364059141   \n",
      "5    4100   2.962307929992676  0.9985941613573365  0.9887465449918835   \n",
      "6    5100  2.7697830200195312  0.9976414450865956  0.9901066116790243   \n",
      "7    6100  2.8118162155151367  0.9970695454894787  0.9924976966612556   \n",
      "8    7100  2.8224010467529297  0.9978546019853636  0.9963365945685079   \n",
      "9    8100  2.8264832496643066  0.9962884990366403  0.9953933225112973   \n",
      "10   9100  2.9876201152801514  0.9975255161162756  0.9937042074321063   \n",
      "11  10100   3.060944080352783  0.9964066766292293  0.9971263107094284   \n",
      "12  11100  3.0184099674224854  0.9969408993109922  0.9969288816741982   \n",
      "13  12100   3.030498743057251  0.9959690947356558  0.9975650418988286   \n",
      "14  13100  3.0182456970214844   0.996617397520539  0.9987276795507393   \n",
      "15  14100   3.026702880859375  0.9972029637441141  0.9984863773965691   \n",
      "16  15100   3.029710054397583  0.9963372941398806  0.9989031720264994   \n",
      "17  16100   3.041606903076172  0.9965014435655275  0.9981134558855789   \n",
      "18  17100  3.2927041053771973  0.9964126854476263   0.998288948361339   \n",
      "19  18100   3.253340005874634  0.9953518729074696  0.9988592989075593   \n",
      "20  19100  3.5252108573913574   0.996212795420246  0.9989470451454394   \n",
      "21  20100  3.4012179374694824  0.9959807875714549  0.9988812354670293   \n",
      "22  21100   4.574434041976929  0.9956904654518176  0.9991006010617295   \n",
      "23  22100  3.5392839908599854  0.9960903204606538  0.9990786645022595   \n",
      "24  23100   4.055992841720581  0.9959996010444401  0.9991006010617295   \n",
      "25  24100   5.238908767700195  0.9969745786756454  0.9992322204185495   \n",
      "26  25100   4.969115734100342  0.9962331079747438  0.9991225376211995   \n",
      "27  26100   4.134817838668823   0.995405390117475  0.9991664107401396   \n",
      "28  27100   4.144684076309204  0.9955487023100945  0.9991664107401396   \n",
      "29  28100   3.916595935821533  0.9943857898265731  0.9991444741806695   \n",
      "30  29100  3.9839489459991455  0.9954074888315927  0.9992322204185495   \n",
      "31  30100   4.573431015014648  0.9942607914131011  0.9992760935374896   \n",
      "32  31100   3.609356164932251  0.9947630336892587  0.9992102838590795   \n",
      "33  32100   3.804738998413086  0.9942742081926403  0.9991664107401396   \n",
      "34  33100  3.7409441471099854   0.995358169049823  0.9991883472996095   \n",
      "35  34100  3.5336849689483643  0.9948248208322761  0.9991444741806695   \n",
      "36  35100   3.661365032196045  0.9948291306916252  0.9991664107401396   \n",
      "37  36100   3.682009220123291  0.9938395120309786  0.9991444741806695   \n",
      "38  37100   3.984560966491699  0.9947817722081681  0.9992102838590795   \n",
      "39  38100   3.732686996459961  0.9947324524263983  0.9992102838590795   \n",
      "40  39100   3.717162847518921  0.9956389470171625  0.9992541569780196   \n",
      "41  40100  3.7560489177703857  0.9947748764332096  0.9992322204185495   \n",
      "42  41100   3.749476909637451  0.9950204259849991  0.9992102838590795   \n",
      "43  42100   3.927046060562134   0.994996190833876  0.9992541569780196   \n",
      "44  43100  3.9373040199279785  0.9944665903201109  0.9992541569780196   \n",
      "45  44100  3.7823688983917236  0.9953828539253999  0.9992102838590795   \n",
      "46  45100   4.011015892028809  0.9937729153347742  0.9992541569780196   \n",
      "47  46100  4.1850810050964355  0.9945765479490716  0.9992760935374896   \n",
      "\n",
      "                     4                   5                   6      7     8   \\\n",
      "1    0.9863325740318907  0.9996924496386284  0.9220840622192804  39006  6580   \n",
      "2    0.9874715261958997  0.9997531418312388  0.9883744148381515  44549  1037   \n",
      "3    0.9851936218678815   0.999710809067248  0.9927213686919447  44940   646   \n",
      "4    0.9806378132118451  0.9996233855424356  0.9946982639845687  45122   464   \n",
      "5    0.9840546697038725  0.9996894892097501  0.9941879059918609  45073   513   \n",
      "6     0.979498861047836  0.9996013553916683  0.9948313294173399  45135   451   \n",
      "7    0.9806378132118451  0.9996244006981728  0.9960483009895759  45244   342   \n",
      "8    0.9749430523917996   0.999515855725006  0.9979236929702177  45419   167   \n",
      "9    0.9783599088838268  0.9995814517017293  0.9974829909541553  45376   210   \n",
      "10    0.979498861047836  0.9996027980669506  0.9966447751999384  45299   287   \n",
      "11   0.9669703872437357  0.9993624131562747  0.9982431096958383  45455   131   \n",
      "12     0.94874715261959  0.9990107933437383  0.9979687517155813  45446   140   \n",
      "13   0.9259681093394078   0.998572683355292  0.9980686083005947  45475   111   \n",
      "14   0.7927107061503417  0.9960183767228178  0.9973711882229233  45528    58   \n",
      "15   0.8952164009111617  0.9979828542612204  0.9982345523329129  45517    69   \n",
      "16   0.9271070615034168  0.9985964912280701  0.9987498080845745  45536    50   \n",
      "17   0.9009111617312073  0.9980915611906903  0.9981025084180625  45500    86   \n",
      "18   0.7255125284738041  0.9947321252923561  0.9965073630043247  45508    78   \n",
      "19   0.6719817767653758  0.9937148094801623  0.9962804130929458  45534    52   \n",
      "20   0.6161731207289294  0.9926539509536785  0.9957905555373329  45538    48   \n",
      "21   0.7027334851936219  0.9943008122980173  0.9965857608719442  45535    51   \n",
      "22    0.591116173120729  0.9921793307772743   0.995627937479506  45545    41   \n",
      "23   0.6617312072892938  0.9935210837459916  0.9962921237708773  45544    42   \n",
      "24    0.643507972665148  0.9931745824065594  0.9961287782686672  45545    41   \n",
      "25   0.4920273348519362  0.9903037154597039  0.9947479335684569  45551    35   \n",
      "26   0.4624145785876993  0.9897431439871355  0.9944107244225143  45546    40   \n",
      "27   0.5034168564920274  0.9905184411969381    0.99482363219395  45548    38   \n",
      "28   0.5353075170842825  0.9911219427278266  0.9951279194249635  45548    38   \n",
      "29   0.3416856492027335  0.9874688346883469  0.9932723446478613  45547    39   \n",
      "30  0.32915717539863326  0.9872345036844387   0.993197130584567  45551    35   \n",
      "31   0.3952164009111617  0.9884775627115702  0.9938474964546744  45553    33   \n",
      "32     0.44874715261959  0.9894860320632576  0.9943243833224186  45550    36   \n",
      "33  0.38724373576309795  0.9883261728073601  0.9937167292084824  45548    38   \n",
      "34   0.3314350797266515  0.9872767470088434  0.9931968339111662  45549    37   \n",
      "35   0.4168564920273349   0.988883822922773  0.9939876698128649  45547    39   \n",
      "36   0.3109339407744875  0.9868914263428162  0.9929909852952398  45548    38   \n",
      "37  0.48519362186788156  0.9901736994282484  0.9946388600753399  45547    39   \n",
      "38  0.32915717539863326  0.9872342270096881  0.9931861542654674  45550    36   \n",
      "39   0.3143507972665148  0.9869561449124632   0.993045411933986  45550    36   \n",
      "40  0.30751708428246016  0.9868284228769497  0.9930024197240207  45552    34   \n",
      "41  0.30296127562642367  0.9867426293785065  0.9929481520234553  45551    35   \n",
      "42   0.2767653758542141  0.9862509472772545  0.9926883220189384  45550    36   \n",
      "43   0.2460136674259681  0.9856753364781236  0.9924183006535947  45552    34   \n",
      "44   0.2437357630979499  0.9856326813224857  0.9923966798108973  45552    34   \n",
      "45  0.25740318906605925  0.9858880567940782  0.9925044668148342  45550    36   \n",
      "46  0.17084282460136674  0.9842696629213483  0.9917053099079093  45552    34   \n",
      "47   0.2528473804100228  0.9858036313272306  0.9924941445612506  45553    33   \n",
      "\n",
      "     9    10  \n",
      "1    12  866  \n",
      "2    11  867  \n",
      "3    13  865  \n",
      "4    17  861  \n",
      "5    14  864  \n",
      "6    18  860  \n",
      "7    17  861  \n",
      "8    22  856  \n",
      "9    19  859  \n",
      "10   18  860  \n",
      "11   29  849  \n",
      "12   45  833  \n",
      "13   65  813  \n",
      "14  182  696  \n",
      "15   92  786  \n",
      "16   64  814  \n",
      "17   87  791  \n",
      "18  241  637  \n",
      "19  288  590  \n",
      "20  337  541  \n",
      "21  261  617  \n",
      "22  359  519  \n",
      "23  297  581  \n",
      "24  313  565  \n",
      "25  446  432  \n",
      "26  472  406  \n",
      "27  436  442  \n",
      "28  408  470  \n",
      "29  578  300  \n",
      "30  589  289  \n",
      "31  531  347  \n",
      "32  484  394  \n",
      "33  538  340  \n",
      "34  587  291  \n",
      "35  512  366  \n",
      "36  605  273  \n",
      "37  452  426  \n",
      "38  589  289  \n",
      "39  602  276  \n",
      "40  608  270  \n",
      "41  612  266  \n",
      "42  635  243  \n",
      "43  662  216  \n",
      "44  664  214  \n",
      "45  652  226  \n",
      "46  728  150  \n",
      "47  656  222  \n",
      "dataset_name = Shuttle\n",
      "method_name = IForest\n",
      "execution_object = ImpactDeTailleEchantillon\n"
     ]
    },
    {
     "ename": "ValueError",
     "evalue": "The truth value of a Series is ambiguous. Use a.empty, a.bool(), a.item(), a.any() or a.all().",
     "output_type": "error",
     "traceback": [
      "\u001b[0;31m---------------------------------------------------------------------------\u001b[0m",
      "\u001b[0;31mValueError\u001b[0m                                Traceback (most recent call last)",
      "\u001b[0;32m<ipython-input-7-cb9a421ee56f>\u001b[0m in \u001b[0;36m<module>\u001b[0;34m\u001b[0m\n\u001b[1;32m      7\u001b[0m u_functions.plot_with_data(file_name=data_file_name, x_name=x_name, x_column = x_column,\n\u001b[1;32m      8\u001b[0m                \u001b[0my_name\u001b[0m \u001b[0;34m=\u001b[0m \u001b[0my_name\u001b[0m\u001b[0;34m,\u001b[0m \u001b[0my_column\u001b[0m\u001b[0;34m=\u001b[0m\u001b[0my_column\u001b[0m\u001b[0;34m,\u001b[0m \u001b[0mz_name\u001b[0m\u001b[0;34m=\u001b[0m\u001b[0;34m\"NULL\"\u001b[0m\u001b[0;34m,\u001b[0m \u001b[0mz_column\u001b[0m\u001b[0;34m=\u001b[0m\u001b[0;34m\"NULL\"\u001b[0m\u001b[0;34m,\u001b[0m\u001b[0;34m\u001b[0m\u001b[0;34m\u001b[0m\u001b[0m\n\u001b[0;32m----> 9\u001b[0;31m                    title=title, version=\"Shuttle\", n_dimensions = 2, save_fig=save_fig)\n\u001b[0m",
      "\u001b[0;32m~/Documents/GitHub/OD_Jupyter/metrics/utilities_functions.py\u001b[0m in \u001b[0;36mplot_with_data\u001b[0;34m(self, file_name, x_name, x_column, y_name, y_column, z_name, z_column, title, version, n_dimensions, save_fig)\u001b[0m\n\u001b[1;32m    127\u001b[0m                              \u001b[0mexecution_object\u001b[0m\u001b[0;34m=\u001b[0m\u001b[0mnames\u001b[0m\u001b[0;34m[\u001b[0m\u001b[0;36m0\u001b[0m\u001b[0;34m]\u001b[0m\u001b[0;34m,\u001b[0m\u001b[0;34m\u001b[0m\u001b[0;34m\u001b[0m\u001b[0m\n\u001b[1;32m    128\u001b[0m                              \u001b[0mfolder_path\u001b[0m\u001b[0;34m=\u001b[0m\u001b[0mue\u001b[0m\u001b[0;34m.\u001b[0m\u001b[0m_ANALYSIS_RESULTS_FOLDER_PATH\u001b[0m\u001b[0;34m,\u001b[0m\u001b[0;34m\u001b[0m\u001b[0;34m\u001b[0m\u001b[0m\n\u001b[0;32m--> 129\u001b[0;31m                              save_fig=save_fig)\n\u001b[0m\u001b[1;32m    130\u001b[0m \u001b[0;34m\u001b[0m\u001b[0m\n\u001b[1;32m    131\u001b[0m \u001b[0;34m\u001b[0m\u001b[0m\n",
      "\u001b[0;32m~/Documents/GitHub/OD_Jupyter/metrics/utilities_functions.py\u001b[0m in \u001b[0;36mmetric_visualization\u001b[0;34m(self, title, x_data, x_title, y_data, y_title, dataset_name, method_name, execution_object, folder_path, save_fig)\u001b[0m\n\u001b[1;32m    149\u001b[0m         ax1 = description.axe_2D_with_link(axe=ax1, X_data=x_data, Y_data=y_data, \n\u001b[1;32m    150\u001b[0m                                  \u001b[0mX_label\u001b[0m\u001b[0;34m=\u001b[0m\u001b[0mx_title\u001b[0m\u001b[0;34m,\u001b[0m \u001b[0mY_label\u001b[0m\u001b[0;34m=\u001b[0m\u001b[0my_data\u001b[0m\u001b[0;34m,\u001b[0m\u001b[0;34m\u001b[0m\u001b[0;34m\u001b[0m\u001b[0m\n\u001b[0;32m--> 151\u001b[0;31m                                  title = title)\n\u001b[0m\u001b[1;32m    152\u001b[0m         \u001b[0;32mif\u001b[0m \u001b[0msave_fig\u001b[0m \u001b[0;34m==\u001b[0m \u001b[0;32mTrue\u001b[0m\u001b[0;34m:\u001b[0m\u001b[0;34m\u001b[0m\u001b[0;34m\u001b[0m\u001b[0m\n\u001b[1;32m    153\u001b[0m             self.save_image(dataset_name=dataset_name, method_name=method_name,\n",
      "\u001b[0;32m~/Documents/GitHub/OD_Jupyter/metrics/description.py\u001b[0m in \u001b[0;36maxe_2D_with_link\u001b[0;34m(self, axe, X_data, Y_data, X_label, Y_label, title, xmin, xmax, ymin, ymax)\u001b[0m\n\u001b[1;32m    122\u001b[0m                  markersize=6, color='skyblue')\n\u001b[1;32m    123\u001b[0m         \u001b[0maxe\u001b[0m\u001b[0;34m.\u001b[0m\u001b[0mset_title\u001b[0m\u001b[0;34m(\u001b[0m\u001b[0mtitle\u001b[0m\u001b[0;34m)\u001b[0m\u001b[0;34m\u001b[0m\u001b[0;34m\u001b[0m\u001b[0m\n\u001b[0;32m--> 124\u001b[0;31m         \u001b[0maxe\u001b[0m\u001b[0;34m.\u001b[0m\u001b[0mset\u001b[0m\u001b[0;34m(\u001b[0m\u001b[0mxlabel\u001b[0m\u001b[0;34m=\u001b[0m\u001b[0mX_label\u001b[0m\u001b[0;34m,\u001b[0m \u001b[0mylabel\u001b[0m\u001b[0;34m=\u001b[0m\u001b[0mY_label\u001b[0m\u001b[0;34m)\u001b[0m\u001b[0;34m\u001b[0m\u001b[0;34m\u001b[0m\u001b[0m\n\u001b[0m\u001b[1;32m    125\u001b[0m         \u001b[0maxe\u001b[0m \u001b[0;34m=\u001b[0m \u001b[0mself\u001b[0m\u001b[0;34m.\u001b[0m\u001b[0mset_axis_limit\u001b[0m\u001b[0;34m(\u001b[0m\u001b[0maxe\u001b[0m\u001b[0;34m=\u001b[0m\u001b[0maxe\u001b[0m\u001b[0;34m,\u001b[0m \u001b[0mxmin\u001b[0m\u001b[0;34m=\u001b[0m\u001b[0mxmin\u001b[0m\u001b[0;34m,\u001b[0m \u001b[0mxmax\u001b[0m\u001b[0;34m=\u001b[0m\u001b[0mxmax\u001b[0m\u001b[0;34m,\u001b[0m \u001b[0mymin\u001b[0m\u001b[0;34m=\u001b[0m\u001b[0mymin\u001b[0m\u001b[0;34m,\u001b[0m \u001b[0mymax\u001b[0m\u001b[0;34m=\u001b[0m\u001b[0mymax\u001b[0m\u001b[0;34m)\u001b[0m\u001b[0;34m\u001b[0m\u001b[0;34m\u001b[0m\u001b[0m\n\u001b[1;32m    126\u001b[0m         \u001b[0;32mreturn\u001b[0m \u001b[0maxe\u001b[0m\u001b[0;34m\u001b[0m\u001b[0;34m\u001b[0m\u001b[0m\n",
      "\u001b[0;32m~/opt/anaconda3/lib/python3.7/site-packages/matplotlib/artist.py\u001b[0m in \u001b[0;36mset\u001b[0;34m(self, **kwargs)\u001b[0m\n\u001b[1;32m   1111\u001b[0m         \u001b[0;32mif\u001b[0m \u001b[0mmove_color_to_start\u001b[0m\u001b[0;34m:\u001b[0m\u001b[0;34m\u001b[0m\u001b[0;34m\u001b[0m\u001b[0m\n\u001b[1;32m   1112\u001b[0m             \u001b[0mkwargs\u001b[0m \u001b[0;34m=\u001b[0m \u001b[0;34m{\u001b[0m\u001b[0;34m\"color\"\u001b[0m\u001b[0;34m:\u001b[0m \u001b[0mkwargs\u001b[0m\u001b[0;34m.\u001b[0m\u001b[0mpop\u001b[0m\u001b[0;34m(\u001b[0m\u001b[0;34m\"color\"\u001b[0m\u001b[0;34m)\u001b[0m\u001b[0;34m,\u001b[0m \u001b[0;34m**\u001b[0m\u001b[0mkwargs\u001b[0m\u001b[0;34m}\u001b[0m\u001b[0;34m\u001b[0m\u001b[0;34m\u001b[0m\u001b[0m\n\u001b[0;32m-> 1113\u001b[0;31m         \u001b[0;32mreturn\u001b[0m \u001b[0mself\u001b[0m\u001b[0;34m.\u001b[0m\u001b[0mupdate\u001b[0m\u001b[0;34m(\u001b[0m\u001b[0mkwargs\u001b[0m\u001b[0;34m)\u001b[0m\u001b[0;34m\u001b[0m\u001b[0;34m\u001b[0m\u001b[0m\n\u001b[0m\u001b[1;32m   1114\u001b[0m \u001b[0;34m\u001b[0m\u001b[0m\n\u001b[1;32m   1115\u001b[0m     \u001b[0;32mdef\u001b[0m \u001b[0mfindobj\u001b[0m\u001b[0;34m(\u001b[0m\u001b[0mself\u001b[0m\u001b[0;34m,\u001b[0m \u001b[0mmatch\u001b[0m\u001b[0;34m=\u001b[0m\u001b[0;32mNone\u001b[0m\u001b[0;34m,\u001b[0m \u001b[0minclude_self\u001b[0m\u001b[0;34m=\u001b[0m\u001b[0;32mTrue\u001b[0m\u001b[0;34m)\u001b[0m\u001b[0;34m:\u001b[0m\u001b[0;34m\u001b[0m\u001b[0;34m\u001b[0m\u001b[0m\n",
      "\u001b[0;32m~/opt/anaconda3/lib/python3.7/site-packages/matplotlib/artist.py\u001b[0m in \u001b[0;36mupdate\u001b[0;34m(self, props)\u001b[0m\n\u001b[1;32m    996\u001b[0m                         raise AttributeError(f\"{type(self).__name__!r} object \"\n\u001b[1;32m    997\u001b[0m                                              f\"has no property {k!r}\")\n\u001b[0;32m--> 998\u001b[0;31m                     \u001b[0mret\u001b[0m\u001b[0;34m.\u001b[0m\u001b[0mappend\u001b[0m\u001b[0;34m(\u001b[0m\u001b[0mfunc\u001b[0m\u001b[0;34m(\u001b[0m\u001b[0mv\u001b[0m\u001b[0;34m)\u001b[0m\u001b[0;34m)\u001b[0m\u001b[0;34m\u001b[0m\u001b[0;34m\u001b[0m\u001b[0m\n\u001b[0m\u001b[1;32m    999\u001b[0m         \u001b[0;32mif\u001b[0m \u001b[0mret\u001b[0m\u001b[0;34m:\u001b[0m\u001b[0;34m\u001b[0m\u001b[0;34m\u001b[0m\u001b[0m\n\u001b[1;32m   1000\u001b[0m             \u001b[0mself\u001b[0m\u001b[0;34m.\u001b[0m\u001b[0mpchanged\u001b[0m\u001b[0;34m(\u001b[0m\u001b[0;34m)\u001b[0m\u001b[0;34m\u001b[0m\u001b[0;34m\u001b[0m\u001b[0m\n",
      "\u001b[0;32m~/opt/anaconda3/lib/python3.7/site-packages/matplotlib/axes/_axes.py\u001b[0m in \u001b[0;36mset_ylabel\u001b[0;34m(self, ylabel, fontdict, labelpad, loc, **kwargs)\u001b[0m\n\u001b[1;32m    298\u001b[0m         \u001b[0;32melif\u001b[0m \u001b[0mloc\u001b[0m \u001b[0;34m==\u001b[0m \u001b[0;34m'top'\u001b[0m\u001b[0;34m:\u001b[0m\u001b[0;34m\u001b[0m\u001b[0;34m\u001b[0m\u001b[0m\n\u001b[1;32m    299\u001b[0m             \u001b[0mkwargs\u001b[0m\u001b[0;34m.\u001b[0m\u001b[0mupdate\u001b[0m\u001b[0;34m(\u001b[0m\u001b[0my\u001b[0m\u001b[0;34m=\u001b[0m\u001b[0;36m1\u001b[0m\u001b[0;34m,\u001b[0m \u001b[0mhorizontalalignment\u001b[0m\u001b[0;34m=\u001b[0m\u001b[0;34m'right'\u001b[0m\u001b[0;34m)\u001b[0m\u001b[0;34m\u001b[0m\u001b[0;34m\u001b[0m\u001b[0m\n\u001b[0;32m--> 300\u001b[0;31m         \u001b[0;32mreturn\u001b[0m \u001b[0mself\u001b[0m\u001b[0;34m.\u001b[0m\u001b[0myaxis\u001b[0m\u001b[0;34m.\u001b[0m\u001b[0mset_label_text\u001b[0m\u001b[0;34m(\u001b[0m\u001b[0mylabel\u001b[0m\u001b[0;34m,\u001b[0m \u001b[0mfontdict\u001b[0m\u001b[0;34m,\u001b[0m \u001b[0;34m**\u001b[0m\u001b[0mkwargs\u001b[0m\u001b[0;34m)\u001b[0m\u001b[0;34m\u001b[0m\u001b[0;34m\u001b[0m\u001b[0m\n\u001b[0m\u001b[1;32m    301\u001b[0m \u001b[0;34m\u001b[0m\u001b[0m\n\u001b[1;32m    302\u001b[0m     \u001b[0;32mdef\u001b[0m \u001b[0mget_legend_handles_labels\u001b[0m\u001b[0;34m(\u001b[0m\u001b[0mself\u001b[0m\u001b[0;34m,\u001b[0m \u001b[0mlegend_handler_map\u001b[0m\u001b[0;34m=\u001b[0m\u001b[0;32mNone\u001b[0m\u001b[0;34m)\u001b[0m\u001b[0;34m:\u001b[0m\u001b[0;34m\u001b[0m\u001b[0;34m\u001b[0m\u001b[0m\n",
      "\u001b[0;32m~/opt/anaconda3/lib/python3.7/site-packages/matplotlib/axis.py\u001b[0m in \u001b[0;36mset_label_text\u001b[0;34m(self, label, fontdict, **kwargs)\u001b[0m\n\u001b[1;32m   1558\u001b[0m         \"\"\"\n\u001b[1;32m   1559\u001b[0m         \u001b[0mself\u001b[0m\u001b[0;34m.\u001b[0m\u001b[0misDefault_label\u001b[0m \u001b[0;34m=\u001b[0m \u001b[0;32mFalse\u001b[0m\u001b[0;34m\u001b[0m\u001b[0;34m\u001b[0m\u001b[0m\n\u001b[0;32m-> 1560\u001b[0;31m         \u001b[0mself\u001b[0m\u001b[0;34m.\u001b[0m\u001b[0mlabel\u001b[0m\u001b[0;34m.\u001b[0m\u001b[0mset_text\u001b[0m\u001b[0;34m(\u001b[0m\u001b[0mlabel\u001b[0m\u001b[0;34m)\u001b[0m\u001b[0;34m\u001b[0m\u001b[0;34m\u001b[0m\u001b[0m\n\u001b[0m\u001b[1;32m   1561\u001b[0m         \u001b[0;32mif\u001b[0m \u001b[0mfontdict\u001b[0m \u001b[0;32mis\u001b[0m \u001b[0;32mnot\u001b[0m \u001b[0;32mNone\u001b[0m\u001b[0;34m:\u001b[0m\u001b[0;34m\u001b[0m\u001b[0;34m\u001b[0m\u001b[0m\n\u001b[1;32m   1562\u001b[0m             \u001b[0mself\u001b[0m\u001b[0;34m.\u001b[0m\u001b[0mlabel\u001b[0m\u001b[0;34m.\u001b[0m\u001b[0mupdate\u001b[0m\u001b[0;34m(\u001b[0m\u001b[0mfontdict\u001b[0m\u001b[0;34m)\u001b[0m\u001b[0;34m\u001b[0m\u001b[0;34m\u001b[0m\u001b[0m\n",
      "\u001b[0;32m~/opt/anaconda3/lib/python3.7/site-packages/matplotlib/text.py\u001b[0m in \u001b[0;36mset_text\u001b[0;34m(self, s)\u001b[0m\n\u001b[1;32m   1161\u001b[0m         \u001b[0;32mif\u001b[0m \u001b[0ms\u001b[0m \u001b[0;32mis\u001b[0m \u001b[0;32mNone\u001b[0m\u001b[0;34m:\u001b[0m\u001b[0;34m\u001b[0m\u001b[0;34m\u001b[0m\u001b[0m\n\u001b[1;32m   1162\u001b[0m             \u001b[0ms\u001b[0m \u001b[0;34m=\u001b[0m \u001b[0;34m''\u001b[0m\u001b[0;34m\u001b[0m\u001b[0;34m\u001b[0m\u001b[0m\n\u001b[0;32m-> 1163\u001b[0;31m         \u001b[0;32mif\u001b[0m \u001b[0ms\u001b[0m \u001b[0;34m!=\u001b[0m \u001b[0mself\u001b[0m\u001b[0;34m.\u001b[0m\u001b[0m_text\u001b[0m\u001b[0;34m:\u001b[0m\u001b[0;34m\u001b[0m\u001b[0;34m\u001b[0m\u001b[0m\n\u001b[0m\u001b[1;32m   1164\u001b[0m             \u001b[0mself\u001b[0m\u001b[0;34m.\u001b[0m\u001b[0m_text\u001b[0m \u001b[0;34m=\u001b[0m \u001b[0mstr\u001b[0m\u001b[0;34m(\u001b[0m\u001b[0ms\u001b[0m\u001b[0;34m)\u001b[0m\u001b[0;34m\u001b[0m\u001b[0;34m\u001b[0m\u001b[0m\n\u001b[1;32m   1165\u001b[0m             \u001b[0mself\u001b[0m\u001b[0;34m.\u001b[0m\u001b[0mstale\u001b[0m \u001b[0;34m=\u001b[0m \u001b[0;32mTrue\u001b[0m\u001b[0;34m\u001b[0m\u001b[0;34m\u001b[0m\u001b[0m\n",
      "\u001b[0;32m~/opt/anaconda3/lib/python3.7/site-packages/pandas/core/generic.py\u001b[0m in \u001b[0;36m__nonzero__\u001b[0;34m(self)\u001b[0m\n\u001b[1;32m   1553\u001b[0m             \u001b[0;34m\"The truth value of a {0} is ambiguous. \"\u001b[0m\u001b[0;34m\u001b[0m\u001b[0;34m\u001b[0m\u001b[0m\n\u001b[1;32m   1554\u001b[0m             \"Use a.empty, a.bool(), a.item(), a.any() or a.all().\".format(\n\u001b[0;32m-> 1555\u001b[0;31m                 \u001b[0mself\u001b[0m\u001b[0;34m.\u001b[0m\u001b[0m__class__\u001b[0m\u001b[0;34m.\u001b[0m\u001b[0m__name__\u001b[0m\u001b[0;34m\u001b[0m\u001b[0;34m\u001b[0m\u001b[0m\n\u001b[0m\u001b[1;32m   1556\u001b[0m             )\n\u001b[1;32m   1557\u001b[0m         )\n",
      "\u001b[0;31mValueError\u001b[0m: The truth value of a Series is ambiguous. Use a.empty, a.bool(), a.item(), a.any() or a.all()."
     ]
    },
    {
     "data": {
      "image/png": "[encoded data removed]",
      "text/plain": [
       "<Figure size 360x360 with 1 Axes>"
      ]
     },
     "metadata": {
      "needs_background": "light"
     },
     "output_type": "display_data"
    }
   ],
   "source": [
    "## Evolution de CPU Time\n",
    "title=\"Sample Size Effect\"\n",
    "x_name = \"ψ\"\n",
    "x_column = 0\n",
    "y_name = \"CPU Time(s)\"\n",
    "y_column=1\n",
    "u_functions.plot_with_data(file_name=data_file_name, x_name=x_name, x_column = x_column,\n",
    "               y_name = y_name, y_column=y_column, z_name=\"NULL\", z_column=\"NULL\", \n",
    "                   title=title, version=\"Shuttle\", n_dimensions = 2, save_fig=save_fig)"
   ]
  },
  {
   "cell_type": "code",
   "execution_count": null,
   "metadata": {},
   "outputs": [],
   "source": [
    "# Evolution du ROC AUC\n",
    "title=\"Sample Size Effect\"\n",
    "x_name = \"ψ\"\n",
    "x_column = 0\n",
    "y_name = \"ROC AUC\"\n",
    "y_column=2\n",
    "u_functions.plot_with_data(file_name=data_file_name, x_name=x_name, x_column = x_column,\n",
    "               y_name = y_name, y_column=y_column, z_name=\"NULL\", z_column=\"NULL\", \n",
    "                   title=title, version=\"Shuttle\", n_dimensions = 2, save_fig=save_fig)"
   ]
  },
  {
   "cell_type": "code",
   "execution_count": null,
   "metadata": {},
   "outputs": [],
   "source": [
    "# Evolution du rappel\n",
    "title=\"Sample Size Effect\"\n",
    "x_name = \"ψ\"\n",
    "x_column = 0\n",
    "y_name = \"Recall\"\n",
    "y_column=3\n",
    "u_functions.plot_with_data(file_name=data_file_name, x_name=x_name, x_column = x_column,\n",
    "               y_name = y_name, y_column=y_column, z_name=\"NULL\", z_column=\"NULL\", \n",
    "                   title=title, version=\"Shuttle\", n_dimensions = 2, save_fig=save_fig)"
   ]
  },
  {
   "cell_type": "code",
   "execution_count": null,
   "metadata": {},
   "outputs": [],
   "source": [
    "# Evolution de spécificité\n",
    "title=\"Sample Size Effect\"\n",
    "x_name = \"ψ\"\n",
    "x_column = 0\n",
    "y_name = \"Specificity\"\n",
    "y_column=4\n",
    "u_functions.plot_with_data(file_name=data_file_name, x_name=x_name, x_column = x_column,\n",
    "               y_name = y_name, y_column=y_column, z_name=\"NULL\", z_column=\"NULL\", \n",
    "                   title=title, version=\"Shuttle\", n_dimensions = 2, save_fig=save_fig)"
   ]
  },
  {
   "cell_type": "markdown",
   "metadata": {},
   "source": [
    "#### Conclusion\n",
    "Malgré le caractère aléatoire de IForest, les métrics choisis ont tendance à être constant durant l'exécution successive avec les mêmes paramètres."
   ]
  }
 ],
 "metadata": {
  "kernelspec": {
   "display_name": "Python 3",
   "language": "python",
   "name": "python3"
  },
  "language_info": {
   "codemirror_mode": {
    "name": "ipython",
    "version": 3
   },
   "file_extension": ".py",
   "mimetype": "text/x-python",
   "name": "python",
   "nbconvert_exporter": "python",
   "pygments_lexer": "ipython3",
   "version": "3.7.4"
  }
 },
 "nbformat": 4,
 "nbformat_minor": 2
}
