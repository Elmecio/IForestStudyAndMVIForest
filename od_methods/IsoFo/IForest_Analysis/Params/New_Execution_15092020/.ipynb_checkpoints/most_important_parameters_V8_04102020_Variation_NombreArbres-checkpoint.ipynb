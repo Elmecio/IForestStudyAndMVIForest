{
 "cells": [
  {
   "cell_type": "markdown",
   "metadata": {},
   "source": [
    "# Re-exécution pour modifier les légendes"
   ]
  },
  {
   "cell_type": "code",
   "execution_count": 1,
   "metadata": {},
   "outputs": [],
   "source": [
    "import numpy as np\n",
    "import pandas as pd\n",
    "import matplotlib.pyplot as plt\n",
    "from time import time\n",
    "from sklearn.ensemble import IsolationForest\n",
    "from sklearn.svm import OneClassSVM\n",
    "from sklearn.neighbors import LocalOutlierFactor\n",
    "from sklearn.metrics import confusion_matrix\n",
    "from sklearn.metrics import roc_auc_score\n",
    "#from matplotlib.mlab import frange\n",
    "import statistics\n",
    "from sklearn.metrics import confusion_matrix\n",
    "from sklearn.metrics import precision_score, recall_score\n",
    "from sklearn.metrics import f1_score\n",
    "from sklearn.metrics import roc_curve\n",
    "from imblearn.metrics import specificity_score\n",
    "from imblearn.metrics import sensitivity_score\n",
    "import matplotlib.cm as cm\n",
    "from mpl_toolkits import mplot3d\n",
    "from datetime import datetime\n",
    "\n",
    "import sys\n",
    "sys.path.append('../../../../../')\n",
    "from metrics import utilities_functions as uf\n",
    "u_functions = uf.functions()"
   ]
  },
  {
   "cell_type": "markdown",
   "metadata": {},
   "source": [
    "## Chargement du jeu de données Shuttle"
   ]
  },
  {
   "cell_type": "markdown",
   "metadata": {},
   "source": [
    "Shuttle contient 10 attributs dont le dernier est la classe à expliquer.\n",
    "Il y a 46464 observations dont 878 anormales.\n",
    "Avec le dernier attribut, nous avons les classes \"o\" pour les anomalies et \"n\" pour les observations normales."
   ]
  },
  {
   "cell_type": "code",
   "execution_count": 2,
   "metadata": {},
   "outputs": [
    {
     "data": {
      "text/html": [
       "<div>\n",
       "<style scoped>\n",
       "    .dataframe tbody tr th:only-of-type {\n",
       "        vertical-align: middle;\n",
       "    }\n",
       "\n",
       "    .dataframe tbody tr th {\n",
       "        vertical-align: top;\n",
       "    }\n",
       "\n",
       "    .dataframe thead th {\n",
       "        text-align: right;\n",
       "    }\n",
       "</style>\n",
       "<table border=\"1\" class=\"dataframe\">\n",
       "  <thead>\n",
       "    <tr style=\"text-align: right;\">\n",
       "      <th></th>\n",
       "      <th>0</th>\n",
       "      <th>1</th>\n",
       "      <th>2</th>\n",
       "      <th>3</th>\n",
       "      <th>4</th>\n",
       "      <th>5</th>\n",
       "      <th>6</th>\n",
       "      <th>7</th>\n",
       "      <th>8</th>\n",
       "    </tr>\n",
       "  </thead>\n",
       "  <tbody>\n",
       "    <tr>\n",
       "      <td>count</td>\n",
       "      <td>46464.000000</td>\n",
       "      <td>46464.000000</td>\n",
       "      <td>46464.000000</td>\n",
       "      <td>46464.000000</td>\n",
       "      <td>46464.000000</td>\n",
       "      <td>46464.000000</td>\n",
       "      <td>46464.000000</td>\n",
       "      <td>46464.000000</td>\n",
       "      <td>46464.000000</td>\n",
       "    </tr>\n",
       "    <tr>\n",
       "      <td>mean</td>\n",
       "      <td>44.775482</td>\n",
       "      <td>-0.712509</td>\n",
       "      <td>84.834108</td>\n",
       "      <td>0.279291</td>\n",
       "      <td>38.652763</td>\n",
       "      <td>2.289708</td>\n",
       "      <td>40.070334</td>\n",
       "      <td>46.180419</td>\n",
       "      <td>6.299888</td>\n",
       "    </tr>\n",
       "    <tr>\n",
       "      <td>std</td>\n",
       "      <td>8.753404</td>\n",
       "      <td>44.218007</td>\n",
       "      <td>8.731175</td>\n",
       "      <td>37.317203</td>\n",
       "      <td>15.902506</td>\n",
       "      <td>177.518356</td>\n",
       "      <td>10.969455</td>\n",
       "      <td>17.052467</td>\n",
       "      <td>15.005878</td>\n",
       "    </tr>\n",
       "    <tr>\n",
       "      <td>min</td>\n",
       "      <td>27.000000</td>\n",
       "      <td>-4475.000000</td>\n",
       "      <td>21.000000</td>\n",
       "      <td>-3939.000000</td>\n",
       "      <td>-188.000000</td>\n",
       "      <td>-12809.000000</td>\n",
       "      <td>-26.000000</td>\n",
       "      <td>-353.000000</td>\n",
       "      <td>-356.000000</td>\n",
       "    </tr>\n",
       "    <tr>\n",
       "      <td>25%</td>\n",
       "      <td>37.000000</td>\n",
       "      <td>0.000000</td>\n",
       "      <td>79.000000</td>\n",
       "      <td>0.000000</td>\n",
       "      <td>34.000000</td>\n",
       "      <td>-4.000000</td>\n",
       "      <td>34.000000</td>\n",
       "      <td>35.000000</td>\n",
       "      <td>0.000000</td>\n",
       "    </tr>\n",
       "    <tr>\n",
       "      <td>50%</td>\n",
       "      <td>43.000000</td>\n",
       "      <td>0.000000</td>\n",
       "      <td>83.000000</td>\n",
       "      <td>0.000000</td>\n",
       "      <td>42.000000</td>\n",
       "      <td>0.000000</td>\n",
       "      <td>39.000000</td>\n",
       "      <td>41.000000</td>\n",
       "      <td>2.000000</td>\n",
       "    </tr>\n",
       "    <tr>\n",
       "      <td>75%</td>\n",
       "      <td>49.000000</td>\n",
       "      <td>0.000000</td>\n",
       "      <td>87.000000</td>\n",
       "      <td>0.000000</td>\n",
       "      <td>46.000000</td>\n",
       "      <td>5.000000</td>\n",
       "      <td>43.000000</td>\n",
       "      <td>52.000000</td>\n",
       "      <td>2.000000</td>\n",
       "    </tr>\n",
       "    <tr>\n",
       "      <td>max</td>\n",
       "      <td>123.000000</td>\n",
       "      <td>1963.000000</td>\n",
       "      <td>149.000000</td>\n",
       "      <td>3830.000000</td>\n",
       "      <td>436.000000</td>\n",
       "      <td>15164.000000</td>\n",
       "      <td>105.000000</td>\n",
       "      <td>270.000000</td>\n",
       "      <td>266.000000</td>\n",
       "    </tr>\n",
       "  </tbody>\n",
       "</table>\n",
       "</div>"
      ],
      "text/plain": [
       "                  0             1             2             3             4  \\\n",
       "count  46464.000000  46464.000000  46464.000000  46464.000000  46464.000000   \n",
       "mean      44.775482     -0.712509     84.834108      0.279291     38.652763   \n",
       "std        8.753404     44.218007      8.731175     37.317203     15.902506   \n",
       "min       27.000000  -4475.000000     21.000000  -3939.000000   -188.000000   \n",
       "25%       37.000000      0.000000     79.000000      0.000000     34.000000   \n",
       "50%       43.000000      0.000000     83.000000      0.000000     42.000000   \n",
       "75%       49.000000      0.000000     87.000000      0.000000     46.000000   \n",
       "max      123.000000   1963.000000    149.000000   3830.000000    436.000000   \n",
       "\n",
       "                  5             6             7             8  \n",
       "count  46464.000000  46464.000000  46464.000000  46464.000000  \n",
       "mean       2.289708     40.070334     46.180419      6.299888  \n",
       "std      177.518356     10.969455     17.052467     15.005878  \n",
       "min   -12809.000000    -26.000000   -353.000000   -356.000000  \n",
       "25%       -4.000000     34.000000     35.000000      0.000000  \n",
       "50%        0.000000     39.000000     41.000000      2.000000  \n",
       "75%        5.000000     43.000000     52.000000      2.000000  \n",
       "max    15164.000000    105.000000    270.000000    266.000000  "
      ]
     },
     "execution_count": 2,
     "metadata": {},
     "output_type": "execute_result"
    }
   ],
   "source": [
    "data_brut_Shuttle = pd.read_csv('../../../../../datasets/datasets_publics/shuttle-unsupervised-ad_2019-06-14 17:33:02.493755.csv', header=None, index_col=None)\n",
    "X_Shuttle = data_brut_Shuttle[[0, 1, 2, 3, 4, 5, 6, 7, 8]]\n",
    "y_brut_Shuttle = data_brut_Shuttle[[9]]\n",
    "data_brut_Shuttle.describe()"
   ]
  },
  {
   "cell_type": "markdown",
   "metadata": {},
   "source": [
    "## Transformation de la classe à expliquer"
   ]
  },
  {
   "cell_type": "markdown",
   "metadata": {},
   "source": [
    "L'objectif ici est de remplacer les \"o\" par -1 et les \"n\" par 1 afin de faire les matrices de confusion avec la fonction dédiée de scikit-learn."
   ]
  },
  {
   "cell_type": "code",
   "execution_count": 3,
   "metadata": {},
   "outputs": [],
   "source": [
    "y_transform_Shuttle = y_brut_Shuttle\n",
    "y_transform_Shuttle = np.where(y_transform_Shuttle=='o',-1,1)\n",
    "#y_transform"
   ]
  },
  {
   "cell_type": "markdown",
   "metadata": {},
   "source": [
    "## General Parameters"
   ]
  },
  {
   "cell_type": "code",
   "execution_count": 4,
   "metadata": {},
   "outputs": [],
   "source": [
    "data_name = \"Shuttle\"\n",
    "method_name = \"IForest\"\n",
    "execution_object = \"ImpactDuNombreDarbres\"\n",
    "save_fig=False"
   ]
  },
  {
   "cell_type": "markdown",
   "metadata": {},
   "source": [
    "## Shuttle"
   ]
  },
  {
   "cell_type": "markdown",
   "metadata": {},
   "source": [
    "### Exécution de Isolation Forest sur le jeux de données Shuttle en faisant varier n_estimators"
   ]
  },
  {
   "cell_type": "markdown",
   "metadata": {},
   "source": [
    "### Impact du nombre d'arbre sur les performances de IForest\n",
    "Utilisant les valeurs par défaut des paramètres de IForest au niveau de scikit-learn"
   ]
  },
  {
   "cell_type": "code",
   "execution_count": 5,
   "metadata": {},
   "outputs": [
    {
     "name": "stdout",
     "output_type": "stream",
     "text": [
      "n_estimators = 10\n"
     ]
    },
    {
     "name": "stderr",
     "output_type": "stream",
     "text": [
      "/Users/maurrastogbe/opt/anaconda3/lib/python3.7/site-packages/sklearn/ensemble/_iforest.py:248: FutureWarning: 'behaviour' is deprecated in 0.22 and will be removed in 0.24. You should not pass or set this parameter.\n",
      "  FutureWarning\n"
     ]
    },
    {
     "name": "stdout",
     "output_type": "stream",
     "text": [
      "n_estimators = 20\n"
     ]
    },
    {
     "name": "stderr",
     "output_type": "stream",
     "text": [
      "/Users/maurrastogbe/opt/anaconda3/lib/python3.7/site-packages/sklearn/ensemble/_iforest.py:248: FutureWarning: 'behaviour' is deprecated in 0.22 and will be removed in 0.24. You should not pass or set this parameter.\n",
      "  FutureWarning\n"
     ]
    },
    {
     "name": "stdout",
     "output_type": "stream",
     "text": [
      "n_estimators = 30\n"
     ]
    },
    {
     "name": "stderr",
     "output_type": "stream",
     "text": [
      "/Users/maurrastogbe/opt/anaconda3/lib/python3.7/site-packages/sklearn/ensemble/_iforest.py:248: FutureWarning: 'behaviour' is deprecated in 0.22 and will be removed in 0.24. You should not pass or set this parameter.\n",
      "  FutureWarning\n"
     ]
    },
    {
     "name": "stdout",
     "output_type": "stream",
     "text": [
      "n_estimators = 40\n"
     ]
    },
    {
     "name": "stderr",
     "output_type": "stream",
     "text": [
      "/Users/maurrastogbe/opt/anaconda3/lib/python3.7/site-packages/sklearn/ensemble/_iforest.py:248: FutureWarning: 'behaviour' is deprecated in 0.22 and will be removed in 0.24. You should not pass or set this parameter.\n",
      "  FutureWarning\n"
     ]
    },
    {
     "name": "stdout",
     "output_type": "stream",
     "text": [
      "n_estimators = 50\n"
     ]
    },
    {
     "name": "stderr",
     "output_type": "stream",
     "text": [
      "/Users/maurrastogbe/opt/anaconda3/lib/python3.7/site-packages/sklearn/ensemble/_iforest.py:248: FutureWarning: 'behaviour' is deprecated in 0.22 and will be removed in 0.24. You should not pass or set this parameter.\n",
      "  FutureWarning\n"
     ]
    },
    {
     "name": "stdout",
     "output_type": "stream",
     "text": [
      "n_estimators = 60\n"
     ]
    },
    {
     "name": "stderr",
     "output_type": "stream",
     "text": [
      "/Users/maurrastogbe/opt/anaconda3/lib/python3.7/site-packages/sklearn/ensemble/_iforest.py:248: FutureWarning: 'behaviour' is deprecated in 0.22 and will be removed in 0.24. You should not pass or set this parameter.\n",
      "  FutureWarning\n"
     ]
    },
    {
     "name": "stdout",
     "output_type": "stream",
     "text": [
      "n_estimators = 70\n"
     ]
    },
    {
     "name": "stderr",
     "output_type": "stream",
     "text": [
      "/Users/maurrastogbe/opt/anaconda3/lib/python3.7/site-packages/sklearn/ensemble/_iforest.py:248: FutureWarning: 'behaviour' is deprecated in 0.22 and will be removed in 0.24. You should not pass or set this parameter.\n",
      "  FutureWarning\n"
     ]
    },
    {
     "name": "stdout",
     "output_type": "stream",
     "text": [
      "n_estimators = 80\n"
     ]
    },
    {
     "name": "stderr",
     "output_type": "stream",
     "text": [
      "/Users/maurrastogbe/opt/anaconda3/lib/python3.7/site-packages/sklearn/ensemble/_iforest.py:248: FutureWarning: 'behaviour' is deprecated in 0.22 and will be removed in 0.24. You should not pass or set this parameter.\n",
      "  FutureWarning\n"
     ]
    },
    {
     "name": "stdout",
     "output_type": "stream",
     "text": [
      "n_estimators = 90\n"
     ]
    },
    {
     "name": "stderr",
     "output_type": "stream",
     "text": [
      "/Users/maurrastogbe/opt/anaconda3/lib/python3.7/site-packages/sklearn/ensemble/_iforest.py:248: FutureWarning: 'behaviour' is deprecated in 0.22 and will be removed in 0.24. You should not pass or set this parameter.\n",
      "  FutureWarning\n"
     ]
    },
    {
     "name": "stdout",
     "output_type": "stream",
     "text": [
      "n_estimators = 100\n"
     ]
    },
    {
     "name": "stderr",
     "output_type": "stream",
     "text": [
      "/Users/maurrastogbe/opt/anaconda3/lib/python3.7/site-packages/sklearn/ensemble/_iforest.py:248: FutureWarning: 'behaviour' is deprecated in 0.22 and will be removed in 0.24. You should not pass or set this parameter.\n",
      "  FutureWarning\n"
     ]
    },
    {
     "name": "stdout",
     "output_type": "stream",
     "text": [
      "n_estimators = 110\n"
     ]
    },
    {
     "name": "stderr",
     "output_type": "stream",
     "text": [
      "/Users/maurrastogbe/opt/anaconda3/lib/python3.7/site-packages/sklearn/ensemble/_iforest.py:248: FutureWarning: 'behaviour' is deprecated in 0.22 and will be removed in 0.24. You should not pass or set this parameter.\n",
      "  FutureWarning\n"
     ]
    },
    {
     "name": "stdout",
     "output_type": "stream",
     "text": [
      "n_estimators = 120\n"
     ]
    },
    {
     "name": "stderr",
     "output_type": "stream",
     "text": [
      "/Users/maurrastogbe/opt/anaconda3/lib/python3.7/site-packages/sklearn/ensemble/_iforest.py:248: FutureWarning: 'behaviour' is deprecated in 0.22 and will be removed in 0.24. You should not pass or set this parameter.\n",
      "  FutureWarning\n"
     ]
    },
    {
     "name": "stdout",
     "output_type": "stream",
     "text": [
      "n_estimators = 130\n"
     ]
    },
    {
     "name": "stderr",
     "output_type": "stream",
     "text": [
      "/Users/maurrastogbe/opt/anaconda3/lib/python3.7/site-packages/sklearn/ensemble/_iforest.py:248: FutureWarning: 'behaviour' is deprecated in 0.22 and will be removed in 0.24. You should not pass or set this parameter.\n",
      "  FutureWarning\n"
     ]
    },
    {
     "name": "stdout",
     "output_type": "stream",
     "text": [
      "n_estimators = 140\n"
     ]
    },
    {
     "name": "stderr",
     "output_type": "stream",
     "text": [
      "/Users/maurrastogbe/opt/anaconda3/lib/python3.7/site-packages/sklearn/ensemble/_iforest.py:248: FutureWarning: 'behaviour' is deprecated in 0.22 and will be removed in 0.24. You should not pass or set this parameter.\n",
      "  FutureWarning\n"
     ]
    },
    {
     "name": "stdout",
     "output_type": "stream",
     "text": [
      "n_estimators = 150\n"
     ]
    },
    {
     "name": "stderr",
     "output_type": "stream",
     "text": [
      "/Users/maurrastogbe/opt/anaconda3/lib/python3.7/site-packages/sklearn/ensemble/_iforest.py:248: FutureWarning: 'behaviour' is deprecated in 0.22 and will be removed in 0.24. You should not pass or set this parameter.\n",
      "  FutureWarning\n"
     ]
    },
    {
     "name": "stdout",
     "output_type": "stream",
     "text": [
      "n_estimators = 160\n"
     ]
    },
    {
     "name": "stderr",
     "output_type": "stream",
     "text": [
      "/Users/maurrastogbe/opt/anaconda3/lib/python3.7/site-packages/sklearn/ensemble/_iforest.py:248: FutureWarning: 'behaviour' is deprecated in 0.22 and will be removed in 0.24. You should not pass or set this parameter.\n",
      "  FutureWarning\n"
     ]
    },
    {
     "name": "stdout",
     "output_type": "stream",
     "text": [
      "n_estimators = 170\n"
     ]
    },
    {
     "name": "stderr",
     "output_type": "stream",
     "text": [
      "/Users/maurrastogbe/opt/anaconda3/lib/python3.7/site-packages/sklearn/ensemble/_iforest.py:248: FutureWarning: 'behaviour' is deprecated in 0.22 and will be removed in 0.24. You should not pass or set this parameter.\n",
      "  FutureWarning\n"
     ]
    },
    {
     "name": "stdout",
     "output_type": "stream",
     "text": [
      "n_estimators = 180\n"
     ]
    },
    {
     "name": "stderr",
     "output_type": "stream",
     "text": [
      "/Users/maurrastogbe/opt/anaconda3/lib/python3.7/site-packages/sklearn/ensemble/_iforest.py:248: FutureWarning: 'behaviour' is deprecated in 0.22 and will be removed in 0.24. You should not pass or set this parameter.\n",
      "  FutureWarning\n"
     ]
    },
    {
     "name": "stdout",
     "output_type": "stream",
     "text": [
      "n_estimators = 190\n"
     ]
    },
    {
     "name": "stderr",
     "output_type": "stream",
     "text": [
      "/Users/maurrastogbe/opt/anaconda3/lib/python3.7/site-packages/sklearn/ensemble/_iforest.py:248: FutureWarning: 'behaviour' is deprecated in 0.22 and will be removed in 0.24. You should not pass or set this parameter.\n",
      "  FutureWarning\n"
     ]
    },
    {
     "name": "stdout",
     "output_type": "stream",
     "text": [
      "n_estimators = 200\n"
     ]
    },
    {
     "name": "stderr",
     "output_type": "stream",
     "text": [
      "/Users/maurrastogbe/opt/anaconda3/lib/python3.7/site-packages/sklearn/ensemble/_iforest.py:248: FutureWarning: 'behaviour' is deprecated in 0.22 and will be removed in 0.24. You should not pass or set this parameter.\n",
      "  FutureWarning\n"
     ]
    },
    {
     "name": "stdout",
     "output_type": "stream",
     "text": [
      "n_estimators = 210\n"
     ]
    },
    {
     "name": "stderr",
     "output_type": "stream",
     "text": [
      "/Users/maurrastogbe/opt/anaconda3/lib/python3.7/site-packages/sklearn/ensemble/_iforest.py:248: FutureWarning: 'behaviour' is deprecated in 0.22 and will be removed in 0.24. You should not pass or set this parameter.\n",
      "  FutureWarning\n"
     ]
    },
    {
     "name": "stdout",
     "output_type": "stream",
     "text": [
      "n_estimators = 220\n"
     ]
    },
    {
     "name": "stderr",
     "output_type": "stream",
     "text": [
      "/Users/maurrastogbe/opt/anaconda3/lib/python3.7/site-packages/sklearn/ensemble/_iforest.py:248: FutureWarning: 'behaviour' is deprecated in 0.22 and will be removed in 0.24. You should not pass or set this parameter.\n",
      "  FutureWarning\n"
     ]
    },
    {
     "name": "stdout",
     "output_type": "stream",
     "text": [
      "n_estimators = 230\n"
     ]
    },
    {
     "name": "stderr",
     "output_type": "stream",
     "text": [
      "/Users/maurrastogbe/opt/anaconda3/lib/python3.7/site-packages/sklearn/ensemble/_iforest.py:248: FutureWarning: 'behaviour' is deprecated in 0.22 and will be removed in 0.24. You should not pass or set this parameter.\n",
      "  FutureWarning\n"
     ]
    },
    {
     "name": "stdout",
     "output_type": "stream",
     "text": [
      "n_estimators = 240\n"
     ]
    },
    {
     "name": "stderr",
     "output_type": "stream",
     "text": [
      "/Users/maurrastogbe/opt/anaconda3/lib/python3.7/site-packages/sklearn/ensemble/_iforest.py:248: FutureWarning: 'behaviour' is deprecated in 0.22 and will be removed in 0.24. You should not pass or set this parameter.\n",
      "  FutureWarning\n"
     ]
    },
    {
     "name": "stdout",
     "output_type": "stream",
     "text": [
      "n_estimators = 250\n"
     ]
    },
    {
     "name": "stderr",
     "output_type": "stream",
     "text": [
      "/Users/maurrastogbe/opt/anaconda3/lib/python3.7/site-packages/sklearn/ensemble/_iforest.py:248: FutureWarning: 'behaviour' is deprecated in 0.22 and will be removed in 0.24. You should not pass or set this parameter.\n",
      "  FutureWarning\n"
     ]
    },
    {
     "name": "stdout",
     "output_type": "stream",
     "text": [
      "n_estimators = 260\n"
     ]
    },
    {
     "name": "stderr",
     "output_type": "stream",
     "text": [
      "/Users/maurrastogbe/opt/anaconda3/lib/python3.7/site-packages/sklearn/ensemble/_iforest.py:248: FutureWarning: 'behaviour' is deprecated in 0.22 and will be removed in 0.24. You should not pass or set this parameter.\n",
      "  FutureWarning\n"
     ]
    },
    {
     "name": "stdout",
     "output_type": "stream",
     "text": [
      "n_estimators = 270\n"
     ]
    },
    {
     "name": "stderr",
     "output_type": "stream",
     "text": [
      "/Users/maurrastogbe/opt/anaconda3/lib/python3.7/site-packages/sklearn/ensemble/_iforest.py:248: FutureWarning: 'behaviour' is deprecated in 0.22 and will be removed in 0.24. You should not pass or set this parameter.\n",
      "  FutureWarning\n"
     ]
    },
    {
     "name": "stdout",
     "output_type": "stream",
     "text": [
      "n_estimators = 280\n"
     ]
    },
    {
     "name": "stderr",
     "output_type": "stream",
     "text": [
      "/Users/maurrastogbe/opt/anaconda3/lib/python3.7/site-packages/sklearn/ensemble/_iforest.py:248: FutureWarning: 'behaviour' is deprecated in 0.22 and will be removed in 0.24. You should not pass or set this parameter.\n",
      "  FutureWarning\n"
     ]
    },
    {
     "name": "stdout",
     "output_type": "stream",
     "text": [
      "n_estimators = 290\n"
     ]
    },
    {
     "name": "stderr",
     "output_type": "stream",
     "text": [
      "/Users/maurrastogbe/opt/anaconda3/lib/python3.7/site-packages/sklearn/ensemble/_iforest.py:248: FutureWarning: 'behaviour' is deprecated in 0.22 and will be removed in 0.24. You should not pass or set this parameter.\n",
      "  FutureWarning\n"
     ]
    },
    {
     "name": "stdout",
     "output_type": "stream",
     "text": [
      "n_estimators = 300\n"
     ]
    },
    {
     "name": "stderr",
     "output_type": "stream",
     "text": [
      "/Users/maurrastogbe/opt/anaconda3/lib/python3.7/site-packages/sklearn/ensemble/_iforest.py:248: FutureWarning: 'behaviour' is deprecated in 0.22 and will be removed in 0.24. You should not pass or set this parameter.\n",
      "  FutureWarning\n"
     ]
    },
    {
     "name": "stdout",
     "output_type": "stream",
     "text": [
      "n_estimators = 310\n"
     ]
    },
    {
     "name": "stderr",
     "output_type": "stream",
     "text": [
      "/Users/maurrastogbe/opt/anaconda3/lib/python3.7/site-packages/sklearn/ensemble/_iforest.py:248: FutureWarning: 'behaviour' is deprecated in 0.22 and will be removed in 0.24. You should not pass or set this parameter.\n",
      "  FutureWarning\n"
     ]
    },
    {
     "name": "stdout",
     "output_type": "stream",
     "text": [
      "n_estimators = 320\n"
     ]
    },
    {
     "name": "stderr",
     "output_type": "stream",
     "text": [
      "/Users/maurrastogbe/opt/anaconda3/lib/python3.7/site-packages/sklearn/ensemble/_iforest.py:248: FutureWarning: 'behaviour' is deprecated in 0.22 and will be removed in 0.24. You should not pass or set this parameter.\n",
      "  FutureWarning\n"
     ]
    },
    {
     "name": "stdout",
     "output_type": "stream",
     "text": [
      "n_estimators = 330\n"
     ]
    },
    {
     "name": "stderr",
     "output_type": "stream",
     "text": [
      "/Users/maurrastogbe/opt/anaconda3/lib/python3.7/site-packages/sklearn/ensemble/_iforest.py:248: FutureWarning: 'behaviour' is deprecated in 0.22 and will be removed in 0.24. You should not pass or set this parameter.\n",
      "  FutureWarning\n"
     ]
    },
    {
     "name": "stdout",
     "output_type": "stream",
     "text": [
      "n_estimators = 340\n"
     ]
    },
    {
     "name": "stderr",
     "output_type": "stream",
     "text": [
      "/Users/maurrastogbe/opt/anaconda3/lib/python3.7/site-packages/sklearn/ensemble/_iforest.py:248: FutureWarning: 'behaviour' is deprecated in 0.22 and will be removed in 0.24. You should not pass or set this parameter.\n",
      "  FutureWarning\n"
     ]
    },
    {
     "name": "stdout",
     "output_type": "stream",
     "text": [
      "n_estimators = 350\n"
     ]
    },
    {
     "name": "stderr",
     "output_type": "stream",
     "text": [
      "/Users/maurrastogbe/opt/anaconda3/lib/python3.7/site-packages/sklearn/ensemble/_iforest.py:248: FutureWarning: 'behaviour' is deprecated in 0.22 and will be removed in 0.24. You should not pass or set this parameter.\n",
      "  FutureWarning\n"
     ]
    },
    {
     "name": "stdout",
     "output_type": "stream",
     "text": [
      "n_estimators = 360\n"
     ]
    },
    {
     "name": "stderr",
     "output_type": "stream",
     "text": [
      "/Users/maurrastogbe/opt/anaconda3/lib/python3.7/site-packages/sklearn/ensemble/_iforest.py:248: FutureWarning: 'behaviour' is deprecated in 0.22 and will be removed in 0.24. You should not pass or set this parameter.\n",
      "  FutureWarning\n"
     ]
    },
    {
     "name": "stdout",
     "output_type": "stream",
     "text": [
      "n_estimators = 370\n"
     ]
    },
    {
     "name": "stderr",
     "output_type": "stream",
     "text": [
      "/Users/maurrastogbe/opt/anaconda3/lib/python3.7/site-packages/sklearn/ensemble/_iforest.py:248: FutureWarning: 'behaviour' is deprecated in 0.22 and will be removed in 0.24. You should not pass or set this parameter.\n",
      "  FutureWarning\n"
     ]
    },
    {
     "name": "stdout",
     "output_type": "stream",
     "text": [
      "n_estimators = 380\n"
     ]
    },
    {
     "name": "stderr",
     "output_type": "stream",
     "text": [
      "/Users/maurrastogbe/opt/anaconda3/lib/python3.7/site-packages/sklearn/ensemble/_iforest.py:248: FutureWarning: 'behaviour' is deprecated in 0.22 and will be removed in 0.24. You should not pass or set this parameter.\n",
      "  FutureWarning\n"
     ]
    },
    {
     "name": "stdout",
     "output_type": "stream",
     "text": [
      "n_estimators = 390\n"
     ]
    },
    {
     "name": "stderr",
     "output_type": "stream",
     "text": [
      "/Users/maurrastogbe/opt/anaconda3/lib/python3.7/site-packages/sklearn/ensemble/_iforest.py:248: FutureWarning: 'behaviour' is deprecated in 0.22 and will be removed in 0.24. You should not pass or set this parameter.\n",
      "  FutureWarning\n"
     ]
    },
    {
     "name": "stdout",
     "output_type": "stream",
     "text": [
      "n_estimators = 400\n"
     ]
    },
    {
     "name": "stderr",
     "output_type": "stream",
     "text": [
      "/Users/maurrastogbe/opt/anaconda3/lib/python3.7/site-packages/sklearn/ensemble/_iforest.py:248: FutureWarning: 'behaviour' is deprecated in 0.22 and will be removed in 0.24. You should not pass or set this parameter.\n",
      "  FutureWarning\n"
     ]
    },
    {
     "name": "stdout",
     "output_type": "stream",
     "text": [
      "n_estimators = 410\n"
     ]
    },
    {
     "name": "stderr",
     "output_type": "stream",
     "text": [
      "/Users/maurrastogbe/opt/anaconda3/lib/python3.7/site-packages/sklearn/ensemble/_iforest.py:248: FutureWarning: 'behaviour' is deprecated in 0.22 and will be removed in 0.24. You should not pass or set this parameter.\n",
      "  FutureWarning\n"
     ]
    },
    {
     "name": "stdout",
     "output_type": "stream",
     "text": [
      "n_estimators = 420\n"
     ]
    },
    {
     "name": "stderr",
     "output_type": "stream",
     "text": [
      "/Users/maurrastogbe/opt/anaconda3/lib/python3.7/site-packages/sklearn/ensemble/_iforest.py:248: FutureWarning: 'behaviour' is deprecated in 0.22 and will be removed in 0.24. You should not pass or set this parameter.\n",
      "  FutureWarning\n"
     ]
    },
    {
     "name": "stdout",
     "output_type": "stream",
     "text": [
      "n_estimators = 430\n"
     ]
    },
    {
     "name": "stderr",
     "output_type": "stream",
     "text": [
      "/Users/maurrastogbe/opt/anaconda3/lib/python3.7/site-packages/sklearn/ensemble/_iforest.py:248: FutureWarning: 'behaviour' is deprecated in 0.22 and will be removed in 0.24. You should not pass or set this parameter.\n",
      "  FutureWarning\n"
     ]
    },
    {
     "name": "stdout",
     "output_type": "stream",
     "text": [
      "n_estimators = 440\n"
     ]
    },
    {
     "name": "stderr",
     "output_type": "stream",
     "text": [
      "/Users/maurrastogbe/opt/anaconda3/lib/python3.7/site-packages/sklearn/ensemble/_iforest.py:248: FutureWarning: 'behaviour' is deprecated in 0.22 and will be removed in 0.24. You should not pass or set this parameter.\n",
      "  FutureWarning\n"
     ]
    },
    {
     "name": "stdout",
     "output_type": "stream",
     "text": [
      "n_estimators = 450\n"
     ]
    },
    {
     "name": "stderr",
     "output_type": "stream",
     "text": [
      "/Users/maurrastogbe/opt/anaconda3/lib/python3.7/site-packages/sklearn/ensemble/_iforest.py:248: FutureWarning: 'behaviour' is deprecated in 0.22 and will be removed in 0.24. You should not pass or set this parameter.\n",
      "  FutureWarning\n"
     ]
    },
    {
     "name": "stdout",
     "output_type": "stream",
     "text": [
      "n_estimators = 460\n"
     ]
    },
    {
     "name": "stderr",
     "output_type": "stream",
     "text": [
      "/Users/maurrastogbe/opt/anaconda3/lib/python3.7/site-packages/sklearn/ensemble/_iforest.py:248: FutureWarning: 'behaviour' is deprecated in 0.22 and will be removed in 0.24. You should not pass or set this parameter.\n",
      "  FutureWarning\n"
     ]
    },
    {
     "name": "stdout",
     "output_type": "stream",
     "text": [
      "n_estimators = 470\n"
     ]
    },
    {
     "name": "stderr",
     "output_type": "stream",
     "text": [
      "/Users/maurrastogbe/opt/anaconda3/lib/python3.7/site-packages/sklearn/ensemble/_iforest.py:248: FutureWarning: 'behaviour' is deprecated in 0.22 and will be removed in 0.24. You should not pass or set this parameter.\n",
      "  FutureWarning\n"
     ]
    },
    {
     "name": "stdout",
     "output_type": "stream",
     "text": [
      "n_estimators = 480\n"
     ]
    },
    {
     "name": "stderr",
     "output_type": "stream",
     "text": [
      "/Users/maurrastogbe/opt/anaconda3/lib/python3.7/site-packages/sklearn/ensemble/_iforest.py:248: FutureWarning: 'behaviour' is deprecated in 0.22 and will be removed in 0.24. You should not pass or set this parameter.\n",
      "  FutureWarning\n"
     ]
    },
    {
     "name": "stdout",
     "output_type": "stream",
     "text": [
      "n_estimators = 490\n"
     ]
    },
    {
     "name": "stderr",
     "output_type": "stream",
     "text": [
      "/Users/maurrastogbe/opt/anaconda3/lib/python3.7/site-packages/sklearn/ensemble/_iforest.py:248: FutureWarning: 'behaviour' is deprecated in 0.22 and will be removed in 0.24. You should not pass or set this parameter.\n",
      "  FutureWarning\n"
     ]
    },
    {
     "name": "stdout",
     "output_type": "stream",
     "text": [
      "n_estimators = 500\n"
     ]
    },
    {
     "name": "stderr",
     "output_type": "stream",
     "text": [
      "/Users/maurrastogbe/opt/anaconda3/lib/python3.7/site-packages/sklearn/ensemble/_iforest.py:248: FutureWarning: 'behaviour' is deprecated in 0.22 and will be removed in 0.24. You should not pass or set this parameter.\n",
      "  FutureWarning\n"
     ]
    },
    {
     "name": "stdout",
     "output_type": "stream",
     "text": [
      "n_estimators = 510\n"
     ]
    },
    {
     "name": "stderr",
     "output_type": "stream",
     "text": [
      "/Users/maurrastogbe/opt/anaconda3/lib/python3.7/site-packages/sklearn/ensemble/_iforest.py:248: FutureWarning: 'behaviour' is deprecated in 0.22 and will be removed in 0.24. You should not pass or set this parameter.\n",
      "  FutureWarning\n"
     ]
    },
    {
     "name": "stdout",
     "output_type": "stream",
     "text": [
      "n_estimators = 520\n"
     ]
    },
    {
     "name": "stderr",
     "output_type": "stream",
     "text": [
      "/Users/maurrastogbe/opt/anaconda3/lib/python3.7/site-packages/sklearn/ensemble/_iforest.py:248: FutureWarning: 'behaviour' is deprecated in 0.22 and will be removed in 0.24. You should not pass or set this parameter.\n",
      "  FutureWarning\n"
     ]
    },
    {
     "name": "stdout",
     "output_type": "stream",
     "text": [
      "n_estimators = 530\n"
     ]
    },
    {
     "name": "stderr",
     "output_type": "stream",
     "text": [
      "/Users/maurrastogbe/opt/anaconda3/lib/python3.7/site-packages/sklearn/ensemble/_iforest.py:248: FutureWarning: 'behaviour' is deprecated in 0.22 and will be removed in 0.24. You should not pass or set this parameter.\n",
      "  FutureWarning\n"
     ]
    },
    {
     "name": "stdout",
     "output_type": "stream",
     "text": [
      "n_estimators = 540\n"
     ]
    },
    {
     "name": "stderr",
     "output_type": "stream",
     "text": [
      "/Users/maurrastogbe/opt/anaconda3/lib/python3.7/site-packages/sklearn/ensemble/_iforest.py:248: FutureWarning: 'behaviour' is deprecated in 0.22 and will be removed in 0.24. You should not pass or set this parameter.\n",
      "  FutureWarning\n"
     ]
    },
    {
     "name": "stdout",
     "output_type": "stream",
     "text": [
      "n_estimators = 550\n"
     ]
    },
    {
     "name": "stderr",
     "output_type": "stream",
     "text": [
      "/Users/maurrastogbe/opt/anaconda3/lib/python3.7/site-packages/sklearn/ensemble/_iforest.py:248: FutureWarning: 'behaviour' is deprecated in 0.22 and will be removed in 0.24. You should not pass or set this parameter.\n",
      "  FutureWarning\n"
     ]
    },
    {
     "name": "stdout",
     "output_type": "stream",
     "text": [
      "n_estimators = 560\n"
     ]
    },
    {
     "name": "stderr",
     "output_type": "stream",
     "text": [
      "/Users/maurrastogbe/opt/anaconda3/lib/python3.7/site-packages/sklearn/ensemble/_iforest.py:248: FutureWarning: 'behaviour' is deprecated in 0.22 and will be removed in 0.24. You should not pass or set this parameter.\n",
      "  FutureWarning\n"
     ]
    },
    {
     "name": "stdout",
     "output_type": "stream",
     "text": [
      "n_estimators = 570\n"
     ]
    },
    {
     "name": "stderr",
     "output_type": "stream",
     "text": [
      "/Users/maurrastogbe/opt/anaconda3/lib/python3.7/site-packages/sklearn/ensemble/_iforest.py:248: FutureWarning: 'behaviour' is deprecated in 0.22 and will be removed in 0.24. You should not pass or set this parameter.\n",
      "  FutureWarning\n"
     ]
    },
    {
     "name": "stdout",
     "output_type": "stream",
     "text": [
      "n_estimators = 580\n"
     ]
    },
    {
     "name": "stderr",
     "output_type": "stream",
     "text": [
      "/Users/maurrastogbe/opt/anaconda3/lib/python3.7/site-packages/sklearn/ensemble/_iforest.py:248: FutureWarning: 'behaviour' is deprecated in 0.22 and will be removed in 0.24. You should not pass or set this parameter.\n",
      "  FutureWarning\n"
     ]
    },
    {
     "name": "stdout",
     "output_type": "stream",
     "text": [
      "n_estimators = 590\n"
     ]
    },
    {
     "name": "stderr",
     "output_type": "stream",
     "text": [
      "/Users/maurrastogbe/opt/anaconda3/lib/python3.7/site-packages/sklearn/ensemble/_iforest.py:248: FutureWarning: 'behaviour' is deprecated in 0.22 and will be removed in 0.24. You should not pass or set this parameter.\n",
      "  FutureWarning\n"
     ]
    },
    {
     "name": "stdout",
     "output_type": "stream",
     "text": [
      "n_estimators = 600\n"
     ]
    },
    {
     "name": "stderr",
     "output_type": "stream",
     "text": [
      "/Users/maurrastogbe/opt/anaconda3/lib/python3.7/site-packages/sklearn/ensemble/_iforest.py:248: FutureWarning: 'behaviour' is deprecated in 0.22 and will be removed in 0.24. You should not pass or set this parameter.\n",
      "  FutureWarning\n"
     ]
    },
    {
     "name": "stdout",
     "output_type": "stream",
     "text": [
      "n_estimators = 610\n"
     ]
    },
    {
     "name": "stderr",
     "output_type": "stream",
     "text": [
      "/Users/maurrastogbe/opt/anaconda3/lib/python3.7/site-packages/sklearn/ensemble/_iforest.py:248: FutureWarning: 'behaviour' is deprecated in 0.22 and will be removed in 0.24. You should not pass or set this parameter.\n",
      "  FutureWarning\n"
     ]
    },
    {
     "name": "stdout",
     "output_type": "stream",
     "text": [
      "n_estimators = 620\n"
     ]
    },
    {
     "name": "stderr",
     "output_type": "stream",
     "text": [
      "/Users/maurrastogbe/opt/anaconda3/lib/python3.7/site-packages/sklearn/ensemble/_iforest.py:248: FutureWarning: 'behaviour' is deprecated in 0.22 and will be removed in 0.24. You should not pass or set this parameter.\n",
      "  FutureWarning\n"
     ]
    },
    {
     "name": "stdout",
     "output_type": "stream",
     "text": [
      "n_estimators = 630\n"
     ]
    },
    {
     "name": "stderr",
     "output_type": "stream",
     "text": [
      "/Users/maurrastogbe/opt/anaconda3/lib/python3.7/site-packages/sklearn/ensemble/_iforest.py:248: FutureWarning: 'behaviour' is deprecated in 0.22 and will be removed in 0.24. You should not pass or set this parameter.\n",
      "  FutureWarning\n"
     ]
    },
    {
     "name": "stdout",
     "output_type": "stream",
     "text": [
      "n_estimators = 640\n"
     ]
    },
    {
     "name": "stderr",
     "output_type": "stream",
     "text": [
      "/Users/maurrastogbe/opt/anaconda3/lib/python3.7/site-packages/sklearn/ensemble/_iforest.py:248: FutureWarning: 'behaviour' is deprecated in 0.22 and will be removed in 0.24. You should not pass or set this parameter.\n",
      "  FutureWarning\n"
     ]
    },
    {
     "name": "stdout",
     "output_type": "stream",
     "text": [
      "n_estimators = 650\n"
     ]
    },
    {
     "name": "stderr",
     "output_type": "stream",
     "text": [
      "/Users/maurrastogbe/opt/anaconda3/lib/python3.7/site-packages/sklearn/ensemble/_iforest.py:248: FutureWarning: 'behaviour' is deprecated in 0.22 and will be removed in 0.24. You should not pass or set this parameter.\n",
      "  FutureWarning\n"
     ]
    },
    {
     "name": "stdout",
     "output_type": "stream",
     "text": [
      "n_estimators = 660\n"
     ]
    },
    {
     "name": "stderr",
     "output_type": "stream",
     "text": [
      "/Users/maurrastogbe/opt/anaconda3/lib/python3.7/site-packages/sklearn/ensemble/_iforest.py:248: FutureWarning: 'behaviour' is deprecated in 0.22 and will be removed in 0.24. You should not pass or set this parameter.\n",
      "  FutureWarning\n"
     ]
    },
    {
     "name": "stdout",
     "output_type": "stream",
     "text": [
      "n_estimators = 670\n"
     ]
    },
    {
     "name": "stderr",
     "output_type": "stream",
     "text": [
      "/Users/maurrastogbe/opt/anaconda3/lib/python3.7/site-packages/sklearn/ensemble/_iforest.py:248: FutureWarning: 'behaviour' is deprecated in 0.22 and will be removed in 0.24. You should not pass or set this parameter.\n",
      "  FutureWarning\n"
     ]
    },
    {
     "name": "stdout",
     "output_type": "stream",
     "text": [
      "n_estimators = 680\n"
     ]
    },
    {
     "name": "stderr",
     "output_type": "stream",
     "text": [
      "/Users/maurrastogbe/opt/anaconda3/lib/python3.7/site-packages/sklearn/ensemble/_iforest.py:248: FutureWarning: 'behaviour' is deprecated in 0.22 and will be removed in 0.24. You should not pass or set this parameter.\n",
      "  FutureWarning\n"
     ]
    },
    {
     "name": "stdout",
     "output_type": "stream",
     "text": [
      "n_estimators = 690\n"
     ]
    },
    {
     "name": "stderr",
     "output_type": "stream",
     "text": [
      "/Users/maurrastogbe/opt/anaconda3/lib/python3.7/site-packages/sklearn/ensemble/_iforest.py:248: FutureWarning: 'behaviour' is deprecated in 0.22 and will be removed in 0.24. You should not pass or set this parameter.\n",
      "  FutureWarning\n"
     ]
    },
    {
     "name": "stdout",
     "output_type": "stream",
     "text": [
      "n_estimators = 700\n"
     ]
    },
    {
     "name": "stderr",
     "output_type": "stream",
     "text": [
      "/Users/maurrastogbe/opt/anaconda3/lib/python3.7/site-packages/sklearn/ensemble/_iforest.py:248: FutureWarning: 'behaviour' is deprecated in 0.22 and will be removed in 0.24. You should not pass or set this parameter.\n",
      "  FutureWarning\n"
     ]
    },
    {
     "name": "stdout",
     "output_type": "stream",
     "text": [
      "n_estimators = 710\n"
     ]
    },
    {
     "name": "stderr",
     "output_type": "stream",
     "text": [
      "/Users/maurrastogbe/opt/anaconda3/lib/python3.7/site-packages/sklearn/ensemble/_iforest.py:248: FutureWarning: 'behaviour' is deprecated in 0.22 and will be removed in 0.24. You should not pass or set this parameter.\n",
      "  FutureWarning\n"
     ]
    },
    {
     "name": "stdout",
     "output_type": "stream",
     "text": [
      "n_estimators = 720\n"
     ]
    },
    {
     "name": "stderr",
     "output_type": "stream",
     "text": [
      "/Users/maurrastogbe/opt/anaconda3/lib/python3.7/site-packages/sklearn/ensemble/_iforest.py:248: FutureWarning: 'behaviour' is deprecated in 0.22 and will be removed in 0.24. You should not pass or set this parameter.\n",
      "  FutureWarning\n"
     ]
    },
    {
     "name": "stdout",
     "output_type": "stream",
     "text": [
      "n_estimators = 730\n"
     ]
    },
    {
     "name": "stderr",
     "output_type": "stream",
     "text": [
      "/Users/maurrastogbe/opt/anaconda3/lib/python3.7/site-packages/sklearn/ensemble/_iforest.py:248: FutureWarning: 'behaviour' is deprecated in 0.22 and will be removed in 0.24. You should not pass or set this parameter.\n",
      "  FutureWarning\n"
     ]
    },
    {
     "name": "stdout",
     "output_type": "stream",
     "text": [
      "n_estimators = 740\n"
     ]
    },
    {
     "name": "stderr",
     "output_type": "stream",
     "text": [
      "/Users/maurrastogbe/opt/anaconda3/lib/python3.7/site-packages/sklearn/ensemble/_iforest.py:248: FutureWarning: 'behaviour' is deprecated in 0.22 and will be removed in 0.24. You should not pass or set this parameter.\n",
      "  FutureWarning\n"
     ]
    },
    {
     "name": "stdout",
     "output_type": "stream",
     "text": [
      "n_estimators = 750\n"
     ]
    },
    {
     "name": "stderr",
     "output_type": "stream",
     "text": [
      "/Users/maurrastogbe/opt/anaconda3/lib/python3.7/site-packages/sklearn/ensemble/_iforest.py:248: FutureWarning: 'behaviour' is deprecated in 0.22 and will be removed in 0.24. You should not pass or set this parameter.\n",
      "  FutureWarning\n"
     ]
    },
    {
     "name": "stdout",
     "output_type": "stream",
     "text": [
      "n_estimators = 760\n"
     ]
    },
    {
     "name": "stderr",
     "output_type": "stream",
     "text": [
      "/Users/maurrastogbe/opt/anaconda3/lib/python3.7/site-packages/sklearn/ensemble/_iforest.py:248: FutureWarning: 'behaviour' is deprecated in 0.22 and will be removed in 0.24. You should not pass or set this parameter.\n",
      "  FutureWarning\n"
     ]
    },
    {
     "name": "stdout",
     "output_type": "stream",
     "text": [
      "n_estimators = 770\n"
     ]
    },
    {
     "name": "stderr",
     "output_type": "stream",
     "text": [
      "/Users/maurrastogbe/opt/anaconda3/lib/python3.7/site-packages/sklearn/ensemble/_iforest.py:248: FutureWarning: 'behaviour' is deprecated in 0.22 and will be removed in 0.24. You should not pass or set this parameter.\n",
      "  FutureWarning\n"
     ]
    },
    {
     "name": "stdout",
     "output_type": "stream",
     "text": [
      "n_estimators = 780\n"
     ]
    },
    {
     "name": "stderr",
     "output_type": "stream",
     "text": [
      "/Users/maurrastogbe/opt/anaconda3/lib/python3.7/site-packages/sklearn/ensemble/_iforest.py:248: FutureWarning: 'behaviour' is deprecated in 0.22 and will be removed in 0.24. You should not pass or set this parameter.\n",
      "  FutureWarning\n"
     ]
    },
    {
     "name": "stdout",
     "output_type": "stream",
     "text": [
      "n_estimators = 790\n"
     ]
    },
    {
     "name": "stderr",
     "output_type": "stream",
     "text": [
      "/Users/maurrastogbe/opt/anaconda3/lib/python3.7/site-packages/sklearn/ensemble/_iforest.py:248: FutureWarning: 'behaviour' is deprecated in 0.22 and will be removed in 0.24. You should not pass or set this parameter.\n",
      "  FutureWarning\n"
     ]
    },
    {
     "name": "stdout",
     "output_type": "stream",
     "text": [
      "n_estimators = 800\n"
     ]
    },
    {
     "name": "stderr",
     "output_type": "stream",
     "text": [
      "/Users/maurrastogbe/opt/anaconda3/lib/python3.7/site-packages/sklearn/ensemble/_iforest.py:248: FutureWarning: 'behaviour' is deprecated in 0.22 and will be removed in 0.24. You should not pass or set this parameter.\n",
      "  FutureWarning\n"
     ]
    },
    {
     "name": "stdout",
     "output_type": "stream",
     "text": [
      "n_estimators = 810\n"
     ]
    },
    {
     "name": "stderr",
     "output_type": "stream",
     "text": [
      "/Users/maurrastogbe/opt/anaconda3/lib/python3.7/site-packages/sklearn/ensemble/_iforest.py:248: FutureWarning: 'behaviour' is deprecated in 0.22 and will be removed in 0.24. You should not pass or set this parameter.\n",
      "  FutureWarning\n"
     ]
    },
    {
     "name": "stdout",
     "output_type": "stream",
     "text": [
      "n_estimators = 820\n"
     ]
    },
    {
     "name": "stderr",
     "output_type": "stream",
     "text": [
      "/Users/maurrastogbe/opt/anaconda3/lib/python3.7/site-packages/sklearn/ensemble/_iforest.py:248: FutureWarning: 'behaviour' is deprecated in 0.22 and will be removed in 0.24. You should not pass or set this parameter.\n",
      "  FutureWarning\n"
     ]
    },
    {
     "name": "stdout",
     "output_type": "stream",
     "text": [
      "n_estimators = 830\n"
     ]
    },
    {
     "name": "stderr",
     "output_type": "stream",
     "text": [
      "/Users/maurrastogbe/opt/anaconda3/lib/python3.7/site-packages/sklearn/ensemble/_iforest.py:248: FutureWarning: 'behaviour' is deprecated in 0.22 and will be removed in 0.24. You should not pass or set this parameter.\n",
      "  FutureWarning\n"
     ]
    },
    {
     "name": "stdout",
     "output_type": "stream",
     "text": [
      "n_estimators = 840\n"
     ]
    },
    {
     "name": "stderr",
     "output_type": "stream",
     "text": [
      "/Users/maurrastogbe/opt/anaconda3/lib/python3.7/site-packages/sklearn/ensemble/_iforest.py:248: FutureWarning: 'behaviour' is deprecated in 0.22 and will be removed in 0.24. You should not pass or set this parameter.\n",
      "  FutureWarning\n"
     ]
    },
    {
     "name": "stdout",
     "output_type": "stream",
     "text": [
      "n_estimators = 850\n"
     ]
    },
    {
     "name": "stderr",
     "output_type": "stream",
     "text": [
      "/Users/maurrastogbe/opt/anaconda3/lib/python3.7/site-packages/sklearn/ensemble/_iforest.py:248: FutureWarning: 'behaviour' is deprecated in 0.22 and will be removed in 0.24. You should not pass or set this parameter.\n",
      "  FutureWarning\n"
     ]
    },
    {
     "name": "stdout",
     "output_type": "stream",
     "text": [
      "n_estimators = 860\n"
     ]
    },
    {
     "name": "stderr",
     "output_type": "stream",
     "text": [
      "/Users/maurrastogbe/opt/anaconda3/lib/python3.7/site-packages/sklearn/ensemble/_iforest.py:248: FutureWarning: 'behaviour' is deprecated in 0.22 and will be removed in 0.24. You should not pass or set this parameter.\n",
      "  FutureWarning\n"
     ]
    },
    {
     "name": "stdout",
     "output_type": "stream",
     "text": [
      "n_estimators = 870\n"
     ]
    },
    {
     "name": "stderr",
     "output_type": "stream",
     "text": [
      "/Users/maurrastogbe/opt/anaconda3/lib/python3.7/site-packages/sklearn/ensemble/_iforest.py:248: FutureWarning: 'behaviour' is deprecated in 0.22 and will be removed in 0.24. You should not pass or set this parameter.\n",
      "  FutureWarning\n"
     ]
    },
    {
     "name": "stdout",
     "output_type": "stream",
     "text": [
      "n_estimators = 880\n"
     ]
    },
    {
     "name": "stderr",
     "output_type": "stream",
     "text": [
      "/Users/maurrastogbe/opt/anaconda3/lib/python3.7/site-packages/sklearn/ensemble/_iforest.py:248: FutureWarning: 'behaviour' is deprecated in 0.22 and will be removed in 0.24. You should not pass or set this parameter.\n",
      "  FutureWarning\n"
     ]
    },
    {
     "name": "stdout",
     "output_type": "stream",
     "text": [
      "n_estimators = 890\n"
     ]
    },
    {
     "name": "stderr",
     "output_type": "stream",
     "text": [
      "/Users/maurrastogbe/opt/anaconda3/lib/python3.7/site-packages/sklearn/ensemble/_iforest.py:248: FutureWarning: 'behaviour' is deprecated in 0.22 and will be removed in 0.24. You should not pass or set this parameter.\n",
      "  FutureWarning\n"
     ]
    },
    {
     "name": "stdout",
     "output_type": "stream",
     "text": [
      "n_estimators = 900\n"
     ]
    },
    {
     "name": "stderr",
     "output_type": "stream",
     "text": [
      "/Users/maurrastogbe/opt/anaconda3/lib/python3.7/site-packages/sklearn/ensemble/_iforest.py:248: FutureWarning: 'behaviour' is deprecated in 0.22 and will be removed in 0.24. You should not pass or set this parameter.\n",
      "  FutureWarning\n"
     ]
    },
    {
     "name": "stdout",
     "output_type": "stream",
     "text": [
      "n_estimators = 910\n"
     ]
    },
    {
     "name": "stderr",
     "output_type": "stream",
     "text": [
      "/Users/maurrastogbe/opt/anaconda3/lib/python3.7/site-packages/sklearn/ensemble/_iforest.py:248: FutureWarning: 'behaviour' is deprecated in 0.22 and will be removed in 0.24. You should not pass or set this parameter.\n",
      "  FutureWarning\n"
     ]
    },
    {
     "name": "stdout",
     "output_type": "stream",
     "text": [
      "n_estimators = 920\n"
     ]
    },
    {
     "name": "stderr",
     "output_type": "stream",
     "text": [
      "/Users/maurrastogbe/opt/anaconda3/lib/python3.7/site-packages/sklearn/ensemble/_iforest.py:248: FutureWarning: 'behaviour' is deprecated in 0.22 and will be removed in 0.24. You should not pass or set this parameter.\n",
      "  FutureWarning\n"
     ]
    },
    {
     "name": "stdout",
     "output_type": "stream",
     "text": [
      "n_estimators = 930\n"
     ]
    },
    {
     "name": "stderr",
     "output_type": "stream",
     "text": [
      "/Users/maurrastogbe/opt/anaconda3/lib/python3.7/site-packages/sklearn/ensemble/_iforest.py:248: FutureWarning: 'behaviour' is deprecated in 0.22 and will be removed in 0.24. You should not pass or set this parameter.\n",
      "  FutureWarning\n"
     ]
    },
    {
     "name": "stdout",
     "output_type": "stream",
     "text": [
      "n_estimators = 940\n"
     ]
    },
    {
     "name": "stderr",
     "output_type": "stream",
     "text": [
      "/Users/maurrastogbe/opt/anaconda3/lib/python3.7/site-packages/sklearn/ensemble/_iforest.py:248: FutureWarning: 'behaviour' is deprecated in 0.22 and will be removed in 0.24. You should not pass or set this parameter.\n",
      "  FutureWarning\n"
     ]
    },
    {
     "name": "stdout",
     "output_type": "stream",
     "text": [
      "n_estimators = 950\n"
     ]
    },
    {
     "name": "stderr",
     "output_type": "stream",
     "text": [
      "/Users/maurrastogbe/opt/anaconda3/lib/python3.7/site-packages/sklearn/ensemble/_iforest.py:248: FutureWarning: 'behaviour' is deprecated in 0.22 and will be removed in 0.24. You should not pass or set this parameter.\n",
      "  FutureWarning\n"
     ]
    },
    {
     "name": "stdout",
     "output_type": "stream",
     "text": [
      "n_estimators = 960\n"
     ]
    },
    {
     "name": "stderr",
     "output_type": "stream",
     "text": [
      "/Users/maurrastogbe/opt/anaconda3/lib/python3.7/site-packages/sklearn/ensemble/_iforest.py:248: FutureWarning: 'behaviour' is deprecated in 0.22 and will be removed in 0.24. You should not pass or set this parameter.\n",
      "  FutureWarning\n"
     ]
    },
    {
     "name": "stdout",
     "output_type": "stream",
     "text": [
      "n_estimators = 970\n"
     ]
    },
    {
     "name": "stderr",
     "output_type": "stream",
     "text": [
      "/Users/maurrastogbe/opt/anaconda3/lib/python3.7/site-packages/sklearn/ensemble/_iforest.py:248: FutureWarning: 'behaviour' is deprecated in 0.22 and will be removed in 0.24. You should not pass or set this parameter.\n",
      "  FutureWarning\n"
     ]
    },
    {
     "name": "stdout",
     "output_type": "stream",
     "text": [
      "n_estimators = 980\n"
     ]
    },
    {
     "name": "stderr",
     "output_type": "stream",
     "text": [
      "/Users/maurrastogbe/opt/anaconda3/lib/python3.7/site-packages/sklearn/ensemble/_iforest.py:248: FutureWarning: 'behaviour' is deprecated in 0.22 and will be removed in 0.24. You should not pass or set this parameter.\n",
      "  FutureWarning\n"
     ]
    },
    {
     "name": "stdout",
     "output_type": "stream",
     "text": [
      "n_estimators = 990\n"
     ]
    },
    {
     "name": "stderr",
     "output_type": "stream",
     "text": [
      "/Users/maurrastogbe/opt/anaconda3/lib/python3.7/site-packages/sklearn/ensemble/_iforest.py:248: FutureWarning: 'behaviour' is deprecated in 0.22 and will be removed in 0.24. You should not pass or set this parameter.\n",
      "  FutureWarning\n"
     ]
    }
   ],
   "source": [
    "executions_time_IF_Shuttle = []\n",
    "roc_auc_IF_Shuttle = []\n",
    "precisions_IF_Shuttle = []\n",
    "recalls_IF_Shuttle = []\n",
    "f1_scores_IF_Shuttle = []\n",
    "tn_IF_Shuttle = []\n",
    "fp_IF_Shuttle = []\n",
    "fn_IF_Shuttle = []\n",
    "tp_IF_Shuttle = []\n",
    "specificity_IF_Shuttle = []\n",
    "n_estimators_IF_Shuttle = []\n",
    "\n",
    "for j in range(10, 1000, 10):\n",
    "    print(\"n_estimators = \"+str(j))\n",
    "    n_estimators = j\n",
    "    n_estimators_IF_Shuttle.append(j)\n",
    "    start_IF_Shuttle = time()\n",
    "        \n",
    "    # Instanciation, fit and predict on Shuttle\n",
    "    func_IF_Shuttle = IsolationForest(n_estimators=n_estimators, behaviour=\"new\")\n",
    "    func_IF_Shuttle.fit(X_Shuttle)\n",
    "    y_pred_IF_Shuttle = func_IF_Shuttle.predict(X_Shuttle)\n",
    "\n",
    "    # Calcul du temps d'exécution\n",
    "    exec_time_IF_Shuttle = time() - start_IF_Shuttle\n",
    "    executions_time_IF_Shuttle.append(exec_time_IF_Shuttle)\n",
    "    \n",
    "    # Precision\n",
    "    precisions_IF_Shuttle.append(precision_score(y_transform_Shuttle, y_pred_IF_Shuttle))\n",
    "    \n",
    "    # Recall\n",
    "    recalls_IF_Shuttle.append(recall_score(y_transform_Shuttle, y_pred_IF_Shuttle))\n",
    "    \n",
    "    # f1_score\n",
    "    f1_scores_IF_Shuttle.append(f1_score(y_transform_Shuttle, y_pred_IF_Shuttle))\n",
    "    \n",
    "    # Specificity\n",
    "    specificity_IF_Shuttle.append(specificity_score(y_transform_Shuttle, y_pred_IF_Shuttle))\n",
    "    \n",
    "    # Matrice de confusion\n",
    "    ttn, tfp, tfn, ttp = confusion_matrix(y_transform_Shuttle, y_pred_IF_Shuttle).ravel()\n",
    "    tn = ttp\n",
    "    fp = tfn\n",
    "    fn = tfp\n",
    "    tp = ttn\n",
    "    tn_IF_Shuttle.append(tn)\n",
    "    fp_IF_Shuttle.append(fp)\n",
    "    fn_IF_Shuttle.append(fn)\n",
    "    tp_IF_Shuttle.append(tp)\n",
    "    \n",
    "    # Calcul de l'aire sous la courbe ROC\n",
    "    y_DF_IF_Shuttle = func_IF_Shuttle.decision_function(X_Shuttle)\n",
    "    auc_IF_Shuttle = roc_auc_score(y_transform_Shuttle, y_DF_IF_Shuttle)\n",
    "    roc_auc_IF_Shuttle.append(auc_IF_Shuttle)\n",
    "        \n",
    "    #print(\"Execution time of IsolationForest applied on Shuttle (in second)\")\n",
    "    #print(executions_time_IF_Shuttle)\n",
    "    #print(\"ROC AUC for Isolation Forest applied on Shuttle\")\n",
    "    #print(roc_auc_IF_Shuttle)"
   ]
  },
  {
   "cell_type": "code",
   "execution_count": 6,
   "metadata": {},
   "outputs": [
    {
     "name": "stdout",
     "output_type": "stream",
     "text": [
      "['Tree Number', 'CPU Time(s)', 'ROC AUC', 'Recall', 'Specificity', 'Precision', 'F1 Score', 'TN', 'FP', 'FN', 'TP']\n",
      "[[10, 20, 30, 40, 50, 60, 70, 80, 90, 100, 110, 120, 130, 140, 150, 160, 170, 180, 190, 200, 210, 220, 230, 240, 250, 260, 270, 280, 290, 300, 310, 320, 330, 340, 350, 360, 370, 380, 390, 400, 410, 420, 430, 440, 450, 460, 470, 480, 490, 500, 510, 520, 530, 540, 550, 560, 570, 580, 590, 600, 610, 620, 630, 640, 650, 660, 670, 680, 690, 700, 710, 720, 730, 740, 750, 760, 770, 780, 790, 800, 810, 820, 830, 840, 850, 860, 870, 880, 890, 900, 910, 920, 930, 940, 950, 960, 970, 980, 990], [0.3310279846191406, 0.4843330383300781, 0.7677338123321533, 0.9991939067840576, 1.3022911548614502, 1.4679300785064697, 1.6814100742340088, 1.9269781112670898, 2.181818962097168, 2.456702947616577, 4.2573771476745605, 2.9099340438842773, 3.031937837600708, 3.2795588970184326, 3.5330328941345215, 3.891835927963257, 4.125928163528442, 4.502408027648926, 4.47117280960083, 4.842123031616211, 5.044393062591553, 5.463639974594116, 5.603223085403442, 5.68569278717041, 5.759856939315796, 6.28436017036438, 6.578695058822632, 6.606606721878052, 6.737803936004639, 7.2606730461120605, 7.6154680252075195, 7.632684946060181, 7.6754539012908936, 8.19874882698059, 8.644585132598877, 8.73020315170288, 9.199480056762695, 8.50633716583252, 9.403979063034058, 9.674463987350464, 10.315117835998535, 10.78624939918518, 10.650444030761719, 11.558963775634766, 12.217534303665161, 11.5015869140625, 11.235470056533813, 10.991523027420044, 12.599053144454956, 12.028789043426514, 12.014961957931519, 12.10504698753357, 13.34624695777893, 14.711743831634521, 12.81494140625, 14.280753135681152, 13.866609811782837, 16.00065779685974, 13.72212028503418, 40.19051909446716, 15.17319107055664, 15.320603132247925, 15.827535152435303, 15.37403917312622, 15.282389163970947, 15.845564842224121, 15.80872392654419, 16.89247989654541, 16.852630138397217, 17.064024209976196, 17.461673974990845, 16.910943031311035, 17.34353733062744, 18.04128098487854, 17.559551000595093, 19.122001886367798, 18.604829788208008, 18.960752964019775, 18.476473808288574, 20.630085945129395, 18.996023893356323, 20.23338007926941, 19.551445960998535, 18.893601179122925, 18.43025493621826, 18.62220311164856, 19.209978103637695, 19.54958701133728, 19.698873043060303, 20.04171085357666, 20.794684886932373, 20.064210891723633, 20.486722230911255, 21.112942934036255, 20.84304189682007, 23.2202570438385, 21.795351028442383, 22.064277172088623, 21.66475510597229], [0.9977767496854678, 0.9975483896016911, 0.9944221300609116, 0.9975207315477809, 0.9969110800812342, 0.9969725549156032, 0.9992006647527061, 0.9976966862403405, 0.9981837628085273, 0.9975805823771776, 0.9977779364583321, 0.9972399410880952, 0.9974090874521181, 0.9971047489203366, 0.9973102230263519, 0.9980426117917551, 0.9975560349174062, 0.9979241968445933, 0.9973165191687053, 0.9981071597432254, 0.9980216871123062, 0.9977562997151643, 0.9974404932098104, 0.997501393396266, 0.9979448591847774, 0.9976011697632858, 0.997689540618463, 0.9976571854424793, 0.9983545831469058, 0.9975715129340254, 0.9975307878862623, 0.9985007685790916, 0.9977762874686679, 0.997865482818677, 0.9975102504695372, 0.9978166502383989, 0.9974012172741762, 0.9976605833605748, 0.9978248577096813, 0.9972506095515278, 0.9976950122659846, 0.9976178345527694, 0.9969022479926549, 0.9979994757212257, 0.997433722358311, 0.9976958367608166, 0.9979596251376782, 0.9978028961655194, 0.9979595251989106, 0.9979053583869164, 0.9975366343041618, 0.9976398460663152, 0.997236293323081, 0.9973895744077604, 0.9974994570826454, 0.9979641223822164, 0.9976347491891717, 0.997578808464054, 0.9979289939054341, 0.9977855567893551, 0.9976043927885384, 0.9973625159864551, 0.9975170463057285, 0.9972210776457264, 0.9972139570085408, 0.9972978306191796, 0.9979927298544182, 0.9981473601124591, 0.9975427555536722, 0.9972737203915161, 0.9977019330256353, 0.9975364344266268, 0.9974570330758343, 0.9973642149455029, 0.9978132897973412, 0.9975582460626375, 0.9974766960283435, 0.9976468167953495, 0.997684368787244, 0.9974171075382113, 0.9977084040608319, 0.9979788633504252, 0.9976846436188547, 0.9976785223693443, 0.997529763513895, 0.997725568544153, 0.9974044402994285, 0.9973157196585651, 0.9974497625304976, 0.9976439685404752, 0.9976490154482349, 0.9976729257983633, 0.9972322458029964, 0.997645667499523, 0.997465827687376, 0.9979253461404197, 0.9972638764229156, 0.997566640919109, 0.9976318759496057], [0.915610055718861, 0.9385776334839644, 0.8886061510112754, 0.9386215066029044, 0.9382266485324442, 0.9118808406089589, 0.9512350282981618, 0.9358355635502128, 0.9395867152195849, 0.9373711227131136, 0.9421094195586365, 0.9201947966480937, 0.9305707892774098, 0.9384460141271443, 0.9266441451322774, 0.9277848462247181, 0.9308120914315798, 0.9475058131882595, 0.943140437853727, 0.9337735269600316, 0.9342122581494319, 0.932588952748651, 0.9312946957399202, 0.9389505549949546, 0.9476154959856096, 0.9406177335146756, 0.9353529592418725, 0.9294300881849691, 0.9477251787829597, 0.9357258807528627, 0.9357039441933928, 0.9442811389461677, 0.9410345281446058, 0.9477251787829597, 0.9364717237748431, 0.9417145614881762, 0.9352213398850524, 0.9360988022638529, 0.941429386215066, 0.9420655464396964, 0.9428771991400868, 0.9392357302680647, 0.9368665818453034, 0.9424604045101567, 0.9338174000789716, 0.9354626420392226, 0.9268635107269776, 0.9381827754135041, 0.9408590356688457, 0.9360988022638529, 0.9388628087570745, 0.9352652130039925, 0.9253279515640767, 0.9400254464089852, 0.9353310226824025, 0.9439520905541174, 0.9456192690738384, 0.939674461457465, 0.9349142280524723, 0.9416706883692362, 0.9407712894309657, 0.9315798710130303, 0.9336199710437415, 0.9274996709516079, 0.9356161979555127, 0.9311630763831, 0.9325670161891809, 0.9481858465318299, 0.9329180011407011, 0.9347826086956522, 0.9380292194972141, 0.937941473259334, 0.9356820076339227, 0.9391479840301847, 0.9415171324529461, 0.9366472162506032, 0.9402667485631554, 0.9435133593647173, 0.938007282937744, 0.9345851796604221, 0.9379195366998639, 0.9436888518404773, 0.9362523581801431, 0.9350677839687623, 0.9409906550256658, 0.9388847453165445, 0.9302198043258896, 0.9320186022024306, 0.9306146623963497, 0.9365155968937832, 0.9367349624884833, 0.939520905541175, 0.9403106216820953, 0.9348703549335322, 0.9394331593032949, 0.938095029175624, 0.9343219409467819, 0.9371078839994735, 0.9412319571798359], [0.9931662870159453, 0.9840546697038725, 0.9851936218678815, 0.979498861047836, 0.9840546697038725, 0.9840546697038725, 0.9943052391799544, 0.9874715261958997, 0.9886104783599089, 0.9840546697038725, 0.9851936218678815, 0.9863325740318907, 0.9829157175398633, 0.9840546697038725, 0.9851936218678815, 0.9863325740318907, 0.9863325740318907, 0.9851936218678815, 0.9840546697038725, 0.9874715261958997, 0.9851936218678815, 0.9863325740318907, 0.9851936218678815, 0.9829157175398633, 0.9840546697038725, 0.9863325740318907, 0.9863325740318907, 0.9863325740318907, 0.9874715261958997, 0.9840546697038725, 0.9851936218678815, 0.9886104783599089, 0.9851936218678815, 0.9851936218678815, 0.9851936218678815, 0.9851936218678815, 0.9840546697038725, 0.9840546697038725, 0.9851936218678815, 0.9840546697038725, 0.9829157175398633, 0.9840546697038725, 0.9829157175398633, 0.9851936218678815, 0.9863325740318907, 0.9863325740318907, 0.9851936218678815, 0.9851936218678815, 0.9851936218678815, 0.9863325740318907, 0.9829157175398633, 0.9851936218678815, 0.9863325740318907, 0.9829157175398633, 0.9840546697038725, 0.9851936218678815, 0.9840546697038725, 0.9851936218678815, 0.9863325740318907, 0.9851936218678815, 0.9851936218678815, 0.9863325740318907, 0.9863325740318907, 0.9840546697038725, 0.9840546697038725, 0.9840546697038725, 0.9863325740318907, 0.9851936218678815, 0.9840546697038725, 0.9829157175398633, 0.9863325740318907, 0.9829157175398633, 0.9851936218678815, 0.9840546697038725, 0.9851936218678815, 0.9840546697038725, 0.9851936218678815, 0.9840546697038725, 0.9851936218678815, 0.9851936218678815, 0.9851936218678815, 0.9851936218678815, 0.9851936218678815, 0.9851936218678815, 0.9840546697038725, 0.9851936218678815, 0.9840546697038725, 0.9829157175398633, 0.9863325740318907, 0.9840546697038725, 0.9851936218678815, 0.9851936218678815, 0.9829157175398633, 0.9851936218678815, 0.9840546697038725, 0.9851936218678815, 0.9840546697038725, 0.9851936218678815, 0.9851936218678815], [0.9998562702120014, 0.9996728971962617, 0.9996791786974655, 0.9995794982011867, 0.99967277486911, 0.9996633239545006, 0.9998847076185206, 0.9997422197225346, 0.9997665841930815, 0.999672476313019, 0.9996973929236499, 0.9997140133460438, 0.9996465265340748, 0.9996728513342992, 0.9996923441012898, 0.9997163522904553, 0.9997172745264349, 0.9996991158635374, 0.9996744791666666, 0.9997416506176899, 0.9996948356807511, 0.9997178130511464, 0.9996938799538465, 0.9996496800411042, 0.9996760159215032, 0.9997202210253899, 0.9997186466905817, 0.9997168542507255, 0.9997454528624983, 0.999671900632763, 0.9996953220211868, 0.9997677443329617, 0.9996970473771294, 0.9996991854868568, 0.9996955717396904, 0.9996972660798286, 0.9996717236851361, 0.9996720312975848, 0.9996971744042489, 0.999674107870295, 0.9996511384515199, 0.9996731263133318, 0.9996489010603188, 0.9996975055845123, 0.9997181841666472, 0.9997186796699175, 0.9996924168934106, 0.9996961267852551, 0.9996969908864182, 0.9997188707977042, 0.9996496473116271, 0.9996951791408741, 0.9997155993743186, 0.9996500804814893, 0.9996717621682454, 0.9996979834587864, 0.9996753322047263, 0.9996966090223809, 0.9997185146958786, 0.9996972519795063, 0.9996969626331617, 0.9997175074742815, 0.9997181245889317, 0.9996689916065729, 0.9996718621821165, 0.9996702934388394, 0.9997178064152008, 0.9996993315909984, 0.9996709134502374, 0.999648118607488, 0.9997194491852337, 0.9996493032825213, 0.9996953148803525, 0.9996730957829356, 0.9996972026180327, 0.9996722232627833, 0.9996968000746338, 0.9996746077861708, 0.9996960699506698, 0.9996949574113617, 0.9996960415254039, 0.9996978992377765, 0.9996955004333263, 0.9996951148010038, 0.999673735725938, 0.9996963539111952, 0.9996699592163889, 0.9996470754317444, 0.99971721456345, 0.999672177211633, 0.9996956572632565, 0.999696559451006, 0.9996501865671642, 0.9996950504339667, 0.9996731949858774, 0.9996960983706197, 0.9996714077829414, 0.9996957783394178, 0.9996971109040075], [0.9558805006240625, 0.9681623786572535, 0.9408758869778298, 0.9681419132953208, 0.9679755573158313, 0.9537564960020191, 0.9749533466735617, 0.9667338938113259, 0.9687429321029538, 0.9675198967519896, 0.970049465814379, 0.9583076325588833, 0.9638726681965872, 0.9680923285811269, 0.9617832219578557, 0.9624084103217585, 0.9640349880722481, 0.9729029642310117, 0.9705849154570286, 0.9656322308425207, 0.9658449186945773, 0.9649873455073713, 0.9642828750865956, 0.9683498484231484, 0.9729498412126398, 0.9692688495315166, 0.9664653150039099, 0.9632930530767219, 0.9730405405405406, 0.9666424945612764, 0.9666417386180797, 0.9712325985424517, 0.9694791913850187, 0.9730186257066283, 0.9670513880551371, 0.9698400506054582, 0.9663731257012683, 0.9668415030643571, 0.9696887533186466, 0.9700152464848382, 0.9704345077497939, 0.968512486427796, 0.9672400321598025, 0.9702355412027733, 0.9656447423639231, 0.9665238775186419, 0.961901401236184, 0.9679631536659613, 0.9693860253816858, 0.9668634092737138, 0.9683031674208145, 0.9664075073101073, 0.961084529505582, 0.968921348060552, 0.9664316960946531, 0.9710256120952274, 0.9718962426865974, 0.968756713970713, 0.9662309985603682, 0.9698167769920701, 0.9693394360626094, 0.9644467154942373, 0.9655391456249007, 0.9622330196515743, 0.9665839480572459, 0.9642013447210612, 0.9649755986834639, 0.9732614300350134, 0.9651416122004357, 0.9661278255152244, 0.9678923482610714, 0.9678127617193689, 0.9666300295740655, 0.9684658191195765, 0.9697353110631615, 0.967134023420689, 0.969071465714092, 0.9707824085045875, 0.96786971332858, 0.9660442388580887, 0.9678229868145549, 0.9708862759258842, 0.9669343785045141, 0.9663020685746669, 0.969444946664256, 0.9683367458907906, 0.9636952445883756, 0.9646489873762601, 0.9639290623828404, 0.9670638336429123, 0.967191764532678, 0.9686750802913104, 0.9690728641511992, 0.9661966083250204, 0.9686174724342663, 0.9679164356121907, 0.9658925979680696, 0.9673905659095541, 0.9695839830068018], [41739, 42786, 40508, 42788, 42770, 41569, 43363, 42661, 42832, 42731, 42947, 41948, 42421, 42780, 42242, 42294, 42432, 43193, 42994, 42567, 42587, 42513, 42454, 42803, 43198, 42879, 42639, 42369, 43203, 42656, 42655, 43046, 42898, 43203, 42690, 42929, 42633, 42673, 42916, 42945, 42982, 42816, 42708, 42963, 42569, 42644, 42252, 42768, 42890, 42673, 42799, 42635, 42182, 42852, 42638, 43031, 43107, 42836, 42619, 42927, 42886, 42467, 42560, 42281, 42651, 42448, 42512, 43224, 42528, 42613, 42761, 42757, 42654, 42812, 42920, 42698, 42863, 43011, 42760, 42604, 42756, 43019, 42680, 42626, 42896, 42800, 42405, 42487, 42423, 42692, 42702, 42829, 42865, 42617, 42825, 42764, 42592, 42719, 42907], [3847, 2800, 5078, 2798, 2816, 4017, 2223, 2925, 2754, 2855, 2639, 3638, 3165, 2806, 3344, 3292, 3154, 2393, 2592, 3019, 2999, 3073, 3132, 2783, 2388, 2707, 2947, 3217, 2383, 2930, 2931, 2540, 2688, 2383, 2896, 2657, 2953, 2913, 2670, 2641, 2604, 2770, 2878, 2623, 3017, 2942, 3334, 2818, 2696, 2913, 2787, 2951, 3404, 2734, 2948, 2555, 2479, 2750, 2967, 2659, 2700, 3119, 3026, 3305, 2935, 3138, 3074, 2362, 3058, 2973, 2825, 2829, 2932, 2774, 2666, 2888, 2723, 2575, 2826, 2982, 2830, 2567, 2906, 2960, 2690, 2786, 3181, 3099, 3163, 2894, 2884, 2757, 2721, 2969, 2761, 2822, 2994, 2867, 2679], [6, 14, 13, 18, 14, 14, 5, 11, 10, 14, 13, 12, 15, 14, 13, 12, 12, 13, 14, 11, 13, 12, 13, 15, 14, 12, 12, 12, 11, 14, 13, 10, 13, 13, 13, 13, 14, 14, 13, 14, 15, 14, 15, 13, 12, 12, 13, 13, 13, 12, 15, 13, 12, 15, 14, 13, 14, 13, 12, 13, 13, 12, 12, 14, 14, 14, 12, 13, 14, 15, 12, 15, 13, 14, 13, 14, 13, 14, 13, 13, 13, 13, 13, 13, 14, 13, 14, 15, 12, 14, 13, 13, 15, 13, 14, 13, 14, 13, 13], [872, 864, 865, 860, 864, 864, 873, 867, 868, 864, 865, 866, 863, 864, 865, 866, 866, 865, 864, 867, 865, 866, 865, 863, 864, 866, 866, 866, 867, 864, 865, 868, 865, 865, 865, 865, 864, 864, 865, 864, 863, 864, 863, 865, 866, 866, 865, 865, 865, 866, 863, 865, 866, 863, 864, 865, 864, 865, 866, 865, 865, 866, 866, 864, 864, 864, 866, 865, 864, 863, 866, 863, 865, 864, 865, 864, 865, 864, 865, 865, 865, 865, 865, 865, 864, 865, 864, 863, 866, 864, 865, 865, 863, 865, 864, 865, 864, 865, 865]]\n",
      "    Tree Number  CPU Time(s)   ROC AUC    Recall  Specificity  Precision  \\\n",
      "0            10     0.331028  0.997777  0.915610     0.993166   0.999856   \n",
      "1            20     0.484333  0.997548  0.938578     0.984055   0.999673   \n",
      "2            30     0.767734  0.994422  0.888606     0.985194   0.999679   \n",
      "3            40     0.999194  0.997521  0.938622     0.979499   0.999579   \n",
      "4            50     1.302291  0.996911  0.938227     0.984055   0.999673   \n",
      "..          ...          ...       ...       ...          ...        ...   \n",
      "94          950    20.843042  0.997466  0.939433     0.984055   0.999673   \n",
      "95          960    23.220257  0.997925  0.938095     0.985194   0.999696   \n",
      "96          970    21.795351  0.997264  0.934322     0.984055   0.999671   \n",
      "97          980    22.064277  0.997567  0.937108     0.985194   0.999696   \n",
      "98          990    21.664755  0.997632  0.941232     0.985194   0.999697   \n",
      "\n",
      "    F1 Score     TN    FP  FN   TP  \n",
      "0   0.955881  41739  3847   6  872  \n",
      "1   0.968162  42786  2800  14  864  \n",
      "2   0.940876  40508  5078  13  865  \n",
      "3   0.968142  42788  2798  18  860  \n",
      "4   0.967976  42770  2816  14  864  \n",
      "..       ...    ...   ...  ..  ...  \n",
      "94  0.968617  42825  2761  14  864  \n",
      "95  0.967916  42764  2822  13  865  \n",
      "96  0.965893  42592  2994  14  864  \n",
      "97  0.967391  42719  2867  13  865  \n",
      "98  0.969584  42907  2679  13  865  \n",
      "\n",
      "[99 rows x 11 columns]\n",
      "directory_path = Figures/2020-10-04/ImpactDuNombreDarbres/IForest\n",
      "Data well saved in = Figures/2020-10-04/ImpactDuNombreDarbres/IForest/ImpactDuNombreDarbres_IForest_Shuttle_2020-10-04-21-42-13-863236.csv\n"
     ]
    }
   ],
   "source": [
    "'''\n",
    "    Ajouter les données dans un tableau\n",
    "    Sauvegarder les données dans un fichier .csv\n",
    "'''\n",
    "data = []\n",
    "names = []\n",
    "names.append(\"Tree Number\")\n",
    "data.append(n_estimators_IF_Shuttle)\n",
    "\n",
    "names.append(\"CPU Time(s)\")\n",
    "data.append(executions_time_IF_Shuttle)\n",
    "names.append(\"ROC AUC\")\n",
    "data.append(roc_auc_IF_Shuttle)\n",
    "names.append(\"Recall\")\n",
    "data.append(recalls_IF_Shuttle)\n",
    "names.append(\"Specificity\")\n",
    "data.append(specificity_IF_Shuttle)\n",
    "\n",
    "names.append(\"Precision\")\n",
    "data.append(precisions_IF_Shuttle)\n",
    "names.append(\"F1 Score\")\n",
    "data.append(f1_scores_IF_Shuttle)\n",
    "names.append(\"TN\")\n",
    "data.append(tn_IF_Shuttle)\n",
    "names.append(\"FP\")\n",
    "data.append(fp_IF_Shuttle)\n",
    "names.append(\"FN\")\n",
    "data.append(fn_IF_Shuttle)\n",
    "names.append(\"TP\")\n",
    "data.append(tp_IF_Shuttle)\n",
    "\n",
    "print(names)\n",
    "print(data)\n",
    "#data_file_name = save_results_data(data=data, names=names, data_name=\"IForest\", method_name=\"Shuttle\")\n",
    "data_file_name = u_functions.save_results_data(data=data, names=names, data_name=data_name, method_name=method_name,\n",
    "                                               execution_object=execution_object)"
   ]
  },
  {
   "cell_type": "code",
   "execution_count": 7,
   "metadata": {},
   "outputs": [
    {
     "name": "stdout",
     "output_type": "stream",
     "text": [
      "         0                  1                   2                   3   \\\n",
      "count    99                 99                  99                  99   \n",
      "unique   99                 99                  99                  97   \n",
      "top     140  5.603223085403442  0.9972322458029964  0.9360988022638529   \n",
      "freq      1                  1                   1                   2   \n",
      "\n",
      "                        4                   5                   6      7   \\\n",
      "count                   99                  99                  99     99   \n",
      "unique                   9                  99                  99     97   \n",
      "top     0.9851936218678815  0.9996966090223809  0.9670513880551371  42673   \n",
      "freq                    38                   1                   1      2   \n",
      "\n",
      "          8   9    10  \n",
      "count     99  99   99  \n",
      "unique    97   9    9  \n",
      "top     2383  13  865  \n",
      "freq       2  38   38  \n",
      "\n",
      "     0                   1                   2                   3   \\\n",
      "1    10  0.3310279846191406  0.9977767496854678   0.915610055718861   \n",
      "2    20  0.4843330383300781  0.9975483896016911  0.9385776334839644   \n",
      "3    30  0.7677338123321533  0.9944221300609116  0.8886061510112754   \n",
      "4    40  0.9991939067840576  0.9975207315477809  0.9386215066029044   \n",
      "5    50  1.3022911548614502  0.9969110800812342  0.9382266485324442   \n",
      "..  ...                 ...                 ...                 ...   \n",
      "95  950   20.84304189682007   0.997465827687376  0.9394331593032949   \n",
      "96  960    23.2202570438385  0.9979253461404197   0.938095029175624   \n",
      "97  970  21.795351028442383  0.9972638764229156  0.9343219409467819   \n",
      "98  980  22.064277172088623   0.997566640919109  0.9371078839994735   \n",
      "99  990   21.66475510597229  0.9976318759496057  0.9412319571798359   \n",
      "\n",
      "                    4                   5                   6      7     8   \\\n",
      "1   0.9931662870159453  0.9998562702120014  0.9558805006240625  41739  3847   \n",
      "2   0.9840546697038725  0.9996728971962617  0.9681623786572535  42786  2800   \n",
      "3   0.9851936218678815  0.9996791786974655  0.9408758869778298  40508  5078   \n",
      "4    0.979498861047836  0.9995794982011867  0.9681419132953208  42788  2798   \n",
      "5   0.9840546697038725    0.99967277486911  0.9679755573158313  42770  2816   \n",
      "..                 ...                 ...                 ...    ...   ...   \n",
      "95  0.9840546697038725  0.9996731949858774  0.9686174724342663  42825  2761   \n",
      "96  0.9851936218678815  0.9996960983706197  0.9679164356121907  42764  2822   \n",
      "97  0.9840546697038725  0.9996714077829414  0.9658925979680696  42592  2994   \n",
      "98  0.9851936218678815  0.9996957783394178  0.9673905659095541  42719  2867   \n",
      "99  0.9851936218678815  0.9996971109040075  0.9695839830068018  42907  2679   \n",
      "\n",
      "    9    10  \n",
      "1    6  872  \n",
      "2   14  864  \n",
      "3   13  865  \n",
      "4   18  860  \n",
      "5   14  864  \n",
      "..  ..  ...  \n",
      "95  14  864  \n",
      "96  13  865  \n",
      "97  14  864  \n",
      "98  13  865  \n",
      "99  13  865  \n",
      "\n",
      "[99 rows x 11 columns]\n",
      "dataset_name = Shuttle\n",
      "method_name = IForest\n",
      "execution_object = ImpactDuNombreDarbres\n"
     ]
    },
    {
     "ename": "ValueError",
     "evalue": "The truth value of a Series is ambiguous. Use a.empty, a.bool(), a.item(), a.any() or a.all().",
     "output_type": "error",
     "traceback": [
      "\u001b[0;31m---------------------------------------------------------------------------\u001b[0m",
      "\u001b[0;31mValueError\u001b[0m                                Traceback (most recent call last)",
      "\u001b[0;32m<ipython-input-7-ab565ffa623c>\u001b[0m in \u001b[0;36m<module>\u001b[0;34m\u001b[0m\n\u001b[1;32m      7\u001b[0m u_functions.plot_with_data(file_name=data_file_name, x_name=x_name, x_column = x_column,\n\u001b[1;32m      8\u001b[0m                \u001b[0my_name\u001b[0m \u001b[0;34m=\u001b[0m \u001b[0my_name\u001b[0m\u001b[0;34m,\u001b[0m \u001b[0my_column\u001b[0m\u001b[0;34m=\u001b[0m\u001b[0my_column\u001b[0m\u001b[0;34m,\u001b[0m \u001b[0mz_name\u001b[0m\u001b[0;34m=\u001b[0m\u001b[0;34m\"NULL\"\u001b[0m\u001b[0;34m,\u001b[0m \u001b[0mz_column\u001b[0m\u001b[0;34m=\u001b[0m\u001b[0;34m\"NULL\"\u001b[0m\u001b[0;34m,\u001b[0m\u001b[0;34m\u001b[0m\u001b[0;34m\u001b[0m\u001b[0m\n\u001b[0;32m----> 9\u001b[0;31m                    title=title, version=\"Shuttle\", n_dimensions = 2, save_fig=save_fig)\n\u001b[0m",
      "\u001b[0;32m~/Documents/GitHub/OD_Jupyter/metrics/utilities_functions.py\u001b[0m in \u001b[0;36mplot_with_data\u001b[0;34m(self, file_name, x_name, x_column, y_name, y_column, z_name, z_column, title, version, n_dimensions, save_fig)\u001b[0m\n\u001b[1;32m    127\u001b[0m                              \u001b[0mexecution_object\u001b[0m\u001b[0;34m=\u001b[0m\u001b[0mnames\u001b[0m\u001b[0;34m[\u001b[0m\u001b[0;36m0\u001b[0m\u001b[0;34m]\u001b[0m\u001b[0;34m,\u001b[0m\u001b[0;34m\u001b[0m\u001b[0;34m\u001b[0m\u001b[0m\n\u001b[1;32m    128\u001b[0m                              \u001b[0mfolder_path\u001b[0m\u001b[0;34m=\u001b[0m\u001b[0mue\u001b[0m\u001b[0;34m.\u001b[0m\u001b[0m_ANALYSIS_RESULTS_FOLDER_PATH\u001b[0m\u001b[0;34m,\u001b[0m\u001b[0;34m\u001b[0m\u001b[0;34m\u001b[0m\u001b[0m\n\u001b[0;32m--> 129\u001b[0;31m                              save_fig=save_fig)\n\u001b[0m\u001b[1;32m    130\u001b[0m \u001b[0;34m\u001b[0m\u001b[0m\n\u001b[1;32m    131\u001b[0m \u001b[0;34m\u001b[0m\u001b[0m\n",
      "\u001b[0;32m~/Documents/GitHub/OD_Jupyter/metrics/utilities_functions.py\u001b[0m in \u001b[0;36mmetric_visualization\u001b[0;34m(self, title, x_data, x_title, y_data, y_title, dataset_name, method_name, execution_object, folder_path, save_fig)\u001b[0m\n\u001b[1;32m    149\u001b[0m         ax1 = description.axe_2D_with_link(axe=ax1, X_data=x_data, Y_data=y_data, \n\u001b[1;32m    150\u001b[0m                                  \u001b[0mX_label\u001b[0m\u001b[0;34m=\u001b[0m\u001b[0mx_title\u001b[0m\u001b[0;34m,\u001b[0m \u001b[0mY_label\u001b[0m\u001b[0;34m=\u001b[0m\u001b[0my_data\u001b[0m\u001b[0;34m,\u001b[0m\u001b[0;34m\u001b[0m\u001b[0;34m\u001b[0m\u001b[0m\n\u001b[0;32m--> 151\u001b[0;31m                                  title = title)\n\u001b[0m\u001b[1;32m    152\u001b[0m         \u001b[0;32mif\u001b[0m \u001b[0msave_fig\u001b[0m \u001b[0;34m==\u001b[0m \u001b[0;32mTrue\u001b[0m\u001b[0;34m:\u001b[0m\u001b[0;34m\u001b[0m\u001b[0;34m\u001b[0m\u001b[0m\n\u001b[1;32m    153\u001b[0m             self.save_image(dataset_name=dataset_name, method_name=method_name,\n",
      "\u001b[0;32m~/Documents/GitHub/OD_Jupyter/metrics/description.py\u001b[0m in \u001b[0;36maxe_2D_with_link\u001b[0;34m(self, axe, X_data, Y_data, X_label, Y_label, title, xmin, xmax, ymin, ymax)\u001b[0m\n\u001b[1;32m    122\u001b[0m                  markersize=6, color='skyblue')\n\u001b[1;32m    123\u001b[0m         \u001b[0maxe\u001b[0m\u001b[0;34m.\u001b[0m\u001b[0mset_title\u001b[0m\u001b[0;34m(\u001b[0m\u001b[0mtitle\u001b[0m\u001b[0;34m)\u001b[0m\u001b[0;34m\u001b[0m\u001b[0;34m\u001b[0m\u001b[0m\n\u001b[0;32m--> 124\u001b[0;31m         \u001b[0maxe\u001b[0m\u001b[0;34m.\u001b[0m\u001b[0mset\u001b[0m\u001b[0;34m(\u001b[0m\u001b[0mxlabel\u001b[0m\u001b[0;34m=\u001b[0m\u001b[0mX_label\u001b[0m\u001b[0;34m,\u001b[0m \u001b[0mylabel\u001b[0m\u001b[0;34m=\u001b[0m\u001b[0mY_label\u001b[0m\u001b[0;34m)\u001b[0m\u001b[0;34m\u001b[0m\u001b[0;34m\u001b[0m\u001b[0m\n\u001b[0m\u001b[1;32m    125\u001b[0m         \u001b[0maxe\u001b[0m \u001b[0;34m=\u001b[0m \u001b[0mself\u001b[0m\u001b[0;34m.\u001b[0m\u001b[0mset_axis_limit\u001b[0m\u001b[0;34m(\u001b[0m\u001b[0maxe\u001b[0m\u001b[0;34m=\u001b[0m\u001b[0maxe\u001b[0m\u001b[0;34m,\u001b[0m \u001b[0mxmin\u001b[0m\u001b[0;34m=\u001b[0m\u001b[0mxmin\u001b[0m\u001b[0;34m,\u001b[0m \u001b[0mxmax\u001b[0m\u001b[0;34m=\u001b[0m\u001b[0mxmax\u001b[0m\u001b[0;34m,\u001b[0m \u001b[0mymin\u001b[0m\u001b[0;34m=\u001b[0m\u001b[0mymin\u001b[0m\u001b[0;34m,\u001b[0m \u001b[0mymax\u001b[0m\u001b[0;34m=\u001b[0m\u001b[0mymax\u001b[0m\u001b[0;34m)\u001b[0m\u001b[0;34m\u001b[0m\u001b[0;34m\u001b[0m\u001b[0m\n\u001b[1;32m    126\u001b[0m         \u001b[0;32mreturn\u001b[0m \u001b[0maxe\u001b[0m\u001b[0;34m\u001b[0m\u001b[0;34m\u001b[0m\u001b[0m\n",
      "\u001b[0;32m~/opt/anaconda3/lib/python3.7/site-packages/matplotlib/artist.py\u001b[0m in \u001b[0;36mset\u001b[0;34m(self, **kwargs)\u001b[0m\n\u001b[1;32m   1111\u001b[0m         \u001b[0;32mif\u001b[0m \u001b[0mmove_color_to_start\u001b[0m\u001b[0;34m:\u001b[0m\u001b[0;34m\u001b[0m\u001b[0;34m\u001b[0m\u001b[0m\n\u001b[1;32m   1112\u001b[0m             \u001b[0mkwargs\u001b[0m \u001b[0;34m=\u001b[0m \u001b[0;34m{\u001b[0m\u001b[0;34m\"color\"\u001b[0m\u001b[0;34m:\u001b[0m \u001b[0mkwargs\u001b[0m\u001b[0;34m.\u001b[0m\u001b[0mpop\u001b[0m\u001b[0;34m(\u001b[0m\u001b[0;34m\"color\"\u001b[0m\u001b[0;34m)\u001b[0m\u001b[0;34m,\u001b[0m \u001b[0;34m**\u001b[0m\u001b[0mkwargs\u001b[0m\u001b[0;34m}\u001b[0m\u001b[0;34m\u001b[0m\u001b[0;34m\u001b[0m\u001b[0m\n\u001b[0;32m-> 1113\u001b[0;31m         \u001b[0;32mreturn\u001b[0m \u001b[0mself\u001b[0m\u001b[0;34m.\u001b[0m\u001b[0mupdate\u001b[0m\u001b[0;34m(\u001b[0m\u001b[0mkwargs\u001b[0m\u001b[0;34m)\u001b[0m\u001b[0;34m\u001b[0m\u001b[0;34m\u001b[0m\u001b[0m\n\u001b[0m\u001b[1;32m   1114\u001b[0m \u001b[0;34m\u001b[0m\u001b[0m\n\u001b[1;32m   1115\u001b[0m     \u001b[0;32mdef\u001b[0m \u001b[0mfindobj\u001b[0m\u001b[0;34m(\u001b[0m\u001b[0mself\u001b[0m\u001b[0;34m,\u001b[0m \u001b[0mmatch\u001b[0m\u001b[0;34m=\u001b[0m\u001b[0;32mNone\u001b[0m\u001b[0;34m,\u001b[0m \u001b[0minclude_self\u001b[0m\u001b[0;34m=\u001b[0m\u001b[0;32mTrue\u001b[0m\u001b[0;34m)\u001b[0m\u001b[0;34m:\u001b[0m\u001b[0;34m\u001b[0m\u001b[0;34m\u001b[0m\u001b[0m\n",
      "\u001b[0;32m~/opt/anaconda3/lib/python3.7/site-packages/matplotlib/artist.py\u001b[0m in \u001b[0;36mupdate\u001b[0;34m(self, props)\u001b[0m\n\u001b[1;32m    996\u001b[0m                         raise AttributeError(f\"{type(self).__name__!r} object \"\n\u001b[1;32m    997\u001b[0m                                              f\"has no property {k!r}\")\n\u001b[0;32m--> 998\u001b[0;31m                     \u001b[0mret\u001b[0m\u001b[0;34m.\u001b[0m\u001b[0mappend\u001b[0m\u001b[0;34m(\u001b[0m\u001b[0mfunc\u001b[0m\u001b[0;34m(\u001b[0m\u001b[0mv\u001b[0m\u001b[0;34m)\u001b[0m\u001b[0;34m)\u001b[0m\u001b[0;34m\u001b[0m\u001b[0;34m\u001b[0m\u001b[0m\n\u001b[0m\u001b[1;32m    999\u001b[0m         \u001b[0;32mif\u001b[0m \u001b[0mret\u001b[0m\u001b[0;34m:\u001b[0m\u001b[0;34m\u001b[0m\u001b[0;34m\u001b[0m\u001b[0m\n\u001b[1;32m   1000\u001b[0m             \u001b[0mself\u001b[0m\u001b[0;34m.\u001b[0m\u001b[0mpchanged\u001b[0m\u001b[0;34m(\u001b[0m\u001b[0;34m)\u001b[0m\u001b[0;34m\u001b[0m\u001b[0;34m\u001b[0m\u001b[0m\n",
      "\u001b[0;32m~/opt/anaconda3/lib/python3.7/site-packages/matplotlib/axes/_axes.py\u001b[0m in \u001b[0;36mset_ylabel\u001b[0;34m(self, ylabel, fontdict, labelpad, loc, **kwargs)\u001b[0m\n\u001b[1;32m    298\u001b[0m         \u001b[0;32melif\u001b[0m \u001b[0mloc\u001b[0m \u001b[0;34m==\u001b[0m \u001b[0;34m'top'\u001b[0m\u001b[0;34m:\u001b[0m\u001b[0;34m\u001b[0m\u001b[0;34m\u001b[0m\u001b[0m\n\u001b[1;32m    299\u001b[0m             \u001b[0mkwargs\u001b[0m\u001b[0;34m.\u001b[0m\u001b[0mupdate\u001b[0m\u001b[0;34m(\u001b[0m\u001b[0my\u001b[0m\u001b[0;34m=\u001b[0m\u001b[0;36m1\u001b[0m\u001b[0;34m,\u001b[0m \u001b[0mhorizontalalignment\u001b[0m\u001b[0;34m=\u001b[0m\u001b[0;34m'right'\u001b[0m\u001b[0;34m)\u001b[0m\u001b[0;34m\u001b[0m\u001b[0;34m\u001b[0m\u001b[0m\n\u001b[0;32m--> 300\u001b[0;31m         \u001b[0;32mreturn\u001b[0m \u001b[0mself\u001b[0m\u001b[0;34m.\u001b[0m\u001b[0myaxis\u001b[0m\u001b[0;34m.\u001b[0m\u001b[0mset_label_text\u001b[0m\u001b[0;34m(\u001b[0m\u001b[0mylabel\u001b[0m\u001b[0;34m,\u001b[0m \u001b[0mfontdict\u001b[0m\u001b[0;34m,\u001b[0m \u001b[0;34m**\u001b[0m\u001b[0mkwargs\u001b[0m\u001b[0;34m)\u001b[0m\u001b[0;34m\u001b[0m\u001b[0;34m\u001b[0m\u001b[0m\n\u001b[0m\u001b[1;32m    301\u001b[0m \u001b[0;34m\u001b[0m\u001b[0m\n\u001b[1;32m    302\u001b[0m     \u001b[0;32mdef\u001b[0m \u001b[0mget_legend_handles_labels\u001b[0m\u001b[0;34m(\u001b[0m\u001b[0mself\u001b[0m\u001b[0;34m,\u001b[0m \u001b[0mlegend_handler_map\u001b[0m\u001b[0;34m=\u001b[0m\u001b[0;32mNone\u001b[0m\u001b[0;34m)\u001b[0m\u001b[0;34m:\u001b[0m\u001b[0;34m\u001b[0m\u001b[0;34m\u001b[0m\u001b[0m\n",
      "\u001b[0;32m~/opt/anaconda3/lib/python3.7/site-packages/matplotlib/axis.py\u001b[0m in \u001b[0;36mset_label_text\u001b[0;34m(self, label, fontdict, **kwargs)\u001b[0m\n\u001b[1;32m   1558\u001b[0m         \"\"\"\n\u001b[1;32m   1559\u001b[0m         \u001b[0mself\u001b[0m\u001b[0;34m.\u001b[0m\u001b[0misDefault_label\u001b[0m \u001b[0;34m=\u001b[0m \u001b[0;32mFalse\u001b[0m\u001b[0;34m\u001b[0m\u001b[0;34m\u001b[0m\u001b[0m\n\u001b[0;32m-> 1560\u001b[0;31m         \u001b[0mself\u001b[0m\u001b[0;34m.\u001b[0m\u001b[0mlabel\u001b[0m\u001b[0;34m.\u001b[0m\u001b[0mset_text\u001b[0m\u001b[0;34m(\u001b[0m\u001b[0mlabel\u001b[0m\u001b[0;34m)\u001b[0m\u001b[0;34m\u001b[0m\u001b[0;34m\u001b[0m\u001b[0m\n\u001b[0m\u001b[1;32m   1561\u001b[0m         \u001b[0;32mif\u001b[0m \u001b[0mfontdict\u001b[0m \u001b[0;32mis\u001b[0m \u001b[0;32mnot\u001b[0m \u001b[0;32mNone\u001b[0m\u001b[0;34m:\u001b[0m\u001b[0;34m\u001b[0m\u001b[0;34m\u001b[0m\u001b[0m\n\u001b[1;32m   1562\u001b[0m             \u001b[0mself\u001b[0m\u001b[0;34m.\u001b[0m\u001b[0mlabel\u001b[0m\u001b[0;34m.\u001b[0m\u001b[0mupdate\u001b[0m\u001b[0;34m(\u001b[0m\u001b[0mfontdict\u001b[0m\u001b[0;34m)\u001b[0m\u001b[0;34m\u001b[0m\u001b[0;34m\u001b[0m\u001b[0m\n",
      "\u001b[0;32m~/opt/anaconda3/lib/python3.7/site-packages/matplotlib/text.py\u001b[0m in \u001b[0;36mset_text\u001b[0;34m(self, s)\u001b[0m\n\u001b[1;32m   1161\u001b[0m         \u001b[0;32mif\u001b[0m \u001b[0ms\u001b[0m \u001b[0;32mis\u001b[0m \u001b[0;32mNone\u001b[0m\u001b[0;34m:\u001b[0m\u001b[0;34m\u001b[0m\u001b[0;34m\u001b[0m\u001b[0m\n\u001b[1;32m   1162\u001b[0m             \u001b[0ms\u001b[0m \u001b[0;34m=\u001b[0m \u001b[0;34m''\u001b[0m\u001b[0;34m\u001b[0m\u001b[0;34m\u001b[0m\u001b[0m\n\u001b[0;32m-> 1163\u001b[0;31m         \u001b[0;32mif\u001b[0m \u001b[0ms\u001b[0m \u001b[0;34m!=\u001b[0m \u001b[0mself\u001b[0m\u001b[0;34m.\u001b[0m\u001b[0m_text\u001b[0m\u001b[0;34m:\u001b[0m\u001b[0;34m\u001b[0m\u001b[0;34m\u001b[0m\u001b[0m\n\u001b[0m\u001b[1;32m   1164\u001b[0m             \u001b[0mself\u001b[0m\u001b[0;34m.\u001b[0m\u001b[0m_text\u001b[0m \u001b[0;34m=\u001b[0m \u001b[0mstr\u001b[0m\u001b[0;34m(\u001b[0m\u001b[0ms\u001b[0m\u001b[0;34m)\u001b[0m\u001b[0;34m\u001b[0m\u001b[0;34m\u001b[0m\u001b[0m\n\u001b[1;32m   1165\u001b[0m             \u001b[0mself\u001b[0m\u001b[0;34m.\u001b[0m\u001b[0mstale\u001b[0m \u001b[0;34m=\u001b[0m \u001b[0;32mTrue\u001b[0m\u001b[0;34m\u001b[0m\u001b[0;34m\u001b[0m\u001b[0m\n",
      "\u001b[0;32m~/opt/anaconda3/lib/python3.7/site-packages/pandas/core/generic.py\u001b[0m in \u001b[0;36m__nonzero__\u001b[0;34m(self)\u001b[0m\n\u001b[1;32m   1553\u001b[0m             \u001b[0;34m\"The truth value of a {0} is ambiguous. \"\u001b[0m\u001b[0;34m\u001b[0m\u001b[0;34m\u001b[0m\u001b[0m\n\u001b[1;32m   1554\u001b[0m             \"Use a.empty, a.bool(), a.item(), a.any() or a.all().\".format(\n\u001b[0;32m-> 1555\u001b[0;31m                 \u001b[0mself\u001b[0m\u001b[0;34m.\u001b[0m\u001b[0m__class__\u001b[0m\u001b[0;34m.\u001b[0m\u001b[0m__name__\u001b[0m\u001b[0;34m\u001b[0m\u001b[0;34m\u001b[0m\u001b[0m\n\u001b[0m\u001b[1;32m   1556\u001b[0m             )\n\u001b[1;32m   1557\u001b[0m         )\n",
      "\u001b[0;31mValueError\u001b[0m: The truth value of a Series is ambiguous. Use a.empty, a.bool(), a.item(), a.any() or a.all()."
     ]
    },
    {
     "data": {
      "image/png": "[encoded data removed]",
      "text/plain": [
       "<Figure size 360x360 with 1 Axes>"
      ]
     },
     "metadata": {
      "needs_background": "light"
     },
     "output_type": "display_data"
    }
   ],
   "source": [
    "## Evolution de CPU Time\n",
    "title=\"Tree_Number_Effect_CPU Time\"\n",
    "x_name = \"t\"\n",
    "x_column = 0\n",
    "y_name = \"CPU Time(s)\"\n",
    "y_column=1\n",
    "u_functions.plot_with_data(file_name=data_file_name, x_name=x_name, x_column = x_column,\n",
    "               y_name = y_name, y_column=y_column, z_name=\"NULL\", z_column=\"NULL\", \n",
    "                   title=title, version=\"Shuttle\", n_dimensions = 2, save_fig=save_fig)"
   ]
  },
  {
   "cell_type": "code",
   "execution_count": null,
   "metadata": {},
   "outputs": [],
   "source": [
    "# Evolution du ROC AUC\n",
    "title=\"Tree_Number_Effect_ROC AUC\"\n",
    "x_name = \"t\"\n",
    "x_column = 0\n",
    "y_name = \"ROC AUC\"\n",
    "y_column=2\n",
    "u_functions.plot_with_data(file_name=data_file_name, x_name=x_name, x_column = x_column,\n",
    "               y_name = y_name, y_column=y_column, z_name=\"NULL\", z_column=\"NULL\", \n",
    "                   title=title, version=\"Shuttle\", n_dimensions = 2, save_fig=save_fig)"
   ]
  },
  {
   "cell_type": "code",
   "execution_count": null,
   "metadata": {},
   "outputs": [],
   "source": [
    "# Evolution du rappel\n",
    "title=\"Tree_Number_Effect_Recall\"\n",
    "x_name = \"t\"\n",
    "x_column = 0\n",
    "y_name = \"Recall\"\n",
    "y_column=3\n",
    "u_functions.plot_with_data(file_name=data_file_name, x_name=x_name, x_column = x_column,\n",
    "               y_name = y_name, y_column=y_column, z_name=\"NULL\", z_column=\"NULL\", \n",
    "                   title=title, version=\"Shuttle\", n_dimensions = 2, save_fig=save_fig)"
   ]
  },
  {
   "cell_type": "code",
   "execution_count": null,
   "metadata": {},
   "outputs": [],
   "source": [
    "# Evolution de spécificité\n",
    "title=\"Tree_Number_Effect_Specificity\"\n",
    "x_name = \"t\"\n",
    "x_column = 0\n",
    "y_name = \"Specificity\"\n",
    "y_column=4\n",
    "u_functions.plot_with_data(file_name=data_file_name, x_name=x_name, x_column = x_column,\n",
    "               y_name = y_name, y_column=y_column, z_name=\"NULL\", z_column=\"NULL\", \n",
    "                   title=title, version=\"Shuttle\", n_dimensions = 2, save_fig=save_fig)"
   ]
  },
  {
   "cell_type": "markdown",
   "metadata": {},
   "source": [
    "#### Conclusion\n",
    "Malgré le caractère aléatoire de IForest, les métrics choisis ont tendance à être constant durant l'exécution successive avec les mêmes paramètres."
   ]
  }
 ],
 "metadata": {
  "kernelspec": {
   "display_name": "Python 3",
   "language": "python",
   "name": "python3"
  },
  "language_info": {
   "codemirror_mode": {
    "name": "ipython",
    "version": 3
   },
   "file_extension": ".py",
   "mimetype": "text/x-python",
   "name": "python",
   "nbconvert_exporter": "python",
   "pygments_lexer": "ipython3",
   "version": "3.7.4"
  }
 },
 "nbformat": 4,
 "nbformat_minor": 2
}
