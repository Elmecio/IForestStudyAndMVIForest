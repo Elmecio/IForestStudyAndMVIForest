{
 "cells": [
  {
   "cell_type": "code",
   "execution_count": 1,
   "metadata": {},
   "outputs": [
    {
     "name": "stderr",
     "output_type": "stream",
     "text": [
      "Using TensorFlow backend.\n"
     ]
    }
   ],
   "source": [
    "import numpy as np\n",
    "import pandas as pd\n",
    "import matplotlib.pyplot as plt\n",
    "from time import time\n",
    "from sklearn.ensemble import IsolationForest\n",
    "from sklearn.svm import OneClassSVM\n",
    "from sklearn.neighbors import LocalOutlierFactor\n",
    "from sklearn.metrics import confusion_matrix\n",
    "from sklearn.metrics import roc_auc_score\n",
    "from matplotlib.mlab import frange\n",
    "import statistics\n",
    "from sklearn.metrics import confusion_matrix\n",
    "from sklearn.metrics import precision_score, recall_score\n",
    "from sklearn.metrics import f1_score\n",
    "from sklearn.metrics import roc_curve\n",
    "from imblearn.metrics import specificity_score\n",
    "from imblearn.metrics import sensitivity_score\n",
    "import matplotlib.cm as cm\n",
    "from mpl_toolkits import mplot3d"
   ]
  },
  {
   "cell_type": "markdown",
   "metadata": {},
   "source": [
    "## Chargement du jeu de données Shuttle"
   ]
  },
  {
   "cell_type": "markdown",
   "metadata": {},
   "source": [
    "Shuttle contient 10 attributs dont le dernier est la classe à expliquer.\n",
    "Il y a 46464 observations dont 878 anormales.\n",
    "Avec le dernier attribut, nous avons les classes \"o\" pour les anomalies et \"n\" pour les observations normales."
   ]
  },
  {
   "cell_type": "code",
   "execution_count": 2,
   "metadata": {},
   "outputs": [
    {
     "data": {
      "text/html": [
       "<div>\n",
       "<style scoped>\n",
       "    .dataframe tbody tr th:only-of-type {\n",
       "        vertical-align: middle;\n",
       "    }\n",
       "\n",
       "    .dataframe tbody tr th {\n",
       "        vertical-align: top;\n",
       "    }\n",
       "\n",
       "    .dataframe thead th {\n",
       "        text-align: right;\n",
       "    }\n",
       "</style>\n",
       "<table border=\"1\" class=\"dataframe\">\n",
       "  <thead>\n",
       "    <tr style=\"text-align: right;\">\n",
       "      <th></th>\n",
       "      <th>0</th>\n",
       "      <th>1</th>\n",
       "      <th>2</th>\n",
       "      <th>3</th>\n",
       "      <th>4</th>\n",
       "      <th>5</th>\n",
       "      <th>6</th>\n",
       "      <th>7</th>\n",
       "      <th>8</th>\n",
       "    </tr>\n",
       "  </thead>\n",
       "  <tbody>\n",
       "    <tr>\n",
       "      <th>count</th>\n",
       "      <td>46464.000000</td>\n",
       "      <td>46464.000000</td>\n",
       "      <td>46464.000000</td>\n",
       "      <td>46464.000000</td>\n",
       "      <td>46464.000000</td>\n",
       "      <td>46464.000000</td>\n",
       "      <td>46464.000000</td>\n",
       "      <td>46464.000000</td>\n",
       "      <td>46464.000000</td>\n",
       "    </tr>\n",
       "    <tr>\n",
       "      <th>mean</th>\n",
       "      <td>44.775482</td>\n",
       "      <td>-0.712509</td>\n",
       "      <td>84.834108</td>\n",
       "      <td>0.279291</td>\n",
       "      <td>38.652763</td>\n",
       "      <td>2.289708</td>\n",
       "      <td>40.070334</td>\n",
       "      <td>46.180419</td>\n",
       "      <td>6.299888</td>\n",
       "    </tr>\n",
       "    <tr>\n",
       "      <th>std</th>\n",
       "      <td>8.753404</td>\n",
       "      <td>44.218007</td>\n",
       "      <td>8.731175</td>\n",
       "      <td>37.317203</td>\n",
       "      <td>15.902506</td>\n",
       "      <td>177.518356</td>\n",
       "      <td>10.969455</td>\n",
       "      <td>17.052467</td>\n",
       "      <td>15.005878</td>\n",
       "    </tr>\n",
       "    <tr>\n",
       "      <th>min</th>\n",
       "      <td>27.000000</td>\n",
       "      <td>-4475.000000</td>\n",
       "      <td>21.000000</td>\n",
       "      <td>-3939.000000</td>\n",
       "      <td>-188.000000</td>\n",
       "      <td>-12809.000000</td>\n",
       "      <td>-26.000000</td>\n",
       "      <td>-353.000000</td>\n",
       "      <td>-356.000000</td>\n",
       "    </tr>\n",
       "    <tr>\n",
       "      <th>25%</th>\n",
       "      <td>37.000000</td>\n",
       "      <td>0.000000</td>\n",
       "      <td>79.000000</td>\n",
       "      <td>0.000000</td>\n",
       "      <td>34.000000</td>\n",
       "      <td>-4.000000</td>\n",
       "      <td>34.000000</td>\n",
       "      <td>35.000000</td>\n",
       "      <td>0.000000</td>\n",
       "    </tr>\n",
       "    <tr>\n",
       "      <th>50%</th>\n",
       "      <td>43.000000</td>\n",
       "      <td>0.000000</td>\n",
       "      <td>83.000000</td>\n",
       "      <td>0.000000</td>\n",
       "      <td>42.000000</td>\n",
       "      <td>0.000000</td>\n",
       "      <td>39.000000</td>\n",
       "      <td>41.000000</td>\n",
       "      <td>2.000000</td>\n",
       "    </tr>\n",
       "    <tr>\n",
       "      <th>75%</th>\n",
       "      <td>49.000000</td>\n",
       "      <td>0.000000</td>\n",
       "      <td>87.000000</td>\n",
       "      <td>0.000000</td>\n",
       "      <td>46.000000</td>\n",
       "      <td>5.000000</td>\n",
       "      <td>43.000000</td>\n",
       "      <td>52.000000</td>\n",
       "      <td>2.000000</td>\n",
       "    </tr>\n",
       "    <tr>\n",
       "      <th>max</th>\n",
       "      <td>123.000000</td>\n",
       "      <td>1963.000000</td>\n",
       "      <td>149.000000</td>\n",
       "      <td>3830.000000</td>\n",
       "      <td>436.000000</td>\n",
       "      <td>15164.000000</td>\n",
       "      <td>105.000000</td>\n",
       "      <td>270.000000</td>\n",
       "      <td>266.000000</td>\n",
       "    </tr>\n",
       "  </tbody>\n",
       "</table>\n",
       "</div>"
      ],
      "text/plain": [
       "                  0             1             2             3             4  \\\n",
       "count  46464.000000  46464.000000  46464.000000  46464.000000  46464.000000   \n",
       "mean      44.775482     -0.712509     84.834108      0.279291     38.652763   \n",
       "std        8.753404     44.218007      8.731175     37.317203     15.902506   \n",
       "min       27.000000  -4475.000000     21.000000  -3939.000000   -188.000000   \n",
       "25%       37.000000      0.000000     79.000000      0.000000     34.000000   \n",
       "50%       43.000000      0.000000     83.000000      0.000000     42.000000   \n",
       "75%       49.000000      0.000000     87.000000      0.000000     46.000000   \n",
       "max      123.000000   1963.000000    149.000000   3830.000000    436.000000   \n",
       "\n",
       "                  5             6             7             8  \n",
       "count  46464.000000  46464.000000  46464.000000  46464.000000  \n",
       "mean       2.289708     40.070334     46.180419      6.299888  \n",
       "std      177.518356     10.969455     17.052467     15.005878  \n",
       "min   -12809.000000    -26.000000   -353.000000   -356.000000  \n",
       "25%       -4.000000     34.000000     35.000000      0.000000  \n",
       "50%        0.000000     39.000000     41.000000      2.000000  \n",
       "75%        5.000000     43.000000     52.000000      2.000000  \n",
       "max    15164.000000    105.000000    270.000000    266.000000  "
      ]
     },
     "execution_count": 2,
     "metadata": {},
     "output_type": "execute_result"
    }
   ],
   "source": [
    "data_brut_Shuttle = pd.read_csv('/Users/thesard/Doctorat/These2018/ISEP/Developpements/EspaceIntelliJ/LearningAllInPython/Learning_IHM_Features/datasets/imported_datasets/shuttle-unsupervised-ad_2019-06-14 17:33:02.493755.csv', header=None, index_col=None)\n",
    "X_Shuttle = data_brut_Shuttle[[0, 1, 2, 3, 4, 5, 6, 7, 8]]\n",
    "y_brut_Shuttle = data_brut_Shuttle[[9]]\n",
    "data_brut_Shuttle.describe()"
   ]
  },
  {
   "cell_type": "markdown",
   "metadata": {},
   "source": [
    "## Chargement du jeu de données KDD99-Cup HTTP"
   ]
  },
  {
   "cell_type": "markdown",
   "metadata": {},
   "source": [
    "KDD99-Cup HTTP contient 30 attributs dont le dernier est la classe à expliquer.\n",
    "Il y a 620098 observations dont 1052 anormales.\n",
    "Avec le dernier attribut, nous avons les classes \"o\" pour les anomalies et \"n\" pour les observations normales."
   ]
  },
  {
   "cell_type": "code",
   "execution_count": 3,
   "metadata": {},
   "outputs": [
    {
     "data": {
      "text/html": [
       "<div>\n",
       "<style scoped>\n",
       "    .dataframe tbody tr th:only-of-type {\n",
       "        vertical-align: middle;\n",
       "    }\n",
       "\n",
       "    .dataframe tbody tr th {\n",
       "        vertical-align: top;\n",
       "    }\n",
       "\n",
       "    .dataframe thead th {\n",
       "        text-align: right;\n",
       "    }\n",
       "</style>\n",
       "<table border=\"1\" class=\"dataframe\">\n",
       "  <thead>\n",
       "    <tr style=\"text-align: right;\">\n",
       "      <th></th>\n",
       "      <th>0</th>\n",
       "      <th>1</th>\n",
       "      <th>2</th>\n",
       "      <th>3</th>\n",
       "      <th>4</th>\n",
       "      <th>5</th>\n",
       "      <th>6</th>\n",
       "      <th>7</th>\n",
       "      <th>8</th>\n",
       "      <th>9</th>\n",
       "      <th>...</th>\n",
       "      <th>19</th>\n",
       "      <th>20</th>\n",
       "      <th>21</th>\n",
       "      <th>22</th>\n",
       "      <th>23</th>\n",
       "      <th>24</th>\n",
       "      <th>25</th>\n",
       "      <th>26</th>\n",
       "      <th>27</th>\n",
       "      <th>28</th>\n",
       "    </tr>\n",
       "  </thead>\n",
       "  <tbody>\n",
       "    <tr>\n",
       "      <th>count</th>\n",
       "      <td>620098.000000</td>\n",
       "      <td>620098.000000</td>\n",
       "      <td>6.200980e+05</td>\n",
       "      <td>620098.000000</td>\n",
       "      <td>620098.000000</td>\n",
       "      <td>620098.000000</td>\n",
       "      <td>620098.000000</td>\n",
       "      <td>620098.000000</td>\n",
       "      <td>620098.000000</td>\n",
       "      <td>620098.000000</td>\n",
       "      <td>...</td>\n",
       "      <td>620098.000000</td>\n",
       "      <td>620098.000000</td>\n",
       "      <td>620098.000000</td>\n",
       "      <td>620098.000000</td>\n",
       "      <td>620098.000000</td>\n",
       "      <td>620098.000000</td>\n",
       "      <td>620098.000000</td>\n",
       "      <td>620098.000000</td>\n",
       "      <td>620098.000000</td>\n",
       "      <td>620098.000000</td>\n",
       "    </tr>\n",
       "    <tr>\n",
       "      <th>mean</th>\n",
       "      <td>0.627670</td>\n",
       "      <td>280.374673</td>\n",
       "      <td>4.099298e+03</td>\n",
       "      <td>0.005012</td>\n",
       "      <td>0.912428</td>\n",
       "      <td>0.000947</td>\n",
       "      <td>0.000318</td>\n",
       "      <td>0.000013</td>\n",
       "      <td>0.000010</td>\n",
       "      <td>0.005409</td>\n",
       "      <td>...</td>\n",
       "      <td>127.698101</td>\n",
       "      <td>244.485422</td>\n",
       "      <td>0.996744</td>\n",
       "      <td>0.000796</td>\n",
       "      <td>0.074723</td>\n",
       "      <td>0.031820</td>\n",
       "      <td>0.001920</td>\n",
       "      <td>0.001473</td>\n",
       "      <td>0.087651</td>\n",
       "      <td>0.086732</td>\n",
       "    </tr>\n",
       "    <tr>\n",
       "      <th>std</th>\n",
       "      <td>53.972528</td>\n",
       "      <td>1509.901935</td>\n",
       "      <td>2.369388e+04</td>\n",
       "      <td>0.098271</td>\n",
       "      <td>0.282671</td>\n",
       "      <td>0.045654</td>\n",
       "      <td>0.017821</td>\n",
       "      <td>0.003592</td>\n",
       "      <td>0.003111</td>\n",
       "      <td>0.073346</td>\n",
       "      <td>...</td>\n",
       "      <td>105.897233</td>\n",
       "      <td>40.458619</td>\n",
       "      <td>0.033137</td>\n",
       "      <td>0.009522</td>\n",
       "      <td>0.185812</td>\n",
       "      <td>0.050689</td>\n",
       "      <td>0.030694</td>\n",
       "      <td>0.028037</td>\n",
       "      <td>0.274777</td>\n",
       "      <td>0.268543</td>\n",
       "    </tr>\n",
       "    <tr>\n",
       "      <th>min</th>\n",
       "      <td>0.000000</td>\n",
       "      <td>0.000000</td>\n",
       "      <td>0.000000e+00</td>\n",
       "      <td>0.000000</td>\n",
       "      <td>0.000000</td>\n",
       "      <td>0.000000</td>\n",
       "      <td>0.000000</td>\n",
       "      <td>0.000000</td>\n",
       "      <td>0.000000</td>\n",
       "      <td>0.000000</td>\n",
       "      <td>...</td>\n",
       "      <td>0.000000</td>\n",
       "      <td>0.000000</td>\n",
       "      <td>0.000000</td>\n",
       "      <td>0.000000</td>\n",
       "      <td>0.000000</td>\n",
       "      <td>0.000000</td>\n",
       "      <td>0.000000</td>\n",
       "      <td>0.000000</td>\n",
       "      <td>0.000000</td>\n",
       "      <td>0.000000</td>\n",
       "    </tr>\n",
       "    <tr>\n",
       "      <th>25%</th>\n",
       "      <td>0.000000</td>\n",
       "      <td>210.000000</td>\n",
       "      <td>4.580000e+02</td>\n",
       "      <td>0.000000</td>\n",
       "      <td>1.000000</td>\n",
       "      <td>0.000000</td>\n",
       "      <td>0.000000</td>\n",
       "      <td>0.000000</td>\n",
       "      <td>0.000000</td>\n",
       "      <td>0.000000</td>\n",
       "      <td>...</td>\n",
       "      <td>22.000000</td>\n",
       "      <td>255.000000</td>\n",
       "      <td>1.000000</td>\n",
       "      <td>0.000000</td>\n",
       "      <td>0.000000</td>\n",
       "      <td>0.000000</td>\n",
       "      <td>0.000000</td>\n",
       "      <td>0.000000</td>\n",
       "      <td>0.000000</td>\n",
       "      <td>0.000000</td>\n",
       "    </tr>\n",
       "    <tr>\n",
       "      <th>50%</th>\n",
       "      <td>0.000000</td>\n",
       "      <td>240.000000</td>\n",
       "      <td>1.425000e+03</td>\n",
       "      <td>0.000000</td>\n",
       "      <td>1.000000</td>\n",
       "      <td>0.000000</td>\n",
       "      <td>0.000000</td>\n",
       "      <td>0.000000</td>\n",
       "      <td>0.000000</td>\n",
       "      <td>0.000000</td>\n",
       "      <td>...</td>\n",
       "      <td>96.000000</td>\n",
       "      <td>255.000000</td>\n",
       "      <td>1.000000</td>\n",
       "      <td>0.000000</td>\n",
       "      <td>0.010000</td>\n",
       "      <td>0.020000</td>\n",
       "      <td>0.000000</td>\n",
       "      <td>0.000000</td>\n",
       "      <td>0.000000</td>\n",
       "      <td>0.000000</td>\n",
       "    </tr>\n",
       "    <tr>\n",
       "      <th>75%</th>\n",
       "      <td>0.000000</td>\n",
       "      <td>302.000000</td>\n",
       "      <td>3.731000e+03</td>\n",
       "      <td>0.000000</td>\n",
       "      <td>1.000000</td>\n",
       "      <td>0.000000</td>\n",
       "      <td>0.000000</td>\n",
       "      <td>0.000000</td>\n",
       "      <td>0.000000</td>\n",
       "      <td>0.000000</td>\n",
       "      <td>...</td>\n",
       "      <td>255.000000</td>\n",
       "      <td>255.000000</td>\n",
       "      <td>1.000000</td>\n",
       "      <td>0.000000</td>\n",
       "      <td>0.050000</td>\n",
       "      <td>0.040000</td>\n",
       "      <td>0.000000</td>\n",
       "      <td>0.000000</td>\n",
       "      <td>0.000000</td>\n",
       "      <td>0.000000</td>\n",
       "    </tr>\n",
       "    <tr>\n",
       "      <th>max</th>\n",
       "      <td>41065.000000</td>\n",
       "      <td>54540.000000</td>\n",
       "      <td>1.173059e+07</td>\n",
       "      <td>21.000000</td>\n",
       "      <td>1.000000</td>\n",
       "      <td>21.000000</td>\n",
       "      <td>1.000000</td>\n",
       "      <td>1.000000</td>\n",
       "      <td>1.000000</td>\n",
       "      <td>1.000000</td>\n",
       "      <td>...</td>\n",
       "      <td>255.000000</td>\n",
       "      <td>255.000000</td>\n",
       "      <td>1.000000</td>\n",
       "      <td>1.000000</td>\n",
       "      <td>1.000000</td>\n",
       "      <td>1.000000</td>\n",
       "      <td>1.000000</td>\n",
       "      <td>1.000000</td>\n",
       "      <td>1.000000</td>\n",
       "      <td>1.000000</td>\n",
       "    </tr>\n",
       "  </tbody>\n",
       "</table>\n",
       "<p>8 rows × 29 columns</p>\n",
       "</div>"
      ],
      "text/plain": [
       "                  0              1             2              3   \\\n",
       "count  620098.000000  620098.000000  6.200980e+05  620098.000000   \n",
       "mean        0.627670     280.374673  4.099298e+03       0.005012   \n",
       "std        53.972528    1509.901935  2.369388e+04       0.098271   \n",
       "min         0.000000       0.000000  0.000000e+00       0.000000   \n",
       "25%         0.000000     210.000000  4.580000e+02       0.000000   \n",
       "50%         0.000000     240.000000  1.425000e+03       0.000000   \n",
       "75%         0.000000     302.000000  3.731000e+03       0.000000   \n",
       "max     41065.000000   54540.000000  1.173059e+07      21.000000   \n",
       "\n",
       "                  4              5              6              7   \\\n",
       "count  620098.000000  620098.000000  620098.000000  620098.000000   \n",
       "mean        0.912428       0.000947       0.000318       0.000013   \n",
       "std         0.282671       0.045654       0.017821       0.003592   \n",
       "min         0.000000       0.000000       0.000000       0.000000   \n",
       "25%         1.000000       0.000000       0.000000       0.000000   \n",
       "50%         1.000000       0.000000       0.000000       0.000000   \n",
       "75%         1.000000       0.000000       0.000000       0.000000   \n",
       "max         1.000000      21.000000       1.000000       1.000000   \n",
       "\n",
       "                  8              9   ...             19             20  \\\n",
       "count  620098.000000  620098.000000  ...  620098.000000  620098.000000   \n",
       "mean        0.000010       0.005409  ...     127.698101     244.485422   \n",
       "std         0.003111       0.073346  ...     105.897233      40.458619   \n",
       "min         0.000000       0.000000  ...       0.000000       0.000000   \n",
       "25%         0.000000       0.000000  ...      22.000000     255.000000   \n",
       "50%         0.000000       0.000000  ...      96.000000     255.000000   \n",
       "75%         0.000000       0.000000  ...     255.000000     255.000000   \n",
       "max         1.000000       1.000000  ...     255.000000     255.000000   \n",
       "\n",
       "                  21             22             23             24  \\\n",
       "count  620098.000000  620098.000000  620098.000000  620098.000000   \n",
       "mean        0.996744       0.000796       0.074723       0.031820   \n",
       "std         0.033137       0.009522       0.185812       0.050689   \n",
       "min         0.000000       0.000000       0.000000       0.000000   \n",
       "25%         1.000000       0.000000       0.000000       0.000000   \n",
       "50%         1.000000       0.000000       0.010000       0.020000   \n",
       "75%         1.000000       0.000000       0.050000       0.040000   \n",
       "max         1.000000       1.000000       1.000000       1.000000   \n",
       "\n",
       "                  25             26             27             28  \n",
       "count  620098.000000  620098.000000  620098.000000  620098.000000  \n",
       "mean        0.001920       0.001473       0.087651       0.086732  \n",
       "std         0.030694       0.028037       0.274777       0.268543  \n",
       "min         0.000000       0.000000       0.000000       0.000000  \n",
       "25%         0.000000       0.000000       0.000000       0.000000  \n",
       "50%         0.000000       0.000000       0.000000       0.000000  \n",
       "75%         0.000000       0.000000       0.000000       0.000000  \n",
       "max         1.000000       1.000000       1.000000       1.000000  \n",
       "\n",
       "[8 rows x 29 columns]"
      ]
     },
     "execution_count": 3,
     "metadata": {},
     "output_type": "execute_result"
    }
   ],
   "source": [
    "data_brut_KDD99CUP = pd.read_csv('/Users/thesard/Doctorat/These2018/ISEP/Developpements/EspaceIntelliJ/LearningAllInPython/Learning_IHM_Features/datasets/imported_datasets/kdd99-unsupervised-ad_2019-06-24 16:08:29.815617.csv', header=None, index_col=None)\n",
    "X_KDD99CUP = data_brut_KDD99CUP[[0, 1, 2, 3, 4, 5, 6, 7, 8, 9, 10, 11, 12, 13 ,14, 15, 16, 17, 18, 19, 20, 21, 22, 23, 24, 25, 26, 27, 28]]\n",
    "y_brut_KDD99CUP = data_brut_KDD99CUP[[29]]\n",
    "data_brut_KDD99CUP.describe()"
   ]
  },
  {
   "cell_type": "markdown",
   "metadata": {},
   "source": [
    "## Transformation de la classe à expliquer"
   ]
  },
  {
   "cell_type": "markdown",
   "metadata": {},
   "source": [
    "L'objectif ici est de remplacer les \"o\" par -1 et les \"n\" par 1 afin de faire les matrices de confusion avec la fonction dédiée de scikit-learn."
   ]
  },
  {
   "cell_type": "code",
   "execution_count": 4,
   "metadata": {},
   "outputs": [],
   "source": [
    "y_transform_Shuttle = y_brut_Shuttle\n",
    "y_transform_Shuttle = np.where(y_transform_Shuttle=='o',-1,1)\n",
    "#y_transform\n",
    "y_transform_KDD99CUP = y_brut_KDD99CUP\n",
    "y_transform_KDD99CUP = np.where(y_transform_KDD99CUP=='o',-1,1)\n",
    "#y_transform_KDD99CUP"
   ]
  },
  {
   "cell_type": "markdown",
   "metadata": {},
   "source": [
    "## Shuttle"
   ]
  },
  {
   "cell_type": "markdown",
   "metadata": {},
   "source": [
    "### Exécution de Isolation Forest sur le jeux de données Shuttle en faisant varier n_estimators"
   ]
  },
  {
   "cell_type": "markdown",
   "metadata": {},
   "source": [
    "### Etude de l'inconstance de IForest\n",
    "Utilisant les valeurs par défaut des paramètres de IForest au niveau de scikit-learn"
   ]
  },
  {
   "cell_type": "code",
   "execution_count": 5,
   "metadata": {},
   "outputs": [
    {
     "name": "stderr",
     "output_type": "stream",
     "text": [
      "/Users/thesard/anaconda3/lib/python3.7/site-packages/sklearn/ensemble/iforest.py:213: FutureWarning: default contamination parameter 0.1 will change in version 0.22 to \"auto\". This will change the predict method behavior.\n",
      "  FutureWarning)\n",
      "/Users/thesard/anaconda3/lib/python3.7/site-packages/sklearn/ensemble/iforest.py:213: FutureWarning: default contamination parameter 0.1 will change in version 0.22 to \"auto\". This will change the predict method behavior.\n",
      "  FutureWarning)\n",
      "/Users/thesard/anaconda3/lib/python3.7/site-packages/sklearn/ensemble/iforest.py:213: FutureWarning: default contamination parameter 0.1 will change in version 0.22 to \"auto\". This will change the predict method behavior.\n",
      "  FutureWarning)\n",
      "/Users/thesard/anaconda3/lib/python3.7/site-packages/sklearn/ensemble/iforest.py:213: FutureWarning: default contamination parameter 0.1 will change in version 0.22 to \"auto\". This will change the predict method behavior.\n",
      "  FutureWarning)\n",
      "/Users/thesard/anaconda3/lib/python3.7/site-packages/sklearn/ensemble/iforest.py:213: FutureWarning: default contamination parameter 0.1 will change in version 0.22 to \"auto\". This will change the predict method behavior.\n",
      "  FutureWarning)\n",
      "/Users/thesard/anaconda3/lib/python3.7/site-packages/sklearn/ensemble/iforest.py:213: FutureWarning: default contamination parameter 0.1 will change in version 0.22 to \"auto\". This will change the predict method behavior.\n",
      "  FutureWarning)\n",
      "/Users/thesard/anaconda3/lib/python3.7/site-packages/sklearn/ensemble/iforest.py:213: FutureWarning: default contamination parameter 0.1 will change in version 0.22 to \"auto\". This will change the predict method behavior.\n",
      "  FutureWarning)\n",
      "/Users/thesard/anaconda3/lib/python3.7/site-packages/sklearn/ensemble/iforest.py:213: FutureWarning: default contamination parameter 0.1 will change in version 0.22 to \"auto\". This will change the predict method behavior.\n",
      "  FutureWarning)\n",
      "/Users/thesard/anaconda3/lib/python3.7/site-packages/sklearn/ensemble/iforest.py:213: FutureWarning: default contamination parameter 0.1 will change in version 0.22 to \"auto\". This will change the predict method behavior.\n",
      "  FutureWarning)\n"
     ]
    }
   ],
   "source": [
    "study_executions_time_IF_Shuttle = []\n",
    "study_roc_auc_IF_Shuttle = []\n",
    "study_recalls_IF_Shuttle = []\n",
    "study_specificity_IF_Shuttle = []\n",
    "\n",
    "for j in range(10, 100, 10):\n",
    "    start_IF_Shuttle = time()\n",
    "        \n",
    "    # Instanciation, fit and predict on Shuttle\n",
    "    study_func_IF_Shuttle = IsolationForest(behaviour=\"new\")\n",
    "    study_func_IF_Shuttle.fit(X_Shuttle)\n",
    "    study_y_pred_IF_Shuttle = study_func_IF_Shuttle.predict(X_Shuttle)\n",
    "\n",
    "    # Calcul du temps d'exécution\n",
    "    study_exec_time_IF_Shuttle = time() - start_IF_Shuttle\n",
    "    study_executions_time_IF_Shuttle.append(study_exec_time_IF_Shuttle)\n",
    "    \n",
    "    # Recall\n",
    "    study_recalls_IF_Shuttle.append(recall_score(y_transform_Shuttle, study_y_pred_IF_Shuttle))\n",
    "    \n",
    "    # Specificity\n",
    "    study_specificity_IF_Shuttle.append(specificity_score(y_transform_Shuttle, study_y_pred_IF_Shuttle))\n",
    "    \n",
    "    # Calcul de l'aire sous la courbe ROC\n",
    "    study_y_DF_IF_Shuttle = study_func_IF_Shuttle.decision_function(X_Shuttle)\n",
    "    study_auc_IF_Shuttle = roc_auc_score(y_transform_Shuttle, study_y_DF_IF_Shuttle)\n",
    "    study_roc_auc_IF_Shuttle.append(study_auc_IF_Shuttle)"
   ]
  },
  {
   "cell_type": "code",
   "execution_count": 6,
   "metadata": {},
   "outputs": [
    {
     "name": "stderr",
     "output_type": "stream",
     "text": [
      "No handles with labels found to put in legend.\n"
     ]
    },
    {
     "data": {
      "image/png": "[encoded data removed]",
      "text/plain": [
       "<Figure size 432x288 with 1 Axes>"
      ]
     },
     "metadata": {
      "needs_background": "light"
     },
     "output_type": "display_data"
    }
   ],
   "source": [
    "# Evolution de spécificité et rappel\n",
    "#plt.plot( 'x', 'y1', data=df, marker='o', markerfacecolor='blue', markersize=12, color='skyblue', linewidth=4)\n",
    "plt.plot(range(10, 100, 10), study_executions_time_IF_Shuttle, \"y-\", marker='o', markerfacecolor='blue', markersize=12, color='skyblue')\n",
    "#plt.title(\"Courbe Etude de l'inconstance de IForest\")\n",
    "#plt.axis([10, 90, 0, 4])\n",
    "plt.xlabel('Execution Number')\n",
    "plt.ylabel('CPU Time')\n",
    "plt.legend(loc=\"best\")\n",
    "plt.savefig('inconstance_cputime.png')\n",
    "plt.show()"
   ]
  },
  {
   "cell_type": "code",
   "execution_count": 7,
   "metadata": {},
   "outputs": [
    {
     "name": "stderr",
     "output_type": "stream",
     "text": [
      "No handles with labels found to put in legend.\n"
     ]
    },
    {
     "data": {
      "image/png": "[encoded data removed]",
      "text/plain": [
       "<Figure size 432x288 with 1 Axes>"
      ]
     },
     "metadata": {
      "needs_background": "light"
     },
     "output_type": "display_data"
    }
   ],
   "source": [
    "# Evolution de spécificité et rappel\n",
    "plt.plot(range(10, 100, 10), study_roc_auc_IF_Shuttle, \"b--\", marker='o', markerfacecolor='blue', markersize=12, color='skyblue')\n",
    "#plt.title(\"Courbe Etude de l'inconstance de IForest\")\n",
    "#plt.axis([10, 90, 0, 4])\n",
    "plt.xlabel('Execution Number')\n",
    "plt.ylabel('ROC AUC')\n",
    "plt.legend(loc=\"best\")\n",
    "plt.savefig('inconstance_rocauc.png')\n",
    "plt.show()"
   ]
  },
  {
   "cell_type": "code",
   "execution_count": 8,
   "metadata": {},
   "outputs": [
    {
     "name": "stderr",
     "output_type": "stream",
     "text": [
      "No handles with labels found to put in legend.\n"
     ]
    },
    {
     "data": {
      "image/png": "[encoded data removed]",
      "text/plain": [
       "<Figure size 432x288 with 1 Axes>"
      ]
     },
     "metadata": {
      "needs_background": "light"
     },
     "output_type": "display_data"
    }
   ],
   "source": [
    "# Evolution de spécificité et rappel\n",
    "plt.plot(range(10, 100, 10), study_recalls_IF_Shuttle, \"g-\", marker='o', markerfacecolor='blue', markersize=12, color='skyblue')\n",
    "#plt.title(\"Courbe Etude de l'inconstance de IForest\")\n",
    "#plt.axis([10, 90, 0, 4])\n",
    "plt.xlabel('Execution Number')\n",
    "plt.ylabel('Recall')\n",
    "plt.legend(loc=\"best\")\n",
    "plt.savefig('inconstance_recall.png')\n",
    "plt.show()"
   ]
  },
  {
   "cell_type": "code",
   "execution_count": 9,
   "metadata": {},
   "outputs": [
    {
     "name": "stderr",
     "output_type": "stream",
     "text": [
      "No handles with labels found to put in legend.\n"
     ]
    },
    {
     "data": {
      "image/png": "[encoded data removed]",
      "text/plain": [
       "<Figure size 432x288 with 1 Axes>"
      ]
     },
     "metadata": {
      "needs_background": "light"
     },
     "output_type": "display_data"
    }
   ],
   "source": [
    "# Evolution de spécificité et rappel\n",
    "plt.plot(range(10, 100, 10), study_specificity_IF_Shuttle, \"r--\", marker='o', markerfacecolor='blue', markersize=12, color='skyblue')\n",
    "#plt.title(\"Courbe Etude de l'inconstance de IForest\")\n",
    "#plt.axis([10, 90, 0, 4])\n",
    "plt.xlabel('Execution Number')\n",
    "plt.ylabel('Specificity')\n",
    "plt.legend(loc=\"best\")\n",
    "plt.savefig('inconstance_specificity.png')\n",
    "plt.show()"
   ]
  },
  {
   "cell_type": "markdown",
   "metadata": {},
   "source": [
    "#### Conclusion\n",
    "Malgré le caractère aléatoire de IForest, les métrics choisis ont tendance à être constant durant l'exécution successive avec les mêmes paramètres."
   ]
  },
  {
   "cell_type": "code",
   "execution_count": 10,
   "metadata": {
    "scrolled": false
   },
   "outputs": [
    {
     "name": "stdout",
     "output_type": "stream",
     "text": [
      "n_estimators = 10\n"
     ]
    },
    {
     "name": "stderr",
     "output_type": "stream",
     "text": [
      "/Users/thesard/anaconda3/lib/python3.7/site-packages/sklearn/ensemble/iforest.py:213: FutureWarning: default contamination parameter 0.1 will change in version 0.22 to \"auto\". This will change the predict method behavior.\n",
      "  FutureWarning)\n"
     ]
    },
    {
     "name": "stdout",
     "output_type": "stream",
     "text": [
      "n_estimators = 20\n"
     ]
    },
    {
     "name": "stderr",
     "output_type": "stream",
     "text": [
      "/Users/thesard/anaconda3/lib/python3.7/site-packages/sklearn/ensemble/iforest.py:213: FutureWarning: default contamination parameter 0.1 will change in version 0.22 to \"auto\". This will change the predict method behavior.\n",
      "  FutureWarning)\n"
     ]
    },
    {
     "name": "stdout",
     "output_type": "stream",
     "text": [
      "n_estimators = 30\n"
     ]
    },
    {
     "name": "stderr",
     "output_type": "stream",
     "text": [
      "/Users/thesard/anaconda3/lib/python3.7/site-packages/sklearn/ensemble/iforest.py:213: FutureWarning: default contamination parameter 0.1 will change in version 0.22 to \"auto\". This will change the predict method behavior.\n",
      "  FutureWarning)\n"
     ]
    },
    {
     "name": "stdout",
     "output_type": "stream",
     "text": [
      "n_estimators = 40\n"
     ]
    },
    {
     "name": "stderr",
     "output_type": "stream",
     "text": [
      "/Users/thesard/anaconda3/lib/python3.7/site-packages/sklearn/ensemble/iforest.py:213: FutureWarning: default contamination parameter 0.1 will change in version 0.22 to \"auto\". This will change the predict method behavior.\n",
      "  FutureWarning)\n"
     ]
    },
    {
     "name": "stdout",
     "output_type": "stream",
     "text": [
      "n_estimators = 50\n"
     ]
    },
    {
     "name": "stderr",
     "output_type": "stream",
     "text": [
      "/Users/thesard/anaconda3/lib/python3.7/site-packages/sklearn/ensemble/iforest.py:213: FutureWarning: default contamination parameter 0.1 will change in version 0.22 to \"auto\". This will change the predict method behavior.\n",
      "  FutureWarning)\n"
     ]
    },
    {
     "name": "stdout",
     "output_type": "stream",
     "text": [
      "n_estimators = 60\n"
     ]
    },
    {
     "name": "stderr",
     "output_type": "stream",
     "text": [
      "/Users/thesard/anaconda3/lib/python3.7/site-packages/sklearn/ensemble/iforest.py:213: FutureWarning: default contamination parameter 0.1 will change in version 0.22 to \"auto\". This will change the predict method behavior.\n",
      "  FutureWarning)\n"
     ]
    },
    {
     "name": "stdout",
     "output_type": "stream",
     "text": [
      "n_estimators = 70\n"
     ]
    },
    {
     "name": "stderr",
     "output_type": "stream",
     "text": [
      "/Users/thesard/anaconda3/lib/python3.7/site-packages/sklearn/ensemble/iforest.py:213: FutureWarning: default contamination parameter 0.1 will change in version 0.22 to \"auto\". This will change the predict method behavior.\n",
      "  FutureWarning)\n"
     ]
    },
    {
     "name": "stdout",
     "output_type": "stream",
     "text": [
      "n_estimators = 80\n"
     ]
    },
    {
     "name": "stderr",
     "output_type": "stream",
     "text": [
      "/Users/thesard/anaconda3/lib/python3.7/site-packages/sklearn/ensemble/iforest.py:213: FutureWarning: default contamination parameter 0.1 will change in version 0.22 to \"auto\". This will change the predict method behavior.\n",
      "  FutureWarning)\n"
     ]
    },
    {
     "name": "stdout",
     "output_type": "stream",
     "text": [
      "n_estimators = 90\n"
     ]
    },
    {
     "name": "stderr",
     "output_type": "stream",
     "text": [
      "/Users/thesard/anaconda3/lib/python3.7/site-packages/sklearn/ensemble/iforest.py:213: FutureWarning: default contamination parameter 0.1 will change in version 0.22 to \"auto\". This will change the predict method behavior.\n",
      "  FutureWarning)\n"
     ]
    },
    {
     "name": "stdout",
     "output_type": "stream",
     "text": [
      "n_estimators = 100\n"
     ]
    },
    {
     "name": "stderr",
     "output_type": "stream",
     "text": [
      "/Users/thesard/anaconda3/lib/python3.7/site-packages/sklearn/ensemble/iforest.py:213: FutureWarning: default contamination parameter 0.1 will change in version 0.22 to \"auto\". This will change the predict method behavior.\n",
      "  FutureWarning)\n"
     ]
    },
    {
     "name": "stdout",
     "output_type": "stream",
     "text": [
      "n_estimators = 110\n"
     ]
    },
    {
     "name": "stderr",
     "output_type": "stream",
     "text": [
      "/Users/thesard/anaconda3/lib/python3.7/site-packages/sklearn/ensemble/iforest.py:213: FutureWarning: default contamination parameter 0.1 will change in version 0.22 to \"auto\". This will change the predict method behavior.\n",
      "  FutureWarning)\n"
     ]
    },
    {
     "name": "stdout",
     "output_type": "stream",
     "text": [
      "n_estimators = 120\n"
     ]
    },
    {
     "name": "stderr",
     "output_type": "stream",
     "text": [
      "/Users/thesard/anaconda3/lib/python3.7/site-packages/sklearn/ensemble/iforest.py:213: FutureWarning: default contamination parameter 0.1 will change in version 0.22 to \"auto\". This will change the predict method behavior.\n",
      "  FutureWarning)\n"
     ]
    },
    {
     "name": "stdout",
     "output_type": "stream",
     "text": [
      "n_estimators = 130\n"
     ]
    },
    {
     "name": "stderr",
     "output_type": "stream",
     "text": [
      "/Users/thesard/anaconda3/lib/python3.7/site-packages/sklearn/ensemble/iforest.py:213: FutureWarning: default contamination parameter 0.1 will change in version 0.22 to \"auto\". This will change the predict method behavior.\n",
      "  FutureWarning)\n"
     ]
    },
    {
     "name": "stdout",
     "output_type": "stream",
     "text": [
      "n_estimators = 140\n"
     ]
    },
    {
     "name": "stderr",
     "output_type": "stream",
     "text": [
      "/Users/thesard/anaconda3/lib/python3.7/site-packages/sklearn/ensemble/iforest.py:213: FutureWarning: default contamination parameter 0.1 will change in version 0.22 to \"auto\". This will change the predict method behavior.\n",
      "  FutureWarning)\n"
     ]
    },
    {
     "name": "stdout",
     "output_type": "stream",
     "text": [
      "n_estimators = 150\n"
     ]
    },
    {
     "name": "stderr",
     "output_type": "stream",
     "text": [
      "/Users/thesard/anaconda3/lib/python3.7/site-packages/sklearn/ensemble/iforest.py:213: FutureWarning: default contamination parameter 0.1 will change in version 0.22 to \"auto\". This will change the predict method behavior.\n",
      "  FutureWarning)\n"
     ]
    },
    {
     "name": "stdout",
     "output_type": "stream",
     "text": [
      "n_estimators = 160\n"
     ]
    },
    {
     "name": "stderr",
     "output_type": "stream",
     "text": [
      "/Users/thesard/anaconda3/lib/python3.7/site-packages/sklearn/ensemble/iforest.py:213: FutureWarning: default contamination parameter 0.1 will change in version 0.22 to \"auto\". This will change the predict method behavior.\n",
      "  FutureWarning)\n"
     ]
    },
    {
     "name": "stdout",
     "output_type": "stream",
     "text": [
      "n_estimators = 170\n"
     ]
    },
    {
     "name": "stderr",
     "output_type": "stream",
     "text": [
      "/Users/thesard/anaconda3/lib/python3.7/site-packages/sklearn/ensemble/iforest.py:213: FutureWarning: default contamination parameter 0.1 will change in version 0.22 to \"auto\". This will change the predict method behavior.\n",
      "  FutureWarning)\n"
     ]
    },
    {
     "name": "stdout",
     "output_type": "stream",
     "text": [
      "n_estimators = 180\n"
     ]
    },
    {
     "name": "stderr",
     "output_type": "stream",
     "text": [
      "/Users/thesard/anaconda3/lib/python3.7/site-packages/sklearn/ensemble/iforest.py:213: FutureWarning: default contamination parameter 0.1 will change in version 0.22 to \"auto\". This will change the predict method behavior.\n",
      "  FutureWarning)\n"
     ]
    },
    {
     "name": "stdout",
     "output_type": "stream",
     "text": [
      "n_estimators = 190\n"
     ]
    },
    {
     "name": "stderr",
     "output_type": "stream",
     "text": [
      "/Users/thesard/anaconda3/lib/python3.7/site-packages/sklearn/ensemble/iforest.py:213: FutureWarning: default contamination parameter 0.1 will change in version 0.22 to \"auto\". This will change the predict method behavior.\n",
      "  FutureWarning)\n"
     ]
    },
    {
     "name": "stdout",
     "output_type": "stream",
     "text": [
      "n_estimators = 200\n"
     ]
    },
    {
     "name": "stderr",
     "output_type": "stream",
     "text": [
      "/Users/thesard/anaconda3/lib/python3.7/site-packages/sklearn/ensemble/iforest.py:213: FutureWarning: default contamination parameter 0.1 will change in version 0.22 to \"auto\". This will change the predict method behavior.\n",
      "  FutureWarning)\n"
     ]
    },
    {
     "name": "stdout",
     "output_type": "stream",
     "text": [
      "n_estimators = 210\n"
     ]
    },
    {
     "name": "stderr",
     "output_type": "stream",
     "text": [
      "/Users/thesard/anaconda3/lib/python3.7/site-packages/sklearn/ensemble/iforest.py:213: FutureWarning: default contamination parameter 0.1 will change in version 0.22 to \"auto\". This will change the predict method behavior.\n",
      "  FutureWarning)\n"
     ]
    },
    {
     "name": "stdout",
     "output_type": "stream",
     "text": [
      "n_estimators = 220\n"
     ]
    },
    {
     "name": "stderr",
     "output_type": "stream",
     "text": [
      "/Users/thesard/anaconda3/lib/python3.7/site-packages/sklearn/ensemble/iforest.py:213: FutureWarning: default contamination parameter 0.1 will change in version 0.22 to \"auto\". This will change the predict method behavior.\n",
      "  FutureWarning)\n"
     ]
    },
    {
     "name": "stdout",
     "output_type": "stream",
     "text": [
      "n_estimators = 230\n"
     ]
    },
    {
     "name": "stderr",
     "output_type": "stream",
     "text": [
      "/Users/thesard/anaconda3/lib/python3.7/site-packages/sklearn/ensemble/iforest.py:213: FutureWarning: default contamination parameter 0.1 will change in version 0.22 to \"auto\". This will change the predict method behavior.\n",
      "  FutureWarning)\n"
     ]
    },
    {
     "name": "stdout",
     "output_type": "stream",
     "text": [
      "n_estimators = 240\n"
     ]
    },
    {
     "name": "stderr",
     "output_type": "stream",
     "text": [
      "/Users/thesard/anaconda3/lib/python3.7/site-packages/sklearn/ensemble/iforest.py:213: FutureWarning: default contamination parameter 0.1 will change in version 0.22 to \"auto\". This will change the predict method behavior.\n",
      "  FutureWarning)\n"
     ]
    },
    {
     "name": "stdout",
     "output_type": "stream",
     "text": [
      "n_estimators = 250\n"
     ]
    },
    {
     "name": "stderr",
     "output_type": "stream",
     "text": [
      "/Users/thesard/anaconda3/lib/python3.7/site-packages/sklearn/ensemble/iforest.py:213: FutureWarning: default contamination parameter 0.1 will change in version 0.22 to \"auto\". This will change the predict method behavior.\n",
      "  FutureWarning)\n"
     ]
    },
    {
     "name": "stdout",
     "output_type": "stream",
     "text": [
      "n_estimators = 260\n"
     ]
    },
    {
     "name": "stderr",
     "output_type": "stream",
     "text": [
      "/Users/thesard/anaconda3/lib/python3.7/site-packages/sklearn/ensemble/iforest.py:213: FutureWarning: default contamination parameter 0.1 will change in version 0.22 to \"auto\". This will change the predict method behavior.\n",
      "  FutureWarning)\n"
     ]
    },
    {
     "name": "stdout",
     "output_type": "stream",
     "text": [
      "n_estimators = 270\n"
     ]
    },
    {
     "name": "stderr",
     "output_type": "stream",
     "text": [
      "/Users/thesard/anaconda3/lib/python3.7/site-packages/sklearn/ensemble/iforest.py:213: FutureWarning: default contamination parameter 0.1 will change in version 0.22 to \"auto\". This will change the predict method behavior.\n",
      "  FutureWarning)\n"
     ]
    },
    {
     "name": "stdout",
     "output_type": "stream",
     "text": [
      "n_estimators = 280\n"
     ]
    },
    {
     "name": "stderr",
     "output_type": "stream",
     "text": [
      "/Users/thesard/anaconda3/lib/python3.7/site-packages/sklearn/ensemble/iforest.py:213: FutureWarning: default contamination parameter 0.1 will change in version 0.22 to \"auto\". This will change the predict method behavior.\n",
      "  FutureWarning)\n"
     ]
    },
    {
     "name": "stdout",
     "output_type": "stream",
     "text": [
      "n_estimators = 290\n"
     ]
    },
    {
     "name": "stderr",
     "output_type": "stream",
     "text": [
      "/Users/thesard/anaconda3/lib/python3.7/site-packages/sklearn/ensemble/iforest.py:213: FutureWarning: default contamination parameter 0.1 will change in version 0.22 to \"auto\". This will change the predict method behavior.\n",
      "  FutureWarning)\n"
     ]
    },
    {
     "name": "stdout",
     "output_type": "stream",
     "text": [
      "n_estimators = 300\n"
     ]
    },
    {
     "name": "stderr",
     "output_type": "stream",
     "text": [
      "/Users/thesard/anaconda3/lib/python3.7/site-packages/sklearn/ensemble/iforest.py:213: FutureWarning: default contamination parameter 0.1 will change in version 0.22 to \"auto\". This will change the predict method behavior.\n",
      "  FutureWarning)\n"
     ]
    },
    {
     "name": "stdout",
     "output_type": "stream",
     "text": [
      "n_estimators = 310\n"
     ]
    },
    {
     "name": "stderr",
     "output_type": "stream",
     "text": [
      "/Users/thesard/anaconda3/lib/python3.7/site-packages/sklearn/ensemble/iforest.py:213: FutureWarning: default contamination parameter 0.1 will change in version 0.22 to \"auto\". This will change the predict method behavior.\n",
      "  FutureWarning)\n"
     ]
    },
    {
     "name": "stdout",
     "output_type": "stream",
     "text": [
      "n_estimators = 320\n"
     ]
    },
    {
     "name": "stderr",
     "output_type": "stream",
     "text": [
      "/Users/thesard/anaconda3/lib/python3.7/site-packages/sklearn/ensemble/iforest.py:213: FutureWarning: default contamination parameter 0.1 will change in version 0.22 to \"auto\". This will change the predict method behavior.\n",
      "  FutureWarning)\n"
     ]
    },
    {
     "name": "stdout",
     "output_type": "stream",
     "text": [
      "n_estimators = 330\n"
     ]
    },
    {
     "name": "stderr",
     "output_type": "stream",
     "text": [
      "/Users/thesard/anaconda3/lib/python3.7/site-packages/sklearn/ensemble/iforest.py:213: FutureWarning: default contamination parameter 0.1 will change in version 0.22 to \"auto\". This will change the predict method behavior.\n",
      "  FutureWarning)\n"
     ]
    },
    {
     "name": "stdout",
     "output_type": "stream",
     "text": [
      "n_estimators = 340\n"
     ]
    },
    {
     "name": "stderr",
     "output_type": "stream",
     "text": [
      "/Users/thesard/anaconda3/lib/python3.7/site-packages/sklearn/ensemble/iforest.py:213: FutureWarning: default contamination parameter 0.1 will change in version 0.22 to \"auto\". This will change the predict method behavior.\n",
      "  FutureWarning)\n"
     ]
    },
    {
     "name": "stdout",
     "output_type": "stream",
     "text": [
      "n_estimators = 350\n"
     ]
    },
    {
     "name": "stderr",
     "output_type": "stream",
     "text": [
      "/Users/thesard/anaconda3/lib/python3.7/site-packages/sklearn/ensemble/iforest.py:213: FutureWarning: default contamination parameter 0.1 will change in version 0.22 to \"auto\". This will change the predict method behavior.\n",
      "  FutureWarning)\n"
     ]
    },
    {
     "name": "stdout",
     "output_type": "stream",
     "text": [
      "n_estimators = 360\n"
     ]
    },
    {
     "name": "stderr",
     "output_type": "stream",
     "text": [
      "/Users/thesard/anaconda3/lib/python3.7/site-packages/sklearn/ensemble/iforest.py:213: FutureWarning: default contamination parameter 0.1 will change in version 0.22 to \"auto\". This will change the predict method behavior.\n",
      "  FutureWarning)\n"
     ]
    },
    {
     "name": "stdout",
     "output_type": "stream",
     "text": [
      "n_estimators = 370\n"
     ]
    },
    {
     "name": "stderr",
     "output_type": "stream",
     "text": [
      "/Users/thesard/anaconda3/lib/python3.7/site-packages/sklearn/ensemble/iforest.py:213: FutureWarning: default contamination parameter 0.1 will change in version 0.22 to \"auto\". This will change the predict method behavior.\n",
      "  FutureWarning)\n"
     ]
    },
    {
     "name": "stdout",
     "output_type": "stream",
     "text": [
      "n_estimators = 380\n"
     ]
    },
    {
     "name": "stderr",
     "output_type": "stream",
     "text": [
      "/Users/thesard/anaconda3/lib/python3.7/site-packages/sklearn/ensemble/iforest.py:213: FutureWarning: default contamination parameter 0.1 will change in version 0.22 to \"auto\". This will change the predict method behavior.\n",
      "  FutureWarning)\n"
     ]
    },
    {
     "name": "stdout",
     "output_type": "stream",
     "text": [
      "n_estimators = 390\n"
     ]
    },
    {
     "name": "stderr",
     "output_type": "stream",
     "text": [
      "/Users/thesard/anaconda3/lib/python3.7/site-packages/sklearn/ensemble/iforest.py:213: FutureWarning: default contamination parameter 0.1 will change in version 0.22 to \"auto\". This will change the predict method behavior.\n",
      "  FutureWarning)\n"
     ]
    },
    {
     "name": "stdout",
     "output_type": "stream",
     "text": [
      "n_estimators = 400\n"
     ]
    },
    {
     "name": "stderr",
     "output_type": "stream",
     "text": [
      "/Users/thesard/anaconda3/lib/python3.7/site-packages/sklearn/ensemble/iforest.py:213: FutureWarning: default contamination parameter 0.1 will change in version 0.22 to \"auto\". This will change the predict method behavior.\n",
      "  FutureWarning)\n"
     ]
    },
    {
     "name": "stdout",
     "output_type": "stream",
     "text": [
      "n_estimators = 410\n"
     ]
    },
    {
     "name": "stderr",
     "output_type": "stream",
     "text": [
      "/Users/thesard/anaconda3/lib/python3.7/site-packages/sklearn/ensemble/iforest.py:213: FutureWarning: default contamination parameter 0.1 will change in version 0.22 to \"auto\". This will change the predict method behavior.\n",
      "  FutureWarning)\n"
     ]
    },
    {
     "name": "stdout",
     "output_type": "stream",
     "text": [
      "n_estimators = 420\n"
     ]
    },
    {
     "name": "stderr",
     "output_type": "stream",
     "text": [
      "/Users/thesard/anaconda3/lib/python3.7/site-packages/sklearn/ensemble/iforest.py:213: FutureWarning: default contamination parameter 0.1 will change in version 0.22 to \"auto\". This will change the predict method behavior.\n",
      "  FutureWarning)\n"
     ]
    },
    {
     "name": "stdout",
     "output_type": "stream",
     "text": [
      "n_estimators = 430\n"
     ]
    },
    {
     "name": "stderr",
     "output_type": "stream",
     "text": [
      "/Users/thesard/anaconda3/lib/python3.7/site-packages/sklearn/ensemble/iforest.py:213: FutureWarning: default contamination parameter 0.1 will change in version 0.22 to \"auto\". This will change the predict method behavior.\n",
      "  FutureWarning)\n"
     ]
    },
    {
     "name": "stdout",
     "output_type": "stream",
     "text": [
      "n_estimators = 440\n"
     ]
    },
    {
     "name": "stderr",
     "output_type": "stream",
     "text": [
      "/Users/thesard/anaconda3/lib/python3.7/site-packages/sklearn/ensemble/iforest.py:213: FutureWarning: default contamination parameter 0.1 will change in version 0.22 to \"auto\". This will change the predict method behavior.\n",
      "  FutureWarning)\n"
     ]
    },
    {
     "name": "stdout",
     "output_type": "stream",
     "text": [
      "n_estimators = 450\n"
     ]
    },
    {
     "name": "stderr",
     "output_type": "stream",
     "text": [
      "/Users/thesard/anaconda3/lib/python3.7/site-packages/sklearn/ensemble/iforest.py:213: FutureWarning: default contamination parameter 0.1 will change in version 0.22 to \"auto\". This will change the predict method behavior.\n",
      "  FutureWarning)\n"
     ]
    },
    {
     "name": "stdout",
     "output_type": "stream",
     "text": [
      "n_estimators = 460\n"
     ]
    },
    {
     "name": "stderr",
     "output_type": "stream",
     "text": [
      "/Users/thesard/anaconda3/lib/python3.7/site-packages/sklearn/ensemble/iforest.py:213: FutureWarning: default contamination parameter 0.1 will change in version 0.22 to \"auto\". This will change the predict method behavior.\n",
      "  FutureWarning)\n"
     ]
    },
    {
     "name": "stdout",
     "output_type": "stream",
     "text": [
      "n_estimators = 470\n"
     ]
    },
    {
     "name": "stderr",
     "output_type": "stream",
     "text": [
      "/Users/thesard/anaconda3/lib/python3.7/site-packages/sklearn/ensemble/iforest.py:213: FutureWarning: default contamination parameter 0.1 will change in version 0.22 to \"auto\". This will change the predict method behavior.\n",
      "  FutureWarning)\n"
     ]
    },
    {
     "name": "stdout",
     "output_type": "stream",
     "text": [
      "n_estimators = 480\n"
     ]
    },
    {
     "name": "stderr",
     "output_type": "stream",
     "text": [
      "/Users/thesard/anaconda3/lib/python3.7/site-packages/sklearn/ensemble/iforest.py:213: FutureWarning: default contamination parameter 0.1 will change in version 0.22 to \"auto\". This will change the predict method behavior.\n",
      "  FutureWarning)\n"
     ]
    },
    {
     "name": "stdout",
     "output_type": "stream",
     "text": [
      "n_estimators = 490\n"
     ]
    },
    {
     "name": "stderr",
     "output_type": "stream",
     "text": [
      "/Users/thesard/anaconda3/lib/python3.7/site-packages/sklearn/ensemble/iforest.py:213: FutureWarning: default contamination parameter 0.1 will change in version 0.22 to \"auto\". This will change the predict method behavior.\n",
      "  FutureWarning)\n"
     ]
    },
    {
     "name": "stdout",
     "output_type": "stream",
     "text": [
      "n_estimators = 500\n"
     ]
    },
    {
     "name": "stderr",
     "output_type": "stream",
     "text": [
      "/Users/thesard/anaconda3/lib/python3.7/site-packages/sklearn/ensemble/iforest.py:213: FutureWarning: default contamination parameter 0.1 will change in version 0.22 to \"auto\". This will change the predict method behavior.\n",
      "  FutureWarning)\n"
     ]
    },
    {
     "name": "stdout",
     "output_type": "stream",
     "text": [
      "n_estimators = 510\n"
     ]
    },
    {
     "name": "stderr",
     "output_type": "stream",
     "text": [
      "/Users/thesard/anaconda3/lib/python3.7/site-packages/sklearn/ensemble/iforest.py:213: FutureWarning: default contamination parameter 0.1 will change in version 0.22 to \"auto\". This will change the predict method behavior.\n",
      "  FutureWarning)\n"
     ]
    },
    {
     "name": "stdout",
     "output_type": "stream",
     "text": [
      "n_estimators = 520\n"
     ]
    },
    {
     "name": "stderr",
     "output_type": "stream",
     "text": [
      "/Users/thesard/anaconda3/lib/python3.7/site-packages/sklearn/ensemble/iforest.py:213: FutureWarning: default contamination parameter 0.1 will change in version 0.22 to \"auto\". This will change the predict method behavior.\n",
      "  FutureWarning)\n"
     ]
    },
    {
     "name": "stdout",
     "output_type": "stream",
     "text": [
      "n_estimators = 530\n"
     ]
    },
    {
     "name": "stderr",
     "output_type": "stream",
     "text": [
      "/Users/thesard/anaconda3/lib/python3.7/site-packages/sklearn/ensemble/iforest.py:213: FutureWarning: default contamination parameter 0.1 will change in version 0.22 to \"auto\". This will change the predict method behavior.\n",
      "  FutureWarning)\n"
     ]
    },
    {
     "name": "stdout",
     "output_type": "stream",
     "text": [
      "n_estimators = 540\n"
     ]
    },
    {
     "name": "stderr",
     "output_type": "stream",
     "text": [
      "/Users/thesard/anaconda3/lib/python3.7/site-packages/sklearn/ensemble/iforest.py:213: FutureWarning: default contamination parameter 0.1 will change in version 0.22 to \"auto\". This will change the predict method behavior.\n",
      "  FutureWarning)\n"
     ]
    },
    {
     "name": "stdout",
     "output_type": "stream",
     "text": [
      "n_estimators = 550\n"
     ]
    },
    {
     "name": "stderr",
     "output_type": "stream",
     "text": [
      "/Users/thesard/anaconda3/lib/python3.7/site-packages/sklearn/ensemble/iforest.py:213: FutureWarning: default contamination parameter 0.1 will change in version 0.22 to \"auto\". This will change the predict method behavior.\n",
      "  FutureWarning)\n"
     ]
    },
    {
     "name": "stdout",
     "output_type": "stream",
     "text": [
      "n_estimators = 560\n"
     ]
    },
    {
     "name": "stderr",
     "output_type": "stream",
     "text": [
      "/Users/thesard/anaconda3/lib/python3.7/site-packages/sklearn/ensemble/iforest.py:213: FutureWarning: default contamination parameter 0.1 will change in version 0.22 to \"auto\". This will change the predict method behavior.\n",
      "  FutureWarning)\n"
     ]
    },
    {
     "name": "stdout",
     "output_type": "stream",
     "text": [
      "n_estimators = 570\n"
     ]
    },
    {
     "name": "stderr",
     "output_type": "stream",
     "text": [
      "/Users/thesard/anaconda3/lib/python3.7/site-packages/sklearn/ensemble/iforest.py:213: FutureWarning: default contamination parameter 0.1 will change in version 0.22 to \"auto\". This will change the predict method behavior.\n",
      "  FutureWarning)\n"
     ]
    },
    {
     "name": "stdout",
     "output_type": "stream",
     "text": [
      "n_estimators = 580\n"
     ]
    },
    {
     "name": "stderr",
     "output_type": "stream",
     "text": [
      "/Users/thesard/anaconda3/lib/python3.7/site-packages/sklearn/ensemble/iforest.py:213: FutureWarning: default contamination parameter 0.1 will change in version 0.22 to \"auto\". This will change the predict method behavior.\n",
      "  FutureWarning)\n"
     ]
    },
    {
     "name": "stdout",
     "output_type": "stream",
     "text": [
      "n_estimators = 590\n"
     ]
    },
    {
     "name": "stderr",
     "output_type": "stream",
     "text": [
      "/Users/thesard/anaconda3/lib/python3.7/site-packages/sklearn/ensemble/iforest.py:213: FutureWarning: default contamination parameter 0.1 will change in version 0.22 to \"auto\". This will change the predict method behavior.\n",
      "  FutureWarning)\n"
     ]
    },
    {
     "name": "stdout",
     "output_type": "stream",
     "text": [
      "n_estimators = 600\n"
     ]
    },
    {
     "name": "stderr",
     "output_type": "stream",
     "text": [
      "/Users/thesard/anaconda3/lib/python3.7/site-packages/sklearn/ensemble/iforest.py:213: FutureWarning: default contamination parameter 0.1 will change in version 0.22 to \"auto\". This will change the predict method behavior.\n",
      "  FutureWarning)\n"
     ]
    },
    {
     "name": "stdout",
     "output_type": "stream",
     "text": [
      "n_estimators = 610\n"
     ]
    },
    {
     "name": "stderr",
     "output_type": "stream",
     "text": [
      "/Users/thesard/anaconda3/lib/python3.7/site-packages/sklearn/ensemble/iforest.py:213: FutureWarning: default contamination parameter 0.1 will change in version 0.22 to \"auto\". This will change the predict method behavior.\n",
      "  FutureWarning)\n"
     ]
    },
    {
     "name": "stdout",
     "output_type": "stream",
     "text": [
      "n_estimators = 620\n"
     ]
    },
    {
     "name": "stderr",
     "output_type": "stream",
     "text": [
      "/Users/thesard/anaconda3/lib/python3.7/site-packages/sklearn/ensemble/iforest.py:213: FutureWarning: default contamination parameter 0.1 will change in version 0.22 to \"auto\". This will change the predict method behavior.\n",
      "  FutureWarning)\n"
     ]
    },
    {
     "name": "stdout",
     "output_type": "stream",
     "text": [
      "n_estimators = 630\n"
     ]
    },
    {
     "name": "stderr",
     "output_type": "stream",
     "text": [
      "/Users/thesard/anaconda3/lib/python3.7/site-packages/sklearn/ensemble/iforest.py:213: FutureWarning: default contamination parameter 0.1 will change in version 0.22 to \"auto\". This will change the predict method behavior.\n",
      "  FutureWarning)\n"
     ]
    },
    {
     "name": "stdout",
     "output_type": "stream",
     "text": [
      "n_estimators = 640\n"
     ]
    },
    {
     "name": "stderr",
     "output_type": "stream",
     "text": [
      "/Users/thesard/anaconda3/lib/python3.7/site-packages/sklearn/ensemble/iforest.py:213: FutureWarning: default contamination parameter 0.1 will change in version 0.22 to \"auto\". This will change the predict method behavior.\n",
      "  FutureWarning)\n"
     ]
    },
    {
     "name": "stdout",
     "output_type": "stream",
     "text": [
      "n_estimators = 650\n"
     ]
    },
    {
     "name": "stderr",
     "output_type": "stream",
     "text": [
      "/Users/thesard/anaconda3/lib/python3.7/site-packages/sklearn/ensemble/iforest.py:213: FutureWarning: default contamination parameter 0.1 will change in version 0.22 to \"auto\". This will change the predict method behavior.\n",
      "  FutureWarning)\n"
     ]
    },
    {
     "name": "stdout",
     "output_type": "stream",
     "text": [
      "n_estimators = 660\n"
     ]
    },
    {
     "name": "stderr",
     "output_type": "stream",
     "text": [
      "/Users/thesard/anaconda3/lib/python3.7/site-packages/sklearn/ensemble/iforest.py:213: FutureWarning: default contamination parameter 0.1 will change in version 0.22 to \"auto\". This will change the predict method behavior.\n",
      "  FutureWarning)\n"
     ]
    },
    {
     "name": "stdout",
     "output_type": "stream",
     "text": [
      "n_estimators = 670\n"
     ]
    },
    {
     "name": "stderr",
     "output_type": "stream",
     "text": [
      "/Users/thesard/anaconda3/lib/python3.7/site-packages/sklearn/ensemble/iforest.py:213: FutureWarning: default contamination parameter 0.1 will change in version 0.22 to \"auto\". This will change the predict method behavior.\n",
      "  FutureWarning)\n"
     ]
    },
    {
     "name": "stdout",
     "output_type": "stream",
     "text": [
      "n_estimators = 680\n"
     ]
    },
    {
     "name": "stderr",
     "output_type": "stream",
     "text": [
      "/Users/thesard/anaconda3/lib/python3.7/site-packages/sklearn/ensemble/iforest.py:213: FutureWarning: default contamination parameter 0.1 will change in version 0.22 to \"auto\". This will change the predict method behavior.\n",
      "  FutureWarning)\n"
     ]
    },
    {
     "name": "stdout",
     "output_type": "stream",
     "text": [
      "n_estimators = 690\n"
     ]
    },
    {
     "name": "stderr",
     "output_type": "stream",
     "text": [
      "/Users/thesard/anaconda3/lib/python3.7/site-packages/sklearn/ensemble/iforest.py:213: FutureWarning: default contamination parameter 0.1 will change in version 0.22 to \"auto\". This will change the predict method behavior.\n",
      "  FutureWarning)\n"
     ]
    },
    {
     "name": "stdout",
     "output_type": "stream",
     "text": [
      "n_estimators = 700\n"
     ]
    },
    {
     "name": "stderr",
     "output_type": "stream",
     "text": [
      "/Users/thesard/anaconda3/lib/python3.7/site-packages/sklearn/ensemble/iforest.py:213: FutureWarning: default contamination parameter 0.1 will change in version 0.22 to \"auto\". This will change the predict method behavior.\n",
      "  FutureWarning)\n"
     ]
    },
    {
     "name": "stdout",
     "output_type": "stream",
     "text": [
      "n_estimators = 710\n"
     ]
    },
    {
     "name": "stderr",
     "output_type": "stream",
     "text": [
      "/Users/thesard/anaconda3/lib/python3.7/site-packages/sklearn/ensemble/iforest.py:213: FutureWarning: default contamination parameter 0.1 will change in version 0.22 to \"auto\". This will change the predict method behavior.\n",
      "  FutureWarning)\n"
     ]
    },
    {
     "name": "stdout",
     "output_type": "stream",
     "text": [
      "n_estimators = 720\n"
     ]
    },
    {
     "name": "stderr",
     "output_type": "stream",
     "text": [
      "/Users/thesard/anaconda3/lib/python3.7/site-packages/sklearn/ensemble/iforest.py:213: FutureWarning: default contamination parameter 0.1 will change in version 0.22 to \"auto\". This will change the predict method behavior.\n",
      "  FutureWarning)\n"
     ]
    },
    {
     "name": "stdout",
     "output_type": "stream",
     "text": [
      "n_estimators = 730\n"
     ]
    },
    {
     "name": "stderr",
     "output_type": "stream",
     "text": [
      "/Users/thesard/anaconda3/lib/python3.7/site-packages/sklearn/ensemble/iforest.py:213: FutureWarning: default contamination parameter 0.1 will change in version 0.22 to \"auto\". This will change the predict method behavior.\n",
      "  FutureWarning)\n"
     ]
    },
    {
     "name": "stdout",
     "output_type": "stream",
     "text": [
      "n_estimators = 740\n"
     ]
    },
    {
     "name": "stderr",
     "output_type": "stream",
     "text": [
      "/Users/thesard/anaconda3/lib/python3.7/site-packages/sklearn/ensemble/iforest.py:213: FutureWarning: default contamination parameter 0.1 will change in version 0.22 to \"auto\". This will change the predict method behavior.\n",
      "  FutureWarning)\n"
     ]
    },
    {
     "name": "stdout",
     "output_type": "stream",
     "text": [
      "n_estimators = 750\n"
     ]
    },
    {
     "name": "stderr",
     "output_type": "stream",
     "text": [
      "/Users/thesard/anaconda3/lib/python3.7/site-packages/sklearn/ensemble/iforest.py:213: FutureWarning: default contamination parameter 0.1 will change in version 0.22 to \"auto\". This will change the predict method behavior.\n",
      "  FutureWarning)\n"
     ]
    },
    {
     "name": "stdout",
     "output_type": "stream",
     "text": [
      "n_estimators = 760\n"
     ]
    },
    {
     "name": "stderr",
     "output_type": "stream",
     "text": [
      "/Users/thesard/anaconda3/lib/python3.7/site-packages/sklearn/ensemble/iforest.py:213: FutureWarning: default contamination parameter 0.1 will change in version 0.22 to \"auto\". This will change the predict method behavior.\n",
      "  FutureWarning)\n"
     ]
    },
    {
     "name": "stdout",
     "output_type": "stream",
     "text": [
      "n_estimators = 770\n"
     ]
    },
    {
     "name": "stderr",
     "output_type": "stream",
     "text": [
      "/Users/thesard/anaconda3/lib/python3.7/site-packages/sklearn/ensemble/iforest.py:213: FutureWarning: default contamination parameter 0.1 will change in version 0.22 to \"auto\". This will change the predict method behavior.\n",
      "  FutureWarning)\n"
     ]
    },
    {
     "name": "stdout",
     "output_type": "stream",
     "text": [
      "n_estimators = 780\n"
     ]
    },
    {
     "name": "stderr",
     "output_type": "stream",
     "text": [
      "/Users/thesard/anaconda3/lib/python3.7/site-packages/sklearn/ensemble/iforest.py:213: FutureWarning: default contamination parameter 0.1 will change in version 0.22 to \"auto\". This will change the predict method behavior.\n",
      "  FutureWarning)\n"
     ]
    },
    {
     "name": "stdout",
     "output_type": "stream",
     "text": [
      "n_estimators = 790\n"
     ]
    },
    {
     "name": "stderr",
     "output_type": "stream",
     "text": [
      "/Users/thesard/anaconda3/lib/python3.7/site-packages/sklearn/ensemble/iforest.py:213: FutureWarning: default contamination parameter 0.1 will change in version 0.22 to \"auto\". This will change the predict method behavior.\n",
      "  FutureWarning)\n"
     ]
    },
    {
     "name": "stdout",
     "output_type": "stream",
     "text": [
      "n_estimators = 800\n"
     ]
    },
    {
     "name": "stderr",
     "output_type": "stream",
     "text": [
      "/Users/thesard/anaconda3/lib/python3.7/site-packages/sklearn/ensemble/iforest.py:213: FutureWarning: default contamination parameter 0.1 will change in version 0.22 to \"auto\". This will change the predict method behavior.\n",
      "  FutureWarning)\n"
     ]
    },
    {
     "name": "stdout",
     "output_type": "stream",
     "text": [
      "n_estimators = 810\n"
     ]
    },
    {
     "name": "stderr",
     "output_type": "stream",
     "text": [
      "/Users/thesard/anaconda3/lib/python3.7/site-packages/sklearn/ensemble/iforest.py:213: FutureWarning: default contamination parameter 0.1 will change in version 0.22 to \"auto\". This will change the predict method behavior.\n",
      "  FutureWarning)\n"
     ]
    },
    {
     "name": "stdout",
     "output_type": "stream",
     "text": [
      "n_estimators = 820\n"
     ]
    },
    {
     "name": "stderr",
     "output_type": "stream",
     "text": [
      "/Users/thesard/anaconda3/lib/python3.7/site-packages/sklearn/ensemble/iforest.py:213: FutureWarning: default contamination parameter 0.1 will change in version 0.22 to \"auto\". This will change the predict method behavior.\n",
      "  FutureWarning)\n"
     ]
    },
    {
     "name": "stdout",
     "output_type": "stream",
     "text": [
      "n_estimators = 830\n"
     ]
    },
    {
     "name": "stderr",
     "output_type": "stream",
     "text": [
      "/Users/thesard/anaconda3/lib/python3.7/site-packages/sklearn/ensemble/iforest.py:213: FutureWarning: default contamination parameter 0.1 will change in version 0.22 to \"auto\". This will change the predict method behavior.\n",
      "  FutureWarning)\n"
     ]
    },
    {
     "name": "stdout",
     "output_type": "stream",
     "text": [
      "n_estimators = 840\n"
     ]
    },
    {
     "name": "stderr",
     "output_type": "stream",
     "text": [
      "/Users/thesard/anaconda3/lib/python3.7/site-packages/sklearn/ensemble/iforest.py:213: FutureWarning: default contamination parameter 0.1 will change in version 0.22 to \"auto\". This will change the predict method behavior.\n",
      "  FutureWarning)\n"
     ]
    },
    {
     "name": "stdout",
     "output_type": "stream",
     "text": [
      "n_estimators = 850\n"
     ]
    },
    {
     "name": "stderr",
     "output_type": "stream",
     "text": [
      "/Users/thesard/anaconda3/lib/python3.7/site-packages/sklearn/ensemble/iforest.py:213: FutureWarning: default contamination parameter 0.1 will change in version 0.22 to \"auto\". This will change the predict method behavior.\n",
      "  FutureWarning)\n"
     ]
    },
    {
     "name": "stdout",
     "output_type": "stream",
     "text": [
      "n_estimators = 860\n"
     ]
    },
    {
     "name": "stderr",
     "output_type": "stream",
     "text": [
      "/Users/thesard/anaconda3/lib/python3.7/site-packages/sklearn/ensemble/iforest.py:213: FutureWarning: default contamination parameter 0.1 will change in version 0.22 to \"auto\". This will change the predict method behavior.\n",
      "  FutureWarning)\n"
     ]
    },
    {
     "name": "stdout",
     "output_type": "stream",
     "text": [
      "n_estimators = 870\n"
     ]
    },
    {
     "name": "stderr",
     "output_type": "stream",
     "text": [
      "/Users/thesard/anaconda3/lib/python3.7/site-packages/sklearn/ensemble/iforest.py:213: FutureWarning: default contamination parameter 0.1 will change in version 0.22 to \"auto\". This will change the predict method behavior.\n",
      "  FutureWarning)\n"
     ]
    },
    {
     "name": "stdout",
     "output_type": "stream",
     "text": [
      "n_estimators = 880\n"
     ]
    },
    {
     "name": "stderr",
     "output_type": "stream",
     "text": [
      "/Users/thesard/anaconda3/lib/python3.7/site-packages/sklearn/ensemble/iforest.py:213: FutureWarning: default contamination parameter 0.1 will change in version 0.22 to \"auto\". This will change the predict method behavior.\n",
      "  FutureWarning)\n"
     ]
    },
    {
     "name": "stdout",
     "output_type": "stream",
     "text": [
      "n_estimators = 890\n"
     ]
    },
    {
     "name": "stderr",
     "output_type": "stream",
     "text": [
      "/Users/thesard/anaconda3/lib/python3.7/site-packages/sklearn/ensemble/iforest.py:213: FutureWarning: default contamination parameter 0.1 will change in version 0.22 to \"auto\". This will change the predict method behavior.\n",
      "  FutureWarning)\n"
     ]
    },
    {
     "name": "stdout",
     "output_type": "stream",
     "text": [
      "n_estimators = 900\n"
     ]
    },
    {
     "name": "stderr",
     "output_type": "stream",
     "text": [
      "/Users/thesard/anaconda3/lib/python3.7/site-packages/sklearn/ensemble/iforest.py:213: FutureWarning: default contamination parameter 0.1 will change in version 0.22 to \"auto\". This will change the predict method behavior.\n",
      "  FutureWarning)\n"
     ]
    },
    {
     "name": "stdout",
     "output_type": "stream",
     "text": [
      "n_estimators = 910\n"
     ]
    },
    {
     "name": "stderr",
     "output_type": "stream",
     "text": [
      "/Users/thesard/anaconda3/lib/python3.7/site-packages/sklearn/ensemble/iforest.py:213: FutureWarning: default contamination parameter 0.1 will change in version 0.22 to \"auto\". This will change the predict method behavior.\n",
      "  FutureWarning)\n"
     ]
    },
    {
     "name": "stdout",
     "output_type": "stream",
     "text": [
      "n_estimators = 920\n"
     ]
    },
    {
     "name": "stderr",
     "output_type": "stream",
     "text": [
      "/Users/thesard/anaconda3/lib/python3.7/site-packages/sklearn/ensemble/iforest.py:213: FutureWarning: default contamination parameter 0.1 will change in version 0.22 to \"auto\". This will change the predict method behavior.\n",
      "  FutureWarning)\n"
     ]
    },
    {
     "name": "stdout",
     "output_type": "stream",
     "text": [
      "n_estimators = 930\n"
     ]
    },
    {
     "name": "stderr",
     "output_type": "stream",
     "text": [
      "/Users/thesard/anaconda3/lib/python3.7/site-packages/sklearn/ensemble/iforest.py:213: FutureWarning: default contamination parameter 0.1 will change in version 0.22 to \"auto\". This will change the predict method behavior.\n",
      "  FutureWarning)\n"
     ]
    },
    {
     "name": "stdout",
     "output_type": "stream",
     "text": [
      "n_estimators = 940\n"
     ]
    },
    {
     "name": "stderr",
     "output_type": "stream",
     "text": [
      "/Users/thesard/anaconda3/lib/python3.7/site-packages/sklearn/ensemble/iforest.py:213: FutureWarning: default contamination parameter 0.1 will change in version 0.22 to \"auto\". This will change the predict method behavior.\n",
      "  FutureWarning)\n"
     ]
    },
    {
     "name": "stdout",
     "output_type": "stream",
     "text": [
      "n_estimators = 950\n"
     ]
    },
    {
     "name": "stderr",
     "output_type": "stream",
     "text": [
      "/Users/thesard/anaconda3/lib/python3.7/site-packages/sklearn/ensemble/iforest.py:213: FutureWarning: default contamination parameter 0.1 will change in version 0.22 to \"auto\". This will change the predict method behavior.\n",
      "  FutureWarning)\n"
     ]
    },
    {
     "name": "stdout",
     "output_type": "stream",
     "text": [
      "n_estimators = 960\n"
     ]
    },
    {
     "name": "stderr",
     "output_type": "stream",
     "text": [
      "/Users/thesard/anaconda3/lib/python3.7/site-packages/sklearn/ensemble/iforest.py:213: FutureWarning: default contamination parameter 0.1 will change in version 0.22 to \"auto\". This will change the predict method behavior.\n",
      "  FutureWarning)\n"
     ]
    },
    {
     "name": "stdout",
     "output_type": "stream",
     "text": [
      "n_estimators = 970\n"
     ]
    },
    {
     "name": "stderr",
     "output_type": "stream",
     "text": [
      "/Users/thesard/anaconda3/lib/python3.7/site-packages/sklearn/ensemble/iforest.py:213: FutureWarning: default contamination parameter 0.1 will change in version 0.22 to \"auto\". This will change the predict method behavior.\n",
      "  FutureWarning)\n"
     ]
    },
    {
     "name": "stdout",
     "output_type": "stream",
     "text": [
      "n_estimators = 980\n"
     ]
    },
    {
     "name": "stderr",
     "output_type": "stream",
     "text": [
      "/Users/thesard/anaconda3/lib/python3.7/site-packages/sklearn/ensemble/iforest.py:213: FutureWarning: default contamination parameter 0.1 will change in version 0.22 to \"auto\". This will change the predict method behavior.\n",
      "  FutureWarning)\n"
     ]
    },
    {
     "name": "stdout",
     "output_type": "stream",
     "text": [
      "n_estimators = 990\n"
     ]
    },
    {
     "name": "stderr",
     "output_type": "stream",
     "text": [
      "/Users/thesard/anaconda3/lib/python3.7/site-packages/sklearn/ensemble/iforest.py:213: FutureWarning: default contamination parameter 0.1 will change in version 0.22 to \"auto\". This will change the predict method behavior.\n",
      "  FutureWarning)\n"
     ]
    }
   ],
   "source": [
    "executions_time_IF_Shuttle = []\n",
    "roc_auc_IF_Shuttle = []\n",
    "precisions_IF_Shuttle = []\n",
    "recalls_IF_Shuttle = []\n",
    "f1_scores_IF_Shuttle = []\n",
    "tn_IF_Shuttle = []\n",
    "fp_IF_Shuttle = []\n",
    "fn_IF_Shuttle = []\n",
    "tp_IF_Shuttle = []\n",
    "specificity_IF_Shuttle = []\n",
    "n_estimators_IF_Shuttle = []\n",
    "\n",
    "for j in range(10, 1000, 10):\n",
    "    print(\"n_estimators = \"+str(j))\n",
    "    n_estimators = j\n",
    "    n_estimators_IF_Shuttle.append(j)\n",
    "    start_IF_Shuttle = time()\n",
    "        \n",
    "    # Instanciation, fit and predict on Shuttle\n",
    "    func_IF_Shuttle = IsolationForest(n_estimators=n_estimators, behaviour=\"new\")\n",
    "    func_IF_Shuttle.fit(X_Shuttle)\n",
    "    y_pred_IF_Shuttle = func_IF_Shuttle.predict(X_Shuttle)\n",
    "\n",
    "    # Calcul du temps d'exécution\n",
    "    exec_time_IF_Shuttle = time() - start_IF_Shuttle\n",
    "    executions_time_IF_Shuttle.append(exec_time_IF_Shuttle)\n",
    "    \n",
    "    # Precision\n",
    "    precisions_IF_Shuttle.append(precision_score(y_transform_Shuttle, y_pred_IF_Shuttle))\n",
    "    \n",
    "    # Recall\n",
    "    recalls_IF_Shuttle.append(recall_score(y_transform_Shuttle, y_pred_IF_Shuttle))\n",
    "    \n",
    "    # f1_score\n",
    "    f1_scores_IF_Shuttle.append(f1_score(y_transform_Shuttle, y_pred_IF_Shuttle))\n",
    "    \n",
    "    # Specificity\n",
    "    specificity_IF_Shuttle.append(specificity_score(y_transform_Shuttle, y_pred_IF_Shuttle))\n",
    "    \n",
    "    # Matrice de confusion\n",
    "    ttn, tfp, tfn, ttp = confusion_matrix(y_transform_Shuttle, y_pred_IF_Shuttle).ravel()\n",
    "    tn = ttp\n",
    "    fp = tfn\n",
    "    fn = tfp\n",
    "    tp = ttn\n",
    "    tn_IF_Shuttle.append(tn)\n",
    "    fp_IF_Shuttle.append(fp)\n",
    "    fn_IF_Shuttle.append(fn)\n",
    "    tp_IF_Shuttle.append(tp)\n",
    "    \n",
    "    # Calcul de l'aire sous la courbe ROC\n",
    "    y_DF_IF_Shuttle = func_IF_Shuttle.decision_function(X_Shuttle)\n",
    "    auc_IF_Shuttle = roc_auc_score(y_transform_Shuttle, y_DF_IF_Shuttle)\n",
    "    roc_auc_IF_Shuttle.append(auc_IF_Shuttle)\n",
    "        \n",
    "    #print(\"Execution time of IsolationForest applied on Shuttle (in second)\")\n",
    "    #print(executions_time_IF_Shuttle)\n",
    "    #print(\"ROC AUC for Isolation Forest applied on Shuttle\")\n",
    "    #print(roc_auc_IF_Shuttle)"
   ]
  },
  {
   "cell_type": "markdown",
   "metadata": {},
   "source": [
    "### Résultat de Isolation Forest sur Shuttle"
   ]
  },
  {
   "cell_type": "code",
   "execution_count": 11,
   "metadata": {},
   "outputs": [
    {
     "name": "stderr",
     "output_type": "stream",
     "text": [
      "No handles with labels found to put in legend.\n"
     ]
    },
    {
     "data": {
      "image/png": "[encoded data removed]",
      "text/plain": [
       "<Figure size 432x288 with 1 Axes>"
      ]
     },
     "metadata": {
      "needs_background": "light"
     },
     "output_type": "display_data"
    }
   ],
   "source": [
    "plt.plot(range(10, 1000, 10), executions_time_IF_Shuttle,  \"g-\", marker='.', markerfacecolor='blue', markersize=8, color='skyblue')\n",
    "plt.xlabel('n_estimators')\n",
    "plt.ylabel('CPU Time')\n",
    "#plt.title(\"Execution time of IsolationForest applied on Shuttle (in second)\")\n",
    "plt.legend(loc=\"best\")\n",
    "plt.savefig('nestimators_cputime.png')\n",
    "plt.show()"
   ]
  },
  {
   "cell_type": "code",
   "execution_count": 12,
   "metadata": {},
   "outputs": [
    {
     "name": "stderr",
     "output_type": "stream",
     "text": [
      "No handles with labels found to put in legend.\n"
     ]
    },
    {
     "data": {
      "image/png": "[encoded data removed]",
      "text/plain": [
       "<Figure size 432x288 with 1 Axes>"
      ]
     },
     "metadata": {
      "needs_background": "light"
     },
     "output_type": "display_data"
    }
   ],
   "source": [
    "plt.plot(range(10, 1000, 10), roc_auc_IF_Shuttle,  \"g-\", marker='.', markerfacecolor='blue', markersize=6, color='skyblue')\n",
    "plt.xlabel('n_estimators')\n",
    "plt.ylabel('ROC AUC')\n",
    "#plt.title(\"ROC AUC for Isolation Forest applied on Shuttle\")\n",
    "plt.legend(loc=\"best\")\n",
    "plt.savefig('nestimators_rocauc.png')\n",
    "plt.show()"
   ]
  },
  {
   "cell_type": "code",
   "execution_count": 13,
   "metadata": {},
   "outputs": [
    {
     "name": "stdout",
     "output_type": "stream",
     "text": [
      "La meilleure est 0.9987734889833 pour un temps d'exécution de 3.789234161376953s obtenue avec un n_estimators de 110 donnant un rappel de 0.917211424560172 et une spécificité de 0.9943052391799544\n"
     ]
    }
   ],
   "source": [
    "index = roc_auc_IF_Shuttle.index(max(roc_auc_IF_Shuttle))\n",
    "print(\"La meilleure est \"+str(max(roc_auc_IF_Shuttle))+\" pour un temps d'exécution de \"+str(executions_time_IF_Shuttle[index])+\"s obtenue avec un n_estimators de \"+str(n_estimators_IF_Shuttle[index])+\" donnant un rappel de \"+str(recalls_IF_Shuttle[index])+\" et une spécificité de \"+str(specificity_IF_Shuttle[index]))\n"
   ]
  },
  {
   "cell_type": "code",
   "execution_count": 15,
   "metadata": {
    "scrolled": true
   },
   "outputs": [
    {
     "name": "stderr",
     "output_type": "stream",
     "text": [
      "No handles with labels found to put in legend.\n"
     ]
    },
    {
     "data": {
      "image/png": "[encoded data removed]",
      "text/plain": [
       "<Figure size 432x288 with 1 Axes>"
      ]
     },
     "metadata": {
      "needs_background": "light"
     },
     "output_type": "display_data"
    }
   ],
   "source": [
    "# Evolution de spécificité et rappel\n",
    "plt.plot(n_estimators_IF_Shuttle, recalls_IF_Shuttle, \"g-\", marker='.', markerfacecolor='green', markersize=6, color='green')\n",
    "#plt.axis([0, 1, 0, 1])\n",
    "plt.xlabel('n_estimators')\n",
    "plt.ylabel('Recall')\n",
    "plt.legend(loc=\"best\")\n",
    "plt.savefig('nestimators_recall.png')\n",
    "plt.show()"
   ]
  },
  {
   "cell_type": "code",
   "execution_count": 16,
   "metadata": {
    "scrolled": true
   },
   "outputs": [
    {
     "name": "stderr",
     "output_type": "stream",
     "text": [
      "No handles with labels found to put in legend.\n"
     ]
    },
    {
     "data": {
      "image/png": "[encoded data removed]",
      "text/plain": [
       "<Figure size 432x288 with 1 Axes>"
      ]
     },
     "metadata": {
      "needs_background": "light"
     },
     "output_type": "display_data"
    }
   ],
   "source": [
    "# Evolution de spécificité et rappel\n",
    "plt.plot(n_estimators_IF_Shuttle, specificity_IF_Shuttle, \"b-\", marker='.', markerfacecolor='blue', markersize=6, color='skyblue')\n",
    "#plt.title(\"Courbe Spécificité_Rappel\")\n",
    "#plt.axis([0, 1, 0, 1])\n",
    "plt.xlabel('n_estimators')\n",
    "plt.ylabel('Specificity')\n",
    "plt.legend(loc=\"best\")\n",
    "plt.savefig('nestimators_specificity.png')\n",
    "plt.show()"
   ]
  },
  {
   "cell_type": "code",
   "execution_count": 17,
   "metadata": {
    "scrolled": true
   },
   "outputs": [
    {
     "data": {
      "image/png": "[encoded data removed]",
      "text/plain": [
       "<Figure size 432x288 with 2 Axes>"
      ]
     },
     "metadata": {
      "needs_background": "light"
     },
     "output_type": "display_data"
    }
   ],
   "source": [
    "plt.scatter(specificity_IF_Shuttle,recalls_IF_Shuttle, c=n_estimators_IF_Shuttle, cmap=cm.hsv)\n",
    "cbar= plt.colorbar()\n",
    "plt.show()"
   ]
  },
  {
   "cell_type": "code",
   "execution_count": 18,
   "metadata": {
    "scrolled": true
   },
   "outputs": [
    {
     "data": {
      "image/png": "[encoded data removed]",
      "text/plain": [
       "<Figure size 432x288 with 2 Axes>"
      ]
     },
     "metadata": {
      "needs_background": "light"
     },
     "output_type": "display_data"
    }
   ],
   "source": [
    "plt.scatter(specificity_IF_Shuttle,recalls_IF_Shuttle, c=roc_auc_IF_Shuttle, cmap=cm.hsv)\n",
    "cbar= plt.colorbar()\n",
    "plt.show()"
   ]
  },
  {
   "cell_type": "markdown",
   "metadata": {},
   "source": [
    "### Résultat\n",
    "###### Faisant varier n_estimators et max_samples = 256, contamination = 0,1\n",
    "L'augmentation du nombre d'arbres augmente le temps d'exécution. L'écart est léger \n",
    "la AUC est aléatoire avec quelques pics. \n",
    "Quelque soit le nombre d'estimateur, la AUC > 0,99\n",
    "\n",
    "Meilleure estimation :\n",
    "    La meilleure est 0.998458894235502 pour un temps d'exécution de 8.09360408782959s obtenue avec un n_estimators de 180 donnant un rappel de 0.917189488000702 et une spécificité de 0.9931662870159453\n",
    "\n",
    "Le nombre d'estimateur a une influence sur la performance de IForest pouvant l'améliorer comme la détérioré. Cela s'explique par le caractère aléatoire de la construction de l'arbre."
   ]
  },
  {
   "cell_type": "markdown",
   "metadata": {},
   "source": [
    "### Exécution de Isolation Forest sur le jeux de données Shuttle en faisant varier max_samples"
   ]
  },
  {
   "cell_type": "code",
   "execution_count": 19,
   "metadata": {},
   "outputs": [
    {
     "name": "stdout",
     "output_type": "stream",
     "text": [
      "max_samples = 100\n"
     ]
    },
    {
     "name": "stderr",
     "output_type": "stream",
     "text": [
      "/Users/thesard/anaconda3/lib/python3.7/site-packages/sklearn/ensemble/iforest.py:213: FutureWarning: default contamination parameter 0.1 will change in version 0.22 to \"auto\". This will change the predict method behavior.\n",
      "  FutureWarning)\n"
     ]
    },
    {
     "name": "stdout",
     "output_type": "stream",
     "text": [
      "max_samples = 1100\n"
     ]
    },
    {
     "name": "stderr",
     "output_type": "stream",
     "text": [
      "/Users/thesard/anaconda3/lib/python3.7/site-packages/sklearn/ensemble/iforest.py:213: FutureWarning: default contamination parameter 0.1 will change in version 0.22 to \"auto\". This will change the predict method behavior.\n",
      "  FutureWarning)\n"
     ]
    },
    {
     "name": "stdout",
     "output_type": "stream",
     "text": [
      "max_samples = 2100\n"
     ]
    },
    {
     "name": "stderr",
     "output_type": "stream",
     "text": [
      "/Users/thesard/anaconda3/lib/python3.7/site-packages/sklearn/ensemble/iforest.py:213: FutureWarning: default contamination parameter 0.1 will change in version 0.22 to \"auto\". This will change the predict method behavior.\n",
      "  FutureWarning)\n"
     ]
    },
    {
     "name": "stdout",
     "output_type": "stream",
     "text": [
      "max_samples = 3100\n"
     ]
    },
    {
     "name": "stderr",
     "output_type": "stream",
     "text": [
      "/Users/thesard/anaconda3/lib/python3.7/site-packages/sklearn/ensemble/iforest.py:213: FutureWarning: default contamination parameter 0.1 will change in version 0.22 to \"auto\". This will change the predict method behavior.\n",
      "  FutureWarning)\n"
     ]
    },
    {
     "name": "stdout",
     "output_type": "stream",
     "text": [
      "max_samples = 4100\n"
     ]
    },
    {
     "name": "stderr",
     "output_type": "stream",
     "text": [
      "/Users/thesard/anaconda3/lib/python3.7/site-packages/sklearn/ensemble/iforest.py:213: FutureWarning: default contamination parameter 0.1 will change in version 0.22 to \"auto\". This will change the predict method behavior.\n",
      "  FutureWarning)\n"
     ]
    },
    {
     "name": "stdout",
     "output_type": "stream",
     "text": [
      "max_samples = 5100\n"
     ]
    },
    {
     "name": "stderr",
     "output_type": "stream",
     "text": [
      "/Users/thesard/anaconda3/lib/python3.7/site-packages/sklearn/ensemble/iforest.py:213: FutureWarning: default contamination parameter 0.1 will change in version 0.22 to \"auto\". This will change the predict method behavior.\n",
      "  FutureWarning)\n"
     ]
    },
    {
     "name": "stdout",
     "output_type": "stream",
     "text": [
      "max_samples = 6100\n"
     ]
    },
    {
     "name": "stderr",
     "output_type": "stream",
     "text": [
      "/Users/thesard/anaconda3/lib/python3.7/site-packages/sklearn/ensemble/iforest.py:213: FutureWarning: default contamination parameter 0.1 will change in version 0.22 to \"auto\". This will change the predict method behavior.\n",
      "  FutureWarning)\n"
     ]
    },
    {
     "name": "stdout",
     "output_type": "stream",
     "text": [
      "max_samples = 7100\n"
     ]
    },
    {
     "name": "stderr",
     "output_type": "stream",
     "text": [
      "/Users/thesard/anaconda3/lib/python3.7/site-packages/sklearn/ensemble/iforest.py:213: FutureWarning: default contamination parameter 0.1 will change in version 0.22 to \"auto\". This will change the predict method behavior.\n",
      "  FutureWarning)\n"
     ]
    },
    {
     "name": "stdout",
     "output_type": "stream",
     "text": [
      "max_samples = 8100\n"
     ]
    },
    {
     "name": "stderr",
     "output_type": "stream",
     "text": [
      "/Users/thesard/anaconda3/lib/python3.7/site-packages/sklearn/ensemble/iforest.py:213: FutureWarning: default contamination parameter 0.1 will change in version 0.22 to \"auto\". This will change the predict method behavior.\n",
      "  FutureWarning)\n"
     ]
    },
    {
     "name": "stdout",
     "output_type": "stream",
     "text": [
      "max_samples = 9100\n"
     ]
    },
    {
     "name": "stderr",
     "output_type": "stream",
     "text": [
      "/Users/thesard/anaconda3/lib/python3.7/site-packages/sklearn/ensemble/iforest.py:213: FutureWarning: default contamination parameter 0.1 will change in version 0.22 to \"auto\". This will change the predict method behavior.\n",
      "  FutureWarning)\n"
     ]
    },
    {
     "name": "stdout",
     "output_type": "stream",
     "text": [
      "max_samples = 10100\n"
     ]
    },
    {
     "name": "stderr",
     "output_type": "stream",
     "text": [
      "/Users/thesard/anaconda3/lib/python3.7/site-packages/sklearn/ensemble/iforest.py:213: FutureWarning: default contamination parameter 0.1 will change in version 0.22 to \"auto\". This will change the predict method behavior.\n",
      "  FutureWarning)\n"
     ]
    },
    {
     "name": "stdout",
     "output_type": "stream",
     "text": [
      "max_samples = 11100\n"
     ]
    },
    {
     "name": "stderr",
     "output_type": "stream",
     "text": [
      "/Users/thesard/anaconda3/lib/python3.7/site-packages/sklearn/ensemble/iforest.py:213: FutureWarning: default contamination parameter 0.1 will change in version 0.22 to \"auto\". This will change the predict method behavior.\n",
      "  FutureWarning)\n"
     ]
    },
    {
     "name": "stdout",
     "output_type": "stream",
     "text": [
      "max_samples = 12100\n"
     ]
    },
    {
     "name": "stderr",
     "output_type": "stream",
     "text": [
      "/Users/thesard/anaconda3/lib/python3.7/site-packages/sklearn/ensemble/iforest.py:213: FutureWarning: default contamination parameter 0.1 will change in version 0.22 to \"auto\". This will change the predict method behavior.\n",
      "  FutureWarning)\n"
     ]
    },
    {
     "name": "stdout",
     "output_type": "stream",
     "text": [
      "max_samples = 13100\n"
     ]
    },
    {
     "name": "stderr",
     "output_type": "stream",
     "text": [
      "/Users/thesard/anaconda3/lib/python3.7/site-packages/sklearn/ensemble/iforest.py:213: FutureWarning: default contamination parameter 0.1 will change in version 0.22 to \"auto\". This will change the predict method behavior.\n",
      "  FutureWarning)\n"
     ]
    },
    {
     "name": "stdout",
     "output_type": "stream",
     "text": [
      "max_samples = 14100\n"
     ]
    },
    {
     "name": "stderr",
     "output_type": "stream",
     "text": [
      "/Users/thesard/anaconda3/lib/python3.7/site-packages/sklearn/ensemble/iforest.py:213: FutureWarning: default contamination parameter 0.1 will change in version 0.22 to \"auto\". This will change the predict method behavior.\n",
      "  FutureWarning)\n"
     ]
    },
    {
     "name": "stdout",
     "output_type": "stream",
     "text": [
      "max_samples = 15100\n"
     ]
    },
    {
     "name": "stderr",
     "output_type": "stream",
     "text": [
      "/Users/thesard/anaconda3/lib/python3.7/site-packages/sklearn/ensemble/iforest.py:213: FutureWarning: default contamination parameter 0.1 will change in version 0.22 to \"auto\". This will change the predict method behavior.\n",
      "  FutureWarning)\n"
     ]
    },
    {
     "name": "stdout",
     "output_type": "stream",
     "text": [
      "max_samples = 16100\n"
     ]
    },
    {
     "name": "stderr",
     "output_type": "stream",
     "text": [
      "/Users/thesard/anaconda3/lib/python3.7/site-packages/sklearn/ensemble/iforest.py:213: FutureWarning: default contamination parameter 0.1 will change in version 0.22 to \"auto\". This will change the predict method behavior.\n",
      "  FutureWarning)\n"
     ]
    },
    {
     "name": "stdout",
     "output_type": "stream",
     "text": [
      "max_samples = 17100\n"
     ]
    },
    {
     "name": "stderr",
     "output_type": "stream",
     "text": [
      "/Users/thesard/anaconda3/lib/python3.7/site-packages/sklearn/ensemble/iforest.py:213: FutureWarning: default contamination parameter 0.1 will change in version 0.22 to \"auto\". This will change the predict method behavior.\n",
      "  FutureWarning)\n"
     ]
    },
    {
     "name": "stdout",
     "output_type": "stream",
     "text": [
      "max_samples = 18100\n"
     ]
    },
    {
     "name": "stderr",
     "output_type": "stream",
     "text": [
      "/Users/thesard/anaconda3/lib/python3.7/site-packages/sklearn/ensemble/iforest.py:213: FutureWarning: default contamination parameter 0.1 will change in version 0.22 to \"auto\". This will change the predict method behavior.\n",
      "  FutureWarning)\n"
     ]
    },
    {
     "name": "stdout",
     "output_type": "stream",
     "text": [
      "max_samples = 19100\n"
     ]
    },
    {
     "name": "stderr",
     "output_type": "stream",
     "text": [
      "/Users/thesard/anaconda3/lib/python3.7/site-packages/sklearn/ensemble/iforest.py:213: FutureWarning: default contamination parameter 0.1 will change in version 0.22 to \"auto\". This will change the predict method behavior.\n",
      "  FutureWarning)\n"
     ]
    },
    {
     "name": "stdout",
     "output_type": "stream",
     "text": [
      "max_samples = 20100\n"
     ]
    },
    {
     "name": "stderr",
     "output_type": "stream",
     "text": [
      "/Users/thesard/anaconda3/lib/python3.7/site-packages/sklearn/ensemble/iforest.py:213: FutureWarning: default contamination parameter 0.1 will change in version 0.22 to \"auto\". This will change the predict method behavior.\n",
      "  FutureWarning)\n"
     ]
    },
    {
     "name": "stdout",
     "output_type": "stream",
     "text": [
      "max_samples = 21100\n"
     ]
    },
    {
     "name": "stderr",
     "output_type": "stream",
     "text": [
      "/Users/thesard/anaconda3/lib/python3.7/site-packages/sklearn/ensemble/iforest.py:213: FutureWarning: default contamination parameter 0.1 will change in version 0.22 to \"auto\". This will change the predict method behavior.\n",
      "  FutureWarning)\n"
     ]
    },
    {
     "name": "stdout",
     "output_type": "stream",
     "text": [
      "max_samples = 22100\n"
     ]
    },
    {
     "name": "stderr",
     "output_type": "stream",
     "text": [
      "/Users/thesard/anaconda3/lib/python3.7/site-packages/sklearn/ensemble/iforest.py:213: FutureWarning: default contamination parameter 0.1 will change in version 0.22 to \"auto\". This will change the predict method behavior.\n",
      "  FutureWarning)\n"
     ]
    },
    {
     "name": "stdout",
     "output_type": "stream",
     "text": [
      "max_samples = 23100\n"
     ]
    },
    {
     "name": "stderr",
     "output_type": "stream",
     "text": [
      "/Users/thesard/anaconda3/lib/python3.7/site-packages/sklearn/ensemble/iforest.py:213: FutureWarning: default contamination parameter 0.1 will change in version 0.22 to \"auto\". This will change the predict method behavior.\n",
      "  FutureWarning)\n"
     ]
    },
    {
     "name": "stdout",
     "output_type": "stream",
     "text": [
      "max_samples = 24100\n"
     ]
    },
    {
     "name": "stderr",
     "output_type": "stream",
     "text": [
      "/Users/thesard/anaconda3/lib/python3.7/site-packages/sklearn/ensemble/iforest.py:213: FutureWarning: default contamination parameter 0.1 will change in version 0.22 to \"auto\". This will change the predict method behavior.\n",
      "  FutureWarning)\n"
     ]
    },
    {
     "name": "stdout",
     "output_type": "stream",
     "text": [
      "max_samples = 25100\n"
     ]
    },
    {
     "name": "stderr",
     "output_type": "stream",
     "text": [
      "/Users/thesard/anaconda3/lib/python3.7/site-packages/sklearn/ensemble/iforest.py:213: FutureWarning: default contamination parameter 0.1 will change in version 0.22 to \"auto\". This will change the predict method behavior.\n",
      "  FutureWarning)\n"
     ]
    },
    {
     "name": "stdout",
     "output_type": "stream",
     "text": [
      "max_samples = 26100\n"
     ]
    },
    {
     "name": "stderr",
     "output_type": "stream",
     "text": [
      "/Users/thesard/anaconda3/lib/python3.7/site-packages/sklearn/ensemble/iforest.py:213: FutureWarning: default contamination parameter 0.1 will change in version 0.22 to \"auto\". This will change the predict method behavior.\n",
      "  FutureWarning)\n"
     ]
    },
    {
     "name": "stdout",
     "output_type": "stream",
     "text": [
      "max_samples = 27100\n"
     ]
    },
    {
     "name": "stderr",
     "output_type": "stream",
     "text": [
      "/Users/thesard/anaconda3/lib/python3.7/site-packages/sklearn/ensemble/iforest.py:213: FutureWarning: default contamination parameter 0.1 will change in version 0.22 to \"auto\". This will change the predict method behavior.\n",
      "  FutureWarning)\n"
     ]
    },
    {
     "name": "stdout",
     "output_type": "stream",
     "text": [
      "max_samples = 28100\n"
     ]
    },
    {
     "name": "stderr",
     "output_type": "stream",
     "text": [
      "/Users/thesard/anaconda3/lib/python3.7/site-packages/sklearn/ensemble/iforest.py:213: FutureWarning: default contamination parameter 0.1 will change in version 0.22 to \"auto\". This will change the predict method behavior.\n",
      "  FutureWarning)\n"
     ]
    },
    {
     "name": "stdout",
     "output_type": "stream",
     "text": [
      "max_samples = 29100\n"
     ]
    },
    {
     "name": "stderr",
     "output_type": "stream",
     "text": [
      "/Users/thesard/anaconda3/lib/python3.7/site-packages/sklearn/ensemble/iforest.py:213: FutureWarning: default contamination parameter 0.1 will change in version 0.22 to \"auto\". This will change the predict method behavior.\n",
      "  FutureWarning)\n"
     ]
    },
    {
     "name": "stdout",
     "output_type": "stream",
     "text": [
      "max_samples = 30100\n"
     ]
    },
    {
     "name": "stderr",
     "output_type": "stream",
     "text": [
      "/Users/thesard/anaconda3/lib/python3.7/site-packages/sklearn/ensemble/iforest.py:213: FutureWarning: default contamination parameter 0.1 will change in version 0.22 to \"auto\". This will change the predict method behavior.\n",
      "  FutureWarning)\n"
     ]
    },
    {
     "name": "stdout",
     "output_type": "stream",
     "text": [
      "max_samples = 31100\n"
     ]
    },
    {
     "name": "stderr",
     "output_type": "stream",
     "text": [
      "/Users/thesard/anaconda3/lib/python3.7/site-packages/sklearn/ensemble/iforest.py:213: FutureWarning: default contamination parameter 0.1 will change in version 0.22 to \"auto\". This will change the predict method behavior.\n",
      "  FutureWarning)\n"
     ]
    },
    {
     "name": "stdout",
     "output_type": "stream",
     "text": [
      "max_samples = 32100\n"
     ]
    },
    {
     "name": "stderr",
     "output_type": "stream",
     "text": [
      "/Users/thesard/anaconda3/lib/python3.7/site-packages/sklearn/ensemble/iforest.py:213: FutureWarning: default contamination parameter 0.1 will change in version 0.22 to \"auto\". This will change the predict method behavior.\n",
      "  FutureWarning)\n"
     ]
    },
    {
     "name": "stdout",
     "output_type": "stream",
     "text": [
      "max_samples = 33100\n"
     ]
    },
    {
     "name": "stderr",
     "output_type": "stream",
     "text": [
      "/Users/thesard/anaconda3/lib/python3.7/site-packages/sklearn/ensemble/iforest.py:213: FutureWarning: default contamination parameter 0.1 will change in version 0.22 to \"auto\". This will change the predict method behavior.\n",
      "  FutureWarning)\n"
     ]
    },
    {
     "name": "stdout",
     "output_type": "stream",
     "text": [
      "max_samples = 34100\n"
     ]
    },
    {
     "name": "stderr",
     "output_type": "stream",
     "text": [
      "/Users/thesard/anaconda3/lib/python3.7/site-packages/sklearn/ensemble/iforest.py:213: FutureWarning: default contamination parameter 0.1 will change in version 0.22 to \"auto\". This will change the predict method behavior.\n",
      "  FutureWarning)\n"
     ]
    },
    {
     "name": "stdout",
     "output_type": "stream",
     "text": [
      "max_samples = 35100\n"
     ]
    },
    {
     "name": "stderr",
     "output_type": "stream",
     "text": [
      "/Users/thesard/anaconda3/lib/python3.7/site-packages/sklearn/ensemble/iforest.py:213: FutureWarning: default contamination parameter 0.1 will change in version 0.22 to \"auto\". This will change the predict method behavior.\n",
      "  FutureWarning)\n"
     ]
    },
    {
     "name": "stdout",
     "output_type": "stream",
     "text": [
      "max_samples = 36100\n"
     ]
    },
    {
     "name": "stderr",
     "output_type": "stream",
     "text": [
      "/Users/thesard/anaconda3/lib/python3.7/site-packages/sklearn/ensemble/iforest.py:213: FutureWarning: default contamination parameter 0.1 will change in version 0.22 to \"auto\". This will change the predict method behavior.\n",
      "  FutureWarning)\n"
     ]
    },
    {
     "name": "stdout",
     "output_type": "stream",
     "text": [
      "max_samples = 37100\n"
     ]
    },
    {
     "name": "stderr",
     "output_type": "stream",
     "text": [
      "/Users/thesard/anaconda3/lib/python3.7/site-packages/sklearn/ensemble/iforest.py:213: FutureWarning: default contamination parameter 0.1 will change in version 0.22 to \"auto\". This will change the predict method behavior.\n",
      "  FutureWarning)\n"
     ]
    },
    {
     "name": "stdout",
     "output_type": "stream",
     "text": [
      "max_samples = 38100\n"
     ]
    },
    {
     "name": "stderr",
     "output_type": "stream",
     "text": [
      "/Users/thesard/anaconda3/lib/python3.7/site-packages/sklearn/ensemble/iforest.py:213: FutureWarning: default contamination parameter 0.1 will change in version 0.22 to \"auto\". This will change the predict method behavior.\n",
      "  FutureWarning)\n"
     ]
    },
    {
     "name": "stdout",
     "output_type": "stream",
     "text": [
      "max_samples = 39100\n"
     ]
    },
    {
     "name": "stderr",
     "output_type": "stream",
     "text": [
      "/Users/thesard/anaconda3/lib/python3.7/site-packages/sklearn/ensemble/iforest.py:213: FutureWarning: default contamination parameter 0.1 will change in version 0.22 to \"auto\". This will change the predict method behavior.\n",
      "  FutureWarning)\n"
     ]
    },
    {
     "name": "stdout",
     "output_type": "stream",
     "text": [
      "max_samples = 40100\n"
     ]
    },
    {
     "name": "stderr",
     "output_type": "stream",
     "text": [
      "/Users/thesard/anaconda3/lib/python3.7/site-packages/sklearn/ensemble/iforest.py:213: FutureWarning: default contamination parameter 0.1 will change in version 0.22 to \"auto\". This will change the predict method behavior.\n",
      "  FutureWarning)\n"
     ]
    },
    {
     "name": "stdout",
     "output_type": "stream",
     "text": [
      "max_samples = 41100\n"
     ]
    },
    {
     "name": "stderr",
     "output_type": "stream",
     "text": [
      "/Users/thesard/anaconda3/lib/python3.7/site-packages/sklearn/ensemble/iforest.py:213: FutureWarning: default contamination parameter 0.1 will change in version 0.22 to \"auto\". This will change the predict method behavior.\n",
      "  FutureWarning)\n"
     ]
    },
    {
     "name": "stdout",
     "output_type": "stream",
     "text": [
      "max_samples = 42100\n"
     ]
    },
    {
     "name": "stderr",
     "output_type": "stream",
     "text": [
      "/Users/thesard/anaconda3/lib/python3.7/site-packages/sklearn/ensemble/iforest.py:213: FutureWarning: default contamination parameter 0.1 will change in version 0.22 to \"auto\". This will change the predict method behavior.\n",
      "  FutureWarning)\n"
     ]
    },
    {
     "name": "stdout",
     "output_type": "stream",
     "text": [
      "max_samples = 43100\n"
     ]
    },
    {
     "name": "stderr",
     "output_type": "stream",
     "text": [
      "/Users/thesard/anaconda3/lib/python3.7/site-packages/sklearn/ensemble/iforest.py:213: FutureWarning: default contamination parameter 0.1 will change in version 0.22 to \"auto\". This will change the predict method behavior.\n",
      "  FutureWarning)\n"
     ]
    },
    {
     "name": "stdout",
     "output_type": "stream",
     "text": [
      "max_samples = 44100\n"
     ]
    },
    {
     "name": "stderr",
     "output_type": "stream",
     "text": [
      "/Users/thesard/anaconda3/lib/python3.7/site-packages/sklearn/ensemble/iforest.py:213: FutureWarning: default contamination parameter 0.1 will change in version 0.22 to \"auto\". This will change the predict method behavior.\n",
      "  FutureWarning)\n"
     ]
    },
    {
     "name": "stdout",
     "output_type": "stream",
     "text": [
      "max_samples = 45100\n"
     ]
    },
    {
     "name": "stderr",
     "output_type": "stream",
     "text": [
      "/Users/thesard/anaconda3/lib/python3.7/site-packages/sklearn/ensemble/iforest.py:213: FutureWarning: default contamination parameter 0.1 will change in version 0.22 to \"auto\". This will change the predict method behavior.\n",
      "  FutureWarning)\n"
     ]
    },
    {
     "name": "stdout",
     "output_type": "stream",
     "text": [
      "max_samples = 46100\n"
     ]
    },
    {
     "name": "stderr",
     "output_type": "stream",
     "text": [
      "/Users/thesard/anaconda3/lib/python3.7/site-packages/sklearn/ensemble/iforest.py:213: FutureWarning: default contamination parameter 0.1 will change in version 0.22 to \"auto\". This will change the predict method behavior.\n",
      "  FutureWarning)\n"
     ]
    }
   ],
   "source": [
    "MS_executions_time_IF_Shuttle = []\n",
    "MS_roc_auc_IF_Shuttle = []\n",
    "MS_precisions_IF_Shuttle = []\n",
    "MS_recalls_IF_Shuttle = []\n",
    "MS_f1_scores_IF_Shuttle = []\n",
    "MS_tn_IF_Shuttle = []\n",
    "MS_fp_IF_Shuttle = []\n",
    "MS_fn_IF_Shuttle = []\n",
    "MS_tp_IF_Shuttle = []\n",
    "MS_specificity_IF_Shuttle = []\n",
    "MS_max_samples_IF_Shuttle = []\n",
    "\n",
    "for j in range(100, len(X_Shuttle), 1000):\n",
    "    print(\"max_samples = \"+str(j))\n",
    "    max_samples = j\n",
    "    MS_max_samples_IF_Shuttle.append(j)\n",
    "    start_IF_Shuttle = time()\n",
    "        \n",
    "    # Instanciation, fit and predict on Shuttle\n",
    "    MS_func_IF_Shuttle = IsolationForest(max_samples=max_samples, behaviour=\"new\")\n",
    "    MS_func_IF_Shuttle.fit(X_Shuttle)\n",
    "    MS_y_pred_IF_Shuttle = MS_func_IF_Shuttle.predict(X_Shuttle)\n",
    "\n",
    "    # Calcul du temps d'exécution\n",
    "    MS_exec_time_IF_Shuttle = time() - start_IF_Shuttle\n",
    "    MS_executions_time_IF_Shuttle.append(MS_exec_time_IF_Shuttle)\n",
    "    \n",
    "    # Precision\n",
    "    MS_precisions_IF_Shuttle.append(precision_score(y_transform_Shuttle, MS_y_pred_IF_Shuttle))\n",
    "    \n",
    "    # Recall\n",
    "    MS_recalls_IF_Shuttle.append(recall_score(y_transform_Shuttle, MS_y_pred_IF_Shuttle))\n",
    "    \n",
    "    # f1_score\n",
    "    MS_f1_scores_IF_Shuttle.append(f1_score(y_transform_Shuttle, MS_y_pred_IF_Shuttle))\n",
    "    \n",
    "    # Specificity\n",
    "    MS_specificity_IF_Shuttle.append(specificity_score(y_transform_Shuttle, MS_y_pred_IF_Shuttle))\n",
    "    \n",
    "    # Matrice de confusion\n",
    "    ttn, tfp, tfn, ttp = confusion_matrix(y_transform_Shuttle, MS_y_pred_IF_Shuttle).ravel()\n",
    "    tn = ttp\n",
    "    fp = tfn\n",
    "    fn = tfp\n",
    "    tp = ttn\n",
    "    MS_tn_IF_Shuttle.append(tn)\n",
    "    MS_fp_IF_Shuttle.append(fp)\n",
    "    MS_fn_IF_Shuttle.append(fn)\n",
    "    MS_tp_IF_Shuttle.append(tp)\n",
    "    \n",
    "    # Calcul de l'aire sous la courbe ROC\n",
    "    MS_y_DF_IF_Shuttle = MS_func_IF_Shuttle.decision_function(X_Shuttle)\n",
    "    MS_auc_IF_Shuttle = roc_auc_score(y_transform_Shuttle, MS_y_DF_IF_Shuttle)\n",
    "    MS_roc_auc_IF_Shuttle.append(MS_auc_IF_Shuttle)\n",
    "    "
   ]
  },
  {
   "cell_type": "code",
   "execution_count": 20,
   "metadata": {},
   "outputs": [
    {
     "name": "stderr",
     "output_type": "stream",
     "text": [
      "No handles with labels found to put in legend.\n"
     ]
    },
    {
     "data": {
      "image/png": "[encoded data removed]",
      "text/plain": [
       "<Figure size 432x288 with 1 Axes>"
      ]
     },
     "metadata": {
      "needs_background": "light"
     },
     "output_type": "display_data"
    }
   ],
   "source": [
    "plt.plot(MS_max_samples_IF_Shuttle, MS_executions_time_IF_Shuttle,  \"g-\", marker='.', markerfacecolor='blue', markersize=6, color='skyblue')\n",
    "plt.xlabel('max_samples')\n",
    "plt.ylabel('CPU Time')\n",
    "#plt.title(\"Execution time of IsolationForest applied on Shuttle (in second)\")\n",
    "plt.legend(loc=\"best\")\n",
    "plt.savefig('maxsamples_cputime.png')\n",
    "plt.show()"
   ]
  },
  {
   "cell_type": "code",
   "execution_count": 21,
   "metadata": {},
   "outputs": [
    {
     "name": "stderr",
     "output_type": "stream",
     "text": [
      "No handles with labels found to put in legend.\n"
     ]
    },
    {
     "data": {
      "image/png": "[encoded data removed]",
      "text/plain": [
       "<Figure size 432x288 with 1 Axes>"
      ]
     },
     "metadata": {
      "needs_background": "light"
     },
     "output_type": "display_data"
    }
   ],
   "source": [
    "plt.plot(MS_max_samples_IF_Shuttle, MS_roc_auc_IF_Shuttle,  \"g-\", marker='.', markerfacecolor='blue', markersize=6, color='skyblue')\n",
    "plt.xlabel('max_samples')\n",
    "plt.ylabel('ROC AUC')\n",
    "plt.title(\"ROC AUC for Isolation Forest applied on Shuttle\")\n",
    "plt.legend(loc=\"best\")\n",
    "plt.savefig('maxsamples_rocauc.png')\n",
    "plt.show()"
   ]
  },
  {
   "cell_type": "code",
   "execution_count": 22,
   "metadata": {},
   "outputs": [
    {
     "name": "stdout",
     "output_type": "stream",
     "text": [
      "La meilleure est 0.9993617160765599 pour un temps d'exécution de 4.013896226882935s obtenue avec un max_samples de 1100 donnant un rappel de 0.917321107357522 et une spécificité de 1.0\n"
     ]
    }
   ],
   "source": [
    "MS_index = MS_roc_auc_IF_Shuttle.index(max(MS_roc_auc_IF_Shuttle))\n",
    "print(\"La meilleure est \"+str(max(MS_roc_auc_IF_Shuttle))+\" pour un temps d'exécution de \"+str(MS_executions_time_IF_Shuttle[MS_index])+\"s obtenue avec un max_samples de \"+str(MS_max_samples_IF_Shuttle[MS_index])+\" donnant un rappel de \"+str(MS_recalls_IF_Shuttle[MS_index])+\" et une spécificité de \"+str(MS_specificity_IF_Shuttle[MS_index]))\n"
   ]
  },
  {
   "cell_type": "code",
   "execution_count": 23,
   "metadata": {
    "scrolled": true
   },
   "outputs": [
    {
     "name": "stderr",
     "output_type": "stream",
     "text": [
      "No handles with labels found to put in legend.\n"
     ]
    },
    {
     "data": {
      "image/png": "[encoded data removed]",
      "text/plain": [
       "<Figure size 432x288 with 1 Axes>"
      ]
     },
     "metadata": {
      "needs_background": "light"
     },
     "output_type": "display_data"
    }
   ],
   "source": [
    "# Evolution de spécificité et rappel\n",
    "plt.plot(MS_max_samples_IF_Shuttle, MS_recalls_IF_Shuttle, \"g-\", marker='.', markerfacecolor='green', markersize=6, color='green')\n",
    "#plt.title(\"Courbe Spécificité_Rappel\")\n",
    "#plt.axis([0, 1, 0, 1])\n",
    "plt.xlabel('max_samples')\n",
    "plt.ylabel('Recall')\n",
    "plt.legend(loc=\"best\")\n",
    "plt.savefig('maxsamples_recall.png')\n",
    "plt.show()"
   ]
  },
  {
   "cell_type": "code",
   "execution_count": 24,
   "metadata": {
    "scrolled": true
   },
   "outputs": [
    {
     "name": "stderr",
     "output_type": "stream",
     "text": [
      "No handles with labels found to put in legend.\n"
     ]
    },
    {
     "data": {
      "image/png": "[encoded data removed]",
      "text/plain": [
       "<Figure size 432x288 with 1 Axes>"
      ]
     },
     "metadata": {
      "needs_background": "light"
     },
     "output_type": "display_data"
    }
   ],
   "source": [
    "# Evolution de spécificité et rappel\n",
    "plt.plot(MS_max_samples_IF_Shuttle, MS_specificity_IF_Shuttle, \"b--\", marker='.', markerfacecolor='blue', markersize=6, color='skyblue')\n",
    "#plt.title(\"Courbe Spécificité_Rappel\")\n",
    "#plt.axis([0, 1, 0, 1])\n",
    "plt.xlabel('max_samples')\n",
    "plt.ylabel('Specificity')\n",
    "plt.legend(loc=\"best\")\n",
    "plt.savefig('maxsamples_specificity.png')\n",
    "plt.show()"
   ]
  },
  {
   "cell_type": "markdown",
   "metadata": {},
   "source": [
    "### Résultat\n",
    "###### Faisant varier max_samples, n_estimators = 100, contamination = 0,1\n",
    "Plus le nombre d'éléments dans l'échantillon augmente, plus le temps d'exécution est long.\n",
    "Par contre, quelque soit max_samples, la AUC ne varie pas beaucoup : entre 0,994 et 0,999.\n",
    "\n",
    "Meilleure estimation :\n",
    "    La meilleure est 0.9988092295850334 pour un temps d'exécution de 4.553619146347046s obtenue avec un max_samples de 2100 donnant un rappel de 0.917255297679112 et une spécificité de 0.9965831435079726\n",
    "\n",
    "Max_samples n'a donc pas une grande incidence sur les performances de classification de IForest pour un jeu de données de taille et de dimension faibles. Mais il a une conséquences sur le temps d'exécution."
   ]
  },
  {
   "cell_type": "markdown",
   "metadata": {},
   "source": [
    "### Exécution de Isolation Forest sur le jeux de données Shuttle en faisant varier contamination (contamination : float in (0., 0.5), optional (default=0.1))"
   ]
  },
  {
   "cell_type": "code",
   "execution_count": 25,
   "metadata": {},
   "outputs": [
    {
     "name": "stdout",
     "output_type": "stream",
     "text": [
      "contamination = 0.0\n",
      "contamination = 0.01\n",
      "contamination = 0.02\n",
      "contamination = 0.03\n",
      "contamination = 0.04\n",
      "contamination = 0.05\n",
      "contamination = 0.06\n",
      "contamination = 0.07\n",
      "contamination = 0.08\n",
      "contamination = 0.09\n",
      "contamination = 0.1\n",
      "contamination = 0.11\n",
      "contamination = 0.12\n",
      "contamination = 0.13\n",
      "contamination = 0.14\n",
      "contamination = 0.15\n",
      "contamination = 0.16\n",
      "contamination = 0.17\n",
      "contamination = 0.18\n",
      "contamination = 0.19\n",
      "contamination = 0.2\n",
      "contamination = 0.21\n",
      "contamination = 0.22\n",
      "contamination = 0.23\n",
      "contamination = 0.24\n",
      "contamination = 0.25\n",
      "contamination = 0.26\n",
      "contamination = 0.27\n",
      "contamination = 0.28\n",
      "contamination = 0.29\n",
      "contamination = 0.3\n",
      "contamination = 0.31\n",
      "contamination = 0.32\n",
      "contamination = 0.33\n",
      "contamination = 0.34\n",
      "contamination = 0.35000000000000003\n",
      "contamination = 0.36\n",
      "contamination = 0.37\n",
      "contamination = 0.38\n",
      "contamination = 0.39\n",
      "contamination = 0.4\n",
      "contamination = 0.41000000000000003\n",
      "contamination = 0.42\n",
      "contamination = 0.43\n",
      "contamination = 0.44\n",
      "contamination = 0.45\n",
      "contamination = 0.46\n",
      "contamination = 0.47000000000000003\n",
      "contamination = 0.48\n",
      "contamination = 0.49\n"
     ]
    }
   ],
   "source": [
    "CONT_executions_time_IF_Shuttle = []\n",
    "CONT_roc_auc_IF_Shuttle = []\n",
    "CONT_precisions_IF_Shuttle = []\n",
    "CONT_recalls_IF_Shuttle = []\n",
    "CONT_f1_scores_IF_Shuttle = []\n",
    "CONT_tn_IF_Shuttle = []\n",
    "CONT_fp_IF_Shuttle = []\n",
    "CONT_fn_IF_Shuttle = []\n",
    "CONT_tp_IF_Shuttle = []\n",
    "CONT_specificity_IF_Shuttle = []\n",
    "CONT_contamination_IF_Shuttle = []\n",
    "\n",
    "for j in np.arange(0., 0.5, 0.01):\n",
    "    print(\"contamination = \"+str(j))\n",
    "    contamination = j\n",
    "    CONT_contamination_IF_Shuttle.append(j)\n",
    "    start_IF_Shuttle = time()\n",
    "        \n",
    "    # Instanciation, fit and predict on Shuttle\n",
    "    CONT_func_IF_Shuttle = IsolationForest(contamination=contamination, behaviour=\"new\")\n",
    "    CONT_func_IF_Shuttle.fit(X_Shuttle)\n",
    "    CONT_y_pred_IF_Shuttle = CONT_func_IF_Shuttle.predict(X_Shuttle)\n",
    "\n",
    "    # Calcul du temps d'exécution\n",
    "    CONT_exec_time_IF_Shuttle = time() - start_IF_Shuttle\n",
    "    CONT_executions_time_IF_Shuttle.append(CONT_exec_time_IF_Shuttle)\n",
    "    \n",
    "    # Precision\n",
    "    CONT_precisions_IF_Shuttle.append(precision_score(y_transform_Shuttle, CONT_y_pred_IF_Shuttle))\n",
    "    \n",
    "    # Recall\n",
    "    CONT_recalls_IF_Shuttle.append(recall_score(y_transform_Shuttle, CONT_y_pred_IF_Shuttle))\n",
    "    \n",
    "    # f1_score\n",
    "    CONT_f1_scores_IF_Shuttle.append(f1_score(y_transform_Shuttle, CONT_y_pred_IF_Shuttle))\n",
    "    \n",
    "    # Specificity\n",
    "    CONT_specificity_IF_Shuttle.append(specificity_score(y_transform_Shuttle, CONT_y_pred_IF_Shuttle))\n",
    "    \n",
    "    # Matrice de confusion\n",
    "    ttn, tfp, tfn, ttp = confusion_matrix(y_transform_Shuttle, CONT_y_pred_IF_Shuttle).ravel()\n",
    "    tn = ttp\n",
    "    fp = tfn\n",
    "    fn = tfp\n",
    "    tp = ttn\n",
    "    CONT_tn_IF_Shuttle.append(tn)\n",
    "    CONT_fp_IF_Shuttle.append(fp)\n",
    "    CONT_fn_IF_Shuttle.append(fn)\n",
    "    CONT_tp_IF_Shuttle.append(tp)\n",
    "    \n",
    "    # Calcul de l'aire sous la courbe ROC\n",
    "    CONT_y_DF_IF_Shuttle = CONT_func_IF_Shuttle.decision_function(X_Shuttle)\n",
    "    CONT_auc_IF_Shuttle = roc_auc_score(y_transform_Shuttle, CONT_y_DF_IF_Shuttle)\n",
    "    CONT_roc_auc_IF_Shuttle.append(CONT_auc_IF_Shuttle)"
   ]
  },
  {
   "cell_type": "code",
   "execution_count": 26,
   "metadata": {},
   "outputs": [
    {
     "name": "stderr",
     "output_type": "stream",
     "text": [
      "No handles with labels found to put in legend.\n"
     ]
    },
    {
     "data": {
      "image/png": "[encoded data removed]",
      "text/plain": [
       "<Figure size 432x288 with 1 Axes>"
      ]
     },
     "metadata": {
      "needs_background": "light"
     },
     "output_type": "display_data"
    }
   ],
   "source": [
    "plt.plot(CONT_contamination_IF_Shuttle, CONT_executions_time_IF_Shuttle,  \"g-\", marker='.', markerfacecolor='blue', markersize=6, color='skyblue')\n",
    "plt.xlabel('contamination')\n",
    "plt.ylabel('CPU Time')\n",
    "#plt.title(\"Execution time of IsolationForest applied on Shuttle (in second)\")\n",
    "plt.legend(loc=\"best\")\n",
    "plt.savefig('contamination_cputime.png')\n",
    "plt.show()"
   ]
  },
  {
   "cell_type": "code",
   "execution_count": 27,
   "metadata": {},
   "outputs": [
    {
     "name": "stderr",
     "output_type": "stream",
     "text": [
      "No handles with labels found to put in legend.\n"
     ]
    },
    {
     "data": {
      "image/png": "[encoded data removed]",
      "text/plain": [
       "<Figure size 432x288 with 1 Axes>"
      ]
     },
     "metadata": {
      "needs_background": "light"
     },
     "output_type": "display_data"
    }
   ],
   "source": [
    "plt.plot(CONT_contamination_IF_Shuttle, CONT_roc_auc_IF_Shuttle,  \"g-\", marker='.', markerfacecolor='blue', markersize=6, color='skyblue')\n",
    "plt.xlabel('contamination')\n",
    "plt.ylabel('ROC AUC')\n",
    "#plt.title(\"ROC AUC for Isolation Forest applied on Shuttle\")\n",
    "plt.legend(loc=\"best\")\n",
    "plt.savefig('contamination_rocauc.png')\n",
    "plt.show()"
   ]
  },
  {
   "cell_type": "code",
   "execution_count": 28,
   "metadata": {},
   "outputs": [
    {
     "name": "stdout",
     "output_type": "stream",
     "text": [
      "La meilleure est 0.9987630828591322 pour un temps d'exécution de 3.448882818222046s obtenue avec une contamination de 0.01 donnant un rappel de 1.0 et une spécificité de 0.5296127562642369\n"
     ]
    }
   ],
   "source": [
    "CONT_index = CONT_roc_auc_IF_Shuttle.index(max(CONT_roc_auc_IF_Shuttle))\n",
    "print(\"La meilleure est \"+str(max(CONT_roc_auc_IF_Shuttle))+\" pour un temps d'exécution de \"+str(CONT_executions_time_IF_Shuttle[CONT_index])+\"s obtenue avec une contamination de \"+str(CONT_contamination_IF_Shuttle[CONT_index])+\" donnant un rappel de \"+str(CONT_recalls_IF_Shuttle[CONT_index])+\" et une spécificité de \"+str(CONT_specificity_IF_Shuttle[CONT_index]))\n"
   ]
  },
  {
   "cell_type": "code",
   "execution_count": 29,
   "metadata": {
    "scrolled": true
   },
   "outputs": [
    {
     "name": "stderr",
     "output_type": "stream",
     "text": [
      "No handles with labels found to put in legend.\n"
     ]
    },
    {
     "data": {
      "image/png": "[encoded data removed]",
      "text/plain": [
       "<Figure size 432x288 with 1 Axes>"
      ]
     },
     "metadata": {
      "needs_background": "light"
     },
     "output_type": "display_data"
    }
   ],
   "source": [
    "# Evolution de spécificité et rappel\n",
    "plt.plot(CONT_contamination_IF_Shuttle, CONT_recalls_IF_Shuttle, \"g-\", marker='.', markerfacecolor='green', markersize=6, color='green')\n",
    "#plt.title(\"Courbe Spécificité_Rappel\")\n",
    "#plt.axis([0, 1, 0, 1])\n",
    "plt.xlabel('contamination')\n",
    "plt.ylabel('Recall')\n",
    "plt.legend(loc=\"best\")\n",
    "plt.savefig('contamination_recall.png')\n",
    "plt.show()"
   ]
  },
  {
   "cell_type": "code",
   "execution_count": 30,
   "metadata": {
    "scrolled": true
   },
   "outputs": [
    {
     "name": "stderr",
     "output_type": "stream",
     "text": [
      "No handles with labels found to put in legend.\n"
     ]
    },
    {
     "data": {
      "image/png": "[encoded data removed]",
      "text/plain": [
       "<Figure size 432x288 with 1 Axes>"
      ]
     },
     "metadata": {
      "needs_background": "light"
     },
     "output_type": "display_data"
    }
   ],
   "source": [
    "# Evolution de spécificité et rappel\n",
    "plt.plot(CONT_contamination_IF_Shuttle, CONT_specificity_IF_Shuttle, \"b-\", marker='.', markerfacecolor='blue', markersize=6, color='skyblue')\n",
    "#plt.title(\"Courbe Spécificité_Rappel\")\n",
    "#plt.axis([0, 1, 0, 1])\n",
    "plt.xlabel('contamination')\n",
    "plt.ylabel('Specificity')\n",
    "plt.legend(loc=\"best\")\n",
    "plt.savefig('contamination_specificity.png')\n",
    "plt.show()"
   ]
  },
  {
   "cell_type": "code",
   "execution_count": 31,
   "metadata": {
    "scrolled": true
   },
   "outputs": [
    {
     "data": {
      "image/png": "[encoded data removed]",
      "text/plain": [
       "<Figure size 432x288 with 1 Axes>"
      ]
     },
     "metadata": {
      "needs_background": "light"
     },
     "output_type": "display_data"
    }
   ],
   "source": [
    "# Evolution de spécificité et rappel\n",
    "plt.plot(CONT_contamination_IF_Shuttle, CONT_recalls_IF_Shuttle, \"g-\", label=\"Recall\")\n",
    "plt.plot(CONT_contamination_IF_Shuttle, CONT_specificity_IF_Shuttle, \"b--\", label=\"Specificity\")\n",
    "#plt.title(\"Courbe Spécificité_Rappel\")\n",
    "#plt.axis([0, 1, 0, 1])\n",
    "plt.xlabel('contamination')\n",
    "plt.ylabel('Metrics Value')\n",
    "plt.legend(loc=\"best\")\n",
    "plt.savefig('contamination_specificity_recall_curve.png')\n",
    "plt.show()"
   ]
  },
  {
   "cell_type": "code",
   "execution_count": 32,
   "metadata": {},
   "outputs": [
    {
     "name": "stderr",
     "output_type": "stream",
     "text": [
      "No handles with labels found to put in legend.\n"
     ]
    },
    {
     "data": {
      "image/png": "[encoded data removed]",
      "text/plain": [
       "<Figure size 432x288 with 1 Axes>"
      ]
     },
     "metadata": {
      "needs_background": "light"
     },
     "output_type": "display_data"
    }
   ],
   "source": [
    "# Evolution de spécificité et rappel\n",
    "plt.plot(CONT_specificity_IF_Shuttle, CONT_recalls_IF_Shuttle, \"g-\")\n",
    "plt.title(\"Compromis Spécificité_Rappel\")\n",
    "#plt.axis([0, 1, 0, 1])\n",
    "plt.xlabel('Spécificité')\n",
    "plt.ylabel('Rappel')\n",
    "plt.legend(loc=\"best\")\n",
    "    \n",
    "plt.show()"
   ]
  },
  {
   "cell_type": "markdown",
   "metadata": {},
   "source": [
    "### Exécution de Isolation Forest sur le jeux de données Shuttle en faisant varier la combinaison entre n_estimators et max_samples"
   ]
  },
  {
   "cell_type": "code",
   "execution_count": 33,
   "metadata": {},
   "outputs": [
    {
     "name": "stdout",
     "output_type": "stream",
     "text": [
      "n_estimators = 10\n",
      "max_samples = 100\n",
      "[[  863    15]\n",
      " [ 4602 40984]]\n",
      "max_samples = 1100\n",
      "[[  869     9]\n",
      " [ 1122 44464]]\n",
      "max_samples = 2100\n",
      "[[  859    19]\n",
      " [  580 45006]]\n",
      "max_samples = 3100\n",
      "[[  864    14]\n",
      " [  576 45010]]\n",
      "max_samples = 4100\n",
      "[[  851    27]\n",
      " [  518 45068]]\n",
      "max_samples = 5100\n",
      "[[  862    16]\n",
      " [  492 45094]]\n",
      "max_samples = 6100\n",
      "[[  752   126]\n",
      " [  243 45343]]\n",
      "max_samples = 7100\n",
      "[[  859    19]\n",
      " [  514 45072]]\n",
      "max_samples = 8100\n",
      "[[  603   275]\n",
      " [   39 45547]]\n",
      "max_samples = 9100\n",
      "[[  861    17]\n",
      " [  444 45142]]\n",
      "n_estimators = 20\n",
      "max_samples = 100\n",
      "[[  865    13]\n",
      " [ 6100 39486]]\n",
      "max_samples = 1100\n",
      "[[  863    15]\n",
      " [  742 44844]]\n",
      "max_samples = 2100\n",
      "[[  871     7]\n",
      " [  717 44869]]\n",
      "max_samples = 3100\n",
      "[[  858    20]\n",
      " [  328 45258]]\n",
      "max_samples = 4100\n",
      "[[  862    16]\n",
      " [  330 45256]]\n",
      "max_samples = 5100\n",
      "[[  860    18]\n",
      " [  345 45241]]\n",
      "max_samples = 6100\n",
      "[[  858    20]\n",
      " [  283 45303]]\n",
      "max_samples = 7100\n",
      "[[  859    19]\n",
      " [  208 45378]]\n",
      "max_samples = 8100\n",
      "[[  828    50]\n",
      " [  149 45437]]\n",
      "max_samples = 9100\n",
      "[[  775   103]\n",
      " [  178 45408]]\n",
      "n_estimators = 30\n",
      "max_samples = 100\n",
      "[[  861    17]\n",
      " [ 3670 41916]]\n",
      "max_samples = 1100\n",
      "[[  865    13]\n",
      " [ 1165 44421]]\n",
      "max_samples = 2100\n",
      "[[  865    13]\n",
      " [  945 44641]]\n",
      "max_samples = 3100\n",
      "[[  862    16]\n",
      " [  267 45319]]\n",
      "max_samples = 4100\n",
      "[[  861    17]\n",
      " [  351 45235]]\n",
      "max_samples = 5100\n",
      "[[  861    17]\n",
      " [  365 45221]]\n",
      "max_samples = 6100\n",
      "[[  862    16]\n",
      " [  176 45410]]\n",
      "max_samples = 7100\n",
      "[[  815    63]\n",
      " [  220 45366]]\n",
      "max_samples = 8100\n",
      "[[  859    19]\n",
      " [  325 45261]]\n",
      "max_samples = 9100\n",
      "[[  861    17]\n",
      " [  170 45416]]\n",
      "n_estimators = 40\n",
      "max_samples = 100\n",
      "[[  860    18]\n",
      " [ 4723 40863]]\n",
      "max_samples = 1100\n",
      "[[  865    13]\n",
      " [ 1044 44542]]\n",
      "max_samples = 2100\n",
      "[[  861    17]\n",
      " [  600 44986]]\n",
      "max_samples = 3100\n",
      "[[  860    18]\n",
      " [  587 44999]]\n",
      "max_samples = 4100\n",
      "[[  865    13]\n",
      " [  394 45192]]\n",
      "max_samples = 5100\n",
      "[[  859    19]\n",
      " [  257 45329]]\n",
      "max_samples = 6100\n",
      "[[  861    17]\n",
      " [  253 45333]]\n",
      "max_samples = 7100\n",
      "[[  854    24]\n",
      " [  129 45457]]\n",
      "max_samples = 8100\n",
      "[[  854    24]\n",
      " [  221 45365]]\n",
      "max_samples = 9100\n",
      "[[  837    41]\n",
      " [  212 45374]]\n",
      "n_estimators = 50\n",
      "max_samples = 100\n",
      "[[  862    16]\n",
      " [ 3921 41665]]\n",
      "max_samples = 1100\n",
      "[[  867    11]\n",
      " [ 1034 44552]]\n",
      "max_samples = 2100\n",
      "[[  861    17]\n",
      " [  327 45259]]\n",
      "max_samples = 3100\n",
      "[[  859    19]\n",
      " [  421 45165]]\n",
      "max_samples = 4100\n",
      "[[  860    18]\n",
      " [  365 45221]]\n",
      "max_samples = 5100\n",
      "[[  859    19]\n",
      " [  349 45237]]\n",
      "max_samples = 6100\n",
      "[[  858    20]\n",
      " [  331 45255]]\n",
      "max_samples = 7100\n",
      "[[  861    17]\n",
      " [  303 45283]]\n",
      "max_samples = 8100\n",
      "[[  859    19]\n",
      " [  172 45414]]\n",
      "max_samples = 9100\n",
      "[[  856    22]\n",
      " [  126 45460]]\n",
      "n_estimators = 60\n",
      "max_samples = 100\n",
      "[[  859    19]\n",
      " [ 3735 41851]]\n",
      "max_samples = 1100\n",
      "[[  861    17]\n",
      " [  775 44811]]\n",
      "max_samples = 2100\n",
      "[[  860    18]\n",
      " [  559 45027]]\n",
      "max_samples = 3100\n",
      "[[  864    14]\n",
      " [  548 45038]]\n",
      "max_samples = 4100\n",
      "[[  860    18]\n",
      " [  473 45113]]\n",
      "max_samples = 5100\n",
      "[[  860    18]\n",
      " [  319 45267]]\n",
      "max_samples = 6100\n",
      "[[  854    24]\n",
      " [  219 45367]]\n",
      "max_samples = 7100\n",
      "[[  859    19]\n",
      " [  237 45349]]\n",
      "max_samples = 8100\n",
      "[[  858    20]\n",
      " [  166 45420]]\n",
      "max_samples = 9100\n",
      "[[  851    27]\n",
      " [  294 45292]]\n",
      "n_estimators = 70\n",
      "max_samples = 100\n",
      "[[  860    18]\n",
      " [ 4186 41400]]\n",
      "max_samples = 1100\n",
      "[[  864    14]\n",
      " [  811 44775]]\n",
      "max_samples = 2100\n",
      "[[  863    15]\n",
      " [  651 44935]]\n",
      "max_samples = 3100\n",
      "[[  864    14]\n",
      " [  412 45174]]\n",
      "max_samples = 4100\n",
      "[[  865    13]\n",
      " [  403 45183]]\n",
      "max_samples = 5100\n",
      "[[  859    19]\n",
      " [  150 45436]]\n",
      "max_samples = 6100\n",
      "[[  857    21]\n",
      " [  142 45444]]\n",
      "max_samples = 7100\n",
      "[[  858    20]\n",
      " [  217 45369]]\n",
      "max_samples = 8100\n",
      "[[  858    20]\n",
      " [  101 45485]]\n",
      "max_samples = 9100\n",
      "[[  843    35]\n",
      " [   99 45487]]\n",
      "n_estimators = 80\n",
      "max_samples = 100\n",
      "[[  862    16]\n",
      " [ 3034 42552]]\n",
      "max_samples = 1100\n",
      "[[  864    14]\n",
      " [ 1054 44532]]\n",
      "max_samples = 2100\n",
      "[[  861    17]\n",
      " [  704 44882]]\n",
      "max_samples = 3100\n",
      "[[  860    18]\n",
      " [  333 45253]]\n",
      "max_samples = 4100\n",
      "[[  860    18]\n",
      " [  402 45184]]\n",
      "max_samples = 5100\n",
      "[[  859    19]\n",
      " [  474 45112]]\n",
      "max_samples = 6100\n",
      "[[  858    20]\n",
      " [  208 45378]]\n",
      "max_samples = 7100\n",
      "[[  859    19]\n",
      " [  259 45327]]\n",
      "max_samples = 8100\n",
      "[[  815    63]\n",
      " [  138 45448]]\n",
      "max_samples = 9100\n",
      "[[  852    26]\n",
      " [  273 45313]]\n",
      "n_estimators = 90\n",
      "max_samples = 100\n",
      "[[  859    19]\n",
      " [ 3821 41765]]\n",
      "max_samples = 1100\n",
      "[[  864    14]\n",
      " [  750 44836]]\n",
      "max_samples = 2100\n",
      "[[  862    16]\n",
      " [  530 45056]]\n",
      "max_samples = 3100\n",
      "[[  861    17]\n",
      " [  443 45143]]\n",
      "max_samples = 4100\n",
      "[[  860    18]\n",
      " [  426 45160]]\n",
      "max_samples = 5100\n",
      "[[  858    20]\n",
      " [  151 45435]]\n",
      "max_samples = 6100\n",
      "[[  860    18]\n",
      " [  197 45389]]\n",
      "max_samples = 7100\n",
      "[[  842    36]\n",
      " [  136 45450]]\n",
      "max_samples = 8100\n",
      "[[  858    20]\n",
      " [  161 45425]]\n",
      "max_samples = 9100\n",
      "[[  841    37]\n",
      " [  114 45472]]\n",
      "n_estimators = 100\n",
      "max_samples = 100\n",
      "[[  862    16]\n",
      " [ 3473 42113]]\n",
      "max_samples = 1100\n",
      "[[  866    12]\n",
      " [  692 44894]]\n",
      "max_samples = 2100\n",
      "[[  864    14]\n",
      " [  507 45079]]\n",
      "max_samples = 3100\n",
      "[[  860    18]\n",
      " [  444 45142]]\n",
      "max_samples = 4100\n",
      "[[  861    17]\n",
      " [  321 45265]]\n",
      "max_samples = 5100\n",
      "[[  859    19]\n",
      " [  302 45284]]\n",
      "max_samples = 6100\n",
      "[[  859    19]\n",
      " [  184 45402]]\n",
      "max_samples = 7100\n",
      "[[  856    22]\n",
      " [  170 45416]]\n",
      "max_samples = 8100\n",
      "[[  858    20]\n",
      " [  182 45404]]\n",
      "max_samples = 9100\n",
      "[[  803    75]\n",
      " [  127 45459]]\n",
      "n_estimators = 110\n",
      "max_samples = 100\n",
      "[[  861    17]\n",
      " [ 4485 41101]]\n",
      "max_samples = 1100\n",
      "[[  865    13]\n",
      " [  972 44614]]\n",
      "max_samples = 2100\n",
      "[[  862    16]\n",
      " [  494 45092]]\n",
      "max_samples = 3100\n",
      "[[  860    18]\n",
      " [  558 45028]]\n",
      "max_samples = 4100\n",
      "[[  861    17]\n",
      " [  474 45112]]\n",
      "max_samples = 5100\n",
      "[[  859    19]\n",
      " [  320 45266]]\n",
      "max_samples = 6100\n",
      "[[  859    19]\n",
      " [  177 45409]]\n",
      "max_samples = 7100\n",
      "[[  857    21]\n",
      " [  137 45449]]\n",
      "max_samples = 8100\n",
      "[[  848    30]\n",
      " [  136 45450]]\n",
      "max_samples = 9100\n",
      "[[  842    36]\n",
      " [  144 45442]]\n",
      "n_estimators = 120\n",
      "max_samples = 100\n",
      "[[  862    16]\n",
      " [ 3716 41870]]\n",
      "max_samples = 1100\n",
      "[[  861    17]\n",
      " [  733 44853]]\n",
      "max_samples = 2100\n",
      "[[  861    17]\n",
      " [  449 45137]]\n",
      "max_samples = 3100\n",
      "[[  860    18]\n",
      " [  492 45094]]\n",
      "max_samples = 4100\n",
      "[[  860    18]\n",
      " [  355 45231]]\n",
      "max_samples = 5100\n",
      "[[  858    20]\n",
      " [  244 45342]]\n",
      "max_samples = 6100\n",
      "[[  855    23]\n",
      " [  200 45386]]\n",
      "max_samples = 7100\n",
      "[[  859    19]\n",
      " [  159 45427]]\n",
      "max_samples = 8100\n",
      "[[  859    19]\n",
      " [  126 45460]]\n",
      "max_samples = 9100\n",
      "[[  848    30]\n",
      " [  165 45421]]\n",
      "n_estimators = 130\n",
      "max_samples = 100\n",
      "[[  861    17]\n",
      " [ 4506 41080]]\n",
      "max_samples = 1100\n",
      "[[  864    14]\n",
      " [  764 44822]]\n",
      "max_samples = 2100\n",
      "[[  861    17]\n",
      " [  558 45028]]\n",
      "max_samples = 3100\n",
      "[[  862    16]\n",
      " [  457 45129]]\n",
      "max_samples = 4100\n",
      "[[  859    19]\n",
      " [  246 45340]]\n",
      "max_samples = 5100\n",
      "[[  859    19]\n",
      " [  228 45358]]\n",
      "max_samples = 6100\n",
      "[[  859    19]\n",
      " [  291 45295]]\n",
      "max_samples = 7100\n",
      "[[  859    19]\n",
      " [  159 45427]]\n",
      "max_samples = 8100\n",
      "[[  850    28]\n",
      " [   79 45507]]\n",
      "max_samples = 9100\n",
      "[[  854    24]\n",
      " [  111 45475]]\n",
      "n_estimators = 140\n",
      "max_samples = 100\n",
      "[[  862    16]\n",
      " [ 3326 42260]]\n",
      "max_samples = 1100\n",
      "[[  869     9]\n",
      " [  854 44732]]\n",
      "max_samples = 2100\n",
      "[[  861    17]\n",
      " [  640 44946]]\n",
      "max_samples = 3100\n",
      "[[  860    18]\n",
      " [  433 45153]]\n",
      "max_samples = 4100\n",
      "[[  859    19]\n",
      " [  320 45266]]\n",
      "max_samples = 5100\n",
      "[[  859    19]\n",
      " [  350 45236]]\n",
      "max_samples = 6100\n",
      "[[  859    19]\n",
      " [  158 45428]]\n",
      "max_samples = 7100\n",
      "[[  858    20]\n",
      " [  168 45418]]\n",
      "max_samples = 8100\n",
      "[[  859    19]\n",
      " [  156 45430]]\n",
      "max_samples = 9100\n",
      "[[  839    39]\n",
      " [  138 45448]]\n",
      "n_estimators = 150\n",
      "max_samples = 100\n",
      "[[  862    16]\n",
      " [ 3227 42359]]\n",
      "max_samples = 1100\n",
      "[[  860    18]\n",
      " [  806 44780]]\n",
      "max_samples = 2100\n",
      "[[  861    17]\n",
      " [  592 44994]]\n",
      "max_samples = 3100\n",
      "[[  860    18]\n",
      " [  512 45074]]\n",
      "max_samples = 4100\n",
      "[[  860    18]\n",
      " [  277 45309]]\n",
      "max_samples = 5100\n",
      "[[  859    19]\n",
      " [  362 45224]]\n",
      "max_samples = 6100\n",
      "[[  859    19]\n",
      " [  257 45329]]\n",
      "max_samples = 7100\n",
      "[[  834    44]\n",
      " [   93 45493]]\n",
      "max_samples = 8100\n",
      "[[  855    23]\n",
      " [  102 45484]]\n",
      "max_samples = 9100\n",
      "[[  825    53]\n",
      " [  102 45484]]\n",
      "n_estimators = 160\n",
      "max_samples = 100\n",
      "[[  859    19]\n",
      " [ 3897 41689]]\n",
      "max_samples = 1100\n",
      "[[  864    14]\n",
      " [  806 44780]]\n",
      "max_samples = 2100\n",
      "[[  862    16]\n",
      " [  662 44924]]\n",
      "max_samples = 3100\n",
      "[[  860    18]\n",
      " [  450 45136]]\n",
      "max_samples = 4100\n",
      "[[  860    18]\n",
      " [  406 45180]]\n",
      "max_samples = 5100\n",
      "[[  859    19]\n",
      " [  296 45290]]\n",
      "max_samples = 6100\n",
      "[[  859    19]\n",
      " [  273 45313]]\n",
      "max_samples = 7100\n",
      "[[  860    18]\n",
      " [  167 45419]]\n",
      "max_samples = 8100\n"
     ]
    },
    {
     "name": "stdout",
     "output_type": "stream",
     "text": [
      "[[  857    21]\n",
      " [   91 45495]]\n",
      "max_samples = 9100\n",
      "[[  817    61]\n",
      " [   77 45509]]\n",
      "n_estimators = 170\n",
      "max_samples = 100\n",
      "[[  860    18]\n",
      " [ 2935 42651]]\n",
      "max_samples = 1100\n",
      "[[  862    16]\n",
      " [  723 44863]]\n",
      "max_samples = 2100\n",
      "[[  860    18]\n",
      " [  550 45036]]\n",
      "max_samples = 3100\n",
      "[[  861    17]\n",
      " [  345 45241]]\n",
      "max_samples = 4100\n",
      "[[  860    18]\n",
      " [  329 45257]]\n",
      "max_samples = 5100\n",
      "[[  859    19]\n",
      " [  170 45416]]\n",
      "max_samples = 6100\n",
      "[[  859    19]\n",
      " [  257 45329]]\n",
      "max_samples = 7100\n",
      "[[  859    19]\n",
      " [  157 45429]]\n",
      "max_samples = 8100\n",
      "[[  859    19]\n",
      " [  166 45420]]\n",
      "max_samples = 9100\n",
      "[[  845    33]\n",
      " [  164 45422]]\n",
      "n_estimators = 180\n",
      "max_samples = 100\n",
      "[[  861    17]\n",
      " [ 4181 41405]]\n",
      "max_samples = 1100\n",
      "[[  865    13]\n",
      " [  862 44724]]\n",
      "max_samples = 2100\n",
      "[[  861    17]\n",
      " [  530 45056]]\n",
      "max_samples = 3100\n",
      "[[  859    19]\n",
      " [  477 45109]]\n",
      "max_samples = 4100\n",
      "[[  860    18]\n",
      " [  321 45265]]\n",
      "max_samples = 5100\n",
      "[[  861    17]\n",
      " [  364 45222]]\n",
      "max_samples = 6100\n",
      "[[  859    19]\n",
      " [  296 45290]]\n",
      "max_samples = 7100\n",
      "[[  859    19]\n",
      " [  242 45344]]\n",
      "max_samples = 8100\n",
      "[[  855    23]\n",
      " [  109 45477]]\n",
      "max_samples = 9100\n",
      "[[  841    37]\n",
      " [   97 45489]]\n",
      "n_estimators = 190\n",
      "max_samples = 100\n",
      "[[  862    16]\n",
      " [ 3641 41945]]\n",
      "max_samples = 1100\n",
      "[[  865    13]\n",
      " [  831 44755]]\n",
      "max_samples = 2100\n",
      "[[  860    18]\n",
      " [  550 45036]]\n",
      "max_samples = 3100\n",
      "[[  861    17]\n",
      " [  462 45124]]\n",
      "max_samples = 4100\n",
      "[[  860    18]\n",
      " [  329 45257]]\n",
      "max_samples = 5100\n",
      "[[  859    19]\n",
      " [  389 45197]]\n",
      "max_samples = 6100\n",
      "[[  859    19]\n",
      " [  206 45380]]\n",
      "max_samples = 7100\n",
      "[[  858    20]\n",
      " [  136 45450]]\n",
      "max_samples = 8100\n",
      "[[  859    19]\n",
      " [  239 45347]]\n",
      "max_samples = 9100\n",
      "[[  837    41]\n",
      " [  140 45446]]\n",
      "n_estimators = 200\n",
      "max_samples = 100\n",
      "[[  861    17]\n",
      " [ 3611 41975]]\n",
      "max_samples = 1100\n",
      "[[  867    11]\n",
      " [  971 44615]]\n",
      "max_samples = 2100\n",
      "[[  862    16]\n",
      " [  570 45016]]\n",
      "max_samples = 3100\n",
      "[[  860    18]\n",
      " [  495 45091]]\n",
      "max_samples = 4100\n",
      "[[  860    18]\n",
      " [  374 45212]]\n",
      "max_samples = 5100\n",
      "[[  859    19]\n",
      " [  340 45246]]\n",
      "max_samples = 6100\n",
      "[[  860    18]\n",
      " [  196 45390]]\n",
      "max_samples = 7100\n",
      "[[  857    21]\n",
      " [  195 45391]]\n",
      "max_samples = 8100\n",
      "[[  859    19]\n",
      " [  132 45454]]\n",
      "max_samples = 9100\n",
      "[[  827    51]\n",
      " [   72 45514]]\n",
      "n_estimators = 210\n",
      "max_samples = 100\n",
      "[[  861    17]\n",
      " [ 3489 42097]]\n",
      "max_samples = 1100\n",
      "[[  863    15]\n",
      " [  643 44943]]\n",
      "max_samples = 2100\n",
      "[[  862    16]\n",
      " [  583 45003]]\n",
      "max_samples = 3100\n",
      "[[  859    19]\n",
      " [  453 45133]]\n",
      "max_samples = 4100\n",
      "[[  860    18]\n",
      " [  311 45275]]\n",
      "max_samples = 5100\n",
      "[[  859    19]\n",
      " [  385 45201]]\n",
      "max_samples = 6100\n",
      "[[  859    19]\n",
      " [  138 45448]]\n",
      "max_samples = 7100\n",
      "[[  859    19]\n",
      " [  112 45474]]\n",
      "max_samples = 8100\n",
      "[[  853    25]\n",
      " [  109 45477]]\n",
      "max_samples = 9100\n",
      "[[  846    32]\n",
      " [  117 45469]]\n",
      "n_estimators = 220\n",
      "max_samples = 100\n",
      "[[  859    19]\n",
      " [ 3968 41618]]\n",
      "max_samples = 1100\n",
      "[[  865    13]\n",
      " [  789 44797]]\n",
      "max_samples = 2100\n",
      "[[  863    15]\n",
      " [  528 45058]]\n",
      "max_samples = 3100\n",
      "[[  860    18]\n",
      " [  549 45037]]\n",
      "max_samples = 4100\n",
      "[[  862    16]\n",
      " [  375 45211]]\n",
      "max_samples = 5100\n",
      "[[  861    17]\n",
      " [  312 45274]]\n",
      "max_samples = 6100\n",
      "[[  859    19]\n",
      " [  227 45359]]\n",
      "max_samples = 7100\n",
      "[[  859    19]\n",
      " [  201 45385]]\n",
      "max_samples = 8100\n",
      "[[  859    19]\n",
      " [  138 45448]]\n",
      "max_samples = 9100\n",
      "[[  845    33]\n",
      " [  135 45451]]\n",
      "n_estimators = 230\n",
      "max_samples = 100\n",
      "[[  862    16]\n",
      " [ 4002 41584]]\n",
      "max_samples = 1100\n",
      "[[  865    13]\n",
      " [  762 44824]]\n",
      "max_samples = 2100\n",
      "[[  865    13]\n",
      " [  512 45074]]\n",
      "max_samples = 3100\n",
      "[[  861    17]\n",
      " [  486 45100]]\n",
      "max_samples = 4100\n",
      "[[  861    17]\n",
      " [  346 45240]]\n",
      "max_samples = 5100\n",
      "[[  859    19]\n",
      " [  361 45225]]\n",
      "max_samples = 6100\n",
      "[[  859    19]\n",
      " [  232 45354]]\n",
      "max_samples = 7100\n",
      "[[  859    19]\n",
      " [  182 45404]]\n",
      "max_samples = 8100\n",
      "[[  859    19]\n",
      " [  196 45390]]\n",
      "max_samples = 9100\n",
      "[[  852    26]\n",
      " [  140 45446]]\n",
      "n_estimators = 240\n",
      "max_samples = 100\n",
      "[[  863    15]\n",
      " [ 4087 41499]]\n",
      "max_samples = 1100\n",
      "[[  865    13]\n",
      " [  812 44774]]\n",
      "max_samples = 2100\n",
      "[[  863    15]\n",
      " [  618 44968]]\n",
      "max_samples = 3100\n",
      "[[  860    18]\n",
      " [  441 45145]]\n",
      "max_samples = 4100\n",
      "[[  859    19]\n",
      " [  420 45166]]\n",
      "max_samples = 5100\n",
      "[[  859    19]\n",
      " [  236 45350]]\n",
      "max_samples = 6100\n",
      "[[  859    19]\n",
      " [  233 45353]]\n",
      "max_samples = 7100\n",
      "[[  859    19]\n",
      " [  162 45424]]\n",
      "max_samples = 8100\n",
      "[[  855    23]\n",
      " [  133 45453]]\n",
      "max_samples = 9100\n",
      "[[  846    32]\n",
      " [  148 45438]]\n",
      "n_estimators = 250\n",
      "max_samples = 100\n",
      "[[  862    16]\n",
      " [ 3839 41747]]\n",
      "max_samples = 1100\n",
      "[[  865    13]\n",
      " [  714 44872]]\n",
      "max_samples = 2100\n",
      "[[  862    16]\n",
      " [  648 44938]]\n",
      "max_samples = 3100\n",
      "[[  861    17]\n",
      " [  512 45074]]\n",
      "max_samples = 4100\n",
      "[[  859    19]\n",
      " [  389 45197]]\n",
      "max_samples = 5100\n",
      "[[  859    19]\n",
      " [  301 45285]]\n",
      "max_samples = 6100\n",
      "[[  859    19]\n",
      " [  209 45377]]\n",
      "max_samples = 7100\n",
      "[[  859    19]\n",
      " [  199 45387]]\n",
      "max_samples = 8100\n",
      "[[  852    26]\n",
      " [  118 45468]]\n",
      "max_samples = 9100\n",
      "[[  851    27]\n",
      " [  127 45459]]\n",
      "n_estimators = 260\n",
      "max_samples = 100\n",
      "[[  863    15]\n",
      " [ 3802 41784]]\n",
      "max_samples = 1100\n",
      "[[  865    13]\n",
      " [  753 44833]]\n",
      "max_samples = 2100\n",
      "[[  863    15]\n",
      " [  595 44991]]\n",
      "max_samples = 3100\n",
      "[[  860    18]\n",
      " [  448 45138]]\n",
      "max_samples = 4100\n",
      "[[  859    19]\n",
      " [  387 45199]]\n",
      "max_samples = 5100\n",
      "[[  859    19]\n",
      " [  288 45298]]\n",
      "max_samples = 6100\n",
      "[[  859    19]\n",
      " [  202 45384]]\n",
      "max_samples = 7100\n",
      "[[  859    19]\n",
      " [  171 45415]]\n",
      "max_samples = 8100\n",
      "[[  859    19]\n",
      " [  143 45443]]\n",
      "max_samples = 9100\n",
      "[[  846    32]\n",
      " [  109 45477]]\n",
      "n_estimators = 270\n",
      "max_samples = 100\n",
      "[[  863    15]\n",
      " [ 3402 42184]]\n",
      "max_samples = 1100\n",
      "[[  864    14]\n",
      " [  798 44788]]\n",
      "max_samples = 2100\n",
      "[[  862    16]\n",
      " [  547 45039]]\n",
      "max_samples = 3100\n",
      "[[  860    18]\n",
      " [  462 45124]]\n",
      "max_samples = 4100\n",
      "[[  861    17]\n",
      " [  409 45177]]\n",
      "max_samples = 5100\n",
      "[[  859    19]\n",
      " [  239 45347]]\n",
      "max_samples = 6100\n",
      "[[  860    18]\n",
      " [  216 45370]]\n",
      "max_samples = 7100\n",
      "[[  859    19]\n",
      " [  161 45425]]\n",
      "max_samples = 8100\n",
      "[[  855    23]\n",
      " [  151 45435]]\n",
      "max_samples = 9100\n",
      "[[  853    25]\n",
      " [  138 45448]]\n",
      "n_estimators = 280\n",
      "max_samples = 100\n",
      "[[  861    17]\n",
      " [ 3468 42118]]\n",
      "max_samples = 1100\n",
      "[[  863    15]\n",
      " [  833 44753]]\n",
      "max_samples = 2100\n",
      "[[  863    15]\n",
      " [  582 45004]]\n",
      "max_samples = 3100\n",
      "[[  861    17]\n",
      " [  417 45169]]\n",
      "max_samples = 4100\n",
      "[[  859    19]\n",
      " [  273 45313]]\n",
      "max_samples = 5100\n",
      "[[  859    19]\n",
      " [  310 45276]]\n",
      "max_samples = 6100\n",
      "[[  859    19]\n",
      " [  275 45311]]\n",
      "max_samples = 7100\n",
      "[[  859    19]\n",
      " [  175 45411]]\n",
      "max_samples = 8100\n",
      "[[  859    19]\n",
      " [  132 45454]]\n",
      "max_samples = 9100\n",
      "[[  852    26]\n",
      " [  123 45463]]\n",
      "n_estimators = 290\n",
      "max_samples = 100\n",
      "[[  862    16]\n",
      " [ 3451 42135]]\n",
      "max_samples = 1100\n",
      "[[  865    13]\n",
      " [  717 44869]]\n",
      "max_samples = 2100\n",
      "[[  861    17]\n",
      " [  673 44913]]\n",
      "max_samples = 3100\n",
      "[[  860    18]\n",
      " [  503 45083]]\n",
      "max_samples = 4100\n",
      "[[  859    19]\n",
      " [  326 45260]]\n",
      "max_samples = 5100\n",
      "[[  859    19]\n",
      " [  248 45338]]\n",
      "max_samples = 6100\n",
      "[[  859    19]\n",
      " [  264 45322]]\n",
      "max_samples = 7100\n",
      "[[  859    19]\n",
      " [  216 45370]]\n",
      "max_samples = 8100\n",
      "[[  855    23]\n",
      " [   89 45497]]\n",
      "max_samples = 9100\n",
      "[[  852    26]\n",
      " [  148 45438]]\n"
     ]
    }
   ],
   "source": [
    "GENE_executions_time_IF_Shuttle = []\n",
    "GENE_roc_auc_IF_Shuttle = []\n",
    "GENE_precisions_IF_Shuttle = []\n",
    "GENE_recalls_IF_Shuttle = []\n",
    "GENE_f1_scores_IF_Shuttle = []\n",
    "GENE_tn_IF_Shuttle = []\n",
    "GENE_fp_IF_Shuttle = []\n",
    "GENE_fn_IF_Shuttle = []\n",
    "GENE_tp_IF_Shuttle = []\n",
    "GENE_specificity_IF_Shuttle = []\n",
    "GENE_contamination_IF_Shuttle = []\n",
    "GENE_n_estimators_IF_Shuttle = []\n",
    "GENE_max_samples_IF_Shuttle = []\n",
    "\n",
    "contamination = 'auto'\n",
    "\n",
    "for j in range(10, 300, 10):\n",
    "    print(\"n_estimators = \"+str(j))\n",
    "    n_estimators = j\n",
    "    for k in range(100, 10100, 1000):\n",
    "        print(\"max_samples = \"+str(k))\n",
    "        max_samples = k\n",
    "        GENE_n_estimators_IF_Shuttle.append(j)\n",
    "        GENE_max_samples_IF_Shuttle.append(k)\n",
    "        #for f in np.arange(0., 0.5, 0.01):\n",
    "        #    print(\"contamination = \"+str(f))\n",
    "        #    contamination = f\n",
    "        #    GENE_contamination_IF_Shuttle.append(f)\n",
    "        start_IF_Shuttle = time()\n",
    "\n",
    "        # Instanciation, fit and predict on Shuttle\n",
    "        GENE_func_IF_Shuttle = IsolationForest(max_samples=max_samples, n_estimators=n_estimators, contamination=contamination, behaviour=\"new\")\n",
    "        GENE_func_IF_Shuttle.fit(X_Shuttle)\n",
    "        GENE_y_pred_IF_Shuttle = GENE_func_IF_Shuttle.predict(X_Shuttle)\n",
    "\n",
    "        # Calcul du temps d'exécution\n",
    "        GENE_exec_time_IF_Shuttle = time() - start_IF_Shuttle\n",
    "        GENE_executions_time_IF_Shuttle.append(GENE_exec_time_IF_Shuttle)\n",
    "\n",
    "        # Precision\n",
    "        GENE_precisions_IF_Shuttle.append(precision_score(y_transform_Shuttle, GENE_y_pred_IF_Shuttle))\n",
    "\n",
    "        # Recall\n",
    "        GENE_recalls_IF_Shuttle.append(recall_score(y_transform_Shuttle, GENE_y_pred_IF_Shuttle))\n",
    "\n",
    "        # f1_score\n",
    "        GENE_f1_scores_IF_Shuttle.append(f1_score(y_transform_Shuttle, GENE_y_pred_IF_Shuttle))\n",
    "\n",
    "        # Specificity\n",
    "        GENE_specificity_IF_Shuttle.append(specificity_score(y_transform_Shuttle, GENE_y_pred_IF_Shuttle))\n",
    "\n",
    "        # Matrice de confusion\n",
    "        print(confusion_matrix(y_transform_Shuttle, GENE_y_pred_IF_Shuttle))\n",
    "        ttn, tfp, tfn, ttp = confusion_matrix(y_transform_Shuttle, GENE_y_pred_IF_Shuttle).ravel()\n",
    "        tn = ttp\n",
    "        fp = tfn\n",
    "        fn = tfp\n",
    "        tp = ttn\n",
    "        GENE_tn_IF_Shuttle.append(tn)\n",
    "        GENE_fp_IF_Shuttle.append(fp)\n",
    "        GENE_fn_IF_Shuttle.append(fn)\n",
    "        GENE_tp_IF_Shuttle.append(tp)\n",
    "\n",
    "        # Calcul de l'aire sous la courbe ROC\n",
    "        GENE_y_DF_IF_Shuttle = GENE_func_IF_Shuttle.decision_function(X_Shuttle)\n",
    "        GENE_auc_IF_Shuttle = roc_auc_score(y_transform_Shuttle, GENE_y_DF_IF_Shuttle)\n",
    "        GENE_roc_auc_IF_Shuttle.append(GENE_auc_IF_Shuttle)"
   ]
  },
  {
   "cell_type": "code",
   "execution_count": 34,
   "metadata": {},
   "outputs": [
    {
     "name": "stdout",
     "output_type": "stream",
     "text": [
      "La meilleure est 0.9992235507304674 pour un temps d'exécution de 2.1797688007354736s obtenue avec une contamination de auto avec un max_samples de 2100 et avec un n_estimators de 100 donnant un rappel de 0.9888781643487036 et une spécificité de 0.9840546697038725\n"
     ]
    }
   ],
   "source": [
    "GENE_index = GENE_roc_auc_IF_Shuttle.index(max(GENE_roc_auc_IF_Shuttle))\n",
    "print(\"La meilleure est \"+str(max(GENE_roc_auc_IF_Shuttle))+\" pour un temps d'exécution de \"+str(GENE_executions_time_IF_Shuttle[GENE_index])+\"s obtenue avec une contamination de \"+str('auto')+\" avec un max_samples de \"+str(GENE_max_samples_IF_Shuttle[GENE_index])+\" et avec un n_estimators de \"+str(GENE_n_estimators_IF_Shuttle[GENE_index])+\" donnant un rappel de \"+str(GENE_recalls_IF_Shuttle[GENE_index])+\" et une spécificité de \"+str(GENE_specificity_IF_Shuttle[GENE_index]))\n"
   ]
  },
  {
   "cell_type": "code",
   "execution_count": 35,
   "metadata": {},
   "outputs": [
    {
     "data": {
      "image/png": "[encoded data removed]",
      "text/plain": [
       "<Figure size 432x288 with 2 Axes>"
      ]
     },
     "metadata": {
      "needs_background": "light"
     },
     "output_type": "display_data"
    }
   ],
   "source": [
    "plt.scatter(GENE_max_samples_IF_Shuttle,GENE_n_estimators_IF_Shuttle, c=GENE_roc_auc_IF_Shuttle, cmap=cm.hsv)\n",
    "plt.title(\"Compromis Spécificité_Rappel\")\n",
    "#plt.axis([0, 1, 0, 1])\n",
    "plt.xlabel('Max_samples')\n",
    "plt.ylabel('n_estimators')\n",
    "cbar= plt.colorbar()\n",
    "plt.show()"
   ]
  },
  {
   "cell_type": "code",
   "execution_count": 36,
   "metadata": {},
   "outputs": [
    {
     "data": {
      "text/plain": [
       "<mpl_toolkits.mplot3d.art3d.Path3DCollection at 0x1a35998a58>"
      ]
     },
     "execution_count": 36,
     "metadata": {},
     "output_type": "execute_result"
    },
    {
     "data": {
      "image/png": "[encoded data removed]",
      "text/plain": [
       "<Figure size 432x288 with 1 Axes>"
      ]
     },
     "metadata": {
      "needs_background": "light"
     },
     "output_type": "display_data"
    }
   ],
   "source": [
    "fig = plt.figure()\n",
    "ax = plt.axes(projection='3d')\n",
    "\n",
    "ax.scatter3D(GENE_max_samples_IF_Shuttle, GENE_n_estimators_IF_Shuttle, GENE_roc_auc_IF_Shuttle, c=GENE_roc_auc_IF_Shuttle, cmap='Greens')\n"
   ]
  },
  {
   "cell_type": "code",
   "execution_count": 37,
   "metadata": {},
   "outputs": [
    {
     "name": "stdout",
     "output_type": "stream",
     "text": [
      "[0.9895638192479468, 0.9989424604544795, 0.9947735147675019, 0.9972019143870551, 0.9917781500274782, 0.9966426195669913, 0.9959756906943116, 0.9964502624242128, 0.9954666900590009, 0.9959983393175001, 0.995069083672434, 0.9985005062398269, 0.9987054306826207, 0.9986687156779043, 0.9972237759924496, 0.9975339609421306, 0.9964979457086645, 0.996778498813777, 0.9959803628316931, 0.9968574754248071, 0.9933100989024025, 0.9972283107140255, 0.9981522071426837, 0.9984421295072509, 0.99621902910087, 0.9961535067464165, 0.9965699266059685, 0.9961565923558636, 0.997051281679715, 0.9983604170724599, 0.992747243763746, 0.9976999092655928, 0.9975191075428087, 0.9980950171829721, 0.9983193422390103, 0.9985334485560697, 0.997051681434785, 0.9980009623103925, 0.9970050350150464, 0.997288848622449, 0.9953268257538606, 0.998052605668507, 0.9987528766124995, 0.9987377109045288, 0.9978243954928815, 0.9974789821276505, 0.9963074624177768, 0.9965576841069476, 0.9966349742512761, 0.9972091474553543, 0.9906809722682911, 0.9982054994904622, 0.9984677638011191, 0.9982723335412392, 0.9976275535979104, 0.9978634590586346, 0.9975229177083201, 0.9964765338277238, 0.9966784601074922, 0.9964622550763149, 0.9946295030035096, 0.9989372761309145, 0.9990222490679961, 0.9988892555531226, 0.9982006524602376, 0.9977108025912523, 0.9970521311592387, 0.9974341720827649, 0.9964937982498123, 0.9974664523046729, 0.9949097188152819, 0.9987858938828179, 0.9979732917641362, 0.9982913219070677, 0.9978166127613611, 0.9977101529892635, 0.99756186884296, 0.9968815606677791, 0.9969892446897786, 0.9965676030296237, 0.993580720592493, 0.9987365616087023, 0.998965159047052, 0.9982928709579642, 0.9983627531411504, 0.9978062316218853, 0.9966691907868048, 0.9974892133589749, 0.9970894333042145, 0.9973600924713428, 0.9967177110584344, 0.9990807632163774, 0.9992235507304674, 0.9982560685068258, 0.9980827247145674, 0.997365039440335, 0.9975593953584638, 0.996995191046446, 0.9966192463877385, 0.9971043741499585, 0.9948423600859754, 0.9984926235695392, 0.9987380232131773, 0.9987046436648265, 0.99786565771152, 0.9974398935772053, 0.997285962890537, 0.9967235824610262, 0.9965554604693705, 0.9971959930150794, 0.995486090672245, 0.998859148999408, 0.9985439421266592, 0.997924521645588, 0.9981898590733457, 0.9982536949610973, 0.9977672929795914, 0.9980156158321796, 0.9966437938475096, 0.9969087939819274, 0.9941940822857837, 0.9986778101057482, 0.9985132609250313, 0.9974865649816357, 0.9981452114289575, 0.9978497424627931, 0.997153094299123, 0.9966538501859913, 0.9970186766568123, 0.9968417600536152, 0.9960959670010184, 0.9992034130688127, 0.9985012682729293, 0.9986921013495033, 0.9978415974532405, 0.9973871508926482, 0.997803195981822, 0.9974218796143604, 0.9971247866432238, 0.9967858942825731, 0.9957098660650618, 0.9979791131973442, 0.998655248928981, 0.9979923800687318, 0.998434034467082, 0.9974760963957383, 0.9973769071689776, 0.9975031798017354, 0.9973178183726831, 0.9969330291330503, 0.9950301949995237, 0.9991150921830196, 0.9986678661983803, 0.9981271225120372, 0.9976186840322933, 0.9979294686145801, 0.9971032748235158, 0.9973206416428655, 0.9969571893300975, 0.9969044216608485, 0.9954783204330707, 0.9988723409167204, 0.9981418634802457, 0.9982500222113911, 0.9982850007800221, 0.9975179457546361, 0.997005334831349, 0.9977361870382017, 0.9961101583060058, 0.9974673767382726, 0.9941306211684101, 0.9985282517401588, 0.9985639048954706, 0.997936689190533, 0.9979756403251729, 0.99777006628039, 0.9976329003219728, 0.996904696492459, 0.9978266815921885, 0.9969485196420155, 0.9958297301243529, 0.9990459845252814, 0.9986496023886164, 0.9984430039714668, 0.9987005461753583, 0.9976521635194117, 0.9978827222560738, 0.9975612442256628, 0.9962574680493262, 0.9971102205678581, 0.9951384286847449, 0.9990750167372451, 0.9986452800369213, 0.9983527342797067, 0.9978565632836762, 0.9975162467955885, 0.9981445368422768, 0.9968778879180727, 0.9969064953902744, 0.9969699315229558, 0.9961210141546274, 0.9987398221109925, 0.9986316134104635, 0.9982327827739944, 0.9983118093544086, 0.997639296403094, 0.9973752331946217, 0.9969794257058701, 0.9966650683126447, 0.9967373240415597, 0.9941315830790475, 0.9989017229143704, 0.9986874292121217, 0.9981652241671529, 0.9980613877877026, 0.998173244253246, 0.9974887136651372, 0.9972786423758163, 0.9964442036364319, 0.9968105291887661, 0.9947494545092223, 0.9986410826086858, 0.9987233072296604, 0.9984119729841527, 0.9978872195006121, 0.9977717902241297, 0.9969867462205907, 0.9976338997096478, 0.9968904302333957, 0.9969633605489917, 0.9960181896551983, 0.9988072058249909, 0.9987759499754503, 0.9982728832044607, 0.998265587674432, 0.9977266678705958, 0.9976430441068758, 0.9973311102287628, 0.9974617301979076, 0.9970130551011397, 0.9963679753415082, 0.9989556398794458, 0.9986033807086397, 0.9982670867559448, 0.9976320258577569, 0.9976710769311643, 0.9978026962879847, 0.9977979991659109, 0.9976618825645528, 0.9969216111288615, 0.995797837165169, 0.999020799955867, 0.9987810968219772, 0.9981453613371088, 0.9975273899681666, 0.9974672518148131, 0.9973506482578125, 0.9977570492559209, 0.9970494827818995, 0.9971019006654621, 0.9966486408777343, 0.998982973132362, 0.9988007597744862, 0.998069557781947, 0.9977773118410351, 0.9977523021644638, 0.9976319509036814, 0.997504329097562, 0.997027221421435, 0.9967478925662248, 0.9953400051788269, 0.9985974843213563, 0.9987030196598544, 0.9984492501444364, 0.9981007386774124, 0.9975296136057439, 0.9967111150997785, 0.997660583360575, 0.9972746947944995, 0.9965562100101268, 0.9953702616406928, 0.9990478833618641, 0.9982921214172078, 0.9980449228757541, 0.998195405674943, 0.997650439575672, 0.9978269064544154, 0.9972711969376363, 0.9970640488572651, 0.9973295611778664]\n"
     ]
    },
    {
     "ename": "TypeError",
     "evalue": "Input z must be a 2D array.",
     "output_type": "error",
     "traceback": [
      "\u001b[0;31m---------------------------------------------------------------------------\u001b[0m",
      "\u001b[0;31mTypeError\u001b[0m                                 Traceback (most recent call last)",
      "\u001b[0;32m<ipython-input-37-aada9ae7b65c>\u001b[0m in \u001b[0;36m<module>\u001b[0;34m\u001b[0m\n\u001b[1;32m      1\u001b[0m \u001b[0mX\u001b[0m\u001b[0;34m,\u001b[0m \u001b[0mY\u001b[0m\u001b[0;34m,\u001b[0m \u001b[0mZ\u001b[0m \u001b[0;34m=\u001b[0m \u001b[0mnp\u001b[0m\u001b[0;34m.\u001b[0m\u001b[0mmeshgrid\u001b[0m\u001b[0;34m(\u001b[0m\u001b[0mGENE_max_samples_IF_Shuttle\u001b[0m\u001b[0;34m,\u001b[0m \u001b[0mGENE_n_estimators_IF_Shuttle\u001b[0m\u001b[0;34m,\u001b[0m \u001b[0mGENE_roc_auc_IF_Shuttle\u001b[0m\u001b[0;34m)\u001b[0m\u001b[0;34m\u001b[0m\u001b[0;34m\u001b[0m\u001b[0m\n\u001b[1;32m      2\u001b[0m \u001b[0mprint\u001b[0m\u001b[0;34m(\u001b[0m\u001b[0mGENE_roc_auc_IF_Shuttle\u001b[0m\u001b[0;34m)\u001b[0m\u001b[0;34m\u001b[0m\u001b[0;34m\u001b[0m\u001b[0m\n\u001b[0;32m----> 3\u001b[0;31m \u001b[0max\u001b[0m\u001b[0;34m.\u001b[0m\u001b[0mcontour3D\u001b[0m\u001b[0;34m(\u001b[0m\u001b[0mX\u001b[0m\u001b[0;34m,\u001b[0m\u001b[0mY\u001b[0m\u001b[0;34m,\u001b[0m\u001b[0mZ\u001b[0m\u001b[0;34m,\u001b[0m \u001b[0;36m50\u001b[0m\u001b[0;34m,\u001b[0m \u001b[0mcmap\u001b[0m\u001b[0;34m=\u001b[0m\u001b[0;34m'binary'\u001b[0m\u001b[0;34m)\u001b[0m\u001b[0;34m\u001b[0m\u001b[0;34m\u001b[0m\u001b[0m\n\u001b[0m",
      "\u001b[0;32m~/anaconda3/lib/python3.7/site-packages/mpl_toolkits/mplot3d/axes3d.py\u001b[0m in \u001b[0;36mcontour\u001b[0;34m(self, X, Y, Z, extend3d, stride, zdir, offset, *args, **kwargs)\u001b[0m\n\u001b[1;32m   2077\u001b[0m \u001b[0;34m\u001b[0m\u001b[0m\n\u001b[1;32m   2078\u001b[0m         \u001b[0mjX\u001b[0m\u001b[0;34m,\u001b[0m \u001b[0mjY\u001b[0m\u001b[0;34m,\u001b[0m \u001b[0mjZ\u001b[0m \u001b[0;34m=\u001b[0m \u001b[0mart3d\u001b[0m\u001b[0;34m.\u001b[0m\u001b[0mrotate_axes\u001b[0m\u001b[0;34m(\u001b[0m\u001b[0mX\u001b[0m\u001b[0;34m,\u001b[0m \u001b[0mY\u001b[0m\u001b[0;34m,\u001b[0m \u001b[0mZ\u001b[0m\u001b[0;34m,\u001b[0m \u001b[0mzdir\u001b[0m\u001b[0;34m)\u001b[0m\u001b[0;34m\u001b[0m\u001b[0;34m\u001b[0m\u001b[0m\n\u001b[0;32m-> 2079\u001b[0;31m         \u001b[0mcset\u001b[0m \u001b[0;34m=\u001b[0m \u001b[0msuper\u001b[0m\u001b[0;34m(\u001b[0m\u001b[0;34m)\u001b[0m\u001b[0;34m.\u001b[0m\u001b[0mcontour\u001b[0m\u001b[0;34m(\u001b[0m\u001b[0mjX\u001b[0m\u001b[0;34m,\u001b[0m \u001b[0mjY\u001b[0m\u001b[0;34m,\u001b[0m \u001b[0mjZ\u001b[0m\u001b[0;34m,\u001b[0m \u001b[0;34m*\u001b[0m\u001b[0margs\u001b[0m\u001b[0;34m,\u001b[0m \u001b[0;34m**\u001b[0m\u001b[0mkwargs\u001b[0m\u001b[0;34m)\u001b[0m\u001b[0;34m\u001b[0m\u001b[0;34m\u001b[0m\u001b[0m\n\u001b[0m\u001b[1;32m   2080\u001b[0m         \u001b[0mself\u001b[0m\u001b[0;34m.\u001b[0m\u001b[0madd_contour_set\u001b[0m\u001b[0;34m(\u001b[0m\u001b[0mcset\u001b[0m\u001b[0;34m,\u001b[0m \u001b[0mextend3d\u001b[0m\u001b[0;34m,\u001b[0m \u001b[0mstride\u001b[0m\u001b[0;34m,\u001b[0m \u001b[0mzdir\u001b[0m\u001b[0;34m,\u001b[0m \u001b[0moffset\u001b[0m\u001b[0;34m)\u001b[0m\u001b[0;34m\u001b[0m\u001b[0;34m\u001b[0m\u001b[0m\n\u001b[1;32m   2081\u001b[0m \u001b[0;34m\u001b[0m\u001b[0m\n",
      "\u001b[0;32m~/anaconda3/lib/python3.7/site-packages/matplotlib/__init__.py\u001b[0m in \u001b[0;36minner\u001b[0;34m(ax, data, *args, **kwargs)\u001b[0m\n\u001b[1;32m   1808\u001b[0m                         \u001b[0;34m\"the Matplotlib list!)\"\u001b[0m \u001b[0;34m%\u001b[0m \u001b[0;34m(\u001b[0m\u001b[0mlabel_namer\u001b[0m\u001b[0;34m,\u001b[0m \u001b[0mfunc\u001b[0m\u001b[0;34m.\u001b[0m\u001b[0m__name__\u001b[0m\u001b[0;34m)\u001b[0m\u001b[0;34m,\u001b[0m\u001b[0;34m\u001b[0m\u001b[0;34m\u001b[0m\u001b[0m\n\u001b[1;32m   1809\u001b[0m                         RuntimeWarning, stacklevel=2)\n\u001b[0;32m-> 1810\u001b[0;31m             \u001b[0;32mreturn\u001b[0m \u001b[0mfunc\u001b[0m\u001b[0;34m(\u001b[0m\u001b[0max\u001b[0m\u001b[0;34m,\u001b[0m \u001b[0;34m*\u001b[0m\u001b[0margs\u001b[0m\u001b[0;34m,\u001b[0m \u001b[0;34m**\u001b[0m\u001b[0mkwargs\u001b[0m\u001b[0;34m)\u001b[0m\u001b[0;34m\u001b[0m\u001b[0;34m\u001b[0m\u001b[0m\n\u001b[0m\u001b[1;32m   1811\u001b[0m \u001b[0;34m\u001b[0m\u001b[0m\n\u001b[1;32m   1812\u001b[0m         inner.__doc__ = _add_data_doc(inner.__doc__,\n",
      "\u001b[0;32m~/anaconda3/lib/python3.7/site-packages/matplotlib/axes/_axes.py\u001b[0m in \u001b[0;36mcontour\u001b[0;34m(self, *args, **kwargs)\u001b[0m\n\u001b[1;32m   6229\u001b[0m     \u001b[0;32mdef\u001b[0m \u001b[0mcontour\u001b[0m\u001b[0;34m(\u001b[0m\u001b[0mself\u001b[0m\u001b[0;34m,\u001b[0m \u001b[0;34m*\u001b[0m\u001b[0margs\u001b[0m\u001b[0;34m,\u001b[0m \u001b[0;34m**\u001b[0m\u001b[0mkwargs\u001b[0m\u001b[0;34m)\u001b[0m\u001b[0;34m:\u001b[0m\u001b[0;34m\u001b[0m\u001b[0;34m\u001b[0m\u001b[0m\n\u001b[1;32m   6230\u001b[0m         \u001b[0mkwargs\u001b[0m\u001b[0;34m[\u001b[0m\u001b[0;34m'filled'\u001b[0m\u001b[0;34m]\u001b[0m \u001b[0;34m=\u001b[0m \u001b[0;32mFalse\u001b[0m\u001b[0;34m\u001b[0m\u001b[0;34m\u001b[0m\u001b[0m\n\u001b[0;32m-> 6231\u001b[0;31m         \u001b[0mcontours\u001b[0m \u001b[0;34m=\u001b[0m \u001b[0mmcontour\u001b[0m\u001b[0;34m.\u001b[0m\u001b[0mQuadContourSet\u001b[0m\u001b[0;34m(\u001b[0m\u001b[0mself\u001b[0m\u001b[0;34m,\u001b[0m \u001b[0;34m*\u001b[0m\u001b[0margs\u001b[0m\u001b[0;34m,\u001b[0m \u001b[0;34m**\u001b[0m\u001b[0mkwargs\u001b[0m\u001b[0;34m)\u001b[0m\u001b[0;34m\u001b[0m\u001b[0;34m\u001b[0m\u001b[0m\n\u001b[0m\u001b[1;32m   6232\u001b[0m         \u001b[0mself\u001b[0m\u001b[0;34m.\u001b[0m\u001b[0mautoscale_view\u001b[0m\u001b[0;34m(\u001b[0m\u001b[0;34m)\u001b[0m\u001b[0;34m\u001b[0m\u001b[0;34m\u001b[0m\u001b[0m\n\u001b[1;32m   6233\u001b[0m         \u001b[0;32mreturn\u001b[0m \u001b[0mcontours\u001b[0m\u001b[0;34m\u001b[0m\u001b[0;34m\u001b[0m\u001b[0m\n",
      "\u001b[0;32m~/anaconda3/lib/python3.7/site-packages/matplotlib/contour.py\u001b[0m in \u001b[0;36m__init__\u001b[0;34m(self, ax, levels, filled, linewidths, linestyles, alpha, origin, extent, cmap, colors, norm, vmin, vmax, extend, antialiased, *args, **kwargs)\u001b[0m\n\u001b[1;32m    885\u001b[0m         \u001b[0mself\u001b[0m\u001b[0;34m.\u001b[0m\u001b[0m_transform\u001b[0m \u001b[0;34m=\u001b[0m \u001b[0mkwargs\u001b[0m\u001b[0;34m.\u001b[0m\u001b[0mpop\u001b[0m\u001b[0;34m(\u001b[0m\u001b[0;34m'transform'\u001b[0m\u001b[0;34m,\u001b[0m \u001b[0;32mNone\u001b[0m\u001b[0;34m)\u001b[0m\u001b[0;34m\u001b[0m\u001b[0;34m\u001b[0m\u001b[0m\n\u001b[1;32m    886\u001b[0m \u001b[0;34m\u001b[0m\u001b[0m\n\u001b[0;32m--> 887\u001b[0;31m         \u001b[0mkwargs\u001b[0m \u001b[0;34m=\u001b[0m \u001b[0mself\u001b[0m\u001b[0;34m.\u001b[0m\u001b[0m_process_args\u001b[0m\u001b[0;34m(\u001b[0m\u001b[0;34m*\u001b[0m\u001b[0margs\u001b[0m\u001b[0;34m,\u001b[0m \u001b[0;34m**\u001b[0m\u001b[0mkwargs\u001b[0m\u001b[0;34m)\u001b[0m\u001b[0;34m\u001b[0m\u001b[0;34m\u001b[0m\u001b[0m\n\u001b[0m\u001b[1;32m    888\u001b[0m         \u001b[0mself\u001b[0m\u001b[0;34m.\u001b[0m\u001b[0m_process_levels\u001b[0m\u001b[0;34m(\u001b[0m\u001b[0;34m)\u001b[0m\u001b[0;34m\u001b[0m\u001b[0;34m\u001b[0m\u001b[0m\n\u001b[1;32m    889\u001b[0m \u001b[0;34m\u001b[0m\u001b[0m\n",
      "\u001b[0;32m~/anaconda3/lib/python3.7/site-packages/matplotlib/contour.py\u001b[0m in \u001b[0;36m_process_args\u001b[0;34m(self, *args, **kwargs)\u001b[0m\n\u001b[1;32m   1491\u001b[0m                 \u001b[0mself\u001b[0m\u001b[0;34m.\u001b[0m\u001b[0m_corner_mask\u001b[0m \u001b[0;34m=\u001b[0m \u001b[0mmpl\u001b[0m\u001b[0;34m.\u001b[0m\u001b[0mrcParams\u001b[0m\u001b[0;34m[\u001b[0m\u001b[0;34m'contour.corner_mask'\u001b[0m\u001b[0;34m]\u001b[0m\u001b[0;34m\u001b[0m\u001b[0;34m\u001b[0m\u001b[0m\n\u001b[1;32m   1492\u001b[0m \u001b[0;34m\u001b[0m\u001b[0m\n\u001b[0;32m-> 1493\u001b[0;31m             \u001b[0mx\u001b[0m\u001b[0;34m,\u001b[0m \u001b[0my\u001b[0m\u001b[0;34m,\u001b[0m \u001b[0mz\u001b[0m \u001b[0;34m=\u001b[0m \u001b[0mself\u001b[0m\u001b[0;34m.\u001b[0m\u001b[0m_contour_args\u001b[0m\u001b[0;34m(\u001b[0m\u001b[0margs\u001b[0m\u001b[0;34m,\u001b[0m \u001b[0mkwargs\u001b[0m\u001b[0;34m)\u001b[0m\u001b[0;34m\u001b[0m\u001b[0;34m\u001b[0m\u001b[0m\n\u001b[0m\u001b[1;32m   1494\u001b[0m \u001b[0;34m\u001b[0m\u001b[0m\n\u001b[1;32m   1495\u001b[0m             \u001b[0m_mask\u001b[0m \u001b[0;34m=\u001b[0m \u001b[0mma\u001b[0m\u001b[0;34m.\u001b[0m\u001b[0mgetmask\u001b[0m\u001b[0;34m(\u001b[0m\u001b[0mz\u001b[0m\u001b[0;34m)\u001b[0m\u001b[0;34m\u001b[0m\u001b[0;34m\u001b[0m\u001b[0m\n",
      "\u001b[0;32m~/anaconda3/lib/python3.7/site-packages/matplotlib/contour.py\u001b[0m in \u001b[0;36m_contour_args\u001b[0;34m(self, args, kwargs)\u001b[0m\n\u001b[1;32m   1549\u001b[0m             \u001b[0margs\u001b[0m \u001b[0;34m=\u001b[0m \u001b[0margs\u001b[0m\u001b[0;34m[\u001b[0m\u001b[0;36m1\u001b[0m\u001b[0;34m:\u001b[0m\u001b[0;34m]\u001b[0m\u001b[0;34m\u001b[0m\u001b[0;34m\u001b[0m\u001b[0m\n\u001b[1;32m   1550\u001b[0m         \u001b[0;32melif\u001b[0m \u001b[0mNargs\u001b[0m \u001b[0;34m<=\u001b[0m \u001b[0;36m4\u001b[0m\u001b[0;34m:\u001b[0m\u001b[0;34m\u001b[0m\u001b[0;34m\u001b[0m\u001b[0m\n\u001b[0;32m-> 1551\u001b[0;31m             \u001b[0mx\u001b[0m\u001b[0;34m,\u001b[0m \u001b[0my\u001b[0m\u001b[0;34m,\u001b[0m \u001b[0mz\u001b[0m \u001b[0;34m=\u001b[0m \u001b[0mself\u001b[0m\u001b[0;34m.\u001b[0m\u001b[0m_check_xyz\u001b[0m\u001b[0;34m(\u001b[0m\u001b[0margs\u001b[0m\u001b[0;34m[\u001b[0m\u001b[0;34m:\u001b[0m\u001b[0;36m3\u001b[0m\u001b[0;34m]\u001b[0m\u001b[0;34m,\u001b[0m \u001b[0mkwargs\u001b[0m\u001b[0;34m)\u001b[0m\u001b[0;34m\u001b[0m\u001b[0;34m\u001b[0m\u001b[0m\n\u001b[0m\u001b[1;32m   1552\u001b[0m             \u001b[0margs\u001b[0m \u001b[0;34m=\u001b[0m \u001b[0margs\u001b[0m\u001b[0;34m[\u001b[0m\u001b[0;36m3\u001b[0m\u001b[0;34m:\u001b[0m\u001b[0;34m]\u001b[0m\u001b[0;34m\u001b[0m\u001b[0;34m\u001b[0m\u001b[0m\n\u001b[1;32m   1553\u001b[0m         \u001b[0;32melse\u001b[0m\u001b[0;34m:\u001b[0m\u001b[0;34m\u001b[0m\u001b[0;34m\u001b[0m\u001b[0m\n",
      "\u001b[0;32m~/anaconda3/lib/python3.7/site-packages/matplotlib/contour.py\u001b[0m in \u001b[0;36m_check_xyz\u001b[0;34m(self, args, kwargs)\u001b[0m\n\u001b[1;32m   1583\u001b[0m \u001b[0;34m\u001b[0m\u001b[0m\n\u001b[1;32m   1584\u001b[0m         \u001b[0;32mif\u001b[0m \u001b[0mz\u001b[0m\u001b[0;34m.\u001b[0m\u001b[0mndim\u001b[0m \u001b[0;34m!=\u001b[0m \u001b[0;36m2\u001b[0m\u001b[0;34m:\u001b[0m\u001b[0;34m\u001b[0m\u001b[0;34m\u001b[0m\u001b[0m\n\u001b[0;32m-> 1585\u001b[0;31m             \u001b[0;32mraise\u001b[0m \u001b[0mTypeError\u001b[0m\u001b[0;34m(\u001b[0m\u001b[0;34m\"Input z must be a 2D array.\"\u001b[0m\u001b[0;34m)\u001b[0m\u001b[0;34m\u001b[0m\u001b[0;34m\u001b[0m\u001b[0m\n\u001b[0m\u001b[1;32m   1586\u001b[0m         \u001b[0;32melif\u001b[0m \u001b[0mz\u001b[0m\u001b[0;34m.\u001b[0m\u001b[0mshape\u001b[0m\u001b[0;34m[\u001b[0m\u001b[0;36m0\u001b[0m\u001b[0;34m]\u001b[0m \u001b[0;34m<\u001b[0m \u001b[0;36m2\u001b[0m \u001b[0;32mor\u001b[0m \u001b[0mz\u001b[0m\u001b[0;34m.\u001b[0m\u001b[0mshape\u001b[0m\u001b[0;34m[\u001b[0m\u001b[0;36m1\u001b[0m\u001b[0;34m]\u001b[0m \u001b[0;34m<\u001b[0m \u001b[0;36m2\u001b[0m\u001b[0;34m:\u001b[0m\u001b[0;34m\u001b[0m\u001b[0;34m\u001b[0m\u001b[0m\n\u001b[1;32m   1587\u001b[0m             \u001b[0;32mraise\u001b[0m \u001b[0mTypeError\u001b[0m\u001b[0;34m(\u001b[0m\u001b[0;34m\"Input z must be at least a 2x2 array.\"\u001b[0m\u001b[0;34m)\u001b[0m\u001b[0;34m\u001b[0m\u001b[0;34m\u001b[0m\u001b[0m\n",
      "\u001b[0;31mTypeError\u001b[0m: Input z must be a 2D array."
     ]
    }
   ],
   "source": [
    "X, Y, Z = np.meshgrid(GENE_max_samples_IF_Shuttle, GENE_n_estimators_IF_Shuttle, GENE_roc_auc_IF_Shuttle)\n",
    "print(GENE_roc_auc_IF_Shuttle)\n",
    "ax.contour3D(X,Y,Z, 50, cmap='binary')"
   ]
  },
  {
   "cell_type": "markdown",
   "metadata": {},
   "source": [
    "### Interprétation du résultat de IsolationForest sur Shuttle"
   ]
  },
  {
   "cell_type": "markdown",
   "metadata": {},
   "source": [
    "###### Faisant varier n_estimators\n",
    "\n",
    "###### Faisant varier max_samples\n",
    "\n",
    "###### Faisant varier contamination\n",
    "\n",
    "###### Meilleure combinaison entre n_estimators et max_samples\n",
    "\n",
    "###### Meilleure combinaison entre n_estimators et contamination\n",
    "\n",
    "###### Meilleure combinaison entre max_samples et contamination\n",
    "\n",
    "###### Meilleure combinaison entre max_samples, n_estimators et contamination"
   ]
  },
  {
   "cell_type": "code",
   "execution_count": null,
   "metadata": {},
   "outputs": [],
   "source": []
  }
 ],
 "metadata": {
  "kernelspec": {
   "display_name": "Python 3",
   "language": "python",
   "name": "python3"
  },
  "language_info": {
   "codemirror_mode": {
    "name": "ipython",
    "version": 3
   },
   "file_extension": ".py",
   "mimetype": "text/x-python",
   "name": "python",
   "nbconvert_exporter": "python",
   "pygments_lexer": "ipython3",
   "version": "3.7.3"
  }
 },
 "nbformat": 4,
 "nbformat_minor": 2
}
