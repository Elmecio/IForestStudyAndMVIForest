{
 "cells": [
  {
   "cell_type": "code",
   "execution_count": 1,
   "metadata": {},
   "outputs": [],
   "source": [
    "import numpy as np\n",
    "import pandas as pd\n",
    "import matplotlib.pyplot as plt\n",
    "from time import time\n",
    "from sklearn.ensemble import IsolationForest\n",
    "from sklearn.svm import OneClassSVM\n",
    "from sklearn.neighbors import LocalOutlierFactor\n",
    "from sklearn.metrics import confusion_matrix\n",
    "from sklearn.metrics import roc_auc_score\n",
    "from matplotlib.mlab import frange\n",
    "import statistics\n",
    "from sklearn.metrics import confusion_matrix\n",
    "from sklearn.metrics import precision_score, recall_score\n",
    "from sklearn.metrics import f1_score\n",
    "from sklearn.metrics import roc_curve\n"
   ]
  },
  {
   "cell_type": "markdown",
   "metadata": {},
   "source": [
    "## Chargement du jeu de données Shuttle"
   ]
  },
  {
   "cell_type": "markdown",
   "metadata": {},
   "source": [
    "Shuttle contient 10 attributs dont le dernier est la classe à expliquer.\n",
    "Il y a 46464 observations dont 878 anormales.\n",
    "Avec le dernier attribut, nous avons les classes \"o\" pour les anomalies et \"n\" pour les observations normales."
   ]
  },
  {
   "cell_type": "code",
   "execution_count": 2,
   "metadata": {},
   "outputs": [
    {
     "data": {
      "text/html": [
       "<div>\n",
       "<style scoped>\n",
       "    .dataframe tbody tr th:only-of-type {\n",
       "        vertical-align: middle;\n",
       "    }\n",
       "\n",
       "    .dataframe tbody tr th {\n",
       "        vertical-align: top;\n",
       "    }\n",
       "\n",
       "    .dataframe thead th {\n",
       "        text-align: right;\n",
       "    }\n",
       "</style>\n",
       "<table border=\"1\" class=\"dataframe\">\n",
       "  <thead>\n",
       "    <tr style=\"text-align: right;\">\n",
       "      <th></th>\n",
       "      <th>0</th>\n",
       "      <th>1</th>\n",
       "      <th>2</th>\n",
       "      <th>3</th>\n",
       "      <th>4</th>\n",
       "      <th>5</th>\n",
       "      <th>6</th>\n",
       "      <th>7</th>\n",
       "      <th>8</th>\n",
       "    </tr>\n",
       "  </thead>\n",
       "  <tbody>\n",
       "    <tr>\n",
       "      <th>count</th>\n",
       "      <td>46464.000000</td>\n",
       "      <td>46464.000000</td>\n",
       "      <td>46464.000000</td>\n",
       "      <td>46464.000000</td>\n",
       "      <td>46464.000000</td>\n",
       "      <td>46464.000000</td>\n",
       "      <td>46464.000000</td>\n",
       "      <td>46464.000000</td>\n",
       "      <td>46464.000000</td>\n",
       "    </tr>\n",
       "    <tr>\n",
       "      <th>mean</th>\n",
       "      <td>44.775482</td>\n",
       "      <td>-0.712509</td>\n",
       "      <td>84.834108</td>\n",
       "      <td>0.279291</td>\n",
       "      <td>38.652763</td>\n",
       "      <td>2.289708</td>\n",
       "      <td>40.070334</td>\n",
       "      <td>46.180419</td>\n",
       "      <td>6.299888</td>\n",
       "    </tr>\n",
       "    <tr>\n",
       "      <th>std</th>\n",
       "      <td>8.753404</td>\n",
       "      <td>44.218007</td>\n",
       "      <td>8.731175</td>\n",
       "      <td>37.317203</td>\n",
       "      <td>15.902506</td>\n",
       "      <td>177.518356</td>\n",
       "      <td>10.969455</td>\n",
       "      <td>17.052467</td>\n",
       "      <td>15.005878</td>\n",
       "    </tr>\n",
       "    <tr>\n",
       "      <th>min</th>\n",
       "      <td>27.000000</td>\n",
       "      <td>-4475.000000</td>\n",
       "      <td>21.000000</td>\n",
       "      <td>-3939.000000</td>\n",
       "      <td>-188.000000</td>\n",
       "      <td>-12809.000000</td>\n",
       "      <td>-26.000000</td>\n",
       "      <td>-353.000000</td>\n",
       "      <td>-356.000000</td>\n",
       "    </tr>\n",
       "    <tr>\n",
       "      <th>25%</th>\n",
       "      <td>37.000000</td>\n",
       "      <td>0.000000</td>\n",
       "      <td>79.000000</td>\n",
       "      <td>0.000000</td>\n",
       "      <td>34.000000</td>\n",
       "      <td>-4.000000</td>\n",
       "      <td>34.000000</td>\n",
       "      <td>35.000000</td>\n",
       "      <td>0.000000</td>\n",
       "    </tr>\n",
       "    <tr>\n",
       "      <th>50%</th>\n",
       "      <td>43.000000</td>\n",
       "      <td>0.000000</td>\n",
       "      <td>83.000000</td>\n",
       "      <td>0.000000</td>\n",
       "      <td>42.000000</td>\n",
       "      <td>0.000000</td>\n",
       "      <td>39.000000</td>\n",
       "      <td>41.000000</td>\n",
       "      <td>2.000000</td>\n",
       "    </tr>\n",
       "    <tr>\n",
       "      <th>75%</th>\n",
       "      <td>49.000000</td>\n",
       "      <td>0.000000</td>\n",
       "      <td>87.000000</td>\n",
       "      <td>0.000000</td>\n",
       "      <td>46.000000</td>\n",
       "      <td>5.000000</td>\n",
       "      <td>43.000000</td>\n",
       "      <td>52.000000</td>\n",
       "      <td>2.000000</td>\n",
       "    </tr>\n",
       "    <tr>\n",
       "      <th>max</th>\n",
       "      <td>123.000000</td>\n",
       "      <td>1963.000000</td>\n",
       "      <td>149.000000</td>\n",
       "      <td>3830.000000</td>\n",
       "      <td>436.000000</td>\n",
       "      <td>15164.000000</td>\n",
       "      <td>105.000000</td>\n",
       "      <td>270.000000</td>\n",
       "      <td>266.000000</td>\n",
       "    </tr>\n",
       "  </tbody>\n",
       "</table>\n",
       "</div>"
      ],
      "text/plain": [
       "                  0             1             2             3             4  \\\n",
       "count  46464.000000  46464.000000  46464.000000  46464.000000  46464.000000   \n",
       "mean      44.775482     -0.712509     84.834108      0.279291     38.652763   \n",
       "std        8.753404     44.218007      8.731175     37.317203     15.902506   \n",
       "min       27.000000  -4475.000000     21.000000  -3939.000000   -188.000000   \n",
       "25%       37.000000      0.000000     79.000000      0.000000     34.000000   \n",
       "50%       43.000000      0.000000     83.000000      0.000000     42.000000   \n",
       "75%       49.000000      0.000000     87.000000      0.000000     46.000000   \n",
       "max      123.000000   1963.000000    149.000000   3830.000000    436.000000   \n",
       "\n",
       "                  5             6             7             8  \n",
       "count  46464.000000  46464.000000  46464.000000  46464.000000  \n",
       "mean       2.289708     40.070334     46.180419      6.299888  \n",
       "std      177.518356     10.969455     17.052467     15.005878  \n",
       "min   -12809.000000    -26.000000   -353.000000   -356.000000  \n",
       "25%       -4.000000     34.000000     35.000000      0.000000  \n",
       "50%        0.000000     39.000000     41.000000      2.000000  \n",
       "75%        5.000000     43.000000     52.000000      2.000000  \n",
       "max    15164.000000    105.000000    270.000000    266.000000  "
      ]
     },
     "execution_count": 2,
     "metadata": {},
     "output_type": "execute_result"
    }
   ],
   "source": [
    "data_brut_Shuttle = pd.read_csv('/Users/thesard/Doctorat/These2018/ISEP/Developpements/EspaceIntelliJ/LearningAllInPython/Learning_IHM_Features/datasets/imported_datasets/shuttle-unsupervised-ad_2019-06-14 17:33:02.493755.csv', header=None, index_col=None)\n",
    "X_Shuttle = data_brut_Shuttle[[0, 1, 2, 3, 4, 5, 6, 7, 8]]\n",
    "y_brut_Shuttle = data_brut_Shuttle[[9]]\n",
    "data_brut_Shuttle.describe()"
   ]
  },
  {
   "cell_type": "markdown",
   "metadata": {},
   "source": [
    "## Chargement du jeu de données KDD99-Cup HTTP"
   ]
  },
  {
   "cell_type": "markdown",
   "metadata": {},
   "source": [
    "KDD99-Cup HTTP contient 30 attributs dont le dernier est la classe à expliquer.\n",
    "Il y a 620098 observations dont 1052 anormales.\n",
    "Avec le dernier attribut, nous avons les classes \"o\" pour les anomalies et \"n\" pour les observations normales."
   ]
  },
  {
   "cell_type": "code",
   "execution_count": 3,
   "metadata": {},
   "outputs": [
    {
     "data": {
      "text/html": [
       "<div>\n",
       "<style scoped>\n",
       "    .dataframe tbody tr th:only-of-type {\n",
       "        vertical-align: middle;\n",
       "    }\n",
       "\n",
       "    .dataframe tbody tr th {\n",
       "        vertical-align: top;\n",
       "    }\n",
       "\n",
       "    .dataframe thead th {\n",
       "        text-align: right;\n",
       "    }\n",
       "</style>\n",
       "<table border=\"1\" class=\"dataframe\">\n",
       "  <thead>\n",
       "    <tr style=\"text-align: right;\">\n",
       "      <th></th>\n",
       "      <th>0</th>\n",
       "      <th>1</th>\n",
       "      <th>2</th>\n",
       "      <th>3</th>\n",
       "      <th>4</th>\n",
       "      <th>5</th>\n",
       "      <th>6</th>\n",
       "      <th>7</th>\n",
       "      <th>8</th>\n",
       "      <th>9</th>\n",
       "      <th>...</th>\n",
       "      <th>19</th>\n",
       "      <th>20</th>\n",
       "      <th>21</th>\n",
       "      <th>22</th>\n",
       "      <th>23</th>\n",
       "      <th>24</th>\n",
       "      <th>25</th>\n",
       "      <th>26</th>\n",
       "      <th>27</th>\n",
       "      <th>28</th>\n",
       "    </tr>\n",
       "  </thead>\n",
       "  <tbody>\n",
       "    <tr>\n",
       "      <th>count</th>\n",
       "      <td>620098.000000</td>\n",
       "      <td>620098.000000</td>\n",
       "      <td>6.200980e+05</td>\n",
       "      <td>620098.000000</td>\n",
       "      <td>620098.000000</td>\n",
       "      <td>620098.000000</td>\n",
       "      <td>620098.000000</td>\n",
       "      <td>620098.000000</td>\n",
       "      <td>620098.000000</td>\n",
       "      <td>620098.000000</td>\n",
       "      <td>...</td>\n",
       "      <td>620098.000000</td>\n",
       "      <td>620098.000000</td>\n",
       "      <td>620098.000000</td>\n",
       "      <td>620098.000000</td>\n",
       "      <td>620098.000000</td>\n",
       "      <td>620098.000000</td>\n",
       "      <td>620098.000000</td>\n",
       "      <td>620098.000000</td>\n",
       "      <td>620098.000000</td>\n",
       "      <td>620098.000000</td>\n",
       "    </tr>\n",
       "    <tr>\n",
       "      <th>mean</th>\n",
       "      <td>0.627670</td>\n",
       "      <td>280.374673</td>\n",
       "      <td>4.099298e+03</td>\n",
       "      <td>0.005012</td>\n",
       "      <td>0.912428</td>\n",
       "      <td>0.000947</td>\n",
       "      <td>0.000318</td>\n",
       "      <td>0.000013</td>\n",
       "      <td>0.000010</td>\n",
       "      <td>0.005409</td>\n",
       "      <td>...</td>\n",
       "      <td>127.698101</td>\n",
       "      <td>244.485422</td>\n",
       "      <td>0.996744</td>\n",
       "      <td>0.000796</td>\n",
       "      <td>0.074723</td>\n",
       "      <td>0.031820</td>\n",
       "      <td>0.001920</td>\n",
       "      <td>0.001473</td>\n",
       "      <td>0.087651</td>\n",
       "      <td>0.086732</td>\n",
       "    </tr>\n",
       "    <tr>\n",
       "      <th>std</th>\n",
       "      <td>53.972528</td>\n",
       "      <td>1509.901935</td>\n",
       "      <td>2.369388e+04</td>\n",
       "      <td>0.098271</td>\n",
       "      <td>0.282671</td>\n",
       "      <td>0.045654</td>\n",
       "      <td>0.017821</td>\n",
       "      <td>0.003592</td>\n",
       "      <td>0.003111</td>\n",
       "      <td>0.073346</td>\n",
       "      <td>...</td>\n",
       "      <td>105.897233</td>\n",
       "      <td>40.458619</td>\n",
       "      <td>0.033137</td>\n",
       "      <td>0.009522</td>\n",
       "      <td>0.185812</td>\n",
       "      <td>0.050689</td>\n",
       "      <td>0.030694</td>\n",
       "      <td>0.028037</td>\n",
       "      <td>0.274777</td>\n",
       "      <td>0.268543</td>\n",
       "    </tr>\n",
       "    <tr>\n",
       "      <th>min</th>\n",
       "      <td>0.000000</td>\n",
       "      <td>0.000000</td>\n",
       "      <td>0.000000e+00</td>\n",
       "      <td>0.000000</td>\n",
       "      <td>0.000000</td>\n",
       "      <td>0.000000</td>\n",
       "      <td>0.000000</td>\n",
       "      <td>0.000000</td>\n",
       "      <td>0.000000</td>\n",
       "      <td>0.000000</td>\n",
       "      <td>...</td>\n",
       "      <td>0.000000</td>\n",
       "      <td>0.000000</td>\n",
       "      <td>0.000000</td>\n",
       "      <td>0.000000</td>\n",
       "      <td>0.000000</td>\n",
       "      <td>0.000000</td>\n",
       "      <td>0.000000</td>\n",
       "      <td>0.000000</td>\n",
       "      <td>0.000000</td>\n",
       "      <td>0.000000</td>\n",
       "    </tr>\n",
       "    <tr>\n",
       "      <th>25%</th>\n",
       "      <td>0.000000</td>\n",
       "      <td>210.000000</td>\n",
       "      <td>4.580000e+02</td>\n",
       "      <td>0.000000</td>\n",
       "      <td>1.000000</td>\n",
       "      <td>0.000000</td>\n",
       "      <td>0.000000</td>\n",
       "      <td>0.000000</td>\n",
       "      <td>0.000000</td>\n",
       "      <td>0.000000</td>\n",
       "      <td>...</td>\n",
       "      <td>22.000000</td>\n",
       "      <td>255.000000</td>\n",
       "      <td>1.000000</td>\n",
       "      <td>0.000000</td>\n",
       "      <td>0.000000</td>\n",
       "      <td>0.000000</td>\n",
       "      <td>0.000000</td>\n",
       "      <td>0.000000</td>\n",
       "      <td>0.000000</td>\n",
       "      <td>0.000000</td>\n",
       "    </tr>\n",
       "    <tr>\n",
       "      <th>50%</th>\n",
       "      <td>0.000000</td>\n",
       "      <td>240.000000</td>\n",
       "      <td>1.425000e+03</td>\n",
       "      <td>0.000000</td>\n",
       "      <td>1.000000</td>\n",
       "      <td>0.000000</td>\n",
       "      <td>0.000000</td>\n",
       "      <td>0.000000</td>\n",
       "      <td>0.000000</td>\n",
       "      <td>0.000000</td>\n",
       "      <td>...</td>\n",
       "      <td>96.000000</td>\n",
       "      <td>255.000000</td>\n",
       "      <td>1.000000</td>\n",
       "      <td>0.000000</td>\n",
       "      <td>0.010000</td>\n",
       "      <td>0.020000</td>\n",
       "      <td>0.000000</td>\n",
       "      <td>0.000000</td>\n",
       "      <td>0.000000</td>\n",
       "      <td>0.000000</td>\n",
       "    </tr>\n",
       "    <tr>\n",
       "      <th>75%</th>\n",
       "      <td>0.000000</td>\n",
       "      <td>302.000000</td>\n",
       "      <td>3.731000e+03</td>\n",
       "      <td>0.000000</td>\n",
       "      <td>1.000000</td>\n",
       "      <td>0.000000</td>\n",
       "      <td>0.000000</td>\n",
       "      <td>0.000000</td>\n",
       "      <td>0.000000</td>\n",
       "      <td>0.000000</td>\n",
       "      <td>...</td>\n",
       "      <td>255.000000</td>\n",
       "      <td>255.000000</td>\n",
       "      <td>1.000000</td>\n",
       "      <td>0.000000</td>\n",
       "      <td>0.050000</td>\n",
       "      <td>0.040000</td>\n",
       "      <td>0.000000</td>\n",
       "      <td>0.000000</td>\n",
       "      <td>0.000000</td>\n",
       "      <td>0.000000</td>\n",
       "    </tr>\n",
       "    <tr>\n",
       "      <th>max</th>\n",
       "      <td>41065.000000</td>\n",
       "      <td>54540.000000</td>\n",
       "      <td>1.173059e+07</td>\n",
       "      <td>21.000000</td>\n",
       "      <td>1.000000</td>\n",
       "      <td>21.000000</td>\n",
       "      <td>1.000000</td>\n",
       "      <td>1.000000</td>\n",
       "      <td>1.000000</td>\n",
       "      <td>1.000000</td>\n",
       "      <td>...</td>\n",
       "      <td>255.000000</td>\n",
       "      <td>255.000000</td>\n",
       "      <td>1.000000</td>\n",
       "      <td>1.000000</td>\n",
       "      <td>1.000000</td>\n",
       "      <td>1.000000</td>\n",
       "      <td>1.000000</td>\n",
       "      <td>1.000000</td>\n",
       "      <td>1.000000</td>\n",
       "      <td>1.000000</td>\n",
       "    </tr>\n",
       "  </tbody>\n",
       "</table>\n",
       "<p>8 rows × 29 columns</p>\n",
       "</div>"
      ],
      "text/plain": [
       "                  0              1             2              3   \\\n",
       "count  620098.000000  620098.000000  6.200980e+05  620098.000000   \n",
       "mean        0.627670     280.374673  4.099298e+03       0.005012   \n",
       "std        53.972528    1509.901935  2.369388e+04       0.098271   \n",
       "min         0.000000       0.000000  0.000000e+00       0.000000   \n",
       "25%         0.000000     210.000000  4.580000e+02       0.000000   \n",
       "50%         0.000000     240.000000  1.425000e+03       0.000000   \n",
       "75%         0.000000     302.000000  3.731000e+03       0.000000   \n",
       "max     41065.000000   54540.000000  1.173059e+07      21.000000   \n",
       "\n",
       "                  4              5              6              7   \\\n",
       "count  620098.000000  620098.000000  620098.000000  620098.000000   \n",
       "mean        0.912428       0.000947       0.000318       0.000013   \n",
       "std         0.282671       0.045654       0.017821       0.003592   \n",
       "min         0.000000       0.000000       0.000000       0.000000   \n",
       "25%         1.000000       0.000000       0.000000       0.000000   \n",
       "50%         1.000000       0.000000       0.000000       0.000000   \n",
       "75%         1.000000       0.000000       0.000000       0.000000   \n",
       "max         1.000000      21.000000       1.000000       1.000000   \n",
       "\n",
       "                  8              9   ...             19             20  \\\n",
       "count  620098.000000  620098.000000  ...  620098.000000  620098.000000   \n",
       "mean        0.000010       0.005409  ...     127.698101     244.485422   \n",
       "std         0.003111       0.073346  ...     105.897233      40.458619   \n",
       "min         0.000000       0.000000  ...       0.000000       0.000000   \n",
       "25%         0.000000       0.000000  ...      22.000000     255.000000   \n",
       "50%         0.000000       0.000000  ...      96.000000     255.000000   \n",
       "75%         0.000000       0.000000  ...     255.000000     255.000000   \n",
       "max         1.000000       1.000000  ...     255.000000     255.000000   \n",
       "\n",
       "                  21             22             23             24  \\\n",
       "count  620098.000000  620098.000000  620098.000000  620098.000000   \n",
       "mean        0.996744       0.000796       0.074723       0.031820   \n",
       "std         0.033137       0.009522       0.185812       0.050689   \n",
       "min         0.000000       0.000000       0.000000       0.000000   \n",
       "25%         1.000000       0.000000       0.000000       0.000000   \n",
       "50%         1.000000       0.000000       0.010000       0.020000   \n",
       "75%         1.000000       0.000000       0.050000       0.040000   \n",
       "max         1.000000       1.000000       1.000000       1.000000   \n",
       "\n",
       "                  25             26             27             28  \n",
       "count  620098.000000  620098.000000  620098.000000  620098.000000  \n",
       "mean        0.001920       0.001473       0.087651       0.086732  \n",
       "std         0.030694       0.028037       0.274777       0.268543  \n",
       "min         0.000000       0.000000       0.000000       0.000000  \n",
       "25%         0.000000       0.000000       0.000000       0.000000  \n",
       "50%         0.000000       0.000000       0.000000       0.000000  \n",
       "75%         0.000000       0.000000       0.000000       0.000000  \n",
       "max         1.000000       1.000000       1.000000       1.000000  \n",
       "\n",
       "[8 rows x 29 columns]"
      ]
     },
     "execution_count": 3,
     "metadata": {},
     "output_type": "execute_result"
    }
   ],
   "source": [
    "data_brut_KDD99CUP = pd.read_csv('/Users/thesard/Doctorat/These2018/ISEP/Developpements/EspaceIntelliJ/LearningAllInPython/Learning_IHM_Features/datasets/imported_datasets/kdd99-unsupervised-ad_2019-06-24 16:08:29.815617.csv', header=None, index_col=None)\n",
    "X_KDD99CUP = data_brut_KDD99CUP[[0, 1, 2, 3, 4, 5, 6, 7, 8, 9, 10, 11, 12, 13 ,14, 15, 16, 17, 18, 19, 20, 21, 22, 23, 24, 25, 26, 27, 28]]\n",
    "y_brut_KDD99CUP = data_brut_KDD99CUP[[29]]\n",
    "data_brut_KDD99CUP.describe()"
   ]
  },
  {
   "cell_type": "markdown",
   "metadata": {},
   "source": [
    "## Transformation de la classe à expliquer"
   ]
  },
  {
   "cell_type": "markdown",
   "metadata": {},
   "source": [
    "L'objectif ici est de remplacer les \"o\" par -1 et les \"n\" par 1 afin de faire les matrices de confusion avec la fonction dédiée de scikit-learn."
   ]
  },
  {
   "cell_type": "code",
   "execution_count": 4,
   "metadata": {},
   "outputs": [],
   "source": [
    "y_transform_Shuttle = y_brut_Shuttle\n",
    "y_transform_Shuttle = np.where(y_transform_Shuttle=='o',-1,1)\n",
    "#y_transform\n",
    "y_transform_KDD99CUP = y_brut_KDD99CUP\n",
    "y_transform_KDD99CUP = np.where(y_transform_KDD99CUP=='o',-1,1)\n",
    "#y_transform_KDD99CUP"
   ]
  },
  {
   "cell_type": "markdown",
   "metadata": {},
   "source": [
    "## Shuttle"
   ]
  },
  {
   "cell_type": "markdown",
   "metadata": {},
   "source": [
    "### Exécution de Isolation Forest sur le jeux de données Shuttle en faisant varier n_estimators"
   ]
  },
  {
   "cell_type": "code",
   "execution_count": 1,
   "metadata": {
    "scrolled": false
   },
   "outputs": [
    {
     "name": "stdout",
     "output_type": "stream",
     "text": [
      "n_estimators = 5\n"
     ]
    },
    {
     "ename": "NameError",
     "evalue": "name 'time' is not defined",
     "output_type": "error",
     "traceback": [
      "\u001b[0;31m---------------------------------------------------------------------------\u001b[0m",
      "\u001b[0;31mNameError\u001b[0m                                 Traceback (most recent call last)",
      "\u001b[0;32m<ipython-input-1-92d0a0b2a93f>\u001b[0m in \u001b[0;36m<module>\u001b[0;34m\u001b[0m\n\u001b[1;32m      5\u001b[0m     \u001b[0mprint\u001b[0m\u001b[0;34m(\u001b[0m\u001b[0;34m\"n_estimators = \"\u001b[0m\u001b[0;34m+\u001b[0m\u001b[0mstr\u001b[0m\u001b[0;34m(\u001b[0m\u001b[0mj\u001b[0m\u001b[0;34m)\u001b[0m\u001b[0;34m)\u001b[0m\u001b[0;34m\u001b[0m\u001b[0;34m\u001b[0m\u001b[0m\n\u001b[1;32m      6\u001b[0m     \u001b[0mn_estimators\u001b[0m \u001b[0;34m=\u001b[0m \u001b[0mj\u001b[0m\u001b[0;34m\u001b[0m\u001b[0;34m\u001b[0m\u001b[0m\n\u001b[0;32m----> 7\u001b[0;31m     \u001b[0mstart_IF_Shuttle\u001b[0m \u001b[0;34m=\u001b[0m \u001b[0mtime\u001b[0m\u001b[0;34m(\u001b[0m\u001b[0;34m)\u001b[0m\u001b[0;34m\u001b[0m\u001b[0;34m\u001b[0m\u001b[0m\n\u001b[0m\u001b[1;32m      8\u001b[0m \u001b[0;34m\u001b[0m\u001b[0m\n\u001b[1;32m      9\u001b[0m     \u001b[0;31m# Instanciation, fit and predict on Shuttle\u001b[0m\u001b[0;34m\u001b[0m\u001b[0;34m\u001b[0m\u001b[0;34m\u001b[0m\u001b[0m\n",
      "\u001b[0;31mNameError\u001b[0m: name 'time' is not defined"
     ]
    }
   ],
   "source": [
    "executions_time_IF_Shuttle = []\n",
    "roc_auc_IF_Shuttle = []\n",
    "\n",
    "for j in range(5, 1000, 5):\n",
    "    print(\"n_estimators = \"+str(j))\n",
    "    n_estimators = j\n",
    "    start_IF_Shuttle = time()\n",
    "        \n",
    "    # Instanciation, fit and predict on Shuttle\n",
    "    func_IF_Shuttle = IsolationForest(n_estimators=n_estimators, behaviour=\"new\")\n",
    "    func_IF_Shuttle.fit(X_Shuttle)\n",
    "    y_pred_IF_Shuttle = func_IF_Shuttle.predict(X_Shuttle)\n",
    "\n",
    "    # Calcul du temps d'exécution\n",
    "    exec_time_IF_Shuttle = time() - start_IF_Shuttle\n",
    "    executions_time_IF_Shuttle.append(exec_time_IF_Shuttle)\n",
    "\n",
    "    # Calcul de l'aire sous la courbe ROC\n",
    "    auc_IF_Shuttle = roc_auc_score(y_transform_Shuttle, y_pred_IF_Shuttle)\n",
    "    roc_auc_IF_Shuttle.append(auc_IF_Shuttle)\n",
    "        \n",
    "    print(\"Execution time of IsolationForest applied on Shuttle (in second)\")\n",
    "    print(executions_time_IF_Shuttle)\n",
    "    print(\"ROC AUC for Isolation Forest applied on Shuttle\")\n",
    "    print(roc_auc_IF_Shuttle)"
   ]
  },
  {
   "cell_type": "markdown",
   "metadata": {},
   "source": [
    "### Résultat de Isolation Forest sur Shuttle"
   ]
  },
  {
   "cell_type": "code",
   "execution_count": 7,
   "metadata": {},
   "outputs": [
    {
     "name": "stdout",
     "output_type": "stream",
     "text": [
      "Execution time of IsolationForest applied on Shuttle (in second)\n",
      "[0.24536418914794922, 0.332690954208374, 0.48269224166870117, 0.722074031829834, 0.7763268947601318, 0.905224084854126, 1.2363059520721436, 1.5575308799743652, 1.5550038814544678, 1.5369060039520264, 2.1110470294952393, 2.288323163986206, 2.3254199028015137, 2.145375967025757, 2.4024460315704346, 2.9633030891418457, 2.980059862136841, 2.8380463123321533, 2.9813971519470215, 3.307079792022705, 3.5009210109710693, 3.393479108810425, 3.629136323928833, 3.9548158645629883, 4.056006908416748, 4.172553062438965, 4.549293041229248, 4.764187812805176, 4.781177997589111, 4.96786093711853, 5.004274845123291, 5.063651084899902, 5.32762885093689, 5.454889297485352, 6.507574081420898, 5.7891151905059814, 5.957748889923096, 6.0560808181762695, 5.8936851024627686, 6.11607813835144, 6.58735728263855, 6.253261089324951, 6.471830129623413, 6.646120071411133, 6.9731528759002686, 7.158926010131836, 8.852635860443115, 8.055155992507935, 7.70622992515564, 8.367048978805542, 8.06566596031189, 8.23666787147522, 8.479541063308716, 8.468785047531128, 8.892313718795776, 9.438982725143433, 11.018189191818237, 9.25310230255127, 9.376246690750122, 9.831098079681396, 9.91190505027771, 10.112539768218994, 10.807185173034668, 10.900999307632446, 10.144798994064331, 11.008489847183228, 12.647381782531738, 16.299760818481445, 11.382691860198975, 11.230533838272095, 11.158849000930786, 11.447819709777832, 11.207365036010742, 11.384398937225342, 11.515251874923706, 12.763867139816284, 13.456293106079102, 12.963468074798584, 13.17409896850586, 13.690584897994995, 12.970233678817749, 13.030972003936768, 12.741376161575317, 13.984856128692627, 13.165212869644165, 13.447691917419434, 13.84422492980957, 13.560308933258057, 13.580851078033447, 13.706963777542114, 14.000363111495972, 14.081804037094116, 14.771615982055664, 14.320794105529785, 14.55191683769226, 14.569055318832397, 16.368089199066162, 16.952635288238525, 15.99558687210083, 16.55589485168457, 17.36062502861023, 16.443964958190918, 17.250035047531128, 16.509536027908325, 16.24770712852478, 16.96969699859619, 18.215059757232666, 16.760823011398315, 17.052892923355103, 18.08997392654419, 18.355841875076294, 20.837840795516968, 19.536519765853882, 22.39349102973938, 20.196980237960815, 19.891064643859863, 18.694541931152344, 18.714150190353394, 19.123332738876343, 19.81492590904236, 19.095470190048218, 18.805206775665283, 18.904659032821655, 19.435408115386963, 20.50050115585327, 20.414186000823975, 19.892786026000977, 23.485949993133545, 22.53092312812805, 22.708251953125, 21.095307111740112, 23.722731113433838, 21.13405704498291, 23.54651117324829, 21.37346577644348, 20.663990020751953, 20.3454110622406, 20.641748905181885, 439.22553300857544, 23.952603340148926, 2014.2519500255585, 24.10239315032959, 27.07027006149292, 24.003593921661377, 22.594635009765625, 22.492529153823853, 22.609174966812134, 23.2807879447937, 25.84640407562256, 23.456417083740234, 23.41951608657837, 23.45969581604004, 23.494038105010986, 23.90293598175049, 24.463054180145264, 24.01486897468567, 24.159888982772827, 24.856433153152466, 27.90251588821411, 26.582478761672974, 27.29633903503418, 28.17182493209839, 27.269443035125732, 27.61564803123474, 28.5544593334198, 25.51797890663147, 31.934131860733032, 29.010174989700317, 36.3075430393219, 28.851989030838013, 29.86818504333496, 30.399200916290283, 27.45030903816223, 28.588154077529907, 28.53956127166748, 29.25353193283081, 28.24970507621765, 28.940825939178467, 29.433878660202026, 28.653096914291382, 29.017450094223022, 28.83885884284973, 29.406455993652344, 31.01478600502014, 28.717625856399536, 29.105753183364868, 29.84490990638733, 32.46728515625, 31.980792999267578, 30.890794038772583, 32.69429874420166, 30.069178104400635, 32.33640503883362, 30.853792905807495, 30.651952981948853, 31.90083408355713, 31.18493103981018, 32.95112609863281, 36.7253680229187]\n",
      "La valeur max est 2014.2519500255585 à l'index 140\n"
     ]
    },
    {
     "data": {
      "image/png": "[encoded data removed]",
      "text/plain": [
       "<Figure size 432x288 with 1 Axes>"
      ]
     },
     "metadata": {
      "needs_background": "light"
     },
     "output_type": "display_data"
    }
   ],
   "source": [
    "print(\"Execution time of IsolationForest applied on Shuttle (in second)\")\n",
    "print(executions_time_IF_Shuttle)\n",
    "print(\"La valeur max est \"+str(max(executions_time_IF_Shuttle))+\" à l'index \"+str(executions_time_IF_Shuttle.index(max(executions_time_IF_Shuttle))))\n",
    "plt.plot(range(5, 1000, 5), executions_time_IF_Shuttle,  \"g-\", label=\"IForest on Shuttle\")\n",
    "plt.xlabel('n_estimators')\n",
    "plt.ylabel('Execution time')\n",
    "plt.legend(loc=\"best\")\n",
    "plt.show()"
   ]
  },
  {
   "cell_type": "code",
   "execution_count": 10,
   "metadata": {},
   "outputs": [
    {
     "name": "stdout",
     "output_type": "stream",
     "text": [
      "ROC AUC for Isolation Forest applied on Shuttle\n",
      "[0.9501184124486927, 0.949373443890928, 0.9511586500950867, 0.9499538882526675, 0.9516952213378863, 0.9511147769761468, 0.9482125551674488, 0.9540169987848446, 0.9493953804503981, 0.9516952213378863, 0.9511257452558817, 0.95344752270284, 0.9522756656996257, 0.949340539051723, 0.9534365544231049, 0.954597443146584, 0.9505343326144072, 0.9487929995291885, 0.9505343326144072, 0.9511147769761468, 0.9511147769761468, 0.9511147769761468, 0.9522756656996257, 0.9540169987848446, 0.9534365544231049, 0.9499538882526675, 0.9511147769761468, 0.9528561100613655, 0.9540169987848446, 0.949373443890928, 0.9511147769761468, 0.9511147769761468, 0.9511147769761468, 0.9505343326144072, 0.9511147769761468, 0.9534365544231049, 0.9499538882526675, 0.9505343326144072, 0.9516952213378863, 0.9528561100613655, 0.9522756656996257, 0.9505343326144072, 0.9522756656996257, 0.9511147769761468, 0.9516952213378863, 0.9511147769761468, 0.9534365544231049, 0.9528561100613655, 0.9522756656996257, 0.9511147769761468, 0.9516952213378863, 0.9516952213378863, 0.9522756656996257, 0.9516952213378863, 0.9516952213378863, 0.9522756656996257, 0.9516952213378863, 0.9505343326144072, 0.9505343326144072, 0.9522756656996257, 0.9511147769761468, 0.9534365544231049, 0.9522756656996257, 0.9516952213378863, 0.9516952213378863, 0.9522756656996257, 0.9522756656996257, 0.9516952213378863, 0.9516952213378863, 0.954597443146584, 0.9516952213378863, 0.9540169987848446, 0.9511147769761468, 0.9528561100613655, 0.9505343326144072, 0.954597443146584, 0.9528561100613655, 0.9522756656996257, 0.9516952213378863, 0.9522756656996257, 0.9516952213378863, 0.9499538882526675, 0.9511147769761468, 0.9528561100613655, 0.9511147769761468, 0.9516952213378863, 0.9516952213378863, 0.9522756656996257, 0.9522756656996257, 0.9516952213378863, 0.9534365544231049, 0.9522756656996257, 0.9511147769761468, 0.9511147769761468, 0.9511147769761468, 0.9516952213378863, 0.9522756656996257, 0.9516952213378863, 0.9505343326144072, 0.9522756656996257, 0.9516952213378863, 0.9516952213378863, 0.9516952213378863, 0.9522756656996257, 0.9516952213378863, 0.9516952213378863, 0.9516952213378863, 0.9528561100613655, 0.9516952213378863, 0.9522756656996257, 0.9528561100613655, 0.9522756656996257, 0.9516952213378863, 0.9534365544231049, 0.9516952213378863, 0.9522756656996257, 0.9528561100613655, 0.9516952213378863, 0.9516952213378863, 0.9511147769761468, 0.9511147769761468, 0.9516952213378863, 0.9528561100613655, 0.9511147769761468, 0.9516952213378863, 0.9522756656996257, 0.9516952213378863, 0.9522756656996257, 0.9522756656996257, 0.9522756656996257, 0.9528561100613655, 0.9522756656996257, 0.9516952213378863, 0.9516952213378863, 0.9522756656996257, 0.9511147769761468, 0.9511147769761468, 0.9522756656996257, 0.9522756656996257, 0.9516952213378863, 0.9511147769761468, 0.9522756656996257, 0.9522756656996257, 0.9522756656996257, 0.9522756656996257, 0.9516952213378863, 0.9516952213378863, 0.9511147769761468, 0.9516952213378863, 0.9528561100613655, 0.9516952213378863, 0.9511147769761468, 0.9522756656996257, 0.9516952213378863, 0.9528561100613655, 0.9511147769761468, 0.9511147769761468, 0.9516952213378863, 0.9516952213378863, 0.9522756656996257, 0.9522756656996257, 0.9516952213378863, 0.9516952213378863, 0.9522756656996257, 0.9511147769761468, 0.9522756656996257, 0.9528561100613655, 0.9522756656996257, 0.9516952213378863, 0.9516952213378863, 0.9505343326144072, 0.9516952213378863, 0.9522756656996257, 0.9516952213378863, 0.9516952213378863, 0.9516952213378863, 0.9511147769761468, 0.9522756656996257, 0.9511147769761468, 0.9505343326144072, 0.9528561100613655, 0.9534365544231049, 0.9516952213378863, 0.9516952213378863, 0.9522756656996257, 0.9522756656996257, 0.9522756656996257, 0.9522756656996257, 0.9516952213378863, 0.9505343326144072, 0.9516952213378863, 0.9534365544231049, 0.9516952213378863, 0.9516952213378863, 0.9516952213378863, 0.9511147769761468, 0.9516952213378863, 0.9516952213378863, 0.9516952213378863]\n",
      "La valeur max est 0.954597443146584 à l'index 15\n"
     ]
    },
    {
     "data": {
      "image/png": "[encoded data removed]",
      "text/plain": [
       "<Figure size 432x288 with 1 Axes>"
      ]
     },
     "metadata": {
      "needs_background": "light"
     },
     "output_type": "display_data"
    }
   ],
   "source": [
    "print(\"ROC AUC for Isolation Forest applied on Shuttle\")\n",
    "print(roc_auc_IF_Shuttle)\n",
    "print(\"La valeur max est \"+str(max(roc_auc_IF_Shuttle))+\" à l'index \"+str(roc_auc_IF_Shuttle.index(max(roc_auc_IF_Shuttle))))\n",
    "plt.plot(range(5, 1000, 5), roc_auc_IF_Shuttle,  \"g-\", label=\"ROC AUC of IForest on Shuttle\")\n",
    "plt.xlabel('n_estimators')\n",
    "plt.ylabel('AUC')\n",
    "plt.legend(loc=\"best\")\n",
    "plt.show()"
   ]
  },
  {
   "cell_type": "markdown",
   "metadata": {},
   "source": [
    "### Résultat\n",
    "###### Faisant varier n_estimators et max_samples = 256, contamination = 0,1\n",
    "L'augmentation du nombre d'arbres augmente le temps d'exécution. L'écart est léger \n",
    "la AUC est aléatoire avec quelques pics. \n",
    "Quelque soit le nombre d'estimateur, la AUC > 0,94\n",
    "\n",
    "Meilleure estimation :\n",
    "    - Temps   = 2.9633030891418457\n",
    "    - ROC AUC = 0.954597443146584 à n_estimators : 80 ==> 15 * 5 + 5\n",
    "\n",
    "Le nombre d'estimateur a une influence sur la performance de IForest pouvant l'améliorer comme la détérioré. Cela s'explique par le caractère aléatoire de la construction de l'arbre."
   ]
  },
  {
   "cell_type": "markdown",
   "metadata": {},
   "source": [
    "### Exécution de Isolation Forest sur le jeux de données Shuttle en faisant varier max_samples"
   ]
  },
  {
   "cell_type": "code",
   "execution_count": 2,
   "metadata": {},
   "outputs": [
    {
     "ename": "NameError",
     "evalue": "name 'X_Shuttle' is not defined",
     "output_type": "error",
     "traceback": [
      "\u001b[0;31m---------------------------------------------------------------------------\u001b[0m",
      "\u001b[0;31mNameError\u001b[0m                                 Traceback (most recent call last)",
      "\u001b[0;32m<ipython-input-2-7f4efe25dfd9>\u001b[0m in \u001b[0;36m<module>\u001b[0;34m\u001b[0m\n\u001b[1;32m      2\u001b[0m \u001b[0mroc_auc_IF_Shuttle\u001b[0m \u001b[0;34m=\u001b[0m \u001b[0;34m[\u001b[0m\u001b[0;34m]\u001b[0m\u001b[0;34m\u001b[0m\u001b[0;34m\u001b[0m\u001b[0m\n\u001b[1;32m      3\u001b[0m \u001b[0;34m\u001b[0m\u001b[0m\n\u001b[0;32m----> 4\u001b[0;31m \u001b[0;32mfor\u001b[0m \u001b[0mj\u001b[0m \u001b[0;32min\u001b[0m \u001b[0mrange\u001b[0m\u001b[0;34m(\u001b[0m\u001b[0;36m10\u001b[0m\u001b[0;34m,\u001b[0m \u001b[0mlen\u001b[0m\u001b[0;34m(\u001b[0m\u001b[0mX_Shuttle\u001b[0m\u001b[0;34m)\u001b[0m\u001b[0;34m,\u001b[0m \u001b[0;36m100\u001b[0m\u001b[0;34m)\u001b[0m\u001b[0;34m:\u001b[0m\u001b[0;34m\u001b[0m\u001b[0;34m\u001b[0m\u001b[0m\n\u001b[0m\u001b[1;32m      5\u001b[0m     \u001b[0mprint\u001b[0m\u001b[0;34m(\u001b[0m\u001b[0;34m\"max_samples = \"\u001b[0m\u001b[0;34m+\u001b[0m\u001b[0mstr\u001b[0m\u001b[0;34m(\u001b[0m\u001b[0mj\u001b[0m\u001b[0;34m)\u001b[0m\u001b[0;34m)\u001b[0m\u001b[0;34m\u001b[0m\u001b[0;34m\u001b[0m\u001b[0m\n\u001b[1;32m      6\u001b[0m     \u001b[0mmax_samples\u001b[0m \u001b[0;34m=\u001b[0m \u001b[0mj\u001b[0m\u001b[0;34m\u001b[0m\u001b[0;34m\u001b[0m\u001b[0m\n",
      "\u001b[0;31mNameError\u001b[0m: name 'X_Shuttle' is not defined"
     ]
    }
   ],
   "source": [
    "executions_time_IF_Shuttle = []\n",
    "roc_auc_IF_Shuttle = []\n",
    "\n",
    "for j in range(10, len(X_Shuttle), 100):\n",
    "    print(\"max_samples = \"+str(j))\n",
    "    max_samples = j\n",
    "    start_IF_Shuttle = time()\n",
    "        \n",
    "    # Instanciation, fit and predict on Shuttle\n",
    "    func_IF_Shuttle = IsolationForest(max_samples=max_samples, behaviour=\"new\")\n",
    "    func_IF_Shuttle.fit(X_Shuttle)\n",
    "    y_pred_IF_Shuttle = func_IF_Shuttle.predict(X_Shuttle)\n",
    "\n",
    "    # Calcul du temps d'exécution\n",
    "    exec_time_IF_Shuttle = time() - start_IF_Shuttle\n",
    "    executions_time_IF_Shuttle.append(exec_time_IF_Shuttle)\n",
    "\n",
    "    # Calcul de l'aire sous la courbe ROC\n",
    "    auc_IF_Shuttle = roc_auc_score(y_transform_Shuttle, y_pred_IF_Shuttle)\n",
    "    roc_auc_IF_Shuttle.append(auc_IF_Shuttle)\n",
    "        \n",
    "    print(\"Execution time of IsolationForest applied on Shuttle (in second)\")\n",
    "    print(executions_time_IF_Shuttle)\n",
    "    print(\"ROC AUC for Isolation Forest applied on Shuttle\")\n",
    "    print(roc_auc_IF_Shuttle)"
   ]
  },
  {
   "cell_type": "code",
   "execution_count": 13,
   "metadata": {},
   "outputs": [
    {
     "name": "stdout",
     "output_type": "stream",
     "text": [
      "Execution time of IsolationForest applied on Shuttle (in second)\n",
      "[2.237795114517212, 2.9622550010681152, 3.1609010696411133, 3.5950138568878174, 3.3192920684814453, 3.546168088912964, 3.946225166320801, 3.4833810329437256, 3.4737188816070557, 3.546727180480957, 4.069601774215698, 3.87701416015625, 3.764893054962158, 4.8967201709747314, 3.9976019859313965, 3.9440929889678955, 3.8525819778442383, 4.717549085617065, 4.240537166595459, 4.069487810134888, 3.860682964324951, 4.047025203704834, 4.755406856536865, 4.573489189147949, 3.97112774848938, 4.052507162094116, 4.422750949859619, 5.193630933761597, 4.9680938720703125, 4.5419299602508545, 4.238566160202026, 4.631513833999634, 4.241229057312012, 4.129071950912476, 4.47831392288208, 4.224950075149536, 3.8908839225769043, 3.857135057449341, 3.8655598163604736, 3.8825430870056152, 4.117274045944214, 4.439884901046753, 4.184864044189453, 4.24518084526062, 4.209607839584351, 4.232223987579346, 4.3870909214019775, 4.85474419593811, 4.645174741744995, 4.305383205413818, 4.383925914764404, 4.128478050231934, 4.208596229553223, 4.501955032348633, 4.315077066421509, 4.232429027557373, 4.161092042922974, 4.389755964279175, 4.598609924316406, 4.173127889633179, 4.129433631896973, 4.269758939743042, 4.196589231491089, 4.2498698234558105, 4.116158962249756, 4.233268976211548, 4.179525136947632, 4.21169114112854, 4.203081130981445, 4.1507768630981445, 4.151791095733643, 4.314987897872925, 4.918856143951416, 4.265395164489746, 4.226686954498291, 4.214784860610962, 5.035776138305664, 4.275102853775024, 4.58498215675354, 4.220038175582886, 4.485844850540161, 4.332093000411987, 5.205140113830566, 4.650681734085083, 4.632178783416748, 4.7150938510894775, 4.676874160766602, 4.650481939315796, 4.608054161071777, 4.608502149581909, 4.60066819190979, 4.672512054443359, 4.7845985889434814, 4.828533887863159, 4.740206718444824, 4.633224964141846, 4.967786073684692, 4.70107889175415, 5.427202939987183, 5.58449912071228, 5.355064868927002, 5.995673894882202, 5.006479978561401, 4.85319185256958, 5.051578044891357, 5.3540239334106445, 6.41547417640686, 5.331716060638428, 5.630262136459351, 5.700073003768921, 5.427820920944214, 5.71303915977478, 5.105398893356323, 5.166198015213013, 5.02521276473999, 5.042358160018921, 5.208364009857178, 5.175018072128296, 4.922466993331909, 5.031813144683838, 4.912123203277588, 5.260503053665161, 5.102345943450928, 5.12054705619812, 5.0598273277282715, 4.930907964706421, 4.936230182647705, 4.870071887969971, 4.958171844482422, 5.0597922801971436, 5.027524948120117, 5.714425086975098, 5.1993567943573, 5.26817774772644, 5.349924087524414, 6.226536750793457, 4.94682502746582, 4.748122930526733, 4.690457105636597, 4.705329895019531, 4.7138590812683105, 4.705132007598877, 5.236051321029663, 6.857501983642578, 7.070056915283203, 7.963410139083862, 4.726737976074219, 4.756014108657837, 4.859600782394409, 5.358916997909546, 4.72804594039917, 4.740719795227051, 5.926455020904541, 6.294441223144531, 5.688469886779785, 4.987674713134766, 4.706532001495361, 5.199518918991089, 4.7260448932647705, 4.909549951553345, 5.296041250228882, 5.400999307632446, 5.088057041168213, 5.075107097625732, 5.041653871536255, 5.647881984710693, 4.812925338745117, 4.866688966751099, 4.7990617752075195, 4.73996114730835, 4.899316072463989, 4.795654773712158, 4.771872043609619, 5.348886013031006, 4.844679117202759, 5.32220196723938, 5.536770820617676, 5.606580972671509, 4.977914094924927, 4.963994979858398, 6.247308015823364, 5.78787899017334, 4.888710975646973, 5.29275107383728, 4.867614984512329, 4.748794078826904, 5.046309947967529, 4.920860767364502, 4.836319923400879, 4.895938873291016, 5.948642015457153, 5.176379919052124, 7.970154047012329, 5.99970269203186, 6.114529132843018, 6.222699165344238, 5.823192119598389, 5.2523767948150635, 5.708594083786011, 5.053579807281494, 4.834022045135498, 4.892499923706055, 4.804532051086426, 4.9010009765625, 4.788961887359619, 4.769773721694946, 4.826272964477539, 4.841421842575073, 4.922569990158081, 5.236404895782471, 5.026595115661621, 4.855413913726807, 5.046526908874512, 5.182969808578491, 5.294632911682129, 4.981311082839966, 4.914373159408569, 4.808243989944458, 4.918241024017334, 4.863089084625244, 4.863210916519165, 4.818054914474487, 4.872435092926025, 4.995950222015381, 5.008014678955078, 5.113295793533325, 4.879430055618286, 4.8704493045806885, 4.920314073562622, 5.166490793228149, 5.354801177978516, 5.136816024780273, 5.314516305923462, 6.549558877944946, 4.894670009613037, 5.806382179260254, 6.901362180709839, 6.216764211654663, 5.405017137527466, 5.403050899505615, 5.191666841506958, 5.280684947967529, 5.19084906578064, 5.058839797973633, 5.37645697593689, 5.018321990966797, 5.153804063796997, 5.214408874511719, 4.993808031082153, 4.8455140590667725, 4.967154026031494, 4.868479251861572, 4.93660306930542, 4.93482780456543, 4.887526988983154, 5.230153322219849, 6.194255113601685, 6.792463064193726, 8.39375901222229, 7.3034868240356445, 5.313552141189575, 5.0280749797821045, 4.9311301708221436, 5.1179656982421875, 7.368673801422119, 5.5394439697265625, 4.928341388702393, 6.976794958114624, 4.996056079864502, 7.441127777099609, 5.81876015663147, 5.225743055343628, 5.06224799156189, 5.170775890350342, 4.949294090270996, 4.92465615272522, 4.844980955123901, 4.904592990875244, 8.135079860687256, 6.738766193389893, 5.326332092285156, 6.323761940002441, 6.765592813491821, 5.301679849624634, 5.802184820175171, 5.480871915817261, 5.229215860366821, 5.100460052490234, 5.142553091049194, 4.9718546867370605, 4.927175998687744, 5.431768894195557, 5.204046964645386, 4.97499418258667, 5.002467155456543, 4.9132630825042725, 5.024298906326294, 4.997349977493286, 5.008422136306763, 4.869873046875, 5.248504877090454, 5.015138626098633, 5.156575918197632, 5.284875154495239, 5.481539011001587, 5.835105895996094, 5.612993955612183, 6.169483661651611, 6.297271251678467, 5.336099147796631, 4.998615980148315, 4.94365382194519, 4.966073036193848, 4.968148946762085, 4.997529029846191, 4.979237079620361, 4.967225074768066, 4.956776857376099, 4.917500257492065, 4.870048999786377, 4.815697908401489, 4.885249137878418, 4.950137138366699, 4.899280071258545, 4.9619059562683105, 4.9007697105407715, 4.948284864425659, 4.934524297714233, 5.236866235733032, 5.111546993255615, 5.203596830368042, 5.196661949157715, 5.215091943740845, 5.206974983215332, 5.579632997512817, 5.1026530265808105, 5.316750764846802, 5.237918138504028, 5.235559940338135, 5.253467798233032, 5.235996961593628, 5.28882622718811, 5.213574171066284, 5.212758779525757, 5.282323122024536, 5.319879770278931, 5.265614986419678, 5.208838939666748, 5.557387113571167, 5.3029539585113525, 5.272789001464844, 5.311124086380005, 5.230443000793457, 5.279393911361694, 5.2194437980651855, 5.269115924835205, 5.499614953994751, 5.843217849731445, 5.279098749160767, 5.2018938064575195, 5.163289785385132, 5.216521978378296, 5.832960844039917, 6.304739952087402, 5.701054096221924, 5.267565965652466, 5.695515871047974, 5.62105917930603, 5.878325939178467, 5.373334884643555, 5.942537069320679, 6.61893630027771, 6.384214162826538, 6.161626100540161, 5.588322877883911, 6.165136098861694, 5.53144097328186, 5.299659967422485, 5.315991640090942, 5.231391906738281, 5.181924104690552, 5.199002981185913, 5.569392919540405, 5.8720619678497314, 6.1603920459747314, 5.332583904266357, 5.699692010879517, 5.489783763885498, 6.4593870639801025, 6.103405952453613, 6.641269207000732, 6.813462018966675, 6.691310882568359, 5.930011034011841, 5.312021970748901, 5.5364789962768555, 5.551187992095947, 6.0859949588775635, 6.8726630210876465, 7.029128789901733, 5.9096198081970215, 6.668475151062012, 6.420601844787598, 5.6630539894104, 5.682047367095947, 5.274565696716309, 5.509718894958496, 6.084959983825684, 6.033874034881592, 5.207267761230469, 5.262829065322876, 5.797502040863037, 5.289571046829224, 6.41948390007019, 6.1841042041778564, 7.910200119018555, 5.962745189666748, 8.620818853378296, 7.332812070846558, 6.016181945800781, 5.336924314498901, 5.327913045883179, 6.245095252990723, 6.27733302116394, 5.567015886306763, 5.63399076461792, 5.8450140953063965, 5.981482028961182, 5.693629741668701, 5.5531487464904785, 6.471889972686768, 7.208859205245972, 8.090166807174683, 7.049669981002808, 6.066103219985962, 5.610959053039551, 5.358385801315308, 5.926829814910889, 6.663316965103149, 5.545108079910278, 5.760377883911133, 5.966820955276489, 6.752692937850952, 6.30467414855957, 6.291962146759033, 7.96993613243103, 5.680532217025757, 6.438238859176636, 6.16663384437561, 7.4029541015625, 6.55328893661499, 6.715611219406128, 6.247501850128174, 6.71037220954895, 6.518570899963379, 5.6435627937316895, 5.8509521484375, 6.1258838176727295, 6.452736139297485, 6.557494640350342, 5.8051252365112305, 5.649222135543823, 5.291928291320801, 5.309930086135864, 5.388145923614502]\n",
      "La valeur max est 8.620818853378296 à l'index 417\n"
     ]
    },
    {
     "data": {
      "image/png": "[encoded data removed]",
      "text/plain": [
       "<Figure size 432x288 with 1 Axes>"
      ]
     },
     "metadata": {
      "needs_background": "light"
     },
     "output_type": "display_data"
    }
   ],
   "source": [
    "print(\"Execution time of IsolationForest applied on Shuttle (in second)\")\n",
    "print(executions_time_IF_Shuttle)\n",
    "print(\"La valeur max est \"+str(max(executions_time_IF_Shuttle))+\" à l'index \"+str(executions_time_IF_Shuttle.index(max(executions_time_IF_Shuttle))))\n",
    "plt.plot(range(10, len(X_Shuttle), 100), executions_time_IF_Shuttle,  \"g-\", label=\"IForest on Shuttle\")\n",
    "plt.xlabel('max_samples')\n",
    "plt.ylabel('Execution time')\n",
    "plt.legend(loc=\"best\")\n",
    "plt.show()"
   ]
  },
  {
   "cell_type": "code",
   "execution_count": 14,
   "metadata": {},
   "outputs": [
    {
     "name": "stdout",
     "output_type": "stream",
     "text": [
      "ROC AUC for Isolation Forest applied on Shuttle\n",
      "[0.8779787873969619, 0.9505343326144072, 0.9487929995291885, 0.9516952213378863, 0.9516952213378863, 0.954597443146584, 0.954597443146584, 0.9534365544231049, 0.9569192205935423, 0.9569192205935423, 0.9569301888732772, 0.9551778875083238, 0.9557583318700631, 0.9563387762318029, 0.9569192205935423, 0.9540169987848446, 0.958660553678761, 0.9574996649552819, 0.9551778875083238, 0.9563387762318029, 0.9563387762318029, 0.9563387762318029, 0.9563387762318029, 0.9569192205935423, 0.9569192205935423, 0.9563387762318029, 0.9569192205935423, 0.9563387762318029, 0.9551998240677937, 0.9557583318700631, 0.9563387762318029, 0.954597443146584, 0.9563387762318029, 0.9551778875083238, 0.954597443146584, 0.9540169987848446, 0.9557583318700631, 0.9540169987848446, 0.9534365544231049, 0.9528561100613655, 0.9540169987848446, 0.9534365544231049, 0.9540169987848446, 0.9563387762318029, 0.954597443146584, 0.9557693001497983, 0.9569192205935423, 0.9557583318700631, 0.9540169987848446, 0.9557583318700631, 0.9557473635903282, 0.9551778875083238, 0.9557693001497983, 0.9540169987848446, 0.9534365544231049, 0.954597443146584, 0.9551778875083238, 0.9563387762318029, 0.9551778875083238, 0.9540169987848446, 0.9557583318700631, 0.9563387762318029, 0.9528561100613655, 0.9528561100613655, 0.954597443146584, 0.954597443146584, 0.9563387762318029, 0.9540169987848446, 0.9540169987848446, 0.9528561100613655, 0.9528561100613655, 0.9534365544231049, 0.9534365544231049, 0.9522756656996257, 0.9534365544231049, 0.9528561100613655, 0.9528561100613655, 0.9534365544231049, 0.9540169987848446, 0.954597443146584, 0.95344752270284, 0.954597443146584, 0.9534365544231049, 0.9528561100613655, 0.9557583318700631, 0.9528561100613655, 0.9516952213378863, 0.9540169987848446, 0.9528561100613655, 0.9551778875083238, 0.9528561100613655, 0.9540169987848446, 0.9534365544231049, 0.9540169987848446, 0.9534365544231049, 0.9528561100613655, 0.9528561100613655, 0.9551778875083238, 0.9540169987848446, 0.9528561100613655, 0.9540169987848446, 0.9528561100613655, 0.9528561100613655, 0.9534365544231049, 0.9551778875083238, 0.9534365544231049, 0.9528561100613655, 0.9528561100613655, 0.9528561100613655, 0.9528561100613655, 0.9551778875083238, 0.9534365544231049, 0.9528561100613655, 0.9528561100613655, 0.9528561100613655, 0.9534365544231049, 0.9528561100613655, 0.9534365544231049, 0.9534365544231049, 0.9528561100613655, 0.9528561100613655, 0.9540169987848446, 0.9551778875083238, 0.9522756656996257, 0.9534365544231049, 0.9528561100613655, 0.9528561100613655, 0.9540279670645795, 0.954597443146584, 0.9516952213378863, 0.9528561100613655, 0.9534365544231049, 0.9528561100613655, 0.9528561100613655, 0.9528561100613655, 0.9528561100613655, 0.9534365544231049, 0.9528561100613655, 0.9528561100613655, 0.9528561100613655, 0.9540169987848446, 0.9528561100613655, 0.9528561100613655, 0.9528561100613655, 0.9534365544231049, 0.9528561100613655, 0.9528451417816303, 0.95344752270284, 0.9528561100613655, 0.9528561100613655, 0.9534365544231049, 0.9522756656996257, 0.9540169987848446, 0.9522866339793609, 0.9528561100613655, 0.9528561100613655, 0.9528561100613655, 0.9540169987848446, 0.9528561100613655, 0.9522756656996257, 0.9528561100613655, 0.9528561100613655, 0.9528561100613655, 0.9528561100613655, 0.9528561100613655, 0.9540169987848446, 0.9528561100613655, 0.9522756656996257, 0.9528780466208355, 0.954597443146584, 0.9528561100613655, 0.9528561100613655, 0.9528561100613655, 0.9528561100613655, 0.9528561100613655, 0.9528561100613655, 0.9528670783411003, 0.9528561100613655, 0.9528561100613655, 0.9528561100613655, 0.9522756656996257, 0.9528561100613655, 0.9534365544231049, 0.95344752270284, 0.9528670783411003, 0.9528561100613655, 0.9528561100613655, 0.9528561100613655, 0.9528561100613655, 0.9516952213378863, 0.9528561100613655, 0.9522756656996257, 0.9522756656996257, 0.9522756656996257, 0.9516952213378863, 0.9516952213378863, 0.9522756656996257, 0.9528561100613655, 0.9528670783411003, 0.9528561100613655, 0.9528561100613655, 0.9528670783411003, 0.9522756656996257, 0.9528561100613655, 0.9528561100613655, 0.9534365544231049, 0.9528561100613655, 0.9528561100613655, 0.9522756656996257, 0.9528561100613655, 0.9528561100613655, 0.9528561100613655, 0.9528561100613655, 0.9522756656996257, 0.9528670783411003, 0.9528561100613655, 0.9522756656996257, 0.9522756656996257, 0.9528561100613655, 0.9528561100613655, 0.9516952213378863, 0.9528561100613655, 0.9528561100613655, 0.9534365544231049, 0.9528561100613655, 0.9528561100613655, 0.9528561100613655, 0.9516952213378863, 0.9534365544231049, 0.9528561100613655, 0.9528561100613655, 0.9516952213378863, 0.9516952213378863, 0.9522756656996257, 0.9528561100613655, 0.9522756656996257, 0.9528561100613655, 0.9528561100613655, 0.9522756656996257, 0.9516952213378863, 0.9517061896176212, 0.9528561100613655, 0.9528670783411003, 0.9528561100613655, 0.9516952213378863, 0.9516952213378863, 0.9528561100613655, 0.9522976022590958, 0.9528561100613655, 0.9522756656996257, 0.9528561100613655, 0.9528561100613655, 0.9511147769761468, 0.9516952213378863, 0.9516952213378863, 0.9528561100613655, 0.9522756656996257, 0.9516952213378863, 0.9528561100613655, 0.9528561100613655, 0.9528561100613655, 0.9522756656996257, 0.9528561100613655, 0.9528561100613655, 0.9528670783411003, 0.9528561100613655, 0.9528561100613655, 0.9522756656996257, 0.9516952213378863, 0.9517171578973563, 0.9528561100613655, 0.9517061896176212, 0.9516952213378863, 0.9528561100613655, 0.9516952213378863, 0.9528561100613655, 0.9511147769761468, 0.9528561100613655, 0.9528561100613655, 0.9522866339793609, 0.9528670783411003, 0.9522756656996257, 0.9528561100613655, 0.9528670783411003, 0.9528670783411003, 0.9522756656996257, 0.9528561100613655, 0.9516952213378863, 0.9528561100613655, 0.9511147769761468, 0.9528561100613655, 0.9528670783411003, 0.9528561100613655, 0.9528670783411003, 0.9528561100613655, 0.9516952213378863, 0.9522756656996257, 0.9522756656996257, 0.9516952213378863, 0.9516952213378863, 0.9522756656996257, 0.9528561100613655, 0.9522756656996257, 0.9517281261770912, 0.9528561100613655, 0.9516952213378863, 0.9511147769761468, 0.9522756656996257, 0.9511147769761468, 0.9522756656996257, 0.9528780466208355, 0.9534365544231049, 0.9522756656996257, 0.9528561100613655, 0.9522756656996257, 0.9528561100613655, 0.9516952213378863, 0.9516952213378863, 0.9528561100613655, 0.9516952213378863, 0.9528561100613655, 0.9517061896176212, 0.9517171578973563, 0.9522866339793609, 0.9522756656996257, 0.9517171578973563, 0.9516952213378863, 0.9522756656996257, 0.9522756656996257, 0.9522756656996257, 0.9528561100613655, 0.9528561100613655, 0.9516952213378863, 0.9522976022590958, 0.9528561100613655, 0.9522756656996257, 0.9528561100613655, 0.9528670783411003, 0.9528561100613655, 0.9516952213378863, 0.9528561100613655, 0.9522756656996257, 0.9528561100613655, 0.9511147769761468, 0.9528561100613655, 0.9528561100613655, 0.9516952213378863, 0.9528561100613655, 0.9522756656996257, 0.9534365544231049, 0.9528670783411003, 0.9522756656996257, 0.9522756656996257, 0.9528561100613655, 0.9516952213378863, 0.9534365544231049, 0.9516952213378863, 0.9522756656996257, 0.9528561100613655, 0.9528780466208355, 0.9522756656996257, 0.9528561100613655, 0.9516952213378863, 0.9516952213378863, 0.9511147769761468, 0.9528561100613655, 0.9516952213378863, 0.9516952213378863, 0.9528561100613655, 0.9528561100613655, 0.9528561100613655, 0.9522756656996257, 0.9522866339793609, 0.9511147769761468, 0.9528561100613655, 0.9522756656996257, 0.9528561100613655, 0.9511147769761468, 0.9516952213378863, 0.9516952213378863, 0.9511147769761468, 0.9516952213378863, 0.9522756656996257, 0.9522756656996257, 0.9516952213378863, 0.9528561100613655, 0.9511257452558817, 0.9522756656996257, 0.9522756656996257, 0.9528561100613655, 0.9522756656996257, 0.9522756656996257, 0.9516952213378863, 0.9511147769761468, 0.9528561100613655, 0.9522756656996257, 0.9511147769761468, 0.9516952213378863, 0.9517061896176212, 0.9522756656996257, 0.9522756656996257, 0.9522756656996257, 0.9516952213378863, 0.9528561100613655, 0.9516952213378863, 0.9516952213378863, 0.9516952213378863, 0.9528670783411003, 0.9516952213378863, 0.9516952213378863, 0.9517171578973563, 0.9528561100613655, 0.9522756656996257, 0.9522756656996257, 0.9522756656996257, 0.9522756656996257, 0.9517061896176212, 0.9516952213378863, 0.9528561100613655, 0.9516952213378863, 0.9516952213378863, 0.9522756656996257, 0.9516952213378863, 0.9516952213378863, 0.9522756656996257, 0.9522646974198907, 0.9516952213378863, 0.9516952213378863, 0.9522756656996257, 0.9528561100613655, 0.9516952213378863, 0.9522756656996257, 0.9522756656996257, 0.9516952213378863, 0.9528561100613655, 0.9522756656996257, 0.9522756656996257, 0.9522756656996257, 0.9528561100613655, 0.9516952213378863, 0.9522756656996257, 0.9528561100613655, 0.9522756656996257, 0.9516952213378863, 0.9516952213378863, 0.9522756656996257, 0.9528561100613655, 0.9517061896176212, 0.9522756656996257, 0.9516952213378863, 0.9522866339793609, 0.9499538882526675, 0.9523195388185657, 0.9522756656996257, 0.9511147769761468, 0.9522756656996257, 0.9522756656996257, 0.9516952213378863, 0.9522756656996257, 0.9517061896176212, 0.9516952213378863, 0.9516952213378863, 0.9516952213378863, 0.9516952213378863, 0.9528561100613655]\n",
      "La valeur max est 0.958660553678761 à l'index 16\n"
     ]
    },
    {
     "data": {
      "image/png": "[encoded data removed]",
      "text/plain": [
       "<Figure size 432x288 with 1 Axes>"
      ]
     },
     "metadata": {
      "needs_background": "light"
     },
     "output_type": "display_data"
    }
   ],
   "source": [
    "print(\"ROC AUC for Isolation Forest applied on Shuttle\")\n",
    "print(roc_auc_IF_Shuttle)\n",
    "print(\"La valeur max est \"+str(max(roc_auc_IF_Shuttle))+\" à l'index \"+str(roc_auc_IF_Shuttle.index(max(roc_auc_IF_Shuttle))))\n",
    "plt.plot(range(10, len(X_Shuttle), 100), roc_auc_IF_Shuttle,  \"g-\", label=\"ROC AUC of IForest on Shuttle\")\n",
    "plt.xlabel('max_samples')\n",
    "plt.ylabel('AUC')\n",
    "plt.legend(loc=\"best\")\n",
    "plt.show()"
   ]
  },
  {
   "cell_type": "markdown",
   "metadata": {},
   "source": [
    "### Résultat\n",
    "###### Faisant varier max_samples, n_estimators = 100, contamination = 0,1\n",
    "Plus le nombre d'éléments dans l'échantillon augmente, plus le temps d'exécution est long.\n",
    "Par contre, quelque soit max_samples, la AUC ne varie pas beaucoup : entre 0,950 et 0,958.\n",
    "\n",
    "Meilleure estimation :\n",
    "    - Temps   = 3.8525819778442383\n",
    "    - ROC AUC = 0.958660553678761 à max_samples : 1610 ==> 16 * 100 +10\n",
    "\n",
    "Max_samples n'a donc pas une grande incidence sur les performances de classification de IForest pour un jeu de données de taille et de dimension faibles. Mais il a une conséquences sur le temps d'exécution."
   ]
  },
  {
   "cell_type": "markdown",
   "metadata": {},
   "source": [
    "### Exécution de Isolation Forest sur le jeux de données Shuttle en faisant varier contamination (contamination : float in (0., 0.5), optional (default=0.1))"
   ]
  },
  {
   "cell_type": "code",
   "execution_count": 3,
   "metadata": {},
   "outputs": [
    {
     "ename": "NameError",
     "evalue": "name 'np' is not defined",
     "output_type": "error",
     "traceback": [
      "\u001b[0;31m---------------------------------------------------------------------------\u001b[0m",
      "\u001b[0;31mNameError\u001b[0m                                 Traceback (most recent call last)",
      "\u001b[0;32m<ipython-input-3-8779e618450c>\u001b[0m in \u001b[0;36m<module>\u001b[0;34m\u001b[0m\n\u001b[1;32m      2\u001b[0m \u001b[0mroc_auc_IF_Shuttle\u001b[0m \u001b[0;34m=\u001b[0m \u001b[0;34m[\u001b[0m\u001b[0;34m]\u001b[0m\u001b[0;34m\u001b[0m\u001b[0;34m\u001b[0m\u001b[0m\n\u001b[1;32m      3\u001b[0m \u001b[0;34m\u001b[0m\u001b[0m\n\u001b[0;32m----> 4\u001b[0;31m \u001b[0;32mfor\u001b[0m \u001b[0mj\u001b[0m \u001b[0;32min\u001b[0m \u001b[0mnp\u001b[0m\u001b[0;34m.\u001b[0m\u001b[0marange\u001b[0m\u001b[0;34m(\u001b[0m\u001b[0;36m0.\u001b[0m\u001b[0;34m,\u001b[0m \u001b[0;36m0.5\u001b[0m\u001b[0;34m,\u001b[0m \u001b[0;36m0.00001\u001b[0m\u001b[0;34m)\u001b[0m\u001b[0;34m:\u001b[0m\u001b[0;34m\u001b[0m\u001b[0;34m\u001b[0m\u001b[0m\n\u001b[0m\u001b[1;32m      5\u001b[0m     \u001b[0mprint\u001b[0m\u001b[0;34m(\u001b[0m\u001b[0;34m\"contamination = \"\u001b[0m\u001b[0;34m+\u001b[0m\u001b[0mstr\u001b[0m\u001b[0;34m(\u001b[0m\u001b[0mj\u001b[0m\u001b[0;34m)\u001b[0m\u001b[0;34m)\u001b[0m\u001b[0;34m\u001b[0m\u001b[0;34m\u001b[0m\u001b[0m\n\u001b[1;32m      6\u001b[0m     \u001b[0mcontamination\u001b[0m \u001b[0;34m=\u001b[0m \u001b[0mj\u001b[0m\u001b[0;34m\u001b[0m\u001b[0;34m\u001b[0m\u001b[0m\n",
      "\u001b[0;31mNameError\u001b[0m: name 'np' is not defined"
     ]
    }
   ],
   "source": [
    "executions_time_IF_Shuttle = []\n",
    "roc_auc_IF_Shuttle = []\n",
    "\n",
    "for j in np.arange(0., 0.5, 0.00001):\n",
    "    print(\"contamination = \"+str(j))\n",
    "    contamination = j\n",
    "    start_IF_Shuttle = time()\n",
    "        \n",
    "    # Instanciation, fit and predict on Shuttle\n",
    "    func_IF_Shuttle = IsolationForest(contamination=contamination, behaviour=\"new\")\n",
    "    func_IF_Shuttle.fit(X_Shuttle)\n",
    "    y_pred_IF_Shuttle = func_IF_Shuttle.predict(X_Shuttle)\n",
    "\n",
    "    # Calcul du temps d'exécution\n",
    "    exec_time_IF_Shuttle = time() - start_IF_Shuttle\n",
    "    executions_time_IF_Shuttle.append(exec_time_IF_Shuttle)\n",
    "\n",
    "    # Calcul de l'aire sous la courbe ROC\n",
    "    auc_IF_Shuttle = roc_auc_score(y_transform_Shuttle, y_pred_IF_Shuttle)\n",
    "    roc_auc_IF_Shuttle.append(auc_IF_Shuttle)\n",
    "        \n",
    "    print(\"Execution time of IsolationForest applied on Shuttle (in second)\")\n",
    "    print(executions_time_IF_Shuttle)\n",
    "    print(\"ROC AUC for Isolation Forest applied on Shuttle\")\n",
    "    print(roc_auc_IF_Shuttle)"
   ]
  },
  {
   "cell_type": "code",
   "execution_count": null,
   "metadata": {},
   "outputs": [],
   "source": [
    "print(\"Execution time of IsolationForest applied on Shuttle (in second)\")\n",
    "print(executions_time_IF_Shuttle)\n",
    "print(\"La valeur max est \"+str(max(executions_time_IF_Shuttle))+\" à l'index \"+str(executions_time_IF_Shuttle.index(max(executions_time_IF_Shuttle))))\n",
    "plt.plot(np.arange(0., 0.5, 0.00001), executions_time_IF_Shuttle,  \"g-\", label=\"IForest on Shuttle\")\n",
    "plt.xlabel('max_samples')\n",
    "plt.ylabel('Execution time')\n",
    "plt.legend(loc=\"best\")\n",
    "plt.show()"
   ]
  },
  {
   "cell_type": "code",
   "execution_count": null,
   "metadata": {},
   "outputs": [],
   "source": [
    "print(\"ROC AUC for Isolation Forest applied on Shuttle\")\n",
    "print(roc_auc_IF_Shuttle)\n",
    "print(\"La valeur max est \"+str(max(roc_auc_IF_Shuttle))+\" à l'index \"+str(roc_auc_IF_Shuttle.index(max(roc_auc_IF_Shuttle))))\n",
    "plt.plot(np.arange(0., 0.5, 0.00001), roc_auc_IF_Shuttle,  \"g-\", label=\"ROC AUC of IForest on Shuttle\")\n",
    "plt.xlabel('max_samples')\n",
    "plt.ylabel('AUC')\n",
    "plt.legend(loc=\"best\")\n",
    "plt.show()"
   ]
  },
  {
   "cell_type": "markdown",
   "metadata": {},
   "source": [
    "### Exécution de Isolation Forest sur le jeux de données Shuttle en faisant varier la combinaison entre n_estimators et max_samples"
   ]
  },
  {
   "cell_type": "code",
   "execution_count": 4,
   "metadata": {},
   "outputs": [
    {
     "name": "stdout",
     "output_type": "stream",
     "text": [
      "n_estimators = 5\n"
     ]
    },
    {
     "ename": "NameError",
     "evalue": "name 'X_Shuttle' is not defined",
     "output_type": "error",
     "traceback": [
      "\u001b[0;31m---------------------------------------------------------------------------\u001b[0m",
      "\u001b[0;31mNameError\u001b[0m                                 Traceback (most recent call last)",
      "\u001b[0;32m<ipython-input-4-3120709be1ca>\u001b[0m in \u001b[0;36m<module>\u001b[0;34m\u001b[0m\n\u001b[1;32m      4\u001b[0m     \u001b[0mprint\u001b[0m\u001b[0;34m(\u001b[0m\u001b[0;34m\"n_estimators = \"\u001b[0m\u001b[0;34m+\u001b[0m\u001b[0mstr\u001b[0m\u001b[0;34m(\u001b[0m\u001b[0mj\u001b[0m\u001b[0;34m)\u001b[0m\u001b[0;34m)\u001b[0m\u001b[0;34m\u001b[0m\u001b[0;34m\u001b[0m\u001b[0m\n\u001b[1;32m      5\u001b[0m     \u001b[0mn_estimators\u001b[0m \u001b[0;34m=\u001b[0m \u001b[0mj\u001b[0m\u001b[0;34m\u001b[0m\u001b[0;34m\u001b[0m\u001b[0m\n\u001b[0;32m----> 6\u001b[0;31m     \u001b[0;32mfor\u001b[0m \u001b[0mk\u001b[0m \u001b[0;32min\u001b[0m \u001b[0mrange\u001b[0m\u001b[0;34m(\u001b[0m\u001b[0;36m10\u001b[0m\u001b[0;34m,\u001b[0m \u001b[0mlen\u001b[0m\u001b[0;34m(\u001b[0m\u001b[0mX_Shuttle\u001b[0m\u001b[0;34m)\u001b[0m\u001b[0;34m,\u001b[0m \u001b[0;36m100\u001b[0m\u001b[0;34m)\u001b[0m\u001b[0;34m:\u001b[0m\u001b[0;34m\u001b[0m\u001b[0;34m\u001b[0m\u001b[0m\n\u001b[0m\u001b[1;32m      7\u001b[0m         \u001b[0mprint\u001b[0m\u001b[0;34m(\u001b[0m\u001b[0;34m\"max_samples = \"\u001b[0m\u001b[0;34m+\u001b[0m\u001b[0mstr\u001b[0m\u001b[0;34m(\u001b[0m\u001b[0mk\u001b[0m\u001b[0;34m)\u001b[0m\u001b[0;34m)\u001b[0m\u001b[0;34m\u001b[0m\u001b[0;34m\u001b[0m\u001b[0m\n\u001b[1;32m      8\u001b[0m         \u001b[0mmax_samples\u001b[0m \u001b[0;34m=\u001b[0m \u001b[0mk\u001b[0m\u001b[0;34m\u001b[0m\u001b[0;34m\u001b[0m\u001b[0m\n",
      "\u001b[0;31mNameError\u001b[0m: name 'X_Shuttle' is not defined"
     ]
    }
   ],
   "source": [
    "executions_time_IF_Shuttle = []\n",
    "roc_auc_IF_Shuttle = []\n",
    "for j in range(5, 1000, 5):\n",
    "    print(\"n_estimators = \"+str(j))\n",
    "    n_estimators = j\n",
    "    for k in range(10, len(X_Shuttle), 100):\n",
    "        print(\"max_samples = \"+str(k))\n",
    "        max_samples = k\n",
    "        start_IF_Shuttle = time()\n",
    "\n",
    "        # Instanciation, fit and predict on Shuttle\n",
    "        func_IF_Shuttle = IsolationForest(n_estimators=n_estimators, max_samples=max_samples, behaviour=\"new\")\n",
    "        func_IF_Shuttle.fit(X_Shuttle)\n",
    "        y_pred_IF_Shuttle = func_IF_Shuttle.predict(X_Shuttle)\n",
    "\n",
    "        # Calcul du temps d'exécution\n",
    "        exec_time_IF_Shuttle = time() - start_IF_Shuttle\n",
    "        executions_time_IF_Shuttle.append(exec_time_IF_Shuttle)\n",
    "\n",
    "        # Calcul de l'aire sous la courbe ROC\n",
    "        auc_IF_Shuttle = roc_auc_score(y_transform_Shuttle, y_pred_IF_Shuttle)\n",
    "        roc_auc_IF_Shuttle.append(auc_IF_Shuttle)\n",
    "        \n",
    "        print(\"Execution time of IsolationForest applied on Shuttle (in second)\")\n",
    "        print(executions_time_IF_Shuttle)\n",
    "        print(\"ROC AUC for Isolation Forest applied on Shuttle\")\n",
    "        print(roc_auc_IF_Shuttle)"
   ]
  },
  {
   "cell_type": "code",
   "execution_count": null,
   "metadata": {},
   "outputs": [],
   "source": [
    "print(\"Execution time of IsolationForest applied on Shuttle (in second)\")\n",
    "print(executions_time_IF_Shuttle)\n",
    "print(\"La valeur max est \"+str(max(executions_time_IF_Shuttle))+\" à l'index \"+str(executions_time_IF_Shuttle.index(max(executions_time_IF_Shuttle))))\n",
    "plt.plot(np.arange(0., 0.5, 0.00001), executions_time_IF_Shuttle,  \"g-\", label=\"IForest on Shuttle\")\n",
    "plt.xlabel('max_samples')\n",
    "plt.ylabel('Execution time')\n",
    "plt.legend(loc=\"best\")\n",
    "plt.show()"
   ]
  },
  {
   "cell_type": "code",
   "execution_count": null,
   "metadata": {},
   "outputs": [],
   "source": [
    "print(\"ROC AUC for Isolation Forest applied on Shuttle\")\n",
    "print(roc_auc_IF_Shuttle)\n",
    "print(\"La valeur max est \"+str(max(roc_auc_IF_Shuttle))+\" à l'index \"+str(roc_auc_IF_Shuttle.index(max(roc_auc_IF_Shuttle))))\n",
    "plt.plot(np.arange(0., 0.5, 0.00001), roc_auc_IF_Shuttle,  \"g-\", label=\"ROC AUC of IForest on Shuttle\")\n",
    "plt.xlabel('max_samples')\n",
    "plt.ylabel('AUC')\n",
    "plt.legend(loc=\"best\")\n",
    "plt.show()"
   ]
  },
  {
   "cell_type": "markdown",
   "metadata": {},
   "source": [
    "### Interprétation du résultat de IsolationForest sur Shuttle"
   ]
  },
  {
   "cell_type": "markdown",
   "metadata": {},
   "source": [
    "###### Faisant varier n_estimators\n",
    "L'augmentation du nombre d'arbres augmente le temps d'exécution. L'écart est léger \n",
    "la AUC est aléatoire avec quelques pics.\n",
    "\n",
    "Meilleure estimation :\n",
    "    - Temps   = 3.8525819778442383\n",
    "    - ROC AUC = 0.954597443146584 à n_estimators : 80 ==> 15 * 5 + 5\n",
    "\n",
    "###### Faisant varier max_samples\n",
    "Plus le nombre d'éléments dans l'échantillon augmente, plus le temps d'exécution est long.\n",
    "\n",
    "Meilleure estimation :\n",
    "    - Temps   = 3.8525819778442383\n",
    "    - ROC AUC = 0.958660553678761 à max_samples : 1610 ==> 16 * 100 +10 \n",
    "\n",
    "###### Faisant varier contamination\n",
    "\n",
    "###### Meilleure combinaison entre n_estimators et max_samples\n",
    "\n",
    "###### Meilleure combinaison entre n_estimators et contamination\n",
    "\n",
    "###### Meilleure combinaison entre max_samples et contamination\n",
    "\n",
    "###### Meilleure combinaison entre max_samples, n_estimators et contamination"
   ]
  },
  {
   "cell_type": "markdown",
   "metadata": {},
   "source": [
    "## Exécution des méthodes avec les meilleurs paramètres trouvés sur Shuttle"
   ]
  },
  {
   "cell_type": "code",
   "execution_count": 10,
   "metadata": {},
   "outputs": [
    {
     "name": "stderr",
     "output_type": "stream",
     "text": [
      "/Users/thesard/anaconda3/lib/python3.7/site-packages/sklearn/ensemble/iforest.py:213: FutureWarning: default contamination parameter 0.1 will change in version 0.22 to \"auto\". This will change the predict method behavior.\n",
      "  FutureWarning)\n",
      "/Users/thesard/anaconda3/lib/python3.7/site-packages/sklearn/ensemble/iforest.py:223: FutureWarning: behaviour=\"old\" is deprecated and will be removed in version 0.22. Please use behaviour=\"new\", which makes the decision_function change to match other anomaly detection algorithm API.\n",
      "  FutureWarning)\n",
      "/Users/thesard/anaconda3/lib/python3.7/site-packages/sklearn/ensemble/iforest.py:417: DeprecationWarning: threshold_ attribute is deprecated in 0.20 and will be removed in 0.22.\n",
      "  \" be removed in 0.22.\", DeprecationWarning)\n",
      "/Users/thesard/anaconda3/lib/python3.7/site-packages/sklearn/ensemble/iforest.py:213: FutureWarning: default contamination parameter 0.1 will change in version 0.22 to \"auto\". This will change the predict method behavior.\n",
      "  FutureWarning)\n",
      "/Users/thesard/anaconda3/lib/python3.7/site-packages/sklearn/ensemble/iforest.py:223: FutureWarning: behaviour=\"old\" is deprecated and will be removed in version 0.22. Please use behaviour=\"new\", which makes the decision_function change to match other anomaly detection algorithm API.\n",
      "  FutureWarning)\n",
      "/Users/thesard/anaconda3/lib/python3.7/site-packages/sklearn/ensemble/iforest.py:417: DeprecationWarning: threshold_ attribute is deprecated in 0.20 and will be removed in 0.22.\n",
      "  \" be removed in 0.22.\", DeprecationWarning)\n",
      "/Users/thesard/anaconda3/lib/python3.7/site-packages/sklearn/ensemble/iforest.py:213: FutureWarning: default contamination parameter 0.1 will change in version 0.22 to \"auto\". This will change the predict method behavior.\n",
      "  FutureWarning)\n",
      "/Users/thesard/anaconda3/lib/python3.7/site-packages/sklearn/ensemble/iforest.py:223: FutureWarning: behaviour=\"old\" is deprecated and will be removed in version 0.22. Please use behaviour=\"new\", which makes the decision_function change to match other anomaly detection algorithm API.\n",
      "  FutureWarning)\n",
      "/Users/thesard/anaconda3/lib/python3.7/site-packages/sklearn/ensemble/iforest.py:417: DeprecationWarning: threshold_ attribute is deprecated in 0.20 and will be removed in 0.22.\n",
      "  \" be removed in 0.22.\", DeprecationWarning)\n",
      "/Users/thesard/anaconda3/lib/python3.7/site-packages/sklearn/svm/base.py:196: FutureWarning: The default value of gamma will change from 'auto' to 'scale' in version 0.22 to account better for unscaled features. Set gamma explicitly to 'auto' or 'scale' to avoid this warning.\n",
      "  \"avoid this warning.\", FutureWarning)\n",
      "/Users/thesard/anaconda3/lib/python3.7/site-packages/sklearn/neighbors/lof.py:236: FutureWarning: default contamination parameter 0.1 will change in version 0.22 to \"auto\". This will change the predict method behavior.\n",
      "  FutureWarning)\n"
     ]
    }
   ],
   "source": [
    "executions_time_Shuttle = []\n",
    "methods = []\n",
    "\n",
    "# Isolation Forest avec n_estimators\n",
    "methods.append('IForest n_estimators')\n",
    "start_time = time()\n",
    "n_estimators = 90\n",
    "func_IF_Shuttle = IsolationForest(n_estimators=n_estimators)\n",
    "func_IF_Shuttle.fit(X_Shuttle)\n",
    "y_pred_IF_Shuttle = func_IF_Shuttle.predict(X_Shuttle)\n",
    "# Calcul du temps d'exécution\n",
    "executions_time_Shuttle.append(time() - start_time)\n",
    "\n",
    "# Isolation Forest avec max_samples\n",
    "methods.append('IForest max_samples')\n",
    "start_time = time()\n",
    "max_samples = 2200\n",
    "func_IF_Shuttle = IsolationForest(max_samples=max_samples)\n",
    "func_IF_Shuttle.fit(X_Shuttle)\n",
    "y_pred_IF_Shuttle_max_samples = func_IF_Shuttle.predict(X_Shuttle)\n",
    "# Calcul du temps d'exécution\n",
    "executions_time_Shuttle.append(time() - start_time)\n",
    "\n",
    "# Isolation Forest avec max_samples et n_estimators\n",
    "methods.append('IForest max_samples et n_estimators')\n",
    "start_time = time()\n",
    "n_estimators = 90\n",
    "max_samples  = 2200\n",
    "func_IF_Shuttle = IsolationForest(n_estimators=n_estimators, max_samples=max_samples)\n",
    "func_IF_Shuttle.fit(X_Shuttle)\n",
    "y_pred_IF_Shuttle_estimators_samples = func_IF_Shuttle.predict(X_Shuttle)\n",
    "# Calcul du temps d'exécution\n",
    "executions_time_Shuttle.append(time() - start_time)\n",
    "\n",
    "# OC-SVM\n",
    "methods.append('OC-SVM')\n",
    "start_time = time()\n",
    "nu = 0.4\n",
    "func_OCSVM_Shuttle = OneClassSVM(nu=nu)\n",
    "func_OCSVM_Shuttle.fit(X_Shuttle)\n",
    "y_pred_OCSVM_Shuttle = func_OCSVM_Shuttle.predict(X_Shuttle)\n",
    "# Calcul du temps d'exécution\n",
    "executions_time_Shuttle.append(time() - start_time)\n",
    "\n",
    "# LOF\n",
    "methods.append('LOF')\n",
    "start_time = time()\n",
    "n_neighbors = 80\n",
    "func_LOF_Shuttle = LocalOutlierFactor(n_neighbors=n_neighbors,novelty=True)\n",
    "func_LOF_Shuttle.fit(X_Shuttle)\n",
    "y_pred_LOF_Shuttle = func_LOF_Shuttle.predict(X_Shuttle)\n",
    "# Calcul du temps d'exécution\n",
    "executions_time_Shuttle.append(time() - start_time)"
   ]
  },
  {
   "cell_type": "markdown",
   "metadata": {},
   "source": [
    "### Calcul des valeurs des métriques de comparaison"
   ]
  },
  {
   "cell_type": "code",
   "execution_count": 11,
   "metadata": {},
   "outputs": [
    {
     "name": "stdout",
     "output_type": "stream",
     "text": [
      "Confusion Matrice IForest avec n_estimators\n",
      "[[  864    14]\n",
      " [ 3781 41805]]\n",
      "Confusion Matrice IForest avec max_samples\n",
      "[[  874     4]\n",
      " [ 3773 41813]]\n",
      "Confusion Matrice IForest avec max_samples et n_estimators\n",
      "[[  873     5]\n",
      " [ 3774 41812]]\n",
      "Confusion Matrice OC-SVM\n",
      "[[  831    47]\n",
      " [18058 27528]]\n",
      "Confusion Matrice LOF\n",
      "[[  336   542]\n",
      " [ 4175 41411]]\n"
     ]
    }
   ],
   "source": [
    "precisions_Shuttle = []\n",
    "recalls_Shuttle = []\n",
    "roc_aucs_Shuttle = []\n",
    "f1_scores_Shuttle = []\n",
    "\n",
    "# Isolation Forest avec n_estimators\n",
    "# Precision\n",
    "precisions_Shuttle.append(precision_score(y_transform_Shuttle, y_pred_IF_Shuttle))\n",
    "# Recall\n",
    "recalls_Shuttle.append(recall_score(y_transform_Shuttle, y_pred_IF_Shuttle))\n",
    "# f1_score\n",
    "f1_scores_Shuttle.append(f1_score(y_transform_Shuttle, y_pred_IF_Shuttle))\n",
    "# Calcul de l'aire sous la courbe ROC\n",
    "auc_IF_Shuttle = roc_auc_score(y_transform_Shuttle, y_pred_IF_Shuttle)\n",
    "roc_aucs_Shuttle.append(auc_IF_Shuttle)\n",
    "print(\"Confusion Matrice IForest avec n_estimators\")\n",
    "print(confusion_matrix(y_transform_Shuttle, y_pred_IF_Shuttle))\n",
    "\n",
    "# Isolation Forest avec max_samples\n",
    "# Precision\n",
    "precisions_Shuttle.append(precision_score(y_transform_Shuttle, y_pred_IF_Shuttle_max_samples))\n",
    "# Recall\n",
    "recalls_Shuttle.append(recall_score(y_transform_Shuttle, y_pred_IF_Shuttle_max_samples))\n",
    "# f1_score\n",
    "f1_scores_Shuttle.append(f1_score(y_transform_Shuttle, y_pred_IF_Shuttle_max_samples))\n",
    "# Calcul de l'aire sous la courbe ROC\n",
    "auc_IF_Shuttle = roc_auc_score(y_transform_Shuttle, y_pred_IF_Shuttle_max_samples)\n",
    "roc_aucs_Shuttle.append(auc_IF_Shuttle)\n",
    "print(\"Confusion Matrice IForest avec max_samples\")\n",
    "print(confusion_matrix(y_transform_Shuttle, y_pred_IF_Shuttle_max_samples))\n",
    "\n",
    "# Isolation Forest avec max_samples et n_estimators\n",
    "# Precision\n",
    "precisions_Shuttle.append(precision_score(y_transform_Shuttle, y_pred_IF_Shuttle_estimators_samples))\n",
    "# Recall\n",
    "recalls_Shuttle.append(recall_score(y_transform_Shuttle, y_pred_IF_Shuttle_estimators_samples))\n",
    "# f1_score\n",
    "f1_scores_Shuttle.append(f1_score(y_transform_Shuttle, y_pred_IF_Shuttle_estimators_samples))\n",
    "# Calcul de l'aire sous la courbe ROC\n",
    "auc_IF_Shuttle = roc_auc_score(y_transform_Shuttle, y_pred_IF_Shuttle_estimators_samples)\n",
    "roc_aucs_Shuttle.append(auc_IF_Shuttle)\n",
    "print(\"Confusion Matrice IForest avec max_samples et n_estimators\")\n",
    "print(confusion_matrix(y_transform_Shuttle, y_pred_IF_Shuttle_estimators_samples))\n",
    "\n",
    "# OC-SVM\n",
    "# Precision\n",
    "precisions_Shuttle.append(precision_score(y_transform_Shuttle, y_pred_OCSVM_Shuttle))\n",
    "# Recall\n",
    "recalls_Shuttle.append(recall_score(y_transform_Shuttle, y_pred_OCSVM_Shuttle))\n",
    "# f1_score\n",
    "f1_scores_Shuttle.append(f1_score(y_transform_Shuttle, y_pred_OCSVM_Shuttle))\n",
    "# Calcul de l'aire sous la courbe ROC\n",
    "auc_OCSVM_Shuttle = roc_auc_score(y_transform_Shuttle, y_pred_OCSVM_Shuttle)\n",
    "roc_aucs_Shuttle.append(auc_OCSVM_Shuttle)\n",
    "print(\"Confusion Matrice OC-SVM\")\n",
    "print(confusion_matrix(y_transform_Shuttle, y_pred_OCSVM_Shuttle))\n",
    "\n",
    "# LOF\n",
    "# Precision\n",
    "precisions_Shuttle.append(precision_score(y_transform_Shuttle, y_pred_LOF_Shuttle))\n",
    "# Recall\n",
    "recalls_Shuttle.append(recall_score(y_transform_Shuttle, y_pred_LOF_Shuttle))\n",
    "# f1_score\n",
    "f1_scores_Shuttle.append(f1_score(y_transform_Shuttle, y_pred_LOF_Shuttle))\n",
    "# Calcul de l'aire sous la courbe ROC\n",
    "auc_LOF_Shuttle = roc_auc_score(y_transform_Shuttle, y_pred_LOF_Shuttle)\n",
    "roc_aucs_Shuttle.append(auc_LOF_Shuttle)\n",
    "print(\"Confusion Matrice LOF\")\n",
    "print(confusion_matrix(y_transform_Shuttle, y_pred_LOF_Shuttle))"
   ]
  },
  {
   "cell_type": "markdown",
   "metadata": {},
   "source": [
    "## Présentation des résultats sur Shuttle"
   ]
  },
  {
   "cell_type": "markdown",
   "metadata": {},
   "source": [
    "### Résultat : Temps d'exécution, précision, rappel, score f1, AUC"
   ]
  },
  {
   "cell_type": "code",
   "execution_count": 13,
   "metadata": {},
   "outputs": [
    {
     "name": "stdout",
     "output_type": "stream",
     "text": [
      "Methods ===>\n",
      "['IForest n_estimators', 'IForest max_samples', 'IForest max_samples et n_estimators', 'OC-SVM', 'LOF']\n",
      "Execution Time ===>\n",
      "[3.8581349849700928, 5.292931079864502, 5.464756011962891, 253.6707808971405, 32.18809700012207]\n",
      "Precision ===>\n",
      "[0.9996652239412707, 0.9999043451227969, 0.9998804314034961, 0.9982955575702629, 0.987080780873835]\n",
      "Recall ===>\n",
      "[0.917057868643882, 0.917233361119642, 0.917211424560172, 0.6038696090905102, 0.9084148642126969]\n",
      "f1_score ===>\n",
      "[0.956581431268234, 0.9567863803301946, 0.956763497820441, 0.7525320867675401, 0.9461154456870652]\n",
      "ROC AUC ===>\n",
      "[0.9505562691738773, 0.9563387762318029, 0.9557583318700631, 0.775169428691041, 0.6455513956598792]\n"
     ]
    }
   ],
   "source": [
    "print(\"Methods ===>\")\n",
    "print(methods)\n",
    "print(\"Execution Time ===>\")\n",
    "print(executions_time_Shuttle)\n",
    "print(\"Precision ===>\")\n",
    "print(precisions_Shuttle)\n",
    "print(\"Recall ===>\")\n",
    "print(recalls_Shuttle)\n",
    "print(\"f1_score ===>\")\n",
    "print(f1_scores_Shuttle)\n",
    "print(\"ROC AUC ===>\")\n",
    "print(roc_aucs_Shuttle)"
   ]
  },
  {
   "cell_type": "markdown",
   "metadata": {},
   "source": [
    "### Interprétation des résultats en fonction du Temps d'exécution, précision, rappel, score f1, AUC sur Shuttle\n",
    "IsolationForest a eu de meilleures performances que les autres.\n",
    "Entre OC-SVM et LOF : OC-SVM a découvert et bien classé plus d'anomalies que LOF. Par contre, LOF a découvert et bien placé plus d'observations normales que OC-SVM.\n",
    "La question est donc de savoir ce qui importe le plus entre la découverte des anomalies et celle des observations normales car c'est en fonction de l'importance que nous donnons à l'un ou à l'autre que nous pourront dire la méthode la meilleure entre OC-SVM et LOF.\n",
    "Cette question fait remarquer qu'en réalité, toutes les méthodes ont sont performantes dans des conditions données en fonction de ce que l'on souhaite obtenir comme résultat. Dans ce cas précis, OC-SVM lance beaucoup de fausse alertes mais attrappe beaucoup d'anomalies. Par contre, LOF n'attrappe pas beaucoup d'anomalies mais reconnais beaucoup de données normales.\n",
    "On peut peut-être se dire que dans le cas espèce OC-SVM est mieux dans la mesure où une méthode de détection d'anomalies a pour but principal de détecter les anomalies et donc laisser passer des anomalies en ferait une méthode moins bonne et que les observations normales que OC-SVM aurait classé comme anormales sont peut être des nouveautés.\n",
    "Considérant l'aire sous la courbe ROC, nous avons l'ordre suivant IForest - OC-SVM et LOF\n",
    "\n",
    "Tableau du résultat\n",
    "TOBC = VN/(VN + FP)\n",
    "TNBC = VP/(FN + VP)\n",
    "- ------------------------------------------------------------------------------------------------------------\n",
    "Méthode           |Précision | Rappel  | Score f1 | AUC     | TOBC    | TNBC    | CPU Time |\n",
    "- ------------------------------------------------------------------------------------------------------------\n",
    "IForest n         |0.9996652 |0.9170578|0.95658143|0.9505562|0.9840546|0.9170578|3.8581349 |\n",
    "- ------------------------------------------------------------------------------------------------------------\n",
    "IForest max       |0.9999043 |0.9172333|0.95678638|0.9563387|0.9954444|0.9172334|5.2929310 |\n",
    "- ------------------------------------------------------------------------------------------------------------\n",
    "IForest  n et max |0.9998804 |0.9172114|0.95676349|0.9557583|0.9943052|0.9172114|5.4647560 |\n",
    "- ------------------------------------------------------------------------------------------------------------\n",
    "OC-SVM            |0.9982955 |0.6038696|0.75253208|0.7751694|0.9464692|0.6038696|253.67078 |\n",
    "- ------------------------------------------------------------------------------------------------------------\n",
    "LOF               |0.9870807 |0.9084148|0.94611544|0.6455514|0.3826879|0.9084149|32.188097 |\n",
    "- ------------------------------------------------------------------------------------------------------------"
   ]
  },
  {
   "cell_type": "markdown",
   "metadata": {},
   "source": [
    "### Resultat: Courbe ROC pour Shuttle"
   ]
  },
  {
   "cell_type": "code",
   "execution_count": 14,
   "metadata": {},
   "outputs": [],
   "source": [
    "fpr_IF_Shuttle, tpr_IF_Shuttle, thresholds_IF_Shuttle = roc_curve(y_transform_Shuttle, y_pred_IF_Shuttle)\n",
    "fpr_IF_Shuttle_max_samples, tpr_IF_Shuttle_max_samples, thresholds_IF_Shuttle_max_samples = roc_curve(y_transform_Shuttle, y_pred_IF_Shuttle_max_samples)\n",
    "fpr_IF_Shuttle_estimators_samples, tpr_IF_Shuttle_estimators_samples, thresholds_IF_Shuttle_estimators_samples = roc_curve(y_transform_Shuttle, y_pred_IF_Shuttle_estimators_samples)\n",
    "fpr_LOF_Shuttle, tpr_LOF_Shuttle, thresholds_LOF_Shuttle = roc_curve(y_transform_Shuttle, y_pred_LOF_Shuttle)\n",
    "fpr_OCSVM_Shuttle, tpr_OCSVM_Shuttle, thresholds_OCSVM_Shuttle = roc_curve(y_transform_Shuttle, y_pred_OCSVM_Shuttle)"
   ]
  },
  {
   "cell_type": "code",
   "execution_count": 15,
   "metadata": {},
   "outputs": [
    {
     "data": {
      "image/png": "[encoded data removed]",
      "text/plain": [
       "<Figure size 432x288 with 1 Axes>"
      ]
     },
     "metadata": {
      "needs_background": "light"
     },
     "output_type": "display_data"
    }
   ],
   "source": [
    "plt.plot(fpr_IF_Shuttle, tpr_IF_Shuttle, \"g-\", label=\"IForest\") \n",
    "plt.plot(fpr_LOF_Shuttle, tpr_LOF_Shuttle, \"b--\", label=\"LOF\") \n",
    "plt.plot(fpr_OCSVM_Shuttle, tpr_OCSVM_Shuttle, \"r-\", label=\"OC-SVM\") \n",
    "plt.plot([0, 1], [0, 1], 'k--') \n",
    "plt.axis([0, 1, 0, 1])\n",
    "plt.xlabel('False Positive Rate')\n",
    "plt.ylabel('True Positive Rate')\n",
    "plt.legend(loc=\"lower right\")\n",
    "    \n",
    "plt.show()"
   ]
  },
  {
   "cell_type": "code",
   "execution_count": 16,
   "metadata": {},
   "outputs": [
    {
     "data": {
      "image/png": "[encoded data removed]",
      "text/plain": [
       "<Figure size 432x288 with 1 Axes>"
      ]
     },
     "metadata": {
      "needs_background": "light"
     },
     "output_type": "display_data"
    }
   ],
   "source": [
    "plt.plot(fpr_IF_Shuttle, tpr_IF_Shuttle, \"g-\", label=\"IForest\") \n",
    "plt.plot(fpr_IF_Shuttle_max_samples, tpr_IF_Shuttle_max_samples, \"k-\", label=\"IForest Max_Samples\") \n",
    "plt.plot(fpr_IF_Shuttle_estimators_samples, tpr_IF_Shuttle_estimators_samples, \"g--\", label=\"IForest Estimators et Samples\") \n",
    "plt.plot(fpr_LOF_Shuttle, tpr_LOF_Shuttle, \"b--\", label=\"LOF\") \n",
    "plt.plot(fpr_OCSVM_Shuttle, tpr_OCSVM_Shuttle, \"r-\", label=\"OC-SVM\") \n",
    "plt.plot([0, 1], [0, 1], 'k--') \n",
    "plt.axis([0, 1, 0, 1])\n",
    "plt.xlabel('False Positive Rate')\n",
    "plt.ylabel('True Positive Rate')\n",
    "plt.legend(loc=\"lower right\")\n",
    "    \n",
    "plt.show()"
   ]
  },
  {
   "cell_type": "markdown",
   "metadata": {},
   "source": [
    "### Interprétation de la courbe ROC\n",
    "La courbe ROC mesurant le taux de faux positif par rapport au taux de vrai positif, plus la courbe s'éloigne de celle oblique en noir, mieux c'est.\n",
    "Ainsi, on peut dire que pour Shuttle, IForest est la meilleure méthode de détection d'anomalies suivi par OC-SVM. Le classement de LOF pourrait s'expliquer par le fait que les anomalies qui y sont présentes sont des anomalies global alors que LOF est doué pour les anomalies locales. POur vérifier ça peut être qu'on peut utiliser une méthode de clustering comme K-means pour voir comment les anomalies seront classées par cette méthode."
   ]
  },
  {
   "cell_type": "markdown",
   "metadata": {},
   "source": [
    "## Conclusion Shuttle\n",
    "Pour un jeu de données statique de faible dimension, Isolation forest a tendance à mieux performer et semble être plus rapide que OC-SVM et LOF. OC-SVM détecte beaucoup d'anomalies avec un fort taux de fausses alertes et un temps d'exécution plus grand que LOF. Par contre, LOF détecte moins d'anomalies avec un faible taux de fausses alertes.\n",
    "Notons que la performance des méthodes dépends non seulement du jeu de données considéré mais aussi des valeurs des hypermaramètres. Pour LOF et IsolationForest, le temps d'exécution semble être en correlation positive avec respectivement le nombre de voisins et nombre de d'estimateurs. Par contre, le temps d'exécution serait en correlation négative avec nu."
   ]
  },
  {
   "cell_type": "code",
   "execution_count": null,
   "metadata": {},
   "outputs": [],
   "source": []
  }
 ],
 "metadata": {
  "kernelspec": {
   "display_name": "Python 3",
   "language": "python",
   "name": "python3"
  },
  "language_info": {
   "codemirror_mode": {
    "name": "ipython",
    "version": 3
   },
   "file_extension": ".py",
   "mimetype": "text/x-python",
   "name": "python",
   "nbconvert_exporter": "python",
   "pygments_lexer": "ipython3",
   "version": "3.7.3"
  }
 },
 "nbformat": 4,
 "nbformat_minor": 2
}
