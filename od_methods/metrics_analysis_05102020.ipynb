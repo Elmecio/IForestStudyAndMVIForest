{
 "cells": [
  {
   "cell_type": "code",
   "execution_count": 5,
   "metadata": {},
   "outputs": [],
   "source": [
    "import numpy as np\n",
    "import pandas as pd\n",
    "import matplotlib.pyplot as plt\n",
    "from time import time\n",
    "from sklearn.ensemble import IsolationForest\n",
    "from sklearn.svm import OneClassSVM\n",
    "from sklearn.neighbors import LocalOutlierFactor\n",
    "from sklearn.metrics import confusion_matrix\n",
    "from sklearn.metrics import roc_auc_score\n",
    "#from matplotlib.mlab import frange\n",
    "import statistics\n",
    "from sklearn.metrics import confusion_matrix\n",
    "from sklearn.metrics import precision_score, recall_score\n",
    "from sklearn.metrics import f1_score\n",
    "from sklearn.metrics import roc_curve\n",
    "from imblearn.metrics import specificity_score\n",
    "from imblearn.metrics import sensitivity_score\n",
    "import sys\n",
    "sys.path.append('../')\n",
    "from datasets import datasets as datat\n",
    "dts = datat.synthetic_datasets(path_top=\"../\")\n",
    "\n",
    "from metrics import functions\n",
    "func = functions.functions()\n"
   ]
  },
  {
   "cell_type": "code",
   "execution_count": 26,
   "metadata": {},
   "outputs": [
    {
     "name": "stdout",
     "output_type": "stream",
     "text": [
      "dataset_name = TwoD_V3.2.0\n",
      "\n",
      "Dataset Description : \n",
      "Jeu de données à 2 dimensions constitué de 1500 données normales et de 15 données anormales. \n",
      " Les données anormales se retrouvent au centre d'un grand cercle formé par les données normales. \n",
      " Les données normales sont à une distance maximale de 2 les unes des autres. \n",
      " Les données anormales se trouve à une distance minimale de 2 des données normales. \n",
      " Données normales : \n",
      " - Données aléatoires uniform \n",
      " - x entre -12 et 12,  \n",
      " - y entre -12 et 12,  \n",
      " - taille = 1500,  \n",
      " - distance euclidienne entre 7 et 9 (Grand cercle de rayon 9 et petit cercle de rayon 7) \n",
      " Données anormales : \n",
      " - Données aléatoires uniform \n",
      " - x entre -12 et 12,  \n",
      " - y entre -12 et 12,  \n",
      " - taille = 15,  \n",
      " - distance euclidienne entre 0.0 et 5 (Grand cercle de rayon 5 et petit cercle de rayon 0.0)\n",
      "\n",
      "Dataset Visualization Parameters\n",
      "x_lim = 16.0\n",
      "y_lim = 11.0\n",
      "z_lim = 0.0\n",
      "\n"
     ]
    }
   ],
   "source": [
    "X_brut, y_transform, full_dataset, x_lim, y_lim, z_lim, data_Version  = dts.TwoD2_V3_2_0()\n",
    "dataset_name = \"TwoD_\"+data_Version\n",
    "datat.datasets_infos(dataset_name=dataset_name, description=dts.description, x_lim=x_lim, y_lim=y_lim, z_lim=z_lim)"
   ]
  },
  {
   "cell_type": "markdown",
   "metadata": {},
   "source": [
    "### Exécution de Isolation Forest sur le jeux de données Shuttle en faisant varier n_estimators"
   ]
  },
  {
   "cell_type": "code",
   "execution_count": 35,
   "metadata": {},
   "outputs": [
    {
     "name": "stderr",
     "output_type": "stream",
     "text": [
      "/Users/maurrastogbe/opt/anaconda3/lib/python3.7/site-packages/sklearn/ensemble/_iforest.py:248: FutureWarning: 'behaviour' is deprecated in 0.22 and will be removed in 0.24. You should not pass or set this parameter.\n",
      "  FutureWarning\n"
     ]
    },
    {
     "name": "stdout",
     "output_type": "stream",
     "text": [
      "Prediction\n",
      "[1 1 1 ... 1 1 1]\n",
      "Score samples\n",
      "[-0.5016401  -0.50064014 -0.48586644 ... -0.5812025  -0.57887172\n",
      " -0.5810066 ]\n",
      "Decision Function\n",
      "[0.08833763 0.08933759 0.1041113  ... 0.00877523 0.01110601 0.00897113]\n"
     ]
    }
   ],
   "source": [
    "#func_IF, IFD_y_pred_IF, IFD_scores, IFD_paths_length, X_normal, X_abnormal, result_dataset, exec_time, exec_memory = func.execute_IForest_GivenPathLength(\n",
    "#        X_brut=X_brut, max_samples=max_samples, n_trees=n_trees, \n",
    "#                                                 threshold=threshold,\n",
    "#                                                 X_train=X_train)\n",
    "\n",
    "\n",
    "func_IF_Shuttle = IsolationForest(behaviour=\"new\", contamination=0.001)\n",
    "func_IF_Shuttle.fit(X_brut)\n",
    "y_pred_IF_Shuttle = func_IF_Shuttle.predict(X_brut)\n",
    "print(\"Prediction\")\n",
    "print(y_pred_IF_Shuttle)\n",
    "y_SS_IF_Shuttle = func_IF_Shuttle.score_samples(X_brut)\n",
    "print(\"Score samples\")\n",
    "print(y_SS_IF_Shuttle)\n",
    "y_DF_IF_Shuttle = func_IF_Shuttle.decision_function(X_brut)\n",
    "print(\"Decision Function\")\n",
    "print(y_DF_IF_Shuttle)"
   ]
  },
  {
   "cell_type": "code",
   "execution_count": 36,
   "metadata": {},
   "outputs": [
    {
     "name": "stdout",
     "output_type": "stream",
     "text": [
      "ROC Curve with Prediction\n",
      "fpr \n",
      "[0. 1. 1.]\n",
      "tpr \n",
      "[0.         0.99866667 1.        ]\n",
      "thresholds \n",
      "[ 2  1 -1]\n"
     ]
    },
    {
     "data": {
      "image/png": "[encoded data removed]",
      "text/plain": [
       "<Figure size 432x288 with 1 Axes>"
      ]
     },
     "metadata": {
      "needs_background": "light"
     },
     "output_type": "display_data"
    }
   ],
   "source": [
    "# ROC Curve\n",
    "fpr_pred, tpr_pred, thresholds_pred = roc_curve(y_transform, y_pred_IF_Shuttle)\n",
    "print(\"ROC Curve with Prediction\")\n",
    "print(\"fpr \")\n",
    "print(fpr_pred)\n",
    "print(\"tpr \")\n",
    "print(tpr_pred)\n",
    "print(\"thresholds \")\n",
    "print(thresholds_pred)\n",
    "plt.plot(fpr_pred, tpr_pred, \"g-\", label=\"ROC with prediction\")\n",
    "plt.plot([0, 1], [0, 1], 'k-') \n",
    "plt.axis([0, 1, 0, 1])\n",
    "plt.xlabel('False Positive Rate')\n",
    "plt.ylabel('True Positive Rate')\n",
    "plt.legend(loc=\"lower right\")\n",
    "    \n",
    "plt.show()"
   ]
  },
  {
   "cell_type": "code",
   "execution_count": 37,
   "metadata": {},
   "outputs": [
    {
     "name": "stdout",
     "output_type": "stream",
     "text": [
      "1515\n",
      "ROC Curve with Score samples\n",
      "fpr \n",
      "[0.         0.         0.         0.         0.         0.\n",
      " 0.         0.         0.         0.         0.         0.\n",
      " 0.         0.         0.         0.         0.         0.\n",
      " 0.         0.         0.         0.         0.         0.\n",
      " 0.         0.06666667 0.06666667 0.13333333 0.13333333 0.2\n",
      " 0.2        0.26666667 0.26666667 0.33333333 0.33333333 0.4\n",
      " 0.4        0.53333333 0.53333333 0.86666667 0.86666667 0.93333333\n",
      " 0.93333333 1.         1.        ]\n",
      "45\n",
      "tpr \n",
      "[0.00000000e+00 6.66666667e-04 1.59333333e-01 1.60666667e-01\n",
      " 3.50000000e-01 3.51333333e-01 3.85333333e-01 3.86666667e-01\n",
      " 3.87333333e-01 3.88666667e-01 5.37333333e-01 5.38666667e-01\n",
      " 6.00666667e-01 6.02000000e-01 6.49333333e-01 6.50666667e-01\n",
      " 7.84000000e-01 7.85333333e-01 8.03333333e-01 8.04666667e-01\n",
      " 8.70000000e-01 8.71333333e-01 9.48000000e-01 9.49333333e-01\n",
      " 9.53333333e-01 9.53333333e-01 9.78666667e-01 9.78666667e-01\n",
      " 9.84000000e-01 9.84000000e-01 9.89333333e-01 9.89333333e-01\n",
      " 9.90666667e-01 9.90666667e-01 9.91333333e-01 9.91333333e-01\n",
      " 9.93333333e-01 9.93333333e-01 9.95333333e-01 9.95333333e-01\n",
      " 9.96666667e-01 9.96666667e-01 9.98666667e-01 9.98666667e-01\n",
      " 1.00000000e+00]\n",
      "45\n",
      "thresholds \n",
      "[ 0.52634727 -0.47365273 -0.49178871 -0.49179877 -0.50087438 -0.50088068\n",
      " -0.50274139 -0.50276176 -0.50279203 -0.50280948 -0.50843834 -0.50844065\n",
      " -0.51131111 -0.5113216  -0.51400311 -0.51403747 -0.52372094 -0.52375784\n",
      " -0.52518523 -0.52521624 -0.53088092 -0.53095894 -0.54569248 -0.5462045\n",
      " -0.54711813 -0.54716471 -0.56277112 -0.56286676 -0.56578793 -0.56594869\n",
      " -0.56884574 -0.56896063 -0.57160312 -0.57319845 -0.57464226 -0.57494345\n",
      " -0.57679994 -0.57887172 -0.58044002 -0.58319873 -0.58596004 -0.58612143\n",
      " -0.58968982 -0.58993021 -0.59723216]\n",
      "45\n"
     ]
    },
    {
     "data": {
      "image/png": "[encoded data removed]",
      "text/plain": [
       "<Figure size 432x288 with 1 Axes>"
      ]
     },
     "metadata": {
      "needs_background": "light"
     },
     "output_type": "display_data"
    }
   ],
   "source": [
    "# ROC Curve\n",
    "fpr_SS, tpr_SS, thresholds_SS = roc_curve(y_transform, y_SS_IF_Shuttle)\n",
    "print(len(y_SS_IF_Shuttle))\n",
    "print(\"ROC Curve with Score samples\")\n",
    "print(\"fpr \")\n",
    "print(fpr_SS)\n",
    "print(len(fpr_SS))\n",
    "print(\"tpr \")\n",
    "print(tpr_SS)\n",
    "print(len(tpr_SS))\n",
    "print(\"thresholds \")\n",
    "print(thresholds_SS)\n",
    "print(len(thresholds_SS))\n",
    "plt.plot(fpr_SS, tpr_SS, \"g-\", label=\"ROC with Score samples\")\n",
    "plt.plot([0, 1], [0, 1], 'k-') \n",
    "plt.axis([0, 1, 0, 1])\n",
    "plt.xlabel('False Positive Rate')\n",
    "plt.ylabel('True Positive Rate')\n",
    "plt.legend(loc=\"lower right\")\n",
    "    \n",
    "plt.show()"
   ]
  },
  {
   "cell_type": "code",
   "execution_count": 38,
   "metadata": {},
   "outputs": [
    {
     "name": "stdout",
     "output_type": "stream",
     "text": [
      "ROC Curve with Decision function\n",
      "fpr \n",
      "[0.         0.         0.         0.         0.         0.\n",
      " 0.         0.         0.         0.         0.         0.\n",
      " 0.         0.         0.         0.         0.         0.\n",
      " 0.         0.         0.         0.         0.         0.\n",
      " 0.         0.06666667 0.06666667 0.13333333 0.13333333 0.2\n",
      " 0.2        0.26666667 0.26666667 0.33333333 0.33333333 0.4\n",
      " 0.4        0.53333333 0.53333333 0.86666667 0.86666667 0.93333333\n",
      " 0.93333333 1.         1.        ]\n",
      "45\n",
      "tpr \n",
      "[0.00000000e+00 6.66666667e-04 1.59333333e-01 1.60666667e-01\n",
      " 3.50000000e-01 3.51333333e-01 3.85333333e-01 3.86666667e-01\n",
      " 3.87333333e-01 3.88666667e-01 5.37333333e-01 5.38666667e-01\n",
      " 6.00666667e-01 6.02000000e-01 6.49333333e-01 6.50666667e-01\n",
      " 7.84000000e-01 7.85333333e-01 8.03333333e-01 8.04666667e-01\n",
      " 8.70000000e-01 8.71333333e-01 9.48000000e-01 9.49333333e-01\n",
      " 9.53333333e-01 9.53333333e-01 9.78666667e-01 9.78666667e-01\n",
      " 9.84000000e-01 9.84000000e-01 9.89333333e-01 9.89333333e-01\n",
      " 9.90666667e-01 9.90666667e-01 9.91333333e-01 9.91333333e-01\n",
      " 9.93333333e-01 9.93333333e-01 9.95333333e-01 9.95333333e-01\n",
      " 9.96666667e-01 9.96666667e-01 9.98666667e-01 9.98666667e-01\n",
      " 1.00000000e+00]\n",
      "45\n",
      "thresholds \n",
      "[ 1.11632500e+00  1.16325004e-01  9.81890177e-02  9.81789581e-02\n",
      "  8.91033575e-02  8.90970541e-02  8.72363446e-02  8.72159746e-02\n",
      "  8.71856990e-02  8.71682540e-02  8.15393885e-02  8.15370792e-02\n",
      "  7.86666179e-02  7.86561364e-02  7.59746261e-02  7.59402644e-02\n",
      "  6.62567880e-02  6.62198902e-02  6.47924984e-02  6.47614929e-02\n",
      "  5.90968093e-02  5.90187931e-02  4.42852492e-02  4.37732324e-02\n",
      "  4.28595992e-02  4.28130187e-02  2.72066154e-02  2.71109700e-02\n",
      "  2.41898067e-02  2.40290380e-02  2.11319882e-02  2.10171007e-02\n",
      "  1.83746176e-02  1.67792833e-02  1.53354769e-02  1.50342786e-02\n",
      "  1.31777906e-02  1.11060129e-02  9.53771068e-03  6.77899949e-03\n",
      "  4.01769714e-03  3.85630441e-03  2.87908799e-04  4.75195057e-05\n",
      " -7.25442988e-03]\n",
      "45\n"
     ]
    },
    {
     "data": {
      "image/png": "[encoded data removed]",
      "text/plain": [
       "<Figure size 432x288 with 1 Axes>"
      ]
     },
     "metadata": {
      "needs_background": "light"
     },
     "output_type": "display_data"
    }
   ],
   "source": [
    "# ROC Curve\n",
    "fpr_DF, tpr_DF, thresholds_DF = roc_curve(y_transform, y_DF_IF_Shuttle)\n",
    "print(\"ROC Curve with Decision function\")\n",
    "print(\"fpr \")\n",
    "print(fpr_DF)\n",
    "print(len(fpr_DF))\n",
    "print(\"tpr \")\n",
    "print(tpr_DF)\n",
    "print(len(tpr_DF))\n",
    "print(\"thresholds \")\n",
    "print(thresholds_DF)\n",
    "print(len(thresholds_DF))\n",
    "plt.plot(fpr_DF, tpr_DF, \"g-\", label=\"ROC with Decision function\")\n",
    "plt.plot([0, 1], [0, 1], 'k-') \n",
    "plt.axis([0, 1, 0, 1])\n",
    "plt.xlabel('False Positive Rate')\n",
    "plt.ylabel('True Positive Rate')\n",
    "plt.legend(loc=\"lower right\")\n",
    "    \n",
    "plt.show()"
   ]
  },
  {
   "cell_type": "code",
   "execution_count": null,
   "metadata": {},
   "outputs": [],
   "source": []
  },
  {
   "cell_type": "code",
   "execution_count": null,
   "metadata": {},
   "outputs": [],
   "source": []
  }
 ],
 "metadata": {
  "kernelspec": {
   "display_name": "Python 3",
   "language": "python",
   "name": "python3"
  },
  "language_info": {
   "codemirror_mode": {
    "name": "ipython",
    "version": 3
   },
   "file_extension": ".py",
   "mimetype": "text/x-python",
   "name": "python",
   "nbconvert_exporter": "python",
   "pygments_lexer": "ipython3",
   "version": "3.7.4"
  }
 },
 "nbformat": 4,
 "nbformat_minor": 2
}
