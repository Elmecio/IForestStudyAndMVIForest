{
 "cells": [
  {
   "cell_type": "code",
   "execution_count": 5,
   "metadata": {},
   "outputs": [],
   "source": [
    "import numpy as np\n",
    "import pandas as pd\n",
    "import matplotlib.pyplot as plt\n",
    "from time import time\n",
    "from sklearn.ensemble import IsolationForest\n",
    "from sklearn.svm import OneClassSVM\n",
    "from sklearn.neighbors import LocalOutlierFactor\n",
    "from sklearn.metrics import confusion_matrix\n",
    "from sklearn.metrics import roc_auc_score\n",
    "#from matplotlib.mlab import frange\n",
    "import statistics\n",
    "from sklearn.metrics import confusion_matrix\n",
    "from sklearn.metrics import precision_score, recall_score\n",
    "from sklearn.metrics import f1_score\n",
    "from sklearn.metrics import roc_curve\n",
    "from imblearn.metrics import specificity_score\n",
    "from imblearn.metrics import sensitivity_score\n",
    "import sys\n",
    "sys.path.append('../')\n",
    "from datasets import datasets as datat\n",
    "dts = datat.synthetic_datasets(path_top=\"../\")\n",
    "\n",
    "from metrics import functions\n",
    "func = functions.functions()\n"
   ]
  },
  {
   "cell_type": "code",
   "execution_count": 26,
   "metadata": {},
   "outputs": [
    {
     "name": "stdout",
     "output_type": "stream",
     "text": [
      "dataset_name = TwoD_V3.2.0\n",
      "\n",
      "Dataset Description : \n",
      "Jeu de données à 2 dimensions constitué de 1500 données normales et de 15 données anormales. \n",
      " Les données anormales se retrouvent au centre d'un grand cercle formé par les données normales. \n",
      " Les données normales sont à une distance maximale de 2 les unes des autres. \n",
      " Les données anormales se trouve à une distance minimale de 2 des données normales. \n",
      " Données normales : \n",
      " - Données aléatoires uniform \n",
      " - x entre -12 et 12,  \n",
      " - y entre -12 et 12,  \n",
      " - taille = 1500,  \n",
      " - distance euclidienne entre 7 et 9 (Grand cercle de rayon 9 et petit cercle de rayon 7) \n",
      " Données anormales : \n",
      " - Données aléatoires uniform \n",
      " - x entre -12 et 12,  \n",
      " - y entre -12 et 12,  \n",
      " - taille = 15,  \n",
      " - distance euclidienne entre 0.0 et 5 (Grand cercle de rayon 5 et petit cercle de rayon 0.0)\n",
      "\n",
      "Dataset Visualization Parameters\n",
      "x_lim = 16.0\n",
      "y_lim = 11.0\n",
      "z_lim = 0.0\n",
      "\n"
     ]
    }
   ],
   "source": [
    "X_brut, y_transform, full_dataset, x_lim, y_lim, z_lim, data_Version  = dts.TwoD2_V3_2_0()\n",
    "dataset_name = \"TwoD_\"+data_Version\n",
    "datat.datasets_infos(dataset_name=dataset_name, description=dts.description, x_lim=x_lim, y_lim=y_lim, z_lim=z_lim)"
   ]
  },
  {
   "cell_type": "markdown",
   "metadata": {},
   "source": [
    "### Exécution de Isolation Forest sur le jeux de données Shuttle en faisant varier n_estimators"
   ]
  },
  {
   "cell_type": "code",
   "execution_count": 31,
   "metadata": {},
   "outputs": [
    {
     "name": "stderr",
     "output_type": "stream",
     "text": [
      "/Users/maurrastogbe/opt/anaconda3/lib/python3.7/site-packages/sklearn/ensemble/_iforest.py:248: FutureWarning: 'behaviour' is deprecated in 0.22 and will be removed in 0.24. You should not pass or set this parameter.\n",
      "  FutureWarning\n"
     ]
    },
    {
     "name": "stdout",
     "output_type": "stream",
     "text": [
      "Prediction\n",
      "[ 1  1  1 ... -1  1 -1]\n",
      "Score samples\n",
      "[-0.50038961 -0.5066625  -0.49811078 ... -0.58051272 -0.57782255\n",
      " -0.58420144]\n",
      "Decision Function\n",
      "[ 0.07993126  0.07365837  0.08221009 ... -0.00019185  0.00249831\n",
      " -0.00388058]\n"
     ]
    }
   ],
   "source": [
    "#func_IF, IFD_y_pred_IF, IFD_scores, IFD_paths_length, X_normal, X_abnormal, result_dataset, exec_time, exec_memory = func.execute_IForest_GivenPathLength(\n",
    "#        X_brut=X_brut, max_samples=max_samples, n_trees=n_trees, \n",
    "#                                                 threshold=threshold,\n",
    "#                                                 X_train=X_train)\n",
    "\n",
    "\n",
    "func_IF_Shuttle = IsolationForest(behaviour=\"new\", contamination=0.001)\n",
    "func_IF_Shuttle.fit(X_brut)\n",
    "y_pred_IF_Shuttle = func_IF_Shuttle.predict(X_brut)\n",
    "print(\"Prediction\")\n",
    "print(y_pred_IF_Shuttle)\n",
    "y_SS_IF_Shuttle = func_IF_Shuttle.score_samples(X_brut)\n",
    "print(\"Score samples\")\n",
    "print(y_SS_IF_Shuttle)\n",
    "y_DF_IF_Shuttle = func_IF_Shuttle.decision_function(X_brut)\n",
    "print(\"Decision Function\")\n",
    "print(y_DF_IF_Shuttle)"
   ]
  },
  {
   "cell_type": "code",
   "execution_count": 32,
   "metadata": {},
   "outputs": [
    {
     "name": "stdout",
     "output_type": "stream",
     "text": [
      "ROC Curve with Prediction\n",
      "fpr \n",
      "[0.         0.33333333 1.        ]\n",
      "tpr \n",
      "[0.    0.996 1.   ]\n",
      "thresholds \n",
      "[ 2  1 -1]\n"
     ]
    },
    {
     "data": {
      "image/png": "[encoded data removed]",
      "text/plain": [
       "<Figure size 432x288 with 1 Axes>"
      ]
     },
     "metadata": {
      "needs_background": "light"
     },
     "output_type": "display_data"
    }
   ],
   "source": [
    "# ROC Curve\n",
    "fpr_pred, tpr_pred, thresholds_pred = roc_curve(y_transform, y_pred_IF_Shuttle)\n",
    "print(\"ROC Curve with Prediction\")\n",
    "print(\"fpr \")\n",
    "print(fpr_pred)\n",
    "print(\"tpr \")\n",
    "print(tpr_pred)\n",
    "print(\"thresholds \")\n",
    "print(thresholds_pred)\n",
    "plt.plot(fpr_pred, tpr_pred, \"g-\", label=\"ROC with prediction\")\n",
    "plt.plot([0, 1], [0, 1], 'k-') \n",
    "plt.axis([0, 1, 0, 1])\n",
    "plt.xlabel('False Positive Rate')\n",
    "plt.ylabel('True Positive Rate')\n",
    "plt.legend(loc=\"lower right\")\n",
    "    \n",
    "plt.show()"
   ]
  },
  {
   "cell_type": "code",
   "execution_count": 33,
   "metadata": {},
   "outputs": [
    {
     "name": "stdout",
     "output_type": "stream",
     "text": [
      "1515\n",
      "ROC Curve with Score samples\n",
      "fpr \n",
      "[0.         0.         0.         0.         0.         0.\n",
      " 0.         0.         0.         0.         0.         0.\n",
      " 0.         0.         0.         0.         0.         0.06666667\n",
      " 0.06666667 0.13333333 0.13333333 0.2        0.2        0.26666667\n",
      " 0.26666667 0.33333333 0.33333333 0.4        0.4        0.46666667\n",
      " 0.46666667 0.53333333 0.53333333 0.66666667 0.66666667 1.        ]\n",
      "36\n",
      "tpr \n",
      "[0.00000000e+00 6.66666667e-04 4.66666667e-02 4.80000000e-02\n",
      " 3.48666667e-01 3.50000000e-01 5.11333333e-01 5.12666667e-01\n",
      " 5.88000000e-01 5.89333333e-01 5.94000000e-01 5.95333333e-01\n",
      " 8.18666667e-01 8.20000000e-01 9.02666667e-01 9.04000000e-01\n",
      " 9.39333333e-01 9.39333333e-01 9.74666667e-01 9.74666667e-01\n",
      " 9.80666667e-01 9.80666667e-01 9.93333333e-01 9.93333333e-01\n",
      " 9.94000000e-01 9.94000000e-01 9.96000000e-01 9.96000000e-01\n",
      " 9.96666667e-01 9.96666667e-01 9.98666667e-01 9.98666667e-01\n",
      " 9.99333333e-01 9.99333333e-01 1.00000000e+00 1.00000000e+00]\n",
      "36\n",
      "thresholds \n",
      "[ 0.52820746 -0.47179254 -0.48902517 -0.48912783 -0.50607599 -0.50610786\n",
      " -0.51180558 -0.51182437 -0.5147929  -0.51480279 -0.5150296  -0.51506695\n",
      " -0.52854491 -0.52858374 -0.54005904 -0.54026058 -0.55079036 -0.55079209\n",
      " -0.56341702 -0.5638235  -0.56768746 -0.56803021 -0.57514118 -0.57630336\n",
      " -0.5770877  -0.57782255 -0.57914234 -0.58051272 -0.58069678 -0.58138035\n",
      " -0.58297277 -0.58420144 -0.58591088 -0.5873801  -0.5880732  -0.59813792]\n",
      "36\n"
     ]
    },
    {
     "data": {
      "image/png": "[encoded data removed]",
      "text/plain": [
       "<Figure size 432x288 with 1 Axes>"
      ]
     },
     "metadata": {
      "needs_background": "light"
     },
     "output_type": "display_data"
    }
   ],
   "source": [
    "# ROC Curve\n",
    "fpr_SS, tpr_SS, thresholds_SS = roc_curve(y_transform, y_SS_IF_Shuttle)\n",
    "print(len(y_SS_IF_Shuttle))\n",
    "print(\"ROC Curve with Score samples\")\n",
    "print(\"fpr \")\n",
    "print(fpr_SS)\n",
    "print(len(fpr_SS))\n",
    "print(\"tpr \")\n",
    "print(tpr_SS)\n",
    "print(len(tpr_SS))\n",
    "print(\"thresholds \")\n",
    "print(thresholds_SS)\n",
    "print(len(thresholds_SS))\n",
    "plt.plot(fpr_SS, tpr_SS, \"g-\", label=\"ROC with Score samples\")\n",
    "plt.plot([0, 1], [0, 1], 'k-') \n",
    "plt.axis([0, 1, 0, 1])\n",
    "plt.xlabel('False Positive Rate')\n",
    "plt.ylabel('True Positive Rate')\n",
    "plt.legend(loc=\"lower right\")\n",
    "    \n",
    "plt.show()"
   ]
  },
  {
   "cell_type": "code",
   "execution_count": 34,
   "metadata": {},
   "outputs": [
    {
     "name": "stdout",
     "output_type": "stream",
     "text": [
      "ROC Curve with Decision function\n",
      "fpr \n",
      "[0.         0.         0.         0.         0.         0.\n",
      " 0.         0.         0.         0.         0.         0.\n",
      " 0.         0.         0.         0.         0.         0.06666667\n",
      " 0.06666667 0.13333333 0.13333333 0.2        0.2        0.26666667\n",
      " 0.26666667 0.33333333 0.33333333 0.4        0.4        0.46666667\n",
      " 0.46666667 0.53333333 0.53333333 0.66666667 0.66666667 1.        ]\n",
      "36\n",
      "tpr \n",
      "[0.00000000e+00 6.66666667e-04 4.66666667e-02 4.80000000e-02\n",
      " 3.48666667e-01 3.50000000e-01 5.11333333e-01 5.12666667e-01\n",
      " 5.88000000e-01 5.89333333e-01 5.94000000e-01 5.95333333e-01\n",
      " 8.18666667e-01 8.20000000e-01 9.02666667e-01 9.04000000e-01\n",
      " 9.39333333e-01 9.39333333e-01 9.74666667e-01 9.74666667e-01\n",
      " 9.80666667e-01 9.80666667e-01 9.93333333e-01 9.93333333e-01\n",
      " 9.94000000e-01 9.94000000e-01 9.96000000e-01 9.96000000e-01\n",
      " 9.96666667e-01 9.96666667e-01 9.98666667e-01 9.98666667e-01\n",
      " 9.99333333e-01 9.99333333e-01 1.00000000e+00 1.00000000e+00]\n",
      "36\n",
      "thresholds \n",
      "[ 1.10852832e+00  1.08528323e-01  9.12956900e-02  9.11930336e-02\n",
      "  7.42448708e-02  7.42130007e-02  6.85152881e-02  6.84964935e-02\n",
      "  6.55279641e-02  6.55180709e-02  6.52912628e-02  6.52539168e-02\n",
      "  5.17759577e-02  5.17371239e-02  4.02618281e-02  4.00602853e-02\n",
      "  2.95305076e-02  2.95287716e-02  1.69038489e-02  1.64973610e-02\n",
      "  1.26334038e-02  1.22906561e-02  5.17967950e-03  4.01749953e-03\n",
      "  3.23316031e-03  2.49831332e-03  1.17852246e-03 -1.91852493e-04\n",
      " -3.75915065e-04 -1.05948569e-03 -2.65191084e-03 -3.88057744e-03\n",
      " -5.59001545e-03 -7.05923374e-03 -7.75233846e-03 -1.78170570e-02]\n",
      "36\n"
     ]
    },
    {
     "data": {
      "image/png": "[encoded data removed]",
      "text/plain": [
       "<Figure size 432x288 with 1 Axes>"
      ]
     },
     "metadata": {
      "needs_background": "light"
     },
     "output_type": "display_data"
    }
   ],
   "source": [
    "# ROC Curve\n",
    "fpr_DF, tpr_DF, thresholds_DF = roc_curve(y_transform, y_DF_IF_Shuttle)\n",
    "print(\"ROC Curve with Decision function\")\n",
    "print(\"fpr \")\n",
    "print(fpr_DF)\n",
    "print(len(fpr_DF))\n",
    "print(\"tpr \")\n",
    "print(tpr_DF)\n",
    "print(len(tpr_DF))\n",
    "print(\"thresholds \")\n",
    "print(thresholds_DF)\n",
    "print(len(thresholds_DF))\n",
    "plt.plot(fpr_DF, tpr_DF, \"g-\", label=\"ROC with Decision function\")\n",
    "plt.plot([0, 1], [0, 1], 'k-') \n",
    "plt.axis([0, 1, 0, 1])\n",
    "plt.xlabel('False Positive Rate')\n",
    "plt.ylabel('True Positive Rate')\n",
    "plt.legend(loc=\"lower right\")\n",
    "    \n",
    "plt.show()"
   ]
  },
  {
   "cell_type": "code",
   "execution_count": null,
   "metadata": {},
   "outputs": [],
   "source": []
  },
  {
   "cell_type": "code",
   "execution_count": null,
   "metadata": {},
   "outputs": [],
   "source": []
  }
 ],
 "metadata": {
  "kernelspec": {
   "display_name": "Python 3",
   "language": "python",
   "name": "python3"
  },
  "language_info": {
   "codemirror_mode": {
    "name": "ipython",
    "version": 3
   },
   "file_extension": ".py",
   "mimetype": "text/x-python",
   "name": "python",
   "nbconvert_exporter": "python",
   "pygments_lexer": "ipython3",
   "version": "3.7.4"
  }
 },
 "nbformat": 4,
 "nbformat_minor": 2
}
