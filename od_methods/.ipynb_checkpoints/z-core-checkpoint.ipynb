{
 "cells": [
  {
   "cell_type": "code",
   "execution_count": 16,
   "metadata": {},
   "outputs": [],
   "source": [
    "import numpy as np\n",
    "a = np.array([ 0.7972,  0.0767,  0.4383,  0.7866,  0.8091,  0.1954, 0.6307, 0.6599,  0.1065,  0.0508])"
   ]
  },
  {
   "cell_type": "code",
   "execution_count": 17,
   "metadata": {},
   "outputs": [
    {
     "name": "stdout",
     "output_type": "stream",
     "text": [
      "len(dataset) = 10\n",
      "mean of the dataset = 0.45511999999999986\n"
     ]
    }
   ],
   "source": [
    "#Manual calculation of z-score of the data\n",
    "#Calcul of the mean\n",
    "sum_value = 0\n",
    "for v in a:\n",
    "    sum_value += v\n",
    "mean = sum_value/len(a)\n",
    "print(\"len(dataset) = {}\".format(len(a)))\n",
    "print(\"mean of the dataset = {}\".format(mean))"
   ]
  },
  {
   "cell_type": "code",
   "execution_count": 31,
   "metadata": {},
   "outputs": [
    {
     "name": "stdout",
     "output_type": "stream",
     "text": [
      "Standart deviation of the dataset = 0.1066268673435836\n"
     ]
    }
   ],
   "source": [
    "#Calcul of the standart deviation\n",
    "import math\n",
    "sum_deviation = 0\n",
    "for v in a:\n",
    "    sum_deviation += (v - mean)**2\n",
    "standart_deviation = math.sqrt((sum_deviation) / (len(a) - 1)**2)\n",
    "print(\"Standart deviation of the dataset = {}\".format(standart_deviation))"
   ]
  },
  {
   "cell_type": "code",
   "execution_count": 28,
   "metadata": {},
   "outputs": [
    {
     "name": "stdout",
     "output_type": "stream",
     "text": [
      "zscore of dataset = \n",
      " [3.208197038160338, -3.549011702469113, -0.15774635810879423, 3.1087849456542, 3.3198011797474174, -2.4357838363862316, 1.6466769058705346, 1.920529085227065, -3.2695324235367638, -3.791914834158638]\n"
     ]
    }
   ],
   "source": [
    "#calculation of the z-score\n",
    "zscore = []\n",
    "for v in a:\n",
    "    zscore.append((v - mean)/standart_deviation)\n",
    "print(\"zscore of dataset = \\n {}\".format(zscore))"
   ]
  },
  {
   "cell_type": "code",
   "execution_count": 13,
   "metadata": {},
   "outputs": [
    {
     "name": "stdout",
     "output_type": "stream",
     "text": [
      "Scipy mean of the dataset = 0.45511999999999986\n",
      "Scipy Standart deviation of the dataset = 0.30346538451691657\n",
      "Scipy Zscore function result = \n",
      "[ 1.12724554 -1.2469956  -0.05542642  1.09231569  1.16645923 -0.8558472\n",
      "  0.57858329  0.67480514 -1.14879659 -1.33234306]\n"
     ]
    }
   ],
   "source": [
    "#use of scipy stats zscore function\n",
    "from scipy import stats\n",
    "scipy_mean = a.mean()\n",
    "scipy_std = a.std()\n",
    "scipy_zscore = stats.zscore(a)\n",
    "print(\"Scipy mean of the dataset = {}\".format(scipy_mean))\n",
    "print(\"Scipy Standart deviation of the dataset = {}\".format(scipy_std))\n",
    "print(\"Scipy Zscore function result = \\n{}\".format(scipy_zscore))"
   ]
  },
  {
   "cell_type": "code",
   "execution_count": null,
   "metadata": {},
   "outputs": [],
   "source": []
  }
 ],
 "metadata": {
  "kernelspec": {
   "display_name": "Python 3",
   "language": "python",
   "name": "python3"
  },
  "language_info": {
   "codemirror_mode": {
    "name": "ipython",
    "version": 3
   },
   "file_extension": ".py",
   "mimetype": "text/x-python",
   "name": "python",
   "nbconvert_exporter": "python",
   "pygments_lexer": "ipython3",
   "version": "3.7.3"
  }
 },
 "nbformat": 4,
 "nbformat_minor": 2
}
