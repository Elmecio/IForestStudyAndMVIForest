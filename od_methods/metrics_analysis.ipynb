{
 "cells": [
  {
   "cell_type": "markdown",
   "metadata": {},
   "source": [
    "#### decision_function\n",
    "Average anomaly score of X of the base classifiers.\n",
    "The anomaly score of an input sample is computed as the mean anomaly score of the trees in the forest.\n",
    "The measure of normality of an observation given a tree is the depth of the leaf containing this observation, which is equivalent to the number of splittings required to isolate this point. In case of several observations n_left in the leaf, the average path length of a n_left samples isolation tree is added.\n",
    "Parameters:\t\n",
    "X : array-like or sparse matrix, shape (n_samples, n_features)\n",
    "The input samples. Internally, it will be converted to dtype=np.float32 and if a sparse matrix is provided to a sparse csr_matrix.\n",
    "Returns:\t\n",
    "scores : array, shape (n_samples,)\n",
    "The anomaly score of the input samples. The lower, the more abnormal. Negative scores represent outliers, positive scores represent inliers.\n",
    "\n",
    "#### predict\n",
    "Predict if a particular sample is an outlier or not.\n",
    "Parameters:\t\n",
    "X : array-like or sparse matrix, shape (n_samples, n_features)\n",
    "The input samples. Internally, it will be converted to dtype=np.float32 and if a sparse matrix is provided to a sparse csr_matrix.\n",
    "Returns:\t\n",
    "is_inlier : array, shape (n_samples,)\n",
    "For each observation, tells whether or not (+1 or -1) it should be considered as an inlier according to the fitted model.\n",
    "\n",
    "#### score_samples\n",
    "Opposite of the anomaly score defined in the original paper.\n",
    "The anomaly score of an input sample is computed as the mean anomaly score of the trees in the forest.\n",
    "The measure of normality of an observation given a tree is the depth of the leaf containing this observation, which is equivalent to the number of splittings required to isolate this point. In case of several observations n_left in the leaf, the average path length of a n_left samples isolation tree is added.\n",
    "Parameters:\t\n",
    "X : array-like or sparse matrix, shape (n_samples, n_features)\n",
    "The input samples.\n",
    "Returns:\t\n",
    "scores : array, shape (n_samples,)\n",
    "The anomaly score of the input samples. The lower, the more abnormal."
   ]
  },
  {
   "cell_type": "code",
   "execution_count": 1,
   "metadata": {},
   "outputs": [],
   "source": [
    "import numpy as np\n",
    "import pandas as pd\n",
    "import matplotlib.pyplot as plt\n",
    "from time import time\n",
    "from sklearn.ensemble import IsolationForest\n",
    "from sklearn.svm import OneClassSVM\n",
    "from sklearn.neighbors import LocalOutlierFactor\n",
    "from sklearn.metrics import confusion_matrix\n",
    "from sklearn.metrics import roc_auc_score\n",
    "#from matplotlib.mlab import frange\n",
    "import statistics\n",
    "from sklearn.metrics import confusion_matrix\n",
    "from sklearn.metrics import precision_score, recall_score\n",
    "from sklearn.metrics import f1_score\n",
    "from sklearn.metrics import roc_curve\n",
    "from imblearn.metrics import specificity_score\n",
    "from imblearn.metrics import sensitivity_score\n",
    "import sys\n",
    "sys.path.append('../')\n",
    "from datasets import datasets as datat\n"
   ]
  },
  {
   "cell_type": "markdown",
   "metadata": {},
   "source": [
    "## Chargement du jeu de données Shuttle"
   ]
  },
  {
   "cell_type": "markdown",
   "metadata": {},
   "source": [
    "Shuttle contient 10 attributs dont le dernier est la classe à expliquer.\n",
    "Il y a 46464 observations dont 878 anormales.\n",
    "Avec le dernier attribut, nous avons les classes \"o\" pour les anomalies et \"n\" pour les observations normales."
   ]
  },
  {
   "cell_type": "code",
   "execution_count": 2,
   "metadata": {},
   "outputs": [
    {
     "data": {
      "text/html": [
       "<div>\n",
       "<style scoped>\n",
       "    .dataframe tbody tr th:only-of-type {\n",
       "        vertical-align: middle;\n",
       "    }\n",
       "\n",
       "    .dataframe tbody tr th {\n",
       "        vertical-align: top;\n",
       "    }\n",
       "\n",
       "    .dataframe thead th {\n",
       "        text-align: right;\n",
       "    }\n",
       "</style>\n",
       "<table border=\"1\" class=\"dataframe\">\n",
       "  <thead>\n",
       "    <tr style=\"text-align: right;\">\n",
       "      <th></th>\n",
       "      <th>0</th>\n",
       "      <th>1</th>\n",
       "      <th>2</th>\n",
       "      <th>3</th>\n",
       "      <th>4</th>\n",
       "      <th>5</th>\n",
       "      <th>6</th>\n",
       "      <th>7</th>\n",
       "    </tr>\n",
       "  </thead>\n",
       "  <tbody>\n",
       "    <tr>\n",
       "      <td>0</td>\n",
       "      <td>108.0</td>\n",
       "      <td>3.0</td>\n",
       "      <td>109.0</td>\n",
       "      <td>0.0</td>\n",
       "      <td>72.0</td>\n",
       "      <td>7.0</td>\n",
       "      <td>1.0</td>\n",
       "      <td>36.0</td>\n",
       "    </tr>\n",
       "    <tr>\n",
       "      <td>1</td>\n",
       "      <td>81.0</td>\n",
       "      <td>0.0</td>\n",
       "      <td>84.0</td>\n",
       "      <td>0.0</td>\n",
       "      <td>-14.0</td>\n",
       "      <td>-2.0</td>\n",
       "      <td>4.0</td>\n",
       "      <td>100.0</td>\n",
       "    </tr>\n",
       "    <tr>\n",
       "      <td>2</td>\n",
       "      <td>81.0</td>\n",
       "      <td>0.0</td>\n",
       "      <td>84.0</td>\n",
       "      <td>0.0</td>\n",
       "      <td>-20.0</td>\n",
       "      <td>16.0</td>\n",
       "      <td>4.0</td>\n",
       "      <td>105.0</td>\n",
       "    </tr>\n",
       "    <tr>\n",
       "      <td>3</td>\n",
       "      <td>76.0</td>\n",
       "      <td>-1.0</td>\n",
       "      <td>81.0</td>\n",
       "      <td>0.0</td>\n",
       "      <td>-42.0</td>\n",
       "      <td>-3.0</td>\n",
       "      <td>5.0</td>\n",
       "      <td>125.0</td>\n",
       "    </tr>\n",
       "    <tr>\n",
       "      <td>4</td>\n",
       "      <td>105.0</td>\n",
       "      <td>0.0</td>\n",
       "      <td>107.0</td>\n",
       "      <td>2.0</td>\n",
       "      <td>70.0</td>\n",
       "      <td>0.0</td>\n",
       "      <td>1.0</td>\n",
       "      <td>37.0</td>\n",
       "    </tr>\n",
       "    <tr>\n",
       "      <td>...</td>\n",
       "      <td>...</td>\n",
       "      <td>...</td>\n",
       "      <td>...</td>\n",
       "      <td>...</td>\n",
       "      <td>...</td>\n",
       "      <td>...</td>\n",
       "      <td>...</td>\n",
       "      <td>...</td>\n",
       "    </tr>\n",
       "    <tr>\n",
       "      <td>46459</td>\n",
       "      <td>46.0</td>\n",
       "      <td>5.0</td>\n",
       "      <td>78.0</td>\n",
       "      <td>0.0</td>\n",
       "      <td>46.0</td>\n",
       "      <td>5.0</td>\n",
       "      <td>32.0</td>\n",
       "      <td>32.0</td>\n",
       "    </tr>\n",
       "    <tr>\n",
       "      <td>46460</td>\n",
       "      <td>37.0</td>\n",
       "      <td>0.0</td>\n",
       "      <td>79.0</td>\n",
       "      <td>-1.0</td>\n",
       "      <td>10.0</td>\n",
       "      <td>3.0</td>\n",
       "      <td>43.0</td>\n",
       "      <td>69.0</td>\n",
       "    </tr>\n",
       "    <tr>\n",
       "      <td>46461</td>\n",
       "      <td>48.0</td>\n",
       "      <td>0.0</td>\n",
       "      <td>78.0</td>\n",
       "      <td>3.0</td>\n",
       "      <td>46.0</td>\n",
       "      <td>0.0</td>\n",
       "      <td>30.0</td>\n",
       "      <td>32.0</td>\n",
       "    </tr>\n",
       "    <tr>\n",
       "      <td>46462</td>\n",
       "      <td>41.0</td>\n",
       "      <td>0.0</td>\n",
       "      <td>79.0</td>\n",
       "      <td>0.0</td>\n",
       "      <td>38.0</td>\n",
       "      <td>-25.0</td>\n",
       "      <td>38.0</td>\n",
       "      <td>40.0</td>\n",
       "    </tr>\n",
       "    <tr>\n",
       "      <td>46463</td>\n",
       "      <td>40.0</td>\n",
       "      <td>-3.0</td>\n",
       "      <td>100.0</td>\n",
       "      <td>0.0</td>\n",
       "      <td>38.0</td>\n",
       "      <td>0.0</td>\n",
       "      <td>61.0</td>\n",
       "      <td>62.0</td>\n",
       "    </tr>\n",
       "  </tbody>\n",
       "</table>\n",
       "<p>46464 rows × 8 columns</p>\n",
       "</div>"
      ],
      "text/plain": [
       "           0    1      2    3     4     5     6      7\n",
       "0      108.0  3.0  109.0  0.0  72.0   7.0   1.0   36.0\n",
       "1       81.0  0.0   84.0  0.0 -14.0  -2.0   4.0  100.0\n",
       "2       81.0  0.0   84.0  0.0 -20.0  16.0   4.0  105.0\n",
       "3       76.0 -1.0   81.0  0.0 -42.0  -3.0   5.0  125.0\n",
       "4      105.0  0.0  107.0  2.0  70.0   0.0   1.0   37.0\n",
       "...      ...  ...    ...  ...   ...   ...   ...    ...\n",
       "46459   46.0  5.0   78.0  0.0  46.0   5.0  32.0   32.0\n",
       "46460   37.0  0.0   79.0 -1.0  10.0   3.0  43.0   69.0\n",
       "46461   48.0  0.0   78.0  3.0  46.0   0.0  30.0   32.0\n",
       "46462   41.0  0.0   79.0  0.0  38.0 -25.0  38.0   40.0\n",
       "46463   40.0 -3.0  100.0  0.0  38.0   0.0  61.0   62.0\n",
       "\n",
       "[46464 rows x 8 columns]"
      ]
     },
     "execution_count": 2,
     "metadata": {},
     "output_type": "execute_result"
    }
   ],
   "source": [
    "dts = datat.reals_datasets()\n",
    "X_Shuttle, y_transform_Shuttle = dts.Shuttle_Goldein()\n",
    "\n",
    "#data_brut_Shuttle = pd.read_csv('/Users/thesard/Doctorat/These2018/ISEP/Developpements/EspaceIntelliJ/LearningAllInPython/Learning_IHM_Features/datasets/imported_datasets/shuttle-unsupervised-ad_2019-06-14 17:33:02.493755.csv', header=None, index_col=None)\n",
    "#X_Shuttle = data_brut_Shuttle[[0, 1, 2, 3, 4, 5, 6, 7, 8]]\n",
    "#y_brut_Shuttle = data_brut_Shuttle[[9]]\n",
    "#data_brut_Shuttle.describe()\n",
    "X_Shuttle"
   ]
  },
  {
   "cell_type": "markdown",
   "metadata": {},
   "source": [
    "## Transformation de la classe à expliquer"
   ]
  },
  {
   "cell_type": "markdown",
   "metadata": {},
   "source": [
    "L'objectif ici est de remplacer les \"o\" par -1 et les \"n\" par 1 afin de faire les matrices de confusion avec la fonction dédiée de scikit-learn."
   ]
  },
  {
   "cell_type": "code",
   "execution_count": 3,
   "metadata": {},
   "outputs": [
    {
     "data": {
      "text/plain": [
       "array([-1, -1, -1, ...,  1,  1,  1])"
      ]
     },
     "execution_count": 3,
     "metadata": {},
     "output_type": "execute_result"
    }
   ],
   "source": [
    "#y_transform_Shuttle = y_brut_Shuttle\n",
    "#y_transform_Shuttle = np.where(y_transform_Shuttle=='o',-1,1)\n",
    "#y_transform\n",
    "y_transform_Shuttle"
   ]
  },
  {
   "cell_type": "markdown",
   "metadata": {},
   "source": [
    "## Shuttle"
   ]
  },
  {
   "cell_type": "markdown",
   "metadata": {},
   "source": [
    "### Exécution de Isolation Forest sur le jeux de données Shuttle en faisant varier n_estimators"
   ]
  },
  {
   "cell_type": "code",
   "execution_count": 4,
   "metadata": {},
   "outputs": [
    {
     "name": "stderr",
     "output_type": "stream",
     "text": [
      "/opt/anaconda3/lib/python3.7/site-packages/sklearn/ensemble/_iforest.py:248: FutureWarning: 'behaviour' is deprecated in 0.22 and will be removed in 0.24. You should not pass or set this parameter.\n",
      "  FutureWarning\n"
     ]
    },
    {
     "name": "stdout",
     "output_type": "stream",
     "text": [
      "Prediction\n",
      "[-1 -1 -1 ...  1  1  1]\n",
      "Score samples\n",
      "[-0.66672275 -0.67287664 -0.68835809 ... -0.40992176 -0.39119772\n",
      " -0.46911651]\n",
      "Decision Function\n",
      "[-0.16672275 -0.17287664 -0.18835809 ...  0.09007824  0.10880228\n",
      "  0.03088349]\n"
     ]
    }
   ],
   "source": [
    "func_IF_Shuttle = IsolationForest(behaviour=\"new\")\n",
    "func_IF_Shuttle.fit(X_Shuttle)\n",
    "y_pred_IF_Shuttle = func_IF_Shuttle.predict(X_Shuttle)\n",
    "print(\"Prediction\")\n",
    "print(y_pred_IF_Shuttle)\n",
    "y_SS_IF_Shuttle = func_IF_Shuttle.score_samples(X_Shuttle)\n",
    "print(\"Score samples\")\n",
    "print(y_SS_IF_Shuttle)\n",
    "y_DF_IF_Shuttle = func_IF_Shuttle.decision_function(X_Shuttle)\n",
    "print(\"Decision Function\")\n",
    "print(y_DF_IF_Shuttle)"
   ]
  },
  {
   "cell_type": "markdown",
   "metadata": {},
   "source": [
    "#### Matrice de confusion\n",
    "\n",
    "notre tn = tp   de sklearn\n",
    "\n",
    "notre fp = fn  de sklearn\n",
    "\n",
    "notre fn = fp  de sklearn\n",
    "\n",
    "notre tp = tn  de sklearn"
   ]
  },
  {
   "cell_type": "code",
   "execution_count": 5,
   "metadata": {},
   "outputs": [
    {
     "name": "stdout",
     "output_type": "stream",
     "text": [
      "True negative === 42011\n",
      "False negative === 18\n",
      "False positive === 3575\n",
      "True positive === 860\n"
     ]
    }
   ],
   "source": [
    "ttn, tfp, tfn, ttp = confusion_matrix(y_transform_Shuttle, y_pred_IF_Shuttle).ravel()\n",
    "tn = ttp\n",
    "fp = tfn\n",
    "fn = tfp\n",
    "tp = ttn\n",
    "print(\"True negative === \"+str(tn))\n",
    "print(\"False negative === \"+str(fn))\n",
    "print(\"False positive === \"+str(fp))\n",
    "print(\"True positive === \"+str(tp))"
   ]
  },
  {
   "cell_type": "markdown",
   "metadata": {},
   "source": [
    "#### Specificity\n",
    "- Notre Spécificité = Specificity de imblearn = tp/(tp+fn) ==> Rappel des données anormales (negatives pour sklearn)"
   ]
  },
  {
   "cell_type": "code",
   "execution_count": 6,
   "metadata": {},
   "outputs": [
    {
     "name": "stdout",
     "output_type": "stream",
     "text": [
      "Specificity own === 0.979498861047836\n",
      "Specificity === 0.979498861047836\n"
     ]
    }
   ],
   "source": [
    "#Specificity own\n",
    "specificityown_IF_Shuttle = tp/(tp+fn)\n",
    "print(\"Specificity own === \"+str(specificityown_IF_Shuttle))\n",
    "# Specificity\n",
    "specificity_IF_Shuttle = specificity_score(y_transform_Shuttle, y_pred_IF_Shuttle)\n",
    "print(\"Specificity === \"+str(specificity_IF_Shuttle))"
   ]
  },
  {
   "cell_type": "markdown",
   "metadata": {},
   "source": [
    "#### Recall\n",
    "- Notre rappel = Sensitivity de imblearn = Recall de sklearn = tn/(tn+fp) ==> Rappel des données normales (positive pour sklearn)"
   ]
  },
  {
   "cell_type": "code",
   "execution_count": 7,
   "metadata": {},
   "outputs": [
    {
     "name": "stdout",
     "output_type": "stream",
     "text": [
      "Recall Own === 0.9215767998947045\n",
      "Recall === 0.9215767998947045\n",
      "Sensitivity === 0.9215767998947045\n"
     ]
    }
   ],
   "source": [
    "# Recall Own\n",
    "recallown_IF_Shuttle = tn/(tn+fp)\n",
    "print(\"Recall Own === \"+str(recallown_IF_Shuttle))\n",
    "# Recall\n",
    "recall_IF_Shuttle = recall_score(y_transform_Shuttle, y_pred_IF_Shuttle)\n",
    "print(\"Recall === \"+str(recall_IF_Shuttle))\n",
    "# Sensitivity\n",
    "sensitivity_IF_Shuttle = sensitivity_score(y_transform_Shuttle, y_pred_IF_Shuttle)\n",
    "print(\"Sensitivity === \"+str(sensitivity_IF_Shuttle))"
   ]
  },
  {
   "cell_type": "markdown",
   "metadata": {},
   "source": [
    "#### Precision\n",
    "- Notre précision = precision de sklearn = tn/(tn+fn) ===> Précision des données normales (positive pour sklearn)"
   ]
  },
  {
   "cell_type": "code",
   "execution_count": 8,
   "metadata": {},
   "outputs": [
    {
     "name": "stdout",
     "output_type": "stream",
     "text": [
      "Normal Precision Own === 0.9995717242856124\n",
      "       Anormal Precision Own === 0.1939120631341601\n",
      "Precision === 0.9995717242856124\n"
     ]
    }
   ],
   "source": [
    "# Precision Own N\n",
    "precisionown_n_IF_Shuttle = tn/(tn+fn)\n",
    "print(\"Normal Precision Own === \"+str(precisionown_n_IF_Shuttle))\n",
    "# Precision Own P\n",
    "precisionown_p_IF_Shuttle = tp/(tp+fp)\n",
    "print(\"       Anormal Precision Own === \"+str(precisionown_p_IF_Shuttle))\n",
    "# Precision\n",
    "precision_IF_Shuttle = precision_score(y_transform_Shuttle, y_pred_IF_Shuttle)\n",
    "print(\"Precision === \"+str(precision_IF_Shuttle))"
   ]
  },
  {
   "cell_type": "markdown",
   "metadata": {},
   "source": [
    "#### ROC CURVE\n",
    " - TPR (abscisse) vs FPR (Ordonnée) \n",
    " - TPR = Rappel : Taux de données normales bien détectées\n",
    " - FPR = 1-Spécificité = fn/(tp+fn) : Taux de données normales mal classées\n",
    " - fpr, tpr, thresholds = roc_curve(y_transform_Shuttle, y_pred_IF_Shuttle)\n",
    "     - Détermine fpr et tpr en fonction des seuils dans thresholds\n",
    "     - tpr[i] = taux de données normales bien classées dont le score est supérieur ou égale à thresholds[i]\n",
    "     - fpr[i] = taux de données normales mal classées dont le score est supérieur ou égale à thresholds[i]\n",
    "     - Pour les données de prédictions (résultat étant la classe de chaque observation 1(pour normales) ou -1 (pour anormales), thresholds = [ 2  1 -1]. \n",
    "        Ainsi, les classes: \n",
    "         - >= 2 ==> Aucune d'où tpr=fpr=0, \n",
    "         - >= 1 ==> les classes normales d'où rappel et 1-spécificité \n",
    "         - >= -1 ==> toutes les classes d'où tpr=fpr=1"
   ]
  },
  {
   "cell_type": "code",
   "execution_count": 9,
   "metadata": {},
   "outputs": [
    {
     "name": "stdout",
     "output_type": "stream",
     "text": [
      "ROC Curve with Prediction\n",
      "fpr \n",
      "[0.         0.02050114 1.        ]\n",
      "tpr \n",
      "[0.        0.9215768 1.       ]\n",
      "thresholds \n",
      "[ 2  1 -1]\n"
     ]
    },
    {
     "data": {
      "image/png": "[encoded data removed]",
      "text/plain": [
       "<Figure size 432x288 with 1 Axes>"
      ]
     },
     "metadata": {
      "needs_background": "light"
     },
     "output_type": "display_data"
    }
   ],
   "source": [
    "# ROC Curve\n",
    "fpr_pred, tpr_pred, thresholds_pred = roc_curve(y_transform_Shuttle, y_pred_IF_Shuttle)\n",
    "print(\"ROC Curve with Prediction\")\n",
    "print(\"fpr \")\n",
    "print(fpr_pred)\n",
    "print(\"tpr \")\n",
    "print(tpr_pred)\n",
    "print(\"thresholds \")\n",
    "print(thresholds_pred)\n",
    "plt.plot(fpr_pred, tpr_pred, \"g-\", label=\"ROC with prediction\")\n",
    "plt.plot([0, 1], [0, 1], 'k-') \n",
    "plt.axis([0, 1, 0, 1])\n",
    "plt.xlabel('False Positive Rate')\n",
    "plt.ylabel('True Positive Rate')\n",
    "plt.legend(loc=\"lower right\")\n",
    "    \n",
    "plt.show()"
   ]
  },
  {
   "cell_type": "code",
   "execution_count": 10,
   "metadata": {},
   "outputs": [
    {
     "name": "stdout",
     "output_type": "stream",
     "text": [
      "46464\n",
      "ROC Curve with Score samples\n",
      "fpr \n",
      "[0.         0.         0.         ... 0.92710706 0.92938497 1.        ]\n",
      "7090\n",
      "tpr \n",
      "[0.00000000e+00 8.77462379e-05 1.31619357e-04 ... 1.00000000e+00\n",
      " 1.00000000e+00 1.00000000e+00]\n",
      "7090\n",
      "thresholds \n",
      "[ 0.65126862 -0.34873138 -0.34899376 ... -0.71108855 -0.71131604\n",
      " -0.75199688]\n",
      "7090\n"
     ]
    },
    {
     "data": {
      "image/png": "[encoded data removed]",
      "text/plain": [
       "<Figure size 432x288 with 1 Axes>"
      ]
     },
     "metadata": {
      "needs_background": "light"
     },
     "output_type": "display_data"
    }
   ],
   "source": [
    "# ROC Curve\n",
    "fpr_SS, tpr_SS, thresholds_SS = roc_curve(y_transform_Shuttle, y_SS_IF_Shuttle)\n",
    "print(len(y_SS_IF_Shuttle))\n",
    "print(\"ROC Curve with Score samples\")\n",
    "print(\"fpr \")\n",
    "print(fpr_SS)\n",
    "print(len(fpr_SS))\n",
    "print(\"tpr \")\n",
    "print(tpr_SS)\n",
    "print(len(tpr_SS))\n",
    "print(\"thresholds \")\n",
    "print(thresholds_SS)\n",
    "print(len(thresholds_SS))\n",
    "plt.plot(fpr_SS, tpr_SS, \"g-\", label=\"ROC with Score samples\")\n",
    "plt.plot([0, 1], [0, 1], 'k-') \n",
    "plt.axis([0, 1, 0, 1])\n",
    "plt.xlabel('False Positive Rate')\n",
    "plt.ylabel('True Positive Rate')\n",
    "plt.legend(loc=\"lower right\")\n",
    "    \n",
    "plt.show()"
   ]
  },
  {
   "cell_type": "code",
   "execution_count": 11,
   "metadata": {},
   "outputs": [
    {
     "data": {
      "image/png": "[encoded data removed]",
      "text/plain": [
       "<Figure size 432x288 with 1 Axes>"
      ]
     },
     "metadata": {
      "needs_background": "light"
     },
     "output_type": "display_data"
    }
   ],
   "source": [
    "# Evolution de fpr et tpr en fonction des seuils pour les scores\n",
    "plt.plot(thresholds_SS, tpr_SS, \"g-\", label=\"True Positive Rate\")\n",
    "plt.plot(thresholds_SS, fpr_SS, \"b--\", label=\"False Positive Rate\")\n",
    "plt.title(\"ROC with Decision function\")\n",
    "#plt.axis([0, 1, 0, 1])\n",
    "plt.xlabel('Thresholds')\n",
    "plt.ylabel('Metrics Value')\n",
    "plt.legend(loc=\"best\")\n",
    "    \n",
    "plt.show()"
   ]
  },
  {
   "cell_type": "code",
   "execution_count": 12,
   "metadata": {},
   "outputs": [
    {
     "name": "stdout",
     "output_type": "stream",
     "text": [
      "ROC Curve with Decision function\n",
      "fpr \n",
      "[0.         0.         0.         ... 0.92710706 0.92938497 1.        ]\n",
      "7090\n",
      "tpr \n",
      "[0.00000000e+00 8.77462379e-05 1.31619357e-04 ... 1.00000000e+00\n",
      " 1.00000000e+00 1.00000000e+00]\n",
      "7090\n",
      "thresholds \n",
      "[ 1.15126862  0.15126862  0.15100624 ... -0.21108855 -0.21131604\n",
      " -0.25199688]\n",
      "7090\n"
     ]
    },
    {
     "data": {
      "image/png": "[encoded data removed]",
      "text/plain": [
       "<Figure size 432x288 with 1 Axes>"
      ]
     },
     "metadata": {
      "needs_background": "light"
     },
     "output_type": "display_data"
    }
   ],
   "source": [
    "# ROC Curve\n",
    "fpr_DF, tpr_DF, thresholds_DF = roc_curve(y_transform_Shuttle, y_DF_IF_Shuttle)\n",
    "print(\"ROC Curve with Decision function\")\n",
    "print(\"fpr \")\n",
    "print(fpr_DF)\n",
    "print(len(fpr_DF))\n",
    "print(\"tpr \")\n",
    "print(tpr_DF)\n",
    "print(len(tpr_DF))\n",
    "print(\"thresholds \")\n",
    "print(thresholds_DF)\n",
    "print(len(thresholds_DF))\n",
    "plt.plot(fpr_DF, tpr_DF, \"g-\", label=\"ROC with Decision function\")\n",
    "plt.plot([0, 1], [0, 1], 'k-') \n",
    "plt.axis([0, 1, 0, 1])\n",
    "plt.xlabel('False Positive Rate')\n",
    "plt.ylabel('True Positive Rate')\n",
    "plt.legend(loc=\"lower right\")\n",
    "    \n",
    "plt.show()"
   ]
  },
  {
   "cell_type": "code",
   "execution_count": 13,
   "metadata": {},
   "outputs": [
    {
     "data": {
      "image/png": "[encoded data removed]",
      "text/plain": [
       "<Figure size 432x288 with 1 Axes>"
      ]
     },
     "metadata": {
      "needs_background": "light"
     },
     "output_type": "display_data"
    }
   ],
   "source": [
    "# Evolution de fpr et tpr en fonction des seuils pour la fonction de décision\n",
    "plt.plot(thresholds_DF, tpr_DF, \"g-\", label=\"True Positive Rate\")\n",
    "plt.plot(thresholds_DF, fpr_DF, \"b--\", label=\"False Positive Rate\")\n",
    "plt.title(\"ROC with Decision function\")\n",
    "#plt.axis([0, 1, 0, 1])\n",
    "plt.xlabel('Thresholds')\n",
    "plt.ylabel('Metrics Value')\n",
    "plt.legend(loc=\"best\")\n",
    "    \n",
    "plt.show()"
   ]
  },
  {
   "cell_type": "markdown",
   "metadata": {},
   "source": [
    "#### ROC AUC\n",
    "L'aire sous la courbe ROC est plus grande calculée avec les scores et les function de décision qu'avec les classes prédites."
   ]
  },
  {
   "cell_type": "markdown",
   "metadata": {},
   "source": [
    "##### ROC AUC de scikit-learn"
   ]
  },
  {
   "cell_type": "code",
   "execution_count": 14,
   "metadata": {},
   "outputs": [
    {
     "data": {
      "text/plain": [
       "0.9505378304712703"
      ]
     },
     "execution_count": 14,
     "metadata": {},
     "output_type": "execute_result"
    }
   ],
   "source": [
    "# Avec les classes prédites\n",
    "auc_pred_IF_Shuttle = roc_auc_score(y_transform_Shuttle, y_pred_IF_Shuttle)\n",
    "auc_pred_IF_Shuttle"
   ]
  },
  {
   "cell_type": "code",
   "execution_count": 15,
   "metadata": {},
   "outputs": [
    {
     "data": {
      "text/plain": [
       "0.9961578415904574"
      ]
     },
     "execution_count": 15,
     "metadata": {},
     "output_type": "execute_result"
    }
   ],
   "source": [
    "# Avec les decision_function\n",
    "auc_DF_IF_Shuttle = roc_auc_score(y_transform_Shuttle, y_DF_IF_Shuttle)\n",
    "auc_DF_IF_Shuttle"
   ]
  },
  {
   "cell_type": "code",
   "execution_count": 16,
   "metadata": {},
   "outputs": [
    {
     "data": {
      "text/plain": [
       "0.9961578415904574"
      ]
     },
     "execution_count": 16,
     "metadata": {},
     "output_type": "execute_result"
    }
   ],
   "source": [
    "# Avec les scores\n",
    "auc_SS_IF_Shuttle = roc_auc_score(y_transform_Shuttle, y_SS_IF_Shuttle)\n",
    "auc_SS_IF_Shuttle"
   ]
  },
  {
   "cell_type": "markdown",
   "metadata": {},
   "source": [
    "##### ROC AUC Manuelle"
   ]
  },
  {
   "cell_type": "code",
   "execution_count": 28,
   "metadata": {},
   "outputs": [
    {
     "name": "stdout",
     "output_type": "stream",
     "text": [
      "Matrice de confusion\n",
      "[[  860    18]\n",
      " [ 3575 42011]]\n",
      "True negative tn === 42011\n",
      "False negative fn === 18\n",
      "False positive fp === 3575\n",
      "True positive tp === 860\n",
      "ROC Curve with Prediction scikit-learn\n",
      "fpr \n",
      "[0.         0.02050114 1.        ]\n",
      "tpr \n",
      "[0.        0.9215768 1.       ]\n"
     ]
    }
   ],
   "source": [
    "# Rappel des valeurs\n",
    "print(\"Matrice de confusion\")\n",
    "print(confusion_matrix(y_transform_Shuttle, y_pred_IF_Shuttle))\n",
    "print(\"True negative tn === \"+str(tn))\n",
    "print(\"False negative fn === \"+str(fn))\n",
    "print(\"False positive fp === \"+str(fp))\n",
    "print(\"True positive tp === \"+str(tp))\n",
    "\n",
    "print(\"ROC Curve with Prediction scikit-learn\")\n",
    "print(\"fpr \")\n",
    "print(fpr_pred)\n",
    "print(\"tpr \")\n",
    "print(tpr_pred)"
   ]
  },
  {
   "cell_type": "code",
   "execution_count": 43,
   "metadata": {},
   "outputs": [
    {
     "name": "stdout",
     "output_type": "stream",
     "text": [
      "tp + tn = 42871\n",
      "tp + fp = 4435\n",
      "tp + fn = 878\n",
      "tn + fn = 42029\n",
      "tn + fp = 45586\n",
      "fp + fn = 3593\n"
     ]
    }
   ],
   "source": [
    "print(\"tp + tn = \"+str(tp + tn))\n",
    "print(\"tp + fp = \"+str(tp + fp))\n",
    "print(\"tp + fn = \"+str(tp + fn))\n",
    "print(\"tn + fn = \"+str(tn + fn))\n",
    "print(\"tn + fp = \"+str(tn + fp))\n",
    "print(\"fp + fn = \"+str(fp + fn))"
   ]
  },
  {
   "cell_type": "code",
   "execution_count": 50,
   "metadata": {},
   "outputs": [
    {
     "name": "stdout",
     "output_type": "stream",
     "text": [
      "fpr_pred * tn = 2049203.2222222222\n",
      "fpr_pred * fn = 878.0\n",
      "fpr_pred * tp = 41948.88888888889\n",
      "fpr_pred * fp = 174380.55555555556\n",
      "fpr = 0.02050113895216401\n"
     ]
    }
   ],
   "source": [
    "print(\"fpr_pred * tn = \"+str(tn / fpr_pred[1]))\n",
    "print(\"fpr_pred * fn = \"+str(fn / fpr_pred[1]))\n",
    "print(\"fpr_pred * tp = \"+str(tp / fpr_pred[1]))\n",
    "print(\"fpr_pred * fp = \"+str(fp / fpr_pred[1]))\n",
    "fnrate = fn/(tp + fn)\n",
    "print(\"fpr = \"+str(fnrate))"
   ]
  },
  {
   "cell_type": "code",
   "execution_count": 53,
   "metadata": {},
   "outputs": [
    {
     "name": "stdout",
     "output_type": "stream",
     "text": [
      "tpr_pred * tn = 45586.0\n",
      "tpr_pred * fn = 19.531741686701103\n",
      "tpr_pred * tp = 933.1832139201638\n",
      "tpr_pred * fp = 3879.2209183309133\n",
      "tnrate = 0.9215767998947045\n"
     ]
    }
   ],
   "source": [
    "print(\"tpr_pred * tn = \"+str(tn / tpr_pred[1]))\n",
    "print(\"tpr_pred * fn = \"+str(fn / tpr_pred[1]))\n",
    "print(\"tpr_pred * tp = \"+str(tp / tpr_pred[1]))\n",
    "print(\"tpr_pred * fp = \"+str(fp / tpr_pred[1]))\n",
    "tnrate = tn/(tn + fp)\n",
    "print(\"tnrate = \"+str(tnrate))"
   ]
  },
  {
   "cell_type": "code",
   "execution_count": 55,
   "metadata": {},
   "outputs": [
    {
     "data": {
      "text/plain": [
       "0.9505378304712703"
      ]
     },
     "execution_count": 55,
     "metadata": {},
     "output_type": "execute_result"
    }
   ],
   "source": [
    "manual_rocauc = 1 - ((tnrate * fnrate)/2 + ((1-fnrate)*(1-tnrate))/2 + (fnrate)*(1-tnrate))\n",
    "manual_rocauc"
   ]
  },
  {
   "cell_type": "markdown",
   "metadata": {},
   "source": [
    "### Conclusion"
   ]
  }
 ],
 "metadata": {
  "kernelspec": {
   "display_name": "Python 3",
   "language": "python",
   "name": "python3"
  },
  "language_info": {
   "codemirror_mode": {
    "name": "ipython",
    "version": 3
   },
   "file_extension": ".py",
   "mimetype": "text/x-python",
   "name": "python",
   "nbconvert_exporter": "python",
   "pygments_lexer": "ipython3",
   "version": "3.7.4"
  }
 },
 "nbformat": 4,
 "nbformat_minor": 2
}
