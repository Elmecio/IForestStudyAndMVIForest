{
 "cells": [
  {
   "cell_type": "code",
   "execution_count": 1,
   "metadata": {},
   "outputs": [
    {
     "name": "stdout",
     "output_type": "stream",
     "text": [
      "<bound method DataFrame.all of            0     1      2    3     4      5     6      7      8  9\n",
      "0      108.0   3.0  109.0  0.0  72.0    7.0   1.0   36.0   36.0  o\n",
      "1       81.0   0.0   84.0  0.0 -14.0   -2.0   4.0  100.0   96.0  o\n",
      "2       81.0   0.0   84.0  0.0 -20.0   16.0   4.0  105.0  102.0  o\n",
      "3       76.0  -1.0   81.0  0.0 -42.0   -3.0   5.0  125.0  120.0  o\n",
      "4      105.0   0.0  107.0  2.0  70.0    0.0   1.0   37.0   36.0  o\n",
      "5       79.0   0.0   83.0 -1.0 -40.0    7.0   4.0  124.0  120.0  o\n",
      "6       80.0   0.0   84.0  0.0 -36.0    0.0   4.0  120.0  116.0  o\n",
      "7      102.0   2.0  103.0  1.0  72.0   29.0   1.0   31.0   30.0  o\n",
      "8       76.0   3.0   80.0  2.0 -42.0    0.0   4.0  124.0  120.0  o\n",
      "9      102.0   0.0  104.0  0.0  70.0  -10.0   1.0   34.0   32.0  o\n",
      "10      82.0   0.0   86.0  0.0 -12.0  -28.0   3.0   99.0   96.0  o\n",
      "11      83.0   0.0   86.0  0.0  -2.0    0.0   3.0   88.0   86.0  o\n",
      "12      77.0 -44.0  107.0  0.0  62.0   -4.0  30.0   45.0   16.0  o\n",
      "13      81.0   4.0   84.0  0.0 -24.0    0.0   3.0  110.0  106.0  o\n",
      "14      84.0   0.0   87.0 -5.0   0.0    1.0   3.0   87.0   84.0  o\n",
      "15      81.0   5.0   85.0  0.0 -24.0    0.0   4.0  111.0  108.0  o\n",
      "16      85.0  -5.0   88.0  0.0   0.0   -2.0   3.0   88.0   84.0  o\n",
      "17      82.0  -1.0   86.0  0.0  -4.0   -8.0   3.0   91.0   88.0  o\n",
      "18      82.0  -1.0   86.0 -3.0 -40.0    0.0   4.0  128.0  124.0  o\n",
      "19     102.0   0.0  103.0  1.0  70.0   -9.0   1.0   33.0   32.0  o\n",
      "20      81.0   0.0   86.0  0.0 -24.0  -15.0   4.0  112.0  108.0  o\n",
      "21      85.0   0.0   88.0 -1.0   2.0    0.0   3.0   85.0   82.0  o\n",
      "22      82.0   0.0   86.0  0.0 -22.0    6.0   4.0  109.0  106.0  o\n",
      "23      83.0   0.0   86.0  8.0  -2.0    0.0   4.0   89.0   86.0  o\n",
      "24      83.0   0.0   86.0 -2.0  -4.0    2.0   3.0   92.0   88.0  o\n",
      "25      81.0   0.0   84.0  0.0 -18.0    2.0   4.0  103.0   98.0  o\n",
      "26      79.0   5.0   83.0  0.0 -46.0    0.0   4.0  129.0  126.0  o\n",
      "27      77.0  -4.0   81.0  0.0 -40.0   91.0   4.0  123.0  118.0  o\n",
      "28      80.0   0.0   84.0  8.0 -24.0    8.0   4.0  110.0  106.0  o\n",
      "29      79.0   0.0   83.0  0.0 -40.0  -10.0   4.0  125.0  120.0  o\n",
      "...      ...   ...    ...  ...   ...    ...   ...    ...    ... ..\n",
      "46434   37.0   0.0   77.0  0.0 -20.0   22.0  41.0   98.0   58.0  n\n",
      "46435   46.0   5.0   77.0  0.0  44.0  -10.0  32.0   34.0    2.0  n\n",
      "46436   54.0  -1.0   83.0  6.0  54.0    0.0  29.0   29.0    0.0  n\n",
      "46437   37.0   0.0   76.0 -1.0  36.0  -20.0  39.0   40.0    2.0  n\n",
      "46438   37.0   0.0   79.0  0.0  16.0   28.0  42.0   63.0   22.0  n\n",
      "46439   43.0  -4.0   76.0  0.0  44.0   15.0  33.0   32.0    0.0  n\n",
      "46440   50.0   4.0   88.0  0.0  50.0    0.0  38.0   39.0    2.0  n\n",
      "46441   43.0  -4.0  106.0  0.0  42.0   -7.0  62.0   64.0    2.0  n\n",
      "46442   45.0  -2.0   76.0  0.0  44.0  -11.0  31.0   32.0    2.0  n\n",
      "46443   37.0   0.0   79.0  0.0  10.0  374.0  42.0   69.0   26.0  n\n",
      "46444   37.0   5.0   79.0  0.0  34.0    0.0  42.0   46.0    4.0  n\n",
      "46445   46.0   0.0   81.0  0.0  44.0  -14.0  35.0   37.0    2.0  n\n",
      "46446   44.0   0.0   86.0  0.0  44.0    9.0  42.0   42.0    0.0  n\n",
      "46447   37.0   0.0   77.0  2.0  36.0   -1.0  39.0   41.0    2.0  n\n",
      "46448   37.0   0.0   78.0  0.0  36.0   -4.0  41.0   42.0    2.0  n\n",
      "46449   44.0   0.0   79.0  0.0  42.0  -14.0  35.0   37.0    2.0  n\n",
      "46450   46.0   4.0   79.0  0.0  46.0   19.0  33.0   32.0    0.0  n\n",
      "46451   42.0  -5.0   99.0  0.0  42.0    0.0  58.0   58.0    0.0  n\n",
      "46452   49.0   4.0   87.0  0.0  50.0   27.0  38.0   38.0    0.0  n\n",
      "46453   37.0   0.0   77.0  0.0  20.0    2.0  40.0   56.0   16.0  n\n",
      "46454   56.0   0.0   95.0  0.0  56.0    1.0  40.0   39.0    0.0  n\n",
      "46455   45.0  -5.0   82.0  0.0  44.0    0.0  37.0   38.0    0.0  n\n",
      "46456   51.0   0.0   83.0  0.0  50.0   -7.0  32.0   34.0    2.0  n\n",
      "46457   37.0  -1.0   76.0  0.0  38.0    6.0  39.0   37.0    0.0  n\n",
      "46458   45.0  -5.0   90.0  0.0  44.0  -26.0  45.0   46.0    2.0  n\n",
      "46459   46.0   5.0   78.0  0.0  46.0    5.0  32.0   32.0    0.0  n\n",
      "46460   37.0   0.0   79.0 -1.0  10.0    3.0  43.0   69.0   26.0  n\n",
      "46461   48.0   0.0   78.0  3.0  46.0    0.0  30.0   32.0    2.0  n\n",
      "46462   41.0   0.0   79.0  0.0  38.0  -25.0  38.0   40.0    2.0  n\n",
      "46463   40.0  -3.0  100.0  0.0  38.0    0.0  61.0   62.0    2.0  n\n",
      "\n",
      "[46464 rows x 10 columns]>\n",
      "Kurtosis result : 0      12.290113\n",
      "1    6545.743706\n",
      "2       1.300116\n",
      "3    8050.736147\n",
      "4      21.346493\n",
      "5    4321.159544\n",
      "6       2.387871\n",
      "7      15.281957\n",
      "8      43.708731\n",
      "dtype: float64\n",
      "Skew result : 0     2.614155\n",
      "1   -72.430745\n",
      "2     1.340365\n",
      "3    32.497516\n",
      "4    -1.027794\n",
      "5    29.893759\n",
      "6     0.242350\n",
      "7     0.952391\n",
      "8     3.630789\n",
      "dtype: float64\n"
     ]
    }
   ],
   "source": [
    "import numpy as np\n",
    "import pandas as pd\n",
    "import matplotlib.pyplot as plt\n",
    "from sklearn import datasets\n",
    "shuttle_data = pd.read_csv('/Users/thesard/Doctorat/These2018/ISEP/Developpements/EspaceIntelliJ/LearningAllInPython/Learning_IHM_Features/datasets/imported_datasets/shuttle-unsupervised-ad_2019-06-14 17:33:02.493755.csv', header=None, index_col=None)\n",
    "shuttle_data_used = shuttle_data[[0, 1, 2, 3, 4, 5, 6, 7, 8]]\n",
    "print(shuttle_data.all)\n",
    "print(\"Kurtosis result : {}\".format(shuttle_data_used.kurtosis()))\n",
    "print(\"Skew result : {}\".format(shuttle_data_used.skew()))"
   ]
  },
  {
   "cell_type": "code",
   "execution_count": 2,
   "metadata": {},
   "outputs": [
    {
     "name": "stdout",
     "output_type": "stream",
     "text": [
      "Outliers in the dataset = \n",
      "          0     1      2    3     4       5     6      7      8  9\n",
      "0    108.0   3.0  109.0  0.0  72.0     7.0   1.0   36.0   36.0  o\n",
      "1     81.0   0.0   84.0  0.0 -14.0    -2.0   4.0  100.0   96.0  o\n",
      "2     81.0   0.0   84.0  0.0 -20.0    16.0   4.0  105.0  102.0  o\n",
      "3     76.0  -1.0   81.0  0.0 -42.0    -3.0   5.0  125.0  120.0  o\n",
      "4    105.0   0.0  107.0  2.0  70.0     0.0   1.0   37.0   36.0  o\n",
      "5     79.0   0.0   83.0 -1.0 -40.0     7.0   4.0  124.0  120.0  o\n",
      "6     80.0   0.0   84.0  0.0 -36.0     0.0   4.0  120.0  116.0  o\n",
      "7    102.0   2.0  103.0  1.0  72.0    29.0   1.0   31.0   30.0  o\n",
      "8     76.0   3.0   80.0  2.0 -42.0     0.0   4.0  124.0  120.0  o\n",
      "9    102.0   0.0  104.0  0.0  70.0   -10.0   1.0   34.0   32.0  o\n",
      "10    82.0   0.0   86.0  0.0 -12.0   -28.0   3.0   99.0   96.0  o\n",
      "11    83.0   0.0   86.0  0.0  -2.0     0.0   3.0   88.0   86.0  o\n",
      "12    77.0 -44.0  107.0  0.0  62.0    -4.0  30.0   45.0   16.0  o\n",
      "13    81.0   4.0   84.0  0.0 -24.0     0.0   3.0  110.0  106.0  o\n",
      "14    84.0   0.0   87.0 -5.0   0.0     1.0   3.0   87.0   84.0  o\n",
      "15    81.0   5.0   85.0  0.0 -24.0     0.0   4.0  111.0  108.0  o\n",
      "16    85.0  -5.0   88.0  0.0   0.0    -2.0   3.0   88.0   84.0  o\n",
      "17    82.0  -1.0   86.0  0.0  -4.0    -8.0   3.0   91.0   88.0  o\n",
      "18    82.0  -1.0   86.0 -3.0 -40.0     0.0   4.0  128.0  124.0  o\n",
      "19   102.0   0.0  103.0  1.0  70.0    -9.0   1.0   33.0   32.0  o\n",
      "20    81.0   0.0   86.0  0.0 -24.0   -15.0   4.0  112.0  108.0  o\n",
      "21    85.0   0.0   88.0 -1.0   2.0     0.0   3.0   85.0   82.0  o\n",
      "22    82.0   0.0   86.0  0.0 -22.0     6.0   4.0  109.0  106.0  o\n",
      "23    83.0   0.0   86.0  8.0  -2.0     0.0   4.0   89.0   86.0  o\n",
      "24    83.0   0.0   86.0 -2.0  -4.0     2.0   3.0   92.0   88.0  o\n",
      "25    81.0   0.0   84.0  0.0 -18.0     2.0   4.0  103.0   98.0  o\n",
      "26    79.0   5.0   83.0  0.0 -46.0     0.0   4.0  129.0  126.0  o\n",
      "27    77.0  -4.0   81.0  0.0 -40.0    91.0   4.0  123.0  118.0  o\n",
      "28    80.0   0.0   84.0  8.0 -24.0     8.0   4.0  110.0  106.0  o\n",
      "29    79.0   0.0   83.0  0.0 -40.0   -10.0   4.0  125.0  120.0  o\n",
      "..     ...   ...    ...  ...   ...     ...   ...    ...    ... ..\n",
      "848   84.0  -5.0   88.0  0.0   6.0     0.0   4.0   83.0   78.0  o\n",
      "849   79.0  -1.0   84.0  0.0 -42.0     0.0   4.0  128.0  124.0  o\n",
      "850   82.0   0.0   86.0  0.0  -2.0    20.0   3.0   88.0   84.0  o\n",
      "851   46.0 -33.0   89.0  3.0   6.0    -4.0  43.0   84.0   42.0  o\n",
      "852   76.0   0.0   81.0  0.0 -42.0     0.0   4.0  125.0  120.0  o\n",
      "853  103.0   3.0  104.0  7.0  70.0   -27.0   1.0   35.0   34.0  o\n",
      "854   83.0   5.0   87.0  0.0 -40.0     1.0   4.0  128.0  124.0  o\n",
      "855   84.0   2.0   87.0  0.0   0.0     0.0   3.0   87.0   84.0  o\n",
      "856   79.0 -13.0   83.0 -6.0 -32.0 -1520.0   4.0  117.0  112.0  o\n",
      "857   84.0   0.0   87.0  1.0  -2.0     0.0   3.0   90.0   86.0  o\n",
      "858  101.0   0.0  102.0  2.0  70.0   -19.0   1.0   33.0   32.0  o\n",
      "859   71.0  42.0   82.0  0.0 -42.0    -7.0  11.0  126.0  114.0  o\n",
      "860   83.0   0.0   86.0  0.0  -6.0    -3.0   3.0   94.0   90.0  o\n",
      "861   82.0   0.0   86.0  0.0 -12.0    -5.0   3.0   99.0   96.0  o\n",
      "862   76.0   0.0   81.0 -7.0 -42.0   -14.0   5.0  125.0  120.0  o\n",
      "863  104.0  -1.0  106.0  0.0  72.0     6.0   1.0   33.0   32.0  o\n",
      "864   83.0   0.0   86.0  0.0  -4.0    31.0   3.0   92.0   88.0  o\n",
      "865   84.0   0.0   87.0  5.0  -2.0     0.0   3.0   90.0   86.0  o\n",
      "866  102.0   0.0  103.0  2.0  70.0    -2.0   1.0   33.0   32.0  o\n",
      "867  104.0   0.0  106.0  0.0  72.0     6.0   1.0   33.0   32.0  o\n",
      "868  105.0  -1.0  107.0  0.0  72.0     0.0   1.0   35.0   34.0  o\n",
      "869   85.0   0.0   88.0  0.0   2.0    26.0   3.0   86.0   82.0  o\n",
      "870   76.0  -4.0   81.0 -3.0 -42.0    -1.0   5.0  125.0  120.0  o\n",
      "871   80.0   0.0   84.0  0.0 -32.0    13.0   4.0  117.0  114.0  o\n",
      "872   84.0   1.0   87.0  0.0   0.0     0.0   3.0   87.0   84.0  o\n",
      "873   85.0   1.0   88.0  1.0  -2.0    -3.0   3.0   91.0   88.0  o\n",
      "874   73.0   7.0   77.0  5.0 -42.0    -3.0   4.0  121.0  118.0  o\n",
      "875   85.0   2.0   88.0  0.0   6.0     7.0   3.0   83.0   80.0  o\n",
      "876   81.0   0.0   86.0  1.0 -22.0    20.0   4.0  109.0  104.0  o\n",
      "877   76.0   0.0   81.0  1.0 -42.0     0.0   5.0  125.0  120.0  o\n",
      "\n",
      "[878 rows x 10 columns]\n",
      "Inliers in dataset = \n",
      "           0    1      2    3     4      5     6     7     8  9\n",
      "878    50.0 -1.0   89.0 -7.0  50.0    0.0  39.0  40.0   2.0  n\n",
      "879    55.0  2.0   82.0  0.0  54.0   -6.0  26.0  28.0   2.0  n\n",
      "880    41.0  0.0   84.0  3.0  38.0   -4.0  43.0  45.0   2.0  n\n",
      "881    37.0  0.0  100.0  0.0  36.0   -8.0  63.0  64.0   2.0  n\n",
      "882    46.0  0.0   83.0  0.0  46.0    0.0  37.0  36.0   0.0  n\n",
      "883    44.0  0.0   79.0  0.0  42.0  -17.0  35.0  37.0   2.0  n\n",
      "884    44.0 -1.0   78.0  0.0  44.0    0.0  34.0  34.0   0.0  n\n",
      "885    55.0  0.0   81.0  0.0  54.0  -10.0  25.0  26.0   2.0  n\n",
      "886    37.0  0.0  100.0  0.0  34.0    6.0  64.0  67.0   4.0  n\n",
      "887    43.0 -3.0   86.0  2.0  44.0   14.0  43.0  42.0   0.0  n\n",
      "888    46.0 -5.0   84.0  0.0  46.0    0.0  38.0  37.0   0.0  n\n",
      "889    45.0  0.0   81.0  0.0  44.0    0.0  36.0  37.0   0.0  n\n",
      "890    48.0  0.0   86.0  0.0  50.0   30.0  38.0  37.0   0.0  n\n",
      "891    45.0  5.0   90.0  0.0  44.0    0.0  44.0  46.0   2.0  n\n",
      "892    37.0  0.0   77.0  0.0 -20.0   27.0  41.0  98.0  58.0  n\n",
      "893    37.0  0.0   90.0 -6.0  18.0    0.0  53.0  72.0  20.0  n\n",
      "894    37.0 -8.0   77.0  0.0  20.0    0.0  40.0  57.0  16.0  n\n",
      "895    50.0  5.0   95.0 -3.0  50.0    0.0  45.0  46.0   2.0  n\n",
      "896    43.0 -2.0   76.0  0.0  44.0   15.0  32.0  32.0   0.0  n\n",
      "897    42.0 -1.0   85.0 -5.0  42.0    0.0  44.0  44.0   0.0  n\n",
      "898    37.0  0.0   76.0  0.0  26.0   20.0  39.0  50.0  12.0  n\n",
      "899    37.0  0.0   76.0  8.0  30.0    0.0  40.0  45.0   6.0  n\n",
      "900    45.0  0.0  106.0  0.0  46.0    9.0  61.0  60.0   0.0  n\n",
      "901    37.0  0.0   81.0  0.0  38.0   17.0  44.0  43.0   0.0  n\n",
      "902    49.0  4.0   83.0  0.0  46.0    0.0  34.0  37.0   2.0  n\n",
      "903    50.0  0.0   88.0  1.0  50.0    0.0  38.0  39.0   0.0  n\n",
      "904    42.0  2.0   77.0  0.0  42.0    0.0  36.0  36.0   0.0  n\n",
      "905    49.0  0.0   78.0  0.0  50.0   11.0  29.0  29.0   0.0  n\n",
      "906    37.0  0.0   77.0  0.0  34.0  -12.0  40.0  43.0   2.0  n\n",
      "907    37.0  3.0   81.0  0.0  36.0    0.0  44.0  44.0   0.0  n\n",
      "...     ...  ...    ...  ...   ...    ...   ...   ...   ... ..\n",
      "46434  37.0  0.0   77.0  0.0 -20.0   22.0  41.0  98.0  58.0  n\n",
      "46435  46.0  5.0   77.0  0.0  44.0  -10.0  32.0  34.0   2.0  n\n",
      "46436  54.0 -1.0   83.0  6.0  54.0    0.0  29.0  29.0   0.0  n\n",
      "46437  37.0  0.0   76.0 -1.0  36.0  -20.0  39.0  40.0   2.0  n\n",
      "46438  37.0  0.0   79.0  0.0  16.0   28.0  42.0  63.0  22.0  n\n",
      "46439  43.0 -4.0   76.0  0.0  44.0   15.0  33.0  32.0   0.0  n\n",
      "46440  50.0  4.0   88.0  0.0  50.0    0.0  38.0  39.0   2.0  n\n",
      "46441  43.0 -4.0  106.0  0.0  42.0   -7.0  62.0  64.0   2.0  n\n",
      "46442  45.0 -2.0   76.0  0.0  44.0  -11.0  31.0  32.0   2.0  n\n",
      "46443  37.0  0.0   79.0  0.0  10.0  374.0  42.0  69.0  26.0  n\n",
      "46444  37.0  5.0   79.0  0.0  34.0    0.0  42.0  46.0   4.0  n\n",
      "46445  46.0  0.0   81.0  0.0  44.0  -14.0  35.0  37.0   2.0  n\n",
      "46446  44.0  0.0   86.0  0.0  44.0    9.0  42.0  42.0   0.0  n\n",
      "46447  37.0  0.0   77.0  2.0  36.0   -1.0  39.0  41.0   2.0  n\n",
      "46448  37.0  0.0   78.0  0.0  36.0   -4.0  41.0  42.0   2.0  n\n",
      "46449  44.0  0.0   79.0  0.0  42.0  -14.0  35.0  37.0   2.0  n\n",
      "46450  46.0  4.0   79.0  0.0  46.0   19.0  33.0  32.0   0.0  n\n",
      "46451  42.0 -5.0   99.0  0.0  42.0    0.0  58.0  58.0   0.0  n\n",
      "46452  49.0  4.0   87.0  0.0  50.0   27.0  38.0  38.0   0.0  n\n",
      "46453  37.0  0.0   77.0  0.0  20.0    2.0  40.0  56.0  16.0  n\n",
      "46454  56.0  0.0   95.0  0.0  56.0    1.0  40.0  39.0   0.0  n\n",
      "46455  45.0 -5.0   82.0  0.0  44.0    0.0  37.0  38.0   0.0  n\n",
      "46456  51.0  0.0   83.0  0.0  50.0   -7.0  32.0  34.0   2.0  n\n",
      "46457  37.0 -1.0   76.0  0.0  38.0    6.0  39.0  37.0   0.0  n\n",
      "46458  45.0 -5.0   90.0  0.0  44.0  -26.0  45.0  46.0   2.0  n\n",
      "46459  46.0  5.0   78.0  0.0  46.0    5.0  32.0  32.0   0.0  n\n",
      "46460  37.0  0.0   79.0 -1.0  10.0    3.0  43.0  69.0  26.0  n\n",
      "46461  48.0  0.0   78.0  3.0  46.0    0.0  30.0  32.0   2.0  n\n",
      "46462  41.0  0.0   79.0  0.0  38.0  -25.0  38.0  40.0   2.0  n\n",
      "46463  40.0 -3.0  100.0  0.0  38.0    0.0  61.0  62.0   2.0  n\n",
      "\n",
      "[45586 rows x 10 columns]\n"
     ]
    }
   ],
   "source": [
    "n_outliers = shuttle_data[shuttle_data[9] == 'o']\n",
    "n_inliers = shuttle_data[shuttle_data[9] == 'n']\n",
    "print(\"Outliers in the dataset = \\n {}\".format(n_outliers))\n",
    "print(\"Inliers in dataset = \\n {}\".format(n_inliers))"
   ]
  },
  {
   "cell_type": "code",
   "execution_count": 3,
   "metadata": {},
   "outputs": [],
   "source": [
    "shuttle_data_used = shuttle_data[[0, 1, 2, 3, 4, 5, 6, 7, 8]]"
   ]
  },
  {
   "cell_type": "code",
   "execution_count": 4,
   "metadata": {
    "scrolled": true
   },
   "outputs": [],
   "source": [
    "from sklearn.cluster import KMeans\n",
    "from scipy import cluster\n",
    "import numpy as np\n",
    "\n",
    "cluster_number = 1\n",
    "column = 0\n",
    "column2 = 5\n",
    "axe1 = shuttle_data_used[column]\n",
    "axe2 = shuttle_data_used[column2]\n",
    "\n",
    "kmeans = KMeans(n_clusters=cluster_number, random_state=0).fit(shuttle_data_used)"
   ]
  },
  {
   "cell_type": "code",
   "execution_count": 5,
   "metadata": {},
   "outputs": [
    {
     "name": "stdout",
     "output_type": "stream",
     "text": [
      "Result of prediction on shuttle_data_used = [0 0 0 ... 0 0 0]\n"
     ]
    }
   ],
   "source": [
    "y_pred = kmeans.predict(shuttle_data_used)\n",
    "print(\"Result of prediction on shuttle_data_used = {}\".format(y_pred))"
   ]
  },
  {
   "cell_type": "code",
   "execution_count": 6,
   "metadata": {},
   "outputs": [
    {
     "name": "stdout",
     "output_type": "stream",
     "text": [
      "Number of cluster 0 found in shuttle_data_used = 46464\n",
      "Number of cluster 1 found in shuttle_data_used = 0\n"
     ]
    }
   ],
   "source": [
    "n_0 = y_pred[y_pred == 0].size\n",
    "n_1 = y_pred[y_pred == 1].size\n",
    "print(\"Number of cluster 0 found in shuttle_data_used = {}\".format(n_0))\n",
    "print(\"Number of cluster 1 found in shuttle_data_used = {}\".format(n_1))"
   ]
  },
  {
   "cell_type": "code",
   "execution_count": 7,
   "metadata": {},
   "outputs": [
    {
     "name": "stdout",
     "output_type": "stream",
     "text": [
      "Result of distances = \n",
      " [[ 90.78350257]\n",
      " [127.85905735]\n",
      " [137.33513521]\n",
      " ...\n",
      " [ 21.10028617]\n",
      " [ 29.24045022]\n",
      " [ 31.15426263]]\n"
     ]
    }
   ],
   "source": [
    "distances = kmeans.transform(shuttle_data_used)\n",
    "print(\"Result of distances = \\n {}\".format(distances))"
   ]
  },
  {
   "cell_type": "code",
   "execution_count": 25,
   "metadata": {},
   "outputs": [
    {
     "name": "stdout",
     "output_type": "stream",
     "text": [
      "Clusters centers : \n",
      "[[44.77548209 -0.71250861 84.83410813  0.27929149 38.65276343  2.28970816\n",
      "  40.07033402 46.18041925  6.29988809]]\n",
      "[[0]\n",
      " [0]\n",
      " [0]\n",
      " ...\n",
      " [0]\n",
      " [0]\n",
      " [0]]\n",
      "[[ 90.78350257]\n",
      " [127.85905735]\n",
      " [137.33513521]\n",
      " ...\n",
      " [ 21.10028617]\n",
      " [ 29.24045022]\n",
      " [ 31.15426263]]\n"
     ]
    },
    {
     "ename": "Exception",
     "evalue": "Data must be 1-dimensional",
     "output_type": "error",
     "traceback": [
      "\u001b[0;31m---------------------------------------------------------------------------\u001b[0m",
      "\u001b[0;31mException\u001b[0m                                 Traceback (most recent call last)",
      "\u001b[0;32m<ipython-input-25-be5d37d8df47>\u001b[0m in \u001b[0;36m<module>\u001b[0;34m\u001b[0m\n\u001b[1;32m     11\u001b[0m      }\n\u001b[1;32m     12\u001b[0m kmeans_result = pd.DataFrame(dataF, columns=['Column N°{}'.format(column),'Column N°{}'.format(column2),\n\u001b[0;32m---> 13\u001b[0;31m                                              'Distance to centroid','Cluster'])\n\u001b[0m\u001b[1;32m     14\u001b[0m \u001b[0;31m#kmeans_result = pd.DataFrame(\u001b[0m\u001b[0;34m\u001b[0m\u001b[0;34m\u001b[0m\u001b[0;34m\u001b[0m\u001b[0m\n\u001b[1;32m     15\u001b[0m \u001b[0;31m#    {'Column N°{}'.format(column): axe1,\u001b[0m\u001b[0;34m\u001b[0m\u001b[0;34m\u001b[0m\u001b[0;34m\u001b[0m\u001b[0m\n",
      "\u001b[0;32m~/anaconda3/lib/python3.7/site-packages/pandas/core/frame.py\u001b[0m in \u001b[0;36m__init__\u001b[0;34m(self, data, index, columns, dtype, copy)\u001b[0m\n\u001b[1;32m    390\u001b[0m                                  dtype=dtype, copy=copy)\n\u001b[1;32m    391\u001b[0m         \u001b[0;32melif\u001b[0m \u001b[0misinstance\u001b[0m\u001b[0;34m(\u001b[0m\u001b[0mdata\u001b[0m\u001b[0;34m,\u001b[0m \u001b[0mdict\u001b[0m\u001b[0;34m)\u001b[0m\u001b[0;34m:\u001b[0m\u001b[0;34m\u001b[0m\u001b[0;34m\u001b[0m\u001b[0m\n\u001b[0;32m--> 392\u001b[0;31m             \u001b[0mmgr\u001b[0m \u001b[0;34m=\u001b[0m \u001b[0minit_dict\u001b[0m\u001b[0;34m(\u001b[0m\u001b[0mdata\u001b[0m\u001b[0;34m,\u001b[0m \u001b[0mindex\u001b[0m\u001b[0;34m,\u001b[0m \u001b[0mcolumns\u001b[0m\u001b[0;34m,\u001b[0m \u001b[0mdtype\u001b[0m\u001b[0;34m=\u001b[0m\u001b[0mdtype\u001b[0m\u001b[0;34m)\u001b[0m\u001b[0;34m\u001b[0m\u001b[0;34m\u001b[0m\u001b[0m\n\u001b[0m\u001b[1;32m    393\u001b[0m         \u001b[0;32melif\u001b[0m \u001b[0misinstance\u001b[0m\u001b[0;34m(\u001b[0m\u001b[0mdata\u001b[0m\u001b[0;34m,\u001b[0m \u001b[0mma\u001b[0m\u001b[0;34m.\u001b[0m\u001b[0mMaskedArray\u001b[0m\u001b[0;34m)\u001b[0m\u001b[0;34m:\u001b[0m\u001b[0;34m\u001b[0m\u001b[0;34m\u001b[0m\u001b[0m\n\u001b[1;32m    394\u001b[0m             \u001b[0;32mimport\u001b[0m \u001b[0mnumpy\u001b[0m\u001b[0;34m.\u001b[0m\u001b[0mma\u001b[0m\u001b[0;34m.\u001b[0m\u001b[0mmrecords\u001b[0m \u001b[0;32mas\u001b[0m \u001b[0mmrecords\u001b[0m\u001b[0;34m\u001b[0m\u001b[0;34m\u001b[0m\u001b[0m\n",
      "\u001b[0;32m~/anaconda3/lib/python3.7/site-packages/pandas/core/internals/construction.py\u001b[0m in \u001b[0;36minit_dict\u001b[0;34m(data, index, columns, dtype)\u001b[0m\n\u001b[1;32m    210\u001b[0m         \u001b[0marrays\u001b[0m \u001b[0;34m=\u001b[0m \u001b[0;34m[\u001b[0m\u001b[0mdata\u001b[0m\u001b[0;34m[\u001b[0m\u001b[0mk\u001b[0m\u001b[0;34m]\u001b[0m \u001b[0;32mfor\u001b[0m \u001b[0mk\u001b[0m \u001b[0;32min\u001b[0m \u001b[0mkeys\u001b[0m\u001b[0;34m]\u001b[0m\u001b[0;34m\u001b[0m\u001b[0;34m\u001b[0m\u001b[0m\n\u001b[1;32m    211\u001b[0m \u001b[0;34m\u001b[0m\u001b[0m\n\u001b[0;32m--> 212\u001b[0;31m     \u001b[0;32mreturn\u001b[0m \u001b[0marrays_to_mgr\u001b[0m\u001b[0;34m(\u001b[0m\u001b[0marrays\u001b[0m\u001b[0;34m,\u001b[0m \u001b[0mdata_names\u001b[0m\u001b[0;34m,\u001b[0m \u001b[0mindex\u001b[0m\u001b[0;34m,\u001b[0m \u001b[0mcolumns\u001b[0m\u001b[0;34m,\u001b[0m \u001b[0mdtype\u001b[0m\u001b[0;34m=\u001b[0m\u001b[0mdtype\u001b[0m\u001b[0;34m)\u001b[0m\u001b[0;34m\u001b[0m\u001b[0;34m\u001b[0m\u001b[0m\n\u001b[0m\u001b[1;32m    213\u001b[0m \u001b[0;34m\u001b[0m\u001b[0m\n\u001b[1;32m    214\u001b[0m \u001b[0;34m\u001b[0m\u001b[0m\n",
      "\u001b[0;32m~/anaconda3/lib/python3.7/site-packages/pandas/core/internals/construction.py\u001b[0m in \u001b[0;36marrays_to_mgr\u001b[0;34m(arrays, arr_names, index, columns, dtype)\u001b[0m\n\u001b[1;32m     54\u001b[0m \u001b[0;34m\u001b[0m\u001b[0m\n\u001b[1;32m     55\u001b[0m     \u001b[0;31m# don't force copy because getting jammed in an ndarray anyway\u001b[0m\u001b[0;34m\u001b[0m\u001b[0;34m\u001b[0m\u001b[0;34m\u001b[0m\u001b[0m\n\u001b[0;32m---> 56\u001b[0;31m     \u001b[0marrays\u001b[0m \u001b[0;34m=\u001b[0m \u001b[0m_homogenize\u001b[0m\u001b[0;34m(\u001b[0m\u001b[0marrays\u001b[0m\u001b[0;34m,\u001b[0m \u001b[0mindex\u001b[0m\u001b[0;34m,\u001b[0m \u001b[0mdtype\u001b[0m\u001b[0;34m)\u001b[0m\u001b[0;34m\u001b[0m\u001b[0;34m\u001b[0m\u001b[0m\n\u001b[0m\u001b[1;32m     57\u001b[0m \u001b[0;34m\u001b[0m\u001b[0m\n\u001b[1;32m     58\u001b[0m     \u001b[0;31m# from BlockManager perspective\u001b[0m\u001b[0;34m\u001b[0m\u001b[0;34m\u001b[0m\u001b[0;34m\u001b[0m\u001b[0m\n",
      "\u001b[0;32m~/anaconda3/lib/python3.7/site-packages/pandas/core/internals/construction.py\u001b[0m in \u001b[0;36m_homogenize\u001b[0;34m(data, index, dtype)\u001b[0m\n\u001b[1;32m    275\u001b[0m                 \u001b[0mval\u001b[0m \u001b[0;34m=\u001b[0m \u001b[0mlib\u001b[0m\u001b[0;34m.\u001b[0m\u001b[0mfast_multiget\u001b[0m\u001b[0;34m(\u001b[0m\u001b[0mval\u001b[0m\u001b[0;34m,\u001b[0m \u001b[0moindex\u001b[0m\u001b[0;34m.\u001b[0m\u001b[0mvalues\u001b[0m\u001b[0;34m,\u001b[0m \u001b[0mdefault\u001b[0m\u001b[0;34m=\u001b[0m\u001b[0mnp\u001b[0m\u001b[0;34m.\u001b[0m\u001b[0mnan\u001b[0m\u001b[0;34m)\u001b[0m\u001b[0;34m\u001b[0m\u001b[0;34m\u001b[0m\u001b[0m\n\u001b[1;32m    276\u001b[0m             val = sanitize_array(val, index, dtype=dtype, copy=False,\n\u001b[0;32m--> 277\u001b[0;31m                                  raise_cast_failure=False)\n\u001b[0m\u001b[1;32m    278\u001b[0m \u001b[0;34m\u001b[0m\u001b[0m\n\u001b[1;32m    279\u001b[0m         \u001b[0mhomogenized\u001b[0m\u001b[0;34m.\u001b[0m\u001b[0mappend\u001b[0m\u001b[0;34m(\u001b[0m\u001b[0mval\u001b[0m\u001b[0;34m)\u001b[0m\u001b[0;34m\u001b[0m\u001b[0;34m\u001b[0m\u001b[0m\n",
      "\u001b[0;32m~/anaconda3/lib/python3.7/site-packages/pandas/core/internals/construction.py\u001b[0m in \u001b[0;36msanitize_array\u001b[0;34m(data, index, dtype, copy, raise_cast_failure)\u001b[0m\n\u001b[1;32m    656\u001b[0m     \u001b[0;32melif\u001b[0m \u001b[0msubarr\u001b[0m\u001b[0;34m.\u001b[0m\u001b[0mndim\u001b[0m \u001b[0;34m>\u001b[0m \u001b[0;36m1\u001b[0m\u001b[0;34m:\u001b[0m\u001b[0;34m\u001b[0m\u001b[0;34m\u001b[0m\u001b[0m\n\u001b[1;32m    657\u001b[0m         \u001b[0;32mif\u001b[0m \u001b[0misinstance\u001b[0m\u001b[0;34m(\u001b[0m\u001b[0mdata\u001b[0m\u001b[0;34m,\u001b[0m \u001b[0mnp\u001b[0m\u001b[0;34m.\u001b[0m\u001b[0mndarray\u001b[0m\u001b[0;34m)\u001b[0m\u001b[0;34m:\u001b[0m\u001b[0;34m\u001b[0m\u001b[0;34m\u001b[0m\u001b[0m\n\u001b[0;32m--> 658\u001b[0;31m             \u001b[0;32mraise\u001b[0m \u001b[0mException\u001b[0m\u001b[0;34m(\u001b[0m\u001b[0;34m'Data must be 1-dimensional'\u001b[0m\u001b[0;34m)\u001b[0m\u001b[0;34m\u001b[0m\u001b[0;34m\u001b[0m\u001b[0m\n\u001b[0m\u001b[1;32m    659\u001b[0m         \u001b[0;32melse\u001b[0m\u001b[0;34m:\u001b[0m\u001b[0;34m\u001b[0m\u001b[0;34m\u001b[0m\u001b[0m\n\u001b[1;32m    660\u001b[0m             \u001b[0msubarr\u001b[0m \u001b[0;34m=\u001b[0m \u001b[0mcom\u001b[0m\u001b[0;34m.\u001b[0m\u001b[0masarray_tuplesafe\u001b[0m\u001b[0;34m(\u001b[0m\u001b[0mdata\u001b[0m\u001b[0;34m,\u001b[0m \u001b[0mdtype\u001b[0m\u001b[0;34m=\u001b[0m\u001b[0mdtype\u001b[0m\u001b[0;34m)\u001b[0m\u001b[0;34m\u001b[0m\u001b[0;34m\u001b[0m\u001b[0m\n",
      "\u001b[0;31mException\u001b[0m: Data must be 1-dimensional"
     ]
    }
   ],
   "source": [
    "groups_ = kmeans.labels_\n",
    "#groups = groups_.reshape(-1, 1)\n",
    "cluster_centers = kmeans.cluster_centers_\n",
    "print(\"Clusters centers : \\n\" + str(cluster_centers))\n",
    "print(groups)\n",
    "print(distances)\n",
    "dataF = {'Column N°{}'.format(column): axe1,\n",
    "         'Column N°{}'.format(column2): axe2,\n",
    "         'Distance to centroid': distances,\n",
    "         'Cluster': groups\n",
    "     }\n",
    "kmeans_result = pd.DataFrame(dataF, columns=['Column N°{}'.format(column),'Column N°{}'.format(column2),\n",
    "                                             'Distance to centroid','Cluster'])\n",
    "#kmeans_result = pd.DataFrame(\n",
    "#    {'Column N°{}'.format(column): axe1,\n",
    "#     'Column N°{}'.format(column2): axe2,\n",
    "#     'Distance to centroid': distances\n",
    "#     'Cluster': groups\n",
    "#     })\n",
    "print(kmeans_result.all)\n",
    "#print(dataF)"
   ]
  },
  {
   "cell_type": "code",
   "execution_count": null,
   "metadata": {},
   "outputs": [],
   "source": [
    "# argsort returns an array of indexes which will sort the array\n",
    "# in ascending order. Reverse it with [::-1]\n",
    "sorted_idx = np.argsort(distances.ravel())[::-1][:5]\n",
    "print(\"Result of sorted distances = {}\".format(sorted_idx))"
   ]
  },
  {
   "cell_type": "code",
   "execution_count": null,
   "metadata": {},
   "outputs": [],
   "source": []
  }
 ],
 "metadata": {
  "kernelspec": {
   "display_name": "Python 3",
   "language": "python",
   "name": "python3"
  },
  "language_info": {
   "codemirror_mode": {
    "name": "ipython",
    "version": 3
   },
   "file_extension": ".py",
   "mimetype": "text/x-python",
   "name": "python",
   "nbconvert_exporter": "python",
   "pygments_lexer": "ipython3",
   "version": "3.7.3"
  }
 },
 "nbformat": 4,
 "nbformat_minor": 2
}
