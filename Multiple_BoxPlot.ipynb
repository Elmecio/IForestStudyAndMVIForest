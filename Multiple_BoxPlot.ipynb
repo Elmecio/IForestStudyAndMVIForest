{
 "cells": [
  {
   "cell_type": "code",
   "execution_count": 1,
   "metadata": {},
   "outputs": [
    {
     "name": "stdout",
     "output_type": "stream",
     "text": [
      "Data : <bound method DataFrame.all of      SepalLength  SepalWidth  PetalLength  PetalWidth            Name\n",
      "0            5.1         3.5          1.4         0.2     Iris-setosa\n",
      "1            4.9         3.0          1.4         0.2     Iris-setosa\n",
      "2            4.7         3.2          1.3         0.2     Iris-setosa\n",
      "3            4.6         3.1          1.5         0.2     Iris-setosa\n",
      "4            5.0         3.6          1.4         0.2     Iris-setosa\n",
      "5            5.4         3.9          1.7         0.4     Iris-setosa\n",
      "6            4.6         3.4          1.4         0.3     Iris-setosa\n",
      "7            5.0         3.4          1.5         0.2     Iris-setosa\n",
      "8            4.4         2.9          1.4         0.2     Iris-setosa\n",
      "9            4.9         3.1          1.5         0.1     Iris-setosa\n",
      "10           5.4         3.7          1.5         0.2     Iris-setosa\n",
      "11           4.8         3.4          1.6         0.2     Iris-setosa\n",
      "12           4.8         3.0          1.4         0.1     Iris-setosa\n",
      "13           4.3         3.0          1.1         0.1     Iris-setosa\n",
      "14           5.8         4.0          1.2         0.2     Iris-setosa\n",
      "15           5.7         4.4          1.5         0.4     Iris-setosa\n",
      "16           5.4         3.9          1.3         0.4     Iris-setosa\n",
      "17           5.1         3.5          1.4         0.3     Iris-setosa\n",
      "18           5.7         3.8          1.7         0.3     Iris-setosa\n",
      "19           5.1         3.8          1.5         0.3     Iris-setosa\n",
      "20           5.4         3.4          1.7         0.2     Iris-setosa\n",
      "21           5.1         3.7          1.5         0.4     Iris-setosa\n",
      "22           4.6         3.6          1.0         0.2     Iris-setosa\n",
      "23           5.1         3.3          1.7         0.5     Iris-setosa\n",
      "24           4.8         3.4          1.9         0.2     Iris-setosa\n",
      "25           5.0         3.0          1.6         0.2     Iris-setosa\n",
      "26           5.0         3.4          1.6         0.4     Iris-setosa\n",
      "27           5.2         3.5          1.5         0.2     Iris-setosa\n",
      "28           5.2         3.4          1.4         0.2     Iris-setosa\n",
      "29           4.7         3.2          1.6         0.2     Iris-setosa\n",
      "..           ...         ...          ...         ...             ...\n",
      "120          6.9         3.2          5.7         2.3  Iris-virginica\n",
      "121          5.6         2.8          4.9         2.0  Iris-virginica\n",
      "122          7.7         2.8          6.7         2.0  Iris-virginica\n",
      "123          6.3         2.7          4.9         1.8  Iris-virginica\n",
      "124          6.7         3.3          5.7         2.1  Iris-virginica\n",
      "125          7.2         3.2          6.0         1.8  Iris-virginica\n",
      "126          6.2         2.8          4.8         1.8  Iris-virginica\n",
      "127          6.1         3.0          4.9         1.8  Iris-virginica\n",
      "128          6.4         2.8          5.6         2.1  Iris-virginica\n",
      "129          7.2         3.0          5.8         1.6  Iris-virginica\n",
      "130          7.4         2.8          6.1         1.9  Iris-virginica\n",
      "131          7.9         3.8          6.4         2.0  Iris-virginica\n",
      "132          6.4         2.8          5.6         2.2  Iris-virginica\n",
      "133          6.3         2.8          5.1         1.5  Iris-virginica\n",
      "134          6.1         2.6          5.6         1.4  Iris-virginica\n",
      "135          7.7         3.0          6.1         2.3  Iris-virginica\n",
      "136          6.3         3.4          5.6         2.4  Iris-virginica\n",
      "137          6.4         3.1          5.5         1.8  Iris-virginica\n",
      "138          6.0         3.0          4.8         1.8  Iris-virginica\n",
      "139          6.9         3.1          5.4         2.1  Iris-virginica\n",
      "140          6.7         3.1          5.6         2.4  Iris-virginica\n",
      "141          6.9         3.1          5.1         2.3  Iris-virginica\n",
      "142          5.8         2.7          5.1         1.9  Iris-virginica\n",
      "143          6.8         3.2          5.9         2.3  Iris-virginica\n",
      "144          6.7         3.3          5.7         2.5  Iris-virginica\n",
      "145          6.7         3.0          5.2         2.3  Iris-virginica\n",
      "146          6.3         2.5          5.0         1.9  Iris-virginica\n",
      "147          6.5         3.0          5.2         2.0  Iris-virginica\n",
      "148          6.2         3.4          5.4         2.3  Iris-virginica\n",
      "149          5.9         3.0          5.1         1.8  Iris-virginica\n",
      "\n",
      "[150 rows x 5 columns]>\n",
      "Kurtosis result : SepalLength   -0.552064\n",
      "SepalWidth     0.290781\n",
      "PetalLength   -1.401921\n",
      "PetalWidth    -1.339754\n",
      "dtype: float64\n",
      "Skew result : SepalLength    0.314911\n",
      "SepalWidth     0.334053\n",
      "PetalLength   -0.274464\n",
      "PetalWidth    -0.104997\n",
      "dtype: float64\n"
     ]
    },
    {
     "data": {
      "text/plain": [
       "<matplotlib.axes._subplots.AxesSubplot at 0x11f121438>"
      ]
     },
     "execution_count": 1,
     "metadata": {},
     "output_type": "execute_result"
    }
   ],
   "source": [
    "import pandas as pd\n",
    "import matplotlib.pyplot as plt\n",
    "\n",
    "data = pd.read_csv('https://raw.githubusercontent.com/pandas-dev/pandas/master/pandas/tests/data/iris.csv')\n",
    "\n",
    "print(\"Data : {}\".format(data.all))\n",
    "print(\"Kurtosis result : {}\".format(data.kurtosis()))\n",
    "print(\"Skew result : {}\".format(data.skew()))\n",
    "\n",
    "fig, ax = plt.subplots(figsize=(10,8))\n",
    "plt.suptitle('')\n",
    "data.boxplot(column=['SepalLength', 'SepalWidth', 'PetalLength', 'PetalWidth'], ax=ax)\n",
    "#data.boxplot(column=['SepalLength'], by='Name', ax=ax)\n",
    "#data.boxplot(column=['SepalWidth'], by='Name', ax=ax)\n",
    "#data.boxplot(column=['PetalLength'], by='Name', ax=ax)\n",
    "#data.boxplot(column=['PetalWidth'], by='Name', ax=ax)"
   ]
  },
  {
   "cell_type": "code",
   "execution_count": 8,
   "metadata": {},
   "outputs": [
    {
     "ename": "ModuleNotFoundError",
     "evalue": "No module named 'pyspark'",
     "output_type": "error",
     "traceback": [
      "\u001b[0;31m---------------------------------------------------------------------------\u001b[0m",
      "\u001b[0;31mModuleNotFoundError\u001b[0m                       Traceback (most recent call last)",
      "\u001b[0;32m<ipython-input-8-28e1b26e9890>\u001b[0m in \u001b[0;36m<module>\u001b[0;34m\u001b[0m\n\u001b[0;32m----> 1\u001b[0;31m \u001b[0;32mimport\u001b[0m \u001b[0mpyspark\u001b[0m\u001b[0;34m\u001b[0m\u001b[0;34m\u001b[0m\u001b[0m\n\u001b[0m\u001b[1;32m      2\u001b[0m \u001b[0;32mfrom\u001b[0m \u001b[0mpyspark\u001b[0m\u001b[0;34m.\u001b[0m\u001b[0mmllib\u001b[0m\u001b[0;34m.\u001b[0m\u001b[0mclustering\u001b[0m \u001b[0;32mimport\u001b[0m \u001b[0mKMeans\u001b[0m\u001b[0;34m,\u001b[0m \u001b[0mKMeansModel\u001b[0m\u001b[0;34m\u001b[0m\u001b[0;34m\u001b[0m\u001b[0m\n\u001b[1;32m      3\u001b[0m \u001b[0;31m# k: the number of clusters\u001b[0m\u001b[0;34m\u001b[0m\u001b[0;34m\u001b[0m\u001b[0;34m\u001b[0m\u001b[0m\n\u001b[1;32m      4\u001b[0m \u001b[0mk_range\u001b[0m \u001b[0;34m=\u001b[0m \u001b[0mrange\u001b[0m\u001b[0;34m(\u001b[0m\u001b[0;36m1\u001b[0m\u001b[0;34m,\u001b[0m \u001b[0;36m10\u001b[0m\u001b[0;34m)\u001b[0m\u001b[0;34m\u001b[0m\u001b[0;34m\u001b[0m\u001b[0m\n\u001b[1;32m      5\u001b[0m \u001b[0;34m\u001b[0m\u001b[0m\n",
      "\u001b[0;31mModuleNotFoundError\u001b[0m: No module named 'pyspark'"
     ]
    }
   ],
   "source": [
    "#import pyspark\n",
    "#from pyspark.mllib.clustering import KMeans, KMeansModel\n",
    "# k: the number of clusters\n",
    "#k_range = range(1, 10)\n",
    "\n",
    "#def clusteringScore(data, k):\n",
    "#    clusters = KMeans.train(data, k, maxIterations=10, runs=10, initializationMode=\"random\")\n",
    "    # calculate mean square error\n",
    "#     WSSSE = data.map(lambda point: error(clusters, point)).reduce(add)\n",
    "#    WSSSE = clusters.computeCost(data)\n",
    "#    return WSSSE\n",
    "\n",
    "#scores = [clusteringScore(data, k) for k in k_range]\n",
    "#for score in scores:\n",
    "#    print(score)\n",
    "    \n",
    "# plot results\n",
    "#plt.scatter(k_range, scores)\n",
    "#plt.xlabel('k')\n",
    "#plt.ylabel('clustering score')"
   ]
  },
  {
   "cell_type": "code",
   "execution_count": 9,
   "metadata": {},
   "outputs": [
    {
     "ename": "TypeError",
     "evalue": "kmeans() missing 1 required positional argument: 'obs'",
     "output_type": "error",
     "traceback": [
      "\u001b[0;31m---------------------------------------------------------------------------\u001b[0m",
      "\u001b[0;31mTypeError\u001b[0m                                 Traceback (most recent call last)",
      "\u001b[0;32m<ipython-input-9-6512f880ed57>\u001b[0m in \u001b[0;36m<module>\u001b[0;34m\u001b[0m\n\u001b[1;32m     14\u001b[0m \u001b[0;34m\u001b[0m\u001b[0m\n\u001b[1;32m     15\u001b[0m \u001b[0;31m# Get centroids and average distance\u001b[0m\u001b[0;34m\u001b[0m\u001b[0;34m\u001b[0m\u001b[0;34m\u001b[0m\u001b[0m\n\u001b[0;32m---> 16\u001b[0;31m \u001b[0mcentroids\u001b[0m\u001b[0;34m,\u001b[0m \u001b[0mavg_distance\u001b[0m \u001b[0;34m=\u001b[0m \u001b[0mkmeans\u001b[0m\u001b[0;34m(\u001b[0m\u001b[0mk_or_guess\u001b[0m\u001b[0;34m=\u001b[0m\u001b[0mcluster_number\u001b[0m\u001b[0;34m)\u001b[0m\u001b[0;34m.\u001b[0m\u001b[0mfit\u001b[0m\u001b[0;34m(\u001b[0m\u001b[0mdata\u001b[0m\u001b[0;34m)\u001b[0m\u001b[0;34m\u001b[0m\u001b[0;34m\u001b[0m\u001b[0m\n\u001b[0m\u001b[1;32m     17\u001b[0m \u001b[0;31m# Get the groups (clusters) and distances\u001b[0m\u001b[0;34m\u001b[0m\u001b[0;34m\u001b[0m\u001b[0;34m\u001b[0m\u001b[0m\n\u001b[1;32m     18\u001b[0m \u001b[0mgroups\u001b[0m\u001b[0;34m,\u001b[0m \u001b[0mcluster_distance\u001b[0m \u001b[0;34m=\u001b[0m \u001b[0mcluster\u001b[0m\u001b[0;34m.\u001b[0m\u001b[0mvq\u001b[0m\u001b[0;34m.\u001b[0m\u001b[0mvq\u001b[0m\u001b[0;34m(\u001b[0m\u001b[0mdata\u001b[0m\u001b[0;34m,\u001b[0m \u001b[0mcentroids\u001b[0m\u001b[0;34m)\u001b[0m\u001b[0;34m\u001b[0m\u001b[0;34m\u001b[0m\u001b[0m\n",
      "\u001b[0;31mTypeError\u001b[0m: kmeans() missing 1 required positional argument: 'obs'"
     ]
    }
   ],
   "source": [
    "from scipy.cluster.vq import kmeans, whiten\n",
    "from scipy import cluster\n",
    "import numpy as np\n",
    "\n",
    "cluster_number = 3\n",
    "column = 'PetalWidth'\n",
    "column2 = 'Name'\n",
    "\n",
    "axe1 = data[column].values\n",
    "axe2 = data[column2]\n",
    "\n",
    "#data = data.to_xarray()\n",
    "#whitened = whiten(data)\n",
    "\n",
    "centroids, avg_distance = kmeans(k_or_guess=cluster_number).fit(data)\n",
    "# Get centroids and average distance\n",
    "centroids, avg_distance = kmeans(k_or_guess=cluster_number).fit(data)\n",
    "# Get the groups (clusters) and distances\n",
    "groups, cluster_distance = cluster.vq.vq(data, centroids)\n",
    "\n",
    "print(centroids)\n",
    "print(avg_distance)\n",
    "print(groups)\n",
    "print(cluster_distance)\n",
    "kmeans_result = pd.DataFrame(\n",
    "    {'Column N°{}'.format(column): axe1,\n",
    "     'Distance to centroid': cluster_distance,\n",
    "     'Column N°{}'.format(column2): axe2,\n",
    "     'Cluster': groups\n",
    "     })\n",
    "print(kmeans_result.all)\n",
    "\n",
    "axe1 = axe1.reshape(-1, 1)\n",
    "#axe2 = axe2.reshape(-1, 1)\n",
    "#clus = plt.scatter(axe1, np.arange(0, len(data[column])), s=cluster_distance*1000, c=groups, edgecolors='r',\n",
    "#            facecolors='none')\n",
    "#cen = plt.scatter(centroids, np.arange(0, cluster_number))\n",
    "#plt.xlabel('Column N°{}'.format(column))\n",
    "#plt.ylabel('Indices')\n",
    "clus = plt.scatter(axe2, axe1, s=cluster_distance*1000, c=groups)#, edgecolors='r',\n",
    "            #facecolors='none')\n",
    "#clus = plt.scatter(axe2, axe1, s=cluster_distance*1000)#, c=groups, edgecolors='r',\n",
    "            #facecolors='none')\n",
    "#cen = plt.scatter(centroids*50, centroids*50)\n",
    "plt.ylabel('Column N°{}'.format(column))\n",
    "plt.xlabel('Column N°{}'.format(column2))\n",
    "#plt.show(cen)\n",
    "plt.show(clus)"
   ]
  },
  {
   "cell_type": "code",
   "execution_count": null,
   "metadata": {},
   "outputs": [],
   "source": []
  },
  {
   "cell_type": "code",
   "execution_count": null,
   "metadata": {},
   "outputs": [],
   "source": []
  }
 ],
 "metadata": {
  "kernelspec": {
   "display_name": "Python 3",
   "language": "python",
   "name": "python3"
  },
  "language_info": {
   "codemirror_mode": {
    "name": "ipython",
    "version": 3
   },
   "file_extension": ".py",
   "mimetype": "text/x-python",
   "name": "python",
   "nbconvert_exporter": "python",
   "pygments_lexer": "ipython3",
   "version": "3.7.3"
  }
 },
 "nbformat": 4,
 "nbformat_minor": 2
}
