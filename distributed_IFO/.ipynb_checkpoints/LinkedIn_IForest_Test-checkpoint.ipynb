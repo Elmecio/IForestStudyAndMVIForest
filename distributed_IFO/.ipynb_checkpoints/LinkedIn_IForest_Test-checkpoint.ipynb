{
 "cells": [
  {
   "cell_type": "code",
   "execution_count": 2,
   "metadata": {},
   "outputs": [
    {
     "name": "stderr",
     "output_type": "stream",
     "text": [
      "\u001b[0;31mError in calling magic 'init_spark' on cell:\n",
      "    Java gateway process exited before sending its port number\n",
      "    args: []\n",
      "    kwargs: {}\n",
      "\u001b[0m\u001b[0;31mTraceback (most recent call last):\n",
      "  File \"/home/momo/.local/lib/python3.7/site-packages/metakernel/magic.py\", line 96, in call_magic\n",
      "    func(*args, **kwargs)\n",
      "  File \"/home/momo/.local/lib/python3.7/site-packages/spylon_kernel/init_spark_magic.py\", line 59, in cell_init_spark\n",
      "    init_spark(conf=self.env['launcher'], capture_stderr=stderr)\n",
      "  File \"/home/momo/.local/lib/python3.7/site-packages/spylon_kernel/scala_interpreter.py\", line 99, in init_spark\n",
      "    spark_context = conf.spark_context(application_name)\n",
      "  File \"/home/momo/.local/lib/python3.7/site-packages/spylon/spark/launcher.py\", line 521, in spark_context\n",
      "    return pyspark.SparkContext(appName=application_name, conf=spark_conf)\n",
      "  File \"/home/momo/.local/lib/python3.7/site-packages/pyspark/context.py\", line 115, in __init__\n",
      "    SparkContext._ensure_initialized(self, gateway=gateway, conf=conf)\n",
      "  File \"/home/momo/.local/lib/python3.7/site-packages/pyspark/context.py\", line 298, in _ensure_initialized\n",
      "    SparkContext._gateway = gateway or launch_gateway(conf)\n",
      "  File \"/home/momo/.local/lib/python3.7/site-packages/pyspark/java_gateway.py\", line 94, in launch_gateway\n",
      "    raise Exception(\"Java gateway process exited before sending its port number\")\n",
      "Exception: Java gateway process exited before sending its port number\n",
      "\n",
      "\u001b[0m\u001b[0;31m%%init_spark [--stderr] - starts a SparkContext with a custom\n",
      "configuration defined using Python code in the body of the cell\n",
      "\n",
      "Includes a `spylon.spark.launcher.SparkConfiguration` instance\n",
      "in the variable `launcher`. Looks for an `application_name`\n",
      "variable to use as the name of the Spark session.\n",
      "\n",
      "Example\n",
      "-------\n",
      "%%init_spark\n",
      "launcher.jars = [\"file://some/jar.jar\"]\n",
      "launcher.master = \"local[4]\"\n",
      "launcher.conf.spark.app.name = \"My Fancy App\"\n",
      "launcher.conf.spark.executor.cores = 8\n",
      "\n",
      "Options:\n",
      "-------\n",
      "--stderr       Capture stderr in the notebook instead of in the kernel log [default: False]\n",
      "\u001b[0m"
     ]
    }
   ],
   "source": [
    "%%init_spark\n",
    "launcher.jars = [\"file:/home/momo/Documents/Devs/AnacondaSpaceNew/OD_Jupyter/distributed_IFO/isolation-forest_2.3.0_2.11-1.0.2.jar\"]\n",
    "launcher.master = \"local[4]\"\n",
    "launcher.packages = [\"com.linkedin.relevance\"]\n",
    "launcher.conf.spark.app.name = \"Test Spark IForest\""
   ]
  },
  {
   "cell_type": "code",
   "execution_count": 40,
   "metadata": {},
   "outputs": [],
   "source": [
    "\n",
    "//launcher.conf.spark.executor.cores = 1"
   ]
  },
  {
   "cell_type": "code",
   "execution_count": 9,
   "metadata": {
    "scrolled": true
   },
   "outputs": [
    {
     "data": {
      "text/plain": [
       "import org.apache.spark.ml.feature.VectorAssembler\n",
       "import org.apache.spark.ml.feature.VectorAssembler\n",
       "import org.apache.spark.sql.SparkSession\n",
       "import org.apache.spark.sql.functions.{count, _}\n",
       "import org.apache.spark.sql.types._\n",
       "import spark.implicits._\n"
      ]
     },
     "execution_count": 9,
     "metadata": {},
     "output_type": "execute_result"
    }
   ],
   "source": [
    "// Library\n",
    "//import pyspark.SparkConf\n",
    "import org.apache.spark.ml.feature.VectorAssembler\n",
    "import org.apache.spark.ml.feature.VectorAssembler\n",
    "import org.apache.spark.sql.SparkSession\n",
    "import org.apache.spark.sql.functions.{count, _}\n",
    "import org.apache.spark.sql.types._\n",
    "import spark.implicits._\n",
    "//import com.linkedin.relevance.isolationforest._"
   ]
  },
  {
   "cell_type": "code",
   "execution_count": 47,
   "metadata": {},
   "outputs": [
    {
     "ename": "<console>",
     "evalue": "60: error: not found: type SparkConf",
     "output_type": "error",
     "traceback": [
      "<console>:60: error: not found: type SparkConf",
      "       val conf = new SparkConf()",
      "                      ^",
      ""
     ]
    }
   ],
   "source": [
    "//val conf = new SparkConf()\n",
    "//conf.set(\"spark.jars\", \"isolation_forest_linkedin.jar\")\n",
    "val spark = SparkSession.builder.config(conf).master(\"local[*]\").appName(\"lambda\").getOrCreate()\n",
    "\n",
    "import com.linkedin.relevance.isolationforest._"
   ]
  },
  {
   "cell_type": "code",
   "execution_count": 10,
   "metadata": {},
   "outputs": [
    {
     "name": "stdout",
     "output_type": "stream",
     "text": [
      "2021-03-04 11:31:58 WARN  SparkSession$Builder:66 - Using an existing SparkSession; some configuration may not take effect.\n"
     ]
    },
    {
     "data": {
      "text/plain": [
       "jar_link: String = file:/home/momo/Documents/Devs/AnacondaSpaceNew/OD_Jupyter/distributed_IFO/isolation_forest_linkedin.jar\n",
       "spark: org.apache.spark.sql.SparkSession = org.apache.spark.sql.SparkSession@6a9a7634\n"
      ]
     },
     "execution_count": 10,
     "metadata": {},
     "output_type": "execute_result"
    }
   ],
   "source": [
    "// context for spark\n",
    "//file://OD_Jupyter/distributed_IFO/isolation_forest_linkedin.jar\n",
    "val jar_link = \"file:/home/momo/Documents/Devs/AnacondaSpaceNew/OD_Jupyter/distributed_IFO/isolation_forest_linkedin.jar\"\n",
    "val spark = SparkSession.builder.config(\"spark.jars\",\"file:/home/momo/Documents/Devs/AnacondaSpaceNew/OD_Jupyter/distributed_IFO/isolation_forest_linkedin.jar\").master(\"local[*]\").appName(\"lambda\").getOrCreate()"
   ]
  },
  {
   "cell_type": "code",
   "execution_count": 11,
   "metadata": {},
   "outputs": [
    {
     "ename": "<console>",
     "evalue": "36: error: object linkedin is not a member of package com",
     "output_type": "error",
     "traceback": [
      "<console>:36: error: object linkedin is not a member of package com",
      "       import com.linkedin.relevance.isolationforest._",
      "                  ^",
      ""
     ]
    }
   ],
   "source": [
    "import com.linkedin.relevance.isolationforest._"
   ]
  },
  {
   "cell_type": "code",
   "execution_count": 63,
   "metadata": {},
   "outputs": [
    {
     "ename": "<console>",
     "evalue": " error: incomplete input",
     "output_type": "error",
     "traceback": [
      "<console>: error: incomplete input"
     ]
    }
   ],
   "source": [
    "%AddJar https://github.com/Elmecio/OD_Jupyter/blob/master/distributed_IFO/isolation-forest_2.3.0_2.11-1.0.2.jar -f"
   ]
  },
  {
   "cell_type": "code",
   "execution_count": 7,
   "metadata": {},
   "outputs": [
    {
     "ename": "<console>",
     "evalue": "26: error: not found: value %%",
     "output_type": "error",
     "traceback": [
      "<console>:26: error: not found: value %%",
      "       %%AddJar \"file:/home/momo/Documents/Devs/AnacondaSpaceNew/OD_Jupyter/distributed_IFO/isolation_forest_linkedin.jar\"",
      "       ^",
      ""
     ]
    }
   ],
   "source": [
    "%AddJar \"file:/home/momo/Documents/Devs/AnacondaSpaceNew/OD_Jupyter/distributed_IFO/isolation_forest_linkedin.jar\""
   ]
  },
  {
   "cell_type": "code",
   "execution_count": null,
   "metadata": {},
   "outputs": [],
   "source": [
    "import com.linkedin.relevance.isolationforest._"
   ]
  },
  {
   "cell_type": "code",
   "execution_count": 13,
   "metadata": {},
   "outputs": [
    {
     "ename": "<console>",
     "evalue": "47: error: value join is not a member of String",
     "output_type": "error",
     "traceback": [
      "<console>:47: error: value join is not a member of String",
      "       val spark = SparkSession.builder.config(\"spark.jars\",\",\".join(\"isolation_forest_linkedin.jar\")).master(\"local[*]\").appName(\"lambda\").getOrCreate()",
      "                                                                ^",
      ""
     ]
    }
   ],
   "source": [
    "// context for spark\n",
    "//val spark = SparkSession.builder.config(\"spark.jars\",\",\".join(\"isolation_forest_linkedin.jar\")).master(\"local[*]\").appName(\"lambda\").getOrCreate()"
   ]
  },
  {
   "cell_type": "code",
   "execution_count": 3,
   "metadata": {},
   "outputs": [
    {
     "ename": "<console>",
     "evalue": "3: error: unclosed character literal",
     "output_type": "error",
     "traceback": [
      "<console>:3: error: unclosed character literal",
      "conf.set('spark.jars', 'isolation_forest_linkedin.jar')",
      "                    ^",
      "<console>:3: error: unclosed character literal",
      "conf.set('spark.jars', 'isolation_forest_linkedin.jar')",
      "                                                     ^",
      ""
     ]
    }
   ],
   "source": [
    "//conf = SparkConf()\n",
    "//conf.set('spark.jars', 'isolation_forest_linkedin.jar')"
   ]
  },
  {
   "cell_type": "code",
   "execution_count": 15,
   "metadata": {},
   "outputs": [
    {
     "ename": "<console>",
     "evalue": "46: error: object linkedin is not a member of package com",
     "output_type": "error",
     "traceback": [
      "<console>:46: error: object linkedin is not a member of package com",
      "       import com.linkedin.relevance.isolationforest._",
      "                  ^",
      ""
     ]
    }
   ],
   "source": []
  },
  {
   "cell_type": "code",
   "execution_count": null,
   "metadata": {},
   "outputs": [],
   "source": []
  }
 ],
 "metadata": {
  "kernelspec": {
   "display_name": "spylon-kernel",
   "language": "scala",
   "name": "spylon-kernel"
  },
  "language_info": {
   "codemirror_mode": "text/x-scala",
   "file_extension": ".scala",
   "help_links": [
    {
     "text": "MetaKernel Magics",
     "url": "https://metakernel.readthedocs.io/en/latest/source/README.html"
    }
   ],
   "mimetype": "text/x-scala",
   "name": "scala",
   "pygments_lexer": "scala",
   "version": "0.4.1"
  }
 },
 "nbformat": 4,
 "nbformat_minor": 4
}
