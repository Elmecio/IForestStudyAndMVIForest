{
 "cells": [
  {
   "cell_type": "code",
   "execution_count": 1,
   "metadata": {},
   "outputs": [],
   "source": [
    "from pyspark import SparkConf\n",
    "from pyspark.sql import SparkSession, functions as F\n",
    "from pyspark.ml.feature import VectorAssembler, StandardScaler\n",
    "import tempfile\n",
    "import pandas as pd"
   ]
  },
  {
   "cell_type": "code",
   "execution_count": 2,
   "metadata": {},
   "outputs": [
    {
     "data": {
      "text/plain": [
       "<pyspark.conf.SparkConf at 0x7fe91e727290>"
      ]
     },
     "execution_count": 2,
     "metadata": {},
     "output_type": "execute_result"
    }
   ],
   "source": [
    "conf = SparkConf()\n",
    "conf.set('spark.jars', 'spark-iforest-2.4.0.jar')"
   ]
  },
  {
   "cell_type": "code",
   "execution_count": 3,
   "metadata": {},
   "outputs": [],
   "source": [
    "spark = SparkSession \\\n",
    "        .builder \\\n",
    "        .config(conf=conf) \\\n",
    "        .appName(\"IForestExampleForestCover\") \\\n",
    "        .getOrCreate()"
   ]
  },
  {
   "cell_type": "code",
   "execution_count": 4,
   "metadata": {},
   "outputs": [],
   "source": [
    "from pyspark_iforest.ml.iforest import IForest, IForestModel"
   ]
  },
  {
   "cell_type": "code",
   "execution_count": 5,
   "metadata": {},
   "outputs": [],
   "source": [
    "temp_path = tempfile.mkdtemp()\n",
    "iforest_path = temp_path + \"/iforest\"\n",
    "model_path = temp_path + \"/iforest_model\""
   ]
  },
  {
   "cell_type": "code",
   "execution_count": 6,
   "metadata": {},
   "outputs": [],
   "source": [
    "dataset_size = 286048\n",
    "rawData = spark.read.format(\"csv\").option(\"comment\", \"#\").option(\"header\", \"true\").option(\"inferSchema\", \"true\").load(\"ForestCover.csv\")"
   ]
  },
  {
   "cell_type": "code",
   "execution_count": 7,
   "metadata": {},
   "outputs": [
    {
     "data": {
      "text/plain": [
       "DataFrame[0: int, 1: int, 2: int, 3: int, 4: int, 5: int, 6: int, 7: int, 8: int, 9: int, 10: int]"
      ]
     },
     "execution_count": 7,
     "metadata": {},
     "output_type": "execute_result"
    }
   ],
   "source": [
    "rawData"
   ]
  },
  {
   "cell_type": "code",
   "execution_count": 8,
   "metadata": {},
   "outputs": [
    {
     "data": {
      "text/plain": [
       "['0', '1', '2', '3', '4', '5', '6', '7', '8', '9', '10']"
      ]
     },
     "execution_count": 8,
     "metadata": {},
     "output_type": "execute_result"
    }
   ],
   "source": [
    "cols = rawData.columns\n",
    "labelCol = cols[len(cols)-1]\n",
    "cols"
   ]
  },
  {
   "cell_type": "code",
   "execution_count": 9,
   "metadata": {},
   "outputs": [
    {
     "data": {
      "text/plain": [
       "'10'"
      ]
     },
     "execution_count": 9,
     "metadata": {},
     "output_type": "execute_result"
    }
   ],
   "source": [
    "labelCol"
   ]
  },
  {
   "cell_type": "code",
   "execution_count": 10,
   "metadata": {},
   "outputs": [
    {
     "data": {
      "text/plain": [
       "['0', '1', '2', '3', '4', '5', '6', '7', '8', '9']"
      ]
     },
     "execution_count": 10,
     "metadata": {},
     "output_type": "execute_result"
    }
   ],
   "source": [
    "used_cols = []\n",
    "i = 0\n",
    "for col in cols:\n",
    "    if i < len(cols)-1:\n",
    "        used_cols.append(col)\n",
    "        i = i+1\n",
    "used_cols"
   ]
  },
  {
   "cell_type": "code",
   "execution_count": 11,
   "metadata": {},
   "outputs": [],
   "source": [
    "assembler = VectorAssembler(\n",
    "    inputCols=list(used_cols),\n",
    "    outputCol=\"features\"\n",
    ")"
   ]
  },
  {
   "cell_type": "code",
   "execution_count": 12,
   "metadata": {},
   "outputs": [
    {
     "name": "stdout",
     "output_type": "stream",
     "text": [
      "+----+---+---+---+---+----+---+---+---+----+---+--------------------+\n",
      "|   0|  1|  2|  3|  4|   5|  6|  7|  8|   9| 10|            features|\n",
      "+----+---+---+---+---+----+---+---+---+----+---+--------------------+\n",
      "|2804|139|  9|268| 65|3180|234|238|135|6121|  0|[2804.0,139.0,9.0...|\n",
      "|2785|155| 18|242|118|3090|238|238|122|6211|  0|[2785.0,155.0,18....|\n",
      "|2579|132|  6|300|-15|  67|230|237|140|6031|  0|[2579.0,132.0,6.0...|\n",
      "|2886|151| 11|371| 26|5253|234|240|136|4051|  0|[2886.0,151.0,11....|\n",
      "|2742|134| 22|150| 69|3215|248|224| 92|6091|  0|[2742.0,134.0,22....|\n",
      "|2880|209| 17|216| 30|4986|206|253|179|4323|  0|[2880.0,209.0,17....|\n",
      "|2962|148| 16|323| 23|5916|240|236|120|3395|  0|[2962.0,148.0,16....|\n",
      "|2811|135|  1|212| 30|3670|220|238|154|5643|  0|[2811.0,135.0,1.0...|\n",
      "|2900| 45| 19|242| 20|5199|221|195|100|4115|  0|[2900.0,45.0,19.0...|\n",
      "|2570|346|  2|  0|  0| 331|215|235|158|5745|  0|[2570.0,346.0,2.0...|\n",
      "|2678|128|  5| 95| 23|1660|229|236|141|6546|  0|[2678.0,128.0,5.0...|\n",
      "|2952|107| 11| 42|  7|5845|239|226|116|3509|  0|[2952.0,107.0,11....|\n",
      "|2705| 90|  8|134| 22|2023|232|228|129|6615|  0|[2705.0,90.0,8.0,...|\n",
      "|2740| 54|  6|218| 42|2287|224|227|138|6686|  0|[2740.0,54.0,6.0,...|\n",
      "|2640| 80|  8|180| -2|1092|231|225|127|5866|  0|[2640.0,80.0,8.0,...|\n",
      "|2843|166| 12|242| 53|4434|230|244|144|4956|  0|[2843.0,166.0,12....|\n",
      "|3008| 45| 14|277| 10|6371|223|208|116|3036|  0|[3008.0,45.0,14.0...|\n",
      "|2893|114| 16|108| 30|5066|245|223|102|4340|  0|[2893.0,114.0,16....|\n",
      "|2850|  6|  9|  0|  0|4858|210|223|151|4548|  0|[2850.0,6.0,9.0,0...|\n",
      "|2628| 30| 10|240| 19| 960|217|218|136|5645|  0|[2628.0,30.0,10.0...|\n",
      "+----+---+---+---+---+----+---+---+---+----+---+--------------------+\n",
      "only showing top 20 rows\n",
      "\n"
     ]
    }
   ],
   "source": [
    "df = assembler.transform(rawData)\n",
    "df.show()"
   ]
  },
  {
   "cell_type": "code",
   "execution_count": 13,
   "metadata": {},
   "outputs": [],
   "source": [
    "# use a StandardScaler to scale the features (as also done in https://gist.github.com/mkaranasou/7aa1f3a28258330679dcab4277c42419)\n",
    "scaler = StandardScaler(inputCol='features', outputCol='scaledFeatures')"
   ]
  },
  {
   "cell_type": "code",
   "execution_count": 14,
   "metadata": {},
   "outputs": [],
   "source": [
    "#iforest = IForest(contamination=0.1, maxDepth=2)\n",
    "contamination = 0.1\n",
    "contaminationError = 0.01 * contamination\n",
    "iforest = IForest(numTrees=100, maxSamples=256, maxDepth=8)\n",
    "#.setNumEstimators(100).setBootstrap(false).setMaxSamples(256).setMaxFeatures(1.0).setFeaturesCol(\"features\").setPredictionCol(\"predictedLabel\").setScoreCol(\"outlierScore\").setContamination(contamination)"
   ]
  },
  {
   "cell_type": "code",
   "execution_count": 15,
   "metadata": {},
   "outputs": [
    {
     "data": {
      "text/plain": [
       "IForest_b843a70af27a"
      ]
     },
     "execution_count": 15,
     "metadata": {},
     "output_type": "execute_result"
    }
   ],
   "source": [
    "iforest.setSeed(42)  # for reproducibility"
   ]
  },
  {
   "cell_type": "code",
   "execution_count": 16,
   "metadata": {},
   "outputs": [],
   "source": [
    "scaler_model = scaler.fit(df)"
   ]
  },
  {
   "cell_type": "code",
   "execution_count": 17,
   "metadata": {},
   "outputs": [],
   "source": [
    "df = scaler_model.transform(df)"
   ]
  },
  {
   "cell_type": "code",
   "execution_count": 18,
   "metadata": {},
   "outputs": [],
   "source": [
    "df = df.withColumn('features', F.col('scaledFeatures')).drop('scaledFeatures')"
   ]
  },
  {
   "cell_type": "code",
   "execution_count": 19,
   "metadata": {},
   "outputs": [],
   "source": [
    "model = iforest.fit(df)"
   ]
  },
  {
   "cell_type": "code",
   "execution_count": 20,
   "metadata": {},
   "outputs": [
    {
     "name": "stdout",
     "output_type": "stream",
     "text": [
      "True\n"
     ]
    }
   ],
   "source": [
    "# Check if the model has summary or not, the newly trained model has the summary info\n",
    "print(model.hasSummary)"
   ]
  },
  {
   "cell_type": "code",
   "execution_count": 21,
   "metadata": {},
   "outputs": [
    {
     "name": "stdout",
     "output_type": "stream",
     "text": [
      "28604\n"
     ]
    }
   ],
   "source": [
    "# Show the number of anomalies\n",
    "summary = model.summary\n",
    "print(summary.numAnomalies)"
   ]
  },
  {
   "cell_type": "code",
   "execution_count": 22,
   "metadata": {},
   "outputs": [
    {
     "data": {
      "text/plain": [
       "9.999720326658464"
      ]
     },
     "execution_count": 22,
     "metadata": {},
     "output_type": "execute_result"
    }
   ],
   "source": [
    "summary.numAnomalies*100/dataset_size"
   ]
  },
  {
   "cell_type": "code",
   "execution_count": 23,
   "metadata": {},
   "outputs": [],
   "source": [
    "# Predict for a new data frame based on the fitted model\n",
    "transformed = model.transform(df)\n",
    "#transformed.show()"
   ]
  },
  {
   "cell_type": "code",
   "execution_count": 24,
   "metadata": {},
   "outputs": [],
   "source": [
    "# Save the iforest estimator into the path\n",
    "iforest.save(iforest_path)"
   ]
  },
  {
   "cell_type": "code",
   "execution_count": 25,
   "metadata": {},
   "outputs": [],
   "source": [
    "# Load iforest estimator from a path\n",
    "loaded_iforest = IForest.load(iforest_path)"
   ]
  },
  {
   "cell_type": "code",
   "execution_count": 26,
   "metadata": {},
   "outputs": [],
   "source": [
    "# Save the fitted model into the model path\n",
    "model.save(model_path)"
   ]
  },
  {
   "cell_type": "code",
   "execution_count": 27,
   "metadata": {},
   "outputs": [],
   "source": [
    "# Load a fitted model from a model path\n",
    "loaded_model = IForestModel.load(model_path)"
   ]
  },
  {
   "cell_type": "code",
   "execution_count": 28,
   "metadata": {},
   "outputs": [
    {
     "name": "stdout",
     "output_type": "stream",
     "text": [
      "False\n"
     ]
    }
   ],
   "source": [
    "# The loaded model has no summary info\n",
    "print(loaded_model.hasSummary)"
   ]
  },
  {
   "cell_type": "code",
   "execution_count": 29,
   "metadata": {},
   "outputs": [
    {
     "name": "stdout",
     "output_type": "stream",
     "text": [
      "+----+---+---+---+---+----+---+---+---+----+---+--------------------+-------------------+----------+\n",
      "|   0|  1|  2|  3|  4|   5|  6|  7|  8|   9| 10|            features|       anomalyScore|prediction|\n",
      "+----+---+---+---+---+----+---+---+---+----+---+--------------------+-------------------+----------+\n",
      "|2804|139|  9|268| 65|3180|234|238|135|6121|  0|[14.1625228148368...| 0.4612702105186938|       0.0|\n",
      "|2785|155| 18|242|118|3090|238|238|122|6211|  0|[14.0665570753639...| 0.4994219279590085|       0.0|\n",
      "|2579|132|  6|300|-15|  67|230|237|140|6031|  0|[13.0260864263424...|  0.525708556193318|       1.0|\n",
      "|2886|151| 11|371| 26|5253|234|240|136|4051|  0|[14.5766907430881...|0.44653748057589965|       0.0|\n",
      "|2742|134| 22|150| 69|3215|248|224| 92|6091|  0|[13.8493714544517...| 0.5082939089654905|       0.0|\n",
      "|2880|209| 17|216| 30|4986|206|253|179|4323|  0|[14.5463857727282...|0.46563153491524106|       0.0|\n",
      "|2962|148| 16|323| 23|5916|240|236|120|3395|  0|[14.9605537009795...|0.45170447872848263|       0.0|\n",
      "|2811|135|  1|212| 30|3670|220|238|154|5643|  0|[14.1978786135899...|0.47235818601668467|       0.0|\n",
      "|2900| 45| 19|242| 20|5199|221|195|100|4115|  0|[14.6474023405944...|0.47251143699795695|       0.0|\n",
      "|2570|346|  2|  0|  0| 331|215|235|158|5745|  0|[12.9806289708026...| 0.5682565304481172|       1.0|\n",
      "|2678|128|  5| 95| 23|1660|229|236|141|6546|  0|[13.5261184372799...| 0.4938148105988172|       0.0|\n",
      "|2952|107| 11| 42|  7|5845|239|226|116|3509|  0|[14.9100454170464...| 0.4639646419303888|       0.0|\n",
      "|2705| 90|  8|134| 22|2023|232|228|129|6615|  0|[13.6624908038992...| 0.4652926171409543|       0.0|\n",
      "|2740| 54|  6|218| 42|2287|224|227|138|6686|  0|[13.8392697976650...|0.46696098479087583|       0.0|\n",
      "|2640| 80|  8|180| -2|1092|231|225|127|5866|  0|[13.3341869583342...|0.46124934471236384|       0.0|\n",
      "|2843|166| 12|242| 53|4434|230|244|144|4956|  0|[14.3595051221758...| 0.4651616288826226|       0.0|\n",
      "|3008| 45| 14|277| 10|6371|223|208|116|3036|  0|[15.1928918070717...|0.45400193776450476|       0.0|\n",
      "|2893|114| 16|108| 30|5066|245|223|102|4340|  0|[14.6120465418412...|0.45603029489088787|       0.0|\n",
      "|2850|  6|  9|  0|  0|4858|210|223|151|4548|  0|[14.3948609209290...|0.46176215431635953|       0.0|\n",
      "|2628| 30| 10|240| 19| 960|217|218|136|5645|  0|[13.2735770176145...|0.46477419618677734|       0.0|\n",
      "+----+---+---+---+---+----+---+---+---+----+---+--------------------+-------------------+----------+\n",
      "only showing top 20 rows\n",
      "\n"
     ]
    }
   ],
   "source": [
    "# Use the loaded model to predict a new data frame\n",
    "loaded_model.transform(df).show()"
   ]
  },
  {
   "cell_type": "code",
   "execution_count": null,
   "metadata": {},
   "outputs": [],
   "source": []
  },
  {
   "cell_type": "code",
   "execution_count": null,
   "metadata": {},
   "outputs": [],
   "source": []
  }
 ],
 "metadata": {
  "kernelspec": {
   "display_name": "Python 3",
   "language": "python",
   "name": "python3"
  },
  "language_info": {
   "codemirror_mode": {
    "name": "ipython",
    "version": 3
   },
   "file_extension": ".py",
   "mimetype": "text/x-python",
   "name": "python",
   "nbconvert_exporter": "python",
   "pygments_lexer": "ipython3",
   "version": "3.7.6"
  }
 },
 "nbformat": 4,
 "nbformat_minor": 4
}
