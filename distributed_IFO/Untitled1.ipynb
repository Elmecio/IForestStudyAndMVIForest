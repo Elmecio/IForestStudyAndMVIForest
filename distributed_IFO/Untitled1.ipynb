{
 "cells": [
  {
   "cell_type": "code",
   "execution_count": 31,
   "metadata": {},
   "outputs": [
    {
     "ename": "<console>",
     "evalue": "26: error: not found: value %",
     "output_type": "error",
     "traceback": [
      "<console>:26: error: not found: value %",
      "       %AddJar \"https://github.com/Elmecio/OD_Jupyter/blob/master/distributed_IFO/isolation-forest_2.3.0_2.11-1.0.2.jar\" -f",
      "       ^",
      "<console>:26: error: value - is not a member of String",
      "       %AddJar \"https://github.com/Elmecio/OD_Jupyter/blob/master/distributed_IFO/isolation-forest_2.3.0_2.11-1.0.2.jar\" -f",
      "                                                                                                                         ^",
      "<console>:26: error: not found: value f",
      "       %AddJar \"https://github.com/Elmecio/OD_Jupyter/blob/master/distributed_IFO/isolation-forest_2.3.0_2.11-1.0.2.jar\" -f",
      "                                                                                                                          ^",
      ""
     ]
    }
   ],
   "source": [
    "%AddJar https://github.com/Elmecio/OD_Jupyter/blob/master/distributed_IFO/isolation-forest_2.3.0_2.11-1.0.2.jar -f"
   ]
  },
  {
   "cell_type": "code",
   "execution_count": 7,
   "metadata": {},
   "outputs": [
    {
     "ename": "<console>",
     "evalue": "26: error: not found: value interp",
     "output_type": "error",
     "traceback": [
      "<console>:26: error: not found: value interp",
      "       interp.load.cp(os.pwd/\"isolation_forest_linkedin.jar\")",
      "       ^",
      "<console>:26: error: not found: value os",
      "       interp.load.cp(os.pwd/\"isolation_forest_linkedin.jar\")",
      "                      ^",
      ""
     ]
    }
   ],
   "source": [
    "interp.load.cp(os.pwd/\"isolation_forest_linkedin.jar\")"
   ]
  },
  {
   "cell_type": "code",
   "execution_count": 20,
   "metadata": {},
   "outputs": [],
   "source": [
    "%%init_spark\n",
    "launcher.jars = [\"/Users/maurrastogbe/Documents/GitHub/OD_Jupyter/distributed_IFO/isolation_forest_linkedin.jar\"]\n",
    "launcher.packages = [\"com.linkedin.relevance.isolationforest._\"]"
   ]
  },
  {
   "cell_type": "code",
   "execution_count": 19,
   "metadata": {},
   "outputs": [
    {
     "ename": "<console>",
     "evalue": "26: error: not found: value classpath",
     "output_type": "error",
     "traceback": [
      "<console>:26: error: not found: value classpath",
      "       classpath.addPath(\"/Users/maurrastogbe/Documents/GitHub/OD_Jupyter/distributed_IFO/isolation_forest_linkedin.jar\")",
      "       ^",
      ""
     ]
    }
   ],
   "source": [
    "classpath.addPath(\"/Users/maurrastogbe/Documents/GitHub/OD_Jupyter/distributed_IFO/isolation_forest_linkedin.jar\")"
   ]
  },
  {
   "cell_type": "code",
   "execution_count": 22,
   "metadata": {},
   "outputs": [
    {
     "ename": "<console>",
     "evalue": "26: error: not found: value classpath",
     "output_type": "error",
     "traceback": [
      "<console>:26: error: not found: value classpath",
      "       classpath.add(\"isolation_forest_linkedin.jar\")",
      "       ^",
      ""
     ]
    }
   ],
   "source": [
    "classpath.add(\"isolation_forest_linkedin.jar\")"
   ]
  },
  {
   "cell_type": "code",
   "execution_count": 29,
   "metadata": {},
   "outputs": [
    {
     "ename": "<console>",
     "evalue": "24: error: not found: value pyspark",
     "output_type": "error",
     "traceback": [
      "<console>:24: error: not found: value pyspark",
      "       import pyspark.sql.SparkSession",
      "              ^",
      "<console>:25: error: not found: value SparkSession",
      "       val spark = new SparkSession.builder.appName(\"My App\").config(\"spark.jars\", \"isolation_forest_linkedin.jar\").getOrCreate()",
      "                       ^",
      ""
     ]
    }
   ],
   "source": [
    "import pyspark.sql.SparkSession\n",
    "val spark = new SparkSession.builder.appName(\"My App\").config(\"spark.jars\", \"isolation_forest_linkedin.jar\").getOrCreate()"
   ]
  },
  {
   "cell_type": "code",
   "execution_count": 21,
   "metadata": {},
   "outputs": [
    {
     "ename": "<console>",
     "evalue": "24: error: object linkedin is not a member of package com",
     "output_type": "error",
     "traceback": [
      "<console>:24: error: object linkedin is not a member of package com",
      "       import com.linkedin.relevance.isolationforest._",
      "                  ^",
      ""
     ]
    }
   ],
   "source": [
    "import com.linkedin.relevance.isolationforest._\n",
    "import org.apache.spark.ml.feature.VectorAssembler"
   ]
  },
  {
   "cell_type": "code",
   "execution_count": 10,
   "metadata": {},
   "outputs": [
    {
     "data": {
      "text/plain": [
       "rawData: org.apache.spark.sql.DataFrame = [_c0: int, _c1: int ... 8 more fields]\n",
       "cols: Array[String] = Array(_c0, _c1, _c2, _c3, _c4, _c5, _c6, _c7, _c8, _c9)\n",
       "labelCol: String = _c9\n"
      ]
     },
     "execution_count": 10,
     "metadata": {},
     "output_type": "execute_result"
    }
   ],
   "source": [
    "/**\n",
    "  * Load and prepare data\n",
    "  */\n",
    "\n",
    "// Dataset from http://odds.cs.stonybrook.edu/shuttle-dataset/\n",
    "val rawData = spark.read\n",
    "  .format(\"csv\")\n",
    "  .option(\"comment\", \"#\")\n",
    "  .option(\"header\", \"false\")\n",
    "  .option(\"inferSchema\", \"true\")\n",
    "  .load(\"shuttle.csv\")\n",
    "\n",
    "val cols = rawData.columns\n",
    "val labelCol = cols.last"
   ]
  },
  {
   "cell_type": "code",
   "execution_count": 11,
   "metadata": {},
   "outputs": [
    {
     "data": {
      "text/plain": [
       "assembler: org.apache.spark.ml.feature.VectorAssembler = vecAssembler_80614544adbf\n",
       "data: org.apache.spark.sql.DataFrame = [features: vector, label: int]\n"
      ]
     },
     "execution_count": 11,
     "metadata": {},
     "output_type": "execute_result"
    }
   ],
   "source": [
    "val assembler = new VectorAssembler()\n",
    "  .setInputCols(cols.slice(0, cols.length - 1))\n",
    "  .setOutputCol(\"features\")\n",
    "val data = assembler\n",
    "  .transform(rawData)\n",
    "  .select(col(\"features\"), col(labelCol).as(\"label\"))"
   ]
  },
  {
   "cell_type": "code",
   "execution_count": 12,
   "metadata": {},
   "outputs": [
    {
     "ename": "<console>",
     "evalue": "35: error: not found: type IsolationForest",
     "output_type": "error",
     "traceback": [
      "<console>:35: error: not found: type IsolationForest",
      "       val isolationForest = new IsolationForest()",
      "                                 ^",
      ""
     ]
    }
   ],
   "source": [
    "/**\n",
    "  * Train the model\n",
    "  */\n",
    "\n",
    "val contamination = 0.1\n",
    "val isolationForest = new IsolationForest()\n",
    "  .setNumEstimators(100)\n",
    "  .setBootstrap(false)\n",
    "  .setMaxSamples(256)\n",
    "  .setMaxFeatures(1.0)\n",
    "  .setFeaturesCol(\"features\")\n",
    "  .setPredictionCol(\"predictedLabel\")\n",
    "  .setScoreCol(\"outlierScore\")\n",
    "  .setContamination(contamination)\n",
    "  .setContaminationError(0.01 * contamination)\n",
    "  .setRandomSeed(1)\n",
    "\n",
    "val isolationForestModel = isolationForest.fit(data)"
   ]
  },
  {
   "cell_type": "code",
   "execution_count": 14,
   "metadata": {},
   "outputs": [
    {
     "ename": "<console>",
     "evalue": "34: error: not found: value isolationForestModel",
     "output_type": "error",
     "traceback": [
      "<console>:34: error: not found: value isolationForestModel",
      "       val dataWithScores = isolationForestModel.transform(data)",
      "                            ^",
      ""
     ]
    }
   ],
   "source": [
    "/**\n",
    "  * Score the training data\n",
    "  */\n",
    "\n",
    "val dataWithScores = isolationForestModel.transform(data)"
   ]
  },
  {
   "cell_type": "code",
   "execution_count": null,
   "metadata": {},
   "outputs": [],
   "source": []
  }
 ],
 "metadata": {
  "kernelspec": {
   "display_name": "spylon-kernel",
   "language": "scala",
   "name": "spylon-kernel"
  },
  "language_info": {
   "codemirror_mode": "text/x-scala",
   "file_extension": ".scala",
   "help_links": [
    {
     "text": "MetaKernel Magics",
     "url": "https://metakernel.readthedocs.io/en/latest/source/README.html"
    }
   ],
   "mimetype": "text/x-scala",
   "name": "scala",
   "pygments_lexer": "scala",
   "version": "0.4.1"
  }
 },
 "nbformat": 4,
 "nbformat_minor": 2
}
