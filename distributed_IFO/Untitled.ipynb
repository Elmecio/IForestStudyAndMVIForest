{
 "cells": [
  {
   "cell_type": "code",
   "execution_count": 1,
   "metadata": {},
   "outputs": [
    {
     "data": {
      "text/plain": [
       "Intitializing Scala interpreter ..."
      ]
     },
     "metadata": {},
     "output_type": "display_data"
    },
    {
     "data": {
      "text/plain": [
       "Spark Web UI available at http://192.168.0.10:4042\n",
       "SparkContext available as 'sc' (version = 2.4.0, master = local[*], app id = local-1614256350671)\n",
       "SparkSession available as 'spark'\n"
      ]
     },
     "metadata": {},
     "output_type": "display_data"
    },
    {
     "ename": "<console>",
     "evalue": "24: error: object linkedin is not a member of package com",
     "output_type": "error",
     "traceback": [
      "<console>:24: error: object linkedin is not a member of package com",
      "       import com.linkedin.relevance.isolationforest._",
      "                  ^",
      ""
     ]
    },
    {
     "name": "stdout",
     "output_type": "stream",
     "text": [
      "2021-02-26 14:20:48 WARN  HeartbeatReceiver:66 - Removing executor driver with no recent heartbeats: 3065699 ms exceeds timeout 120000 ms\n",
      "2021-02-26 14:20:48 ERROR TaskSchedulerImpl:70 - Lost an executor driver (already removed): Executor heartbeat timed out after 3065699 ms\n",
      "2021-02-26 14:20:48 WARN  SparkContext:66 - Killing executors is not supported by current scheduler.\n"
     ]
    }
   ],
   "source": [
    "import com.linkedin.relevance.isolationforest._"
   ]
  },
  {
   "cell_type": "code",
   "execution_count": null,
   "metadata": {},
   "outputs": [],
   "source": []
  }
 ],
 "metadata": {
  "kernelspec": {
   "display_name": "spylon-kernel",
   "language": "scala",
   "name": "spylon-kernel"
  },
  "language_info": {
   "codemirror_mode": "text/x-scala",
   "file_extension": ".scala",
   "help_links": [
    {
     "text": "MetaKernel Magics",
     "url": "https://metakernel.readthedocs.io/en/latest/source/README.html"
    }
   ],
   "mimetype": "text/x-scala",
   "name": "scala",
   "pygments_lexer": "scala",
   "version": "0.4.1"
  }
 },
 "nbformat": 4,
 "nbformat_minor": 2
}
