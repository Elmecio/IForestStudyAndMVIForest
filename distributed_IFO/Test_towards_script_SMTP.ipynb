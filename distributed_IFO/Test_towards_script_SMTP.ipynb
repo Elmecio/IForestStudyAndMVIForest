{
 "cells": [
  {
   "cell_type": "code",
   "execution_count": 1,
   "metadata": {},
   "outputs": [],
   "source": [
    "from pyspark import SparkConf\n",
    "from pyspark.sql import SparkSession, functions as F\n",
    "from pyspark.ml.feature import VectorAssembler, StandardScaler\n",
    "import tempfile\n",
    "import pandas as pd"
   ]
  },
  {
   "cell_type": "code",
   "execution_count": 2,
   "metadata": {},
   "outputs": [
    {
     "data": {
      "text/plain": [
       "<pyspark.conf.SparkConf at 0x7fa3190110d0>"
      ]
     },
     "execution_count": 2,
     "metadata": {},
     "output_type": "execute_result"
    }
   ],
   "source": [
    "conf = SparkConf()\n",
    "conf.set('spark.jars', 'spark-iforest-2.4.0.jar')"
   ]
  },
  {
   "cell_type": "code",
   "execution_count": 3,
   "metadata": {},
   "outputs": [],
   "source": [
    "spark = SparkSession \\\n",
    "        .builder \\\n",
    "        .config(conf=conf) \\\n",
    "        .appName(\"IForestExampleSMTP\") \\\n",
    "        .getOrCreate()"
   ]
  },
  {
   "cell_type": "code",
   "execution_count": 4,
   "metadata": {},
   "outputs": [],
   "source": [
    "from pyspark_iforest.ml.iforest import IForest, IForestModel"
   ]
  },
  {
   "cell_type": "code",
   "execution_count": 5,
   "metadata": {},
   "outputs": [],
   "source": [
    "temp_path = tempfile.mkdtemp()\n",
    "iforest_path = temp_path + \"/iforest\"\n",
    "model_path = temp_path + \"/iforest_model\""
   ]
  },
  {
   "cell_type": "code",
   "execution_count": 6,
   "metadata": {},
   "outputs": [],
   "source": [
    "dataset_size = 95156\n",
    "rawData = spark.read.format(\"csv\").option(\"comment\", \"#\").option(\"header\", \"true\").option(\"inferSchema\", \"true\").load(\"SMTP.csv\")"
   ]
  },
  {
   "cell_type": "code",
   "execution_count": 7,
   "metadata": {},
   "outputs": [
    {
     "data": {
      "text/plain": [
       "DataFrame[0: int, 1: int, 2: int, 3: int, 4: int, 5: int, 6: int, 7: int, 8: int, 9: int]"
      ]
     },
     "execution_count": 7,
     "metadata": {},
     "output_type": "execute_result"
    }
   ],
   "source": [
    "rawData"
   ]
  },
  {
   "cell_type": "code",
   "execution_count": 8,
   "metadata": {},
   "outputs": [
    {
     "data": {
      "text/plain": [
       "['0', '1', '2', '3', '4', '5', '6', '7', '8', '9']"
      ]
     },
     "execution_count": 8,
     "metadata": {},
     "output_type": "execute_result"
    }
   ],
   "source": [
    "cols = rawData.columns\n",
    "labelCol = cols[len(cols)-1]\n",
    "cols"
   ]
  },
  {
   "cell_type": "code",
   "execution_count": 9,
   "metadata": {},
   "outputs": [
    {
     "data": {
      "text/plain": [
       "'9'"
      ]
     },
     "execution_count": 9,
     "metadata": {},
     "output_type": "execute_result"
    }
   ],
   "source": [
    "labelCol"
   ]
  },
  {
   "cell_type": "code",
   "execution_count": 10,
   "metadata": {},
   "outputs": [
    {
     "data": {
      "text/plain": [
       "['0', '1', '2', '3', '4', '5', '6', '7', '8']"
      ]
     },
     "execution_count": 10,
     "metadata": {},
     "output_type": "execute_result"
    }
   ],
   "source": [
    "used_cols = []\n",
    "i = 0\n",
    "for col in cols:\n",
    "    if i < len(cols)-1:\n",
    "        used_cols.append(col)\n",
    "        i = i+1\n",
    "used_cols"
   ]
  },
  {
   "cell_type": "code",
   "execution_count": 11,
   "metadata": {},
   "outputs": [],
   "source": [
    "assembler = VectorAssembler(\n",
    "    inputCols=list(used_cols),\n",
    "    outputCol=\"features\"\n",
    ")"
   ]
  },
  {
   "cell_type": "code",
   "execution_count": 12,
   "metadata": {},
   "outputs": [
    {
     "name": "stdout",
     "output_type": "stream",
     "text": [
      "+---+---+---+---+---+---+---+---+---+---+--------------------+\n",
      "|  0|  1|  2|  3|  4|  5|  6|  7|  8|  9|            features|\n",
      "+---+---+---+---+---+---+---+---+---+---+--------------------+\n",
      "| 38|  1| 96|  0| 38| 13| 58| 57|  0|  0|[38.0,1.0,96.0,0....|\n",
      "| 37|  0| 77|  0| 24| 25| 40| 54| 14|  0|[37.0,0.0,77.0,0....|\n",
      "| 45|  0| 83|  0| 44|-17| 38| 39|  2|  0|[45.0,0.0,83.0,0....|\n",
      "| 56| -1| 84|  0| 54|-30| 28| 30|  2|  0|[56.0,-1.0,84.0,0...|\n",
      "| 55|  5| 77|  0| 54|  0| 23| 23|  0|  0|[55.0,5.0,77.0,0....|\n",
      "| 37|  0| 79|  0|  8|  9| 43| 72| 28|  0|[37.0,0.0,79.0,0....|\n",
      "| 81|  4| 84|  0|-20|  0|  4|105|102|  1|[81.0,4.0,84.0,0....|\n",
      "| 41|  5| 93|  0| 38|-14| 52| 55|  2|  0|[41.0,5.0,93.0,0....|\n",
      "| 38| -2| 80|  0| 38|  0| 42| 41|  0|  0|[38.0,-2.0,80.0,0...|\n",
      "| 37| -1| 80| -1| 36|  0| 43| 44|  0|  0|[37.0,-1.0,80.0,-...|\n",
      "| 50|  0| 86|  6| 50|  0| 36| 37|  0|  0|[50.0,0.0,86.0,6....|\n",
      "| 37|  0| 77|  2| 36|  4| 40| 41|  0|  0|[37.0,0.0,77.0,2....|\n",
      "| 45|  0| 82|  0| 44|  0| 37| 38|  0|  0|[45.0,0.0,82.0,0....|\n",
      "| 44|  0| 79|  8| 44|  4| 36| 35|  0|  0|[44.0,0.0,79.0,8....|\n",
      "| 37|  0|104| -1| 28|  6| 67| 75|  8|  0|[37.0,0.0,104.0,-...|\n",
      "| 39| -3|108|  0| 38|  0| 68| 69|  0|  0|[39.0,-3.0,108.0,...|\n",
      "| 38| -4| 82|  0| 38|  0| 44| 43|  0|  0|[38.0,-4.0,82.0,0...|\n",
      "| 56| -2| 86| -6| 56|  0| 30| 30|  0|  0|[56.0,-2.0,86.0,-...|\n",
      "| 77|  0| 81|  2|-42|  0|  4|125|120|  1|[77.0,0.0,81.0,2....|\n",
      "| 45|  0| 78| -2| 44|-10| 33| 34|  2|  0|[45.0,0.0,78.0,-2...|\n",
      "+---+---+---+---+---+---+---+---+---+---+--------------------+\n",
      "only showing top 20 rows\n",
      "\n"
     ]
    }
   ],
   "source": [
    "df = assembler.transform(rawData)\n",
    "df.show()"
   ]
  },
  {
   "cell_type": "code",
   "execution_count": 13,
   "metadata": {},
   "outputs": [],
   "source": [
    "# use a StandardScaler to scale the features (as also done in https://gist.github.com/mkaranasou/7aa1f3a28258330679dcab4277c42419)\n",
    "scaler = StandardScaler(inputCol='features', outputCol='scaledFeatures')"
   ]
  },
  {
   "cell_type": "code",
   "execution_count": 14,
   "metadata": {},
   "outputs": [],
   "source": [
    "#iforest = IForest(contamination=0.1, maxDepth=2)\n",
    "contamination = 0.1\n",
    "contaminationError = 0.01 * contamination\n",
    "iforest = IForest(numTrees=100, maxSamples=256, maxDepth=8)\n",
    "#.setNumEstimators(100).setBootstrap(false).setMaxSamples(256).setMaxFeatures(1.0).setFeaturesCol(\"features\").setPredictionCol(\"predictedLabel\").setScoreCol(\"outlierScore\").setContamination(contamination)"
   ]
  },
  {
   "cell_type": "code",
   "execution_count": 15,
   "metadata": {},
   "outputs": [
    {
     "data": {
      "text/plain": [
       "IForest_ceb202e5666f"
      ]
     },
     "execution_count": 15,
     "metadata": {},
     "output_type": "execute_result"
    }
   ],
   "source": [
    "iforest.setSeed(42)  # for reproducibility"
   ]
  },
  {
   "cell_type": "code",
   "execution_count": 16,
   "metadata": {},
   "outputs": [],
   "source": [
    "scaler_model = scaler.fit(df)"
   ]
  },
  {
   "cell_type": "code",
   "execution_count": 17,
   "metadata": {},
   "outputs": [],
   "source": [
    "df = scaler_model.transform(df)"
   ]
  },
  {
   "cell_type": "code",
   "execution_count": 18,
   "metadata": {},
   "outputs": [],
   "source": [
    "df = df.withColumn('features', F.col('scaledFeatures')).drop('scaledFeatures')"
   ]
  },
  {
   "cell_type": "code",
   "execution_count": 19,
   "metadata": {},
   "outputs": [],
   "source": [
    "model = iforest.fit(df)"
   ]
  },
  {
   "cell_type": "code",
   "execution_count": 20,
   "metadata": {},
   "outputs": [
    {
     "name": "stdout",
     "output_type": "stream",
     "text": [
      "True\n"
     ]
    }
   ],
   "source": [
    "# Check if the model has summary or not, the newly trained model has the summary info\n",
    "print(model.hasSummary)"
   ]
  },
  {
   "cell_type": "code",
   "execution_count": 21,
   "metadata": {},
   "outputs": [
    {
     "name": "stdout",
     "output_type": "stream",
     "text": [
      "4909\n"
     ]
    }
   ],
   "source": [
    "# Show the number of anomalies\n",
    "summary = model.summary\n",
    "print(summary.numAnomalies)"
   ]
  },
  {
   "cell_type": "code",
   "execution_count": null,
   "metadata": {},
   "outputs": [],
   "source": [
    "summary.numAnomalies*100/dataset_size"
   ]
  },
  {
   "cell_type": "code",
   "execution_count": 22,
   "metadata": {},
   "outputs": [],
   "source": [
    "# Predict for a new data frame based on the fitted model\n",
    "transformed = model.transform(df)\n",
    "#transformed.show()"
   ]
  },
  {
   "cell_type": "code",
   "execution_count": 23,
   "metadata": {},
   "outputs": [],
   "source": [
    "# Save the iforest estimator into the path\n",
    "iforest.save(iforest_path)"
   ]
  },
  {
   "cell_type": "code",
   "execution_count": 24,
   "metadata": {},
   "outputs": [],
   "source": [
    "# Load iforest estimator from a path\n",
    "loaded_iforest = IForest.load(iforest_path)"
   ]
  },
  {
   "cell_type": "code",
   "execution_count": 25,
   "metadata": {},
   "outputs": [],
   "source": [
    "# Save the fitted model into the model path\n",
    "model.save(model_path)"
   ]
  },
  {
   "cell_type": "code",
   "execution_count": 26,
   "metadata": {},
   "outputs": [],
   "source": [
    "# Load a fitted model from a model path\n",
    "loaded_model = IForestModel.load(model_path)"
   ]
  },
  {
   "cell_type": "code",
   "execution_count": 27,
   "metadata": {},
   "outputs": [
    {
     "name": "stdout",
     "output_type": "stream",
     "text": [
      "False\n"
     ]
    }
   ],
   "source": [
    "# The loaded model has no summary info\n",
    "print(loaded_model.hasSummary)"
   ]
  },
  {
   "cell_type": "code",
   "execution_count": 28,
   "metadata": {},
   "outputs": [
    {
     "name": "stdout",
     "output_type": "stream",
     "text": [
      "+---+---+---+---+---+---+---+---+---+---+--------------------+-------------------+----------+\n",
      "|  0|  1|  2|  3|  4|  5|  6|  7|  8|  9|            features|       anomalyScore|prediction|\n",
      "+---+---+---+---+---+---+---+---+---+---+--------------------+-------------------+----------+\n",
      "| 38|  1| 96|  0| 38| 13| 58| 57|  0|  0|[2.95141977229244...| 0.4207576080079343|       0.0|\n",
      "| 37|  0| 77|  0| 24| 25| 40| 54| 14|  0|[2.87375083091633...|0.41866881708949394|       0.0|\n",
      "| 45|  0| 83|  0| 44|-17| 38| 39|  2|  0|[3.49510236192526...| 0.3594062769663785|       0.0|\n",
      "| 56| -1| 84|  0| 54|-30| 28| 30|  2|  0|[4.34946071706255...| 0.4591965517994283|       0.0|\n",
      "| 55|  5| 77|  0| 54|  0| 23| 23|  0|  0|[4.27179177568643...| 0.4588309379213996|       0.0|\n",
      "| 37|  0| 79|  0|  8|  9| 43| 72| 28|  0|[2.87375083091633...|0.43590928773042875|       0.0|\n",
      "| 81|  4| 84|  0|-20|  0|  4|105|102|  1|[6.29118425146548...| 0.6070235793161712|       1.0|\n",
      "| 41|  5| 93|  0| 38|-14| 52| 55|  2|  0|[3.18442659642079...|0.42858129891660496|       0.0|\n",
      "| 38| -2| 80|  0| 38|  0| 42| 41|  0|  0|[2.95141977229244...|0.36460751694928983|       0.0|\n",
      "| 37| -1| 80| -1| 36|  0| 43| 44|  0|  0|[2.87375083091633...| 0.3738775486683017|       0.0|\n",
      "| 50|  0| 86|  6| 50|  0| 36| 37|  0|  0|[3.88344706880585...|  0.408265445681512|       0.0|\n",
      "| 37|  0| 77|  2| 36|  4| 40| 41|  0|  0|[2.87375083091633...|0.38340973756303687|       0.0|\n",
      "| 45|  0| 82|  0| 44|  0| 37| 38|  0|  0|[3.49510236192526...|0.34812294948213124|       0.0|\n",
      "| 44|  0| 79|  8| 44|  4| 36| 35|  0|  0|[3.41743342054915...|0.40849195970540253|       0.0|\n",
      "| 37|  0|104| -1| 28|  6| 67| 75|  8|  0|[2.87375083091633...| 0.4701384933733614|       0.0|\n",
      "| 39| -3|108|  0| 38|  0| 68| 69|  0|  0|[3.02908871366856...| 0.4842291523928496|       0.0|\n",
      "| 38| -4| 82|  0| 38|  0| 44| 43|  0|  0|[2.95141977229244...| 0.3813584268009615|       0.0|\n",
      "| 56| -2| 86| -6| 56|  0| 30| 30|  0|  0|[4.34946071706255...|  0.456468541709915|       0.0|\n",
      "| 77|  0| 81|  2|-42|  0|  4|125|120|  1|[5.98050848596101...| 0.6291002486172425|       1.0|\n",
      "| 45|  0| 78| -2| 44|-10| 33| 34|  2|  0|[3.49510236192526...| 0.3792893469472281|       0.0|\n",
      "+---+---+---+---+---+---+---+---+---+---+--------------------+-------------------+----------+\n",
      "only showing top 20 rows\n",
      "\n"
     ]
    }
   ],
   "source": [
    "# Use the loaded model to predict a new data frame\n",
    "loaded_model.transform(df).show()"
   ]
  },
  {
   "cell_type": "code",
   "execution_count": null,
   "metadata": {},
   "outputs": [],
   "source": []
  },
  {
   "cell_type": "code",
   "execution_count": null,
   "metadata": {},
   "outputs": [],
   "source": []
  }
 ],
 "metadata": {
  "kernelspec": {
   "display_name": "Python 3",
   "language": "python",
   "name": "python3"
  },
  "language_info": {
   "codemirror_mode": {
    "name": "ipython",
    "version": 3
   },
   "file_extension": ".py",
   "mimetype": "text/x-python",
   "name": "python",
   "nbconvert_exporter": "python",
   "pygments_lexer": "ipython3",
   "version": "3.7.6"
  }
 },
 "nbformat": 4,
 "nbformat_minor": 4
}
