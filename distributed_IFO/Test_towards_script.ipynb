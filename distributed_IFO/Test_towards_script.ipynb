{
 "cells": [
  {
   "cell_type": "code",
   "execution_count": 1,
   "metadata": {},
   "outputs": [],
   "source": [
    "from pyspark import SparkConf\n",
    "from pyspark.sql import SparkSession, functions as F\n",
    "from pyspark.ml.feature import VectorAssembler, StandardScaler\n",
    "import tempfile"
   ]
  },
  {
   "cell_type": "code",
   "execution_count": 2,
   "metadata": {},
   "outputs": [
    {
     "data": {
      "text/plain": [
       "<pyspark.conf.SparkConf at 0x7f5b1c28ac90>"
      ]
     },
     "execution_count": 2,
     "metadata": {},
     "output_type": "execute_result"
    }
   ],
   "source": [
    "conf = SparkConf()\n",
    "conf.set('spark.jars', 'spark-iforest-2.4.0.jar')"
   ]
  },
  {
   "cell_type": "code",
   "execution_count": 3,
   "metadata": {},
   "outputs": [],
   "source": [
    "spark = SparkSession \\\n",
    "        .builder \\\n",
    "        .config(conf=conf) \\\n",
    "        .appName(\"IForestExample\") \\\n",
    "        .getOrCreate()"
   ]
  },
  {
   "cell_type": "code",
   "execution_count": 4,
   "metadata": {},
   "outputs": [],
   "source": [
    "from pyspark_iforest.ml.iforest import IForest, IForestModel"
   ]
  },
  {
   "cell_type": "code",
   "execution_count": 5,
   "metadata": {},
   "outputs": [],
   "source": [
    "temp_path = tempfile.mkdtemp()\n",
    "iforest_path = temp_path + \"/iforest\"\n",
    "model_path = temp_path + \"/iforest_model\""
   ]
  },
  {
   "cell_type": "code",
   "execution_count": 6,
   "metadata": {},
   "outputs": [
    {
     "name": "stderr",
     "output_type": "stream",
     "text": [
      "/home/momo/.local/lib/python3.7/site-packages/pyspark/sql/session.py:346: UserWarning: inferring schema from dict is deprecated,please use pyspark.sql.Row instead\n",
      "  warnings.warn(\"inferring schema from dict is deprecated,\"\n"
     ]
    },
    {
     "name": "stdout",
     "output_type": "stream",
     "text": [
      "+--------+--------+--------+--------+--------------------+\n",
      "|feature1|feature2|feature3|feature4|            features|\n",
      "+--------+--------+--------+--------+--------------------+\n",
      "|     1.0|     0.0|     0.3|    0.01|  [1.0,0.0,0.3,0.01]|\n",
      "|    10.0|     3.0|     0.9|     0.1|  [10.0,3.0,0.9,0.1]|\n",
      "|   101.0|    13.0|     0.9|    0.91|[101.0,13.0,0.9,0...|\n",
      "|   111.0|    11.0|     1.2|    1.91|[111.0,11.0,1.2,1...|\n",
      "+--------+--------+--------+--------+--------------------+\n",
      "\n"
     ]
    }
   ],
   "source": [
    "# same data as in https://gist.github.com/mkaranasou/7aa1f3a28258330679dcab4277c42419 \n",
    "# for comparison\n",
    "data = [\n",
    "    {'feature1': 1., 'feature2': 0., 'feature3': 0.3, 'feature4': 0.01},\n",
    "    {'feature1': 10., 'feature2': 3., 'feature3': 0.9, 'feature4': 0.1},\n",
    "    {'feature1': 101., 'feature2': 13., 'feature3': 0.9, 'feature4': 0.91},\n",
    "    {'feature1': 111., 'feature2': 11., 'feature3': 1.2, 'feature4': 1.91},\n",
    "]\n",
    "# use a VectorAssembler to gather the features as Vectors (dense)\n",
    "assembler = VectorAssembler(\n",
    "    inputCols=list(data[0].keys()),\n",
    "    outputCol=\"features\"\n",
    ")\n",
    "\n",
    "df = spark.createDataFrame(data)\n",
    "df = assembler.transform(df)\n",
    "df.show()"
   ]
  },
  {
   "cell_type": "code",
   "execution_count": 7,
   "metadata": {},
   "outputs": [],
   "source": [
    "# use a StandardScaler to scale the features (as also done in https://gist.github.com/mkaranasou/7aa1f3a28258330679dcab4277c42419)\n",
    "scaler = StandardScaler(inputCol='features', outputCol='scaledFeatures')"
   ]
  },
  {
   "cell_type": "code",
   "execution_count": 23,
   "metadata": {},
   "outputs": [],
   "source": [
    "iforest = IForest(contamination=0.3, maxDepth=2)"
   ]
  },
  {
   "cell_type": "code",
   "execution_count": 9,
   "metadata": {},
   "outputs": [
    {
     "data": {
      "text/plain": [
       "IForest_1823c4e322c5"
      ]
     },
     "execution_count": 9,
     "metadata": {},
     "output_type": "execute_result"
    }
   ],
   "source": [
    "iforest.setSeed(42)  # for reproducibility"
   ]
  },
  {
   "cell_type": "code",
   "execution_count": 10,
   "metadata": {},
   "outputs": [],
   "source": [
    "scaler_model = scaler.fit(df)"
   ]
  },
  {
   "cell_type": "code",
   "execution_count": 11,
   "metadata": {},
   "outputs": [],
   "source": [
    "df = scaler_model.transform(df)"
   ]
  },
  {
   "cell_type": "code",
   "execution_count": 12,
   "metadata": {},
   "outputs": [],
   "source": [
    "df = df.withColumn('features', F.col('scaledFeatures')).drop('scaledFeatures')"
   ]
  },
  {
   "cell_type": "code",
   "execution_count": 13,
   "metadata": {},
   "outputs": [],
   "source": [
    "model = iforest.fit(df)"
   ]
  },
  {
   "cell_type": "code",
   "execution_count": 14,
   "metadata": {},
   "outputs": [
    {
     "name": "stdout",
     "output_type": "stream",
     "text": [
      "True\n"
     ]
    }
   ],
   "source": [
    "# Check if the model has summary or not, the newly trained model has the summary info\n",
    "print(model.hasSummary)"
   ]
  },
  {
   "cell_type": "code",
   "execution_count": 15,
   "metadata": {},
   "outputs": [
    {
     "name": "stdout",
     "output_type": "stream",
     "text": [
      "0\n"
     ]
    }
   ],
   "source": [
    "# Show the number of anomalies\n",
    "summary = model.summary\n",
    "print(summary.numAnomalies)"
   ]
  },
  {
   "cell_type": "code",
   "execution_count": 16,
   "metadata": {},
   "outputs": [],
   "source": [
    "# Predict for a new data frame based on the fitted model\n",
    "transformed = model.transform(df)"
   ]
  },
  {
   "cell_type": "code",
   "execution_count": 17,
   "metadata": {},
   "outputs": [],
   "source": [
    "# Save the iforest estimator into the path\n",
    "iforest.save(iforest_path)"
   ]
  },
  {
   "cell_type": "code",
   "execution_count": 18,
   "metadata": {},
   "outputs": [],
   "source": [
    "# Load iforest estimator from a path\n",
    "loaded_iforest = IForest.load(iforest_path)"
   ]
  },
  {
   "cell_type": "code",
   "execution_count": 19,
   "metadata": {},
   "outputs": [],
   "source": [
    "# Save the fitted model into the model path\n",
    "model.save(model_path)"
   ]
  },
  {
   "cell_type": "code",
   "execution_count": 20,
   "metadata": {},
   "outputs": [],
   "source": [
    "# Load a fitted model from a model path\n",
    "loaded_model = IForestModel.load(model_path)"
   ]
  },
  {
   "cell_type": "code",
   "execution_count": 21,
   "metadata": {},
   "outputs": [
    {
     "name": "stdout",
     "output_type": "stream",
     "text": [
      "False\n"
     ]
    }
   ],
   "source": [
    "# The loaded model has no summary info\n",
    "print(loaded_model.hasSummary)"
   ]
  },
  {
   "cell_type": "code",
   "execution_count": 22,
   "metadata": {},
   "outputs": [
    {
     "name": "stdout",
     "output_type": "stream",
     "text": [
      "+--------+--------+--------+--------+--------------------+-------------------+----------+\n",
      "|feature1|feature2|feature3|feature4|            features|       anomalyScore|prediction|\n",
      "+--------+--------+--------+--------+--------------------+-------------------+----------+\n",
      "|     1.0|     0.0|     0.3|    0.01|[0.01715764009115...| 0.4891981509209881|       0.0|\n",
      "|    10.0|     3.0|     0.9|     0.1|[0.17157640091152...|0.40116303198069875|       0.0|\n",
      "|   101.0|    13.0|     0.9|    0.91|[1.73292164920643...|0.41646474695596675|       0.0|\n",
      "|   111.0|    11.0|     1.2|    1.91|[1.90449805011796...| 0.4891981509209881|       0.0|\n",
      "+--------+--------+--------+--------+--------------------+-------------------+----------+\n",
      "\n"
     ]
    }
   ],
   "source": [
    "# Use the loaded model to predict a new data frame\n",
    "loaded_model.transform(df).show()"
   ]
  },
  {
   "cell_type": "code",
   "execution_count": null,
   "metadata": {},
   "outputs": [],
   "source": []
  },
  {
   "cell_type": "code",
   "execution_count": null,
   "metadata": {},
   "outputs": [],
   "source": []
  }
 ],
 "metadata": {
  "kernelspec": {
   "display_name": "Python 3",
   "language": "python",
   "name": "python3"
  },
  "language_info": {
   "codemirror_mode": {
    "name": "ipython",
    "version": 3
   },
   "file_extension": ".py",
   "mimetype": "text/x-python",
   "name": "python",
   "nbconvert_exporter": "python",
   "pygments_lexer": "ipython3",
   "version": "3.7.6"
  }
 },
 "nbformat": 4,
 "nbformat_minor": 4
}
