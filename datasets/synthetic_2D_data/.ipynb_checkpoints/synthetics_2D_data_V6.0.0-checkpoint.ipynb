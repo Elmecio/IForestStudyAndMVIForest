{
 "cells": [
  {
   "cell_type": "markdown",
   "metadata": {},
   "source": [
    "## Description\n",
    "Jeu de données à 2 dimensions constitué de données normales et 1% de données anormales. \n",
    "Les données anormales se retrouvent au centre d'un grand cercle formé par les données normales. \n",
    "Ici, les données anormales sont plus éloignées des données normales mais et se ressemblent beaucoup.\n",
    "\n",
    "Changer les données: 9 cm et 10 cm et 15 anomalies uniformes sur un rayon de 5 cm\n",
    "\n",
    "Données normales :\n",
    "- Données aléatoire uniforme\n",
    "- X1 entre -9 et 9, X2 entre -10 et 10, size = 1500, distance euclidienne entre 5 et 7 (Grand cercle de rayon 10 et petit cercle de rayon 9)\n",
    "\n",
    "Données anormales :\n",
    "- Données aléatoire uniforme\n",
    "- mu = 0, sigma = 0.5, size = 15\n",
    "\n",
    "Jeu de données à 2 dimensions constitué de données normales et 1% de données anormales. Les données anormales se retrouvent au centre d'un grand cercle formé par les données normales. Ici, les données anormales sont plus éloignées des données normales mais et se ressemblent beaucoup. \\n Données normales : Données aléatoire uniforme, X1 entre -5 et 5, X2 entre -7 et 7, size = 1500, distance euclidienne entre 5 et 7 (Grand cercle de rayon 7 et petit cercle de rayon 5) \\n Données anormales : Données aléatoire gaussienne, mu = 0, sigma = 0.5, size = 15."
   ]
  },
  {
   "cell_type": "code",
   "execution_count": 1,
   "metadata": {},
   "outputs": [],
   "source": [
    "import numpy as np\n",
    "import pandas as pd\n",
    "import matplotlib.pyplot as plt\n",
    "from datetime import datetime"
   ]
  },
  {
   "cell_type": "markdown",
   "metadata": {},
   "source": [
    "## Paramètres de jeu de données"
   ]
  },
  {
   "cell_type": "code",
   "execution_count": 7,
   "metadata": {},
   "outputs": [],
   "source": [
    "param_y_normal_data = 1\n",
    "param_y_abnormal_data = 0\n",
    "\n",
    "size = 1500 #number of samples\n",
    "small_cercle = 9 #Rayon\n",
    "big_cercle = 10 #Rayon\n",
    "x_min_values_interval = -15\n",
    "x_max_values_interval = 15\n",
    "y_min_values_interval = -12\n",
    "y_max_values_interval = 12\n",
    "x_n_center = 0\n",
    "y_n_center = 0\n",
    "\n",
    "\n",
    "contamination = 1/100 # 1%\n",
    "size_a = int(size*contamination) #size of samples\n",
    "a_max_cercle = 5 #Rayon\n",
    "a_min_cercle = 4 #Rayon\n",
    "x_a_max_values_interval = 15\n",
    "x_a_min_values_interval = 25\n",
    "y_a_max_values_interval = -12\n",
    "y_a_min_values_interval = 12\n",
    "x_a_center = 20\n",
    "y_a_center = 10\n",
    "\n",
    "file_name = \"synthetic_2D_data_V6.0.0\"+str(datetime.now())\n",
    "#full_file_path = str(datetime.now().date())+\"/\"+file_name+\".csv\"\n",
    "full_file_path = file_name+\".csv\"\n",
    "\n",
    "x_lim = 30\n",
    "y_lim = 20"
   ]
  },
  {
   "cell_type": "markdown",
   "metadata": {},
   "source": [
    "## Normal dataset generation"
   ]
  },
  {
   "cell_type": "code",
   "execution_count": 8,
   "metadata": {},
   "outputs": [
    {
     "data": {
      "image/png": "[encoded data removed]",
      "text/plain": [
       "<Figure size 432x288 with 1 Axes>"
      ]
     },
     "metadata": {
      "needs_background": "light"
     },
     "output_type": "display_data"
    }
   ],
   "source": [
    "#Normal “continuous uniform” distribution dataset https://docs.scipy.org/doc/numpy-1.15.0/reference/generated/numpy.random.random_sample.html\n",
    "mu = 0 #mean\n",
    "sigma = 1 #Standard deviation\n",
    "#n_dataset = np.random.normal(mu, sigma, size)\n",
    "#n_dataset = np.random(mu, sigma, size)\n",
    "y_n_dataset  = []\n",
    "x1_n_dataset = []\n",
    "x2_n_dataset = []\n",
    "i = 0\n",
    "while i<size:\n",
    "    found = False\n",
    "    while not found:\n",
    "        x1 = (x_max_values_interval-x_min_values_interval) * np.random.random_sample() + x_min_values_interval\n",
    "        x2 = (y_max_values_interval-y_min_values_interval) * np.random.random_sample() + y_min_values_interval\n",
    "        distance = np.sqrt((x1 - x_n_center)**2 + (x2 - y_n_center)**2)\n",
    "        if small_cercle < distance < big_cercle:\n",
    "            found = True\n",
    "    x1_n_dataset.append(x1)\n",
    "    x2_n_dataset.append(x2)\n",
    "    y_n_dataset.append(param_y_normal_data)\n",
    "    i = i + 1\n",
    "n_data_array = {'0': x1_n_dataset, '1':x2_n_dataset, 'is_normal': y_n_dataset}\n",
    "n_dataset = pd.DataFrame(n_data_array, columns=['0', '1', 'is_normal'])\n",
    "#n_dataset\n",
    "plt.scatter(n_dataset['0'], n_dataset['1'])\n",
    "plt.xlim(-x_lim,x_lim)\n",
    "plt.ylim(-y_lim,y_lim)\n",
    "plt.xlabel('1 dimension')\n",
    "plt.ylabel('2 dimension')\n",
    "plt.show()"
   ]
  },
  {
   "cell_type": "code",
   "execution_count": 9,
   "metadata": {},
   "outputs": [
    {
     "data": {
      "text/html": [
       "<div>\n",
       "<style scoped>\n",
       "    .dataframe tbody tr th:only-of-type {\n",
       "        vertical-align: middle;\n",
       "    }\n",
       "\n",
       "    .dataframe tbody tr th {\n",
       "        vertical-align: top;\n",
       "    }\n",
       "\n",
       "    .dataframe thead th {\n",
       "        text-align: right;\n",
       "    }\n",
       "</style>\n",
       "<table border=\"1\" class=\"dataframe\">\n",
       "  <thead>\n",
       "    <tr style=\"text-align: right;\">\n",
       "      <th></th>\n",
       "      <th>0</th>\n",
       "      <th>1</th>\n",
       "      <th>is_normal</th>\n",
       "    </tr>\n",
       "  </thead>\n",
       "  <tbody>\n",
       "    <tr>\n",
       "      <td>0</td>\n",
       "      <td>7.484988</td>\n",
       "      <td>-6.113014</td>\n",
       "      <td>1</td>\n",
       "    </tr>\n",
       "    <tr>\n",
       "      <td>1</td>\n",
       "      <td>9.675193</td>\n",
       "      <td>2.346496</td>\n",
       "      <td>1</td>\n",
       "    </tr>\n",
       "    <tr>\n",
       "      <td>2</td>\n",
       "      <td>-3.450024</td>\n",
       "      <td>-9.260878</td>\n",
       "      <td>1</td>\n",
       "    </tr>\n",
       "    <tr>\n",
       "      <td>3</td>\n",
       "      <td>-6.704505</td>\n",
       "      <td>-6.547342</td>\n",
       "      <td>1</td>\n",
       "    </tr>\n",
       "    <tr>\n",
       "      <td>4</td>\n",
       "      <td>9.132371</td>\n",
       "      <td>2.637412</td>\n",
       "      <td>1</td>\n",
       "    </tr>\n",
       "    <tr>\n",
       "      <td>...</td>\n",
       "      <td>...</td>\n",
       "      <td>...</td>\n",
       "      <td>...</td>\n",
       "    </tr>\n",
       "    <tr>\n",
       "      <td>1495</td>\n",
       "      <td>-7.811565</td>\n",
       "      <td>-5.280286</td>\n",
       "      <td>1</td>\n",
       "    </tr>\n",
       "    <tr>\n",
       "      <td>1496</td>\n",
       "      <td>-8.980543</td>\n",
       "      <td>0.705358</td>\n",
       "      <td>1</td>\n",
       "    </tr>\n",
       "    <tr>\n",
       "      <td>1497</td>\n",
       "      <td>-1.342509</td>\n",
       "      <td>-9.203439</td>\n",
       "      <td>1</td>\n",
       "    </tr>\n",
       "    <tr>\n",
       "      <td>1498</td>\n",
       "      <td>8.129950</td>\n",
       "      <td>-4.077939</td>\n",
       "      <td>1</td>\n",
       "    </tr>\n",
       "    <tr>\n",
       "      <td>1499</td>\n",
       "      <td>9.634641</td>\n",
       "      <td>2.416190</td>\n",
       "      <td>1</td>\n",
       "    </tr>\n",
       "  </tbody>\n",
       "</table>\n",
       "<p>1500 rows × 3 columns</p>\n",
       "</div>"
      ],
      "text/plain": [
       "             0         1  is_normal\n",
       "0     7.484988 -6.113014          1\n",
       "1     9.675193  2.346496          1\n",
       "2    -3.450024 -9.260878          1\n",
       "3    -6.704505 -6.547342          1\n",
       "4     9.132371  2.637412          1\n",
       "...        ...       ...        ...\n",
       "1495 -7.811565 -5.280286          1\n",
       "1496 -8.980543  0.705358          1\n",
       "1497 -1.342509 -9.203439          1\n",
       "1498  8.129950 -4.077939          1\n",
       "1499  9.634641  2.416190          1\n",
       "\n",
       "[1500 rows x 3 columns]"
      ]
     },
     "execution_count": 9,
     "metadata": {},
     "output_type": "execute_result"
    }
   ],
   "source": [
    "n_dataset"
   ]
  },
  {
   "cell_type": "markdown",
   "metadata": {},
   "source": [
    "## Abnormal gaussian dataset generation"
   ]
  },
  {
   "cell_type": "code",
   "execution_count": 10,
   "metadata": {},
   "outputs": [
    {
     "data": {
      "image/png": "[encoded data removed]",
      "text/plain": [
       "<Figure size 432x288 with 1 Axes>"
      ]
     },
     "metadata": {
      "needs_background": "light"
     },
     "output_type": "display_data"
    }
   ],
   "source": [
    "#Abnormal gaussian dataset\n",
    "y_a_dataset  = []\n",
    "x1_a_dataset = []\n",
    "x2_a_dataset = []\n",
    "i = 0\n",
    "while i<size_a:\n",
    "    found = False\n",
    "    while not found:\n",
    "        x1 = (x_a_max_values_interval-x_a_min_values_interval) * np.random.random_sample() + x_a_min_values_interval\n",
    "        x2 = (y_a_max_values_interval-y_a_min_values_interval) * np.random.random_sample() + y_a_min_values_interval\n",
    "        distance = np.sqrt((x1-x_a_center)**2 + (x2-y_a_center)**2)\n",
    "        #np.sqrt((x1 - x_n_center)**2 + (x2 - y_n_center)**2)\n",
    "        if distance < a_max_cercle:\n",
    "            found = True\n",
    "    x1_a_dataset.append(x1)\n",
    "    x2_a_dataset.append(x2)\n",
    "    y_a_dataset.append(param_y_abnormal_data)\n",
    "    i = i + 1\n",
    "a_data_array = {'0': x1_a_dataset, '1':x2_a_dataset, 'is_normal': y_a_dataset}\n",
    "a_dataset = pd.DataFrame(a_data_array, columns=['0', '1', 'is_normal'])\n",
    "#a_dataset\n",
    "plt.scatter(a_dataset['0'], a_dataset['1'], c=\"r\")\n",
    "plt.xlim(-x_lim,x_lim)\n",
    "plt.ylim(-y_lim,y_lim)\n",
    "plt.xlabel('1 dimension')\n",
    "plt.ylabel('2 dimension')\n",
    "plt.show()"
   ]
  },
  {
   "cell_type": "code",
   "execution_count": 11,
   "metadata": {},
   "outputs": [
    {
     "data": {
      "image/png": "[encoded data removed]",
      "text/plain": [
       "<Figure size 432x288 with 1 Axes>"
      ]
     },
     "metadata": {
      "needs_background": "light"
     },
     "output_type": "display_data"
    }
   ],
   "source": [
    "plt.scatter(a_dataset['0'], a_dataset['1'], c=\"r\")\n",
    "plt.scatter(n_dataset['0'], n_dataset['1'])\n",
    "plt.xlim(-x_lim,x_lim)\n",
    "plt.ylim(-y_lim,y_lim)\n",
    "plt.xlabel('1 dimension')\n",
    "plt.ylabel('2 dimension')\n",
    "plt.show()"
   ]
  },
  {
   "cell_type": "markdown",
   "metadata": {},
   "source": [
    "## Génération du jeu de données complet"
   ]
  },
  {
   "cell_type": "code",
   "execution_count": 32,
   "metadata": {},
   "outputs": [
    {
     "data": {
      "text/html": [
       "<div>\n",
       "<style scoped>\n",
       "    .dataframe tbody tr th:only-of-type {\n",
       "        vertical-align: middle;\n",
       "    }\n",
       "\n",
       "    .dataframe tbody tr th {\n",
       "        vertical-align: top;\n",
       "    }\n",
       "\n",
       "    .dataframe thead th {\n",
       "        text-align: right;\n",
       "    }\n",
       "</style>\n",
       "<table border=\"1\" class=\"dataframe\">\n",
       "  <thead>\n",
       "    <tr style=\"text-align: right;\">\n",
       "      <th></th>\n",
       "      <th>0</th>\n",
       "      <th>1</th>\n",
       "      <th>is_normal</th>\n",
       "    </tr>\n",
       "  </thead>\n",
       "  <tbody>\n",
       "    <tr>\n",
       "      <td>0</td>\n",
       "      <td>5.003385</td>\n",
       "      <td>-7.806422</td>\n",
       "      <td>1</td>\n",
       "    </tr>\n",
       "    <tr>\n",
       "      <td>1</td>\n",
       "      <td>7.989363</td>\n",
       "      <td>-4.606290</td>\n",
       "      <td>1</td>\n",
       "    </tr>\n",
       "    <tr>\n",
       "      <td>2</td>\n",
       "      <td>4.154053</td>\n",
       "      <td>8.841134</td>\n",
       "      <td>1</td>\n",
       "    </tr>\n",
       "    <tr>\n",
       "      <td>3</td>\n",
       "      <td>-8.330033</td>\n",
       "      <td>3.904457</td>\n",
       "      <td>1</td>\n",
       "    </tr>\n",
       "    <tr>\n",
       "      <td>4</td>\n",
       "      <td>1.895122</td>\n",
       "      <td>-8.997091</td>\n",
       "      <td>1</td>\n",
       "    </tr>\n",
       "    <tr>\n",
       "      <td>...</td>\n",
       "      <td>...</td>\n",
       "      <td>...</td>\n",
       "      <td>...</td>\n",
       "    </tr>\n",
       "    <tr>\n",
       "      <td>1510</td>\n",
       "      <td>16.563738</td>\n",
       "      <td>-2.300339</td>\n",
       "      <td>0</td>\n",
       "    </tr>\n",
       "    <tr>\n",
       "      <td>1511</td>\n",
       "      <td>19.221336</td>\n",
       "      <td>-1.499336</td>\n",
       "      <td>0</td>\n",
       "    </tr>\n",
       "    <tr>\n",
       "      <td>1512</td>\n",
       "      <td>24.232756</td>\n",
       "      <td>-2.258729</td>\n",
       "      <td>0</td>\n",
       "    </tr>\n",
       "    <tr>\n",
       "      <td>1513</td>\n",
       "      <td>19.134284</td>\n",
       "      <td>1.233348</td>\n",
       "      <td>0</td>\n",
       "    </tr>\n",
       "    <tr>\n",
       "      <td>1514</td>\n",
       "      <td>19.962630</td>\n",
       "      <td>-1.988052</td>\n",
       "      <td>0</td>\n",
       "    </tr>\n",
       "  </tbody>\n",
       "</table>\n",
       "<p>1515 rows × 3 columns</p>\n",
       "</div>"
      ],
      "text/plain": [
       "              0         1  is_normal\n",
       "0      5.003385 -7.806422          1\n",
       "1      7.989363 -4.606290          1\n",
       "2      4.154053  8.841134          1\n",
       "3     -8.330033  3.904457          1\n",
       "4      1.895122 -8.997091          1\n",
       "...         ...       ...        ...\n",
       "1510  16.563738 -2.300339          0\n",
       "1511  19.221336 -1.499336          0\n",
       "1512  24.232756 -2.258729          0\n",
       "1513  19.134284  1.233348          0\n",
       "1514  19.962630 -1.988052          0\n",
       "\n",
       "[1515 rows x 3 columns]"
      ]
     },
     "execution_count": 32,
     "metadata": {},
     "output_type": "execute_result"
    }
   ],
   "source": [
    "dataset = pd.concat([n_dataset, a_dataset], ignore_index=True, sort=False)\n",
    "dataset"
   ]
  },
  {
   "cell_type": "code",
   "execution_count": 33,
   "metadata": {},
   "outputs": [
    {
     "data": {
      "text/html": [
       "<div>\n",
       "<style scoped>\n",
       "    .dataframe tbody tr th:only-of-type {\n",
       "        vertical-align: middle;\n",
       "    }\n",
       "\n",
       "    .dataframe tbody tr th {\n",
       "        vertical-align: top;\n",
       "    }\n",
       "\n",
       "    .dataframe thead th {\n",
       "        text-align: right;\n",
       "    }\n",
       "</style>\n",
       "<table border=\"1\" class=\"dataframe\">\n",
       "  <thead>\n",
       "    <tr style=\"text-align: right;\">\n",
       "      <th></th>\n",
       "      <th>0</th>\n",
       "      <th>1</th>\n",
       "      <th>is_normal</th>\n",
       "    </tr>\n",
       "  </thead>\n",
       "  <tbody>\n",
       "    <tr>\n",
       "      <td>count</td>\n",
       "      <td>1515.000000</td>\n",
       "      <td>1515.000000</td>\n",
       "      <td>1515.000000</td>\n",
       "    </tr>\n",
       "    <tr>\n",
       "      <td>mean</td>\n",
       "      <td>0.363143</td>\n",
       "      <td>-0.084684</td>\n",
       "      <td>0.990099</td>\n",
       "    </tr>\n",
       "    <tr>\n",
       "      <td>std</td>\n",
       "      <td>7.020543</td>\n",
       "      <td>6.678075</td>\n",
       "      <td>0.099043</td>\n",
       "    </tr>\n",
       "    <tr>\n",
       "      <td>min</td>\n",
       "      <td>-9.916776</td>\n",
       "      <td>-9.932543</td>\n",
       "      <td>0.000000</td>\n",
       "    </tr>\n",
       "    <tr>\n",
       "      <td>25%</td>\n",
       "      <td>-6.574710</td>\n",
       "      <td>-6.693838</td>\n",
       "      <td>1.000000</td>\n",
       "    </tr>\n",
       "    <tr>\n",
       "      <td>50%</td>\n",
       "      <td>0.689843</td>\n",
       "      <td>-0.311345</td>\n",
       "      <td>1.000000</td>\n",
       "    </tr>\n",
       "    <tr>\n",
       "      <td>75%</td>\n",
       "      <td>7.037250</td>\n",
       "      <td>6.621129</td>\n",
       "      <td>1.000000</td>\n",
       "    </tr>\n",
       "    <tr>\n",
       "      <td>max</td>\n",
       "      <td>24.232756</td>\n",
       "      <td>9.993107</td>\n",
       "      <td>1.000000</td>\n",
       "    </tr>\n",
       "  </tbody>\n",
       "</table>\n",
       "</div>"
      ],
      "text/plain": [
       "                 0            1    is_normal\n",
       "count  1515.000000  1515.000000  1515.000000\n",
       "mean      0.363143    -0.084684     0.990099\n",
       "std       7.020543     6.678075     0.099043\n",
       "min      -9.916776    -9.932543     0.000000\n",
       "25%      -6.574710    -6.693838     1.000000\n",
       "50%       0.689843    -0.311345     1.000000\n",
       "75%       7.037250     6.621129     1.000000\n",
       "max      24.232756     9.993107     1.000000"
      ]
     },
     "execution_count": 33,
     "metadata": {},
     "output_type": "execute_result"
    }
   ],
   "source": [
    "dataset.describe()"
   ]
  },
  {
   "cell_type": "markdown",
   "metadata": {},
   "source": [
    "## Créé le fichier .csv du jeu de données"
   ]
  },
  {
   "cell_type": "code",
   "execution_count": 35,
   "metadata": {},
   "outputs": [],
   "source": [
    "dataset.to_csv(full_file_path, index=None, header=True)"
   ]
  },
  {
   "cell_type": "code",
   "execution_count": null,
   "metadata": {},
   "outputs": [],
   "source": []
  }
 ],
 "metadata": {
  "kernelspec": {
   "display_name": "Python 3",
   "language": "python",
   "name": "python3"
  },
  "language_info": {
   "codemirror_mode": {
    "name": "ipython",
    "version": 3
   },
   "file_extension": ".py",
   "mimetype": "text/x-python",
   "name": "python",
   "nbconvert_exporter": "python",
   "pygments_lexer": "ipython3",
   "version": "3.7.4"
  }
 },
 "nbformat": 4,
 "nbformat_minor": 2
}
