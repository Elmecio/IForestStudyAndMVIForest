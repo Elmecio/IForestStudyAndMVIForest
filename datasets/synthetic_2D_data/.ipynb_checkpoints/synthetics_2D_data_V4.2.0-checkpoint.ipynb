{
 "cells": [
  {
   "cell_type": "code",
   "execution_count": 1,
   "metadata": {},
   "outputs": [],
   "source": [
    "import numpy as np\n",
    "import pandas as pd\n",
    "import matplotlib.pyplot as plt\n",
    "from datetime import datetime"
   ]
  },
  {
   "cell_type": "markdown",
   "metadata": {},
   "source": [
    "## Paramètres de jeu de données"
   ]
  },
  {
   "cell_type": "code",
   "execution_count": 2,
   "metadata": {},
   "outputs": [],
   "source": [
    "param_y_normal_data = 1\n",
    "param_y_abnormal_data = 0\n",
    "#Normal data\n",
    "size = 1500 #number of samples\n",
    "small_cercle = 9 #Rayon\n",
    "big_cercle = 10 #Rayon\n",
    "x_values_interval = 15\n",
    "y_values_interval = 12\n",
    "#Abnormal data\n",
    "contamination = 1/100 # 1%\n",
    "size_a = int(size*contamination) #size of samples\n",
    "a_max_cercle = 5 #Rayon\n",
    "a_min_cercle = 4 #Rayon\n",
    "x_a_values_interval = 12\n",
    "y_a_values_interval = 9\n",
    "\n",
    "x_lim = 17\n",
    "y_lim = 12\n",
    "\n",
    "file_name = \"synthetic_2D_data_V4.2.0\"+str(datetime.now())\n",
    "#full_file_path = str(datetime.now().date())+\"/\"+file_name+\".csv\"\n",
    "full_file_path = file_name+\".csv\""
   ]
  },
  {
   "cell_type": "markdown",
   "metadata": {},
   "source": [
    "## Description\n",
    "Jeu de données à 2 dimensions constitué de données normales et 1% de données anormales. \n",
    "Les données anormales se retrouvent au centre d'un grand cercle formé par les données normales. \n",
    "Ici, les données anormales sont aléatoires et un peu éloignés des données normales.\n",
    "\n",
    "Données normales :\n",
    "- Données aléatoire uniforme\n",
    "- X1 entre -{{x_values_interval}} et {{x_values_interval}}, \n",
    "- X2 entre -{{y_values_interval}} et {{y_values_interval}}, \n",
    "- size = {{size}}, \n",
    "- distance euclidienne entre {{small_cercle}} et {{big_cercle}} (Grand cercle de rayon {{big_cercle}} et petit cercle de rayon {{small_cercle}})\n",
    "\n",
    "Données anormales :\n",
    "- Données aléatoire uniforme\n",
    "- X1 entre -{{x_a_values_interval}} et {{x_a_values_interval}}, \n",
    "- X2 entre -{{y_a_values_interval}} et {{y_a_values_interval}}, \n",
    "- size = {{size_a}}, \n",
    "- distance euclidienne inférieure à {{a_max_cercle}}\n"
   ]
  },
  {
   "cell_type": "code",
   "execution_count": null,
   "metadata": {},
   "outputs": [],
   "source": [
    "print(\"Jeu de données à 2 dimensions constitué de données normales et 1% de données anormales. \")\n",
    "print(\"Les données anormales se retrouvent au centre d'un grand cercle formé par les données normales. \") \n",
    "print(\"Ici, les données anormales sont aléatoires et un peu éloignés des données normales.\")\n",
    "\n",
    "print(\"Données normales :\")\n",
    "print(\"- Données aléatoire uniforme\")\n",
    "print(\"- X1 entre -\"+str(x_values_interval) +\" et \"+str(x_values_interval)+\", \")\n",
    "print(\"- X2 entre -\"+str(y_values_interval) +\" et \"+str(y_values_interval)+\", \")\n",
    "print(\"- size = \"+str(size)+\", \")\n",
    "print(\"- distance euclidienne entre \"+str(small_cercle) +\" et \"+str(big_cercle)+\" (Grand cercle de rayon \"+str(big_cercle)+\" et petit cercle de rayon \"+str(small_cercle)+\")\")\n",
    "\n",
    "print(\"Données anormales :\")\n",
    "print(\"- Données aléatoire uniforme\")\n",
    "print(\"- X1 entre -\"+str(x_a_values_interval) +\" et \"+str(x_a_values_interval)+\", \")\n",
    "print(\"- X2 entre -\"+str(y_a_values_interval) +\" et \"+str(y_a_values_interval)+\", \")\n",
    "print(\"- size = \"+str(size_a)+\", \")\n",
    "print(\"- distance euclidienne inférieure à \"+str(a_max_cercle)+\"\")"
   ]
  },
  {
   "cell_type": "markdown",
   "metadata": {},
   "source": [
    "## Normal dataset generation"
   ]
  },
  {
   "cell_type": "code",
   "execution_count": 3,
   "metadata": {},
   "outputs": [],
   "source": [
    "#Normal “continuous uniform” distribution dataset https://docs.scipy.org/doc/numpy-1.15.0/reference/generated/numpy.random.random_sample.html\n",
    "mu = 0 #mean\n",
    "sigma = 1 #Standard deviation\n",
    "#n_dataset = np.random.normal(mu, sigma, size)\n",
    "#n_dataset = np.random(mu, sigma, size)\n",
    "y_n_dataset  = []\n",
    "x1_n_dataset = []\n",
    "x2_n_dataset = []\n",
    "i = 0\n",
    "while i<size:\n",
    "    found = False\n",
    "    while not found:\n",
    "        x1 = (x_values_interval--x_values_interval) * np.random.random_sample() + -x_values_interval\n",
    "        x2 = (y_values_interval--y_values_interval) * np.random.random_sample() + -y_values_interval\n",
    "        distance = np.sqrt(x1**2 + x2**2)\n",
    "        if small_cercle < distance < big_cercle:\n",
    "            found = True\n",
    "    x1_n_dataset.append(x1)\n",
    "    x2_n_dataset.append(x2)\n",
    "    y_n_dataset.append(param_y_normal_data)\n",
    "    i = i + 1\n",
    "n_data_array = {'0': x1_n_dataset, '1':x2_n_dataset, 'is_normal': y_n_dataset}\n",
    "n_dataset = pd.DataFrame(n_data_array, columns=['0', '1', 'is_normal'])\n",
    "#n_dataset"
   ]
  },
  {
   "cell_type": "code",
   "execution_count": 4,
   "metadata": {},
   "outputs": [
    {
     "data": {
      "image/png": "[encoded data removed]",
      "text/plain": [
       "<Figure size 432x288 with 1 Axes>"
      ]
     },
     "metadata": {
      "needs_background": "light"
     },
     "output_type": "display_data"
    }
   ],
   "source": [
    "plt.scatter(n_dataset['0'], n_dataset['1'])\n",
    "plt.xlim(-x_lim,x_lim)\n",
    "plt.ylim(-y_lim,y_lim)\n",
    "plt.xlabel('1 dimension')\n",
    "plt.ylabel('2 dimension')\n",
    "plt.show()"
   ]
  },
  {
   "cell_type": "markdown",
   "metadata": {},
   "source": [
    "## Abnormal gaussian dataset generation"
   ]
  },
  {
   "cell_type": "code",
   "execution_count": 5,
   "metadata": {},
   "outputs": [],
   "source": [
    "#Abnormal gaussian dataset\n",
    "y_a_dataset  = []\n",
    "x1_a_dataset = []\n",
    "x2_a_dataset = []\n",
    "i = 0\n",
    "while i<size_a:\n",
    "    found = False\n",
    "    while not found:\n",
    "        x1 = (x_a_values_interval--x_a_values_interval) * np.random.random_sample() + -x_a_values_interval\n",
    "        x2 = (y_a_values_interval--y_a_values_interval) * np.random.random_sample() + -y_a_values_interval\n",
    "        distance = np.sqrt(x1**2 + x2**2)\n",
    "        if distance < a_max_cercle:\n",
    "            found = True\n",
    "    x1_a_dataset.append(x1)\n",
    "    x2_a_dataset.append(x2)\n",
    "    y_a_dataset.append(param_y_abnormal_data)\n",
    "    i = i + 1\n",
    "a_data_array = {'0': x1_a_dataset, '1':x2_a_dataset, 'is_normal': y_a_dataset}\n",
    "a_dataset = pd.DataFrame(a_data_array, columns=['0', '1', 'is_normal'])\n",
    "#a_dataset"
   ]
  },
  {
   "cell_type": "code",
   "execution_count": 6,
   "metadata": {},
   "outputs": [
    {
     "data": {
      "image/png": "[encoded data removed]",
      "text/plain": [
       "<Figure size 432x288 with 1 Axes>"
      ]
     },
     "metadata": {
      "needs_background": "light"
     },
     "output_type": "display_data"
    }
   ],
   "source": [
    "plt.scatter(a_dataset['0'], a_dataset['1'], c=\"r\")\n",
    "plt.xlim(-x_lim,x_lim)\n",
    "plt.ylim(-y_lim,y_lim)\n",
    "plt.xlabel('1 dimension')\n",
    "plt.ylabel('2 dimension')\n",
    "plt.show()"
   ]
  },
  {
   "cell_type": "code",
   "execution_count": 7,
   "metadata": {},
   "outputs": [
    {
     "data": {
      "image/png": "[encoded data removed]",
      "text/plain": [
       "<Figure size 432x288 with 1 Axes>"
      ]
     },
     "metadata": {
      "needs_background": "light"
     },
     "output_type": "display_data"
    }
   ],
   "source": [
    "plt.scatter(a_dataset['0'], a_dataset['1'], c=\"r\")\n",
    "plt.scatter(n_dataset['0'], n_dataset['1'])\n",
    "plt.xlim(-x_lim,x_lim)\n",
    "plt.ylim(-y_lim,y_lim)\n",
    "plt.xlabel('X')\n",
    "plt.ylabel('Y')\n",
    "plt.show()"
   ]
  },
  {
   "cell_type": "markdown",
   "metadata": {},
   "source": [
    "## Génération du jeu de données complet"
   ]
  },
  {
   "cell_type": "code",
   "execution_count": 8,
   "metadata": {},
   "outputs": [
    {
     "data": {
      "text/html": [
       "<div>\n",
       "<style scoped>\n",
       "    .dataframe tbody tr th:only-of-type {\n",
       "        vertical-align: middle;\n",
       "    }\n",
       "\n",
       "    .dataframe tbody tr th {\n",
       "        vertical-align: top;\n",
       "    }\n",
       "\n",
       "    .dataframe thead th {\n",
       "        text-align: right;\n",
       "    }\n",
       "</style>\n",
       "<table border=\"1\" class=\"dataframe\">\n",
       "  <thead>\n",
       "    <tr style=\"text-align: right;\">\n",
       "      <th></th>\n",
       "      <th>0</th>\n",
       "      <th>1</th>\n",
       "      <th>is_normal</th>\n",
       "    </tr>\n",
       "  </thead>\n",
       "  <tbody>\n",
       "    <tr>\n",
       "      <td>0</td>\n",
       "      <td>4.502922</td>\n",
       "      <td>7.930851</td>\n",
       "      <td>1</td>\n",
       "    </tr>\n",
       "    <tr>\n",
       "      <td>1</td>\n",
       "      <td>-0.427051</td>\n",
       "      <td>9.680362</td>\n",
       "      <td>1</td>\n",
       "    </tr>\n",
       "    <tr>\n",
       "      <td>2</td>\n",
       "      <td>5.894932</td>\n",
       "      <td>-7.953417</td>\n",
       "      <td>1</td>\n",
       "    </tr>\n",
       "    <tr>\n",
       "      <td>3</td>\n",
       "      <td>6.063402</td>\n",
       "      <td>-7.151289</td>\n",
       "      <td>1</td>\n",
       "    </tr>\n",
       "    <tr>\n",
       "      <td>4</td>\n",
       "      <td>8.968273</td>\n",
       "      <td>-1.060520</td>\n",
       "      <td>1</td>\n",
       "    </tr>\n",
       "    <tr>\n",
       "      <td>...</td>\n",
       "      <td>...</td>\n",
       "      <td>...</td>\n",
       "      <td>...</td>\n",
       "    </tr>\n",
       "    <tr>\n",
       "      <td>1510</td>\n",
       "      <td>-1.435218</td>\n",
       "      <td>4.471803</td>\n",
       "      <td>0</td>\n",
       "    </tr>\n",
       "    <tr>\n",
       "      <td>1511</td>\n",
       "      <td>-4.063845</td>\n",
       "      <td>-2.706694</td>\n",
       "      <td>0</td>\n",
       "    </tr>\n",
       "    <tr>\n",
       "      <td>1512</td>\n",
       "      <td>1.576010</td>\n",
       "      <td>2.623184</td>\n",
       "      <td>0</td>\n",
       "    </tr>\n",
       "    <tr>\n",
       "      <td>1513</td>\n",
       "      <td>-1.350751</td>\n",
       "      <td>-0.821029</td>\n",
       "      <td>0</td>\n",
       "    </tr>\n",
       "    <tr>\n",
       "      <td>1514</td>\n",
       "      <td>-1.208177</td>\n",
       "      <td>4.054098</td>\n",
       "      <td>0</td>\n",
       "    </tr>\n",
       "  </tbody>\n",
       "</table>\n",
       "<p>1515 rows × 3 columns</p>\n",
       "</div>"
      ],
      "text/plain": [
       "             0         1  is_normal\n",
       "0     4.502922  7.930851          1\n",
       "1    -0.427051  9.680362          1\n",
       "2     5.894932 -7.953417          1\n",
       "3     6.063402 -7.151289          1\n",
       "4     8.968273 -1.060520          1\n",
       "...        ...       ...        ...\n",
       "1510 -1.435218  4.471803          0\n",
       "1511 -4.063845 -2.706694          0\n",
       "1512  1.576010  2.623184          0\n",
       "1513 -1.350751 -0.821029          0\n",
       "1514 -1.208177  4.054098          0\n",
       "\n",
       "[1515 rows x 3 columns]"
      ]
     },
     "execution_count": 8,
     "metadata": {},
     "output_type": "execute_result"
    }
   ],
   "source": [
    "dataset = pd.concat([n_dataset, a_dataset], ignore_index=True, sort=False)\n",
    "dataset"
   ]
  },
  {
   "cell_type": "code",
   "execution_count": 9,
   "metadata": {},
   "outputs": [
    {
     "data": {
      "text/html": [
       "<div>\n",
       "<style scoped>\n",
       "    .dataframe tbody tr th:only-of-type {\n",
       "        vertical-align: middle;\n",
       "    }\n",
       "\n",
       "    .dataframe tbody tr th {\n",
       "        vertical-align: top;\n",
       "    }\n",
       "\n",
       "    .dataframe thead th {\n",
       "        text-align: right;\n",
       "    }\n",
       "</style>\n",
       "<table border=\"1\" class=\"dataframe\">\n",
       "  <thead>\n",
       "    <tr style=\"text-align: right;\">\n",
       "      <th></th>\n",
       "      <th>0</th>\n",
       "      <th>1</th>\n",
       "      <th>is_normal</th>\n",
       "    </tr>\n",
       "  </thead>\n",
       "  <tbody>\n",
       "    <tr>\n",
       "      <td>count</td>\n",
       "      <td>1515.000000</td>\n",
       "      <td>1515.000000</td>\n",
       "      <td>1515.000000</td>\n",
       "    </tr>\n",
       "    <tr>\n",
       "      <td>mean</td>\n",
       "      <td>-0.159696</td>\n",
       "      <td>-0.304087</td>\n",
       "      <td>0.990099</td>\n",
       "    </tr>\n",
       "    <tr>\n",
       "      <td>std</td>\n",
       "      <td>6.720575</td>\n",
       "      <td>6.669172</td>\n",
       "      <td>0.099043</td>\n",
       "    </tr>\n",
       "    <tr>\n",
       "      <td>min</td>\n",
       "      <td>-9.951340</td>\n",
       "      <td>-9.981789</td>\n",
       "      <td>0.000000</td>\n",
       "    </tr>\n",
       "    <tr>\n",
       "      <td>25%</td>\n",
       "      <td>-6.720146</td>\n",
       "      <td>-6.882256</td>\n",
       "      <td>1.000000</td>\n",
       "    </tr>\n",
       "    <tr>\n",
       "      <td>50%</td>\n",
       "      <td>-0.484748</td>\n",
       "      <td>-0.874274</td>\n",
       "      <td>1.000000</td>\n",
       "    </tr>\n",
       "    <tr>\n",
       "      <td>75%</td>\n",
       "      <td>6.586387</td>\n",
       "      <td>6.470948</td>\n",
       "      <td>1.000000</td>\n",
       "    </tr>\n",
       "    <tr>\n",
       "      <td>max</td>\n",
       "      <td>9.963067</td>\n",
       "      <td>9.983916</td>\n",
       "      <td>1.000000</td>\n",
       "    </tr>\n",
       "  </tbody>\n",
       "</table>\n",
       "</div>"
      ],
      "text/plain": [
       "                 0            1    is_normal\n",
       "count  1515.000000  1515.000000  1515.000000\n",
       "mean     -0.159696    -0.304087     0.990099\n",
       "std       6.720575     6.669172     0.099043\n",
       "min      -9.951340    -9.981789     0.000000\n",
       "25%      -6.720146    -6.882256     1.000000\n",
       "50%      -0.484748    -0.874274     1.000000\n",
       "75%       6.586387     6.470948     1.000000\n",
       "max       9.963067     9.983916     1.000000"
      ]
     },
     "execution_count": 9,
     "metadata": {},
     "output_type": "execute_result"
    }
   ],
   "source": [
    "dataset.describe()"
   ]
  },
  {
   "cell_type": "markdown",
   "metadata": {},
   "source": [
    "## Créé le fichier .csv du jeu de données"
   ]
  },
  {
   "cell_type": "code",
   "execution_count": 10,
   "metadata": {},
   "outputs": [],
   "source": [
    "dataset.to_csv(full_file_path, index=None, header=True)"
   ]
  },
  {
   "cell_type": "code",
   "execution_count": null,
   "metadata": {},
   "outputs": [],
   "source": []
  }
 ],
 "metadata": {
  "kernelspec": {
   "display_name": "Python 3",
   "language": "python",
   "name": "python3"
  },
  "language_info": {
   "codemirror_mode": {
    "name": "ipython",
    "version": 3
   },
   "file_extension": ".py",
   "mimetype": "text/x-python",
   "name": "python",
   "nbconvert_exporter": "python",
   "pygments_lexer": "ipython3",
   "version": "3.7.4"
  }
 },
 "nbformat": 4,
 "nbformat_minor": 2
}
