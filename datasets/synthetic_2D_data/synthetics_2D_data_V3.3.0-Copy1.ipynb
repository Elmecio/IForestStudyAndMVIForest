{
 "cells": [
  {
   "cell_type": "code",
   "execution_count": 2,
   "metadata": {},
   "outputs": [],
   "source": [
    "import numpy as np\n",
    "import pandas as pd\n",
    "import matplotlib.pyplot as plt\n",
    "from datetime import datetime"
   ]
  },
  {
   "cell_type": "markdown",
   "metadata": {},
   "source": [
    "## Paramètres de jeu de données"
   ]
  },
  {
   "cell_type": "code",
   "execution_count": 9,
   "metadata": {},
   "outputs": [],
   "source": [
    "param_y_normal_data = 1\n",
    "param_y_abnormal_data = 0\n",
    "#Normal data\n",
    "size = 1500 #number of samples\n",
    "small_cercle = 8 #Rayon\n",
    "big_cercle = 9 #Rayon\n",
    "x_values_interval = 9\n",
    "y_values_interval = 9\n",
    "#Abnormal data\n",
    "contamination = 1/100 # 1%\n",
    "size_a = int(size*contamination) #size of samples\n",
    "a_max_cercle = 5 #Rayon\n",
    "a_min_cercle = 4 #Rayon\n",
    "x_a_values_interval = 9\n",
    "y_a_values_interval = 9\n",
    "\n",
    "x_lim = 12\n",
    "y_lim = 9\n",
    "\n",
    "file_name = \"synthetic_2D_data_V3.3.0\"+str(datetime.now())\n",
    "#full_file_path = str(datetime.now().date())+\"/\"+file_name+\".csv\"\n",
    "full_file_path = file_name+\".csv\""
   ]
  },
  {
   "cell_type": "markdown",
   "metadata": {},
   "source": [
    "## Description\n"
   ]
  },
  {
   "cell_type": "code",
   "execution_count": 10,
   "metadata": {},
   "outputs": [
    {
     "name": "stdout",
     "output_type": "stream",
     "text": [
      "Jeu de données à 2 dimensions constitué de données normales et 1% de données anormales. \n",
      "Les données anormales se retrouvent au centre d'un grand cercle formé par les données normales. \n",
      "Ici, les données anormales sont aléatoires et un peu éloignés des données normales.\n",
      "Données normales :\n",
      "- Données aléatoire uniforme\n",
      "- X1 entre -9 et 9, \n",
      "- X2 entre -9 et 9, \n",
      "- size = 1500, \n",
      "- distance euclidienne entre 8 et 9 (Grand cercle de rayon 9 et petit cercle de rayon 8)\n",
      "Données anormales :\n",
      "- Données aléatoire uniforme\n",
      "- X1 entre -9 et 9, \n",
      "- X2 entre -9 et 9, \n",
      "- size = 15, \n",
      "- distance euclidienne inférieure à 5\n"
     ]
    }
   ],
   "source": [
    "print(\"Jeu de données à 2 dimensions constitué de données normales et 1% de données anormales. \")\n",
    "print(\"Les données anormales se retrouvent au centre d'un grand cercle formé par les données normales. \") \n",
    "print(\"Ici, les données anormales sont aléatoires et un peu éloignés des données normales.\")\n",
    "\n",
    "print(\"Données normales :\")\n",
    "print(\"- Données aléatoire uniforme\")\n",
    "print(\"- X1 entre -\"+str(x_values_interval) +\" et \"+str(x_values_interval)+\", \")\n",
    "print(\"- X2 entre -\"+str(y_values_interval) +\" et \"+str(y_values_interval)+\", \")\n",
    "print(\"- size = \"+str(size)+\", \")\n",
    "print(\"- distance euclidienne entre \"+str(small_cercle) +\" et \"+str(big_cercle)+\" (Grand cercle de rayon \"+str(big_cercle)+\" et petit cercle de rayon \"+str(small_cercle)+\")\")\n",
    "\n",
    "print(\"Données anormales :\")\n",
    "print(\"- Données aléatoire uniforme\")\n",
    "print(\"- X1 entre -\"+str(x_a_values_interval) +\" et \"+str(x_a_values_interval)+\", \")\n",
    "print(\"- X2 entre -\"+str(y_a_values_interval) +\" et \"+str(y_a_values_interval)+\", \")\n",
    "print(\"- size = \"+str(size_a)+\", \")\n",
    "print(\"- distance euclidienne inférieure à \"+str(a_max_cercle)+\"\")"
   ]
  },
  {
   "cell_type": "markdown",
   "metadata": {},
   "source": [
    "## Normal dataset generation"
   ]
  },
  {
   "cell_type": "code",
   "execution_count": 11,
   "metadata": {},
   "outputs": [],
   "source": [
    "#Normal “continuous uniform” distribution dataset https://docs.scipy.org/doc/numpy-1.15.0/reference/generated/numpy.random.random_sample.html\n",
    "mu = 0 #mean\n",
    "sigma = 1 #Standard deviation\n",
    "#n_dataset = np.random.normal(mu, sigma, size)\n",
    "#n_dataset = np.random(mu, sigma, size)\n",
    "y_n_dataset  = []\n",
    "x1_n_dataset = []\n",
    "x2_n_dataset = []\n",
    "i = 0\n",
    "while i<size:\n",
    "    found = False\n",
    "    while not found:\n",
    "        x1 = (x_values_interval--x_values_interval) * np.random.random_sample() + -x_values_interval\n",
    "        x2 = (y_values_interval--y_values_interval) * np.random.random_sample() + -y_values_interval\n",
    "        distance = np.sqrt(x1**2 + x2**2)\n",
    "        if small_cercle < distance < big_cercle:\n",
    "            found = True\n",
    "    x1_n_dataset.append(x1)\n",
    "    x2_n_dataset.append(x2)\n",
    "    y_n_dataset.append(param_y_normal_data)\n",
    "    i = i + 1\n",
    "n_data_array = {'0': x1_n_dataset, '1':x2_n_dataset, 'is_normal': y_n_dataset}\n",
    "n_dataset = pd.DataFrame(n_data_array, columns=['0', '1', 'is_normal'])\n",
    "#n_dataset"
   ]
  },
  {
   "cell_type": "code",
   "execution_count": 12,
   "metadata": {},
   "outputs": [
    {
     "data": {
      "image/png": "[encoded data removed]",
      "text/plain": [
       "<Figure size 432x288 with 1 Axes>"
      ]
     },
     "metadata": {
      "needs_background": "light"
     },
     "output_type": "display_data"
    }
   ],
   "source": [
    "plt.scatter(n_dataset['0'], n_dataset['1'])\n",
    "plt.xlim(-x_lim,x_lim)\n",
    "plt.ylim(-y_lim,y_lim)\n",
    "plt.xlabel('1 dimension')\n",
    "plt.ylabel('2 dimension')\n",
    "plt.show()"
   ]
  },
  {
   "cell_type": "markdown",
   "metadata": {},
   "source": [
    "## Abnormal gaussian dataset generation"
   ]
  },
  {
   "cell_type": "code",
   "execution_count": 7,
   "metadata": {},
   "outputs": [],
   "source": [
    "#Abnormal gaussian dataset\n",
    "y_a_dataset  = []\n",
    "x1_a_dataset = []\n",
    "x2_a_dataset = []\n",
    "i = 0\n",
    "while i<size_a:\n",
    "    found = False\n",
    "    while not found:\n",
    "        x1 = (x_a_values_interval--x_a_values_interval) * np.random.random_sample() + -x_a_values_interval\n",
    "        x2 = (y_a_values_interval--y_a_values_interval) * np.random.random_sample() + -y_a_values_interval\n",
    "        distance = np.sqrt(x1**2 + x2**2)\n",
    "        if distance < a_max_cercle:\n",
    "            found = True\n",
    "    x1_a_dataset.append(x1)\n",
    "    x2_a_dataset.append(x2)\n",
    "    y_a_dataset.append(param_y_abnormal_data)\n",
    "    i = i + 1\n",
    "a_data_array = {'0': x1_a_dataset, '1':x2_a_dataset, 'is_normal': y_a_dataset}\n",
    "a_dataset = pd.DataFrame(a_data_array, columns=['0', '1', 'is_normal'])\n",
    "#a_dataset"
   ]
  },
  {
   "cell_type": "code",
   "execution_count": 8,
   "metadata": {},
   "outputs": [
    {
     "data": {
      "image/png": "[encoded data removed]",
      "text/plain": [
       "<Figure size 432x288 with 1 Axes>"
      ]
     },
     "metadata": {
      "needs_background": "light"
     },
     "output_type": "display_data"
    }
   ],
   "source": [
    "plt.scatter(a_dataset['0'], a_dataset['1'], c=\"r\")\n",
    "plt.xlim(-x_lim,x_lim)\n",
    "plt.ylim(-y_lim,y_lim)\n",
    "plt.xlabel('1 dimension')\n",
    "plt.ylabel('2 dimension')\n",
    "plt.show()"
   ]
  },
  {
   "cell_type": "code",
   "execution_count": 8,
   "metadata": {},
   "outputs": [
    {
     "data": {
      "image/png": "[encoded data removed]",
      "text/plain": [
       "<Figure size 432x288 with 1 Axes>"
      ]
     },
     "metadata": {
      "needs_background": "light"
     },
     "output_type": "display_data"
    }
   ],
   "source": [
    "plt.scatter(a_dataset['0'], a_dataset['1'], c=\"r\")\n",
    "plt.scatter(n_dataset['0'], n_dataset['1'])\n",
    "plt.xlim(-x_lim,x_lim)\n",
    "plt.ylim(-y_lim,y_lim)\n",
    "plt.xlabel('X')\n",
    "plt.ylabel('Y')\n",
    "plt.show()"
   ]
  },
  {
   "cell_type": "markdown",
   "metadata": {},
   "source": [
    "## Génération du jeu de données complet"
   ]
  },
  {
   "cell_type": "code",
   "execution_count": 9,
   "metadata": {},
   "outputs": [
    {
     "data": {
      "text/html": [
       "<div>\n",
       "<style scoped>\n",
       "    .dataframe tbody tr th:only-of-type {\n",
       "        vertical-align: middle;\n",
       "    }\n",
       "\n",
       "    .dataframe tbody tr th {\n",
       "        vertical-align: top;\n",
       "    }\n",
       "\n",
       "    .dataframe thead th {\n",
       "        text-align: right;\n",
       "    }\n",
       "</style>\n",
       "<table border=\"1\" class=\"dataframe\">\n",
       "  <thead>\n",
       "    <tr style=\"text-align: right;\">\n",
       "      <th></th>\n",
       "      <th>0</th>\n",
       "      <th>1</th>\n",
       "      <th>is_normal</th>\n",
       "    </tr>\n",
       "  </thead>\n",
       "  <tbody>\n",
       "    <tr>\n",
       "      <td>0</td>\n",
       "      <td>8.455984</td>\n",
       "      <td>-2.876761</td>\n",
       "      <td>1</td>\n",
       "    </tr>\n",
       "    <tr>\n",
       "      <td>1</td>\n",
       "      <td>6.616522</td>\n",
       "      <td>4.955192</td>\n",
       "      <td>1</td>\n",
       "    </tr>\n",
       "    <tr>\n",
       "      <td>2</td>\n",
       "      <td>1.426836</td>\n",
       "      <td>7.999556</td>\n",
       "      <td>1</td>\n",
       "    </tr>\n",
       "    <tr>\n",
       "      <td>3</td>\n",
       "      <td>-4.075791</td>\n",
       "      <td>-7.041589</td>\n",
       "      <td>1</td>\n",
       "    </tr>\n",
       "    <tr>\n",
       "      <td>4</td>\n",
       "      <td>-3.844692</td>\n",
       "      <td>-7.464620</td>\n",
       "      <td>1</td>\n",
       "    </tr>\n",
       "    <tr>\n",
       "      <td>...</td>\n",
       "      <td>...</td>\n",
       "      <td>...</td>\n",
       "      <td>...</td>\n",
       "    </tr>\n",
       "    <tr>\n",
       "      <td>1510</td>\n",
       "      <td>1.684841</td>\n",
       "      <td>0.866651</td>\n",
       "      <td>0</td>\n",
       "    </tr>\n",
       "    <tr>\n",
       "      <td>1511</td>\n",
       "      <td>-3.247635</td>\n",
       "      <td>0.722115</td>\n",
       "      <td>0</td>\n",
       "    </tr>\n",
       "    <tr>\n",
       "      <td>1512</td>\n",
       "      <td>-3.635961</td>\n",
       "      <td>3.170832</td>\n",
       "      <td>0</td>\n",
       "    </tr>\n",
       "    <tr>\n",
       "      <td>1513</td>\n",
       "      <td>3.540298</td>\n",
       "      <td>2.631249</td>\n",
       "      <td>0</td>\n",
       "    </tr>\n",
       "    <tr>\n",
       "      <td>1514</td>\n",
       "      <td>-4.569549</td>\n",
       "      <td>-1.507473</td>\n",
       "      <td>0</td>\n",
       "    </tr>\n",
       "  </tbody>\n",
       "</table>\n",
       "<p>1515 rows × 3 columns</p>\n",
       "</div>"
      ],
      "text/plain": [
       "             0         1  is_normal\n",
       "0     8.455984 -2.876761          1\n",
       "1     6.616522  4.955192          1\n",
       "2     1.426836  7.999556          1\n",
       "3    -4.075791 -7.041589          1\n",
       "4    -3.844692 -7.464620          1\n",
       "...        ...       ...        ...\n",
       "1510  1.684841  0.866651          0\n",
       "1511 -3.247635  0.722115          0\n",
       "1512 -3.635961  3.170832          0\n",
       "1513  3.540298  2.631249          0\n",
       "1514 -4.569549 -1.507473          0\n",
       "\n",
       "[1515 rows x 3 columns]"
      ]
     },
     "execution_count": 9,
     "metadata": {},
     "output_type": "execute_result"
    }
   ],
   "source": [
    "dataset = pd.concat([n_dataset, a_dataset], ignore_index=True, sort=False)\n",
    "dataset"
   ]
  },
  {
   "cell_type": "code",
   "execution_count": 10,
   "metadata": {},
   "outputs": [
    {
     "data": {
      "text/html": [
       "<div>\n",
       "<style scoped>\n",
       "    .dataframe tbody tr th:only-of-type {\n",
       "        vertical-align: middle;\n",
       "    }\n",
       "\n",
       "    .dataframe tbody tr th {\n",
       "        vertical-align: top;\n",
       "    }\n",
       "\n",
       "    .dataframe thead th {\n",
       "        text-align: right;\n",
       "    }\n",
       "</style>\n",
       "<table border=\"1\" class=\"dataframe\">\n",
       "  <thead>\n",
       "    <tr style=\"text-align: right;\">\n",
       "      <th></th>\n",
       "      <th>0</th>\n",
       "      <th>1</th>\n",
       "      <th>is_normal</th>\n",
       "    </tr>\n",
       "  </thead>\n",
       "  <tbody>\n",
       "    <tr>\n",
       "      <td>count</td>\n",
       "      <td>1515.000000</td>\n",
       "      <td>1515.000000</td>\n",
       "      <td>1515.000000</td>\n",
       "    </tr>\n",
       "    <tr>\n",
       "      <td>mean</td>\n",
       "      <td>-0.118125</td>\n",
       "      <td>-0.117501</td>\n",
       "      <td>0.990099</td>\n",
       "    </tr>\n",
       "    <tr>\n",
       "      <td>std</td>\n",
       "      <td>5.991833</td>\n",
       "      <td>5.994396</td>\n",
       "      <td>0.099043</td>\n",
       "    </tr>\n",
       "    <tr>\n",
       "      <td>min</td>\n",
       "      <td>-8.987117</td>\n",
       "      <td>-8.945729</td>\n",
       "      <td>0.000000</td>\n",
       "    </tr>\n",
       "    <tr>\n",
       "      <td>25%</td>\n",
       "      <td>-5.965526</td>\n",
       "      <td>-6.271184</td>\n",
       "      <td>1.000000</td>\n",
       "    </tr>\n",
       "    <tr>\n",
       "      <td>50%</td>\n",
       "      <td>-0.056638</td>\n",
       "      <td>-0.063628</td>\n",
       "      <td>1.000000</td>\n",
       "    </tr>\n",
       "    <tr>\n",
       "      <td>75%</td>\n",
       "      <td>5.785921</td>\n",
       "      <td>5.860498</td>\n",
       "      <td>1.000000</td>\n",
       "    </tr>\n",
       "    <tr>\n",
       "      <td>max</td>\n",
       "      <td>8.988604</td>\n",
       "      <td>8.982022</td>\n",
       "      <td>1.000000</td>\n",
       "    </tr>\n",
       "  </tbody>\n",
       "</table>\n",
       "</div>"
      ],
      "text/plain": [
       "                 0            1    is_normal\n",
       "count  1515.000000  1515.000000  1515.000000\n",
       "mean     -0.118125    -0.117501     0.990099\n",
       "std       5.991833     5.994396     0.099043\n",
       "min      -8.987117    -8.945729     0.000000\n",
       "25%      -5.965526    -6.271184     1.000000\n",
       "50%      -0.056638    -0.063628     1.000000\n",
       "75%       5.785921     5.860498     1.000000\n",
       "max       8.988604     8.982022     1.000000"
      ]
     },
     "execution_count": 10,
     "metadata": {},
     "output_type": "execute_result"
    }
   ],
   "source": [
    "dataset.describe()"
   ]
  },
  {
   "cell_type": "markdown",
   "metadata": {},
   "source": [
    "## Créé le fichier .csv du jeu de données"
   ]
  },
  {
   "cell_type": "code",
   "execution_count": 11,
   "metadata": {},
   "outputs": [],
   "source": [
    "dataset.to_csv(full_file_path, index=None, header=True)"
   ]
  },
  {
   "cell_type": "code",
   "execution_count": null,
   "metadata": {},
   "outputs": [],
   "source": []
  }
 ],
 "metadata": {
  "kernelspec": {
   "display_name": "Python 3",
   "language": "python",
   "name": "python3"
  },
  "language_info": {
   "codemirror_mode": {
    "name": "ipython",
    "version": 3
   },
   "file_extension": ".py",
   "mimetype": "text/x-python",
   "name": "python",
   "nbconvert_exporter": "python",
   "pygments_lexer": "ipython3",
   "version": "3.7.4"
  }
 },
 "nbformat": 4,
 "nbformat_minor": 2
}
