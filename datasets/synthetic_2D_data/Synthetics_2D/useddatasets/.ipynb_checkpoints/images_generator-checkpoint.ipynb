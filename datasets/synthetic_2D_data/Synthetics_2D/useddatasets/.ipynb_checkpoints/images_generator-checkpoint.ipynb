{
 "cells": [
  {
   "cell_type": "code",
   "execution_count": 7,
   "metadata": {},
   "outputs": [],
   "source": [
    "import numpy as np\n",
    "import pandas as pd\n",
    "import matplotlib.pyplot as plt\n",
    "from datetime import datetime"
   ]
  },
  {
   "cell_type": "code",
   "execution_count": 11,
   "metadata": {},
   "outputs": [
    {
     "ename": "ImportError",
     "evalue": "cannot import name 'datasets' from 'datasets' (../../../datasets.py)",
     "output_type": "error",
     "traceback": [
      "\u001b[0;31m---------------------------------------------------------------------------\u001b[0m",
      "\u001b[0;31mImportError\u001b[0m                               Traceback (most recent call last)",
      "\u001b[0;32m<ipython-input-11-7d79e59ac0c8>\u001b[0m in \u001b[0;36m<module>\u001b[0;34m\u001b[0m\n\u001b[1;32m      1\u001b[0m \u001b[0;32mimport\u001b[0m \u001b[0msys\u001b[0m\u001b[0;34m\u001b[0m\u001b[0;34m\u001b[0m\u001b[0m\n\u001b[1;32m      2\u001b[0m \u001b[0msys\u001b[0m\u001b[0;34m.\u001b[0m\u001b[0mpath\u001b[0m\u001b[0;34m.\u001b[0m\u001b[0mappend\u001b[0m\u001b[0;34m(\u001b[0m\u001b[0;34m'../'\u001b[0m\u001b[0;34m)\u001b[0m\u001b[0;34m\u001b[0m\u001b[0;34m\u001b[0m\u001b[0m\n\u001b[0;32m----> 3\u001b[0;31m \u001b[0;32mfrom\u001b[0m \u001b[0mdatasets\u001b[0m \u001b[0;32mimport\u001b[0m \u001b[0mdatasets\u001b[0m \u001b[0;32mas\u001b[0m \u001b[0mdatat\u001b[0m\u001b[0;34m\u001b[0m\u001b[0;34m\u001b[0m\u001b[0m\n\u001b[0m\u001b[1;32m      4\u001b[0m \u001b[0mdts\u001b[0m \u001b[0;34m=\u001b[0m \u001b[0mdatat\u001b[0m\u001b[0;34m.\u001b[0m\u001b[0msynthetic_datasets\u001b[0m\u001b[0;34m(\u001b[0m\u001b[0mpath_top\u001b[0m\u001b[0;34m=\u001b[0m\u001b[0;34m\"../../../\"\u001b[0m\u001b[0;34m)\u001b[0m\u001b[0;34m\u001b[0m\u001b[0;34m\u001b[0m\u001b[0m\n\u001b[1;32m      5\u001b[0m \u001b[0mutil\u001b[0m \u001b[0;34m=\u001b[0m \u001b[0mdata\u001b[0m\u001b[0;34m.\u001b[0m\u001b[0mutilitaries\u001b[0m\u001b[0;34m(\u001b[0m\u001b[0mpath_top\u001b[0m\u001b[0;34m=\u001b[0m\u001b[0;34m\"../../../\"\u001b[0m\u001b[0;34m)\u001b[0m\u001b[0;34m\u001b[0m\u001b[0;34m\u001b[0m\u001b[0m\n",
      "\u001b[0;31mImportError\u001b[0m: cannot import name 'datasets' from 'datasets' (../../../datasets.py)"
     ]
    }
   ],
   "source": [
    "import sys\n",
    "sys.path.append('../')\n",
    "from datasets import datasets as datat\n",
    "dts = datat.synthetic_datasets(path_top=\"../../../\")\n",
    "util = data.utilitaries(path_top=\"../../../\")"
   ]
  },
  {
   "cell_type": "code",
   "execution_count": null,
   "metadata": {},
   "outputs": [],
   "source": [
    "# Load the dataset\n",
    "X_brut, y_transform, full_dataset, x_lim, y_lim, z_lim, data_Version  = dts.TwoD2_V2_0_0()\n",
    "dataset_name = \"TwoD_\"+data_Version\n",
    "normals_abnormals_XY(self, dataset, outlier_label=ue._OUTLIER_LABEL)"
   ]
  },
  {
   "cell_type": "code",
   "execution_count": null,
   "metadata": {},
   "outputs": [],
   "source": [
    "plt.scatter(a_dataset['0'], a_dataset['1'], c=\"r\")\n",
    "plt.scatter(n_dataset['0'], n_dataset['1'])\n",
    "plt.xlim(-x_values_interval,x_values_interval)\n",
    "plt.ylim(-y_values_interval,y_values_interval)\n",
    "plt.xlabel('1 dimension')\n",
    "plt.ylabel('2 dimension')\n",
    "plt.show()"
   ]
  }
 ],
 "metadata": {
  "kernelspec": {
   "display_name": "Python 3",
   "language": "python",
   "name": "python3"
  },
  "language_info": {
   "codemirror_mode": {
    "name": "ipython",
    "version": 3
   },
   "file_extension": ".py",
   "mimetype": "text/x-python",
   "name": "python",
   "nbconvert_exporter": "python",
   "pygments_lexer": "ipython3",
   "version": "3.8.5"
  }
 },
 "nbformat": 4,
 "nbformat_minor": 4
}
