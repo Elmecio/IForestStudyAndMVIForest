{
 "cells": [
  {
   "cell_type": "code",
   "execution_count": 6,
   "metadata": {},
   "outputs": [],
   "source": [
    "import numpy as np\n",
    "import pandas as pd\n",
    "import matplotlib.pyplot as plt\n",
    "from datetime import datetime\n",
    "#from faker import Faker"
   ]
  },
  {
   "cell_type": "markdown",
   "metadata": {},
   "source": [
    "## Paramètres de jeu de données"
   ]
  },
  {
   "cell_type": "code",
   "execution_count": 7,
   "metadata": {},
   "outputs": [],
   "source": [
    "param_y_normal_data = 1\n",
    "param_y_abnormal_data = 0\n",
    "contamination = 1/100 # 1%\n",
    "file_name = \"synthetic_full_random_data_\"+str(datetime.now())\n",
    "#full_file_path = str(datetime.now().date())+\"/\"+file_name+\".csv\"\n",
    "full_file_path = file_name+\".csv\""
   ]
  },
  {
   "cell_type": "markdown",
   "metadata": {},
   "source": [
    "## Normal random dataset generation"
   ]
  },
  {
   "cell_type": "code",
   "execution_count": 9,
   "metadata": {},
   "outputs": [
    {
     "name": "stdout",
     "output_type": "stream",
     "text": [
      "      age  Salary (in €)  sexe  is_pregnant  is_parent  weight (in Kg)  \\\n",
      "0      31          31220     1            0          0              64   \n",
      "1      67          16452     0            1          0              66   \n",
      "2      40          16776     1            0          1              98   \n",
      "3      60           8359     0            0          1              76   \n",
      "4      47            944     0            0          1              79   \n",
      "5      84           1916     1            0          0              82   \n",
      "6      35           1342     1            0          1              70   \n",
      "7      53           2620     0            1          0              65   \n",
      "8      53          10218     0            1          0              57   \n",
      "9      48          18392     1            0          0              93   \n",
      "10     83           5131     0            0          1              74   \n",
      "11     38          28434     1            0          1              62   \n",
      "12     30          12662     0            1          0              88   \n",
      "13     75          36459     0            0          1              61   \n",
      "14     33          26126     0            1          1              68   \n",
      "15     57          14940     0            1          0              66   \n",
      "16     57          11681     1            0          1              89   \n",
      "17     90          12756     0            1          1              86   \n",
      "18    100          31110     1            0          1              64   \n",
      "19      7              0     0            1          0              21   \n",
      "20     32          11723     0            1          1              77   \n",
      "21     55          14611     1            0          1              79   \n",
      "22      3              0     1            0          0              20   \n",
      "23     39          31172     0            0          0              95   \n",
      "24     24           9690     1            0          1              93   \n",
      "25     79           6797     1            0          0              76   \n",
      "26     50          32403     1            0          1              79   \n",
      "27     33          20950     1            0          1              66   \n",
      "28     64          15200     0            0          1              76   \n",
      "29     34          18166     1            0          1              82   \n",
      "...   ...            ...   ...          ...        ...             ...   \n",
      "1470   63          13950     1            0          1              79   \n",
      "1471   56          25160     0            0          1              88   \n",
      "1472   72          22818     0            0          0              79   \n",
      "1473   64          21269     1            0          0              76   \n",
      "1474    2              0     0            0          0              21   \n",
      "1475   14              0     1            0          0              39   \n",
      "1476   24          17152     0            0          0              79   \n",
      "1477   91           4124     1            0          0              74   \n",
      "1478   19          12211     1            0          0              90   \n",
      "1479   24          13756     1            0          1              79   \n",
      "1480   52          33597     1            0          1              72   \n",
      "1481   13              0     1            0          0              35   \n",
      "1482   71          10986     0            0          1              66   \n",
      "1483   19          27477     1            0          1              78   \n",
      "1484   16           4640     1            0          1              65   \n",
      "1485   29            821     0            0          1              89   \n",
      "1486   69          39546     0            0          0              80   \n",
      "1487   90           5778     1            0          0              64   \n",
      "1488   61          23611     1            0          0              73   \n",
      "1489   90          21037     1            0          0              80   \n",
      "1490   69          19398     0            0          0              62   \n",
      "1491   72          38920     0            0          0              81   \n",
      "1492   44           2373     1            0          0              85   \n",
      "1493   69          11794     0            0          1              69   \n",
      "1494   89           6502     1            0          1              63   \n",
      "1495   36          33927     1            0          1              92   \n",
      "1496    5              0     0            0          0              23   \n",
      "1497   68          27820     1            0          1              74   \n",
      "1498   64          31128     0            0          1              63   \n",
      "1499   88          39329     0            1          1              89   \n",
      "\n",
      "      height (in Cm)  is_normal  \n",
      "0                182          1  \n",
      "1                175          1  \n",
      "2                199          1  \n",
      "3                180          1  \n",
      "4                199          1  \n",
      "5                182          1  \n",
      "6                190          1  \n",
      "7                178          1  \n",
      "8                175          1  \n",
      "9                195          1  \n",
      "10               199          1  \n",
      "11               175          1  \n",
      "12               198          1  \n",
      "13               181          1  \n",
      "14               188          1  \n",
      "15               177          1  \n",
      "16               199          1  \n",
      "17               187          1  \n",
      "18               181          1  \n",
      "19               106          1  \n",
      "20               193          1  \n",
      "21               182          1  \n",
      "22                97          1  \n",
      "23               195          1  \n",
      "24               197          1  \n",
      "25               198          1  \n",
      "26               195          1  \n",
      "27               176          1  \n",
      "28               186          1  \n",
      "29               190          1  \n",
      "...              ...        ...  \n",
      "1470             197          1  \n",
      "1471             189          1  \n",
      "1472             192          1  \n",
      "1473             182          1  \n",
      "1474              93          1  \n",
      "1475             135          1  \n",
      "1476             182          1  \n",
      "1477             197          1  \n",
      "1478             198          1  \n",
      "1479             189          1  \n",
      "1480             191          1  \n",
      "1481             134          1  \n",
      "1482             182          1  \n",
      "1483             185          1  \n",
      "1484             170          1  \n",
      "1485             197          1  \n",
      "1486             192          1  \n",
      "1487             176          1  \n",
      "1488             181          1  \n",
      "1489             187          1  \n",
      "1490             180          1  \n",
      "1491             181          1  \n",
      "1492             195          1  \n",
      "1493             175          1  \n",
      "1494             179          1  \n",
      "1495             194          1  \n",
      "1496             108          1  \n",
      "1497             194          1  \n",
      "1498             177          1  \n",
      "1499             199          1  \n",
      "\n",
      "[1500 rows x 8 columns]\n"
     ]
    }
   ],
   "source": [
    "#Normal random dataset\n",
    "mu = 0 #mean\n",
    "sigma = 1 #Standard deviation\n",
    "size = 1500 #number of samples\n",
    "#fake = Faker()\n",
    "# To ensure the results are reproducible\n",
    "#fake.seed(4321)\n",
    "ages = []\n",
    "#names_list = []\n",
    "sexes = []  # 1 = Homme and 0 = Femme\n",
    "is_normal = []  # 1 = Normal and 0 = Anormal\n",
    "is_pregnant = []  # 1 = True and 0 = False\n",
    "salaries = []\n",
    "is_parent = []  # 1 = True and 0 = False\n",
    "heights = []  # in cm\n",
    "weights = []  # in kg\n",
    "for _ in range(size):\n",
    "    is_normal.append(param_y_normal_data)\n",
    "    #names_list.append(fake.name())\n",
    "    # Age\n",
    "    age = np.random.randint(0, 101)\n",
    "    ages.append(age)\n",
    "    # Sexe\n",
    "    sexe = np.random.randint(0, 2)\n",
    "    sexes.append(sexe)\n",
    "    # Salary, is_parent\n",
    "    if age >= 16:\n",
    "        salaries.append(np.random.randint(0, 40000))\n",
    "        is_parent.append(np.random.randint(0, 2))\n",
    "    #elif age >= 12:\n",
    "    #    salaries.append(0)\n",
    "    #    is_parent.append(np.random.randint(0, 1))\n",
    "    else:\n",
    "        salaries.append(0)\n",
    "        is_parent.append(0)\n",
    "    # is_pregnant\n",
    "    if sexe == 1 or 50 < age < 16:\n",
    "        is_pregnant.append(0)\n",
    "    else: #if sexe == 0 and age >= 16\n",
    "        is_pregnant.append(np.random.randint(0, 2))\n",
    "\n",
    "    # heights\n",
    "    if age >= 18:\n",
    "        height = np.random.randint(175, 200)\n",
    "    elif age >= 15:\n",
    "        height = np.random.randint(163, 175)\n",
    "    elif age >= 112:\n",
    "        height = np.random.randint(145, 163)\n",
    "    elif age >= 10:\n",
    "        height = np.random.randint(132, 145)\n",
    "    elif age >= 8:\n",
    "        height = np.random.randint(120, 132)\n",
    "    elif age >= 4:\n",
    "        height = np.random.randint(100, 120)\n",
    "    elif age >= 2:\n",
    "        height = np.random.randint(85, 100)\n",
    "    else:\n",
    "        height = np.random.randint(50, 85)\n",
    "    heights.append(height)\n",
    "\n",
    "    # Weights\n",
    "    weight = np.random.randint(low=2, high=200)\n",
    "    imc = weight/(height/100)**2\n",
    "    good = False\n",
    "    while not good:\n",
    "        if 18.5 <= imc < 25:\n",
    "            good = True\n",
    "            weights.append(weight)\n",
    "        else:\n",
    "            weight = np.random.randint(low=2, high=200)\n",
    "            imc = weight/(height/100)**2\n",
    "\n",
    "data = {#'name': names_list,\n",
    "        'age': ages,\n",
    "        'Salary (in €)': salaries,\n",
    "        'sexe': sexes,\n",
    "        'is_pregnant': is_pregnant,\n",
    "        'is_parent': is_parent,\n",
    "        'weight (in Kg)': weights,\n",
    "        'height (in Cm)': heights,\n",
    "        'is_normal': is_normal\n",
    "        }\n",
    "n_dataset = pd.DataFrame(data, columns=[#'name', \n",
    "                                        'age', 'Salary (in €)', 'sexe',\n",
    "                                          'is_pregnant', 'is_parent', 'weight (in Kg)',\n",
    "                                          'height (in Cm)', 'is_normal'])\n",
    "print(n_dataset)"
   ]
  },
  {
   "cell_type": "markdown",
   "metadata": {},
   "source": [
    "## Abnormal dataset generation"
   ]
  },
  {
   "cell_type": "code",
   "execution_count": 10,
   "metadata": {},
   "outputs": [
    {
     "ename": "AttributeError",
     "evalue": "'list' object has no attribute 'contains'",
     "output_type": "error",
     "traceback": [
      "\u001b[0;31m---------------------------------------------------------------------------\u001b[0m",
      "\u001b[0;31mAttributeError\u001b[0m                            Traceback (most recent call last)",
      "\u001b[0;32m<ipython-input-10-77ab8676a9de>\u001b[0m in \u001b[0;36m<module>\u001b[0;34m\u001b[0m\n\u001b[1;32m      8\u001b[0m     \u001b[0;32mwhile\u001b[0m \u001b[0;32mnot\u001b[0m \u001b[0mfound\u001b[0m\u001b[0;34m:\u001b[0m\u001b[0;34m\u001b[0m\u001b[0;34m\u001b[0m\u001b[0m\n\u001b[1;32m      9\u001b[0m         \u001b[0mindex\u001b[0m \u001b[0;34m=\u001b[0m \u001b[0mnp\u001b[0m\u001b[0;34m.\u001b[0m\u001b[0mrandom\u001b[0m\u001b[0;34m.\u001b[0m\u001b[0mrandint\u001b[0m\u001b[0;34m(\u001b[0m\u001b[0;36m0\u001b[0m\u001b[0;34m,\u001b[0m \u001b[0mlen\u001b[0m\u001b[0;34m(\u001b[0m\u001b[0mn_dataset\u001b[0m\u001b[0;34m)\u001b[0m\u001b[0;34m)\u001b[0m\u001b[0;34m\u001b[0m\u001b[0;34m\u001b[0m\u001b[0m\n\u001b[0;32m---> 10\u001b[0;31m         \u001b[0;32mif\u001b[0m \u001b[0;32mnot\u001b[0m \u001b[0mused_index\u001b[0m\u001b[0;34m.\u001b[0m\u001b[0mcontains\u001b[0m\u001b[0;34m(\u001b[0m\u001b[0mindex\u001b[0m\u001b[0;34m)\u001b[0m\u001b[0;34m:\u001b[0m\u001b[0;34m\u001b[0m\u001b[0;34m\u001b[0m\u001b[0m\n\u001b[0m\u001b[1;32m     11\u001b[0m             \u001b[0mused_index\u001b[0m\u001b[0;34m.\u001b[0m\u001b[0mappend\u001b[0m\u001b[0;34m(\u001b[0m\u001b[0mindex\u001b[0m\u001b[0;34m)\u001b[0m\u001b[0;34m\u001b[0m\u001b[0;34m\u001b[0m\u001b[0m\n\u001b[1;32m     12\u001b[0m             \u001b[0mfound\u001b[0m \u001b[0;34m=\u001b[0m \u001b[0;32mTrue\u001b[0m\u001b[0;34m\u001b[0m\u001b[0;34m\u001b[0m\u001b[0m\n",
      "\u001b[0;31mAttributeError\u001b[0m: 'list' object has no attribute 'contains'"
     ]
    }
   ],
   "source": [
    "#Abnormal random dataset\n",
    "size_a = int(size*contamination) #size of samples\n",
    "used_index = []\n",
    "i = 0\n",
    "while i<size_a:\n",
    "    found = False\n",
    "    is_now_negative = False\n",
    "    while not found:\n",
    "        index = np.random.randint(0, len(n_dataset))\n",
    "        if not index in used_index:\n",
    "            used_index.append(index)\n",
    "            found = True\n",
    "            if is_now_negative:\n",
    "                n_dataset.at[index, 'age'] = np.random.randint(-200, -500)\n",
    "            else:\n",
    "                n_dataset.at[index, 'age'] = np.random.randint(200, 500)\n",
    "            n_dataset.at[index, 'is_normal'] = param_y_abnormal_data\n",
    "            is_now_negative = not is_now_negative\n",
    "    i = i + 1\n",
    "print(n_dataset)"
   ]
  },
  {
   "cell_type": "markdown",
   "metadata": {},
   "source": [
    "## Génération du jeu de données complet"
   ]
  },
  {
   "cell_type": "code",
   "execution_count": 4,
   "metadata": {},
   "outputs": [
    {
     "ename": "NameError",
     "evalue": "name 'n_dataset' is not defined",
     "output_type": "error",
     "traceback": [
      "\u001b[0;31m---------------------------------------------------------------------------\u001b[0m",
      "\u001b[0;31mNameError\u001b[0m                                 Traceback (most recent call last)",
      "\u001b[0;32m<ipython-input-4-f09d4c804e12>\u001b[0m in \u001b[0;36m<module>\u001b[0;34m\u001b[0m\n\u001b[0;32m----> 1\u001b[0;31m \u001b[0mdataset\u001b[0m \u001b[0;34m=\u001b[0m \u001b[0mn_dataset\u001b[0m\u001b[0;34m\u001b[0m\u001b[0;34m\u001b[0m\u001b[0m\n\u001b[0m\u001b[1;32m      2\u001b[0m \u001b[0mdataset\u001b[0m\u001b[0;34m\u001b[0m\u001b[0;34m\u001b[0m\u001b[0m\n",
      "\u001b[0;31mNameError\u001b[0m: name 'n_dataset' is not defined"
     ]
    }
   ],
   "source": [
    "dataset = n_dataset\n",
    "dataset"
   ]
  },
  {
   "cell_type": "code",
   "execution_count": 5,
   "metadata": {},
   "outputs": [
    {
     "ename": "NameError",
     "evalue": "name 'dataset' is not defined",
     "output_type": "error",
     "traceback": [
      "\u001b[0;31m---------------------------------------------------------------------------\u001b[0m",
      "\u001b[0;31mNameError\u001b[0m                                 Traceback (most recent call last)",
      "\u001b[0;32m<ipython-input-5-3ded4c85834d>\u001b[0m in \u001b[0;36m<module>\u001b[0;34m\u001b[0m\n\u001b[0;32m----> 1\u001b[0;31m \u001b[0mdataset\u001b[0m\u001b[0;34m.\u001b[0m\u001b[0mdescribe\u001b[0m\u001b[0;34m(\u001b[0m\u001b[0;34m)\u001b[0m\u001b[0;34m\u001b[0m\u001b[0;34m\u001b[0m\u001b[0m\n\u001b[0m",
      "\u001b[0;31mNameError\u001b[0m: name 'dataset' is not defined"
     ]
    }
   ],
   "source": [
    "dataset.describe()"
   ]
  },
  {
   "cell_type": "markdown",
   "metadata": {},
   "source": [
    "## Créé le fichier .csv du jeu de données"
   ]
  },
  {
   "cell_type": "code",
   "execution_count": 14,
   "metadata": {},
   "outputs": [],
   "source": [
    "dataset.to_csv(full_file_path, index=None, header=True)"
   ]
  },
  {
   "cell_type": "code",
   "execution_count": null,
   "metadata": {},
   "outputs": [],
   "source": []
  }
 ],
 "metadata": {
  "kernelspec": {
   "display_name": "Python 3",
   "language": "python",
   "name": "python3"
  },
  "language_info": {
   "codemirror_mode": {
    "name": "ipython",
    "version": 3
   },
   "file_extension": ".py",
   "mimetype": "text/x-python",
   "name": "python",
   "nbconvert_exporter": "python",
   "pygments_lexer": "ipython3",
   "version": "3.7.3"
  }
 },
 "nbformat": 4,
 "nbformat_minor": 2
}
