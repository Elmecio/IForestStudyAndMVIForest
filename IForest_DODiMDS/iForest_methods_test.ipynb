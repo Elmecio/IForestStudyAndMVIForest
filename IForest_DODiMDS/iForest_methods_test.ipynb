{
 "cells": [
  {
   "cell_type": "markdown",
   "metadata": {},
   "source": [
    "## Test with 1 dimension dataset"
   ]
  },
  {
   "cell_type": "code",
   "execution_count": 1,
   "metadata": {},
   "outputs": [],
   "source": [
    "import sys\n",
    "import numpy as np\n",
    "import pandas as pd\n",
    "from time import time\n",
    "from sklearn.ensemble import IsolationForest\n",
    "from sklearn.metrics import confusion_matrix\n",
    "import iforest_D as IFD\n",
    "import iForest_mean as IFMean\n",
    "sys.path.append('../')\n",
    "#sys.path.insert(0, '/datasets')\n",
    "from datasets import datasets as datat\n",
    "import eif # Need to install eif from pypi first : pip install eif"
   ]
  },
  {
   "cell_type": "markdown",
   "metadata": {},
   "source": [
    "## Generals settings"
   ]
  },
  {
   "cell_type": "code",
   "execution_count": 2,
   "metadata": {},
   "outputs": [],
   "source": [
    "max_samples = 256\n",
    "n_trees = 100\n",
    "threshold = 0.6\n",
    "\n",
    "contamination = 0.1"
   ]
  },
  {
   "cell_type": "markdown",
   "metadata": {},
   "source": [
    "## Chargement du jeu de données"
   ]
  },
  {
   "cell_type": "code",
   "execution_count": 3,
   "metadata": {},
   "outputs": [
    {
     "name": "stdout",
     "output_type": "stream",
     "text": [
      "Columns number = 2\n"
     ]
    },
    {
     "data": {
      "text/html": [
       "<div>\n",
       "<style scoped>\n",
       "    .dataframe tbody tr th:only-of-type {\n",
       "        vertical-align: middle;\n",
       "    }\n",
       "\n",
       "    .dataframe tbody tr th {\n",
       "        vertical-align: top;\n",
       "    }\n",
       "\n",
       "    .dataframe thead th {\n",
       "        text-align: right;\n",
       "    }\n",
       "</style>\n",
       "<table border=\"1\" class=\"dataframe\">\n",
       "  <thead>\n",
       "    <tr style=\"text-align: right;\">\n",
       "      <th></th>\n",
       "      <th>0</th>\n",
       "    </tr>\n",
       "  </thead>\n",
       "  <tbody>\n",
       "    <tr>\n",
       "      <td>count</td>\n",
       "      <td>1516.000000</td>\n",
       "    </tr>\n",
       "    <tr>\n",
       "      <td>mean</td>\n",
       "      <td>0.032098</td>\n",
       "    </tr>\n",
       "    <tr>\n",
       "      <td>std</td>\n",
       "      <td>1.107025</td>\n",
       "    </tr>\n",
       "    <tr>\n",
       "      <td>min</td>\n",
       "      <td>-3.334118</td>\n",
       "    </tr>\n",
       "    <tr>\n",
       "      <td>25%</td>\n",
       "      <td>-0.692580</td>\n",
       "    </tr>\n",
       "    <tr>\n",
       "      <td>50%</td>\n",
       "      <td>-0.034028</td>\n",
       "    </tr>\n",
       "    <tr>\n",
       "      <td>75%</td>\n",
       "      <td>0.649778</td>\n",
       "    </tr>\n",
       "    <tr>\n",
       "      <td>max</td>\n",
       "      <td>6.867883</td>\n",
       "    </tr>\n",
       "  </tbody>\n",
       "</table>\n",
       "</div>"
      ],
      "text/plain": [
       "                 0\n",
       "count  1516.000000\n",
       "mean      0.032098\n",
       "std       1.107025\n",
       "min      -3.334118\n",
       "25%      -0.692580\n",
       "50%      -0.034028\n",
       "75%       0.649778\n",
       "max       6.867883"
      ]
     },
     "execution_count": 3,
     "metadata": {},
     "output_type": "execute_result"
    }
   ],
   "source": [
    "dts = datat.synthetic_datasets()\n",
    "#X_brut, y_transform = dts.OneD_V1_0()\n",
    "X_brut, y_transform, fulldataset = dts.OneD_V1_1()\n",
    "#X_brut, y_transform, fulldataset = dts.OneD_V2()\n",
    "#X_brut, y_transform, fulldataset = dts.TwoD_V1_0()\n",
    "#X_brut, y_transform, fulldataset = dts.TwoD_V1_1()\n",
    "#X_brut, y_transform, fulldataset= dts.TwoD_V2()\n",
    "X_brut.describe()"
   ]
  },
  {
   "cell_type": "code",
   "execution_count": 4,
   "metadata": {},
   "outputs": [
    {
     "name": "stdout",
     "output_type": "stream",
     "text": [
      "<class 'pandas.core.frame.DataFrame'>\n",
      "RangeIndex: 1516 entries, 0 to 1515\n",
      "Data columns (total 1 columns):\n",
      "0    1516 non-null float64\n",
      "dtypes: float64(1)\n",
      "memory usage: 12.0 KB\n"
     ]
    }
   ],
   "source": [
    "X_brut.info()"
   ]
  },
  {
   "cell_type": "markdown",
   "metadata": {},
   "source": [
    "## Execution of scikit learn IForest on the dataset"
   ]
  },
  {
   "cell_type": "code",
   "execution_count": 5,
   "metadata": {},
   "outputs": [
    {
     "name": "stderr",
     "output_type": "stream",
     "text": [
      "/opt/anaconda3/lib/python3.7/site-packages/sklearn/ensemble/_iforest.py:248: FutureWarning: 'behaviour' is deprecated in 0.22 and will be removed in 0.24. You should not pass or set this parameter.\n",
      "  FutureWarning\n"
     ]
    },
    {
     "name": "stdout",
     "output_type": "stream",
     "text": [
      "Scikit learn IForest Confusion matrice\n",
      "[[  15    0]\n",
      " [ 137 1364]]\n"
     ]
    }
   ],
   "source": [
    "func_skIF = IsolationForest(max_samples=max_samples, n_estimators=n_trees, contamination=contamination, behaviour=\"new\")\n",
    "func_skIF.fit(X_brut)\n",
    "func_skIF_y_pred_IF = func_skIF.predict(X=X_brut)\n",
    "# Matrice de confusion\n",
    "print(\"Scikit learn IForest Confusion matrice\")\n",
    "#ttn, tfp, tfn, ttp = confusion_matrix(y_transform_Shuttle, MS_y_pred_IF_Shuttle).ravel()\n",
    "print(confusion_matrix(y_transform, func_skIF_y_pred_IF))"
   ]
  },
  {
   "cell_type": "markdown",
   "metadata": {},
   "source": [
    "## Test avec LOF"
   ]
  },
  {
   "cell_type": "code",
   "execution_count": 6,
   "metadata": {},
   "outputs": [
    {
     "name": "stdout",
     "output_type": "stream",
     "text": [
      "[[  15    0]\n",
      " [   7 1494]]\n"
     ]
    }
   ],
   "source": [
    "from sklearn.neighbors import LocalOutlierFactor\n",
    "# Instanciation, fit and predict on Shuttle\n",
    "func_LOF = LocalOutlierFactor(novelty = True)\n",
    "func_LOF.fit(X_brut)\n",
    "y_pred_LOF = func_LOF.predict(X_brut)\n",
    "\n",
    "# Matrice de confusion\n",
    "#ttn, tfp, tfn, ttp = confusion_matrix(y_transform_Shuttle, MS_y_pred_IF_Shuttle).ravel()\n",
    "print(confusion_matrix(y_transform, y_pred_LOF))"
   ]
  },
  {
   "cell_type": "markdown",
   "metadata": {},
   "source": [
    "## Execution of IForest_D on the dataset"
   ]
  },
  {
   "cell_type": "code",
   "execution_count": 7,
   "metadata": {},
   "outputs": [
    {
     "name": "stdout",
     "output_type": "stream",
     "text": [
      "IForest_D Confusion matrice\n",
      "[[  15    0]\n",
      " [ 103 1398]]\n"
     ]
    }
   ],
   "source": [
    "func_IFD = IFD.IsolationForest(sample_size = max_samples, n_trees=n_trees)\n",
    "func_IFD.fit(X_brut)\n",
    "IFD_y_pred_IF, IFD_y_scores_IF = func_IFD.predict(X=X_brut, threshold=threshold)\n",
    "# Matrice de confusion\n",
    "print(\"IForest_D Confusion matrice\")\n",
    "#ttn, tfp, tfn, ttp = confusion_matrix(y_transform_Shuttle, MS_y_pred_IF_Shuttle).ravel()\n",
    "print(confusion_matrix(y_transform, IFD_y_pred_IF))"
   ]
  },
  {
   "cell_type": "markdown",
   "metadata": {},
   "source": [
    "## Execution of IForest_Mean on the dataset"
   ]
  },
  {
   "cell_type": "code",
   "execution_count": 8,
   "metadata": {},
   "outputs": [
    {
     "name": "stdout",
     "output_type": "stream",
     "text": [
      "IForest_D Confusion matrice\n",
      "[[  15    0]\n",
      " [1501    0]]\n"
     ]
    }
   ],
   "source": [
    "func_IFMean = IFMean.IsolationForest(sample_size = max_samples, n_trees=n_trees)\n",
    "func_IFMean.fit(X_brut)\n",
    "IFMean_y_pred_IF = func_IFMean.predict(X=X_brut, threshold=threshold)\n",
    "# Matrice de confusion\n",
    "print(\"IForest_D Confusion matrice\")\n",
    "#ttn, tfp, tfn, ttp = confusion_matrix(y_transform_Shuttle, MS_y_pred_IF_Shuttle).ravel()\n",
    "print(confusion_matrix(y_transform, IFMean_y_pred_IF))"
   ]
  },
  {
   "cell_type": "markdown",
   "metadata": {},
   "source": [
    "### Execution Of EIF on dataset\n",
    "\n",
    "EIF don't work for One dimensionnal dataset, try to see if it is cause of EIF implementation on Pypi or cause of EIF principle"
   ]
  },
  {
   "cell_type": "code",
   "execution_count": 13,
   "metadata": {},
   "outputs": [],
   "source": [
    "X_brut_numpy = X_brut.to_numpy()"
   ]
  },
  {
   "cell_type": "markdown",
   "metadata": {},
   "source": [
    "#### Extented 1"
   ]
  },
  {
   "cell_type": "code",
   "execution_count": 14,
   "metadata": {},
   "outputs": [
    {
     "name": "stdout",
     "output_type": "stream",
     "text": [
      "[[  15    0]\n",
      " [  63 1438]]\n"
     ]
    }
   ],
   "source": [
    "F0  = eif.iForest(X_brut_numpy, ntrees=n_trees, sample_size=max_samples, ExtensionLevel=0)\n",
    "S0 = F0.compute_paths(X_in=X_brut_numpy)\n",
    "P0 = np.where(S0>=threshold,-1,1)\n",
    "\n",
    "# Matrice de confusion\n",
    "#ttn, tfp, tfn, ttp = confusion_matrix(y_transform_Shuttle, MS_y_pred_IF_Shuttle).ravel()\n",
    "print(confusion_matrix(y_transform, P0))"
   ]
  },
  {
   "cell_type": "markdown",
   "metadata": {},
   "source": [
    "#### Extented 2"
   ]
  },
  {
   "cell_type": "code",
   "execution_count": null,
   "metadata": {},
   "outputs": [],
   "source": [
    "F1  = eif.iForest(X_brut_numpy, ntrees=n_trees, sample_size=max_samples, ExtensionLevel=1)\n",
    "S1 = F1.compute_paths(X_in=X_brut_numpy)\n",
    "P1 = np.where(S1>=threshold,-1,1)\n",
    "\n",
    "# Matrice de confusion\n",
    "#ttn, tfp, tfn, ttp = confusion_matrix(y_transform_Shuttle, MS_y_pred_IF_Shuttle).ravel()\n",
    "print(confusion_matrix(y_transform, P1))"
   ]
  },
  {
   "cell_type": "code",
   "execution_count": null,
   "metadata": {},
   "outputs": [],
   "source": [
    "import random\n",
    "min_x = -0.45\n",
    "max_x =  1\n",
    "min_x + random.betavariate(0.5, 0.5) * (max_x - min_x)"
   ]
  },
  {
   "cell_type": "code",
   "execution_count": null,
   "metadata": {},
   "outputs": [],
   "source": [
    "random.uniform(min_x, max_x)"
   ]
  },
  {
   "cell_type": "code",
   "execution_count": null,
   "metadata": {},
   "outputs": [],
   "source": [
    "P1.mean()"
   ]
  },
  {
   "cell_type": "code",
   "execution_count": null,
   "metadata": {},
   "outputs": [],
   "source": []
  }
 ],
 "metadata": {
  "kernelspec": {
   "display_name": "Python 3",
   "language": "python",
   "name": "python3"
  },
  "language_info": {
   "codemirror_mode": {
    "name": "ipython",
    "version": 3
   },
   "file_extension": ".py",
   "mimetype": "text/x-python",
   "name": "python",
   "nbconvert_exporter": "python",
   "pygments_lexer": "ipython3",
   "version": "3.7.4"
  }
 },
 "nbformat": 4,
 "nbformat_minor": 2
}
